{
 "cells": [
  {
   "cell_type": "code",
   "execution_count": 76,
   "metadata": {},
   "outputs": [],
   "source": [
    "import pandas as pd\n",
    "metro = 'CPT'\n",
    "\n",
    "def filterCleanCPT(path, var ='FTE', municipality='CPT'):\n",
    "    df = pd.read_csv(path)\n",
    "    df = df[df.CAT_B == 'CPT']\n",
    "    df[var] = df[var].str.replace('<10','0').astype('float')\n",
    "    return df\n",
    "\n",
    "\n",
    "\n",
    "years = 1\n",
    "group = \"SIC7_1d\"\n",
    "var = 'FTE'\n",
    "def checkFTEGrowth(years=1,group='SIC7_1d',var='FTE'):\n",
    "    sectors = filterCleanCPT('Data/Municipal_FTE_Industry5d.csv')\n",
    "    change = []\n",
    "    df = sectors.groupby([group,'TaxYear'])[var].sum().reset_index()\n",
    "    for sector in sectors[group].unique():\n",
    "        diffDf = pd.DataFrame(df[df[group]==sector].sort_values('TaxYear')['FTE'].diff(years))\n",
    "        diffDf.columns = [var+'_delta']\n",
    "        diffDf['pct_change'] = pd.DataFrame(df[df[group]==sector].sort_values('TaxYear')['FTE'].pct_change())\n",
    "        diffDf[\"TaxYear\"]  = sorted(sectors.TaxYear.unique())\n",
    "        diffDf[group] = sector\n",
    "        change.append(diffDf)\n",
    "\n",
    "    change = pd.concat(change,axis=0).set_index(['TaxYear','SIC7_1d'])\n",
    "    df.set_index(['TaxYear','SIC7_1d'],inplace=True)\n",
    "    change = pd.merge(df,change,left_index=True,right_index=True).reset_index()\n",
    "    key  = pd.read_csv('keys/key1d.csv')\n",
    "    change = pd.merge(change,key, right_on=\"sic7_1d_numeric\",left_on=\"SIC7_1d\")\n",
    "    return change[change['TaxYear'] == 2022].sort_values('FTE_delta')"
   ]
  },
  {
   "cell_type": "code",
   "execution_count": 238,
   "metadata": {},
   "outputs": [
    {
     "data": {
      "text/html": [
       "<div>\n",
       "<style scoped>\n",
       "    .dataframe tbody tr th:only-of-type {\n",
       "        vertical-align: middle;\n",
       "    }\n",
       "\n",
       "    .dataframe tbody tr th {\n",
       "        vertical-align: top;\n",
       "    }\n",
       "\n",
       "    .dataframe thead th {\n",
       "        text-align: right;\n",
       "    }\n",
       "</style>\n",
       "<table border=\"1\" class=\"dataframe\">\n",
       "  <thead>\n",
       "    <tr style=\"text-align: right;\">\n",
       "      <th></th>\n",
       "      <th>CAT_B</th>\n",
       "      <th>TaxYear</th>\n",
       "      <th>FTE</th>\n",
       "    </tr>\n",
       "  </thead>\n",
       "  <tbody>\n",
       "    <tr>\n",
       "      <th>0</th>\n",
       "      <td>BUF</td>\n",
       "      <td>2014</td>\n",
       "      <td>132709.982658</td>\n",
       "    </tr>\n",
       "    <tr>\n",
       "      <th>1</th>\n",
       "      <td>BUF</td>\n",
       "      <td>2015</td>\n",
       "      <td>136314.045785</td>\n",
       "    </tr>\n",
       "    <tr>\n",
       "      <th>2</th>\n",
       "      <td>BUF</td>\n",
       "      <td>2016</td>\n",
       "      <td>138722.325202</td>\n",
       "    </tr>\n",
       "    <tr>\n",
       "      <th>3</th>\n",
       "      <td>BUF</td>\n",
       "      <td>2017</td>\n",
       "      <td>136626.290824</td>\n",
       "    </tr>\n",
       "    <tr>\n",
       "      <th>4</th>\n",
       "      <td>BUF</td>\n",
       "      <td>2018</td>\n",
       "      <td>140413.467010</td>\n",
       "    </tr>\n",
       "    <tr>\n",
       "      <th>...</th>\n",
       "      <td>...</td>\n",
       "      <td>...</td>\n",
       "      <td>...</td>\n",
       "    </tr>\n",
       "    <tr>\n",
       "      <th>1912</th>\n",
       "      <td>WC053</td>\n",
       "      <td>2018</td>\n",
       "      <td>3805.622368</td>\n",
       "    </tr>\n",
       "    <tr>\n",
       "      <th>1913</th>\n",
       "      <td>WC053</td>\n",
       "      <td>2019</td>\n",
       "      <td>4053.842104</td>\n",
       "    </tr>\n",
       "    <tr>\n",
       "      <th>1914</th>\n",
       "      <td>WC053</td>\n",
       "      <td>2020</td>\n",
       "      <td>4018.521263</td>\n",
       "    </tr>\n",
       "    <tr>\n",
       "      <th>1915</th>\n",
       "      <td>WC053</td>\n",
       "      <td>2021</td>\n",
       "      <td>3909.854493</td>\n",
       "    </tr>\n",
       "    <tr>\n",
       "      <th>1916</th>\n",
       "      <td>WC053</td>\n",
       "      <td>2022</td>\n",
       "      <td>3951.699536</td>\n",
       "    </tr>\n",
       "  </tbody>\n",
       "</table>\n",
       "<p>1917 rows × 3 columns</p>\n",
       "</div>"
      ],
      "text/plain": [
       "      CAT_B  TaxYear            FTE\n",
       "0       BUF     2014  132709.982658\n",
       "1       BUF     2015  136314.045785\n",
       "2       BUF     2016  138722.325202\n",
       "3       BUF     2017  136626.290824\n",
       "4       BUF     2018  140413.467010\n",
       "...     ...      ...            ...\n",
       "1912  WC053     2018    3805.622368\n",
       "1913  WC053     2019    4053.842104\n",
       "1914  WC053     2020    4018.521263\n",
       "1915  WC053     2021    3909.854493\n",
       "1916  WC053     2022    3951.699536\n",
       "\n",
       "[1917 rows x 3 columns]"
      ]
     },
     "execution_count": 238,
     "metadata": {},
     "output_type": "execute_result"
    }
   ],
   "source": [
    "pd.read_csv('Data/Municipal_FTE.csv')\n"
   ]
  },
  {
   "cell_type": "code",
   "execution_count": 77,
   "metadata": {},
   "outputs": [
    {
     "name": "stdout",
     "output_type": "stream",
     "text": [
      "2 Year growth from Feb 2021 to Feb 2022\n",
      "FTE          1364112.1001\n",
      "FTE_delta    -5292.255625\n",
      "dtype: object\n"
     ]
    },
    {
     "data": {
      "text/html": [
       "<div>\n",
       "<style scoped>\n",
       "    .dataframe tbody tr th:only-of-type {\n",
       "        vertical-align: middle;\n",
       "    }\n",
       "\n",
       "    .dataframe tbody tr th {\n",
       "        vertical-align: top;\n",
       "    }\n",
       "\n",
       "    .dataframe thead th {\n",
       "        text-align: right;\n",
       "    }\n",
       "</style>\n",
       "<table border=\"1\" class=\"dataframe\">\n",
       "  <thead>\n",
       "    <tr style=\"text-align: right;\">\n",
       "      <th></th>\n",
       "      <th>TaxYear</th>\n",
       "      <th>SIC7_1d</th>\n",
       "      <th>FTE</th>\n",
       "      <th>FTE_delta</th>\n",
       "      <th>pct_change</th>\n",
       "      <th>sic7_1d_numeric</th>\n",
       "      <th>sic7_1d</th>\n",
       "    </tr>\n",
       "  </thead>\n",
       "  <tbody>\n",
       "    <tr>\n",
       "      <th>80</th>\n",
       "      <td>2022</td>\n",
       "      <td>9.0</td>\n",
       "      <td>53823.551728</td>\n",
       "      <td>-5779.828571</td>\n",
       "      <td>-0.096971</td>\n",
       "      <td>9</td>\n",
       "      <td>Accommodation</td>\n",
       "    </tr>\n",
       "    <tr>\n",
       "      <th>26</th>\n",
       "      <td>2022</td>\n",
       "      <td>3.0</td>\n",
       "      <td>144151.828760</td>\n",
       "      <td>-4998.129865</td>\n",
       "      <td>-0.033511</td>\n",
       "      <td>3</td>\n",
       "      <td>Manufacturing</td>\n",
       "    </tr>\n",
       "    <tr>\n",
       "      <th>53</th>\n",
       "      <td>2022</td>\n",
       "      <td>6.0</td>\n",
       "      <td>48260.949528</td>\n",
       "      <td>-4574.617473</td>\n",
       "      <td>-0.086582</td>\n",
       "      <td>6</td>\n",
       "      <td>Construction</td>\n",
       "    </tr>\n",
       "    <tr>\n",
       "      <th>125</th>\n",
       "      <td>2022</td>\n",
       "      <td>14.0</td>\n",
       "      <td>117893.149077</td>\n",
       "      <td>-2544.798779</td>\n",
       "      <td>-0.021130</td>\n",
       "      <td>14</td>\n",
       "      <td>Administration</td>\n",
       "    </tr>\n",
       "    <tr>\n",
       "      <th>188</th>\n",
       "      <td>2022</td>\n",
       "      <td>21.0</td>\n",
       "      <td>3571.027297</td>\n",
       "      <td>-1989.478687</td>\n",
       "      <td>-0.357787</td>\n",
       "      <td>21</td>\n",
       "      <td>Organizations</td>\n",
       "    </tr>\n",
       "    <tr>\n",
       "      <th>8</th>\n",
       "      <td>2022</td>\n",
       "      <td>1.0</td>\n",
       "      <td>23185.875945</td>\n",
       "      <td>-1410.784896</td>\n",
       "      <td>-0.057357</td>\n",
       "      <td>1</td>\n",
       "      <td>Agriculture</td>\n",
       "    </tr>\n",
       "    <tr>\n",
       "      <th>89</th>\n",
       "      <td>2022</td>\n",
       "      <td>10.0</td>\n",
       "      <td>50132.727257</td>\n",
       "      <td>-820.532995</td>\n",
       "      <td>-0.016104</td>\n",
       "      <td>10</td>\n",
       "      <td>IT</td>\n",
       "    </tr>\n",
       "    <tr>\n",
       "      <th>161</th>\n",
       "      <td>2022</td>\n",
       "      <td>18.0</td>\n",
       "      <td>18760.620104</td>\n",
       "      <td>-385.180959</td>\n",
       "      <td>-0.020118</td>\n",
       "      <td>18</td>\n",
       "      <td>Arts</td>\n",
       "    </tr>\n",
       "    <tr>\n",
       "      <th>44</th>\n",
       "      <td>2022</td>\n",
       "      <td>5.0</td>\n",
       "      <td>4252.804891</td>\n",
       "      <td>-168.010143</td>\n",
       "      <td>-0.038004</td>\n",
       "      <td>5</td>\n",
       "      <td>Water supply</td>\n",
       "    </tr>\n",
       "    <tr>\n",
       "      <th>17</th>\n",
       "      <td>2022</td>\n",
       "      <td>2.0</td>\n",
       "      <td>3074.637073</td>\n",
       "      <td>-120.344174</td>\n",
       "      <td>-0.037667</td>\n",
       "      <td>2</td>\n",
       "      <td>Mining</td>\n",
       "    </tr>\n",
       "    <tr>\n",
       "      <th>35</th>\n",
       "      <td>2022</td>\n",
       "      <td>4.0</td>\n",
       "      <td>4426.448156</td>\n",
       "      <td>-35.733641</td>\n",
       "      <td>-0.008008</td>\n",
       "      <td>4</td>\n",
       "      <td>Electricity</td>\n",
       "    </tr>\n",
       "    <tr>\n",
       "      <th>179</th>\n",
       "      <td>2022</td>\n",
       "      <td>20.0</td>\n",
       "      <td>1028.189295</td>\n",
       "      <td>72.121593</td>\n",
       "      <td>0.075436</td>\n",
       "      <td>20</td>\n",
       "      <td>Households</td>\n",
       "    </tr>\n",
       "    <tr>\n",
       "      <th>71</th>\n",
       "      <td>2022</td>\n",
       "      <td>8.0</td>\n",
       "      <td>41384.484163</td>\n",
       "      <td>166.509363</td>\n",
       "      <td>0.004040</td>\n",
       "      <td>8</td>\n",
       "      <td>Transportation</td>\n",
       "    </tr>\n",
       "    <tr>\n",
       "      <th>116</th>\n",
       "      <td>2022</td>\n",
       "      <td>13.0</td>\n",
       "      <td>57562.902031</td>\n",
       "      <td>269.247188</td>\n",
       "      <td>0.004699</td>\n",
       "      <td>13</td>\n",
       "      <td>Scientific</td>\n",
       "    </tr>\n",
       "    <tr>\n",
       "      <th>107</th>\n",
       "      <td>2022</td>\n",
       "      <td>12.0</td>\n",
       "      <td>14157.885738</td>\n",
       "      <td>476.837316</td>\n",
       "      <td>0.034854</td>\n",
       "      <td>12</td>\n",
       "      <td>Real estate</td>\n",
       "    </tr>\n",
       "    <tr>\n",
       "      <th>152</th>\n",
       "      <td>2022</td>\n",
       "      <td>17.0</td>\n",
       "      <td>62645.173018</td>\n",
       "      <td>1301.920844</td>\n",
       "      <td>0.021224</td>\n",
       "      <td>17</td>\n",
       "      <td>Health</td>\n",
       "    </tr>\n",
       "    <tr>\n",
       "      <th>170</th>\n",
       "      <td>2022</td>\n",
       "      <td>19.0</td>\n",
       "      <td>49072.720894</td>\n",
       "      <td>1323.073398</td>\n",
       "      <td>0.027709</td>\n",
       "      <td>19</td>\n",
       "      <td>Other services</td>\n",
       "    </tr>\n",
       "    <tr>\n",
       "      <th>98</th>\n",
       "      <td>2022</td>\n",
       "      <td>11.0</td>\n",
       "      <td>95740.335564</td>\n",
       "      <td>1861.581921</td>\n",
       "      <td>0.019830</td>\n",
       "      <td>11</td>\n",
       "      <td>Financial</td>\n",
       "    </tr>\n",
       "    <tr>\n",
       "      <th>134</th>\n",
       "      <td>2022</td>\n",
       "      <td>15.0</td>\n",
       "      <td>146896.315582</td>\n",
       "      <td>2409.701276</td>\n",
       "      <td>0.016678</td>\n",
       "      <td>15</td>\n",
       "      <td>Public administration</td>\n",
       "    </tr>\n",
       "    <tr>\n",
       "      <th>62</th>\n",
       "      <td>2022</td>\n",
       "      <td>7.0</td>\n",
       "      <td>362316.179016</td>\n",
       "      <td>4743.163232</td>\n",
       "      <td>0.013265</td>\n",
       "      <td>7</td>\n",
       "      <td>Retail &amp; Repairs</td>\n",
       "    </tr>\n",
       "    <tr>\n",
       "      <th>143</th>\n",
       "      <td>2022</td>\n",
       "      <td>16.0</td>\n",
       "      <td>61774.294981</td>\n",
       "      <td>4911.028428</td>\n",
       "      <td>0.086366</td>\n",
       "      <td>16</td>\n",
       "      <td>Education</td>\n",
       "    </tr>\n",
       "  </tbody>\n",
       "</table>\n",
       "</div>"
      ],
      "text/plain": [
       "     TaxYear  SIC7_1d            FTE    FTE_delta  pct_change  \\\n",
       "80      2022      9.0   53823.551728 -5779.828571   -0.096971   \n",
       "26      2022      3.0  144151.828760 -4998.129865   -0.033511   \n",
       "53      2022      6.0   48260.949528 -4574.617473   -0.086582   \n",
       "125     2022     14.0  117893.149077 -2544.798779   -0.021130   \n",
       "188     2022     21.0    3571.027297 -1989.478687   -0.357787   \n",
       "8       2022      1.0   23185.875945 -1410.784896   -0.057357   \n",
       "89      2022     10.0   50132.727257  -820.532995   -0.016104   \n",
       "161     2022     18.0   18760.620104  -385.180959   -0.020118   \n",
       "44      2022      5.0    4252.804891  -168.010143   -0.038004   \n",
       "17      2022      2.0    3074.637073  -120.344174   -0.037667   \n",
       "35      2022      4.0    4426.448156   -35.733641   -0.008008   \n",
       "179     2022     20.0    1028.189295    72.121593    0.075436   \n",
       "71      2022      8.0   41384.484163   166.509363    0.004040   \n",
       "116     2022     13.0   57562.902031   269.247188    0.004699   \n",
       "107     2022     12.0   14157.885738   476.837316    0.034854   \n",
       "152     2022     17.0   62645.173018  1301.920844    0.021224   \n",
       "170     2022     19.0   49072.720894  1323.073398    0.027709   \n",
       "98      2022     11.0   95740.335564  1861.581921    0.019830   \n",
       "134     2022     15.0  146896.315582  2409.701276    0.016678   \n",
       "62      2022      7.0  362316.179016  4743.163232    0.013265   \n",
       "143     2022     16.0   61774.294981  4911.028428    0.086366   \n",
       "\n",
       "     sic7_1d_numeric                sic7_1d  \n",
       "80                 9          Accommodation  \n",
       "26                 3          Manufacturing  \n",
       "53                 6           Construction  \n",
       "125               14         Administration  \n",
       "188               21          Organizations  \n",
       "8                  1            Agriculture  \n",
       "89                10                     IT  \n",
       "161               18                   Arts  \n",
       "44                 5           Water supply  \n",
       "17                 2                 Mining  \n",
       "35                 4            Electricity  \n",
       "179               20             Households  \n",
       "71                 8         Transportation  \n",
       "116               13             Scientific  \n",
       "107               12            Real estate  \n",
       "152               17                 Health  \n",
       "170               19         Other services  \n",
       "98                11              Financial  \n",
       "134               15  Public administration  \n",
       "62                 7       Retail & Repairs  \n",
       "143               16              Education  "
      ]
     },
     "execution_count": 77,
     "metadata": {},
     "output_type": "execute_result"
    }
   ],
   "source": [
    "print(\"2 Year growth from Feb 2021 to Feb 2022\")\n",
    "print(checkFTEGrowth(years=1,group='SIC7_1d',var='FTE').sum().loc[['FTE','FTE_delta']])\n",
    "checkFTEGrowth(years=1,group='SIC7_1d',var='FTE')"
   ]
  },
  {
   "cell_type": "code",
   "execution_count": 78,
   "metadata": {},
   "outputs": [
    {
     "name": "stdout",
     "output_type": "stream",
     "text": [
      "2 Year growth from Feb 2020 to Feb 2022\n",
      "FTE          1364112.1001\n",
      "FTE_delta   -56966.581829\n",
      "dtype: object\n"
     ]
    },
    {
     "data": {
      "text/html": [
       "<div>\n",
       "<style scoped>\n",
       "    .dataframe tbody tr th:only-of-type {\n",
       "        vertical-align: middle;\n",
       "    }\n",
       "\n",
       "    .dataframe tbody tr th {\n",
       "        vertical-align: top;\n",
       "    }\n",
       "\n",
       "    .dataframe thead th {\n",
       "        text-align: right;\n",
       "    }\n",
       "</style>\n",
       "<table border=\"1\" class=\"dataframe\">\n",
       "  <thead>\n",
       "    <tr style=\"text-align: right;\">\n",
       "      <th></th>\n",
       "      <th>TaxYear</th>\n",
       "      <th>SIC7_1d</th>\n",
       "      <th>FTE</th>\n",
       "      <th>FTE_delta</th>\n",
       "      <th>pct_change</th>\n",
       "      <th>sic7_1d_numeric</th>\n",
       "      <th>sic7_1d</th>\n",
       "    </tr>\n",
       "  </thead>\n",
       "  <tbody>\n",
       "    <tr>\n",
       "      <th>62</th>\n",
       "      <td>2022</td>\n",
       "      <td>7.0</td>\n",
       "      <td>362316.179016</td>\n",
       "      <td>-15630.978770</td>\n",
       "      <td>0.013265</td>\n",
       "      <td>7</td>\n",
       "      <td>Retail &amp; Repairs</td>\n",
       "    </tr>\n",
       "    <tr>\n",
       "      <th>26</th>\n",
       "      <td>2022</td>\n",
       "      <td>3.0</td>\n",
       "      <td>144151.828760</td>\n",
       "      <td>-15003.153582</td>\n",
       "      <td>-0.033511</td>\n",
       "      <td>3</td>\n",
       "      <td>Manufacturing</td>\n",
       "    </tr>\n",
       "    <tr>\n",
       "      <th>80</th>\n",
       "      <td>2022</td>\n",
       "      <td>9.0</td>\n",
       "      <td>53823.551728</td>\n",
       "      <td>-11733.791152</td>\n",
       "      <td>-0.096971</td>\n",
       "      <td>9</td>\n",
       "      <td>Accommodation</td>\n",
       "    </tr>\n",
       "    <tr>\n",
       "      <th>53</th>\n",
       "      <td>2022</td>\n",
       "      <td>6.0</td>\n",
       "      <td>48260.949528</td>\n",
       "      <td>-10507.716872</td>\n",
       "      <td>-0.086582</td>\n",
       "      <td>6</td>\n",
       "      <td>Construction</td>\n",
       "    </tr>\n",
       "    <tr>\n",
       "      <th>89</th>\n",
       "      <td>2022</td>\n",
       "      <td>10.0</td>\n",
       "      <td>50132.727257</td>\n",
       "      <td>-6345.559435</td>\n",
       "      <td>-0.016104</td>\n",
       "      <td>10</td>\n",
       "      <td>IT</td>\n",
       "    </tr>\n",
       "    <tr>\n",
       "      <th>161</th>\n",
       "      <td>2022</td>\n",
       "      <td>18.0</td>\n",
       "      <td>18760.620104</td>\n",
       "      <td>-4416.065344</td>\n",
       "      <td>-0.020118</td>\n",
       "      <td>18</td>\n",
       "      <td>Arts</td>\n",
       "    </tr>\n",
       "    <tr>\n",
       "      <th>188</th>\n",
       "      <td>2022</td>\n",
       "      <td>21.0</td>\n",
       "      <td>3571.027297</td>\n",
       "      <td>-3930.975243</td>\n",
       "      <td>-0.357787</td>\n",
       "      <td>21</td>\n",
       "      <td>Organizations</td>\n",
       "    </tr>\n",
       "    <tr>\n",
       "      <th>116</th>\n",
       "      <td>2022</td>\n",
       "      <td>13.0</td>\n",
       "      <td>57562.902031</td>\n",
       "      <td>-2020.585985</td>\n",
       "      <td>0.004699</td>\n",
       "      <td>13</td>\n",
       "      <td>Scientific</td>\n",
       "    </tr>\n",
       "    <tr>\n",
       "      <th>71</th>\n",
       "      <td>2022</td>\n",
       "      <td>8.0</td>\n",
       "      <td>41384.484163</td>\n",
       "      <td>-1718.959259</td>\n",
       "      <td>0.004040</td>\n",
       "      <td>8</td>\n",
       "      <td>Transportation</td>\n",
       "    </tr>\n",
       "    <tr>\n",
       "      <th>17</th>\n",
       "      <td>2022</td>\n",
       "      <td>2.0</td>\n",
       "      <td>3074.637073</td>\n",
       "      <td>-484.705270</td>\n",
       "      <td>-0.037667</td>\n",
       "      <td>2</td>\n",
       "      <td>Mining</td>\n",
       "    </tr>\n",
       "    <tr>\n",
       "      <th>44</th>\n",
       "      <td>2022</td>\n",
       "      <td>5.0</td>\n",
       "      <td>4252.804891</td>\n",
       "      <td>6.775971</td>\n",
       "      <td>-0.038004</td>\n",
       "      <td>5</td>\n",
       "      <td>Water supply</td>\n",
       "    </tr>\n",
       "    <tr>\n",
       "      <th>179</th>\n",
       "      <td>2022</td>\n",
       "      <td>20.0</td>\n",
       "      <td>1028.189295</td>\n",
       "      <td>137.130642</td>\n",
       "      <td>0.075436</td>\n",
       "      <td>20</td>\n",
       "      <td>Households</td>\n",
       "    </tr>\n",
       "    <tr>\n",
       "      <th>125</th>\n",
       "      <td>2022</td>\n",
       "      <td>14.0</td>\n",
       "      <td>117893.149077</td>\n",
       "      <td>154.225459</td>\n",
       "      <td>-0.021130</td>\n",
       "      <td>14</td>\n",
       "      <td>Administration</td>\n",
       "    </tr>\n",
       "    <tr>\n",
       "      <th>170</th>\n",
       "      <td>2022</td>\n",
       "      <td>19.0</td>\n",
       "      <td>49072.720894</td>\n",
       "      <td>579.401976</td>\n",
       "      <td>0.027709</td>\n",
       "      <td>19</td>\n",
       "      <td>Other services</td>\n",
       "    </tr>\n",
       "    <tr>\n",
       "      <th>143</th>\n",
       "      <td>2022</td>\n",
       "      <td>16.0</td>\n",
       "      <td>61774.294981</td>\n",
       "      <td>765.908450</td>\n",
       "      <td>0.086366</td>\n",
       "      <td>16</td>\n",
       "      <td>Education</td>\n",
       "    </tr>\n",
       "    <tr>\n",
       "      <th>107</th>\n",
       "      <td>2022</td>\n",
       "      <td>12.0</td>\n",
       "      <td>14157.885738</td>\n",
       "      <td>809.853189</td>\n",
       "      <td>0.034854</td>\n",
       "      <td>12</td>\n",
       "      <td>Real estate</td>\n",
       "    </tr>\n",
       "    <tr>\n",
       "      <th>8</th>\n",
       "      <td>2022</td>\n",
       "      <td>1.0</td>\n",
       "      <td>23185.875945</td>\n",
       "      <td>859.181354</td>\n",
       "      <td>-0.057357</td>\n",
       "      <td>1</td>\n",
       "      <td>Agriculture</td>\n",
       "    </tr>\n",
       "    <tr>\n",
       "      <th>35</th>\n",
       "      <td>2022</td>\n",
       "      <td>4.0</td>\n",
       "      <td>4426.448156</td>\n",
       "      <td>865.234236</td>\n",
       "      <td>-0.008008</td>\n",
       "      <td>4</td>\n",
       "      <td>Electricity</td>\n",
       "    </tr>\n",
       "    <tr>\n",
       "      <th>152</th>\n",
       "      <td>2022</td>\n",
       "      <td>17.0</td>\n",
       "      <td>62645.173018</td>\n",
       "      <td>1779.721496</td>\n",
       "      <td>0.021224</td>\n",
       "      <td>17</td>\n",
       "      <td>Health</td>\n",
       "    </tr>\n",
       "    <tr>\n",
       "      <th>134</th>\n",
       "      <td>2022</td>\n",
       "      <td>15.0</td>\n",
       "      <td>146896.315582</td>\n",
       "      <td>2670.173051</td>\n",
       "      <td>0.016678</td>\n",
       "      <td>15</td>\n",
       "      <td>Public administration</td>\n",
       "    </tr>\n",
       "    <tr>\n",
       "      <th>98</th>\n",
       "      <td>2022</td>\n",
       "      <td>11.0</td>\n",
       "      <td>95740.335564</td>\n",
       "      <td>6198.303260</td>\n",
       "      <td>0.019830</td>\n",
       "      <td>11</td>\n",
       "      <td>Financial</td>\n",
       "    </tr>\n",
       "  </tbody>\n",
       "</table>\n",
       "</div>"
      ],
      "text/plain": [
       "     TaxYear  SIC7_1d            FTE     FTE_delta  pct_change  \\\n",
       "62      2022      7.0  362316.179016 -15630.978770    0.013265   \n",
       "26      2022      3.0  144151.828760 -15003.153582   -0.033511   \n",
       "80      2022      9.0   53823.551728 -11733.791152   -0.096971   \n",
       "53      2022      6.0   48260.949528 -10507.716872   -0.086582   \n",
       "89      2022     10.0   50132.727257  -6345.559435   -0.016104   \n",
       "161     2022     18.0   18760.620104  -4416.065344   -0.020118   \n",
       "188     2022     21.0    3571.027297  -3930.975243   -0.357787   \n",
       "116     2022     13.0   57562.902031  -2020.585985    0.004699   \n",
       "71      2022      8.0   41384.484163  -1718.959259    0.004040   \n",
       "17      2022      2.0    3074.637073   -484.705270   -0.037667   \n",
       "44      2022      5.0    4252.804891      6.775971   -0.038004   \n",
       "179     2022     20.0    1028.189295    137.130642    0.075436   \n",
       "125     2022     14.0  117893.149077    154.225459   -0.021130   \n",
       "170     2022     19.0   49072.720894    579.401976    0.027709   \n",
       "143     2022     16.0   61774.294981    765.908450    0.086366   \n",
       "107     2022     12.0   14157.885738    809.853189    0.034854   \n",
       "8       2022      1.0   23185.875945    859.181354   -0.057357   \n",
       "35      2022      4.0    4426.448156    865.234236   -0.008008   \n",
       "152     2022     17.0   62645.173018   1779.721496    0.021224   \n",
       "134     2022     15.0  146896.315582   2670.173051    0.016678   \n",
       "98      2022     11.0   95740.335564   6198.303260    0.019830   \n",
       "\n",
       "     sic7_1d_numeric                sic7_1d  \n",
       "62                 7       Retail & Repairs  \n",
       "26                 3          Manufacturing  \n",
       "80                 9          Accommodation  \n",
       "53                 6           Construction  \n",
       "89                10                     IT  \n",
       "161               18                   Arts  \n",
       "188               21          Organizations  \n",
       "116               13             Scientific  \n",
       "71                 8         Transportation  \n",
       "17                 2                 Mining  \n",
       "44                 5           Water supply  \n",
       "179               20             Households  \n",
       "125               14         Administration  \n",
       "170               19         Other services  \n",
       "143               16              Education  \n",
       "107               12            Real estate  \n",
       "8                  1            Agriculture  \n",
       "35                 4            Electricity  \n",
       "152               17                 Health  \n",
       "134               15  Public administration  \n",
       "98                11              Financial  "
      ]
     },
     "execution_count": 78,
     "metadata": {},
     "output_type": "execute_result"
    }
   ],
   "source": [
    "print(\"2 Year growth from Feb 2020 to Feb 2022\")\n",
    "print(checkFTEGrowth(years=2,group='SIC7_1d',var='FTE').sum().loc[['FTE','FTE_delta']])\n",
    "checkFTEGrowth(years=2,group='SIC7_1d',var='FTE')"
   ]
  },
  {
   "cell_type": "code",
   "execution_count": 79,
   "metadata": {},
   "outputs": [
    {
     "name": "stdout",
     "output_type": "stream",
     "text": [
      "3 Year growth from Feb 2019 to Feb 2022\n",
      "FTE          1364112.1001\n",
      "FTE_delta    -6616.311192\n",
      "dtype: object\n"
     ]
    },
    {
     "data": {
      "text/html": [
       "<div>\n",
       "<style scoped>\n",
       "    .dataframe tbody tr th:only-of-type {\n",
       "        vertical-align: middle;\n",
       "    }\n",
       "\n",
       "    .dataframe tbody tr th {\n",
       "        vertical-align: top;\n",
       "    }\n",
       "\n",
       "    .dataframe thead th {\n",
       "        text-align: right;\n",
       "    }\n",
       "</style>\n",
       "<table border=\"1\" class=\"dataframe\">\n",
       "  <thead>\n",
       "    <tr style=\"text-align: right;\">\n",
       "      <th></th>\n",
       "      <th>TaxYear</th>\n",
       "      <th>SIC7_1d</th>\n",
       "      <th>FTE</th>\n",
       "      <th>FTE_delta</th>\n",
       "      <th>pct_change</th>\n",
       "      <th>sic7_1d_numeric</th>\n",
       "      <th>sic7_1d</th>\n",
       "    </tr>\n",
       "  </thead>\n",
       "  <tbody>\n",
       "    <tr>\n",
       "      <th>53</th>\n",
       "      <td>2022</td>\n",
       "      <td>6.0</td>\n",
       "      <td>48260.949528</td>\n",
       "      <td>-12125.686930</td>\n",
       "      <td>-0.086582</td>\n",
       "      <td>6</td>\n",
       "      <td>Construction</td>\n",
       "    </tr>\n",
       "    <tr>\n",
       "      <th>26</th>\n",
       "      <td>2022</td>\n",
       "      <td>3.0</td>\n",
       "      <td>144151.828760</td>\n",
       "      <td>-11369.867986</td>\n",
       "      <td>-0.033511</td>\n",
       "      <td>3</td>\n",
       "      <td>Manufacturing</td>\n",
       "    </tr>\n",
       "    <tr>\n",
       "      <th>80</th>\n",
       "      <td>2022</td>\n",
       "      <td>9.0</td>\n",
       "      <td>53823.551728</td>\n",
       "      <td>-9909.602505</td>\n",
       "      <td>-0.096971</td>\n",
       "      <td>9</td>\n",
       "      <td>Accommodation</td>\n",
       "    </tr>\n",
       "    <tr>\n",
       "      <th>62</th>\n",
       "      <td>2022</td>\n",
       "      <td>7.0</td>\n",
       "      <td>362316.179016</td>\n",
       "      <td>-8314.772025</td>\n",
       "      <td>0.013265</td>\n",
       "      <td>7</td>\n",
       "      <td>Retail &amp; Repairs</td>\n",
       "    </tr>\n",
       "    <tr>\n",
       "      <th>188</th>\n",
       "      <td>2022</td>\n",
       "      <td>21.0</td>\n",
       "      <td>3571.027297</td>\n",
       "      <td>-3687.320046</td>\n",
       "      <td>-0.357787</td>\n",
       "      <td>21</td>\n",
       "      <td>Organizations</td>\n",
       "    </tr>\n",
       "    <tr>\n",
       "      <th>89</th>\n",
       "      <td>2022</td>\n",
       "      <td>10.0</td>\n",
       "      <td>50132.727257</td>\n",
       "      <td>-847.769306</td>\n",
       "      <td>-0.016104</td>\n",
       "      <td>10</td>\n",
       "      <td>IT</td>\n",
       "    </tr>\n",
       "    <tr>\n",
       "      <th>71</th>\n",
       "      <td>2022</td>\n",
       "      <td>8.0</td>\n",
       "      <td>41384.484163</td>\n",
       "      <td>-765.530553</td>\n",
       "      <td>0.004040</td>\n",
       "      <td>8</td>\n",
       "      <td>Transportation</td>\n",
       "    </tr>\n",
       "    <tr>\n",
       "      <th>161</th>\n",
       "      <td>2022</td>\n",
       "      <td>18.0</td>\n",
       "      <td>18760.620104</td>\n",
       "      <td>-729.674235</td>\n",
       "      <td>-0.020118</td>\n",
       "      <td>18</td>\n",
       "      <td>Arts</td>\n",
       "    </tr>\n",
       "    <tr>\n",
       "      <th>44</th>\n",
       "      <td>2022</td>\n",
       "      <td>5.0</td>\n",
       "      <td>4252.804891</td>\n",
       "      <td>-284.112636</td>\n",
       "      <td>-0.038004</td>\n",
       "      <td>5</td>\n",
       "      <td>Water supply</td>\n",
       "    </tr>\n",
       "    <tr>\n",
       "      <th>17</th>\n",
       "      <td>2022</td>\n",
       "      <td>2.0</td>\n",
       "      <td>3074.637073</td>\n",
       "      <td>-70.007825</td>\n",
       "      <td>-0.037667</td>\n",
       "      <td>2</td>\n",
       "      <td>Mining</td>\n",
       "    </tr>\n",
       "    <tr>\n",
       "      <th>179</th>\n",
       "      <td>2022</td>\n",
       "      <td>20.0</td>\n",
       "      <td>1028.189295</td>\n",
       "      <td>172.098904</td>\n",
       "      <td>0.075436</td>\n",
       "      <td>20</td>\n",
       "      <td>Households</td>\n",
       "    </tr>\n",
       "    <tr>\n",
       "      <th>35</th>\n",
       "      <td>2022</td>\n",
       "      <td>4.0</td>\n",
       "      <td>4426.448156</td>\n",
       "      <td>1248.804217</td>\n",
       "      <td>-0.008008</td>\n",
       "      <td>4</td>\n",
       "      <td>Electricity</td>\n",
       "    </tr>\n",
       "    <tr>\n",
       "      <th>8</th>\n",
       "      <td>2022</td>\n",
       "      <td>1.0</td>\n",
       "      <td>23185.875945</td>\n",
       "      <td>1335.636503</td>\n",
       "      <td>-0.057357</td>\n",
       "      <td>1</td>\n",
       "      <td>Agriculture</td>\n",
       "    </tr>\n",
       "    <tr>\n",
       "      <th>116</th>\n",
       "      <td>2022</td>\n",
       "      <td>13.0</td>\n",
       "      <td>57562.902031</td>\n",
       "      <td>1338.527723</td>\n",
       "      <td>0.004699</td>\n",
       "      <td>13</td>\n",
       "      <td>Scientific</td>\n",
       "    </tr>\n",
       "    <tr>\n",
       "      <th>107</th>\n",
       "      <td>2022</td>\n",
       "      <td>12.0</td>\n",
       "      <td>14157.885738</td>\n",
       "      <td>1541.751135</td>\n",
       "      <td>0.034854</td>\n",
       "      <td>12</td>\n",
       "      <td>Real estate</td>\n",
       "    </tr>\n",
       "    <tr>\n",
       "      <th>170</th>\n",
       "      <td>2022</td>\n",
       "      <td>19.0</td>\n",
       "      <td>49072.720894</td>\n",
       "      <td>1825.249538</td>\n",
       "      <td>0.027709</td>\n",
       "      <td>19</td>\n",
       "      <td>Other services</td>\n",
       "    </tr>\n",
       "    <tr>\n",
       "      <th>152</th>\n",
       "      <td>2022</td>\n",
       "      <td>17.0</td>\n",
       "      <td>62645.173018</td>\n",
       "      <td>4353.493559</td>\n",
       "      <td>0.021224</td>\n",
       "      <td>17</td>\n",
       "      <td>Health</td>\n",
       "    </tr>\n",
       "    <tr>\n",
       "      <th>143</th>\n",
       "      <td>2022</td>\n",
       "      <td>16.0</td>\n",
       "      <td>61774.294981</td>\n",
       "      <td>4659.617470</td>\n",
       "      <td>0.086366</td>\n",
       "      <td>16</td>\n",
       "      <td>Education</td>\n",
       "    </tr>\n",
       "    <tr>\n",
       "      <th>125</th>\n",
       "      <td>2022</td>\n",
       "      <td>14.0</td>\n",
       "      <td>117893.149077</td>\n",
       "      <td>5792.973904</td>\n",
       "      <td>-0.021130</td>\n",
       "      <td>14</td>\n",
       "      <td>Administration</td>\n",
       "    </tr>\n",
       "    <tr>\n",
       "      <th>134</th>\n",
       "      <td>2022</td>\n",
       "      <td>15.0</td>\n",
       "      <td>146896.315582</td>\n",
       "      <td>7082.172949</td>\n",
       "      <td>0.016678</td>\n",
       "      <td>15</td>\n",
       "      <td>Public administration</td>\n",
       "    </tr>\n",
       "    <tr>\n",
       "      <th>98</th>\n",
       "      <td>2022</td>\n",
       "      <td>11.0</td>\n",
       "      <td>95740.335564</td>\n",
       "      <td>12137.706952</td>\n",
       "      <td>0.019830</td>\n",
       "      <td>11</td>\n",
       "      <td>Financial</td>\n",
       "    </tr>\n",
       "  </tbody>\n",
       "</table>\n",
       "</div>"
      ],
      "text/plain": [
       "     TaxYear  SIC7_1d            FTE     FTE_delta  pct_change  \\\n",
       "53      2022      6.0   48260.949528 -12125.686930   -0.086582   \n",
       "26      2022      3.0  144151.828760 -11369.867986   -0.033511   \n",
       "80      2022      9.0   53823.551728  -9909.602505   -0.096971   \n",
       "62      2022      7.0  362316.179016  -8314.772025    0.013265   \n",
       "188     2022     21.0    3571.027297  -3687.320046   -0.357787   \n",
       "89      2022     10.0   50132.727257   -847.769306   -0.016104   \n",
       "71      2022      8.0   41384.484163   -765.530553    0.004040   \n",
       "161     2022     18.0   18760.620104   -729.674235   -0.020118   \n",
       "44      2022      5.0    4252.804891   -284.112636   -0.038004   \n",
       "17      2022      2.0    3074.637073    -70.007825   -0.037667   \n",
       "179     2022     20.0    1028.189295    172.098904    0.075436   \n",
       "35      2022      4.0    4426.448156   1248.804217   -0.008008   \n",
       "8       2022      1.0   23185.875945   1335.636503   -0.057357   \n",
       "116     2022     13.0   57562.902031   1338.527723    0.004699   \n",
       "107     2022     12.0   14157.885738   1541.751135    0.034854   \n",
       "170     2022     19.0   49072.720894   1825.249538    0.027709   \n",
       "152     2022     17.0   62645.173018   4353.493559    0.021224   \n",
       "143     2022     16.0   61774.294981   4659.617470    0.086366   \n",
       "125     2022     14.0  117893.149077   5792.973904   -0.021130   \n",
       "134     2022     15.0  146896.315582   7082.172949    0.016678   \n",
       "98      2022     11.0   95740.335564  12137.706952    0.019830   \n",
       "\n",
       "     sic7_1d_numeric                sic7_1d  \n",
       "53                 6           Construction  \n",
       "26                 3          Manufacturing  \n",
       "80                 9          Accommodation  \n",
       "62                 7       Retail & Repairs  \n",
       "188               21          Organizations  \n",
       "89                10                     IT  \n",
       "71                 8         Transportation  \n",
       "161               18                   Arts  \n",
       "44                 5           Water supply  \n",
       "17                 2                 Mining  \n",
       "179               20             Households  \n",
       "35                 4            Electricity  \n",
       "8                  1            Agriculture  \n",
       "116               13             Scientific  \n",
       "107               12            Real estate  \n",
       "170               19         Other services  \n",
       "152               17                 Health  \n",
       "143               16              Education  \n",
       "125               14         Administration  \n",
       "134               15  Public administration  \n",
       "98                11              Financial  "
      ]
     },
     "execution_count": 79,
     "metadata": {},
     "output_type": "execute_result"
    }
   ],
   "source": [
    "print(\"3 Year growth from Feb 2019 to Feb 2022\")\n",
    "print(checkFTEGrowth(years=3,group='SIC7_1d',var='FTE').sum().loc[['FTE','FTE_delta']])\n",
    "checkFTEGrowth(years=3,group='SIC7_1d',var='FTE')\n"
   ]
  },
  {
   "cell_type": "code",
   "execution_count": 80,
   "metadata": {},
   "outputs": [
    {
     "name": "stdout",
     "output_type": "stream",
     "text": [
      "5 Year growth from Feb 2017 to Feb 2022\n",
      "FTE          1364112.1001\n",
      "FTE_delta    41359.356849\n",
      "dtype: object\n"
     ]
    },
    {
     "data": {
      "text/html": [
       "<div>\n",
       "<style scoped>\n",
       "    .dataframe tbody tr th:only-of-type {\n",
       "        vertical-align: middle;\n",
       "    }\n",
       "\n",
       "    .dataframe tbody tr th {\n",
       "        vertical-align: top;\n",
       "    }\n",
       "\n",
       "    .dataframe thead th {\n",
       "        text-align: right;\n",
       "    }\n",
       "</style>\n",
       "<table border=\"1\" class=\"dataframe\">\n",
       "  <thead>\n",
       "    <tr style=\"text-align: right;\">\n",
       "      <th></th>\n",
       "      <th>TaxYear</th>\n",
       "      <th>SIC7_1d</th>\n",
       "      <th>FTE</th>\n",
       "      <th>FTE_delta</th>\n",
       "      <th>pct_change</th>\n",
       "      <th>sic7_1d_numeric</th>\n",
       "      <th>sic7_1d</th>\n",
       "    </tr>\n",
       "  </thead>\n",
       "  <tbody>\n",
       "    <tr>\n",
       "      <th>53</th>\n",
       "      <td>2022</td>\n",
       "      <td>6.0</td>\n",
       "      <td>48260.949528</td>\n",
       "      <td>-14766.424923</td>\n",
       "      <td>-0.086582</td>\n",
       "      <td>6</td>\n",
       "      <td>Construction</td>\n",
       "    </tr>\n",
       "    <tr>\n",
       "      <th>26</th>\n",
       "      <td>2022</td>\n",
       "      <td>3.0</td>\n",
       "      <td>144151.828760</td>\n",
       "      <td>-11151.083949</td>\n",
       "      <td>-0.033511</td>\n",
       "      <td>3</td>\n",
       "      <td>Manufacturing</td>\n",
       "    </tr>\n",
       "    <tr>\n",
       "      <th>80</th>\n",
       "      <td>2022</td>\n",
       "      <td>9.0</td>\n",
       "      <td>53823.551728</td>\n",
       "      <td>-3529.965376</td>\n",
       "      <td>-0.096971</td>\n",
       "      <td>9</td>\n",
       "      <td>Accommodation</td>\n",
       "    </tr>\n",
       "    <tr>\n",
       "      <th>188</th>\n",
       "      <td>2022</td>\n",
       "      <td>21.0</td>\n",
       "      <td>3571.027297</td>\n",
       "      <td>-2214.571889</td>\n",
       "      <td>-0.357787</td>\n",
       "      <td>21</td>\n",
       "      <td>Organizations</td>\n",
       "    </tr>\n",
       "    <tr>\n",
       "      <th>161</th>\n",
       "      <td>2022</td>\n",
       "      <td>18.0</td>\n",
       "      <td>18760.620104</td>\n",
       "      <td>-2065.521621</td>\n",
       "      <td>-0.020118</td>\n",
       "      <td>18</td>\n",
       "      <td>Arts</td>\n",
       "    </tr>\n",
       "    <tr>\n",
       "      <th>17</th>\n",
       "      <td>2022</td>\n",
       "      <td>2.0</td>\n",
       "      <td>3074.637073</td>\n",
       "      <td>-681.490925</td>\n",
       "      <td>-0.037667</td>\n",
       "      <td>2</td>\n",
       "      <td>Mining</td>\n",
       "    </tr>\n",
       "    <tr>\n",
       "      <th>179</th>\n",
       "      <td>2022</td>\n",
       "      <td>20.0</td>\n",
       "      <td>1028.189295</td>\n",
       "      <td>494.736830</td>\n",
       "      <td>0.075436</td>\n",
       "      <td>20</td>\n",
       "      <td>Households</td>\n",
       "    </tr>\n",
       "    <tr>\n",
       "      <th>44</th>\n",
       "      <td>2022</td>\n",
       "      <td>5.0</td>\n",
       "      <td>4252.804891</td>\n",
       "      <td>1368.774826</td>\n",
       "      <td>-0.038004</td>\n",
       "      <td>5</td>\n",
       "      <td>Water supply</td>\n",
       "    </tr>\n",
       "    <tr>\n",
       "      <th>71</th>\n",
       "      <td>2022</td>\n",
       "      <td>8.0</td>\n",
       "      <td>41384.484163</td>\n",
       "      <td>1454.345147</td>\n",
       "      <td>0.004040</td>\n",
       "      <td>8</td>\n",
       "      <td>Transportation</td>\n",
       "    </tr>\n",
       "    <tr>\n",
       "      <th>62</th>\n",
       "      <td>2022</td>\n",
       "      <td>7.0</td>\n",
       "      <td>362316.179016</td>\n",
       "      <td>2205.236605</td>\n",
       "      <td>0.013265</td>\n",
       "      <td>7</td>\n",
       "      <td>Retail &amp; Repairs</td>\n",
       "    </tr>\n",
       "    <tr>\n",
       "      <th>35</th>\n",
       "      <td>2022</td>\n",
       "      <td>4.0</td>\n",
       "      <td>4426.448156</td>\n",
       "      <td>2638.984494</td>\n",
       "      <td>-0.008008</td>\n",
       "      <td>4</td>\n",
       "      <td>Electricity</td>\n",
       "    </tr>\n",
       "    <tr>\n",
       "      <th>89</th>\n",
       "      <td>2022</td>\n",
       "      <td>10.0</td>\n",
       "      <td>50132.727257</td>\n",
       "      <td>3006.041265</td>\n",
       "      <td>-0.016104</td>\n",
       "      <td>10</td>\n",
       "      <td>IT</td>\n",
       "    </tr>\n",
       "    <tr>\n",
       "      <th>107</th>\n",
       "      <td>2022</td>\n",
       "      <td>12.0</td>\n",
       "      <td>14157.885738</td>\n",
       "      <td>3073.242757</td>\n",
       "      <td>0.034854</td>\n",
       "      <td>12</td>\n",
       "      <td>Real estate</td>\n",
       "    </tr>\n",
       "    <tr>\n",
       "      <th>116</th>\n",
       "      <td>2022</td>\n",
       "      <td>13.0</td>\n",
       "      <td>57562.902031</td>\n",
       "      <td>3274.395530</td>\n",
       "      <td>0.004699</td>\n",
       "      <td>13</td>\n",
       "      <td>Scientific</td>\n",
       "    </tr>\n",
       "    <tr>\n",
       "      <th>8</th>\n",
       "      <td>2022</td>\n",
       "      <td>1.0</td>\n",
       "      <td>23185.875945</td>\n",
       "      <td>3396.756003</td>\n",
       "      <td>-0.057357</td>\n",
       "      <td>1</td>\n",
       "      <td>Agriculture</td>\n",
       "    </tr>\n",
       "    <tr>\n",
       "      <th>170</th>\n",
       "      <td>2022</td>\n",
       "      <td>19.0</td>\n",
       "      <td>49072.720894</td>\n",
       "      <td>5560.187896</td>\n",
       "      <td>0.027709</td>\n",
       "      <td>19</td>\n",
       "      <td>Other services</td>\n",
       "    </tr>\n",
       "    <tr>\n",
       "      <th>134</th>\n",
       "      <td>2022</td>\n",
       "      <td>15.0</td>\n",
       "      <td>146896.315582</td>\n",
       "      <td>7495.638843</td>\n",
       "      <td>0.016678</td>\n",
       "      <td>15</td>\n",
       "      <td>Public administration</td>\n",
       "    </tr>\n",
       "    <tr>\n",
       "      <th>125</th>\n",
       "      <td>2022</td>\n",
       "      <td>14.0</td>\n",
       "      <td>117893.149077</td>\n",
       "      <td>9374.105001</td>\n",
       "      <td>-0.021130</td>\n",
       "      <td>14</td>\n",
       "      <td>Administration</td>\n",
       "    </tr>\n",
       "    <tr>\n",
       "      <th>143</th>\n",
       "      <td>2022</td>\n",
       "      <td>16.0</td>\n",
       "      <td>61774.294981</td>\n",
       "      <td>9535.285017</td>\n",
       "      <td>0.086366</td>\n",
       "      <td>16</td>\n",
       "      <td>Education</td>\n",
       "    </tr>\n",
       "    <tr>\n",
       "      <th>152</th>\n",
       "      <td>2022</td>\n",
       "      <td>17.0</td>\n",
       "      <td>62645.173018</td>\n",
       "      <td>9984.957452</td>\n",
       "      <td>0.021224</td>\n",
       "      <td>17</td>\n",
       "      <td>Health</td>\n",
       "    </tr>\n",
       "    <tr>\n",
       "      <th>98</th>\n",
       "      <td>2022</td>\n",
       "      <td>11.0</td>\n",
       "      <td>95740.335564</td>\n",
       "      <td>12905.727868</td>\n",
       "      <td>0.019830</td>\n",
       "      <td>11</td>\n",
       "      <td>Financial</td>\n",
       "    </tr>\n",
       "  </tbody>\n",
       "</table>\n",
       "</div>"
      ],
      "text/plain": [
       "     TaxYear  SIC7_1d            FTE     FTE_delta  pct_change  \\\n",
       "53      2022      6.0   48260.949528 -14766.424923   -0.086582   \n",
       "26      2022      3.0  144151.828760 -11151.083949   -0.033511   \n",
       "80      2022      9.0   53823.551728  -3529.965376   -0.096971   \n",
       "188     2022     21.0    3571.027297  -2214.571889   -0.357787   \n",
       "161     2022     18.0   18760.620104  -2065.521621   -0.020118   \n",
       "17      2022      2.0    3074.637073   -681.490925   -0.037667   \n",
       "179     2022     20.0    1028.189295    494.736830    0.075436   \n",
       "44      2022      5.0    4252.804891   1368.774826   -0.038004   \n",
       "71      2022      8.0   41384.484163   1454.345147    0.004040   \n",
       "62      2022      7.0  362316.179016   2205.236605    0.013265   \n",
       "35      2022      4.0    4426.448156   2638.984494   -0.008008   \n",
       "89      2022     10.0   50132.727257   3006.041265   -0.016104   \n",
       "107     2022     12.0   14157.885738   3073.242757    0.034854   \n",
       "116     2022     13.0   57562.902031   3274.395530    0.004699   \n",
       "8       2022      1.0   23185.875945   3396.756003   -0.057357   \n",
       "170     2022     19.0   49072.720894   5560.187896    0.027709   \n",
       "134     2022     15.0  146896.315582   7495.638843    0.016678   \n",
       "125     2022     14.0  117893.149077   9374.105001   -0.021130   \n",
       "143     2022     16.0   61774.294981   9535.285017    0.086366   \n",
       "152     2022     17.0   62645.173018   9984.957452    0.021224   \n",
       "98      2022     11.0   95740.335564  12905.727868    0.019830   \n",
       "\n",
       "     sic7_1d_numeric                sic7_1d  \n",
       "53                 6           Construction  \n",
       "26                 3          Manufacturing  \n",
       "80                 9          Accommodation  \n",
       "188               21          Organizations  \n",
       "161               18                   Arts  \n",
       "17                 2                 Mining  \n",
       "179               20             Households  \n",
       "44                 5           Water supply  \n",
       "71                 8         Transportation  \n",
       "62                 7       Retail & Repairs  \n",
       "35                 4            Electricity  \n",
       "89                10                     IT  \n",
       "107               12            Real estate  \n",
       "116               13             Scientific  \n",
       "8                  1            Agriculture  \n",
       "170               19         Other services  \n",
       "134               15  Public administration  \n",
       "125               14         Administration  \n",
       "143               16              Education  \n",
       "152               17                 Health  \n",
       "98                11              Financial  "
      ]
     },
     "execution_count": 80,
     "metadata": {},
     "output_type": "execute_result"
    }
   ],
   "source": [
    "print(\"5 Year growth from Feb 2017 to Feb 2022\")\n",
    "print(checkFTEGrowth(years=5,group='SIC7_1d',var='FTE').sum().loc[['FTE','FTE_delta']])\n",
    "checkFTEGrowth(years=5,group='SIC7_1d',var='FTE')"
   ]
  },
  {
   "cell_type": "code",
   "execution_count": 81,
   "metadata": {},
   "outputs": [
    {
     "name": "stdout",
     "output_type": "stream",
     "text": [
      "4 Year growth from Feb 2018 to Feb 2022\n",
      "FTE          1364112.1001\n",
      "FTE_delta    17649.750876\n",
      "dtype: object\n"
     ]
    },
    {
     "data": {
      "text/html": [
       "<div>\n",
       "<style scoped>\n",
       "    .dataframe tbody tr th:only-of-type {\n",
       "        vertical-align: middle;\n",
       "    }\n",
       "\n",
       "    .dataframe tbody tr th {\n",
       "        vertical-align: top;\n",
       "    }\n",
       "\n",
       "    .dataframe thead th {\n",
       "        text-align: right;\n",
       "    }\n",
       "</style>\n",
       "<table border=\"1\" class=\"dataframe\">\n",
       "  <thead>\n",
       "    <tr style=\"text-align: right;\">\n",
       "      <th></th>\n",
       "      <th>TaxYear</th>\n",
       "      <th>SIC7_1d</th>\n",
       "      <th>FTE</th>\n",
       "      <th>FTE_delta</th>\n",
       "      <th>pct_change</th>\n",
       "      <th>sic7_1d_numeric</th>\n",
       "      <th>sic7_1d</th>\n",
       "    </tr>\n",
       "  </thead>\n",
       "  <tbody>\n",
       "    <tr>\n",
       "      <th>53</th>\n",
       "      <td>2022</td>\n",
       "      <td>6.0</td>\n",
       "      <td>48260.949528</td>\n",
       "      <td>-16832.909363</td>\n",
       "      <td>-0.086582</td>\n",
       "      <td>6</td>\n",
       "      <td>Construction</td>\n",
       "    </tr>\n",
       "    <tr>\n",
       "      <th>26</th>\n",
       "      <td>2022</td>\n",
       "      <td>3.0</td>\n",
       "      <td>144151.828760</td>\n",
       "      <td>-12519.434995</td>\n",
       "      <td>-0.033511</td>\n",
       "      <td>3</td>\n",
       "      <td>Manufacturing</td>\n",
       "    </tr>\n",
       "    <tr>\n",
       "      <th>80</th>\n",
       "      <td>2022</td>\n",
       "      <td>9.0</td>\n",
       "      <td>53823.551728</td>\n",
       "      <td>-2344.166957</td>\n",
       "      <td>-0.096971</td>\n",
       "      <td>9</td>\n",
       "      <td>Accommodation</td>\n",
       "    </tr>\n",
       "    <tr>\n",
       "      <th>188</th>\n",
       "      <td>2022</td>\n",
       "      <td>21.0</td>\n",
       "      <td>3571.027297</td>\n",
       "      <td>-2172.284092</td>\n",
       "      <td>-0.357787</td>\n",
       "      <td>21</td>\n",
       "      <td>Organizations</td>\n",
       "    </tr>\n",
       "    <tr>\n",
       "      <th>161</th>\n",
       "      <td>2022</td>\n",
       "      <td>18.0</td>\n",
       "      <td>18760.620104</td>\n",
       "      <td>-2001.115923</td>\n",
       "      <td>-0.020118</td>\n",
       "      <td>18</td>\n",
       "      <td>Arts</td>\n",
       "    </tr>\n",
       "    <tr>\n",
       "      <th>17</th>\n",
       "      <td>2022</td>\n",
       "      <td>2.0</td>\n",
       "      <td>3074.637073</td>\n",
       "      <td>-474.323371</td>\n",
       "      <td>-0.037667</td>\n",
       "      <td>2</td>\n",
       "      <td>Mining</td>\n",
       "    </tr>\n",
       "    <tr>\n",
       "      <th>71</th>\n",
       "      <td>2022</td>\n",
       "      <td>8.0</td>\n",
       "      <td>41384.484163</td>\n",
       "      <td>-52.058068</td>\n",
       "      <td>0.004040</td>\n",
       "      <td>8</td>\n",
       "      <td>Transportation</td>\n",
       "    </tr>\n",
       "    <tr>\n",
       "      <th>62</th>\n",
       "      <td>2022</td>\n",
       "      <td>7.0</td>\n",
       "      <td>362316.179016</td>\n",
       "      <td>410.761279</td>\n",
       "      <td>0.013265</td>\n",
       "      <td>7</td>\n",
       "      <td>Retail &amp; Repairs</td>\n",
       "    </tr>\n",
       "    <tr>\n",
       "      <th>179</th>\n",
       "      <td>2022</td>\n",
       "      <td>20.0</td>\n",
       "      <td>1028.189295</td>\n",
       "      <td>432.553828</td>\n",
       "      <td>0.075436</td>\n",
       "      <td>20</td>\n",
       "      <td>Households</td>\n",
       "    </tr>\n",
       "    <tr>\n",
       "      <th>44</th>\n",
       "      <td>2022</td>\n",
       "      <td>5.0</td>\n",
       "      <td>4252.804891</td>\n",
       "      <td>458.142580</td>\n",
       "      <td>-0.038004</td>\n",
       "      <td>5</td>\n",
       "      <td>Water supply</td>\n",
       "    </tr>\n",
       "    <tr>\n",
       "      <th>8</th>\n",
       "      <td>2022</td>\n",
       "      <td>1.0</td>\n",
       "      <td>23185.875945</td>\n",
       "      <td>999.932204</td>\n",
       "      <td>-0.057357</td>\n",
       "      <td>1</td>\n",
       "      <td>Agriculture</td>\n",
       "    </tr>\n",
       "    <tr>\n",
       "      <th>89</th>\n",
       "      <td>2022</td>\n",
       "      <td>10.0</td>\n",
       "      <td>50132.727257</td>\n",
       "      <td>1637.522539</td>\n",
       "      <td>-0.016104</td>\n",
       "      <td>10</td>\n",
       "      <td>IT</td>\n",
       "    </tr>\n",
       "    <tr>\n",
       "      <th>116</th>\n",
       "      <td>2022</td>\n",
       "      <td>13.0</td>\n",
       "      <td>57562.902031</td>\n",
       "      <td>2048.875706</td>\n",
       "      <td>0.004699</td>\n",
       "      <td>13</td>\n",
       "      <td>Scientific</td>\n",
       "    </tr>\n",
       "    <tr>\n",
       "      <th>107</th>\n",
       "      <td>2022</td>\n",
       "      <td>12.0</td>\n",
       "      <td>14157.885738</td>\n",
       "      <td>2167.251305</td>\n",
       "      <td>0.034854</td>\n",
       "      <td>12</td>\n",
       "      <td>Real estate</td>\n",
       "    </tr>\n",
       "    <tr>\n",
       "      <th>35</th>\n",
       "      <td>2022</td>\n",
       "      <td>4.0</td>\n",
       "      <td>4426.448156</td>\n",
       "      <td>2519.529433</td>\n",
       "      <td>-0.008008</td>\n",
       "      <td>4</td>\n",
       "      <td>Electricity</td>\n",
       "    </tr>\n",
       "    <tr>\n",
       "      <th>170</th>\n",
       "      <td>2022</td>\n",
       "      <td>19.0</td>\n",
       "      <td>49072.720894</td>\n",
       "      <td>3988.723709</td>\n",
       "      <td>0.027709</td>\n",
       "      <td>19</td>\n",
       "      <td>Other services</td>\n",
       "    </tr>\n",
       "    <tr>\n",
       "      <th>125</th>\n",
       "      <td>2022</td>\n",
       "      <td>14.0</td>\n",
       "      <td>117893.149077</td>\n",
       "      <td>4430.248769</td>\n",
       "      <td>-0.021130</td>\n",
       "      <td>14</td>\n",
       "      <td>Administration</td>\n",
       "    </tr>\n",
       "    <tr>\n",
       "      <th>143</th>\n",
       "      <td>2022</td>\n",
       "      <td>16.0</td>\n",
       "      <td>61774.294981</td>\n",
       "      <td>6108.267485</td>\n",
       "      <td>0.086366</td>\n",
       "      <td>16</td>\n",
       "      <td>Education</td>\n",
       "    </tr>\n",
       "    <tr>\n",
       "      <th>152</th>\n",
       "      <td>2022</td>\n",
       "      <td>17.0</td>\n",
       "      <td>62645.173018</td>\n",
       "      <td>6941.070164</td>\n",
       "      <td>0.021224</td>\n",
       "      <td>17</td>\n",
       "      <td>Health</td>\n",
       "    </tr>\n",
       "    <tr>\n",
       "      <th>134</th>\n",
       "      <td>2022</td>\n",
       "      <td>15.0</td>\n",
       "      <td>146896.315582</td>\n",
       "      <td>7567.620707</td>\n",
       "      <td>0.016678</td>\n",
       "      <td>15</td>\n",
       "      <td>Public administration</td>\n",
       "    </tr>\n",
       "    <tr>\n",
       "      <th>98</th>\n",
       "      <td>2022</td>\n",
       "      <td>11.0</td>\n",
       "      <td>95740.335564</td>\n",
       "      <td>14335.543937</td>\n",
       "      <td>0.019830</td>\n",
       "      <td>11</td>\n",
       "      <td>Financial</td>\n",
       "    </tr>\n",
       "  </tbody>\n",
       "</table>\n",
       "</div>"
      ],
      "text/plain": [
       "     TaxYear  SIC7_1d            FTE     FTE_delta  pct_change  \\\n",
       "53      2022      6.0   48260.949528 -16832.909363   -0.086582   \n",
       "26      2022      3.0  144151.828760 -12519.434995   -0.033511   \n",
       "80      2022      9.0   53823.551728  -2344.166957   -0.096971   \n",
       "188     2022     21.0    3571.027297  -2172.284092   -0.357787   \n",
       "161     2022     18.0   18760.620104  -2001.115923   -0.020118   \n",
       "17      2022      2.0    3074.637073   -474.323371   -0.037667   \n",
       "71      2022      8.0   41384.484163    -52.058068    0.004040   \n",
       "62      2022      7.0  362316.179016    410.761279    0.013265   \n",
       "179     2022     20.0    1028.189295    432.553828    0.075436   \n",
       "44      2022      5.0    4252.804891    458.142580   -0.038004   \n",
       "8       2022      1.0   23185.875945    999.932204   -0.057357   \n",
       "89      2022     10.0   50132.727257   1637.522539   -0.016104   \n",
       "116     2022     13.0   57562.902031   2048.875706    0.004699   \n",
       "107     2022     12.0   14157.885738   2167.251305    0.034854   \n",
       "35      2022      4.0    4426.448156   2519.529433   -0.008008   \n",
       "170     2022     19.0   49072.720894   3988.723709    0.027709   \n",
       "125     2022     14.0  117893.149077   4430.248769   -0.021130   \n",
       "143     2022     16.0   61774.294981   6108.267485    0.086366   \n",
       "152     2022     17.0   62645.173018   6941.070164    0.021224   \n",
       "134     2022     15.0  146896.315582   7567.620707    0.016678   \n",
       "98      2022     11.0   95740.335564  14335.543937    0.019830   \n",
       "\n",
       "     sic7_1d_numeric                sic7_1d  \n",
       "53                 6           Construction  \n",
       "26                 3          Manufacturing  \n",
       "80                 9          Accommodation  \n",
       "188               21          Organizations  \n",
       "161               18                   Arts  \n",
       "17                 2                 Mining  \n",
       "71                 8         Transportation  \n",
       "62                 7       Retail & Repairs  \n",
       "179               20             Households  \n",
       "44                 5           Water supply  \n",
       "8                  1            Agriculture  \n",
       "89                10                     IT  \n",
       "116               13             Scientific  \n",
       "107               12            Real estate  \n",
       "35                 4            Electricity  \n",
       "170               19         Other services  \n",
       "125               14         Administration  \n",
       "143               16              Education  \n",
       "152               17                 Health  \n",
       "134               15  Public administration  \n",
       "98                11              Financial  "
      ]
     },
     "execution_count": 81,
     "metadata": {},
     "output_type": "execute_result"
    }
   ],
   "source": [
    "print(\"4 Year growth from Feb 2018 to Feb 2022\")\n",
    "print(checkFTEGrowth(years=4,group='SIC7_1d',var='FTE').sum().loc[['FTE','FTE_delta']])\n",
    "checkFTEGrowth(years=4,group='SIC7_1d',var='FTE')"
   ]
  },
  {
   "cell_type": "code",
   "execution_count": 82,
   "metadata": {},
   "outputs": [
    {
     "data": {
      "text/html": [
       "<div>\n",
       "<style scoped>\n",
       "    .dataframe tbody tr th:only-of-type {\n",
       "        vertical-align: middle;\n",
       "    }\n",
       "\n",
       "    .dataframe tbody tr th {\n",
       "        vertical-align: top;\n",
       "    }\n",
       "\n",
       "    .dataframe thead th {\n",
       "        text-align: right;\n",
       "    }\n",
       "</style>\n",
       "<table border=\"1\" class=\"dataframe\">\n",
       "  <thead>\n",
       "    <tr style=\"text-align: right;\">\n",
       "      <th></th>\n",
       "      <th>month</th>\n",
       "      <th>SIC7_1d</th>\n",
       "      <th>FTE</th>\n",
       "      <th>FTE_delta</th>\n",
       "      <th>pct_change</th>\n",
       "      <th>sic7_1d_numeric</th>\n",
       "      <th>sic7_1d</th>\n",
       "    </tr>\n",
       "  </thead>\n",
       "  <tbody>\n",
       "    <tr>\n",
       "      <th>0</th>\n",
       "      <td>2013-03-01</td>\n",
       "      <td>1.0</td>\n",
       "      <td>25169.645157</td>\n",
       "      <td>NaN</td>\n",
       "      <td>NaN</td>\n",
       "      <td>1</td>\n",
       "      <td>Agriculture</td>\n",
       "    </tr>\n",
       "    <tr>\n",
       "      <th>1188</th>\n",
       "      <td>2013-03-01</td>\n",
       "      <td>12.0</td>\n",
       "      <td>8723.916531</td>\n",
       "      <td>NaN</td>\n",
       "      <td>NaN</td>\n",
       "      <td>12</td>\n",
       "      <td>Real estate</td>\n",
       "    </tr>\n",
       "    <tr>\n",
       "      <th>1728</th>\n",
       "      <td>2013-03-01</td>\n",
       "      <td>17.0</td>\n",
       "      <td>43046.129261</td>\n",
       "      <td>NaN</td>\n",
       "      <td>NaN</td>\n",
       "      <td>17</td>\n",
       "      <td>Health</td>\n",
       "    </tr>\n",
       "    <tr>\n",
       "      <th>540</th>\n",
       "      <td>2013-03-01</td>\n",
       "      <td>6.0</td>\n",
       "      <td>49049.381984</td>\n",
       "      <td>NaN</td>\n",
       "      <td>NaN</td>\n",
       "      <td>6</td>\n",
       "      <td>Construction</td>\n",
       "    </tr>\n",
       "    <tr>\n",
       "      <th>1620</th>\n",
       "      <td>2013-03-01</td>\n",
       "      <td>16.0</td>\n",
       "      <td>42178.386514</td>\n",
       "      <td>NaN</td>\n",
       "      <td>NaN</td>\n",
       "      <td>16</td>\n",
       "      <td>Education</td>\n",
       "    </tr>\n",
       "    <tr>\n",
       "      <th>...</th>\n",
       "      <td>...</td>\n",
       "      <td>...</td>\n",
       "      <td>...</td>\n",
       "      <td>...</td>\n",
       "      <td>...</td>\n",
       "      <td>...</td>\n",
       "      <td>...</td>\n",
       "    </tr>\n",
       "    <tr>\n",
       "      <th>215</th>\n",
       "      <td>2022-02-01</td>\n",
       "      <td>2.0</td>\n",
       "      <td>3011.829310</td>\n",
       "      <td>-96.125548</td>\n",
       "      <td>-0.007171</td>\n",
       "      <td>2</td>\n",
       "      <td>Mining</td>\n",
       "    </tr>\n",
       "    <tr>\n",
       "      <th>2051</th>\n",
       "      <td>2022-02-01</td>\n",
       "      <td>19.0</td>\n",
       "      <td>49333.778427</td>\n",
       "      <td>-654.281009</td>\n",
       "      <td>0.001938</td>\n",
       "      <td>19</td>\n",
       "      <td>Other services</td>\n",
       "    </tr>\n",
       "    <tr>\n",
       "      <th>107</th>\n",
       "      <td>2022-02-01</td>\n",
       "      <td>1.0</td>\n",
       "      <td>23002.274788</td>\n",
       "      <td>-941.518315</td>\n",
       "      <td>-0.064474</td>\n",
       "      <td>1</td>\n",
       "      <td>Agriculture</td>\n",
       "    </tr>\n",
       "    <tr>\n",
       "      <th>1511</th>\n",
       "      <td>2022-02-01</td>\n",
       "      <td>14.0</td>\n",
       "      <td>120467.738343</td>\n",
       "      <td>-3934.324906</td>\n",
       "      <td>0.000480</td>\n",
       "      <td>14</td>\n",
       "      <td>Administration</td>\n",
       "    </tr>\n",
       "    <tr>\n",
       "      <th>2267</th>\n",
       "      <td>2022-02-01</td>\n",
       "      <td>21.0</td>\n",
       "      <td>2912.445930</td>\n",
       "      <td>-719.438249</td>\n",
       "      <td>-0.347835</td>\n",
       "      <td>21</td>\n",
       "      <td>Organizations</td>\n",
       "    </tr>\n",
       "  </tbody>\n",
       "</table>\n",
       "<p>2268 rows × 7 columns</p>\n",
       "</div>"
      ],
      "text/plain": [
       "           month  SIC7_1d            FTE    FTE_delta  pct_change  \\\n",
       "0     2013-03-01      1.0   25169.645157          NaN         NaN   \n",
       "1188  2013-03-01     12.0    8723.916531          NaN         NaN   \n",
       "1728  2013-03-01     17.0   43046.129261          NaN         NaN   \n",
       "540   2013-03-01      6.0   49049.381984          NaN         NaN   \n",
       "1620  2013-03-01     16.0   42178.386514          NaN         NaN   \n",
       "...          ...      ...            ...          ...         ...   \n",
       "215   2022-02-01      2.0    3011.829310   -96.125548   -0.007171   \n",
       "2051  2022-02-01     19.0   49333.778427  -654.281009    0.001938   \n",
       "107   2022-02-01      1.0   23002.274788  -941.518315   -0.064474   \n",
       "1511  2022-02-01     14.0  120467.738343 -3934.324906    0.000480   \n",
       "2267  2022-02-01     21.0    2912.445930  -719.438249   -0.347835   \n",
       "\n",
       "      sic7_1d_numeric         sic7_1d  \n",
       "0                   1     Agriculture  \n",
       "1188               12     Real estate  \n",
       "1728               17          Health  \n",
       "540                 6    Construction  \n",
       "1620               16       Education  \n",
       "...               ...             ...  \n",
       "215                 2          Mining  \n",
       "2051               19  Other services  \n",
       "107                 1     Agriculture  \n",
       "1511               14  Administration  \n",
       "2267               21   Organizations  \n",
       "\n",
       "[2268 rows x 7 columns]"
      ]
     },
     "execution_count": 82,
     "metadata": {},
     "output_type": "execute_result"
    }
   ],
   "source": [
    "def checkAllFTEGrowth(years=12,group='SIC7_1d',var='FTE'):\n",
    "    sectors = filterCleanCPT('Data/Municipal_FTE_Industry5d_Monthly.csv')\n",
    "    change = []\n",
    "    df = sectors.groupby([group,'month'])[var].sum().reset_index()\n",
    "    for sector in sectors[group].unique():\n",
    "        diffDf = pd.DataFrame(df[df[group]==sector].sort_values('month')['FTE'].diff(years))\n",
    "        diffDf.columns = [var+'_delta']\n",
    "        diffDf['pct_change'] = pd.DataFrame(df[df[group]==sector].sort_values('month')['FTE'].pct_change(12))\n",
    "        diffDf[\"month\"]  = sorted(sectors.month.unique())\n",
    "        diffDf[group] = sector\n",
    "        change.append(diffDf)\n",
    "\n",
    "    change = pd.concat(change,axis=0).set_index(['month','SIC7_1d'])\n",
    "    df.set_index(['month','SIC7_1d'],inplace=True)\n",
    "    change = pd.merge(df,change,left_index=True,right_index=True).reset_index()\n",
    "    key  = pd.read_csv('keys/key1d.csv')\n",
    "    change = pd.merge(change,key, right_on=\"sic7_1d_numeric\",left_on=\"SIC7_1d\")\n",
    "    return change.sort_values('month')\n",
    "\n",
    "change = checkAllFTEGrowth(years=1,group='SIC7_1d',var='FTE')\n",
    "change"
   ]
  },
  {
   "cell_type": "code",
   "execution_count": 83,
   "metadata": {},
   "outputs": [
    {
     "data": {
      "application/vnd.plotly.v1+json": {
       "config": {
        "plotlyServerURL": "https://plot.ly"
       },
       "data": [
        {
         "alignmentgroup": "True",
         "hovertemplate": "Sector=Accommodation<br>Month=%{x}<br>FTE change y-o-y=%{y}<extra></extra>",
         "legendgroup": "Accommodation",
         "marker": {
          "color": "#AA0DFE",
          "pattern": {
           "shape": ""
          }
         },
         "name": "Accommodation",
         "offsetgroup": "Accommodation",
         "orientation": "v",
         "showlegend": true,
         "textposition": "auto",
         "type": "bar",
         "x": [
          "2019-03-01",
          "2019-04-01",
          "2019-05-01",
          "2019-06-01",
          "2019-07-01",
          "2019-08-01",
          "2019-09-01",
          "2019-10-01",
          "2019-11-01",
          "2019-12-01",
          "2020-01-01",
          "2020-02-01",
          "2020-03-01",
          "2020-04-01",
          "2020-05-01",
          "2020-06-01",
          "2020-07-01",
          "2020-08-01",
          "2020-09-01",
          "2020-10-01",
          "2020-11-01",
          "2020-12-01",
          "2021-01-01",
          "2021-02-01",
          "2021-03-01",
          "2021-04-01",
          "2021-05-01",
          "2021-06-01",
          "2021-07-01",
          "2021-08-01",
          "2021-09-01",
          "2021-10-01",
          "2021-11-01",
          "2021-12-01",
          "2022-01-01",
          "2022-02-01"
         ],
         "xaxis": "x",
         "y": [
          1263.7869096478316,
          1397.1899354565685,
          2047.004018067164,
          2088.8158861548,
          2197.181491955409,
          2516.3464536249594,
          2866.034373172799,
          2490.4089271555276,
          1662.0547106889426,
          1328.2700692888611,
          1233.2001956541644,
          714.9775319721812,
          2128.4177682534355,
          -406.3104888246744,
          -2224.202111628445,
          -2949.802643149851,
          -4360.659691428627,
          -6052.776128038022,
          -7893.153091736858,
          -8951.776317960845,
          -9893.178611704992,
          -10259.463023344266,
          -10606.522274055424,
          -10312.930843673741,
          -13684.981208687095,
          -10812.00181796564,
          -9247.940022928859,
          -8121.420218977466,
          -7156.546644477792,
          -6194.019781111594,
          -4776.033894719862,
          -3926.4408761968516,
          -2173.2441030085247,
          -1742.8170138539717,
          -965.6654277267298,
          -95.91740205011592
         ],
         "yaxis": "y"
        },
        {
         "alignmentgroup": "True",
         "hovertemplate": "Sector=Administration<br>Month=%{x}<br>FTE change y-o-y=%{y}<extra></extra>",
         "legendgroup": "Administration",
         "marker": {
          "color": "#3283FE",
          "pattern": {
           "shape": ""
          }
         },
         "name": "Administration",
         "offsetgroup": "Administration",
         "orientation": "v",
         "showlegend": true,
         "textposition": "auto",
         "type": "bar",
         "x": [
          "2019-03-01",
          "2019-04-01",
          "2019-05-01",
          "2019-06-01",
          "2019-07-01",
          "2019-08-01",
          "2019-09-01",
          "2019-10-01",
          "2019-11-01",
          "2019-12-01",
          "2020-01-01",
          "2020-02-01",
          "2020-03-01",
          "2020-04-01",
          "2020-05-01",
          "2020-06-01",
          "2020-07-01",
          "2020-08-01",
          "2020-09-01",
          "2020-10-01",
          "2020-11-01",
          "2020-12-01",
          "2021-01-01",
          "2021-02-01",
          "2021-03-01",
          "2021-04-01",
          "2021-05-01",
          "2021-06-01",
          "2021-07-01",
          "2021-08-01",
          "2021-09-01",
          "2021-10-01",
          "2021-11-01",
          "2021-12-01",
          "2022-01-01",
          "2022-02-01"
         ],
         "xaxis": "x",
         "y": [
          3692.7786251586513,
          4084.329140231581,
          4437.514724719746,
          4896.852235929604,
          4656.788038485785,
          5092.8938658438565,
          5724.694808540036,
          6367.093647812697,
          6574.302890122999,
          6273.647950639541,
          7743.141191356248,
          8353.623677758835,
          5550.580571107726,
          3451.088278189127,
          3018.186828545993,
          2793.70809609117,
          1945.7166532293195,
          1491.1782596986013,
          1299.026654466361,
          1706.9544987932168,
          2130.054524625215,
          2738.88112267392,
          3231.9126795997,
          3014.2335392014647,
          -7883.7580637993815,
          -5208.368962668115,
          -4254.154622077433,
          -3831.7477286253707,
          -3335.2201189869083,
          -2283.979470111124,
          -1346.6194871567277,
          -1557.8237190723448,
          -507.9382184959686,
          -339.6390548900963,
          182.6182029719057,
          57.83355981823115
         ],
         "yaxis": "y"
        },
        {
         "alignmentgroup": "True",
         "hovertemplate": "Sector=Agriculture<br>Month=%{x}<br>FTE change y-o-y=%{y}<extra></extra>",
         "legendgroup": "Agriculture",
         "marker": {
          "color": "#85660D",
          "pattern": {
           "shape": ""
          }
         },
         "name": "Agriculture",
         "offsetgroup": "Agriculture",
         "orientation": "v",
         "showlegend": true,
         "textposition": "auto",
         "type": "bar",
         "x": [
          "2019-03-01",
          "2019-04-01",
          "2019-05-01",
          "2019-06-01",
          "2019-07-01",
          "2019-08-01",
          "2019-09-01",
          "2019-10-01",
          "2019-11-01",
          "2019-12-01",
          "2020-01-01",
          "2020-02-01",
          "2020-03-01",
          "2020-04-01",
          "2020-05-01",
          "2020-06-01",
          "2020-07-01",
          "2020-08-01",
          "2020-09-01",
          "2020-10-01",
          "2020-11-01",
          "2020-12-01",
          "2021-01-01",
          "2021-02-01",
          "2021-03-01",
          "2021-04-01",
          "2021-05-01",
          "2021-06-01",
          "2021-07-01",
          "2021-08-01",
          "2021-09-01",
          "2021-10-01",
          "2021-11-01",
          "2021-12-01",
          "2022-01-01",
          "2022-02-01"
         ],
         "xaxis": "x",
         "y": [
          -383.6759709079961,
          -228.9405610933427,
          334.44510410054863,
          717.2669176439958,
          689.8923249298568,
          482.1581374827947,
          952.1107766079185,
          811.4949357623591,
          901.6544266184646,
          396.889215531839,
          283.7680588167823,
          800.2890015017474,
          2909.766404285492,
          2515.0018436724276,
          2405.564003187239,
          2091.4999334857603,
          2091.96584142957,
          2017.5307761534823,
          1640.4941879579746,
          1778.1605351348517,
          2194.694559952295,
          2755.9515944349077,
          2716.7782494641106,
          2089.674656075651,
          -1284.9479550862234,
          -1119.9404317523877,
          -914.3923127431444,
          -1339.851534265159,
          -1503.500078568155,
          -1290.286349765589,
          -1365.2623679422395,
          -1508.4752298948079,
          -1553.8960099655233,
          -1667.0194173595628,
          -1789.7869732670297,
          -1585.258950579242
         ],
         "yaxis": "y"
        },
        {
         "alignmentgroup": "True",
         "hovertemplate": "Sector=Arts<br>Month=%{x}<br>FTE change y-o-y=%{y}<extra></extra>",
         "legendgroup": "Arts",
         "marker": {
          "color": "#782AB6",
          "pattern": {
           "shape": ""
          }
         },
         "name": "Arts",
         "offsetgroup": "Arts",
         "orientation": "v",
         "showlegend": true,
         "textposition": "auto",
         "type": "bar",
         "x": [
          "2019-03-01",
          "2019-04-01",
          "2019-05-01",
          "2019-06-01",
          "2019-07-01",
          "2019-08-01",
          "2019-09-01",
          "2019-10-01",
          "2019-11-01",
          "2019-12-01",
          "2020-01-01",
          "2020-02-01",
          "2020-03-01",
          "2020-04-01",
          "2020-05-01",
          "2020-06-01",
          "2020-07-01",
          "2020-08-01",
          "2020-09-01",
          "2020-10-01",
          "2020-11-01",
          "2020-12-01",
          "2021-01-01",
          "2021-02-01",
          "2021-03-01",
          "2021-04-01",
          "2021-05-01",
          "2021-06-01",
          "2021-07-01",
          "2021-08-01",
          "2021-09-01",
          "2021-10-01",
          "2021-11-01",
          "2021-12-01",
          "2022-01-01",
          "2022-02-01"
         ],
         "xaxis": "x",
         "y": [
          3769.7232292390618,
          3813.5139257469928,
          4022.4358738000665,
          3994.7441370704473,
          3802.0073693070626,
          3619.4156807225663,
          3660.4413800679504,
          3522.5297261280175,
          3566.9305511124585,
          3748.4064645830877,
          3590.598482447458,
          3071.372957608626,
          -2656.163323091492,
          -3197.614542067091,
          -3549.9453774780923,
          -3763.7924821799606,
          -3954.2132264285683,
          -4157.249164617842,
          -4616.307174260259,
          -5144.934751509169,
          -4520.713721077736,
          -4388.742868511232,
          -4282.370436975951,
          -4144.32067329573,
          -1956.2216858271931,
          -1942.2599262992953,
          -1448.4970607919313,
          -1123.1920300933343,
          -918.4837355512609,
          -337.56058541865787,
          143.74036863864603,
          928.5904458869409,
          483.1942473893505,
          378.32690891765014,
          483.6110731242261,
          769.3479986798957
         ],
         "yaxis": "y"
        },
        {
         "alignmentgroup": "True",
         "hovertemplate": "Sector=Construction<br>Month=%{x}<br>FTE change y-o-y=%{y}<extra></extra>",
         "legendgroup": "Construction",
         "marker": {
          "color": "#565656",
          "pattern": {
           "shape": ""
          }
         },
         "name": "Construction",
         "offsetgroup": "Construction",
         "orientation": "v",
         "showlegend": true,
         "textposition": "auto",
         "type": "bar",
         "x": [
          "2019-03-01",
          "2019-04-01",
          "2019-05-01",
          "2019-06-01",
          "2019-07-01",
          "2019-08-01",
          "2019-09-01",
          "2019-10-01",
          "2019-11-01",
          "2019-12-01",
          "2020-01-01",
          "2020-02-01",
          "2020-03-01",
          "2020-04-01",
          "2020-05-01",
          "2020-06-01",
          "2020-07-01",
          "2020-08-01",
          "2020-09-01",
          "2020-10-01",
          "2020-11-01",
          "2020-12-01",
          "2021-01-01",
          "2021-02-01",
          "2021-03-01",
          "2021-04-01",
          "2021-05-01",
          "2021-06-01",
          "2021-07-01",
          "2021-08-01",
          "2021-09-01",
          "2021-10-01",
          "2021-11-01",
          "2021-12-01",
          "2022-01-01",
          "2022-02-01"
         ],
         "xaxis": "x",
         "y": [
          -2158.739481122968,
          -1772.3428612040152,
          -1445.6596005973624,
          -1269.169788209234,
          -1385.67325768702,
          -1517.363185102593,
          -1241.1617550834562,
          -957.9972630607663,
          -1509.2641192853553,
          -1788.6133231736967,
          -1792.8293364052734,
          -2542.0073595379654,
          -3702.0506675142533,
          -6224.6230301382675,
          -6950.172168895879,
          -6294.006642802582,
          -6065.1789058821305,
          -5945.892986689527,
          -6229.225178058201,
          -6743.817715942023,
          -6540.83263907284,
          -5995.641659398912,
          -5738.7783092148675,
          -4810.882912887253,
          -6171.991141210274,
          -3859.214960366451,
          -3061.1388968865067,
          -4087.0539720078596,
          -4719.6742374042005,
          -4772.172352889145,
          -4654.8970031275385,
          -4405.574558891902,
          -4303.268061861287,
          -4336.420720810056,
          -4547.739414764255,
          -6076.653813667333
         ],
         "yaxis": "y"
        },
        {
         "alignmentgroup": "True",
         "hovertemplate": "Sector=Education<br>Month=%{x}<br>FTE change y-o-y=%{y}<extra></extra>",
         "legendgroup": "Education",
         "marker": {
          "color": "#1C8356",
          "pattern": {
           "shape": ""
          }
         },
         "name": "Education",
         "offsetgroup": "Education",
         "orientation": "v",
         "showlegend": true,
         "textposition": "auto",
         "type": "bar",
         "x": [
          "2019-03-01",
          "2019-04-01",
          "2019-05-01",
          "2019-06-01",
          "2019-07-01",
          "2019-08-01",
          "2019-09-01",
          "2019-10-01",
          "2019-11-01",
          "2019-12-01",
          "2020-01-01",
          "2020-02-01",
          "2020-03-01",
          "2020-04-01",
          "2020-05-01",
          "2020-06-01",
          "2020-07-01",
          "2020-08-01",
          "2020-09-01",
          "2020-10-01",
          "2020-11-01",
          "2020-12-01",
          "2021-01-01",
          "2021-02-01",
          "2021-03-01",
          "2021-04-01",
          "2021-05-01",
          "2021-06-01",
          "2021-07-01",
          "2021-08-01",
          "2021-09-01",
          "2021-10-01",
          "2021-11-01",
          "2021-12-01",
          "2022-01-01",
          "2022-02-01"
         ],
         "xaxis": "x",
         "y": [
          3359.6390841404937,
          3455.9233852195466,
          3415.671685653426,
          4290.8576389036825,
          4834.750602065418,
          4444.68500440129,
          4318.185911038519,
          4181.861241377643,
          3842.0153250135627,
          3614.0629695600146,
          3617.1605956563,
          3457.541522445863,
          -1572.939202789661,
          -3725.624854493304,
          -4700.8756961197,
          -4665.075169965814,
          -4753.9997437371785,
          -6537.1874809498695,
          -6204.3512488935085,
          -7023.991267000885,
          -5942.447351437848,
          -1400.4196389006684,
          -1442.5712882080406,
          -1813.2830067809773,
          435.50432288532465,
          3744.4874238269185,
          3421.1337759618036,
          4124.760256683032,
          4656.716265524468,
          5761.887639508728,
          5882.38528356966,
          6972.615863956387,
          8862.700153457714,
          4950.379880864391,
          5157.62319033713,
          5073.703342950859
         ],
         "yaxis": "y"
        },
        {
         "alignmentgroup": "True",
         "hovertemplate": "Sector=Electricity<br>Month=%{x}<br>FTE change y-o-y=%{y}<extra></extra>",
         "legendgroup": "Electricity",
         "marker": {
          "color": "#16FF32",
          "pattern": {
           "shape": ""
          }
         },
         "name": "Electricity",
         "offsetgroup": "Electricity",
         "orientation": "v",
         "showlegend": true,
         "textposition": "auto",
         "type": "bar",
         "x": [
          "2019-03-01",
          "2019-04-01",
          "2019-05-01",
          "2019-06-01",
          "2019-07-01",
          "2019-08-01",
          "2019-09-01",
          "2019-10-01",
          "2019-11-01",
          "2019-12-01",
          "2020-01-01",
          "2020-02-01",
          "2020-03-01",
          "2020-04-01",
          "2020-05-01",
          "2020-06-01",
          "2020-07-01",
          "2020-08-01",
          "2020-09-01",
          "2020-10-01",
          "2020-11-01",
          "2020-12-01",
          "2021-01-01",
          "2021-02-01",
          "2021-03-01",
          "2021-04-01",
          "2021-05-01",
          "2021-06-01",
          "2021-07-01",
          "2021-08-01",
          "2021-09-01",
          "2021-10-01",
          "2021-11-01",
          "2021-12-01",
          "2022-01-01",
          "2022-02-01"
         ],
         "xaxis": "x",
         "y": [
          293.26344229543975,
          279.2400434183396,
          317.15162671718554,
          346.5731499975218,
          399.485298803922,
          432.410284456676,
          468.29586627271465,
          427.7366873705696,
          395.6006612367005,
          391.8542178347784,
          417.8287665174057,
          430.8992057249775,
          947.0426925439078,
          893.0218439895543,
          872.0792337859557,
          857.2190861612289,
          836.4382740325423,
          927.3426266932629,
          945.9662960136316,
          977.6679618398939,
          960.5789865822039,
          948.5284694486604,
          836.1612291882675,
          807.9124059764354,
          54.213441702111595,
          118.35339252168887,
          116.02315797514075,
          71.35450829759793,
          107.63036688859665,
          -16.524346012755814,
          -123.94730764941596,
          -161.21968568412285,
          -143.27804150219254,
          -180.12274196130693,
          -114.08405896905606,
          -167.8805591892342
         ],
         "yaxis": "y"
        },
        {
         "alignmentgroup": "True",
         "hovertemplate": "Sector=Financial<br>Month=%{x}<br>FTE change y-o-y=%{y}<extra></extra>",
         "legendgroup": "Financial",
         "marker": {
          "color": "#F7E1A0",
          "pattern": {
           "shape": ""
          }
         },
         "name": "Financial",
         "offsetgroup": "Financial",
         "orientation": "v",
         "showlegend": true,
         "textposition": "auto",
         "type": "bar",
         "x": [
          "2019-03-01",
          "2019-04-01",
          "2019-05-01",
          "2019-06-01",
          "2019-07-01",
          "2019-08-01",
          "2019-09-01",
          "2019-10-01",
          "2019-11-01",
          "2019-12-01",
          "2020-01-01",
          "2020-02-01",
          "2020-03-01",
          "2020-04-01",
          "2020-05-01",
          "2020-06-01",
          "2020-07-01",
          "2020-08-01",
          "2020-09-01",
          "2020-10-01",
          "2020-11-01",
          "2020-12-01",
          "2021-01-01",
          "2021-02-01",
          "2021-03-01",
          "2021-04-01",
          "2021-05-01",
          "2021-06-01",
          "2021-07-01",
          "2021-08-01",
          "2021-09-01",
          "2021-10-01",
          "2021-11-01",
          "2021-12-01",
          "2022-01-01",
          "2022-02-01"
         ],
         "xaxis": "x",
         "y": [
          6425.28760464424,
          5958.4761126589,
          5780.800551536129,
          6106.252976467047,
          6231.011547343718,
          6403.4011868426605,
          6223.8190005221695,
          5912.986614906462,
          5362.876286677361,
          5450.163402689024,
          5649.5503089954,
          5719.788709980305,
          7497.610809866645,
          5947.922285628039,
          4986.447151490342,
          3712.543530499228,
          2835.98775920576,
          3364.9839324236527,
          3643.797232473982,
          3559.599143793079,
          4671.106216565095,
          4125.534603738168,
          3981.2123241699737,
          3695.923500588542,
          -1178.9237750973698,
          -191.51952474225254,
          501.8894852431695,
          1384.82326378148,
          2202.541065174737,
          1872.5965265515551,
          2005.6858464581455,
          2452.8137705328118,
          3494.132024621358,
          3781.011842634456,
          3339.7738547146582,
          2734.320248808581
         ],
         "yaxis": "y"
        },
        {
         "alignmentgroup": "True",
         "hovertemplate": "Sector=Health<br>Month=%{x}<br>FTE change y-o-y=%{y}<extra></extra>",
         "legendgroup": "Health",
         "marker": {
          "color": "#E2E2E2",
          "pattern": {
           "shape": ""
          }
         },
         "name": "Health",
         "offsetgroup": "Health",
         "orientation": "v",
         "showlegend": true,
         "textposition": "auto",
         "type": "bar",
         "x": [
          "2019-03-01",
          "2019-04-01",
          "2019-05-01",
          "2019-06-01",
          "2019-07-01",
          "2019-08-01",
          "2019-09-01",
          "2019-10-01",
          "2019-11-01",
          "2019-12-01",
          "2020-01-01",
          "2020-02-01",
          "2020-03-01",
          "2020-04-01",
          "2020-05-01",
          "2020-06-01",
          "2020-07-01",
          "2020-08-01",
          "2020-09-01",
          "2020-10-01",
          "2020-11-01",
          "2020-12-01",
          "2021-01-01",
          "2021-02-01",
          "2021-03-01",
          "2021-04-01",
          "2021-05-01",
          "2021-06-01",
          "2021-07-01",
          "2021-08-01",
          "2021-09-01",
          "2021-10-01",
          "2021-11-01",
          "2021-12-01",
          "2022-01-01",
          "2022-02-01"
         ],
         "xaxis": "x",
         "y": [
          2048.7204637062023,
          1871.2800461334991,
          1837.1037349961407,
          1986.3792936001264,
          2192.465365943055,
          2332.2312148646233,
          2390.6882439911715,
          3069.4362586676216,
          3229.365518728009,
          3190.5081611487767,
          3621.0932072713185,
          3089.539374308093,
          2052.9495939453845,
          1105.7398923874862,
          546.033819391123,
          579.8622097840416,
          1060.162143027359,
          1121.1556717769927,
          796.2832139884995,
          -537.8200932596446,
          -437.61054466966743,
          -614.3045527895374,
          -158.67920541112835,
          252.30618782157399,
          941.4037054958972,
          1320.8480801199476,
          1288.7325413342987,
          1206.8604218758846,
          1110.2483199756753,
          1088.434602338246,
          1389.9862650328942,
          1791.3851877454945,
          1511.190657092331,
          1507.6412616898378,
          1232.1365761239504,
          1234.82489761147
         ],
         "yaxis": "y"
        },
        {
         "alignmentgroup": "True",
         "hovertemplate": "Sector=Households<br>Month=%{x}<br>FTE change y-o-y=%{y}<extra></extra>",
         "legendgroup": "Households",
         "marker": {
          "color": "#1CBE4F",
          "pattern": {
           "shape": ""
          }
         },
         "name": "Households",
         "offsetgroup": "Households",
         "orientation": "v",
         "showlegend": true,
         "textposition": "auto",
         "type": "bar",
         "x": [
          "2019-03-01",
          "2019-04-01",
          "2019-05-01",
          "2019-06-01",
          "2019-07-01",
          "2019-08-01",
          "2019-09-01",
          "2019-10-01",
          "2019-11-01",
          "2019-12-01",
          "2020-01-01",
          "2020-02-01",
          "2020-03-01",
          "2020-04-01",
          "2020-05-01",
          "2020-06-01",
          "2020-07-01",
          "2020-08-01",
          "2020-09-01",
          "2020-10-01",
          "2020-11-01",
          "2020-12-01",
          "2021-01-01",
          "2021-02-01",
          "2021-03-01",
          "2021-04-01",
          "2021-05-01",
          "2021-06-01",
          "2021-07-01",
          "2021-08-01",
          "2021-09-01",
          "2021-10-01",
          "2021-11-01",
          "2021-12-01",
          "2022-01-01",
          "2022-02-01"
         ],
         "xaxis": "x",
         "y": [
          81.45416813014162,
          75.33723463982892,
          -3.64024474095595,
          67.83982740468628,
          79.53322559157027,
          60.519256735669046,
          49.63020677697614,
          46.99894762913493,
          33.39945115524449,
          -1.2126848827734875,
          -24.941238006752542,
          -51.1067062070025,
          -72.41876133705546,
          -89.67842204108808,
          -4.3583104318397545,
          138.7201619971753,
          124.29937589646306,
          104.06856872254093,
          91.61897800078407,
          100.82363227807468,
          107.67219302887986,
          96.9363153127822,
          89.19387607009162,
          96.12776182149298,
          199.19071895483444,
          193.18228601529768,
          180.11016080459274,
          25.873586689599733,
          26.283859843437313,
          37.25160177892053,
          44.453616943689326,
          36.87512232003371,
          33.73056115499742,
          45.678697009656844,
          21.038071917678167,
          16.710882977586266
         ],
         "yaxis": "y"
        },
        {
         "alignmentgroup": "True",
         "hovertemplate": "Sector=IT<br>Month=%{x}<br>FTE change y-o-y=%{y}<extra></extra>",
         "legendgroup": "IT",
         "marker": {
          "color": "#C4451C",
          "pattern": {
           "shape": ""
          }
         },
         "name": "IT",
         "offsetgroup": "IT",
         "orientation": "v",
         "showlegend": true,
         "textposition": "auto",
         "type": "bar",
         "x": [
          "2019-03-01",
          "2019-04-01",
          "2019-05-01",
          "2019-06-01",
          "2019-07-01",
          "2019-08-01",
          "2019-09-01",
          "2019-10-01",
          "2019-11-01",
          "2019-12-01",
          "2020-01-01",
          "2020-02-01",
          "2020-03-01",
          "2020-04-01",
          "2020-05-01",
          "2020-06-01",
          "2020-07-01",
          "2020-08-01",
          "2020-09-01",
          "2020-10-01",
          "2020-11-01",
          "2020-12-01",
          "2021-01-01",
          "2021-02-01",
          "2021-03-01",
          "2021-04-01",
          "2021-05-01",
          "2021-06-01",
          "2021-07-01",
          "2021-08-01",
          "2021-09-01",
          "2021-10-01",
          "2021-11-01",
          "2021-12-01",
          "2022-01-01",
          "2022-02-01"
         ],
         "xaxis": "x",
         "y": [
          7908.195657561482,
          7454.666126230608,
          6677.2484285576575,
          7015.89663957397,
          6564.015783471819,
          6428.770393648723,
          5435.644712099747,
          2686.60871070328,
          3272.526458923552,
          3754.2881713205716,
          3959.5034788435078,
          4691.8456256401405,
          -2856.620022138428,
          -3836.82678665001,
          -4133.318818755215,
          -5178.558826548899,
          -5669.536215638684,
          -6113.921755679956,
          -6101.78170403454,
          -5857.731124642451,
          -6632.86753205023,
          -6248.351498607073,
          -6696.539069172402,
          -7023.3885429166985,
          -3124.8028603576167,
          -1363.6774232094758,
          -331.41167412829236,
          302.28198405370495,
          -54.73244951984816,
          -256.2650636187245,
          -385.34369420882285,
          -599.4289416753309,
          -796.785540949335,
          -1452.7316068759174,
          -1536.3986871754896,
          -148.56761896586977
         ],
         "yaxis": "y"
        },
        {
         "alignmentgroup": "True",
         "hovertemplate": "Sector=Manufacturing<br>Month=%{x}<br>FTE change y-o-y=%{y}<extra></extra>",
         "legendgroup": "Manufacturing",
         "marker": {
          "color": "#DEA0FD",
          "pattern": {
           "shape": ""
          }
         },
         "name": "Manufacturing",
         "offsetgroup": "Manufacturing",
         "orientation": "v",
         "showlegend": true,
         "textposition": "auto",
         "type": "bar",
         "x": [
          "2019-03-01",
          "2019-04-01",
          "2019-05-01",
          "2019-06-01",
          "2019-07-01",
          "2019-08-01",
          "2019-09-01",
          "2019-10-01",
          "2019-11-01",
          "2019-12-01",
          "2020-01-01",
          "2020-02-01",
          "2020-03-01",
          "2020-04-01",
          "2020-05-01",
          "2020-06-01",
          "2020-07-01",
          "2020-08-01",
          "2020-09-01",
          "2020-10-01",
          "2020-11-01",
          "2020-12-01",
          "2021-01-01",
          "2021-02-01",
          "2021-03-01",
          "2021-04-01",
          "2021-05-01",
          "2021-06-01",
          "2021-07-01",
          "2021-08-01",
          "2021-09-01",
          "2021-10-01",
          "2021-11-01",
          "2021-12-01",
          "2022-01-01",
          "2022-02-01"
         ],
         "xaxis": "x",
         "y": [
          3968.01384736193,
          4135.05192941791,
          4385.447658689314,
          4897.093334593228,
          4768.054774498567,
          4102.490805323963,
          3919.0367339502554,
          3733.977385461738,
          3159.8939066019084,
          3018.8597149127745,
          2027.3588294770743,
          1554.204119336122,
          -4618.294904855691,
          -8025.835747113044,
          -9036.5713869202,
          -10213.31115775634,
          -11069.109651681036,
          -11327.097564302268,
          -11087.354648646491,
          -11722.537100625952,
          -11888.07832158808,
          -10930.675326892786,
          -10612.107085223717,
          -9779.764903680392,
          -12286.340922624455,
          -9494.940390570584,
          -7611.734591871995,
          -6477.259261268337,
          -5413.184043470072,
          -4063.738787856244,
          -3323.0094083726,
          -2258.5348580617574,
          -1916.8073693552578,
          -1981.308869018685,
          -1238.9208917804935,
          -3765.598185658193
         ],
         "yaxis": "y"
        },
        {
         "alignmentgroup": "True",
         "hovertemplate": "Sector=Mining<br>Month=%{x}<br>FTE change y-o-y=%{y}<extra></extra>",
         "legendgroup": "Mining",
         "marker": {
          "color": "#FE00FA",
          "pattern": {
           "shape": ""
          }
         },
         "name": "Mining",
         "offsetgroup": "Mining",
         "orientation": "v",
         "showlegend": true,
         "textposition": "auto",
         "type": "bar",
         "x": [
          "2019-03-01",
          "2019-04-01",
          "2019-05-01",
          "2019-06-01",
          "2019-07-01",
          "2019-08-01",
          "2019-09-01",
          "2019-10-01",
          "2019-11-01",
          "2019-12-01",
          "2020-01-01",
          "2020-02-01",
          "2020-03-01",
          "2020-04-01",
          "2020-05-01",
          "2020-06-01",
          "2020-07-01",
          "2020-08-01",
          "2020-09-01",
          "2020-10-01",
          "2020-11-01",
          "2020-12-01",
          "2021-01-01",
          "2021-02-01",
          "2021-03-01",
          "2021-04-01",
          "2021-05-01",
          "2021-06-01",
          "2021-07-01",
          "2021-08-01",
          "2021-09-01",
          "2021-10-01",
          "2021-11-01",
          "2021-12-01",
          "2022-01-01",
          "2022-02-01"
         ],
         "xaxis": "x",
         "y": [
          471.06853687093053,
          473.87269656108583,
          510.9922827641699,
          449.4138468926044,
          330.6769242769433,
          314.07220685514494,
          387.75332875715185,
          485.5520770961043,
          398.01763693277235,
          372.2079298636986,
          368.8523708618545,
          396.385049810136,
          -268.4887546458517,
          -285.1183956442246,
          -360.1830269919824,
          -359.05200252872737,
          -331.89229452419113,
          -361.64639382234327,
          -391.85273528773314,
          -443.1489395976196,
          -334.55525918770354,
          -345.34071082860146,
          -440.8194498259613,
          -456.7276078690684,
          -240.53184573968656,
          -211.02632930943264,
          -199.14241570022523,
          -192.08977371744686,
          -146.44922858355994,
          -82.89457171557387,
          -98.58660000747932,
          -93.27156999312592,
          -102.4903874180709,
          -88.78079342549563,
          56.17642621167306,
          -21.754169816220383
         ],
         "yaxis": "y"
        },
        {
         "alignmentgroup": "True",
         "hovertemplate": "Sector=Organizations<br>Month=%{x}<br>FTE change y-o-y=%{y}<extra></extra>",
         "legendgroup": "Organizations",
         "marker": {
          "color": "#325A9B",
          "pattern": {
           "shape": ""
          }
         },
         "name": "Organizations",
         "offsetgroup": "Organizations",
         "orientation": "v",
         "showlegend": true,
         "textposition": "auto",
         "type": "bar",
         "x": [
          "2019-03-01",
          "2019-04-01",
          "2019-05-01",
          "2019-06-01",
          "2019-07-01",
          "2019-08-01",
          "2019-09-01",
          "2019-10-01",
          "2019-11-01",
          "2019-12-01",
          "2020-01-01",
          "2020-02-01",
          "2020-03-01",
          "2020-04-01",
          "2020-05-01",
          "2020-06-01",
          "2020-07-01",
          "2020-08-01",
          "2020-09-01",
          "2020-10-01",
          "2020-11-01",
          "2020-12-01",
          "2021-01-01",
          "2021-02-01",
          "2021-03-01",
          "2021-04-01",
          "2021-05-01",
          "2021-06-01",
          "2021-07-01",
          "2021-08-01",
          "2021-09-01",
          "2021-10-01",
          "2021-11-01",
          "2021-12-01",
          "2022-01-01",
          "2022-02-01"
         ],
         "xaxis": "x",
         "y": [
          508.76074365530894,
          733.218873659278,
          746.5208259060673,
          457.04671348816737,
          382.0281634060757,
          367.2065369587626,
          394.45310081696607,
          33.51088406052622,
          -86.70237009075754,
          -131.0207849630624,
          -119.07647423870822,
          -395.70893493911717,
          -981.0538553359265,
          -1395.7046890762194,
          -1605.7941170689537,
          -1365.1961374876537,
          -1237.2410565202772,
          -1285.1291630294718,
          -1523.5715200173545,
          -2705.4851805156495,
          -2881.775435340931,
          -2815.5755428457032,
          -2881.418989064735,
          -2683.874769917371,
          -2094.567649101604,
          -2518.0618843383163,
          -2471.1306868024503,
          -2421.5416450706343,
          -2364.975929598636,
          -2273.4187856635917,
          -2133.2343681843404,
          -1302.7906521733157,
          -1402.5765523214977,
          -1703.1270123630989,
          -1609.445115936248,
          -1553.3627328311377
         ],
         "yaxis": "y"
        },
        {
         "alignmentgroup": "True",
         "hovertemplate": "Sector=Other services<br>Month=%{x}<br>FTE change y-o-y=%{y}<extra></extra>",
         "legendgroup": "Other services",
         "marker": {
          "color": "#FEAF16",
          "pattern": {
           "shape": ""
          }
         },
         "name": "Other services",
         "offsetgroup": "Other services",
         "orientation": "v",
         "showlegend": true,
         "textposition": "auto",
         "type": "bar",
         "x": [
          "2019-03-01",
          "2019-04-01",
          "2019-05-01",
          "2019-06-01",
          "2019-07-01",
          "2019-08-01",
          "2019-09-01",
          "2019-10-01",
          "2019-11-01",
          "2019-12-01",
          "2020-01-01",
          "2020-02-01",
          "2020-03-01",
          "2020-04-01",
          "2020-05-01",
          "2020-06-01",
          "2020-07-01",
          "2020-08-01",
          "2020-09-01",
          "2020-10-01",
          "2020-11-01",
          "2020-12-01",
          "2021-01-01",
          "2021-02-01",
          "2021-03-01",
          "2021-04-01",
          "2021-05-01",
          "2021-06-01",
          "2021-07-01",
          "2021-08-01",
          "2021-09-01",
          "2021-10-01",
          "2021-11-01",
          "2021-12-01",
          "2022-01-01",
          "2022-02-01"
         ],
         "xaxis": "x",
         "y": [
          1586.4019094099422,
          1603.4669011183796,
          922.3231151929795,
          550.5958614948613,
          1398.3334179666708,
          656.67932493017,
          571.2310626729595,
          1546.4451323902176,
          1362.0500285167873,
          1355.7388823474612,
          1844.3294192151589,
          1577.9846242448402,
          -350.7892768946622,
          -1289.2766366634314,
          -1135.871554048179,
          -986.6439607990687,
          -1679.99133774059,
          -1621.6608861493296,
          -2567.960126226244,
          -837.4442754566844,
          -752.6136848979149,
          431.0636663713012,
          538.6054625951147,
          1432.3637616274646,
          1261.1019491891275,
          443.58440086079645,
          1308.4063393714314,
          1477.241727853805,
          2004.071025443569,
          2237.362056573642,
          2705.3188416216435,
          1160.77224723564,
          1540.8753344220531,
          1106.9925521756304,
          445.156939597211,
          95.408021733223
         ],
         "yaxis": "y"
        },
        {
         "alignmentgroup": "True",
         "hovertemplate": "Sector=Public administration<br>Month=%{x}<br>FTE change y-o-y=%{y}<extra></extra>",
         "legendgroup": "Public administration",
         "marker": {
          "color": "#F8A19F",
          "pattern": {
           "shape": ""
          }
         },
         "name": "Public administration",
         "offsetgroup": "Public administration",
         "orientation": "v",
         "showlegend": true,
         "textposition": "auto",
         "type": "bar",
         "x": [
          "2019-03-01",
          "2019-04-01",
          "2019-05-01",
          "2019-06-01",
          "2019-07-01",
          "2019-08-01",
          "2019-09-01",
          "2019-10-01",
          "2019-11-01",
          "2019-12-01",
          "2020-01-01",
          "2020-02-01",
          "2020-03-01",
          "2020-04-01",
          "2020-05-01",
          "2020-06-01",
          "2020-07-01",
          "2020-08-01",
          "2020-09-01",
          "2020-10-01",
          "2020-11-01",
          "2020-12-01",
          "2021-01-01",
          "2021-02-01",
          "2021-03-01",
          "2021-04-01",
          "2021-05-01",
          "2021-06-01",
          "2021-07-01",
          "2021-08-01",
          "2021-09-01",
          "2021-10-01",
          "2021-11-01",
          "2021-12-01",
          "2022-01-01",
          "2022-02-01"
         ],
         "xaxis": "x",
         "y": [
          2461.8901847891975,
          4265.7533756016055,
          3883.9692633400846,
          4184.254440300283,
          3130.265301760024,
          2735.465901938267,
          3198.25297416377,
          6789.316650477675,
          6918.133353825484,
          5285.408904412412,
          5198.20354965204,
          5036.254263678129,
          5072.341640049621,
          561.6440037597204,
          -2279.553982344136,
          -2877.978547710605,
          1551.5454392319953,
          1750.6978939594119,
          1047.4960205194075,
          -3070.062428996316,
          -882.3197092949122,
          -103.19705988172791,
          146.14316693556611,
          2148.624887351849,
          -1184.7132444900635,
          551.7562022984494,
          2604.053804752184,
          4316.243425387511,
          3436.0692656602187,
          4199.11849868315,
          4320.0603734203905,
          6812.696824574145,
          3433.821984149603,
          834.3139579504787,
          1494.2317971090088,
          -2256.5854242372734
         ],
         "yaxis": "y"
        },
        {
         "alignmentgroup": "True",
         "hovertemplate": "Sector=Real estate<br>Month=%{x}<br>FTE change y-o-y=%{y}<extra></extra>",
         "legendgroup": "Real estate",
         "marker": {
          "color": "#90AD1C",
          "pattern": {
           "shape": ""
          }
         },
         "name": "Real estate",
         "offsetgroup": "Real estate",
         "orientation": "v",
         "showlegend": true,
         "textposition": "auto",
         "type": "bar",
         "x": [
          "2019-03-01",
          "2019-04-01",
          "2019-05-01",
          "2019-06-01",
          "2019-07-01",
          "2019-08-01",
          "2019-09-01",
          "2019-10-01",
          "2019-11-01",
          "2019-12-01",
          "2020-01-01",
          "2020-02-01",
          "2020-03-01",
          "2020-04-01",
          "2020-05-01",
          "2020-06-01",
          "2020-07-01",
          "2020-08-01",
          "2020-09-01",
          "2020-10-01",
          "2020-11-01",
          "2020-12-01",
          "2021-01-01",
          "2021-02-01",
          "2021-03-01",
          "2021-04-01",
          "2021-05-01",
          "2021-06-01",
          "2021-07-01",
          "2021-08-01",
          "2021-09-01",
          "2021-10-01",
          "2021-11-01",
          "2021-12-01",
          "2022-01-01",
          "2022-02-01"
         ],
         "xaxis": "x",
         "y": [
          699.5107389253026,
          717.3852109666823,
          649.4528010249269,
          550.161757179987,
          507.01253591946625,
          518.0098660757558,
          743.9499286453283,
          739.2862592180682,
          682.4002315784492,
          738.217825347816,
          1096.0627270644636,
          1162.7689180204798,
          853.2491896164374,
          658.8424910138656,
          585.6497188694557,
          565.3230543563968,
          473.7567766517295,
          419.6055154713322,
          220.75634481480665,
          200.8487299825647,
          222.3489490275715,
          181.3838401945286,
          -205.75665339388797,
          -208.71467817041048,
          -298.45289689222045,
          -99.43843488425773,
          255.81130999358356,
          469.12319642592956,
          714.6610609814234,
          726.8117896671483,
          656.1017214476196,
          654.7313394232042,
          674.7732167827962,
          710.7394931045146,
          685.767251173731,
          574.1671331781326
         ],
         "yaxis": "y"
        },
        {
         "alignmentgroup": "True",
         "hovertemplate": "Sector=Retail & Repairs<br>Month=%{x}<br>FTE change y-o-y=%{y}<extra></extra>",
         "legendgroup": "Retail & Repairs",
         "marker": {
          "color": "#F6222E",
          "pattern": {
           "shape": ""
          }
         },
         "name": "Retail & Repairs",
         "offsetgroup": "Retail & Repairs",
         "orientation": "v",
         "showlegend": true,
         "textposition": "auto",
         "type": "bar",
         "x": [
          "2019-03-01",
          "2019-04-01",
          "2019-05-01",
          "2019-06-01",
          "2019-07-01",
          "2019-08-01",
          "2019-09-01",
          "2019-10-01",
          "2019-11-01",
          "2019-12-01",
          "2020-01-01",
          "2020-02-01",
          "2020-03-01",
          "2020-04-01",
          "2020-05-01",
          "2020-06-01",
          "2020-07-01",
          "2020-08-01",
          "2020-09-01",
          "2020-10-01",
          "2020-11-01",
          "2020-12-01",
          "2021-01-01",
          "2021-02-01",
          "2021-03-01",
          "2021-04-01",
          "2021-05-01",
          "2021-06-01",
          "2021-07-01",
          "2021-08-01",
          "2021-09-01",
          "2021-10-01",
          "2021-11-01",
          "2021-12-01",
          "2022-01-01",
          "2022-02-01"
         ],
         "xaxis": "x",
         "y": [
          10566.650729240733,
          10331.470311429468,
          10174.542452065216,
          8849.334695470287,
          10250.995275506226,
          10789.080586214899,
          9104.635678390681,
          6683.125502079434,
          4953.457132098905,
          4242.223011762544,
          4555.8579103548545,
          -2846.392667569511,
          -11385.691636477539,
          -16968.93994921242,
          -20425.886437480047,
          -22574.665260944108,
          -23873.90485311451,
          -25451.539020796365,
          -25799.57232631999,
          -20364.445426818158,
          -19397.562666487123,
          -20946.058173146565,
          -18712.79963376117,
          -19305.67004412756,
          -6147.2544424601365,
          -2066.8518948735436,
          1135.6883588925702,
          4637.334116679092,
          5835.5169913501595,
          7075.383142639359,
          8068.021201052587,
          4873.018599438597,
          4770.758510323241,
          5964.782034359698,
          5395.9657606266555,
          18601.807423937542
         ],
         "yaxis": "y"
        },
        {
         "alignmentgroup": "True",
         "hovertemplate": "Sector=Scientific<br>Month=%{x}<br>FTE change y-o-y=%{y}<extra></extra>",
         "legendgroup": "Scientific",
         "marker": {
          "color": "#1CFFCE",
          "pattern": {
           "shape": ""
          }
         },
         "name": "Scientific",
         "offsetgroup": "Scientific",
         "orientation": "v",
         "showlegend": true,
         "textposition": "auto",
         "type": "bar",
         "x": [
          "2019-03-01",
          "2019-04-01",
          "2019-05-01",
          "2019-06-01",
          "2019-07-01",
          "2019-08-01",
          "2019-09-01",
          "2019-10-01",
          "2019-11-01",
          "2019-12-01",
          "2020-01-01",
          "2020-02-01",
          "2020-03-01",
          "2020-04-01",
          "2020-05-01",
          "2020-06-01",
          "2020-07-01",
          "2020-08-01",
          "2020-09-01",
          "2020-10-01",
          "2020-11-01",
          "2020-12-01",
          "2021-01-01",
          "2021-02-01",
          "2021-03-01",
          "2021-04-01",
          "2021-05-01",
          "2021-06-01",
          "2021-07-01",
          "2021-08-01",
          "2021-09-01",
          "2021-10-01",
          "2021-11-01",
          "2021-12-01",
          "2022-01-01",
          "2022-02-01"
         ],
         "xaxis": "x",
         "y": [
          3492.9122558537783,
          3562.412573507856,
          3507.5210237703723,
          3461.445035298144,
          3627.407585922163,
          3700.5260193219,
          3305.621187962417,
          3610.9779798634772,
          3387.8898343506517,
          3003.720758096133,
          3040.0919701469247,
          2522.778737891407,
          -767.8758354978345,
          -1148.671515867827,
          -1779.5776844276625,
          -2319.0648690379094,
          -2518.8501585808262,
          -2770.6825530699352,
          -2372.2433081797208,
          -2338.423904889227,
          -2867.642129332351,
          -2486.9268676872525,
          -3302.550334559848,
          -2828.8997000768504,
          -1562.0417051767217,
          -1172.3827393772663,
          -282.55092588354455,
          506.5301736692127,
          1151.3298123253262,
          811.9274786975948,
          -424.0024426715536,
          259.98328108921123,
          1029.3910978857239,
          898.4781098866079,
          1012.7554811346708,
          1039.386196076768
         ],
         "yaxis": "y"
        },
        {
         "alignmentgroup": "True",
         "hovertemplate": "Sector=Transportation<br>Month=%{x}<br>FTE change y-o-y=%{y}<extra></extra>",
         "legendgroup": "Transportation",
         "marker": {
          "color": "#2ED9FF",
          "pattern": {
           "shape": ""
          }
         },
         "name": "Transportation",
         "offsetgroup": "Transportation",
         "orientation": "v",
         "showlegend": true,
         "textposition": "auto",
         "type": "bar",
         "x": [
          "2019-03-01",
          "2019-04-01",
          "2019-05-01",
          "2019-06-01",
          "2019-07-01",
          "2019-08-01",
          "2019-09-01",
          "2019-10-01",
          "2019-11-01",
          "2019-12-01",
          "2020-01-01",
          "2020-02-01",
          "2020-03-01",
          "2020-04-01",
          "2020-05-01",
          "2020-06-01",
          "2020-07-01",
          "2020-08-01",
          "2020-09-01",
          "2020-10-01",
          "2020-11-01",
          "2020-12-01",
          "2021-01-01",
          "2021-02-01",
          "2021-03-01",
          "2021-04-01",
          "2021-05-01",
          "2021-06-01",
          "2021-07-01",
          "2021-08-01",
          "2021-09-01",
          "2021-10-01",
          "2021-11-01",
          "2021-12-01",
          "2022-01-01",
          "2022-02-01"
         ],
         "xaxis": "x",
         "y": [
          1304.136413648739,
          1263.1282898520076,
          1196.20961089302,
          1065.703588196251,
          894.6319197612611,
          989.3722382970591,
          1361.674124530109,
          1142.6447347319772,
          1140.1066790776094,
          553.0292069543357,
          314.6748590828356,
          258.6339422768142,
          -597.251604410776,
          -1464.7548476312077,
          -1533.0421583675343,
          -1665.8734231809576,
          -2094.033954368635,
          -2268.7914340921707,
          -2719.3750471524254,
          -2458.2257212255863,
          -2293.6793838768426,
          -1886.1367500902852,
          -1617.085785723175,
          -2077.0820617905338,
          -1745.5816030050773,
          -136.52337568769144,
          115.03201194156281,
          175.96319902785035,
          772.8310241903455,
          729.3070853170866,
          656.3938854974404,
          568.8751849301916,
          630.8275843669908,
          611.488095528257,
          248.44686822284712,
          -690.5814295151577
         ],
         "yaxis": "y"
        },
        {
         "alignmentgroup": "True",
         "hovertemplate": "Sector=Water supply<br>Month=%{x}<br>FTE change y-o-y=%{y}<extra></extra>",
         "legendgroup": "Water supply",
         "marker": {
          "color": "#B10DA1",
          "pattern": {
           "shape": ""
          }
         },
         "name": "Water supply",
         "offsetgroup": "Water supply",
         "orientation": "v",
         "showlegend": true,
         "textposition": "auto",
         "type": "bar",
         "x": [
          "2019-03-01",
          "2019-04-01",
          "2019-05-01",
          "2019-06-01",
          "2019-07-01",
          "2019-08-01",
          "2019-09-01",
          "2019-10-01",
          "2019-11-01",
          "2019-12-01",
          "2020-01-01",
          "2020-02-01",
          "2020-03-01",
          "2020-04-01",
          "2020-05-01",
          "2020-06-01",
          "2020-07-01",
          "2020-08-01",
          "2020-09-01",
          "2020-10-01",
          "2020-11-01",
          "2020-12-01",
          "2021-01-01",
          "2021-02-01",
          "2021-03-01",
          "2021-04-01",
          "2021-05-01",
          "2021-06-01",
          "2021-07-01",
          "2021-08-01",
          "2021-09-01",
          "2021-10-01",
          "2021-11-01",
          "2021-12-01",
          "2022-01-01",
          "2022-02-01"
         ],
         "xaxis": "x",
         "y": [
          -96.19527605532949,
          -273.57316253482986,
          -354.32935162763806,
          -287.8783683496831,
          -350.5759411843401,
          -393.1062517757455,
          -351.33084157689063,
          -336.45575453398123,
          -332.61677076568776,
          -310.6100580155444,
          -259.99338360336515,
          -127.27649080851916,
          -106.97879001855563,
          -111.80604012560343,
          -165.64913667119208,
          -334.44828986066705,
          -464.22015039822827,
          -153.33671054443084,
          357.2237324953803,
          365.06991727883815,
          390.85384722307026,
          449.1349963321936,
          658.4437414908243,
          1306.302683343597,
          -8.299057647606787,
          51.543719557423174,
          161.9981739020982,
          286.4112864227268,
          402.7136637150238,
          150.15115788445974,
          -383.7352127753429,
          -353.71089597368973,
          -353.93061007516826,
          -362.8958205369845,
          -571.3254469024314,
          -1118.212953273579
         ],
         "yaxis": "y"
        }
       ],
       "layout": {
        "barmode": "relative",
        "height": 600,
        "legend": {
         "title": {
          "text": "Sector"
         },
         "tracegroupgap": 0
        },
        "shapes": [
         {
          "fillcolor": "tomato",
          "layer": "below",
          "line": {
           "color": "tomato"
          },
          "opacity": 0.2,
          "type": "rect",
          "x0": "2019-03-01",
          "x1": "2022-02-01",
          "y0": -80000,
          "y1": 0
         }
        ],
        "template": {
         "data": {
          "bar": [
           {
            "error_x": {
             "color": "#2a3f5f"
            },
            "error_y": {
             "color": "#2a3f5f"
            },
            "marker": {
             "line": {
              "color": "#E5ECF6",
              "width": 0.5
             },
             "pattern": {
              "fillmode": "overlay",
              "size": 10,
              "solidity": 0.2
             }
            },
            "type": "bar"
           }
          ],
          "barpolar": [
           {
            "marker": {
             "line": {
              "color": "#E5ECF6",
              "width": 0.5
             },
             "pattern": {
              "fillmode": "overlay",
              "size": 10,
              "solidity": 0.2
             }
            },
            "type": "barpolar"
           }
          ],
          "carpet": [
           {
            "aaxis": {
             "endlinecolor": "#2a3f5f",
             "gridcolor": "white",
             "linecolor": "white",
             "minorgridcolor": "white",
             "startlinecolor": "#2a3f5f"
            },
            "baxis": {
             "endlinecolor": "#2a3f5f",
             "gridcolor": "white",
             "linecolor": "white",
             "minorgridcolor": "white",
             "startlinecolor": "#2a3f5f"
            },
            "type": "carpet"
           }
          ],
          "choropleth": [
           {
            "colorbar": {
             "outlinewidth": 0,
             "ticks": ""
            },
            "type": "choropleth"
           }
          ],
          "contour": [
           {
            "colorbar": {
             "outlinewidth": 0,
             "ticks": ""
            },
            "colorscale": [
             [
              0,
              "#0d0887"
             ],
             [
              0.1111111111111111,
              "#46039f"
             ],
             [
              0.2222222222222222,
              "#7201a8"
             ],
             [
              0.3333333333333333,
              "#9c179e"
             ],
             [
              0.4444444444444444,
              "#bd3786"
             ],
             [
              0.5555555555555556,
              "#d8576b"
             ],
             [
              0.6666666666666666,
              "#ed7953"
             ],
             [
              0.7777777777777778,
              "#fb9f3a"
             ],
             [
              0.8888888888888888,
              "#fdca26"
             ],
             [
              1,
              "#f0f921"
             ]
            ],
            "type": "contour"
           }
          ],
          "contourcarpet": [
           {
            "colorbar": {
             "outlinewidth": 0,
             "ticks": ""
            },
            "type": "contourcarpet"
           }
          ],
          "heatmap": [
           {
            "colorbar": {
             "outlinewidth": 0,
             "ticks": ""
            },
            "colorscale": [
             [
              0,
              "#0d0887"
             ],
             [
              0.1111111111111111,
              "#46039f"
             ],
             [
              0.2222222222222222,
              "#7201a8"
             ],
             [
              0.3333333333333333,
              "#9c179e"
             ],
             [
              0.4444444444444444,
              "#bd3786"
             ],
             [
              0.5555555555555556,
              "#d8576b"
             ],
             [
              0.6666666666666666,
              "#ed7953"
             ],
             [
              0.7777777777777778,
              "#fb9f3a"
             ],
             [
              0.8888888888888888,
              "#fdca26"
             ],
             [
              1,
              "#f0f921"
             ]
            ],
            "type": "heatmap"
           }
          ],
          "heatmapgl": [
           {
            "colorbar": {
             "outlinewidth": 0,
             "ticks": ""
            },
            "colorscale": [
             [
              0,
              "#0d0887"
             ],
             [
              0.1111111111111111,
              "#46039f"
             ],
             [
              0.2222222222222222,
              "#7201a8"
             ],
             [
              0.3333333333333333,
              "#9c179e"
             ],
             [
              0.4444444444444444,
              "#bd3786"
             ],
             [
              0.5555555555555556,
              "#d8576b"
             ],
             [
              0.6666666666666666,
              "#ed7953"
             ],
             [
              0.7777777777777778,
              "#fb9f3a"
             ],
             [
              0.8888888888888888,
              "#fdca26"
             ],
             [
              1,
              "#f0f921"
             ]
            ],
            "type": "heatmapgl"
           }
          ],
          "histogram": [
           {
            "marker": {
             "pattern": {
              "fillmode": "overlay",
              "size": 10,
              "solidity": 0.2
             }
            },
            "type": "histogram"
           }
          ],
          "histogram2d": [
           {
            "colorbar": {
             "outlinewidth": 0,
             "ticks": ""
            },
            "colorscale": [
             [
              0,
              "#0d0887"
             ],
             [
              0.1111111111111111,
              "#46039f"
             ],
             [
              0.2222222222222222,
              "#7201a8"
             ],
             [
              0.3333333333333333,
              "#9c179e"
             ],
             [
              0.4444444444444444,
              "#bd3786"
             ],
             [
              0.5555555555555556,
              "#d8576b"
             ],
             [
              0.6666666666666666,
              "#ed7953"
             ],
             [
              0.7777777777777778,
              "#fb9f3a"
             ],
             [
              0.8888888888888888,
              "#fdca26"
             ],
             [
              1,
              "#f0f921"
             ]
            ],
            "type": "histogram2d"
           }
          ],
          "histogram2dcontour": [
           {
            "colorbar": {
             "outlinewidth": 0,
             "ticks": ""
            },
            "colorscale": [
             [
              0,
              "#0d0887"
             ],
             [
              0.1111111111111111,
              "#46039f"
             ],
             [
              0.2222222222222222,
              "#7201a8"
             ],
             [
              0.3333333333333333,
              "#9c179e"
             ],
             [
              0.4444444444444444,
              "#bd3786"
             ],
             [
              0.5555555555555556,
              "#d8576b"
             ],
             [
              0.6666666666666666,
              "#ed7953"
             ],
             [
              0.7777777777777778,
              "#fb9f3a"
             ],
             [
              0.8888888888888888,
              "#fdca26"
             ],
             [
              1,
              "#f0f921"
             ]
            ],
            "type": "histogram2dcontour"
           }
          ],
          "mesh3d": [
           {
            "colorbar": {
             "outlinewidth": 0,
             "ticks": ""
            },
            "type": "mesh3d"
           }
          ],
          "parcoords": [
           {
            "line": {
             "colorbar": {
              "outlinewidth": 0,
              "ticks": ""
             }
            },
            "type": "parcoords"
           }
          ],
          "pie": [
           {
            "automargin": true,
            "type": "pie"
           }
          ],
          "scatter": [
           {
            "fillpattern": {
             "fillmode": "overlay",
             "size": 10,
             "solidity": 0.2
            },
            "type": "scatter"
           }
          ],
          "scatter3d": [
           {
            "line": {
             "colorbar": {
              "outlinewidth": 0,
              "ticks": ""
             }
            },
            "marker": {
             "colorbar": {
              "outlinewidth": 0,
              "ticks": ""
             }
            },
            "type": "scatter3d"
           }
          ],
          "scattercarpet": [
           {
            "marker": {
             "colorbar": {
              "outlinewidth": 0,
              "ticks": ""
             }
            },
            "type": "scattercarpet"
           }
          ],
          "scattergeo": [
           {
            "marker": {
             "colorbar": {
              "outlinewidth": 0,
              "ticks": ""
             }
            },
            "type": "scattergeo"
           }
          ],
          "scattergl": [
           {
            "marker": {
             "colorbar": {
              "outlinewidth": 0,
              "ticks": ""
             }
            },
            "type": "scattergl"
           }
          ],
          "scattermapbox": [
           {
            "marker": {
             "colorbar": {
              "outlinewidth": 0,
              "ticks": ""
             }
            },
            "type": "scattermapbox"
           }
          ],
          "scatterpolar": [
           {
            "marker": {
             "colorbar": {
              "outlinewidth": 0,
              "ticks": ""
             }
            },
            "type": "scatterpolar"
           }
          ],
          "scatterpolargl": [
           {
            "marker": {
             "colorbar": {
              "outlinewidth": 0,
              "ticks": ""
             }
            },
            "type": "scatterpolargl"
           }
          ],
          "scatterternary": [
           {
            "marker": {
             "colorbar": {
              "outlinewidth": 0,
              "ticks": ""
             }
            },
            "type": "scatterternary"
           }
          ],
          "surface": [
           {
            "colorbar": {
             "outlinewidth": 0,
             "ticks": ""
            },
            "colorscale": [
             [
              0,
              "#0d0887"
             ],
             [
              0.1111111111111111,
              "#46039f"
             ],
             [
              0.2222222222222222,
              "#7201a8"
             ],
             [
              0.3333333333333333,
              "#9c179e"
             ],
             [
              0.4444444444444444,
              "#bd3786"
             ],
             [
              0.5555555555555556,
              "#d8576b"
             ],
             [
              0.6666666666666666,
              "#ed7953"
             ],
             [
              0.7777777777777778,
              "#fb9f3a"
             ],
             [
              0.8888888888888888,
              "#fdca26"
             ],
             [
              1,
              "#f0f921"
             ]
            ],
            "type": "surface"
           }
          ],
          "table": [
           {
            "cells": {
             "fill": {
              "color": "#EBF0F8"
             },
             "line": {
              "color": "white"
             }
            },
            "header": {
             "fill": {
              "color": "#C8D4E3"
             },
             "line": {
              "color": "white"
             }
            },
            "type": "table"
           }
          ]
         },
         "layout": {
          "annotationdefaults": {
           "arrowcolor": "#2a3f5f",
           "arrowhead": 0,
           "arrowwidth": 1
          },
          "autotypenumbers": "strict",
          "coloraxis": {
           "colorbar": {
            "outlinewidth": 0,
            "ticks": ""
           }
          },
          "colorscale": {
           "diverging": [
            [
             0,
             "#8e0152"
            ],
            [
             0.1,
             "#c51b7d"
            ],
            [
             0.2,
             "#de77ae"
            ],
            [
             0.3,
             "#f1b6da"
            ],
            [
             0.4,
             "#fde0ef"
            ],
            [
             0.5,
             "#f7f7f7"
            ],
            [
             0.6,
             "#e6f5d0"
            ],
            [
             0.7,
             "#b8e186"
            ],
            [
             0.8,
             "#7fbc41"
            ],
            [
             0.9,
             "#4d9221"
            ],
            [
             1,
             "#276419"
            ]
           ],
           "sequential": [
            [
             0,
             "#0d0887"
            ],
            [
             0.1111111111111111,
             "#46039f"
            ],
            [
             0.2222222222222222,
             "#7201a8"
            ],
            [
             0.3333333333333333,
             "#9c179e"
            ],
            [
             0.4444444444444444,
             "#bd3786"
            ],
            [
             0.5555555555555556,
             "#d8576b"
            ],
            [
             0.6666666666666666,
             "#ed7953"
            ],
            [
             0.7777777777777778,
             "#fb9f3a"
            ],
            [
             0.8888888888888888,
             "#fdca26"
            ],
            [
             1,
             "#f0f921"
            ]
           ],
           "sequentialminus": [
            [
             0,
             "#0d0887"
            ],
            [
             0.1111111111111111,
             "#46039f"
            ],
            [
             0.2222222222222222,
             "#7201a8"
            ],
            [
             0.3333333333333333,
             "#9c179e"
            ],
            [
             0.4444444444444444,
             "#bd3786"
            ],
            [
             0.5555555555555556,
             "#d8576b"
            ],
            [
             0.6666666666666666,
             "#ed7953"
            ],
            [
             0.7777777777777778,
             "#fb9f3a"
            ],
            [
             0.8888888888888888,
             "#fdca26"
            ],
            [
             1,
             "#f0f921"
            ]
           ]
          },
          "colorway": [
           "#636efa",
           "#EF553B",
           "#00cc96",
           "#ab63fa",
           "#FFA15A",
           "#19d3f3",
           "#FF6692",
           "#B6E880",
           "#FF97FF",
           "#FECB52"
          ],
          "font": {
           "color": "#2a3f5f"
          },
          "geo": {
           "bgcolor": "white",
           "lakecolor": "white",
           "landcolor": "#E5ECF6",
           "showlakes": true,
           "showland": true,
           "subunitcolor": "white"
          },
          "hoverlabel": {
           "align": "left"
          },
          "hovermode": "closest",
          "mapbox": {
           "style": "light"
          },
          "paper_bgcolor": "white",
          "plot_bgcolor": "#E5ECF6",
          "polar": {
           "angularaxis": {
            "gridcolor": "white",
            "linecolor": "white",
            "ticks": ""
           },
           "bgcolor": "#E5ECF6",
           "radialaxis": {
            "gridcolor": "white",
            "linecolor": "white",
            "ticks": ""
           }
          },
          "scene": {
           "xaxis": {
            "backgroundcolor": "#E5ECF6",
            "gridcolor": "white",
            "gridwidth": 2,
            "linecolor": "white",
            "showbackground": true,
            "ticks": "",
            "zerolinecolor": "white"
           },
           "yaxis": {
            "backgroundcolor": "#E5ECF6",
            "gridcolor": "white",
            "gridwidth": 2,
            "linecolor": "white",
            "showbackground": true,
            "ticks": "",
            "zerolinecolor": "white"
           },
           "zaxis": {
            "backgroundcolor": "#E5ECF6",
            "gridcolor": "white",
            "gridwidth": 2,
            "linecolor": "white",
            "showbackground": true,
            "ticks": "",
            "zerolinecolor": "white"
           }
          },
          "shapedefaults": {
           "line": {
            "color": "#2a3f5f"
           }
          },
          "ternary": {
           "aaxis": {
            "gridcolor": "white",
            "linecolor": "white",
            "ticks": ""
           },
           "baxis": {
            "gridcolor": "white",
            "linecolor": "white",
            "ticks": ""
           },
           "bgcolor": "#E5ECF6",
           "caxis": {
            "gridcolor": "white",
            "linecolor": "white",
            "ticks": ""
           }
          },
          "title": {
           "x": 0.05
          },
          "xaxis": {
           "automargin": true,
           "gridcolor": "white",
           "linecolor": "white",
           "ticks": "",
           "title": {
            "standoff": 15
           },
           "zerolinecolor": "white",
           "zerolinewidth": 2
          },
          "yaxis": {
           "automargin": true,
           "gridcolor": "white",
           "linecolor": "white",
           "ticks": "",
           "title": {
            "standoff": 15
           },
           "zerolinecolor": "white",
           "zerolinewidth": 2
          }
         }
        },
        "title": {
         "text": "Year-on-Year Changes in FTE Employment",
         "x": 0.5
        },
        "xaxis": {
         "anchor": "y",
         "domain": [
          0,
          1
         ],
         "title": {
          "text": "Month"
         }
        },
        "yaxis": {
         "anchor": "x",
         "domain": [
          0,
          1
         ],
         "title": {
          "text": "FTE change y-o-y"
         }
        }
       }
      }
     },
     "metadata": {},
     "output_type": "display_data"
    }
   ],
   "source": [
    "change = checkAllFTEGrowth(years=1,group='SIC7_1d',var='FTE')\n",
    "figDf = change.pivot(index='month',columns='sic7_1d',values='FTE').sort_index().diff(12).iloc[-36:,:].stack().reset_index()\n",
    "figDf.columns = ['Month','Sector','FTE change y-o-y']\n",
    "fig = px.bar(figDf,x='Month',y='FTE change y-o-y',\n",
    "color='Sector',\n",
    "title='Year-on-Year Changes in FTE Employment',\n",
    "height = 600,\n",
    "color_discrete_sequence=px.colors.qualitative.Alphabet)\n",
    "fig.update_layout(title_x=0.5)\n",
    "fig.add_shape(\n",
    "    type='rect',\n",
    "     x0=figDf['Month'].min(), x1=figDf['Month'].max(),\n",
    "     y0=-80000, y1=0,\n",
    "    fillcolor='tomato',\n",
    "    opacity=0.2,\n",
    "    line=dict(color='tomato'),\n",
    "    layer='below'  # Set the layer to 'below' to place the shape behind the traces\n",
    ")"
   ]
  },
  {
   "cell_type": "code",
   "execution_count": 85,
   "metadata": {},
   "outputs": [],
   "source": [
    "# figDf = change.pivot(index='month',columns='sic7_1d',values='FTE').sort_index().iloc[-36:,:].stack().reset_index()\n",
    "# figDf.columns = ['Month','Sector','FTE Total']\n",
    "# fig = px.bar(figDf,x='Month',y='FTE Total',color='Sector',\n",
    "# title='Monthly FTE Employment',\n",
    "# height = 600,\n",
    "# color_discrete_sequence=px.colors.qualitative.Alphabet)\n",
    "# fig.update_layout(title_x=0.5)"
   ]
  },
  {
   "cell_type": "code",
   "execution_count": null,
   "metadata": {},
   "outputs": [],
   "source": [
    "pd.read_csv('Data/Municipal_FTE.csv')"
   ]
  },
  {
   "cell_type": "code",
   "execution_count": 89,
   "metadata": {},
   "outputs": [
    {
     "name": "stderr",
     "output_type": "stream",
     "text": [
      "/var/folders/5v/zvlf303n2jvbs88z9hvt205w0000gn/T/ipykernel_1247/1905592189.py:13: SettingWithCopyWarning:\n",
      "\n",
      "\n",
      "A value is trying to be set on a copy of a slice from a DataFrame\n",
      "\n",
      "See the caveats in the documentation: https://pandas.pydata.org/pandas-docs/stable/user_guide/indexing.html#returning-a-view-versus-a-copy\n",
      "\n",
      "/var/folders/5v/zvlf303n2jvbs88z9hvt205w0000gn/T/ipykernel_1247/1905592189.py:20: SettingWithCopyWarning:\n",
      "\n",
      "\n",
      "A value is trying to be set on a copy of a slice from a DataFrame\n",
      "\n",
      "See the caveats in the documentation: https://pandas.pydata.org/pandas-docs/stable/user_guide/indexing.html#returning-a-view-versus-a-copy\n",
      "\n",
      "/var/folders/5v/zvlf303n2jvbs88z9hvt205w0000gn/T/ipykernel_1247/1905592189.py:21: SettingWithCopyWarning:\n",
      "\n",
      "\n",
      "A value is trying to be set on a copy of a slice from a DataFrame\n",
      "\n",
      "See the caveats in the documentation: https://pandas.pydata.org/pandas-docs/stable/user_guide/indexing.html#returning-a-view-versus-a-copy\n",
      "\n"
     ]
    },
    {
     "data": {
      "application/vnd.plotly.v1+json": {
       "config": {
        "plotlyServerURL": "https://plot.ly"
       },
       "data": [
        {
         "alignmentgroup": "True",
         "hovertemplate": "Group=F Over 35 Y.O.<br>month=%{x}<br>FTE change y-o-y=%{y}<extra></extra>",
         "legendgroup": "F Over 35 Y.O.",
         "marker": {
          "color": "Red",
          "pattern": {
           "shape": ""
          }
         },
         "name": "F Over 35 Y.O.",
         "offsetgroup": "F Over 35 Y.O.",
         "orientation": "v",
         "showlegend": true,
         "textposition": "auto",
         "type": "bar",
         "x": [
          "2019-03-01",
          "2019-04-01",
          "2019-05-01",
          "2019-06-01",
          "2019-07-01",
          "2019-08-01",
          "2019-09-01",
          "2019-10-01",
          "2019-11-01",
          "2019-12-01",
          "2020-01-01",
          "2020-02-01",
          "2020-03-01",
          "2020-04-01",
          "2020-05-01",
          "2020-06-01",
          "2020-07-01",
          "2020-08-01",
          "2020-09-01",
          "2020-10-01",
          "2020-11-01",
          "2020-12-01",
          "2021-01-01",
          "2021-02-01",
          "2021-03-01",
          "2021-04-01",
          "2021-05-01",
          "2021-06-01",
          "2021-07-01",
          "2021-08-01",
          "2021-09-01",
          "2021-10-01",
          "2021-11-01",
          "2021-12-01",
          "2022-01-01",
          "2022-02-01"
         ],
         "xaxis": "x",
         "y": [
          19322.549815720413,
          19423.28761845111,
          19256.74453886575,
          19506.14813654509,
          19569.25356582488,
          19324.165858625027,
          19120.595711064525,
          20163.867118624272,
          19622.24729952903,
          18750.58266654756,
          18851.252125478408,
          16711.748385271116,
          7940.304535796749,
          3384.9722073961166,
          1281.4877064229804,
          -177.90944305772427,
          -199.5966862589121,
          -1632.7490550233633,
          -2826.119853250624,
          -3496.5583575011697,
          -2437.4643499270896,
          -307.035852965957,
          384.88390006520785,
          309.0938073034631,
          -2692.100559533399,
          -879.0416823378764,
          1403.380666823883,
          3097.2775288932025,
          5735.666896809067,
          7660.096829777525,
          9218.523290943122,
          9347.31254163821,
          8427.940512017172,
          6814.47531152959,
          6568.027457307908,
          7697.264636825654
         ],
         "yaxis": "y"
        },
        {
         "alignmentgroup": "True",
         "hovertemplate": "Group=M Over 35 Y.O.<br>month=%{x}<br>FTE change y-o-y=%{y}<extra></extra>",
         "legendgroup": "M Over 35 Y.O.",
         "marker": {
          "color": "Blue",
          "pattern": {
           "shape": ""
          }
         },
         "name": "M Over 35 Y.O.",
         "offsetgroup": "M Over 35 Y.O.",
         "orientation": "v",
         "showlegend": true,
         "textposition": "auto",
         "type": "bar",
         "x": [
          "2019-03-01",
          "2019-04-01",
          "2019-05-01",
          "2019-06-01",
          "2019-07-01",
          "2019-08-01",
          "2019-09-01",
          "2019-10-01",
          "2019-11-01",
          "2019-12-01",
          "2020-01-01",
          "2020-02-01",
          "2020-03-01",
          "2020-04-01",
          "2020-05-01",
          "2020-06-01",
          "2020-07-01",
          "2020-08-01",
          "2020-09-01",
          "2020-10-01",
          "2020-11-01",
          "2020-12-01",
          "2021-01-01",
          "2021-02-01",
          "2021-03-01",
          "2021-04-01",
          "2021-05-01",
          "2021-06-01",
          "2021-07-01",
          "2021-08-01",
          "2021-09-01",
          "2021-10-01",
          "2021-11-01",
          "2021-12-01",
          "2022-01-01",
          "2022-02-01"
         ],
         "xaxis": "x",
         "y": [
          19962.06487351033,
          20646.147861897713,
          20498.561420230195,
          21145.43691359152,
          21018.82057083887,
          20422.98435718543,
          20106.491458769655,
          19882.964334649907,
          19359.64420515939,
          18393.967180236417,
          18393.714489529957,
          17677.107718560146,
          127.44400537089678,
          -4902.056841562095,
          -5956.667638154991,
          -6904.707571460633,
          -8437.470680931001,
          -9423.023995135096,
          -9844.048904119816,
          -10166.195223344781,
          -9440.63414351974,
          -7855.999105185503,
          -8146.006012871687,
          -6999.501780686434,
          -12703.335051280737,
          -7937.167993673764,
          -5806.1758066974,
          -4983.5734836059855,
          -3447.409289898351,
          -2401.650319042208,
          -2728.6311729839654,
          -1796.9296508086263,
          -1779.2628682045033,
          -2370.7987898169085,
          -1763.9362388316658,
          -5052.538176233007
         ],
         "yaxis": "y"
        },
        {
         "alignmentgroup": "True",
         "hovertemplate": "Group=Unknown Over 35 Y.O.<br>month=%{x}<br>FTE change y-o-y=%{y}<extra></extra>",
         "legendgroup": "Unknown Over 35 Y.O.",
         "marker": {
          "color": "Black",
          "pattern": {
           "shape": ""
          }
         },
         "name": "Unknown Over 35 Y.O.",
         "offsetgroup": "Unknown Over 35 Y.O.",
         "orientation": "v",
         "showlegend": true,
         "textposition": "auto",
         "type": "bar",
         "x": [
          "2019-03-01",
          "2019-04-01",
          "2019-05-01",
          "2019-06-01",
          "2019-07-01",
          "2019-08-01",
          "2019-09-01",
          "2019-10-01",
          "2019-11-01",
          "2019-12-01",
          "2020-01-01",
          "2020-02-01",
          "2020-03-01",
          "2020-04-01",
          "2020-05-01",
          "2020-06-01",
          "2020-07-01",
          "2020-08-01",
          "2020-09-01",
          "2020-10-01",
          "2020-11-01",
          "2020-12-01",
          "2021-01-01",
          "2021-02-01",
          "2021-03-01",
          "2021-04-01",
          "2021-05-01",
          "2021-06-01",
          "2021-07-01",
          "2021-08-01",
          "2021-09-01",
          "2021-10-01",
          "2021-11-01",
          "2021-12-01",
          "2022-01-01",
          "2022-02-01"
         ],
         "xaxis": "x",
         "y": [
          2513.415741552213,
          2630.5407926039334,
          2770.4051191347135,
          2703.614502472632,
          2690.337105158156,
          2571.1563656225044,
          2527.648464722439,
          2483.0634046778687,
          2366.6122018151727,
          2290.173638269527,
          2218.838874853711,
          2109.862605248145,
          842.5568525498929,
          199.08087919833633,
          -45.5019662293671,
          -13.906396020011016,
          -106.17778965024627,
          -236.35043600747304,
          -119.37105385393079,
          -268.40184749842956,
          -271.3208425968369,
          -113.38805478464201,
          -199.16812488250434,
          -196.6576960016755,
          -420.56130468246556,
          166.60342679861424,
          558.8903682658747,
          680.3947002803434,
          863.7287370113954,
          975.3513983091143,
          926.1208169589299,
          1020.1910016127913,
          1123.3961866601676,
          1051.9164714649887,
          1090.3179784728818,
          789.670509423242
         ],
         "yaxis": "y"
        },
        {
         "alignmentgroup": "True",
         "hovertemplate": "Group=F Under 35 Y.O.<br>month=%{x}<br>FTE change y-o-y=%{y}<extra></extra>",
         "legendgroup": "F Under 35 Y.O.",
         "marker": {
          "color": "Pink",
          "pattern": {
           "shape": ""
          }
         },
         "name": "F Under 35 Y.O.",
         "offsetgroup": "F Under 35 Y.O.",
         "orientation": "v",
         "showlegend": true,
         "textposition": "auto",
         "type": "bar",
         "x": [
          "2019-03-01",
          "2019-04-01",
          "2019-05-01",
          "2019-06-01",
          "2019-07-01",
          "2019-08-01",
          "2019-09-01",
          "2019-10-01",
          "2019-11-01",
          "2019-12-01",
          "2020-01-01",
          "2020-02-01",
          "2020-03-01",
          "2020-04-01",
          "2020-05-01",
          "2020-06-01",
          "2020-07-01",
          "2020-08-01",
          "2020-09-01",
          "2020-10-01",
          "2020-11-01",
          "2020-12-01",
          "2021-01-01",
          "2021-02-01",
          "2021-03-01",
          "2021-04-01",
          "2021-05-01",
          "2021-06-01",
          "2021-07-01",
          "2021-08-01",
          "2021-09-01",
          "2021-10-01",
          "2021-11-01",
          "2021-12-01",
          "2022-01-01",
          "2022-02-01"
         ],
         "xaxis": "x",
         "y": [
          5811.716775470297,
          5904.379269256373,
          5711.536256601103,
          6031.545285389817,
          6483.764374576684,
          6632.565712245589,
          7198.916372021602,
          6950.479847740382,
          5453.4885530024185,
          4042.536496210145,
          5553.15355457674,
          2065.181456434075,
          -2585.9244788375217,
          -12633.721110436018,
          -18848.520159285516,
          -21727.713211499387,
          -21176.448323792836,
          -22727.323367783392,
          -24686.97131438827,
          -24980.108546907315,
          -23346.681918946037,
          -20722.378499129205,
          -19457.743574753462,
          -18580.54529972881,
          -19556.63364631438,
          -11058.377874522237,
          -6049.733041741303,
          -1913.2408939567395,
          -1716.0472114938311,
          -0.2576408702880144,
          1367.0278717109468,
          1608.5580944756512,
          3997.260135059012,
          758.1016640358721,
          554.1613363588112,
          6641.639578724746
         ],
         "yaxis": "y"
        },
        {
         "alignmentgroup": "True",
         "hovertemplate": "Group=M Under 35 Y.O.<br>month=%{x}<br>FTE change y-o-y=%{y}<extra></extra>",
         "legendgroup": "M Under 35 Y.O.",
         "marker": {
          "color": "#ADD8E6",
          "pattern": {
           "shape": ""
          }
         },
         "name": "M Under 35 Y.O.",
         "offsetgroup": "M Under 35 Y.O.",
         "orientation": "v",
         "showlegend": true,
         "textposition": "auto",
         "type": "bar",
         "x": [
          "2019-03-01",
          "2019-04-01",
          "2019-05-01",
          "2019-06-01",
          "2019-07-01",
          "2019-08-01",
          "2019-09-01",
          "2019-10-01",
          "2019-11-01",
          "2019-12-01",
          "2020-01-01",
          "2020-02-01",
          "2020-03-01",
          "2020-04-01",
          "2020-05-01",
          "2020-06-01",
          "2020-07-01",
          "2020-08-01",
          "2020-09-01",
          "2020-10-01",
          "2020-11-01",
          "2020-12-01",
          "2021-01-01",
          "2021-02-01",
          "2021-03-01",
          "2021-04-01",
          "2021-05-01",
          "2021-06-01",
          "2021-07-01",
          "2021-08-01",
          "2021-09-01",
          "2021-10-01",
          "2021-11-01",
          "2021-12-01",
          "2022-01-01",
          "2022-02-01"
         ],
         "xaxis": "x",
         "y": [
          4342.510454291012,
          5260.981703803351,
          5325.459343213181,
          5695.0096717868,
          6095.491306943353,
          5850.75115252618,
          5466.274222728971,
          4707.577408225334,
          3419.7191507766256,
          2661.203261026356,
          3055.7320827790536,
          129.17613348172745,
          -6473.4647875241935,
          -15322.482194300072,
          -19665.300797427626,
          -21627.162993387785,
          -22566.644384530286,
          -23680.20511961251,
          -24889.242123939097,
          -25142.904344731243,
          -23522.10541222553,
          -21505.936335050967,
          -20582.965067206824,
          -18263.491384895926,
          -18756.56825234194,
          -11155.766729341005,
          -6376.172986872465,
          -3210.846515864454,
          -2565.2944779529353,
          -1255.0582165072847,
          -63.64732237579301,
          1791.2120980145992,
          3235.723391971027,
          1775.2509901351295,
          1718.0690270460327,
          3288.996559751453
         ],
         "yaxis": "y"
        },
        {
         "alignmentgroup": "True",
         "hovertemplate": "Group=Unknown Under 35 Y.O.<br>month=%{x}<br>FTE change y-o-y=%{y}<extra></extra>",
         "legendgroup": "Unknown Under 35 Y.O.",
         "marker": {
          "color": "#808080",
          "pattern": {
           "shape": ""
          }
         },
         "name": "Unknown Under 35 Y.O.",
         "offsetgroup": "Unknown Under 35 Y.O.",
         "orientation": "v",
         "showlegend": true,
         "textposition": "auto",
         "type": "bar",
         "x": [
          "2019-03-01",
          "2019-04-01",
          "2019-05-01",
          "2019-06-01",
          "2019-07-01",
          "2019-08-01",
          "2019-09-01",
          "2019-10-01",
          "2019-11-01",
          "2019-12-01",
          "2020-01-01",
          "2020-02-01",
          "2020-03-01",
          "2020-04-01",
          "2020-05-01",
          "2020-06-01",
          "2020-07-01",
          "2020-08-01",
          "2020-09-01",
          "2020-10-01",
          "2020-11-01",
          "2020-12-01",
          "2021-01-01",
          "2021-02-01",
          "2021-03-01",
          "2021-04-01",
          "2021-05-01",
          "2021-06-01",
          "2021-07-01",
          "2021-08-01",
          "2021-09-01",
          "2021-10-01",
          "2021-11-01",
          "2021-12-01",
          "2022-01-01",
          "2022-02-01"
         ],
         "xaxis": "x",
         "y": [
          1082.8083687253566,
          1155.2131415515469,
          1288.8511271930947,
          1158.315691697746,
          1146.4077435438376,
          1068.2402107168964,
          1007.1270029048355,
          823.4279729071823,
          585.1787256997268,
          474.5641692382269,
          549.5186041033012,
          457.26984645571065,
          -666.7371057710261,
          -1842.0551292741038,
          -2373.2924652571637,
          -2458.038710679277,
          -2749.50008218499,
          -3169.2087477628484,
          -3194.7848086945633,
          -3512.396843435945,
          -3535.583474325522,
          -3362.1999219745485,
          -3599.044331836918,
          -3856.028774322087,
          -3975.8235725256527,
          -2914.3902387202215,
          -2315.6560337271694,
          -2166.247138727602,
          -1922.3819542382698,
          -1618.593385209384,
          -1622.2069179839891,
          -1396.7042100514009,
          -1203.7918216993676,
          -1351.17937749279,
          -1157.3972555959954,
          -1026.9508005706812
         ],
         "yaxis": "y"
        }
       ],
       "layout": {
        "barmode": "relative",
        "height": 600,
        "legend": {
         "title": {
          "text": "Group"
         },
         "tracegroupgap": 0
        },
        "shapes": [
         {
          "fillcolor": "tomato",
          "layer": "below",
          "line": {
           "color": "tomato"
          },
          "opacity": 0.2,
          "type": "rect",
          "x0": "2019-03-01",
          "x1": "2022-02-01",
          "y0": -70000,
          "y1": 0
         }
        ],
        "template": {
         "data": {
          "bar": [
           {
            "error_x": {
             "color": "#2a3f5f"
            },
            "error_y": {
             "color": "#2a3f5f"
            },
            "marker": {
             "line": {
              "color": "#E5ECF6",
              "width": 0.5
             },
             "pattern": {
              "fillmode": "overlay",
              "size": 10,
              "solidity": 0.2
             }
            },
            "type": "bar"
           }
          ],
          "barpolar": [
           {
            "marker": {
             "line": {
              "color": "#E5ECF6",
              "width": 0.5
             },
             "pattern": {
              "fillmode": "overlay",
              "size": 10,
              "solidity": 0.2
             }
            },
            "type": "barpolar"
           }
          ],
          "carpet": [
           {
            "aaxis": {
             "endlinecolor": "#2a3f5f",
             "gridcolor": "white",
             "linecolor": "white",
             "minorgridcolor": "white",
             "startlinecolor": "#2a3f5f"
            },
            "baxis": {
             "endlinecolor": "#2a3f5f",
             "gridcolor": "white",
             "linecolor": "white",
             "minorgridcolor": "white",
             "startlinecolor": "#2a3f5f"
            },
            "type": "carpet"
           }
          ],
          "choropleth": [
           {
            "colorbar": {
             "outlinewidth": 0,
             "ticks": ""
            },
            "type": "choropleth"
           }
          ],
          "contour": [
           {
            "colorbar": {
             "outlinewidth": 0,
             "ticks": ""
            },
            "colorscale": [
             [
              0,
              "#0d0887"
             ],
             [
              0.1111111111111111,
              "#46039f"
             ],
             [
              0.2222222222222222,
              "#7201a8"
             ],
             [
              0.3333333333333333,
              "#9c179e"
             ],
             [
              0.4444444444444444,
              "#bd3786"
             ],
             [
              0.5555555555555556,
              "#d8576b"
             ],
             [
              0.6666666666666666,
              "#ed7953"
             ],
             [
              0.7777777777777778,
              "#fb9f3a"
             ],
             [
              0.8888888888888888,
              "#fdca26"
             ],
             [
              1,
              "#f0f921"
             ]
            ],
            "type": "contour"
           }
          ],
          "contourcarpet": [
           {
            "colorbar": {
             "outlinewidth": 0,
             "ticks": ""
            },
            "type": "contourcarpet"
           }
          ],
          "heatmap": [
           {
            "colorbar": {
             "outlinewidth": 0,
             "ticks": ""
            },
            "colorscale": [
             [
              0,
              "#0d0887"
             ],
             [
              0.1111111111111111,
              "#46039f"
             ],
             [
              0.2222222222222222,
              "#7201a8"
             ],
             [
              0.3333333333333333,
              "#9c179e"
             ],
             [
              0.4444444444444444,
              "#bd3786"
             ],
             [
              0.5555555555555556,
              "#d8576b"
             ],
             [
              0.6666666666666666,
              "#ed7953"
             ],
             [
              0.7777777777777778,
              "#fb9f3a"
             ],
             [
              0.8888888888888888,
              "#fdca26"
             ],
             [
              1,
              "#f0f921"
             ]
            ],
            "type": "heatmap"
           }
          ],
          "heatmapgl": [
           {
            "colorbar": {
             "outlinewidth": 0,
             "ticks": ""
            },
            "colorscale": [
             [
              0,
              "#0d0887"
             ],
             [
              0.1111111111111111,
              "#46039f"
             ],
             [
              0.2222222222222222,
              "#7201a8"
             ],
             [
              0.3333333333333333,
              "#9c179e"
             ],
             [
              0.4444444444444444,
              "#bd3786"
             ],
             [
              0.5555555555555556,
              "#d8576b"
             ],
             [
              0.6666666666666666,
              "#ed7953"
             ],
             [
              0.7777777777777778,
              "#fb9f3a"
             ],
             [
              0.8888888888888888,
              "#fdca26"
             ],
             [
              1,
              "#f0f921"
             ]
            ],
            "type": "heatmapgl"
           }
          ],
          "histogram": [
           {
            "marker": {
             "pattern": {
              "fillmode": "overlay",
              "size": 10,
              "solidity": 0.2
             }
            },
            "type": "histogram"
           }
          ],
          "histogram2d": [
           {
            "colorbar": {
             "outlinewidth": 0,
             "ticks": ""
            },
            "colorscale": [
             [
              0,
              "#0d0887"
             ],
             [
              0.1111111111111111,
              "#46039f"
             ],
             [
              0.2222222222222222,
              "#7201a8"
             ],
             [
              0.3333333333333333,
              "#9c179e"
             ],
             [
              0.4444444444444444,
              "#bd3786"
             ],
             [
              0.5555555555555556,
              "#d8576b"
             ],
             [
              0.6666666666666666,
              "#ed7953"
             ],
             [
              0.7777777777777778,
              "#fb9f3a"
             ],
             [
              0.8888888888888888,
              "#fdca26"
             ],
             [
              1,
              "#f0f921"
             ]
            ],
            "type": "histogram2d"
           }
          ],
          "histogram2dcontour": [
           {
            "colorbar": {
             "outlinewidth": 0,
             "ticks": ""
            },
            "colorscale": [
             [
              0,
              "#0d0887"
             ],
             [
              0.1111111111111111,
              "#46039f"
             ],
             [
              0.2222222222222222,
              "#7201a8"
             ],
             [
              0.3333333333333333,
              "#9c179e"
             ],
             [
              0.4444444444444444,
              "#bd3786"
             ],
             [
              0.5555555555555556,
              "#d8576b"
             ],
             [
              0.6666666666666666,
              "#ed7953"
             ],
             [
              0.7777777777777778,
              "#fb9f3a"
             ],
             [
              0.8888888888888888,
              "#fdca26"
             ],
             [
              1,
              "#f0f921"
             ]
            ],
            "type": "histogram2dcontour"
           }
          ],
          "mesh3d": [
           {
            "colorbar": {
             "outlinewidth": 0,
             "ticks": ""
            },
            "type": "mesh3d"
           }
          ],
          "parcoords": [
           {
            "line": {
             "colorbar": {
              "outlinewidth": 0,
              "ticks": ""
             }
            },
            "type": "parcoords"
           }
          ],
          "pie": [
           {
            "automargin": true,
            "type": "pie"
           }
          ],
          "scatter": [
           {
            "fillpattern": {
             "fillmode": "overlay",
             "size": 10,
             "solidity": 0.2
            },
            "type": "scatter"
           }
          ],
          "scatter3d": [
           {
            "line": {
             "colorbar": {
              "outlinewidth": 0,
              "ticks": ""
             }
            },
            "marker": {
             "colorbar": {
              "outlinewidth": 0,
              "ticks": ""
             }
            },
            "type": "scatter3d"
           }
          ],
          "scattercarpet": [
           {
            "marker": {
             "colorbar": {
              "outlinewidth": 0,
              "ticks": ""
             }
            },
            "type": "scattercarpet"
           }
          ],
          "scattergeo": [
           {
            "marker": {
             "colorbar": {
              "outlinewidth": 0,
              "ticks": ""
             }
            },
            "type": "scattergeo"
           }
          ],
          "scattergl": [
           {
            "marker": {
             "colorbar": {
              "outlinewidth": 0,
              "ticks": ""
             }
            },
            "type": "scattergl"
           }
          ],
          "scattermapbox": [
           {
            "marker": {
             "colorbar": {
              "outlinewidth": 0,
              "ticks": ""
             }
            },
            "type": "scattermapbox"
           }
          ],
          "scatterpolar": [
           {
            "marker": {
             "colorbar": {
              "outlinewidth": 0,
              "ticks": ""
             }
            },
            "type": "scatterpolar"
           }
          ],
          "scatterpolargl": [
           {
            "marker": {
             "colorbar": {
              "outlinewidth": 0,
              "ticks": ""
             }
            },
            "type": "scatterpolargl"
           }
          ],
          "scatterternary": [
           {
            "marker": {
             "colorbar": {
              "outlinewidth": 0,
              "ticks": ""
             }
            },
            "type": "scatterternary"
           }
          ],
          "surface": [
           {
            "colorbar": {
             "outlinewidth": 0,
             "ticks": ""
            },
            "colorscale": [
             [
              0,
              "#0d0887"
             ],
             [
              0.1111111111111111,
              "#46039f"
             ],
             [
              0.2222222222222222,
              "#7201a8"
             ],
             [
              0.3333333333333333,
              "#9c179e"
             ],
             [
              0.4444444444444444,
              "#bd3786"
             ],
             [
              0.5555555555555556,
              "#d8576b"
             ],
             [
              0.6666666666666666,
              "#ed7953"
             ],
             [
              0.7777777777777778,
              "#fb9f3a"
             ],
             [
              0.8888888888888888,
              "#fdca26"
             ],
             [
              1,
              "#f0f921"
             ]
            ],
            "type": "surface"
           }
          ],
          "table": [
           {
            "cells": {
             "fill": {
              "color": "#EBF0F8"
             },
             "line": {
              "color": "white"
             }
            },
            "header": {
             "fill": {
              "color": "#C8D4E3"
             },
             "line": {
              "color": "white"
             }
            },
            "type": "table"
           }
          ]
         },
         "layout": {
          "annotationdefaults": {
           "arrowcolor": "#2a3f5f",
           "arrowhead": 0,
           "arrowwidth": 1
          },
          "autotypenumbers": "strict",
          "coloraxis": {
           "colorbar": {
            "outlinewidth": 0,
            "ticks": ""
           }
          },
          "colorscale": {
           "diverging": [
            [
             0,
             "#8e0152"
            ],
            [
             0.1,
             "#c51b7d"
            ],
            [
             0.2,
             "#de77ae"
            ],
            [
             0.3,
             "#f1b6da"
            ],
            [
             0.4,
             "#fde0ef"
            ],
            [
             0.5,
             "#f7f7f7"
            ],
            [
             0.6,
             "#e6f5d0"
            ],
            [
             0.7,
             "#b8e186"
            ],
            [
             0.8,
             "#7fbc41"
            ],
            [
             0.9,
             "#4d9221"
            ],
            [
             1,
             "#276419"
            ]
           ],
           "sequential": [
            [
             0,
             "#0d0887"
            ],
            [
             0.1111111111111111,
             "#46039f"
            ],
            [
             0.2222222222222222,
             "#7201a8"
            ],
            [
             0.3333333333333333,
             "#9c179e"
            ],
            [
             0.4444444444444444,
             "#bd3786"
            ],
            [
             0.5555555555555556,
             "#d8576b"
            ],
            [
             0.6666666666666666,
             "#ed7953"
            ],
            [
             0.7777777777777778,
             "#fb9f3a"
            ],
            [
             0.8888888888888888,
             "#fdca26"
            ],
            [
             1,
             "#f0f921"
            ]
           ],
           "sequentialminus": [
            [
             0,
             "#0d0887"
            ],
            [
             0.1111111111111111,
             "#46039f"
            ],
            [
             0.2222222222222222,
             "#7201a8"
            ],
            [
             0.3333333333333333,
             "#9c179e"
            ],
            [
             0.4444444444444444,
             "#bd3786"
            ],
            [
             0.5555555555555556,
             "#d8576b"
            ],
            [
             0.6666666666666666,
             "#ed7953"
            ],
            [
             0.7777777777777778,
             "#fb9f3a"
            ],
            [
             0.8888888888888888,
             "#fdca26"
            ],
            [
             1,
             "#f0f921"
            ]
           ]
          },
          "colorway": [
           "#636efa",
           "#EF553B",
           "#00cc96",
           "#ab63fa",
           "#FFA15A",
           "#19d3f3",
           "#FF6692",
           "#B6E880",
           "#FF97FF",
           "#FECB52"
          ],
          "font": {
           "color": "#2a3f5f"
          },
          "geo": {
           "bgcolor": "white",
           "lakecolor": "white",
           "landcolor": "#E5ECF6",
           "showlakes": true,
           "showland": true,
           "subunitcolor": "white"
          },
          "hoverlabel": {
           "align": "left"
          },
          "hovermode": "closest",
          "mapbox": {
           "style": "light"
          },
          "paper_bgcolor": "white",
          "plot_bgcolor": "#E5ECF6",
          "polar": {
           "angularaxis": {
            "gridcolor": "white",
            "linecolor": "white",
            "ticks": ""
           },
           "bgcolor": "#E5ECF6",
           "radialaxis": {
            "gridcolor": "white",
            "linecolor": "white",
            "ticks": ""
           }
          },
          "scene": {
           "xaxis": {
            "backgroundcolor": "#E5ECF6",
            "gridcolor": "white",
            "gridwidth": 2,
            "linecolor": "white",
            "showbackground": true,
            "ticks": "",
            "zerolinecolor": "white"
           },
           "yaxis": {
            "backgroundcolor": "#E5ECF6",
            "gridcolor": "white",
            "gridwidth": 2,
            "linecolor": "white",
            "showbackground": true,
            "ticks": "",
            "zerolinecolor": "white"
           },
           "zaxis": {
            "backgroundcolor": "#E5ECF6",
            "gridcolor": "white",
            "gridwidth": 2,
            "linecolor": "white",
            "showbackground": true,
            "ticks": "",
            "zerolinecolor": "white"
           }
          },
          "shapedefaults": {
           "line": {
            "color": "#2a3f5f"
           }
          },
          "ternary": {
           "aaxis": {
            "gridcolor": "white",
            "linecolor": "white",
            "ticks": ""
           },
           "baxis": {
            "gridcolor": "white",
            "linecolor": "white",
            "ticks": ""
           },
           "bgcolor": "#E5ECF6",
           "caxis": {
            "gridcolor": "white",
            "linecolor": "white",
            "ticks": ""
           }
          },
          "title": {
           "x": 0.05
          },
          "xaxis": {
           "automargin": true,
           "gridcolor": "white",
           "linecolor": "white",
           "ticks": "",
           "title": {
            "standoff": 15
           },
           "zerolinecolor": "white",
           "zerolinewidth": 2
          },
          "yaxis": {
           "automargin": true,
           "gridcolor": "white",
           "linecolor": "white",
           "ticks": "",
           "title": {
            "standoff": 15
           },
           "zerolinecolor": "white",
           "zerolinewidth": 2
          }
         }
        },
        "title": {
         "text": "Year-on-Year Changes in FTE Employment by Gender and Age",
         "x": 0.5
        },
        "xaxis": {
         "anchor": "y",
         "domain": [
          0,
          1
         ],
         "title": {
          "text": "month"
         }
        },
        "yaxis": {
         "anchor": "x",
         "domain": [
          0,
          1
         ],
         "title": {
          "text": "FTE change y-o-y"
         }
        }
       }
      }
     },
     "metadata": {},
     "output_type": "display_data"
    }
   ],
   "source": [
    "import pandas as pd\n",
    "import numpy as np\n",
    "youthDf =  pd.read_csv('cptData/Municipal_FTE_Youth_Sex_Monthly.csv')\n",
    "youthDf.FTE = youthDf.FTE.astype('float')\n",
    "youthDf.Youth.unique()\n",
    "\n",
    "keep = [x  in ['[15, 25)', '[15.0, 25.0)', '[25, 35)', '[25.0, 35.0)'] for x in youthDf.Youth]\n",
    "youthDf['Youth'] = keep\n",
    "youthDf = youthDf.groupby(['month','Youth','Sex'])['FTE'].sum().reset_index()\n",
    "youthDf['FTE change y-o-y'] = None\n",
    "youthDf['FTE % change y-o-y'] = None\n",
    "youthDf['Age'] = 'Over 35 Y.O.'\n",
    "youthDf.Age[youthDf.Youth] =  \"Under 35 Y.O.\"\n",
    "\n",
    "gender = \"F\"\n",
    "youth = True\n",
    "for gender in ['F','M','Unknown']:\n",
    "    for youth in [True,False]:\n",
    "        selection = np.logical_and(youthDf.Sex == gender, youthDf.Youth == youth)\n",
    "        youthDf['FTE change y-o-y'][selection] = youthDf[selection].sort_values('month')['FTE'].diff(12)\n",
    "        youthDf['FTE % change y-o-y'][selection] = youthDf[selection].sort_values('month')['FTE'].pct_change(12)\n",
    "\n",
    "import plotly.express as px\n",
    "\n",
    "\n",
    "\n",
    "youthDf['Group'] =youthDf['Sex'] +\" \"+youthDf['Age']\n",
    "colorMap = {'F Over 35 Y.O.':\"Red\",\n",
    " 'F Under 35 Y.O.':\"Pink\",\n",
    " 'M Over 35 Y.O.':\"Blue\",\n",
    " 'M Under 35 Y.O.':\"#ADD8E6\",\n",
    " 'Unknown Over 35 Y.O.':\"Black\",\n",
    " 'Unknown Under 35 Y.O.': \"#808080\"}\n",
    "\n",
    "figDf = youthDf.dropna().iloc[-12*3*3*2:]\n",
    "fig = px.bar(figDf,x='month',y='FTE change y-o-y',\n",
    "color='Group',\n",
    "color_discrete_map=colorMap,\n",
    "title='Year-on-Year Changes in FTE Employment by Gender and Age',\n",
    "height = 600,\n",
    "color_discrete_sequence=px.colors.qualitative.Alphabet)\n",
    "fig.update_layout(title_x=0.5)\n",
    "fig.add_shape(\n",
    "    type='rect',\n",
    "     x0=figDf['month'].min(), x1=figDf['month'].max(),\n",
    "     y0=-70000, y1=0,\n",
    "    fillcolor='tomato',\n",
    "    opacity=0.2,\n",
    "    line=dict(color='tomato'),\n",
    "    layer='below'  # Set the layer to 'below' to place the shape behind the traces\n",
    ")\n",
    "fig.show()\n",
    "\n"
   ]
  },
  {
   "cell_type": "code",
   "execution_count": 48,
   "metadata": {},
   "outputs": [
    {
     "data": {
      "text/html": [
       "<div>\n",
       "<style scoped>\n",
       "    .dataframe tbody tr th:only-of-type {\n",
       "        vertical-align: middle;\n",
       "    }\n",
       "\n",
       "    .dataframe tbody tr th {\n",
       "        vertical-align: top;\n",
       "    }\n",
       "\n",
       "    .dataframe thead th {\n",
       "        text-align: right;\n",
       "    }\n",
       "</style>\n",
       "<table border=\"1\" class=\"dataframe\">\n",
       "  <thead>\n",
       "    <tr style=\"text-align: right;\">\n",
       "      <th></th>\n",
       "      <th>month</th>\n",
       "      <th>Youth</th>\n",
       "      <th>Sex</th>\n",
       "      <th>FTE</th>\n",
       "      <th>FTE change y-o-y</th>\n",
       "      <th>FTE % change y-o-y</th>\n",
       "      <th>gender-youth</th>\n",
       "      <th>Age</th>\n",
       "      <th>Group</th>\n",
       "    </tr>\n",
       "  </thead>\n",
       "  <tbody>\n",
       "    <tr>\n",
       "      <th>0</th>\n",
       "      <td>2013-03-01</td>\n",
       "      <td>False</td>\n",
       "      <td>F</td>\n",
       "      <td>308096.610359</td>\n",
       "      <td>NaN</td>\n",
       "      <td>NaN</td>\n",
       "      <td>F False</td>\n",
       "      <td>Over 35 Y.O.</td>\n",
       "      <td>F Over 35 Y.O.</td>\n",
       "    </tr>\n",
       "    <tr>\n",
       "      <th>1</th>\n",
       "      <td>2013-03-01</td>\n",
       "      <td>False</td>\n",
       "      <td>M</td>\n",
       "      <td>298627.957320</td>\n",
       "      <td>NaN</td>\n",
       "      <td>NaN</td>\n",
       "      <td>M False</td>\n",
       "      <td>Over 35 Y.O.</td>\n",
       "      <td>M Over 35 Y.O.</td>\n",
       "    </tr>\n",
       "    <tr>\n",
       "      <th>2</th>\n",
       "      <td>2013-03-01</td>\n",
       "      <td>False</td>\n",
       "      <td>Unknown</td>\n",
       "      <td>11931.115633</td>\n",
       "      <td>NaN</td>\n",
       "      <td>NaN</td>\n",
       "      <td>Unknown False</td>\n",
       "      <td>Over 35 Y.O.</td>\n",
       "      <td>Unknown Over 35 Y.O.</td>\n",
       "    </tr>\n",
       "    <tr>\n",
       "      <th>3</th>\n",
       "      <td>2013-03-01</td>\n",
       "      <td>True</td>\n",
       "      <td>F</td>\n",
       "      <td>259735.689921</td>\n",
       "      <td>NaN</td>\n",
       "      <td>NaN</td>\n",
       "      <td>F True</td>\n",
       "      <td>Under 35 Y.O.</td>\n",
       "      <td>F Under 35 Y.O.</td>\n",
       "    </tr>\n",
       "    <tr>\n",
       "      <th>4</th>\n",
       "      <td>2013-03-01</td>\n",
       "      <td>True</td>\n",
       "      <td>M</td>\n",
       "      <td>233364.825910</td>\n",
       "      <td>NaN</td>\n",
       "      <td>NaN</td>\n",
       "      <td>M True</td>\n",
       "      <td>Under 35 Y.O.</td>\n",
       "      <td>M Under 35 Y.O.</td>\n",
       "    </tr>\n",
       "    <tr>\n",
       "      <th>...</th>\n",
       "      <td>...</td>\n",
       "      <td>...</td>\n",
       "      <td>...</td>\n",
       "      <td>...</td>\n",
       "      <td>...</td>\n",
       "      <td>...</td>\n",
       "      <td>...</td>\n",
       "      <td>...</td>\n",
       "      <td>...</td>\n",
       "    </tr>\n",
       "    <tr>\n",
       "      <th>643</th>\n",
       "      <td>2022-02-01</td>\n",
       "      <td>False</td>\n",
       "      <td>M</td>\n",
       "      <td>334914.877186</td>\n",
       "      <td>-5052.538176</td>\n",
       "      <td>-0.014862</td>\n",
       "      <td>M False</td>\n",
       "      <td>Over 35 Y.O.</td>\n",
       "      <td>M Over 35 Y.O.</td>\n",
       "    </tr>\n",
       "    <tr>\n",
       "      <th>644</th>\n",
       "      <td>2022-02-01</td>\n",
       "      <td>False</td>\n",
       "      <td>Unknown</td>\n",
       "      <td>25536.275986</td>\n",
       "      <td>789.670509</td>\n",
       "      <td>0.03191</td>\n",
       "      <td>Unknown False</td>\n",
       "      <td>Over 35 Y.O.</td>\n",
       "      <td>Unknown Over 35 Y.O.</td>\n",
       "    </tr>\n",
       "    <tr>\n",
       "      <th>645</th>\n",
       "      <td>2022-02-01</td>\n",
       "      <td>True</td>\n",
       "      <td>F</td>\n",
       "      <td>323609.077666</td>\n",
       "      <td>6641.639579</td>\n",
       "      <td>0.020954</td>\n",
       "      <td>F True</td>\n",
       "      <td>Under 35 Y.O.</td>\n",
       "      <td>F Under 35 Y.O.</td>\n",
       "    </tr>\n",
       "    <tr>\n",
       "      <th>646</th>\n",
       "      <td>2022-02-01</td>\n",
       "      <td>True</td>\n",
       "      <td>M</td>\n",
       "      <td>266148.456005</td>\n",
       "      <td>3288.99656</td>\n",
       "      <td>0.012512</td>\n",
       "      <td>M True</td>\n",
       "      <td>Under 35 Y.O.</td>\n",
       "      <td>M Under 35 Y.O.</td>\n",
       "    </tr>\n",
       "    <tr>\n",
       "      <th>647</th>\n",
       "      <td>2022-02-01</td>\n",
       "      <td>True</td>\n",
       "      <td>Unknown</td>\n",
       "      <td>24233.654928</td>\n",
       "      <td>-1026.950801</td>\n",
       "      <td>-0.040654</td>\n",
       "      <td>Unknown True</td>\n",
       "      <td>Under 35 Y.O.</td>\n",
       "      <td>Unknown Under 35 Y.O.</td>\n",
       "    </tr>\n",
       "  </tbody>\n",
       "</table>\n",
       "<p>648 rows × 9 columns</p>\n",
       "</div>"
      ],
      "text/plain": [
       "          month  Youth      Sex            FTE FTE change y-o-y  \\\n",
       "0    2013-03-01  False        F  308096.610359              NaN   \n",
       "1    2013-03-01  False        M  298627.957320              NaN   \n",
       "2    2013-03-01  False  Unknown   11931.115633              NaN   \n",
       "3    2013-03-01   True        F  259735.689921              NaN   \n",
       "4    2013-03-01   True        M  233364.825910              NaN   \n",
       "..          ...    ...      ...            ...              ...   \n",
       "643  2022-02-01  False        M  334914.877186     -5052.538176   \n",
       "644  2022-02-01  False  Unknown   25536.275986       789.670509   \n",
       "645  2022-02-01   True        F  323609.077666      6641.639579   \n",
       "646  2022-02-01   True        M  266148.456005       3288.99656   \n",
       "647  2022-02-01   True  Unknown   24233.654928     -1026.950801   \n",
       "\n",
       "    FTE % change y-o-y   gender-youth            Age                  Group  \n",
       "0                  NaN        F False   Over 35 Y.O.         F Over 35 Y.O.  \n",
       "1                  NaN        M False   Over 35 Y.O.         M Over 35 Y.O.  \n",
       "2                  NaN  Unknown False   Over 35 Y.O.   Unknown Over 35 Y.O.  \n",
       "3                  NaN         F True  Under 35 Y.O.        F Under 35 Y.O.  \n",
       "4                  NaN         M True  Under 35 Y.O.        M Under 35 Y.O.  \n",
       "..                 ...            ...            ...                    ...  \n",
       "643          -0.014862        M False   Over 35 Y.O.         M Over 35 Y.O.  \n",
       "644            0.03191  Unknown False   Over 35 Y.O.   Unknown Over 35 Y.O.  \n",
       "645           0.020954         F True  Under 35 Y.O.        F Under 35 Y.O.  \n",
       "646           0.012512         M True  Under 35 Y.O.        M Under 35 Y.O.  \n",
       "647          -0.040654   Unknown True  Under 35 Y.O.  Unknown Under 35 Y.O.  \n",
       "\n",
       "[648 rows x 9 columns]"
      ]
     },
     "execution_count": 48,
     "metadata": {},
     "output_type": "execute_result"
    }
   ],
   "source": [
    "fig.add_shape(\n",
    "    type='rect',\n",
    "    xref='x', x0=data['x'].min(), x1=data['x'].max(),\n",
    "    yref='y', y0=data['y'].min(), y1=0,\n",
    "    fillcolor='lightred',\n",
    "    opacity=0.3,\n",
    "    line=dict(color='lightred'),\n",
    "    layer='below'  # Set the layer to 'below' to place the shape behind the traces\n",
    ")"
   ]
  },
  {
   "cell_type": "code",
   "execution_count": 108,
   "metadata": {},
   "outputs": [
    {
     "data": {
      "text/plain": [
       "array([ 1.,  2.,  3.,  4.,  5.,  6.,  7.,  8.,  9., 10., 11., 12., 13.,\n",
       "       14., 15., 16., 17., 18., 19., 20., 21.])"
      ]
     },
     "execution_count": 108,
     "metadata": {},
     "output_type": "execute_result"
    }
   ],
   "source": [
    "# selection = figureDf.SIC7_1d == 1\n",
    "# figureDf[selection].Establishments.diff()\n",
    "figureDf.SIC7_1d.unique()\n"
   ]
  },
  {
   "cell_type": "code",
   "execution_count": 220,
   "metadata": {},
   "outputs": [
    {
     "name": "stderr",
     "output_type": "stream",
     "text": [
      "/var/folders/5v/zvlf303n2jvbs88z9hvt205w0000gn/T/ipykernel_1247/3087415202.py:10: SettingWithCopyWarning:\n",
      "\n",
      "\n",
      "A value is trying to be set on a copy of a slice from a DataFrame\n",
      "\n",
      "See the caveats in the documentation: https://pandas.pydata.org/pandas-docs/stable/user_guide/indexing.html#returning-a-view-versus-a-copy\n",
      "\n",
      "/var/folders/5v/zvlf303n2jvbs88z9hvt205w0000gn/T/ipykernel_1247/3087415202.py:11: SettingWithCopyWarning:\n",
      "\n",
      "\n",
      "A value is trying to be set on a copy of a slice from a DataFrame\n",
      "\n",
      "See the caveats in the documentation: https://pandas.pydata.org/pandas-docs/stable/user_guide/indexing.html#returning-a-view-versus-a-copy\n",
      "\n"
     ]
    },
    {
     "data": {
      "text/html": [
       "<div>\n",
       "<style scoped>\n",
       "    .dataframe tbody tr th:only-of-type {\n",
       "        vertical-align: middle;\n",
       "    }\n",
       "\n",
       "    .dataframe tbody tr th {\n",
       "        vertical-align: top;\n",
       "    }\n",
       "\n",
       "    .dataframe thead th {\n",
       "        text-align: right;\n",
       "    }\n",
       "</style>\n",
       "<table border=\"1\" class=\"dataframe\">\n",
       "  <thead>\n",
       "    <tr style=\"text-align: right;\">\n",
       "      <th></th>\n",
       "      <th>TaxYear</th>\n",
       "      <th>SIC7_1d</th>\n",
       "      <th>Establishments</th>\n",
       "      <th>Establishments change y-o-y</th>\n",
       "      <th>Establishments % change y-o-y</th>\n",
       "      <th>Sector</th>\n",
       "    </tr>\n",
       "  </thead>\n",
       "  <tbody>\n",
       "    <tr>\n",
       "      <th>114</th>\n",
       "      <td>2020</td>\n",
       "      <td>13.0</td>\n",
       "      <td>6586.881844</td>\n",
       "      <td>584.639511</td>\n",
       "      <td>0.097404</td>\n",
       "      <td>Scientific</td>\n",
       "    </tr>\n",
       "    <tr>\n",
       "      <th>168</th>\n",
       "      <td>2020</td>\n",
       "      <td>19.0</td>\n",
       "      <td>4823.263515</td>\n",
       "      <td>422.234474</td>\n",
       "      <td>0.09594</td>\n",
       "      <td>Other services</td>\n",
       "    </tr>\n",
       "    <tr>\n",
       "      <th>60</th>\n",
       "      <td>2020</td>\n",
       "      <td>7.0</td>\n",
       "      <td>10188.627135</td>\n",
       "      <td>387.881204</td>\n",
       "      <td>0.039577</td>\n",
       "      <td>Retail &amp; Repairs</td>\n",
       "    </tr>\n",
       "    <tr>\n",
       "      <th>167</th>\n",
       "      <td>2019</td>\n",
       "      <td>19.0</td>\n",
       "      <td>4401.029041</td>\n",
       "      <td>332.546058</td>\n",
       "      <td>0.081737</td>\n",
       "      <td>Other services</td>\n",
       "    </tr>\n",
       "    <tr>\n",
       "      <th>150</th>\n",
       "      <td>2020</td>\n",
       "      <td>17.0</td>\n",
       "      <td>4501.385932</td>\n",
       "      <td>304.329996</td>\n",
       "      <td>0.07251</td>\n",
       "      <td>Health</td>\n",
       "    </tr>\n",
       "    <tr>\n",
       "      <th>...</th>\n",
       "      <td>...</td>\n",
       "      <td>...</td>\n",
       "      <td>...</td>\n",
       "      <td>...</td>\n",
       "      <td>...</td>\n",
       "      <td>...</td>\n",
       "    </tr>\n",
       "    <tr>\n",
       "      <th>80</th>\n",
       "      <td>2022</td>\n",
       "      <td>9.0</td>\n",
       "      <td>2876.595605</td>\n",
       "      <td>-273.843876</td>\n",
       "      <td>-0.086922</td>\n",
       "      <td>Accommodation</td>\n",
       "    </tr>\n",
       "    <tr>\n",
       "      <th>125</th>\n",
       "      <td>2022</td>\n",
       "      <td>14.0</td>\n",
       "      <td>3981.322387</td>\n",
       "      <td>-350.852148</td>\n",
       "      <td>-0.080988</td>\n",
       "      <td>Administration</td>\n",
       "    </tr>\n",
       "    <tr>\n",
       "      <th>53</th>\n",
       "      <td>2022</td>\n",
       "      <td>6.0</td>\n",
       "      <td>4221.512279</td>\n",
       "      <td>-508.21793</td>\n",
       "      <td>-0.107452</td>\n",
       "      <td>Construction</td>\n",
       "    </tr>\n",
       "    <tr>\n",
       "      <th>62</th>\n",
       "      <td>2022</td>\n",
       "      <td>7.0</td>\n",
       "      <td>9458.315803</td>\n",
       "      <td>-524.57832</td>\n",
       "      <td>-0.052548</td>\n",
       "      <td>Retail &amp; Repairs</td>\n",
       "    </tr>\n",
       "    <tr>\n",
       "      <th>26</th>\n",
       "      <td>2022</td>\n",
       "      <td>3.0</td>\n",
       "      <td>6789.936115</td>\n",
       "      <td>-864.556605</td>\n",
       "      <td>-0.112948</td>\n",
       "      <td>Manufacturing</td>\n",
       "    </tr>\n",
       "  </tbody>\n",
       "</table>\n",
       "<p>84 rows × 6 columns</p>\n",
       "</div>"
      ],
      "text/plain": [
       "     TaxYear  SIC7_1d  Establishments Establishments change y-o-y  \\\n",
       "114     2020     13.0     6586.881844                  584.639511   \n",
       "168     2020     19.0     4823.263515                  422.234474   \n",
       "60      2020      7.0    10188.627135                  387.881204   \n",
       "167     2019     19.0     4401.029041                  332.546058   \n",
       "150     2020     17.0     4501.385932                  304.329996   \n",
       "..       ...      ...             ...                         ...   \n",
       "80      2022      9.0     2876.595605                 -273.843876   \n",
       "125     2022     14.0     3981.322387                 -350.852148   \n",
       "53      2022      6.0     4221.512279                  -508.21793   \n",
       "62      2022      7.0     9458.315803                  -524.57832   \n",
       "26      2022      3.0     6789.936115                 -864.556605   \n",
       "\n",
       "    Establishments % change y-o-y            Sector  \n",
       "114                      0.097404        Scientific  \n",
       "168                       0.09594    Other services  \n",
       "60                       0.039577  Retail & Repairs  \n",
       "167                      0.081737    Other services  \n",
       "150                       0.07251            Health  \n",
       "..                            ...               ...  \n",
       "80                      -0.086922     Accommodation  \n",
       "125                     -0.080988    Administration  \n",
       "53                      -0.107452      Construction  \n",
       "62                      -0.052548  Retail & Repairs  \n",
       "26                      -0.112948     Manufacturing  \n",
       "\n",
       "[84 rows x 6 columns]"
      ]
     },
     "execution_count": 220,
     "metadata": {},
     "output_type": "execute_result"
    }
   ],
   "source": [
    "establishments = pd.read_csv('cptData/Municipal_Establishments_industry2d.csv')\n",
    "establishments.Establishments = establishments.Establishments.str.replace(\"<10\",\"0\").astype('float')\n",
    "\n",
    "figureDf  = establishments.groupby(['TaxYear','SIC7_1d'])['Establishments'].sum().reset_index()\n",
    "establishments['TaxYear'] = establishments['TaxYear'].astype('str')\n",
    "figureDf['Establishments change y-o-y'] = None\n",
    "figureDf['Establishments % change y-o-y'] = None\n",
    "for sic  in figureDf.SIC7_1d.unique():\n",
    "    selection = figureDf.SIC7_1d == sic\n",
    "    figureDf['Establishments change y-o-y'].loc[selection] = figureDf[selection].Establishments.diff()\n",
    "    figureDf['Establishments % change y-o-y'].loc[selection] = figureDf[selection].Establishments.pct_change()\n",
    "figureDf\n",
    "key = pd.read_csv('keys/key1d.csv')\n",
    "key.columns = ['SIC7_1d','Sector']\n",
    "\n",
    "figureDf = figureDf.merge(key,on='SIC7_1d')\n",
    "figureDf = figureDf[figureDf.TaxYear >=2019]\n",
    "figureDf.sort_values(\"Establishments change y-o-y\",ascending=False)"
   ]
  },
  {
   "cell_type": "code",
   "execution_count": 221,
   "metadata": {},
   "outputs": [],
   "source": [
    "figureDf.dropna()\n",
    "figureDf.TaxYear=figureDf.TaxYear.astype('int')\n",
    "figureDf = figureDf[figureDf.TaxYear > 2018].sort_values(\"Establishments change y-o-y\",ascending=False)\n",
    "px.bar(figureDf,x='TaxYear',y='Establishments change y-o-y')\n",
    "figureDf.TaxYear.unique()\n",
    "# ,color='Sector',color_discrete_sequence=px.colors.qualitative.Alphabet)\n",
    "# \n",
    "figureDf =figureDf.pivot(index = 'Sector', columns='TaxYear',values=\"Establishments change y-o-y\").stack().reset_index()\n",
    "figureDf.columns = ['Sector','TaxYear','Establishments change']\n"
   ]
  },
  {
   "cell_type": "code",
   "execution_count": 222,
   "metadata": {},
   "outputs": [],
   "source": [
    "figureDf.TaxYear=figureDf.TaxYear.astype('str')"
   ]
  },
  {
   "cell_type": "code",
   "execution_count": 223,
   "metadata": {},
   "outputs": [
    {
     "data": {
      "text/html": [
       "<div>\n",
       "<style scoped>\n",
       "    .dataframe tbody tr th:only-of-type {\n",
       "        vertical-align: middle;\n",
       "    }\n",
       "\n",
       "    .dataframe tbody tr th {\n",
       "        vertical-align: top;\n",
       "    }\n",
       "\n",
       "    .dataframe thead th {\n",
       "        text-align: right;\n",
       "    }\n",
       "</style>\n",
       "<table border=\"1\" class=\"dataframe\">\n",
       "  <thead>\n",
       "    <tr style=\"text-align: right;\">\n",
       "      <th></th>\n",
       "      <th>Sector</th>\n",
       "      <th>TaxYear</th>\n",
       "      <th>Establishments change</th>\n",
       "    </tr>\n",
       "  </thead>\n",
       "  <tbody>\n",
       "    <tr>\n",
       "      <th>0</th>\n",
       "      <td>Accommodation</td>\n",
       "      <td>2019</td>\n",
       "      <td>67.752449</td>\n",
       "    </tr>\n",
       "    <tr>\n",
       "      <th>1</th>\n",
       "      <td>Accommodation</td>\n",
       "      <td>2020</td>\n",
       "      <td>55.410848</td>\n",
       "    </tr>\n",
       "    <tr>\n",
       "      <th>2</th>\n",
       "      <td>Accommodation</td>\n",
       "      <td>2021</td>\n",
       "      <td>-125.218076</td>\n",
       "    </tr>\n",
       "    <tr>\n",
       "      <th>3</th>\n",
       "      <td>Accommodation</td>\n",
       "      <td>2022</td>\n",
       "      <td>-273.843876</td>\n",
       "    </tr>\n",
       "    <tr>\n",
       "      <th>4</th>\n",
       "      <td>Administration</td>\n",
       "      <td>2019</td>\n",
       "      <td>107.940176</td>\n",
       "    </tr>\n",
       "    <tr>\n",
       "      <th>...</th>\n",
       "      <td>...</td>\n",
       "      <td>...</td>\n",
       "      <td>...</td>\n",
       "    </tr>\n",
       "    <tr>\n",
       "      <th>79</th>\n",
       "      <td>Transportation</td>\n",
       "      <td>2022</td>\n",
       "      <td>-186.109095</td>\n",
       "    </tr>\n",
       "    <tr>\n",
       "      <th>80</th>\n",
       "      <td>Water supply</td>\n",
       "      <td>2019</td>\n",
       "      <td>13.041451</td>\n",
       "    </tr>\n",
       "    <tr>\n",
       "      <th>81</th>\n",
       "      <td>Water supply</td>\n",
       "      <td>2020</td>\n",
       "      <td>13.931315</td>\n",
       "    </tr>\n",
       "    <tr>\n",
       "      <th>82</th>\n",
       "      <td>Water supply</td>\n",
       "      <td>2021</td>\n",
       "      <td>17.78637</td>\n",
       "    </tr>\n",
       "    <tr>\n",
       "      <th>83</th>\n",
       "      <td>Water supply</td>\n",
       "      <td>2022</td>\n",
       "      <td>-13.549712</td>\n",
       "    </tr>\n",
       "  </tbody>\n",
       "</table>\n",
       "<p>84 rows × 3 columns</p>\n",
       "</div>"
      ],
      "text/plain": [
       "            Sector TaxYear Establishments change\n",
       "0    Accommodation    2019             67.752449\n",
       "1    Accommodation    2020             55.410848\n",
       "2    Accommodation    2021           -125.218076\n",
       "3    Accommodation    2022           -273.843876\n",
       "4   Administration    2019            107.940176\n",
       "..             ...     ...                   ...\n",
       "79  Transportation    2022           -186.109095\n",
       "80    Water supply    2019             13.041451\n",
       "81    Water supply    2020             13.931315\n",
       "82    Water supply    2021              17.78637\n",
       "83    Water supply    2022            -13.549712\n",
       "\n",
       "[84 rows x 3 columns]"
      ]
     },
     "execution_count": 223,
     "metadata": {},
     "output_type": "execute_result"
    }
   ],
   "source": [
    "px.area(figureDf,x='TaxYear',y='Establishments change',color='Sector',color_discrete_sequence=px.colors.qualitative.Alphabet)\n",
    "figureDf"
   ]
  },
  {
   "cell_type": "code",
   "execution_count": 227,
   "metadata": {},
   "outputs": [
    {
     "data": {
      "application/vnd.plotly.v1+json": {
       "config": {
        "plotlyServerURL": "https://plot.ly"
       },
       "data": [
        {
         "alignmentgroup": "True",
         "hovertemplate": "Sector=Accommodation<br>TaxYear=%{x}<br>Establishments change=%{y}<extra></extra>",
         "legendgroup": "Accommodation",
         "marker": {
          "color": "#AA0DFE",
          "pattern": {
           "shape": ""
          }
         },
         "name": "Accommodation",
         "offsetgroup": "Accommodation",
         "orientation": "v",
         "showlegend": true,
         "textposition": "auto",
         "type": "bar",
         "x": [
          "2019",
          "2020",
          "2021",
          "2022"
         ],
         "xaxis": "x",
         "y": [
          67.75244923435412,
          55.41084791410731,
          -125.21807553610279,
          -273.84387610779913
         ],
         "yaxis": "y"
        },
        {
         "alignmentgroup": "True",
         "hovertemplate": "Sector=Administration<br>TaxYear=%{x}<br>Establishments change=%{y}<extra></extra>",
         "legendgroup": "Administration",
         "marker": {
          "color": "#3283FE",
          "pattern": {
           "shape": ""
          }
         },
         "name": "Administration",
         "offsetgroup": "Administration",
         "orientation": "v",
         "showlegend": true,
         "textposition": "auto",
         "type": "bar",
         "x": [
          "2019",
          "2020",
          "2021",
          "2022"
         ],
         "xaxis": "x",
         "y": [
          107.94017585813617,
          301.09541854508734,
          -137.15281930874517,
          -350.85214768231435
         ],
         "yaxis": "y"
        },
        {
         "alignmentgroup": "True",
         "hovertemplate": "Sector=Agriculture<br>TaxYear=%{x}<br>Establishments change=%{y}<extra></extra>",
         "legendgroup": "Agriculture",
         "marker": {
          "color": "#85660D",
          "pattern": {
           "shape": ""
          }
         },
         "name": "Agriculture",
         "offsetgroup": "Agriculture",
         "orientation": "v",
         "showlegend": true,
         "textposition": "auto",
         "type": "bar",
         "x": [
          "2019",
          "2020",
          "2021",
          "2022"
         ],
         "xaxis": "x",
         "y": [
          128.84045223873522,
          80.96344228747557,
          -18.501925949347424,
          -107.38865501482587
         ],
         "yaxis": "y"
        },
        {
         "alignmentgroup": "True",
         "hovertemplate": "Sector=Arts<br>TaxYear=%{x}<br>Establishments change=%{y}<extra></extra>",
         "legendgroup": "Arts",
         "marker": {
          "color": "#782AB6",
          "pattern": {
           "shape": ""
          }
         },
         "name": "Arts",
         "offsetgroup": "Arts",
         "orientation": "v",
         "showlegend": true,
         "textposition": "auto",
         "type": "bar",
         "x": [
          "2019",
          "2020",
          "2021",
          "2022"
         ],
         "xaxis": "x",
         "y": [
          27.992057354925464,
          133.5134007073318,
          -50.175126245223964,
          -126.46134182982928
         ],
         "yaxis": "y"
        },
        {
         "alignmentgroup": "True",
         "hovertemplate": "Sector=Construction<br>TaxYear=%{x}<br>Establishments change=%{y}<extra></extra>",
         "legendgroup": "Construction",
         "marker": {
          "color": "#565656",
          "pattern": {
           "shape": ""
          }
         },
         "name": "Construction",
         "offsetgroup": "Construction",
         "orientation": "v",
         "showlegend": true,
         "textposition": "auto",
         "type": "bar",
         "x": [
          "2019",
          "2020",
          "2021",
          "2022"
         ],
         "xaxis": "x",
         "y": [
          206.94736643326632,
          180.2553937232451,
          94.02063156574604,
          -508.21792959613504
         ],
         "yaxis": "y"
        },
        {
         "alignmentgroup": "True",
         "hovertemplate": "Sector=Education<br>TaxYear=%{x}<br>Establishments change=%{y}<extra></extra>",
         "legendgroup": "Education",
         "marker": {
          "color": "#1C8356",
          "pattern": {
           "shape": ""
          }
         },
         "name": "Education",
         "offsetgroup": "Education",
         "orientation": "v",
         "showlegend": true,
         "textposition": "auto",
         "type": "bar",
         "x": [
          "2019",
          "2020",
          "2021",
          "2022"
         ],
         "xaxis": "x",
         "y": [
          134.4320507182897,
          107.67333254922096,
          -84.90997146800191,
          -39.997307699181874
         ],
         "yaxis": "y"
        },
        {
         "alignmentgroup": "True",
         "hovertemplate": "Sector=Electricity<br>TaxYear=%{x}<br>Establishments change=%{y}<extra></extra>",
         "legendgroup": "Electricity",
         "marker": {
          "color": "#16FF32",
          "pattern": {
           "shape": ""
          }
         },
         "name": "Electricity",
         "offsetgroup": "Electricity",
         "orientation": "v",
         "showlegend": true,
         "textposition": "auto",
         "type": "bar",
         "x": [
          "2019",
          "2020",
          "2021",
          "2022"
         ],
         "xaxis": "x",
         "y": [
          5.1103575918861,
          5.915492894620257,
          63.17897034247591,
          -10.81109820906795
         ],
         "yaxis": "y"
        },
        {
         "alignmentgroup": "True",
         "hovertemplate": "Sector=Financial<br>TaxYear=%{x}<br>Establishments change=%{y}<extra></extra>",
         "legendgroup": "Financial",
         "marker": {
          "color": "#F7E1A0",
          "pattern": {
           "shape": ""
          }
         },
         "name": "Financial",
         "offsetgroup": "Financial",
         "orientation": "v",
         "showlegend": true,
         "textposition": "auto",
         "type": "bar",
         "x": [
          "2019",
          "2020",
          "2021",
          "2022"
         ],
         "xaxis": "x",
         "y": [
          50.44828073019926,
          142.98317328930762,
          -79.14008890446485,
          -3.2177353129745825
         ],
         "yaxis": "y"
        },
        {
         "alignmentgroup": "True",
         "hovertemplate": "Sector=Health<br>TaxYear=%{x}<br>Establishments change=%{y}<extra></extra>",
         "legendgroup": "Health",
         "marker": {
          "color": "#E2E2E2",
          "pattern": {
           "shape": ""
          }
         },
         "name": "Health",
         "offsetgroup": "Health",
         "orientation": "v",
         "showlegend": true,
         "textposition": "auto",
         "type": "bar",
         "x": [
          "2019",
          "2020",
          "2021",
          "2022"
         ],
         "xaxis": "x",
         "y": [
          227.9094380999186,
          304.32999593840304,
          -181.38826886741117,
          3.8974264120915905
         ],
         "yaxis": "y"
        },
        {
         "alignmentgroup": "True",
         "hovertemplate": "Sector=Households<br>TaxYear=%{x}<br>Establishments change=%{y}<extra></extra>",
         "legendgroup": "Households",
         "marker": {
          "color": "#1CBE4F",
          "pattern": {
           "shape": ""
          }
         },
         "name": "Households",
         "offsetgroup": "Households",
         "orientation": "v",
         "showlegend": true,
         "textposition": "auto",
         "type": "bar",
         "x": [
          "2019",
          "2020",
          "2021",
          "2022"
         ],
         "xaxis": "x",
         "y": [
          19.427020940353287,
          2.606605162148071,
          23.948431121433174,
          -20.896809499921886
         ],
         "yaxis": "y"
        },
        {
         "alignmentgroup": "True",
         "hovertemplate": "Sector=IT<br>TaxYear=%{x}<br>Establishments change=%{y}<extra></extra>",
         "legendgroup": "IT",
         "marker": {
          "color": "#C4451C",
          "pattern": {
           "shape": ""
          }
         },
         "name": "IT",
         "offsetgroup": "IT",
         "orientation": "v",
         "showlegend": true,
         "textposition": "auto",
         "type": "bar",
         "x": [
          "2019",
          "2020",
          "2021",
          "2022"
         ],
         "xaxis": "x",
         "y": [
          178.17356994998318,
          173.16714481520467,
          -161.54188628094835,
          -14.919163340799969
         ],
         "yaxis": "y"
        },
        {
         "alignmentgroup": "True",
         "hovertemplate": "Sector=Manufacturing<br>TaxYear=%{x}<br>Establishments change=%{y}<extra></extra>",
         "legendgroup": "Manufacturing",
         "marker": {
          "color": "#DEA0FD",
          "pattern": {
           "shape": ""
          }
         },
         "name": "Manufacturing",
         "offsetgroup": "Manufacturing",
         "orientation": "v",
         "showlegend": true,
         "textposition": "auto",
         "type": "bar",
         "x": [
          "2019",
          "2020",
          "2021",
          "2022"
         ],
         "xaxis": "x",
         "y": [
          169.73425265720653,
          119.88001227543191,
          14.506983588975345,
          -864.5566046205822
         ],
         "yaxis": "y"
        },
        {
         "alignmentgroup": "True",
         "hovertemplate": "Sector=Mining<br>TaxYear=%{x}<br>Establishments change=%{y}<extra></extra>",
         "legendgroup": "Mining",
         "marker": {
          "color": "#FE00FA",
          "pattern": {
           "shape": ""
          }
         },
         "name": "Mining",
         "offsetgroup": "Mining",
         "orientation": "v",
         "showlegend": true,
         "textposition": "auto",
         "type": "bar",
         "x": [
          "2019",
          "2020",
          "2021",
          "2022"
         ],
         "xaxis": "x",
         "y": [
          -14.559240959815526,
          15.934207587233658,
          13.980483907199954,
          -1.1329770669076424
         ],
         "yaxis": "y"
        },
        {
         "alignmentgroup": "True",
         "hovertemplate": "Sector=Organizations<br>TaxYear=%{x}<br>Establishments change=%{y}<extra></extra>",
         "legendgroup": "Organizations",
         "marker": {
          "color": "#325A9B",
          "pattern": {
           "shape": ""
          }
         },
         "name": "Organizations",
         "offsetgroup": "Organizations",
         "orientation": "v",
         "showlegend": true,
         "textposition": "auto",
         "type": "bar",
         "x": [
          "2019",
          "2020",
          "2021",
          "2022"
         ],
         "xaxis": "x",
         "y": [
          -9.122828694687826,
          12.72974276367134,
          12.344667097632495,
          -21.083167451905766
         ],
         "yaxis": "y"
        },
        {
         "alignmentgroup": "True",
         "hovertemplate": "Sector=Other services<br>TaxYear=%{x}<br>Establishments change=%{y}<extra></extra>",
         "legendgroup": "Other services",
         "marker": {
          "color": "#FEAF16",
          "pattern": {
           "shape": ""
          }
         },
         "name": "Other services",
         "offsetgroup": "Other services",
         "orientation": "v",
         "showlegend": true,
         "textposition": "auto",
         "type": "bar",
         "x": [
          "2019",
          "2020",
          "2021",
          "2022"
         ],
         "xaxis": "x",
         "y": [
          332.54605762485426,
          422.2344739383416,
          84.7650956420539,
          -37.68496968008276
         ],
         "yaxis": "y"
        },
        {
         "alignmentgroup": "True",
         "hovertemplate": "Sector=Public administration<br>TaxYear=%{x}<br>Establishments change=%{y}<extra></extra>",
         "legendgroup": "Public administration",
         "marker": {
          "color": "#F8A19F",
          "pattern": {
           "shape": ""
          }
         },
         "name": "Public administration",
         "offsetgroup": "Public administration",
         "orientation": "v",
         "showlegend": true,
         "textposition": "auto",
         "type": "bar",
         "x": [
          "2019",
          "2020",
          "2021",
          "2022"
         ],
         "xaxis": "x",
         "y": [
          6.902393985511253,
          -1.7594369118057216,
          1.8751909333808499,
          16.982776954667145
         ],
         "yaxis": "y"
        },
        {
         "alignmentgroup": "True",
         "hovertemplate": "Sector=Real estate<br>TaxYear=%{x}<br>Establishments change=%{y}<extra></extra>",
         "legendgroup": "Real estate",
         "marker": {
          "color": "#90AD1C",
          "pattern": {
           "shape": ""
          }
         },
         "name": "Real estate",
         "offsetgroup": "Real estate",
         "orientation": "v",
         "showlegend": true,
         "textposition": "auto",
         "type": "bar",
         "x": [
          "2019",
          "2020",
          "2021",
          "2022"
         ],
         "xaxis": "x",
         "y": [
          103.34138490535474,
          218.75441319882975,
          53.08116409961531,
          6.8883743380743
         ],
         "yaxis": "y"
        },
        {
         "alignmentgroup": "True",
         "hovertemplate": "Sector=Retail & Repairs<br>TaxYear=%{x}<br>Establishments change=%{y}<extra></extra>",
         "legendgroup": "Retail & Repairs",
         "marker": {
          "color": "#F6222E",
          "pattern": {
           "shape": ""
          }
         },
         "name": "Retail & Repairs",
         "offsetgroup": "Retail & Repairs",
         "orientation": "v",
         "showlegend": true,
         "textposition": "auto",
         "type": "bar",
         "x": [
          "2019",
          "2020",
          "2021",
          "2022"
         ],
         "xaxis": "x",
         "y": [
          193.1501434717975,
          387.8812044010683,
          -205.73301184265074,
          -524.5783201833201
         ],
         "yaxis": "y"
        },
        {
         "alignmentgroup": "True",
         "hovertemplate": "Sector=Scientific<br>TaxYear=%{x}<br>Establishments change=%{y}<extra></extra>",
         "legendgroup": "Scientific",
         "marker": {
          "color": "#1CFFCE",
          "pattern": {
           "shape": ""
          }
         },
         "name": "Scientific",
         "offsetgroup": "Scientific",
         "orientation": "v",
         "showlegend": true,
         "textposition": "auto",
         "type": "bar",
         "x": [
          "2019",
          "2020",
          "2021",
          "2022"
         ],
         "xaxis": "x",
         "y": [
          85.1845265888769,
          584.6395109328669,
          -57.19325348420443,
          -224.266623273611
         ],
         "yaxis": "y"
        },
        {
         "alignmentgroup": "True",
         "hovertemplate": "Sector=Transportation<br>TaxYear=%{x}<br>Establishments change=%{y}<extra></extra>",
         "legendgroup": "Transportation",
         "marker": {
          "color": "#2ED9FF",
          "pattern": {
           "shape": ""
          }
         },
         "name": "Transportation",
         "offsetgroup": "Transportation",
         "orientation": "v",
         "showlegend": true,
         "textposition": "auto",
         "type": "bar",
         "x": [
          "2019",
          "2020",
          "2021",
          "2022"
         ],
         "xaxis": "x",
         "y": [
          96.20494791496367,
          108.22852909946914,
          -19.632053520314912,
          -186.10909461888605
         ],
         "yaxis": "y"
        },
        {
         "alignmentgroup": "True",
         "hovertemplate": "Sector=Water supply<br>TaxYear=%{x}<br>Establishments change=%{y}<extra></extra>",
         "legendgroup": "Water supply",
         "marker": {
          "color": "#B10DA1",
          "pattern": {
           "shape": ""
          }
         },
         "name": "Water supply",
         "offsetgroup": "Water supply",
         "orientation": "v",
         "showlegend": true,
         "textposition": "auto",
         "type": "bar",
         "x": [
          "2019",
          "2020",
          "2021",
          "2022"
         ],
         "xaxis": "x",
         "y": [
          13.041451243753016,
          13.93131516569889,
          17.78637039233658,
          -13.549711527817749
         ],
         "yaxis": "y"
        }
       ],
       "layout": {
        "barmode": "relative",
        "height": 600,
        "legend": {
         "title": {
          "text": "Sector"
         },
         "tracegroupgap": 0
        },
        "template": {
         "data": {
          "bar": [
           {
            "error_x": {
             "color": "#2a3f5f"
            },
            "error_y": {
             "color": "#2a3f5f"
            },
            "marker": {
             "line": {
              "color": "#E5ECF6",
              "width": 0.5
             },
             "pattern": {
              "fillmode": "overlay",
              "size": 10,
              "solidity": 0.2
             }
            },
            "type": "bar"
           }
          ],
          "barpolar": [
           {
            "marker": {
             "line": {
              "color": "#E5ECF6",
              "width": 0.5
             },
             "pattern": {
              "fillmode": "overlay",
              "size": 10,
              "solidity": 0.2
             }
            },
            "type": "barpolar"
           }
          ],
          "carpet": [
           {
            "aaxis": {
             "endlinecolor": "#2a3f5f",
             "gridcolor": "white",
             "linecolor": "white",
             "minorgridcolor": "white",
             "startlinecolor": "#2a3f5f"
            },
            "baxis": {
             "endlinecolor": "#2a3f5f",
             "gridcolor": "white",
             "linecolor": "white",
             "minorgridcolor": "white",
             "startlinecolor": "#2a3f5f"
            },
            "type": "carpet"
           }
          ],
          "choropleth": [
           {
            "colorbar": {
             "outlinewidth": 0,
             "ticks": ""
            },
            "type": "choropleth"
           }
          ],
          "contour": [
           {
            "colorbar": {
             "outlinewidth": 0,
             "ticks": ""
            },
            "colorscale": [
             [
              0,
              "#0d0887"
             ],
             [
              0.1111111111111111,
              "#46039f"
             ],
             [
              0.2222222222222222,
              "#7201a8"
             ],
             [
              0.3333333333333333,
              "#9c179e"
             ],
             [
              0.4444444444444444,
              "#bd3786"
             ],
             [
              0.5555555555555556,
              "#d8576b"
             ],
             [
              0.6666666666666666,
              "#ed7953"
             ],
             [
              0.7777777777777778,
              "#fb9f3a"
             ],
             [
              0.8888888888888888,
              "#fdca26"
             ],
             [
              1,
              "#f0f921"
             ]
            ],
            "type": "contour"
           }
          ],
          "contourcarpet": [
           {
            "colorbar": {
             "outlinewidth": 0,
             "ticks": ""
            },
            "type": "contourcarpet"
           }
          ],
          "heatmap": [
           {
            "colorbar": {
             "outlinewidth": 0,
             "ticks": ""
            },
            "colorscale": [
             [
              0,
              "#0d0887"
             ],
             [
              0.1111111111111111,
              "#46039f"
             ],
             [
              0.2222222222222222,
              "#7201a8"
             ],
             [
              0.3333333333333333,
              "#9c179e"
             ],
             [
              0.4444444444444444,
              "#bd3786"
             ],
             [
              0.5555555555555556,
              "#d8576b"
             ],
             [
              0.6666666666666666,
              "#ed7953"
             ],
             [
              0.7777777777777778,
              "#fb9f3a"
             ],
             [
              0.8888888888888888,
              "#fdca26"
             ],
             [
              1,
              "#f0f921"
             ]
            ],
            "type": "heatmap"
           }
          ],
          "heatmapgl": [
           {
            "colorbar": {
             "outlinewidth": 0,
             "ticks": ""
            },
            "colorscale": [
             [
              0,
              "#0d0887"
             ],
             [
              0.1111111111111111,
              "#46039f"
             ],
             [
              0.2222222222222222,
              "#7201a8"
             ],
             [
              0.3333333333333333,
              "#9c179e"
             ],
             [
              0.4444444444444444,
              "#bd3786"
             ],
             [
              0.5555555555555556,
              "#d8576b"
             ],
             [
              0.6666666666666666,
              "#ed7953"
             ],
             [
              0.7777777777777778,
              "#fb9f3a"
             ],
             [
              0.8888888888888888,
              "#fdca26"
             ],
             [
              1,
              "#f0f921"
             ]
            ],
            "type": "heatmapgl"
           }
          ],
          "histogram": [
           {
            "marker": {
             "pattern": {
              "fillmode": "overlay",
              "size": 10,
              "solidity": 0.2
             }
            },
            "type": "histogram"
           }
          ],
          "histogram2d": [
           {
            "colorbar": {
             "outlinewidth": 0,
             "ticks": ""
            },
            "colorscale": [
             [
              0,
              "#0d0887"
             ],
             [
              0.1111111111111111,
              "#46039f"
             ],
             [
              0.2222222222222222,
              "#7201a8"
             ],
             [
              0.3333333333333333,
              "#9c179e"
             ],
             [
              0.4444444444444444,
              "#bd3786"
             ],
             [
              0.5555555555555556,
              "#d8576b"
             ],
             [
              0.6666666666666666,
              "#ed7953"
             ],
             [
              0.7777777777777778,
              "#fb9f3a"
             ],
             [
              0.8888888888888888,
              "#fdca26"
             ],
             [
              1,
              "#f0f921"
             ]
            ],
            "type": "histogram2d"
           }
          ],
          "histogram2dcontour": [
           {
            "colorbar": {
             "outlinewidth": 0,
             "ticks": ""
            },
            "colorscale": [
             [
              0,
              "#0d0887"
             ],
             [
              0.1111111111111111,
              "#46039f"
             ],
             [
              0.2222222222222222,
              "#7201a8"
             ],
             [
              0.3333333333333333,
              "#9c179e"
             ],
             [
              0.4444444444444444,
              "#bd3786"
             ],
             [
              0.5555555555555556,
              "#d8576b"
             ],
             [
              0.6666666666666666,
              "#ed7953"
             ],
             [
              0.7777777777777778,
              "#fb9f3a"
             ],
             [
              0.8888888888888888,
              "#fdca26"
             ],
             [
              1,
              "#f0f921"
             ]
            ],
            "type": "histogram2dcontour"
           }
          ],
          "mesh3d": [
           {
            "colorbar": {
             "outlinewidth": 0,
             "ticks": ""
            },
            "type": "mesh3d"
           }
          ],
          "parcoords": [
           {
            "line": {
             "colorbar": {
              "outlinewidth": 0,
              "ticks": ""
             }
            },
            "type": "parcoords"
           }
          ],
          "pie": [
           {
            "automargin": true,
            "type": "pie"
           }
          ],
          "scatter": [
           {
            "fillpattern": {
             "fillmode": "overlay",
             "size": 10,
             "solidity": 0.2
            },
            "type": "scatter"
           }
          ],
          "scatter3d": [
           {
            "line": {
             "colorbar": {
              "outlinewidth": 0,
              "ticks": ""
             }
            },
            "marker": {
             "colorbar": {
              "outlinewidth": 0,
              "ticks": ""
             }
            },
            "type": "scatter3d"
           }
          ],
          "scattercarpet": [
           {
            "marker": {
             "colorbar": {
              "outlinewidth": 0,
              "ticks": ""
             }
            },
            "type": "scattercarpet"
           }
          ],
          "scattergeo": [
           {
            "marker": {
             "colorbar": {
              "outlinewidth": 0,
              "ticks": ""
             }
            },
            "type": "scattergeo"
           }
          ],
          "scattergl": [
           {
            "marker": {
             "colorbar": {
              "outlinewidth": 0,
              "ticks": ""
             }
            },
            "type": "scattergl"
           }
          ],
          "scattermapbox": [
           {
            "marker": {
             "colorbar": {
              "outlinewidth": 0,
              "ticks": ""
             }
            },
            "type": "scattermapbox"
           }
          ],
          "scatterpolar": [
           {
            "marker": {
             "colorbar": {
              "outlinewidth": 0,
              "ticks": ""
             }
            },
            "type": "scatterpolar"
           }
          ],
          "scatterpolargl": [
           {
            "marker": {
             "colorbar": {
              "outlinewidth": 0,
              "ticks": ""
             }
            },
            "type": "scatterpolargl"
           }
          ],
          "scatterternary": [
           {
            "marker": {
             "colorbar": {
              "outlinewidth": 0,
              "ticks": ""
             }
            },
            "type": "scatterternary"
           }
          ],
          "surface": [
           {
            "colorbar": {
             "outlinewidth": 0,
             "ticks": ""
            },
            "colorscale": [
             [
              0,
              "#0d0887"
             ],
             [
              0.1111111111111111,
              "#46039f"
             ],
             [
              0.2222222222222222,
              "#7201a8"
             ],
             [
              0.3333333333333333,
              "#9c179e"
             ],
             [
              0.4444444444444444,
              "#bd3786"
             ],
             [
              0.5555555555555556,
              "#d8576b"
             ],
             [
              0.6666666666666666,
              "#ed7953"
             ],
             [
              0.7777777777777778,
              "#fb9f3a"
             ],
             [
              0.8888888888888888,
              "#fdca26"
             ],
             [
              1,
              "#f0f921"
             ]
            ],
            "type": "surface"
           }
          ],
          "table": [
           {
            "cells": {
             "fill": {
              "color": "#EBF0F8"
             },
             "line": {
              "color": "white"
             }
            },
            "header": {
             "fill": {
              "color": "#C8D4E3"
             },
             "line": {
              "color": "white"
             }
            },
            "type": "table"
           }
          ]
         },
         "layout": {
          "annotationdefaults": {
           "arrowcolor": "#2a3f5f",
           "arrowhead": 0,
           "arrowwidth": 1
          },
          "autotypenumbers": "strict",
          "coloraxis": {
           "colorbar": {
            "outlinewidth": 0,
            "ticks": ""
           }
          },
          "colorscale": {
           "diverging": [
            [
             0,
             "#8e0152"
            ],
            [
             0.1,
             "#c51b7d"
            ],
            [
             0.2,
             "#de77ae"
            ],
            [
             0.3,
             "#f1b6da"
            ],
            [
             0.4,
             "#fde0ef"
            ],
            [
             0.5,
             "#f7f7f7"
            ],
            [
             0.6,
             "#e6f5d0"
            ],
            [
             0.7,
             "#b8e186"
            ],
            [
             0.8,
             "#7fbc41"
            ],
            [
             0.9,
             "#4d9221"
            ],
            [
             1,
             "#276419"
            ]
           ],
           "sequential": [
            [
             0,
             "#0d0887"
            ],
            [
             0.1111111111111111,
             "#46039f"
            ],
            [
             0.2222222222222222,
             "#7201a8"
            ],
            [
             0.3333333333333333,
             "#9c179e"
            ],
            [
             0.4444444444444444,
             "#bd3786"
            ],
            [
             0.5555555555555556,
             "#d8576b"
            ],
            [
             0.6666666666666666,
             "#ed7953"
            ],
            [
             0.7777777777777778,
             "#fb9f3a"
            ],
            [
             0.8888888888888888,
             "#fdca26"
            ],
            [
             1,
             "#f0f921"
            ]
           ],
           "sequentialminus": [
            [
             0,
             "#0d0887"
            ],
            [
             0.1111111111111111,
             "#46039f"
            ],
            [
             0.2222222222222222,
             "#7201a8"
            ],
            [
             0.3333333333333333,
             "#9c179e"
            ],
            [
             0.4444444444444444,
             "#bd3786"
            ],
            [
             0.5555555555555556,
             "#d8576b"
            ],
            [
             0.6666666666666666,
             "#ed7953"
            ],
            [
             0.7777777777777778,
             "#fb9f3a"
            ],
            [
             0.8888888888888888,
             "#fdca26"
            ],
            [
             1,
             "#f0f921"
            ]
           ]
          },
          "colorway": [
           "#636efa",
           "#EF553B",
           "#00cc96",
           "#ab63fa",
           "#FFA15A",
           "#19d3f3",
           "#FF6692",
           "#B6E880",
           "#FF97FF",
           "#FECB52"
          ],
          "font": {
           "color": "#2a3f5f"
          },
          "geo": {
           "bgcolor": "white",
           "lakecolor": "white",
           "landcolor": "#E5ECF6",
           "showlakes": true,
           "showland": true,
           "subunitcolor": "white"
          },
          "hoverlabel": {
           "align": "left"
          },
          "hovermode": "closest",
          "mapbox": {
           "style": "light"
          },
          "paper_bgcolor": "white",
          "plot_bgcolor": "#E5ECF6",
          "polar": {
           "angularaxis": {
            "gridcolor": "white",
            "linecolor": "white",
            "ticks": ""
           },
           "bgcolor": "#E5ECF6",
           "radialaxis": {
            "gridcolor": "white",
            "linecolor": "white",
            "ticks": ""
           }
          },
          "scene": {
           "xaxis": {
            "backgroundcolor": "#E5ECF6",
            "gridcolor": "white",
            "gridwidth": 2,
            "linecolor": "white",
            "showbackground": true,
            "ticks": "",
            "zerolinecolor": "white"
           },
           "yaxis": {
            "backgroundcolor": "#E5ECF6",
            "gridcolor": "white",
            "gridwidth": 2,
            "linecolor": "white",
            "showbackground": true,
            "ticks": "",
            "zerolinecolor": "white"
           },
           "zaxis": {
            "backgroundcolor": "#E5ECF6",
            "gridcolor": "white",
            "gridwidth": 2,
            "linecolor": "white",
            "showbackground": true,
            "ticks": "",
            "zerolinecolor": "white"
           }
          },
          "shapedefaults": {
           "line": {
            "color": "#2a3f5f"
           }
          },
          "ternary": {
           "aaxis": {
            "gridcolor": "white",
            "linecolor": "white",
            "ticks": ""
           },
           "baxis": {
            "gridcolor": "white",
            "linecolor": "white",
            "ticks": ""
           },
           "bgcolor": "#E5ECF6",
           "caxis": {
            "gridcolor": "white",
            "linecolor": "white",
            "ticks": ""
           }
          },
          "title": {
           "x": 0.05
          },
          "xaxis": {
           "automargin": true,
           "gridcolor": "white",
           "linecolor": "white",
           "ticks": "",
           "title": {
            "standoff": 15
           },
           "zerolinecolor": "white",
           "zerolinewidth": 2
          },
          "yaxis": {
           "automargin": true,
           "gridcolor": "white",
           "linecolor": "white",
           "ticks": "",
           "title": {
            "standoff": 15
           },
           "zerolinecolor": "white",
           "zerolinewidth": 2
          }
         }
        },
        "title": {
         "text": "y-o-y Change in Establishments by Sector"
        },
        "xaxis": {
         "anchor": "y",
         "domain": [
          0,
          1
         ],
         "title": {
          "text": "TaxYear"
         }
        },
        "yaxis": {
         "anchor": "x",
         "domain": [
          0,
          1
         ],
         "title": {
          "text": "Establishments change"
         }
        }
       }
      }
     },
     "metadata": {},
     "output_type": "display_data"
    }
   ],
   "source": [
    "fig = px.bar(figureDf, x='TaxYear',y='Establishments change',color='Sector',\n",
    "             color_discrete_sequence=px.colors.qualitative.Alphabet,\n",
    "             title='y-o-y Change in Establishments by Sector',\n",
    "             height=600)\n",
    "\n",
    "# fig.add_shape(\n",
    "#     type='rect',\n",
    "#      x0='2021', x1='2022',\n",
    "#      y0=-70000, y1=0,\n",
    "#     fillcolor='tomato',\n",
    "#     opacity=0.2,\n",
    "#     line=dict(color='tomato'),\n",
    "#     layer='below'  # Set the layer to 'below' to place the shape behind the traces\n",
    "# )\n",
    "fig\n",
    "# figureDf['TaxYear'].max()\n",
    "# fig.add_shape(type=\"rect\",\n",
    "#     x0=2019, y0=0, x1=2022, y1=-6000,\n",
    "#     line=dict(\n",
    "#         color=\"Red\",\n",
    "#         width=2,\n",
    "#     ),\n",
    "#     fillcolor=\"Red\",\n",
    "#     opacity=0.2,\n",
    "# )"
   ]
  },
  {
   "cell_type": "code",
   "execution_count": 210,
   "metadata": {},
   "outputs": [
    {
     "data": {
      "application/vnd.plotly.v1+json": {
       "config": {
        "plotlyServerURL": "https://plot.ly"
       },
       "data": [
        {
         "hovertemplate": "TaxYear=%{x}<br>Establishments=%{y}<extra></extra>",
         "legendgroup": "",
         "line": {
          "color": "#636efa",
          "dash": "solid"
         },
         "marker": {
          "symbol": "circle"
         },
         "mode": "lines",
         "name": "",
         "orientation": "v",
         "showlegend": false,
         "type": "scatter",
         "x": [
          2014,
          2015,
          2016,
          2017,
          2018,
          2019,
          2020,
          2021,
          2022
         ],
         "xaxis": "x",
         "y": [
          54245.95024053684,
          57591.27947654439,
          59564.172865405344,
          59495.957224474594,
          62041.45856020397,
          64408.77536077156,
          68433.18402703982,
          68108.36933959126,
          64639.64217403901
         ],
         "yaxis": "y"
        }
       ],
       "layout": {
        "legend": {
         "tracegroupgap": 0
        },
        "margin": {
         "t": 60
        },
        "template": {
         "data": {
          "bar": [
           {
            "error_x": {
             "color": "#2a3f5f"
            },
            "error_y": {
             "color": "#2a3f5f"
            },
            "marker": {
             "line": {
              "color": "#E5ECF6",
              "width": 0.5
             },
             "pattern": {
              "fillmode": "overlay",
              "size": 10,
              "solidity": 0.2
             }
            },
            "type": "bar"
           }
          ],
          "barpolar": [
           {
            "marker": {
             "line": {
              "color": "#E5ECF6",
              "width": 0.5
             },
             "pattern": {
              "fillmode": "overlay",
              "size": 10,
              "solidity": 0.2
             }
            },
            "type": "barpolar"
           }
          ],
          "carpet": [
           {
            "aaxis": {
             "endlinecolor": "#2a3f5f",
             "gridcolor": "white",
             "linecolor": "white",
             "minorgridcolor": "white",
             "startlinecolor": "#2a3f5f"
            },
            "baxis": {
             "endlinecolor": "#2a3f5f",
             "gridcolor": "white",
             "linecolor": "white",
             "minorgridcolor": "white",
             "startlinecolor": "#2a3f5f"
            },
            "type": "carpet"
           }
          ],
          "choropleth": [
           {
            "colorbar": {
             "outlinewidth": 0,
             "ticks": ""
            },
            "type": "choropleth"
           }
          ],
          "contour": [
           {
            "colorbar": {
             "outlinewidth": 0,
             "ticks": ""
            },
            "colorscale": [
             [
              0,
              "#0d0887"
             ],
             [
              0.1111111111111111,
              "#46039f"
             ],
             [
              0.2222222222222222,
              "#7201a8"
             ],
             [
              0.3333333333333333,
              "#9c179e"
             ],
             [
              0.4444444444444444,
              "#bd3786"
             ],
             [
              0.5555555555555556,
              "#d8576b"
             ],
             [
              0.6666666666666666,
              "#ed7953"
             ],
             [
              0.7777777777777778,
              "#fb9f3a"
             ],
             [
              0.8888888888888888,
              "#fdca26"
             ],
             [
              1,
              "#f0f921"
             ]
            ],
            "type": "contour"
           }
          ],
          "contourcarpet": [
           {
            "colorbar": {
             "outlinewidth": 0,
             "ticks": ""
            },
            "type": "contourcarpet"
           }
          ],
          "heatmap": [
           {
            "colorbar": {
             "outlinewidth": 0,
             "ticks": ""
            },
            "colorscale": [
             [
              0,
              "#0d0887"
             ],
             [
              0.1111111111111111,
              "#46039f"
             ],
             [
              0.2222222222222222,
              "#7201a8"
             ],
             [
              0.3333333333333333,
              "#9c179e"
             ],
             [
              0.4444444444444444,
              "#bd3786"
             ],
             [
              0.5555555555555556,
              "#d8576b"
             ],
             [
              0.6666666666666666,
              "#ed7953"
             ],
             [
              0.7777777777777778,
              "#fb9f3a"
             ],
             [
              0.8888888888888888,
              "#fdca26"
             ],
             [
              1,
              "#f0f921"
             ]
            ],
            "type": "heatmap"
           }
          ],
          "heatmapgl": [
           {
            "colorbar": {
             "outlinewidth": 0,
             "ticks": ""
            },
            "colorscale": [
             [
              0,
              "#0d0887"
             ],
             [
              0.1111111111111111,
              "#46039f"
             ],
             [
              0.2222222222222222,
              "#7201a8"
             ],
             [
              0.3333333333333333,
              "#9c179e"
             ],
             [
              0.4444444444444444,
              "#bd3786"
             ],
             [
              0.5555555555555556,
              "#d8576b"
             ],
             [
              0.6666666666666666,
              "#ed7953"
             ],
             [
              0.7777777777777778,
              "#fb9f3a"
             ],
             [
              0.8888888888888888,
              "#fdca26"
             ],
             [
              1,
              "#f0f921"
             ]
            ],
            "type": "heatmapgl"
           }
          ],
          "histogram": [
           {
            "marker": {
             "pattern": {
              "fillmode": "overlay",
              "size": 10,
              "solidity": 0.2
             }
            },
            "type": "histogram"
           }
          ],
          "histogram2d": [
           {
            "colorbar": {
             "outlinewidth": 0,
             "ticks": ""
            },
            "colorscale": [
             [
              0,
              "#0d0887"
             ],
             [
              0.1111111111111111,
              "#46039f"
             ],
             [
              0.2222222222222222,
              "#7201a8"
             ],
             [
              0.3333333333333333,
              "#9c179e"
             ],
             [
              0.4444444444444444,
              "#bd3786"
             ],
             [
              0.5555555555555556,
              "#d8576b"
             ],
             [
              0.6666666666666666,
              "#ed7953"
             ],
             [
              0.7777777777777778,
              "#fb9f3a"
             ],
             [
              0.8888888888888888,
              "#fdca26"
             ],
             [
              1,
              "#f0f921"
             ]
            ],
            "type": "histogram2d"
           }
          ],
          "histogram2dcontour": [
           {
            "colorbar": {
             "outlinewidth": 0,
             "ticks": ""
            },
            "colorscale": [
             [
              0,
              "#0d0887"
             ],
             [
              0.1111111111111111,
              "#46039f"
             ],
             [
              0.2222222222222222,
              "#7201a8"
             ],
             [
              0.3333333333333333,
              "#9c179e"
             ],
             [
              0.4444444444444444,
              "#bd3786"
             ],
             [
              0.5555555555555556,
              "#d8576b"
             ],
             [
              0.6666666666666666,
              "#ed7953"
             ],
             [
              0.7777777777777778,
              "#fb9f3a"
             ],
             [
              0.8888888888888888,
              "#fdca26"
             ],
             [
              1,
              "#f0f921"
             ]
            ],
            "type": "histogram2dcontour"
           }
          ],
          "mesh3d": [
           {
            "colorbar": {
             "outlinewidth": 0,
             "ticks": ""
            },
            "type": "mesh3d"
           }
          ],
          "parcoords": [
           {
            "line": {
             "colorbar": {
              "outlinewidth": 0,
              "ticks": ""
             }
            },
            "type": "parcoords"
           }
          ],
          "pie": [
           {
            "automargin": true,
            "type": "pie"
           }
          ],
          "scatter": [
           {
            "fillpattern": {
             "fillmode": "overlay",
             "size": 10,
             "solidity": 0.2
            },
            "type": "scatter"
           }
          ],
          "scatter3d": [
           {
            "line": {
             "colorbar": {
              "outlinewidth": 0,
              "ticks": ""
             }
            },
            "marker": {
             "colorbar": {
              "outlinewidth": 0,
              "ticks": ""
             }
            },
            "type": "scatter3d"
           }
          ],
          "scattercarpet": [
           {
            "marker": {
             "colorbar": {
              "outlinewidth": 0,
              "ticks": ""
             }
            },
            "type": "scattercarpet"
           }
          ],
          "scattergeo": [
           {
            "marker": {
             "colorbar": {
              "outlinewidth": 0,
              "ticks": ""
             }
            },
            "type": "scattergeo"
           }
          ],
          "scattergl": [
           {
            "marker": {
             "colorbar": {
              "outlinewidth": 0,
              "ticks": ""
             }
            },
            "type": "scattergl"
           }
          ],
          "scattermapbox": [
           {
            "marker": {
             "colorbar": {
              "outlinewidth": 0,
              "ticks": ""
             }
            },
            "type": "scattermapbox"
           }
          ],
          "scatterpolar": [
           {
            "marker": {
             "colorbar": {
              "outlinewidth": 0,
              "ticks": ""
             }
            },
            "type": "scatterpolar"
           }
          ],
          "scatterpolargl": [
           {
            "marker": {
             "colorbar": {
              "outlinewidth": 0,
              "ticks": ""
             }
            },
            "type": "scatterpolargl"
           }
          ],
          "scatterternary": [
           {
            "marker": {
             "colorbar": {
              "outlinewidth": 0,
              "ticks": ""
             }
            },
            "type": "scatterternary"
           }
          ],
          "surface": [
           {
            "colorbar": {
             "outlinewidth": 0,
             "ticks": ""
            },
            "colorscale": [
             [
              0,
              "#0d0887"
             ],
             [
              0.1111111111111111,
              "#46039f"
             ],
             [
              0.2222222222222222,
              "#7201a8"
             ],
             [
              0.3333333333333333,
              "#9c179e"
             ],
             [
              0.4444444444444444,
              "#bd3786"
             ],
             [
              0.5555555555555556,
              "#d8576b"
             ],
             [
              0.6666666666666666,
              "#ed7953"
             ],
             [
              0.7777777777777778,
              "#fb9f3a"
             ],
             [
              0.8888888888888888,
              "#fdca26"
             ],
             [
              1,
              "#f0f921"
             ]
            ],
            "type": "surface"
           }
          ],
          "table": [
           {
            "cells": {
             "fill": {
              "color": "#EBF0F8"
             },
             "line": {
              "color": "white"
             }
            },
            "header": {
             "fill": {
              "color": "#C8D4E3"
             },
             "line": {
              "color": "white"
             }
            },
            "type": "table"
           }
          ]
         },
         "layout": {
          "annotationdefaults": {
           "arrowcolor": "#2a3f5f",
           "arrowhead": 0,
           "arrowwidth": 1
          },
          "autotypenumbers": "strict",
          "coloraxis": {
           "colorbar": {
            "outlinewidth": 0,
            "ticks": ""
           }
          },
          "colorscale": {
           "diverging": [
            [
             0,
             "#8e0152"
            ],
            [
             0.1,
             "#c51b7d"
            ],
            [
             0.2,
             "#de77ae"
            ],
            [
             0.3,
             "#f1b6da"
            ],
            [
             0.4,
             "#fde0ef"
            ],
            [
             0.5,
             "#f7f7f7"
            ],
            [
             0.6,
             "#e6f5d0"
            ],
            [
             0.7,
             "#b8e186"
            ],
            [
             0.8,
             "#7fbc41"
            ],
            [
             0.9,
             "#4d9221"
            ],
            [
             1,
             "#276419"
            ]
           ],
           "sequential": [
            [
             0,
             "#0d0887"
            ],
            [
             0.1111111111111111,
             "#46039f"
            ],
            [
             0.2222222222222222,
             "#7201a8"
            ],
            [
             0.3333333333333333,
             "#9c179e"
            ],
            [
             0.4444444444444444,
             "#bd3786"
            ],
            [
             0.5555555555555556,
             "#d8576b"
            ],
            [
             0.6666666666666666,
             "#ed7953"
            ],
            [
             0.7777777777777778,
             "#fb9f3a"
            ],
            [
             0.8888888888888888,
             "#fdca26"
            ],
            [
             1,
             "#f0f921"
            ]
           ],
           "sequentialminus": [
            [
             0,
             "#0d0887"
            ],
            [
             0.1111111111111111,
             "#46039f"
            ],
            [
             0.2222222222222222,
             "#7201a8"
            ],
            [
             0.3333333333333333,
             "#9c179e"
            ],
            [
             0.4444444444444444,
             "#bd3786"
            ],
            [
             0.5555555555555556,
             "#d8576b"
            ],
            [
             0.6666666666666666,
             "#ed7953"
            ],
            [
             0.7777777777777778,
             "#fb9f3a"
            ],
            [
             0.8888888888888888,
             "#fdca26"
            ],
            [
             1,
             "#f0f921"
            ]
           ]
          },
          "colorway": [
           "#636efa",
           "#EF553B",
           "#00cc96",
           "#ab63fa",
           "#FFA15A",
           "#19d3f3",
           "#FF6692",
           "#B6E880",
           "#FF97FF",
           "#FECB52"
          ],
          "font": {
           "color": "#2a3f5f"
          },
          "geo": {
           "bgcolor": "white",
           "lakecolor": "white",
           "landcolor": "#E5ECF6",
           "showlakes": true,
           "showland": true,
           "subunitcolor": "white"
          },
          "hoverlabel": {
           "align": "left"
          },
          "hovermode": "closest",
          "mapbox": {
           "style": "light"
          },
          "paper_bgcolor": "white",
          "plot_bgcolor": "#E5ECF6",
          "polar": {
           "angularaxis": {
            "gridcolor": "white",
            "linecolor": "white",
            "ticks": ""
           },
           "bgcolor": "#E5ECF6",
           "radialaxis": {
            "gridcolor": "white",
            "linecolor": "white",
            "ticks": ""
           }
          },
          "scene": {
           "xaxis": {
            "backgroundcolor": "#E5ECF6",
            "gridcolor": "white",
            "gridwidth": 2,
            "linecolor": "white",
            "showbackground": true,
            "ticks": "",
            "zerolinecolor": "white"
           },
           "yaxis": {
            "backgroundcolor": "#E5ECF6",
            "gridcolor": "white",
            "gridwidth": 2,
            "linecolor": "white",
            "showbackground": true,
            "ticks": "",
            "zerolinecolor": "white"
           },
           "zaxis": {
            "backgroundcolor": "#E5ECF6",
            "gridcolor": "white",
            "gridwidth": 2,
            "linecolor": "white",
            "showbackground": true,
            "ticks": "",
            "zerolinecolor": "white"
           }
          },
          "shapedefaults": {
           "line": {
            "color": "#2a3f5f"
           }
          },
          "ternary": {
           "aaxis": {
            "gridcolor": "white",
            "linecolor": "white",
            "ticks": ""
           },
           "baxis": {
            "gridcolor": "white",
            "linecolor": "white",
            "ticks": ""
           },
           "bgcolor": "#E5ECF6",
           "caxis": {
            "gridcolor": "white",
            "linecolor": "white",
            "ticks": ""
           }
          },
          "title": {
           "x": 0.05
          },
          "xaxis": {
           "automargin": true,
           "gridcolor": "white",
           "linecolor": "white",
           "ticks": "",
           "title": {
            "standoff": 15
           },
           "zerolinecolor": "white",
           "zerolinewidth": 2
          },
          "yaxis": {
           "automargin": true,
           "gridcolor": "white",
           "linecolor": "white",
           "ticks": "",
           "title": {
            "standoff": 15
           },
           "zerolinecolor": "white",
           "zerolinewidth": 2
          }
         }
        },
        "xaxis": {
         "anchor": "y",
         "domain": [
          0,
          1
         ],
         "title": {
          "text": "TaxYear"
         }
        },
        "yaxis": {
         "anchor": "x",
         "domain": [
          0,
          1
         ],
         "title": {
          "text": "Establishments"
         }
        }
       }
      }
     },
     "metadata": {},
     "output_type": "display_data"
    }
   ],
   "source": [
    "px.line(pd.read_csv('cptData/Municipal_Establishments.csv'),x='TaxYear',y='Establishments')"
   ]
  },
  {
   "cell_type": "code",
   "execution_count": 232,
   "metadata": {},
   "outputs": [
    {
     "data": {
      "application/vnd.plotly.v1+json": {
       "config": {
        "plotlyServerURL": "https://plot.ly"
       },
       "data": [
        {
         "alignmentgroup": "True",
         "hovertemplate": "MultiEstInd=Multi-Establishment (>1)<br>TaxYear=%{x}<br>Establishments=%{y}<extra></extra>",
         "legendgroup": "Multi-Establishment (>1)",
         "marker": {
          "color": "#636efa",
          "pattern": {
           "shape": ""
          }
         },
         "name": "Multi-Establishment (>1)",
         "offsetgroup": "Multi-Establishment (>1)",
         "orientation": "v",
         "showlegend": true,
         "textposition": "auto",
         "type": "bar",
         "x": [
          2014,
          2015,
          2016,
          2017,
          2018,
          2019,
          2020
         ],
         "xaxis": "x",
         "y": [
          10794.108030806166,
          12610.45624856268,
          13615.154976216458,
          13587.024140055426,
          13967.301603633256,
          13856.05790474219,
          13922.06309914919
         ],
         "yaxis": "y"
        },
        {
         "alignmentgroup": "True",
         "hovertemplate": "MultiEstInd=Multi-Establishment (>5)<br>TaxYear=%{x}<br>Establishments=%{y}<extra></extra>",
         "legendgroup": "Multi-Establishment (>5)",
         "marker": {
          "color": "#EF553B",
          "pattern": {
           "shape": ""
          }
         },
         "name": "Multi-Establishment (>5)",
         "offsetgroup": "Multi-Establishment (>5)",
         "orientation": "v",
         "showlegend": true,
         "textposition": "auto",
         "type": "bar",
         "x": [
          2014,
          2015,
          2016,
          2017,
          2018,
          2019,
          2020
         ],
         "xaxis": "x",
         "y": [
          7750.223541498859,
          8022.759842814024,
          7928.563880738628,
          6180.892895246984,
          6746.236460826701,
          7185.817309760387,
          7058.797619242843
         ],
         "yaxis": "y"
        },
        {
         "alignmentgroup": "True",
         "hovertemplate": "MultiEstInd=Single-Establishment<br>TaxYear=%{x}<br>Establishments=%{y}<extra></extra>",
         "legendgroup": "Single-Establishment",
         "marker": {
          "color": "#00cc96",
          "pattern": {
           "shape": ""
          }
         },
         "name": "Single-Establishment",
         "offsetgroup": "Single-Establishment",
         "orientation": "v",
         "showlegend": true,
         "textposition": "auto",
         "type": "bar",
         "x": [
          2014,
          2015,
          2016,
          2017,
          2018,
          2019,
          2020
         ],
         "xaxis": "x",
         "y": [
          21507.16561772046,
          21896.35012936109,
          23248.784478526104,
          24809.624250434317,
          25710.43623740653,
          26688.15136232213,
          28000.07305122112
         ],
         "yaxis": "y"
        },
        {
         "alignmentgroup": "True",
         "hovertemplate": "MultiEstInd=Unclassified<br>TaxYear=%{x}<br>Establishments=%{y}<extra></extra>",
         "legendgroup": "Unclassified",
         "marker": {
          "color": "#ab63fa",
          "pattern": {
           "shape": ""
          }
         },
         "name": "Unclassified",
         "offsetgroup": "Unclassified",
         "orientation": "v",
         "showlegend": true,
         "textposition": "auto",
         "type": "bar",
         "x": [
          2014,
          2015,
          2016,
          2017,
          2018,
          2019,
          2020
         ],
         "xaxis": "x",
         "y": [
          14194.453050511289,
          15061.713255806591,
          14771.669529924053,
          14918.4159387378,
          15617.484258337578,
          16678.74878394699,
          19452.25025742669
         ],
         "yaxis": "y"
        }
       ],
       "layout": {
        "barmode": "relative",
        "legend": {
         "title": {
          "text": "MultiEstInd"
         },
         "tracegroupgap": 0
        },
        "margin": {
         "t": 60
        },
        "template": {
         "data": {
          "bar": [
           {
            "error_x": {
             "color": "#2a3f5f"
            },
            "error_y": {
             "color": "#2a3f5f"
            },
            "marker": {
             "line": {
              "color": "#E5ECF6",
              "width": 0.5
             },
             "pattern": {
              "fillmode": "overlay",
              "size": 10,
              "solidity": 0.2
             }
            },
            "type": "bar"
           }
          ],
          "barpolar": [
           {
            "marker": {
             "line": {
              "color": "#E5ECF6",
              "width": 0.5
             },
             "pattern": {
              "fillmode": "overlay",
              "size": 10,
              "solidity": 0.2
             }
            },
            "type": "barpolar"
           }
          ],
          "carpet": [
           {
            "aaxis": {
             "endlinecolor": "#2a3f5f",
             "gridcolor": "white",
             "linecolor": "white",
             "minorgridcolor": "white",
             "startlinecolor": "#2a3f5f"
            },
            "baxis": {
             "endlinecolor": "#2a3f5f",
             "gridcolor": "white",
             "linecolor": "white",
             "minorgridcolor": "white",
             "startlinecolor": "#2a3f5f"
            },
            "type": "carpet"
           }
          ],
          "choropleth": [
           {
            "colorbar": {
             "outlinewidth": 0,
             "ticks": ""
            },
            "type": "choropleth"
           }
          ],
          "contour": [
           {
            "colorbar": {
             "outlinewidth": 0,
             "ticks": ""
            },
            "colorscale": [
             [
              0,
              "#0d0887"
             ],
             [
              0.1111111111111111,
              "#46039f"
             ],
             [
              0.2222222222222222,
              "#7201a8"
             ],
             [
              0.3333333333333333,
              "#9c179e"
             ],
             [
              0.4444444444444444,
              "#bd3786"
             ],
             [
              0.5555555555555556,
              "#d8576b"
             ],
             [
              0.6666666666666666,
              "#ed7953"
             ],
             [
              0.7777777777777778,
              "#fb9f3a"
             ],
             [
              0.8888888888888888,
              "#fdca26"
             ],
             [
              1,
              "#f0f921"
             ]
            ],
            "type": "contour"
           }
          ],
          "contourcarpet": [
           {
            "colorbar": {
             "outlinewidth": 0,
             "ticks": ""
            },
            "type": "contourcarpet"
           }
          ],
          "heatmap": [
           {
            "colorbar": {
             "outlinewidth": 0,
             "ticks": ""
            },
            "colorscale": [
             [
              0,
              "#0d0887"
             ],
             [
              0.1111111111111111,
              "#46039f"
             ],
             [
              0.2222222222222222,
              "#7201a8"
             ],
             [
              0.3333333333333333,
              "#9c179e"
             ],
             [
              0.4444444444444444,
              "#bd3786"
             ],
             [
              0.5555555555555556,
              "#d8576b"
             ],
             [
              0.6666666666666666,
              "#ed7953"
             ],
             [
              0.7777777777777778,
              "#fb9f3a"
             ],
             [
              0.8888888888888888,
              "#fdca26"
             ],
             [
              1,
              "#f0f921"
             ]
            ],
            "type": "heatmap"
           }
          ],
          "heatmapgl": [
           {
            "colorbar": {
             "outlinewidth": 0,
             "ticks": ""
            },
            "colorscale": [
             [
              0,
              "#0d0887"
             ],
             [
              0.1111111111111111,
              "#46039f"
             ],
             [
              0.2222222222222222,
              "#7201a8"
             ],
             [
              0.3333333333333333,
              "#9c179e"
             ],
             [
              0.4444444444444444,
              "#bd3786"
             ],
             [
              0.5555555555555556,
              "#d8576b"
             ],
             [
              0.6666666666666666,
              "#ed7953"
             ],
             [
              0.7777777777777778,
              "#fb9f3a"
             ],
             [
              0.8888888888888888,
              "#fdca26"
             ],
             [
              1,
              "#f0f921"
             ]
            ],
            "type": "heatmapgl"
           }
          ],
          "histogram": [
           {
            "marker": {
             "pattern": {
              "fillmode": "overlay",
              "size": 10,
              "solidity": 0.2
             }
            },
            "type": "histogram"
           }
          ],
          "histogram2d": [
           {
            "colorbar": {
             "outlinewidth": 0,
             "ticks": ""
            },
            "colorscale": [
             [
              0,
              "#0d0887"
             ],
             [
              0.1111111111111111,
              "#46039f"
             ],
             [
              0.2222222222222222,
              "#7201a8"
             ],
             [
              0.3333333333333333,
              "#9c179e"
             ],
             [
              0.4444444444444444,
              "#bd3786"
             ],
             [
              0.5555555555555556,
              "#d8576b"
             ],
             [
              0.6666666666666666,
              "#ed7953"
             ],
             [
              0.7777777777777778,
              "#fb9f3a"
             ],
             [
              0.8888888888888888,
              "#fdca26"
             ],
             [
              1,
              "#f0f921"
             ]
            ],
            "type": "histogram2d"
           }
          ],
          "histogram2dcontour": [
           {
            "colorbar": {
             "outlinewidth": 0,
             "ticks": ""
            },
            "colorscale": [
             [
              0,
              "#0d0887"
             ],
             [
              0.1111111111111111,
              "#46039f"
             ],
             [
              0.2222222222222222,
              "#7201a8"
             ],
             [
              0.3333333333333333,
              "#9c179e"
             ],
             [
              0.4444444444444444,
              "#bd3786"
             ],
             [
              0.5555555555555556,
              "#d8576b"
             ],
             [
              0.6666666666666666,
              "#ed7953"
             ],
             [
              0.7777777777777778,
              "#fb9f3a"
             ],
             [
              0.8888888888888888,
              "#fdca26"
             ],
             [
              1,
              "#f0f921"
             ]
            ],
            "type": "histogram2dcontour"
           }
          ],
          "mesh3d": [
           {
            "colorbar": {
             "outlinewidth": 0,
             "ticks": ""
            },
            "type": "mesh3d"
           }
          ],
          "parcoords": [
           {
            "line": {
             "colorbar": {
              "outlinewidth": 0,
              "ticks": ""
             }
            },
            "type": "parcoords"
           }
          ],
          "pie": [
           {
            "automargin": true,
            "type": "pie"
           }
          ],
          "scatter": [
           {
            "fillpattern": {
             "fillmode": "overlay",
             "size": 10,
             "solidity": 0.2
            },
            "type": "scatter"
           }
          ],
          "scatter3d": [
           {
            "line": {
             "colorbar": {
              "outlinewidth": 0,
              "ticks": ""
             }
            },
            "marker": {
             "colorbar": {
              "outlinewidth": 0,
              "ticks": ""
             }
            },
            "type": "scatter3d"
           }
          ],
          "scattercarpet": [
           {
            "marker": {
             "colorbar": {
              "outlinewidth": 0,
              "ticks": ""
             }
            },
            "type": "scattercarpet"
           }
          ],
          "scattergeo": [
           {
            "marker": {
             "colorbar": {
              "outlinewidth": 0,
              "ticks": ""
             }
            },
            "type": "scattergeo"
           }
          ],
          "scattergl": [
           {
            "marker": {
             "colorbar": {
              "outlinewidth": 0,
              "ticks": ""
             }
            },
            "type": "scattergl"
           }
          ],
          "scattermapbox": [
           {
            "marker": {
             "colorbar": {
              "outlinewidth": 0,
              "ticks": ""
             }
            },
            "type": "scattermapbox"
           }
          ],
          "scatterpolar": [
           {
            "marker": {
             "colorbar": {
              "outlinewidth": 0,
              "ticks": ""
             }
            },
            "type": "scatterpolar"
           }
          ],
          "scatterpolargl": [
           {
            "marker": {
             "colorbar": {
              "outlinewidth": 0,
              "ticks": ""
             }
            },
            "type": "scatterpolargl"
           }
          ],
          "scatterternary": [
           {
            "marker": {
             "colorbar": {
              "outlinewidth": 0,
              "ticks": ""
             }
            },
            "type": "scatterternary"
           }
          ],
          "surface": [
           {
            "colorbar": {
             "outlinewidth": 0,
             "ticks": ""
            },
            "colorscale": [
             [
              0,
              "#0d0887"
             ],
             [
              0.1111111111111111,
              "#46039f"
             ],
             [
              0.2222222222222222,
              "#7201a8"
             ],
             [
              0.3333333333333333,
              "#9c179e"
             ],
             [
              0.4444444444444444,
              "#bd3786"
             ],
             [
              0.5555555555555556,
              "#d8576b"
             ],
             [
              0.6666666666666666,
              "#ed7953"
             ],
             [
              0.7777777777777778,
              "#fb9f3a"
             ],
             [
              0.8888888888888888,
              "#fdca26"
             ],
             [
              1,
              "#f0f921"
             ]
            ],
            "type": "surface"
           }
          ],
          "table": [
           {
            "cells": {
             "fill": {
              "color": "#EBF0F8"
             },
             "line": {
              "color": "white"
             }
            },
            "header": {
             "fill": {
              "color": "#C8D4E3"
             },
             "line": {
              "color": "white"
             }
            },
            "type": "table"
           }
          ]
         },
         "layout": {
          "annotationdefaults": {
           "arrowcolor": "#2a3f5f",
           "arrowhead": 0,
           "arrowwidth": 1
          },
          "autotypenumbers": "strict",
          "coloraxis": {
           "colorbar": {
            "outlinewidth": 0,
            "ticks": ""
           }
          },
          "colorscale": {
           "diverging": [
            [
             0,
             "#8e0152"
            ],
            [
             0.1,
             "#c51b7d"
            ],
            [
             0.2,
             "#de77ae"
            ],
            [
             0.3,
             "#f1b6da"
            ],
            [
             0.4,
             "#fde0ef"
            ],
            [
             0.5,
             "#f7f7f7"
            ],
            [
             0.6,
             "#e6f5d0"
            ],
            [
             0.7,
             "#b8e186"
            ],
            [
             0.8,
             "#7fbc41"
            ],
            [
             0.9,
             "#4d9221"
            ],
            [
             1,
             "#276419"
            ]
           ],
           "sequential": [
            [
             0,
             "#0d0887"
            ],
            [
             0.1111111111111111,
             "#46039f"
            ],
            [
             0.2222222222222222,
             "#7201a8"
            ],
            [
             0.3333333333333333,
             "#9c179e"
            ],
            [
             0.4444444444444444,
             "#bd3786"
            ],
            [
             0.5555555555555556,
             "#d8576b"
            ],
            [
             0.6666666666666666,
             "#ed7953"
            ],
            [
             0.7777777777777778,
             "#fb9f3a"
            ],
            [
             0.8888888888888888,
             "#fdca26"
            ],
            [
             1,
             "#f0f921"
            ]
           ],
           "sequentialminus": [
            [
             0,
             "#0d0887"
            ],
            [
             0.1111111111111111,
             "#46039f"
            ],
            [
             0.2222222222222222,
             "#7201a8"
            ],
            [
             0.3333333333333333,
             "#9c179e"
            ],
            [
             0.4444444444444444,
             "#bd3786"
            ],
            [
             0.5555555555555556,
             "#d8576b"
            ],
            [
             0.6666666666666666,
             "#ed7953"
            ],
            [
             0.7777777777777778,
             "#fb9f3a"
            ],
            [
             0.8888888888888888,
             "#fdca26"
            ],
            [
             1,
             "#f0f921"
            ]
           ]
          },
          "colorway": [
           "#636efa",
           "#EF553B",
           "#00cc96",
           "#ab63fa",
           "#FFA15A",
           "#19d3f3",
           "#FF6692",
           "#B6E880",
           "#FF97FF",
           "#FECB52"
          ],
          "font": {
           "color": "#2a3f5f"
          },
          "geo": {
           "bgcolor": "white",
           "lakecolor": "white",
           "landcolor": "#E5ECF6",
           "showlakes": true,
           "showland": true,
           "subunitcolor": "white"
          },
          "hoverlabel": {
           "align": "left"
          },
          "hovermode": "closest",
          "mapbox": {
           "style": "light"
          },
          "paper_bgcolor": "white",
          "plot_bgcolor": "#E5ECF6",
          "polar": {
           "angularaxis": {
            "gridcolor": "white",
            "linecolor": "white",
            "ticks": ""
           },
           "bgcolor": "#E5ECF6",
           "radialaxis": {
            "gridcolor": "white",
            "linecolor": "white",
            "ticks": ""
           }
          },
          "scene": {
           "xaxis": {
            "backgroundcolor": "#E5ECF6",
            "gridcolor": "white",
            "gridwidth": 2,
            "linecolor": "white",
            "showbackground": true,
            "ticks": "",
            "zerolinecolor": "white"
           },
           "yaxis": {
            "backgroundcolor": "#E5ECF6",
            "gridcolor": "white",
            "gridwidth": 2,
            "linecolor": "white",
            "showbackground": true,
            "ticks": "",
            "zerolinecolor": "white"
           },
           "zaxis": {
            "backgroundcolor": "#E5ECF6",
            "gridcolor": "white",
            "gridwidth": 2,
            "linecolor": "white",
            "showbackground": true,
            "ticks": "",
            "zerolinecolor": "white"
           }
          },
          "shapedefaults": {
           "line": {
            "color": "#2a3f5f"
           }
          },
          "ternary": {
           "aaxis": {
            "gridcolor": "white",
            "linecolor": "white",
            "ticks": ""
           },
           "baxis": {
            "gridcolor": "white",
            "linecolor": "white",
            "ticks": ""
           },
           "bgcolor": "#E5ECF6",
           "caxis": {
            "gridcolor": "white",
            "linecolor": "white",
            "ticks": ""
           }
          },
          "title": {
           "x": 0.05
          },
          "xaxis": {
           "automargin": true,
           "gridcolor": "white",
           "linecolor": "white",
           "ticks": "",
           "title": {
            "standoff": 15
           },
           "zerolinecolor": "white",
           "zerolinewidth": 2
          },
          "yaxis": {
           "automargin": true,
           "gridcolor": "white",
           "linecolor": "white",
           "ticks": "",
           "title": {
            "standoff": 15
           },
           "zerolinecolor": "white",
           "zerolinewidth": 2
          }
         }
        },
        "xaxis": {
         "anchor": "y",
         "domain": [
          0,
          1
         ],
         "title": {
          "text": "TaxYear"
         }
        },
        "yaxis": {
         "anchor": "x",
         "domain": [
          0,
          1
         ],
         "title": {
          "text": "Establishments"
         }
        }
       }
      }
     },
     "metadata": {},
     "output_type": "display_data"
    }
   ],
   "source": [
    "# px.line(,x='TaxYear',y='Establishments')\n",
    "px.bar(pd.read_csv('cptData/Municipal_Establishments_MultiEstablishment.csv'),x='TaxYear',y='Establishments',color='MultiEstInd')\n",
    "# pd.read_csv('cptData/Municipal_Establishments_MultiEstablishment.csv')\n"
   ]
  },
  {
   "cell_type": "code",
   "execution_count": 237,
   "metadata": {},
   "outputs": [
    {
     "data": {
      "application/vnd.plotly.v1+json": {
       "config": {
        "plotlyServerURL": "https://plot.ly"
       },
       "data": [
        {
         "alignmentgroup": "True",
         "hovertemplate": "RealWageBand=[0.0, 400.0)<br>month=%{x}<br>FTE=%{y}<extra></extra>",
         "legendgroup": "[0.0, 400.0)",
         "marker": {
          "color": "#636efa",
          "pattern": {
           "shape": ""
          }
         },
         "name": "[0.0, 400.0)",
         "offsetgroup": "[0.0, 400.0)",
         "orientation": "v",
         "showlegend": true,
         "textposition": "auto",
         "type": "bar",
         "x": [
          "2013-03-01",
          "2013-04-01",
          "2013-05-01",
          "2013-06-01",
          "2013-07-01",
          "2013-08-01",
          "2013-09-01",
          "2013-10-01",
          "2013-11-01",
          "2013-12-01",
          "2014-01-01",
          "2014-02-01",
          "2014-03-01",
          "2014-04-01",
          "2014-05-01",
          "2014-06-01",
          "2014-07-01",
          "2014-08-01",
          "2014-09-01",
          "2014-10-01",
          "2014-11-01",
          "2014-12-01",
          "2015-01-01",
          "2015-02-01",
          "2015-03-01",
          "2015-04-01",
          "2015-05-01",
          "2015-06-01",
          "2015-07-01",
          "2015-08-01",
          "2015-09-01",
          "2015-10-01",
          "2015-11-01",
          "2015-12-01",
          "2016-01-01",
          "2016-02-01",
          "2016-03-01",
          "2016-04-01",
          "2016-05-01",
          "2016-06-01",
          "2016-07-01",
          "2016-08-01",
          "2016-09-01",
          "2016-10-01",
          "2016-11-01",
          "2016-12-01",
          "2017-01-01",
          "2017-02-01",
          "2017-03-01",
          "2017-04-01",
          "2017-05-01",
          "2017-06-01",
          "2017-07-01",
          "2017-08-01",
          "2017-09-01",
          "2017-10-01",
          "2017-11-01",
          "2017-12-01",
          "2018-01-01",
          "2018-02-01",
          "2018-03-01",
          "2018-04-01",
          "2018-05-01",
          "2018-06-01",
          "2018-07-01",
          "2018-08-01",
          "2018-09-01",
          "2018-10-01",
          "2018-11-01",
          "2018-12-01",
          "2019-01-01",
          "2019-02-01",
          "2019-03-01",
          "2019-04-01",
          "2019-05-01",
          "2019-06-01",
          "2019-07-01",
          "2019-08-01",
          "2019-09-01",
          "2019-10-01",
          "2019-11-01",
          "2019-12-01",
          "2020-01-01",
          "2020-02-01",
          "2020-03-01",
          "2020-04-01",
          "2020-05-01",
          "2020-06-01",
          "2020-07-01",
          "2020-08-01",
          "2020-09-01",
          "2020-10-01",
          "2020-11-01",
          "2020-12-01",
          "2021-01-01",
          "2021-02-01",
          "2021-03-01",
          "2021-04-01",
          "2021-05-01",
          "2021-06-01",
          "2021-07-01",
          "2021-08-01",
          "2021-09-01",
          "2021-10-01",
          "2021-11-01",
          "2021-12-01",
          "2022-01-01",
          "2022-02-01"
         ],
         "xaxis": "x",
         "y": [
          "6152.875581576194",
          "6525.175078083568",
          "6773.783980890988",
          "6964.191835711288",
          "7023.895909024632",
          "7025.654523011526",
          "7025.654523011526",
          "7024.785780921233",
          "7003.586320933748",
          "6928.329390116721",
          "6741.254559087516",
          "6314.371118771713",
          "7976.396936935601",
          "8608.675357888993",
          "8925.274157865017",
          "9181.254832900126",
          "9314.562298681738",
          "9335.860605153362",
          "9335.860605153362",
          "9326.952597306745",
          "9281.496454780025",
          "9180.536049586242",
          "8988.25072644123",
          "8245.850460575102",
          "9576.443725828076",
          "10198.785262776717",
          "10584.963272250294",
          "10892.34244787347",
          "11098.25753307426",
          "11151.013579282277",
          "11151.261488175034",
          "11133.766856737042",
          "11072.80021743687",
          "11005.483572122408",
          "10793.279149562457",
          "10051.715932307046",
          "11200.074261924929",
          "11936.646395280475",
          "12358.690403759603",
          "12682.888120103511",
          "12923.103483429692",
          "13013.763239395332",
          "13016.877180110288",
          "12997.35782527158",
          "12906.82250420007",
          "12759.24175129419",
          "12572.09573778074",
          "11785.383722015053",
          "10675.198189368804",
          "11252.945421909024",
          "11656.026711795754",
          "12069.739828995",
          "12520.96079457142",
          "12653.012353504919",
          "12668.68798994799",
          "12625.965771393325",
          "12526.266622486904",
          "12398.003577154193",
          "12116.207440520098",
          "11390.21798347678",
          "11564.455906701678",
          "12257.12320939334",
          "12756.135515544813",
          "13080.380095024555",
          "13290.166845803278",
          "13451.444181738352",
          "13474.303587243436",
          "13402.777368088106",
          "13262.176534488299",
          "13145.170095218311",
          "12866.351600253694",
          "12229.108916387073",
          "11449.930088731295",
          "11957.184568631652",
          "12414.241823591126",
          "12967.219084348313",
          "13234.630543858426",
          "13432.257184607235",
          "13488.386756825219",
          "13431.187991967176",
          "13270.095397695577",
          "13140.080074030919",
          "12855.799347367376",
          "12146.473980150673",
          "14543.515867305958",
          "14824.459779056187",
          "14961.39342479091",
          "15149.446767799727",
          "15336.741018552118",
          "15413.5751325637",
          "15377.801934958516",
          "15212.051456833742",
          "15002.009534989214",
          "14722.7156622291",
          "14291.048897450488",
          "13475.8863077983",
          "9941.751219398782",
          "10383.349283328625",
          "10777.654228007344",
          "11159.06548599697",
          "11385.743424411014",
          "11548.191529959975",
          "11521.027571080005",
          "11446.268941180846",
          "11329.676038508043",
          "11138.228979888034",
          "10834.348402177779",
          "10308.59884991994"
         ],
         "yaxis": "y"
        },
        {
         "alignmentgroup": "True",
         "hovertemplate": "RealWageBand=[102400.0, 204800.0)<br>month=%{x}<br>FTE=%{y}<extra></extra>",
         "legendgroup": "[102400.0, 204800.0)",
         "marker": {
          "color": "#EF553B",
          "pattern": {
           "shape": ""
          }
         },
         "name": "[102400.0, 204800.0)",
         "offsetgroup": "[102400.0, 204800.0)",
         "orientation": "v",
         "showlegend": true,
         "textposition": "auto",
         "type": "bar",
         "x": [
          "2013-03-01",
          "2013-04-01",
          "2013-05-01",
          "2013-06-01",
          "2013-07-01",
          "2013-08-01",
          "2013-09-01",
          "2013-10-01",
          "2013-11-01",
          "2013-12-01",
          "2014-01-01",
          "2014-02-01",
          "2014-03-01",
          "2014-04-01",
          "2014-05-01",
          "2014-06-01",
          "2014-07-01",
          "2014-08-01",
          "2014-09-01",
          "2014-10-01",
          "2014-11-01",
          "2014-12-01",
          "2015-01-01",
          "2015-02-01",
          "2015-03-01",
          "2015-04-01",
          "2015-05-01",
          "2015-06-01",
          "2015-07-01",
          "2015-08-01",
          "2015-09-01",
          "2015-10-01",
          "2015-11-01",
          "2015-12-01",
          "2016-01-01",
          "2016-02-01",
          "2016-03-01",
          "2016-04-01",
          "2016-05-01",
          "2016-06-01",
          "2016-07-01",
          "2016-08-01",
          "2016-09-01",
          "2016-10-01",
          "2016-11-01",
          "2016-12-01",
          "2017-01-01",
          "2017-02-01",
          "2017-03-01",
          "2017-04-01",
          "2017-05-01",
          "2017-06-01",
          "2017-07-01",
          "2017-08-01",
          "2017-09-01",
          "2017-10-01",
          "2017-11-01",
          "2017-12-01",
          "2018-01-01",
          "2018-02-01",
          "2018-03-01",
          "2018-04-01",
          "2018-05-01",
          "2018-06-01",
          "2018-07-01",
          "2018-08-01",
          "2018-09-01",
          "2018-10-01",
          "2018-11-01",
          "2018-12-01",
          "2019-01-01",
          "2019-02-01",
          "2019-03-01",
          "2019-04-01",
          "2019-05-01",
          "2019-06-01",
          "2019-07-01",
          "2019-08-01",
          "2019-09-01",
          "2019-10-01",
          "2019-11-01",
          "2019-12-01",
          "2020-01-01",
          "2020-02-01",
          "2020-03-01",
          "2020-04-01",
          "2020-05-01",
          "2020-06-01",
          "2020-07-01",
          "2020-08-01",
          "2020-09-01",
          "2020-10-01",
          "2020-11-01",
          "2020-12-01",
          "2021-01-01",
          "2021-02-01",
          "2021-03-01",
          "2021-04-01",
          "2021-05-01",
          "2021-06-01",
          "2021-07-01",
          "2021-08-01",
          "2021-09-01",
          "2021-10-01",
          "2021-11-01",
          "2021-12-01",
          "2022-01-01",
          "2022-02-01"
         ],
         "xaxis": "x",
         "y": [
          "14366.456263961772",
          "13786.971120000035",
          "13658.137896239854",
          "13581.324292814747",
          "13520.93250497134",
          "13519.892652234988",
          "13493.73470659266",
          "13453.67816957791",
          "13425.843496114227",
          "13367.021977012879",
          "13319.65802328845",
          "13357.79147424589",
          "15341.252963655774",
          "15084.141928039116",
          "14969.331014310592",
          "14883.604703498113",
          "14778.11868404633",
          "14780.720032214223",
          "14755.527258312992",
          "14745.197526992659",
          "14736.893477127318",
          "14685.794510052114",
          "14617.746620220461",
          "14657.121579144554",
          "17127.293299403384",
          "16745.250669750014",
          "16616.838520867586",
          "16511.29611433726",
          "16388.12939781437",
          "17031.436830607152",
          "16220.318992385215",
          "16173.69438927772",
          "16124.98961356945",
          "16002.120692017294",
          "15851.356194928987",
          "15836.659995130325",
          "16540.17685523665",
          "16185.816647816942",
          "15993.05462225943",
          "15938.601606572038",
          "15875.519844963426",
          "15800.79070148234",
          "15781.455115124241",
          "15750.265240379635",
          "15706.037433218158",
          "15643.228574534553",
          "15541.425066806189",
          "15654.60107849369",
          "17571.049817877964",
          "17147.28939181152",
          "17031.87882081461",
          "16916.373158521033",
          "16760.732124040755",
          "16692.50565879856",
          "16604.470474564725",
          "16579.85473587903",
          "16512.59541308275",
          "16454.93578675495",
          "16355.449117131066",
          "16369.888013800333",
          "18581.89315932681",
          "18209.79489860679",
          "18056.276028506334",
          "17976.52483708358",
          "17839.992248371662",
          "17775.775962810087",
          "17767.217214194843",
          "17752.52752976096",
          "17755.824315369322",
          "17653.072650234495",
          "17538.752276608655",
          "17573.75377794987",
          "21643.14759364404",
          "21274.593816887173",
          "21022.016384685703",
          "20887.383814919114",
          "20700.36081442766",
          "20633.340164101668",
          "20557.897141061945",
          "20505.382649941428",
          "20471.76109770596",
          "20411.192549137115",
          "20275.71337404367",
          "20266.975104846766",
          "20239.656473632713",
          "19695.23779987176",
          "19554.024597174943",
          "19478.70841199574",
          "19408.176739742285",
          "19332.186919769752",
          "19296.54582137099",
          "19211.06872217112",
          "19195.23462690372",
          "19152.091299114938",
          "18997.368813412973",
          "19020.97093720747",
          "21257.92514117313",
          "20856.161746625483",
          "20677.53982326605",
          "20609.067353869825",
          "20499.74349050074",
          "20437.40039756573",
          "20431.84507172178",
          "20369.111775869012",
          "20349.75084036108",
          "20303.833310825958",
          "20208.6116081075",
          "20247.848190854682"
         ],
         "yaxis": "y"
        },
        {
         "alignmentgroup": "True",
         "hovertemplate": "RealWageBand=[12800.0, 25600.0)<br>month=%{x}<br>FTE=%{y}<extra></extra>",
         "legendgroup": "[12800.0, 25600.0)",
         "marker": {
          "color": "#00cc96",
          "pattern": {
           "shape": ""
          }
         },
         "name": "[12800.0, 25600.0)",
         "offsetgroup": "[12800.0, 25600.0)",
         "orientation": "v",
         "showlegend": true,
         "textposition": "auto",
         "type": "bar",
         "x": [
          "2013-03-01",
          "2013-04-01",
          "2013-05-01",
          "2013-06-01",
          "2013-07-01",
          "2013-08-01",
          "2013-09-01",
          "2013-10-01",
          "2013-11-01",
          "2013-12-01",
          "2014-01-01",
          "2014-02-01",
          "2014-03-01",
          "2014-04-01",
          "2014-05-01",
          "2014-06-01",
          "2014-07-01",
          "2014-08-01",
          "2014-09-01",
          "2014-10-01",
          "2014-11-01",
          "2014-12-01",
          "2015-01-01",
          "2015-02-01",
          "2015-03-01",
          "2015-04-01",
          "2015-05-01",
          "2015-06-01",
          "2015-07-01",
          "2015-08-01",
          "2015-09-01",
          "2015-10-01",
          "2015-11-01",
          "2015-12-01",
          "2016-01-01",
          "2016-02-01",
          "2016-03-01",
          "2016-04-01",
          "2016-05-01",
          "2016-06-01",
          "2016-07-01",
          "2016-08-01",
          "2016-09-01",
          "2016-10-01",
          "2016-11-01",
          "2016-12-01",
          "2017-01-01",
          "2017-02-01",
          "2017-03-01",
          "2017-04-01",
          "2017-05-01",
          "2017-06-01",
          "2017-07-01",
          "2017-08-01",
          "2017-09-01",
          "2017-10-01",
          "2017-11-01",
          "2017-12-01",
          "2018-01-01",
          "2018-02-01",
          "2018-03-01",
          "2018-04-01",
          "2018-05-01",
          "2018-06-01",
          "2018-07-01",
          "2018-08-01",
          "2018-09-01",
          "2018-10-01",
          "2018-11-01",
          "2018-12-01",
          "2019-01-01",
          "2019-02-01",
          "2019-03-01",
          "2019-04-01",
          "2019-05-01",
          "2019-06-01",
          "2019-07-01",
          "2019-08-01",
          "2019-09-01",
          "2019-10-01",
          "2019-11-01",
          "2019-12-01",
          "2020-01-01",
          "2020-02-01",
          "2020-03-01",
          "2020-04-01",
          "2020-05-01",
          "2020-06-01",
          "2020-07-01",
          "2020-08-01",
          "2020-09-01",
          "2020-10-01",
          "2020-11-01",
          "2020-12-01",
          "2021-01-01",
          "2021-02-01",
          "2021-03-01",
          "2021-04-01",
          "2021-05-01",
          "2021-06-01",
          "2021-07-01",
          "2021-08-01",
          "2021-09-01",
          "2021-10-01",
          "2021-11-01",
          "2021-12-01",
          "2022-01-01",
          "2022-02-01"
         ],
         "xaxis": "x",
         "y": [
          "222542.55758534622",
          "222630.7190732944",
          "222960.98613094198",
          "223075.7356017128",
          "223457.40857567696",
          "224023.59458163602",
          "224541.5377266483",
          "225200.2601641665",
          "225882.97966985675",
          "225129.653291433",
          "224292.67234371346",
          "223730.9028899128",
          "227790.47370407174",
          "228356.79577487477",
          "228833.5257951886",
          "229537.99393032922",
          "229823.29286722952",
          "230729.88582556834",
          "231382.58438507206",
          "231903.58643755404",
          "232274.0517199987",
          "231584.20373963518",
          "231475.30598719674",
          "231347.26795788814",
          "232858.30549251207",
          "233370.57374257006",
          "234008.25638090677",
          "234788.64689924743",
          "235317.97894821223",
          "235905.23183352483",
          "236879.57021802952",
          "237626.26738127164",
          "238146.60342307217",
          "237029.11773372596",
          "237254.92120373464",
          "237196.3233978022",
          "240033.06900486237",
          "240109.0421307167",
          "239711.29332318655",
          "240403.87982580523",
          "241380.05630718707",
          "242294.85059672003",
          "243450.07353699268",
          "243775.80789473615",
          "244987.11394338962",
          "243839.61322238183",
          "243679.53805045743",
          "244256.17413937973",
          "247018.34183743177",
          "246731.07376676658",
          "247004.36373519362",
          "246903.6007303598",
          "246721.6360880043",
          "247107.19559198827",
          "246818.00846831145",
          "246977.8515790338",
          "247028.49487877512",
          "246354.08053635366",
          "245734.6620608196",
          "245136.06793472616",
          "246889.818658613",
          "245649.0214608927",
          "245464.4429036228",
          "245618.30935209608",
          "245145.956818765",
          "245703.270851089",
          "246289.94091174152",
          "246967.39223995697",
          "247494.00213361374",
          "246741.36832654462",
          "246371.95905154292",
          "246367.99892216804",
          "254355.28580990658",
          "254364.00484778866",
          "253584.90442674572",
          "253709.13637234885",
          "254092.99679921",
          "254141.4666685361",
          "254488.52984044858",
          "254706.94814834755",
          "254924.98825687706",
          "253201.81800966544",
          "252400.7937627413",
          "252016.36857037852",
          "231599.2370963089",
          "228662.53065151963",
          "227570.63558482562",
          "227463.01474632218",
          "227096.1415022282",
          "227048.48040655756",
          "227622.54822252275",
          "228094.7714078916",
          "228858.59674997095",
          "228516.75066637195",
          "228629.85017239556",
          "230145.0417943789",
          "241634.75928084893",
          "241499.87742292092",
          "241751.64114217382",
          "242246.79686370085",
          "242753.76330978214",
          "243105.5284905641",
          "243480.38587197327",
          "243986.68322444608",
          "244695.99311854027",
          "243759.6599552792",
          "244353.10997838626",
          "242644.4352258506"
         ],
         "yaxis": "y"
        },
        {
         "alignmentgroup": "True",
         "hovertemplate": "RealWageBand=[1600.0, 3200.0)<br>month=%{x}<br>FTE=%{y}<extra></extra>",
         "legendgroup": "[1600.0, 3200.0)",
         "marker": {
          "color": "#ab63fa",
          "pattern": {
           "shape": ""
          }
         },
         "name": "[1600.0, 3200.0)",
         "offsetgroup": "[1600.0, 3200.0)",
         "orientation": "v",
         "showlegend": true,
         "textposition": "auto",
         "type": "bar",
         "x": [
          "2013-03-01",
          "2013-04-01",
          "2013-05-01",
          "2013-06-01",
          "2013-07-01",
          "2013-08-01",
          "2013-09-01",
          "2013-10-01",
          "2013-11-01",
          "2013-12-01",
          "2014-01-01",
          "2014-02-01",
          "2014-03-01",
          "2014-04-01",
          "2014-05-01",
          "2014-06-01",
          "2014-07-01",
          "2014-08-01",
          "2014-09-01",
          "2014-10-01",
          "2014-11-01",
          "2014-12-01",
          "2015-01-01",
          "2015-02-01",
          "2015-03-01",
          "2015-04-01",
          "2015-05-01",
          "2015-06-01",
          "2015-07-01",
          "2015-08-01",
          "2015-09-01",
          "2015-10-01",
          "2015-11-01",
          "2015-12-01",
          "2016-01-01",
          "2016-02-01",
          "2016-03-01",
          "2016-04-01",
          "2016-05-01",
          "2016-06-01",
          "2016-07-01",
          "2016-08-01",
          "2016-09-01",
          "2016-10-01",
          "2016-11-01",
          "2016-12-01",
          "2017-01-01",
          "2017-02-01",
          "2017-03-01",
          "2017-04-01",
          "2017-05-01",
          "2017-06-01",
          "2017-07-01",
          "2017-08-01",
          "2017-09-01",
          "2017-10-01",
          "2017-11-01",
          "2017-12-01",
          "2018-01-01",
          "2018-02-01",
          "2018-03-01",
          "2018-04-01",
          "2018-05-01",
          "2018-06-01",
          "2018-07-01",
          "2018-08-01",
          "2018-09-01",
          "2018-10-01",
          "2018-11-01",
          "2018-12-01",
          "2019-01-01",
          "2019-02-01",
          "2019-03-01",
          "2019-04-01",
          "2019-05-01",
          "2019-06-01",
          "2019-07-01",
          "2019-08-01",
          "2019-09-01",
          "2019-10-01",
          "2019-11-01",
          "2019-12-01",
          "2020-01-01",
          "2020-02-01",
          "2020-03-01",
          "2020-04-01",
          "2020-05-01",
          "2020-06-01",
          "2020-07-01",
          "2020-08-01",
          "2020-09-01",
          "2020-10-01",
          "2020-11-01",
          "2020-12-01",
          "2021-01-01",
          "2021-02-01",
          "2021-03-01",
          "2021-04-01",
          "2021-05-01",
          "2021-06-01",
          "2021-07-01",
          "2021-08-01",
          "2021-09-01",
          "2021-10-01",
          "2021-11-01",
          "2021-12-01",
          "2022-01-01",
          "2022-02-01"
         ],
         "xaxis": "x",
         "y": [
          "78530.48141535508",
          "85124.70628613148",
          "86733.30690412736",
          "88641.72383721496",
          "89471.79505314938",
          "91124.18980471703",
          "93214.69117701269",
          "96277.07590168116",
          "99924.3678286436",
          "104275.80856865717",
          "101850.88111129699",
          "87457.6764387929",
          "85569.7469715673",
          "92616.68505243486",
          "96071.44572894977",
          "98936.67232650351",
          "99382.02939541488",
          "102222.35638237644",
          "104891.93419883861",
          "108752.81577829612",
          "113145.42266659302",
          "116984.54483555438",
          "115401.28784139376",
          "105646.29708507497",
          "84340.20437981258",
          "92144.18621281406",
          "95487.31594610728",
          "97305.09359811973",
          "96769.38446233245",
          "99320.40559693749",
          "101618.31987012141",
          "104802.87793523136",
          "108763.3399375578",
          "112268.91348670657",
          "110242.91886026322",
          "99692.2496925769",
          "85964.13088935586",
          "92223.52457175491",
          "94691.89938044075",
          "97735.6806991025",
          "96058.36551677897",
          "98110.36866545267",
          "100728.00223294277",
          "103649.67796295173",
          "107749.74337818766",
          "110623.09567688612",
          "108945.08570174925",
          "98176.87859888453",
          "85322.03020260001",
          "91313.49126175178",
          "93447.8807091267",
          "95156.88794609849",
          "94693.04350422283",
          "96396.70247153488",
          "98099.71842636728",
          "100584.78660444156",
          "105751.01471467635",
          "110092.86102649469",
          "106805.2651276947",
          "95853.17301842399",
          "80228.33515923802",
          "84863.99014267448",
          "85988.12334287477",
          "87606.06086926554",
          "86795.75858590484",
          "88052.71628428315",
          "89334.03902901166",
          "90956.20153973399",
          "94310.22357279547",
          "98210.96636129812",
          "94634.91117131403",
          "84862.68356206361",
          "67936.35205073982",
          "72620.08108178645",
          "73620.3439329756",
          "75353.48648604841",
          "73512.53376406357",
          "74478.97856012484",
          "75805.06957913404",
          "77592.42483562673",
          "81329.72425346992",
          "84449.69228191442",
          "83613.15726792025",
          "75016.41163989711",
          "101043.48972984306",
          "101420.06392181652",
          "99494.97027291606",
          "98140.70511143707",
          "95526.6642669664",
          "94653.86447267205",
          "94892.51679525666",
          "97804.99824626163",
          "102038.78037058454",
          "104897.73180548077",
          "102890.95338072434",
          "92043.62035242723",
          "65833.87624595042",
          "68788.43294668167",
          "70059.9419037566",
          "72081.22790253074",
          "70947.49004612831",
          "72425.21477473206",
          "73698.00155608312",
          "76001.37294204831",
          "80022.7380695817",
          "82381.73475418339",
          "82102.53815421544",
          "75612.69664948584"
         ],
         "yaxis": "y"
        },
        {
         "alignmentgroup": "True",
         "hovertemplate": "RealWageBand=[1638400.0, 10000000.0)<br>month=%{x}<br>FTE=%{y}<extra></extra>",
         "legendgroup": "[1638400.0, 10000000.0)",
         "marker": {
          "color": "#FFA15A",
          "pattern": {
           "shape": ""
          }
         },
         "name": "[1638400.0, 10000000.0)",
         "offsetgroup": "[1638400.0, 10000000.0)",
         "orientation": "v",
         "showlegend": true,
         "textposition": "auto",
         "type": "bar",
         "x": [
          "2013-03-01",
          "2013-04-01",
          "2013-05-01",
          "2013-06-01",
          "2013-07-01",
          "2013-08-01",
          "2013-09-01",
          "2013-10-01",
          "2013-11-01",
          "2013-12-01",
          "2014-01-01",
          "2014-02-01",
          "2014-03-01",
          "2014-04-01",
          "2014-05-01",
          "2014-06-01",
          "2014-07-01",
          "2014-08-01",
          "2014-09-01",
          "2014-10-01",
          "2014-11-01",
          "2014-12-01",
          "2015-01-01",
          "2015-02-01",
          "2015-03-01",
          "2015-04-01",
          "2015-05-01",
          "2015-06-01",
          "2015-07-01",
          "2015-08-01",
          "2015-09-01",
          "2015-10-01",
          "2015-11-01",
          "2015-12-01",
          "2016-01-01",
          "2016-02-01",
          "2016-03-01",
          "2016-04-01",
          "2016-05-01",
          "2016-06-01",
          "2016-07-01",
          "2016-08-01",
          "2016-09-01",
          "2016-10-01",
          "2016-11-01",
          "2016-12-01",
          "2017-01-01",
          "2017-02-01",
          "2017-03-01",
          "2017-04-01",
          "2017-05-01",
          "2017-06-01",
          "2017-07-01",
          "2017-08-01",
          "2017-09-01",
          "2017-10-01",
          "2017-11-01",
          "2017-12-01",
          "2018-01-01",
          "2018-02-01",
          "2018-03-01",
          "2018-04-01",
          "2018-05-01",
          "2018-06-01",
          "2018-07-01",
          "2018-08-01",
          "2018-09-01",
          "2018-10-01",
          "2018-11-01",
          "2018-12-01",
          "2019-01-01",
          "2019-02-01",
          "2019-03-01",
          "2019-04-01",
          "2019-05-01",
          "2019-06-01",
          "2019-07-01",
          "2019-08-01",
          "2019-09-01",
          "2019-10-01",
          "2019-11-01",
          "2019-12-01",
          "2020-01-01",
          "2020-02-01",
          "2020-03-01",
          "2020-04-01",
          "2020-05-01",
          "2020-06-01",
          "2020-07-01",
          "2020-08-01",
          "2020-09-01",
          "2020-10-01",
          "2020-11-01",
          "2020-12-01",
          "2021-01-01",
          "2021-02-01",
          "2021-03-01",
          "2021-04-01",
          "2021-05-01",
          "2021-06-01",
          "2021-07-01",
          "2021-08-01",
          "2021-09-01",
          "2021-10-01",
          "2021-11-01",
          "2021-12-01",
          "2022-01-01",
          "2022-02-01"
         ],
         "xaxis": "x",
         "y": [
          "129.20607823126957",
          "67.56436682663687",
          "67.77419354838706",
          "69.26436682663689",
          "68.67519370319705",
          "67.57745166916563",
          "67.96224250346624",
          "66.64432868352394",
          "68.03333333333333",
          "71.70967741935492",
          "64.9677419354839",
          "68.02804456152006",
          "77.14574437849282",
          "71.70000000000002",
          "65.45161290322581",
          "67.93333333333354",
          "61.903225806451545",
          "59.887453870459964",
          "58.21703566614199",
          "58.40275029591944",
          "61.127934966998744",
          "66.12903225806446",
          "63.96774193548367",
          "66.70968955700006",
          "79.56785168948451",
          "73.56117793205145",
          "71.16129032258051",
          "78.39770015997051",
          "68.93548387096766",
          "75.22580645161285",
          "65.49569819820739",
          "67.96607672188668",
          "64.63247297297484",
          "71.67741935483858",
          "66.51612903225809",
          "67.44989365133635",
          "77.2662260978688",
          "58.499139639641456",
          "56.51612903225803",
          "51.933333333333266",
          "46.677419354838655",
          "45.83648402577763",
          "46.064945945949596",
          "46.57342386885716",
          "45.599139639641486",
          "45.51612903225803",
          "42.7741935483871",
          "55.623293649199766",
          "53.1180279462927",
          "34.181711711822246",
          "33.36773321719859",
          "31.481711711822246",
          "31.01289450752117",
          "33.493707216822784",
          "31.608162162287453",
          "30.012061900722603",
          "30.875285540878522",
          "30.03986866195528",
          "30.7826367526248",
          "70.89350850167861",
          "48.84981370239564",
          "30.148378378488886",
          "27.044319965238717",
          "26.314184684797034",
          "25.231421098574888",
          "26.458060156986367",
          "27.17995771666276",
          "27.32153443773478",
          "24.940855855911114",
          "26.36103542554257",
          "24.68332908127616",
          "52.688591109390295",
          "47.83924667635939",
          "27.733956335821766",
          "26.23002805373176",
          "22.439995495552605",
          "22.16773757634122",
          "23.361285963437993",
          "21.435693693759994",
          "20.615187445574204",
          "19.406662162219273",
          "23.554001743736187",
          "26.29676983440574",
          "53.13725790859662",
          "38.42821850164827",
          "23.271860655017502",
          "23.25558139474481",
          "22.40519398835084",
          "23.00196818189923",
          "24.06648431093149",
          "22.988530641334552",
          "24.324548827060525",
          "22.40347326763381",
          "23.066484310931497",
          "22.780640802147673",
          "45.79221637621358",
          "50.803021878280056",
          "39.5036391851989",
          "37.74312926613097",
          "38.97030585186558",
          "37.45417681960748",
          "36.93804778734942",
          "33.234391437456665",
          "33.803187281694946",
          "35.0675953262107",
          "35.163854238962344",
          "35.77425964437309",
          "54.36556989032318"
         ],
         "yaxis": "y"
        },
        {
         "alignmentgroup": "True",
         "hovertemplate": "RealWageBand=[204800.0, 409600.0)<br>month=%{x}<br>FTE=%{y}<extra></extra>",
         "legendgroup": "[204800.0, 409600.0)",
         "marker": {
          "color": "#19d3f3",
          "pattern": {
           "shape": ""
          }
         },
         "name": "[204800.0, 409600.0)",
         "offsetgroup": "[204800.0, 409600.0)",
         "orientation": "v",
         "showlegend": true,
         "textposition": "auto",
         "type": "bar",
         "x": [
          "2013-03-01",
          "2013-04-01",
          "2013-05-01",
          "2013-06-01",
          "2013-07-01",
          "2013-08-01",
          "2013-09-01",
          "2013-10-01",
          "2013-11-01",
          "2013-12-01",
          "2014-01-01",
          "2014-02-01",
          "2014-03-01",
          "2014-04-01",
          "2014-05-01",
          "2014-06-01",
          "2014-07-01",
          "2014-08-01",
          "2014-09-01",
          "2014-10-01",
          "2014-11-01",
          "2014-12-01",
          "2015-01-01",
          "2015-02-01",
          "2015-03-01",
          "2015-04-01",
          "2015-05-01",
          "2015-06-01",
          "2015-07-01",
          "2015-08-01",
          "2015-09-01",
          "2015-10-01",
          "2015-11-01",
          "2015-12-01",
          "2016-01-01",
          "2016-02-01",
          "2016-03-01",
          "2016-04-01",
          "2016-05-01",
          "2016-06-01",
          "2016-07-01",
          "2016-08-01",
          "2016-09-01",
          "2016-10-01",
          "2016-11-01",
          "2016-12-01",
          "2017-01-01",
          "2017-02-01",
          "2017-03-01",
          "2017-04-01",
          "2017-05-01",
          "2017-06-01",
          "2017-07-01",
          "2017-08-01",
          "2017-09-01",
          "2017-10-01",
          "2017-11-01",
          "2017-12-01",
          "2018-01-01",
          "2018-02-01",
          "2018-03-01",
          "2018-04-01",
          "2018-05-01",
          "2018-06-01",
          "2018-07-01",
          "2018-08-01",
          "2018-09-01",
          "2018-10-01",
          "2018-11-01",
          "2018-12-01",
          "2019-01-01",
          "2019-02-01",
          "2019-03-01",
          "2019-04-01",
          "2019-05-01",
          "2019-06-01",
          "2019-07-01",
          "2019-08-01",
          "2019-09-01",
          "2019-10-01",
          "2019-11-01",
          "2019-12-01",
          "2020-01-01",
          "2020-02-01",
          "2020-03-01",
          "2020-04-01",
          "2020-05-01",
          "2020-06-01",
          "2020-07-01",
          "2020-08-01",
          "2020-09-01",
          "2020-10-01",
          "2020-11-01",
          "2020-12-01",
          "2021-01-01",
          "2021-02-01",
          "2021-03-01",
          "2021-04-01",
          "2021-05-01",
          "2021-06-01",
          "2021-07-01",
          "2021-08-01",
          "2021-09-01",
          "2021-10-01",
          "2021-11-01",
          "2021-12-01",
          "2022-01-01",
          "2022-02-01"
         ],
         "xaxis": "x",
         "y": [
          "2730.8245494506496",
          "2338.7393046086954",
          "2297.012781357408",
          "2288.68416805908",
          "2280.622056285817",
          "2274.13775811682",
          "2286.032588972102",
          "2282.0277874834433",
          "2281.788545570247",
          "2267.7263710528737",
          "2225.7419657703713",
          "2263.301105470029",
          "2875.582651815192",
          "2741.2429713003644",
          "2728.4892694366763",
          "2698.1014490799753",
          "2663.5758786605224",
          "2650.591186136967",
          "2646.991396686286",
          "2647.0200389600186",
          "2661.430775973659",
          "2629.6025992767927",
          "2614.8175802506953",
          "2636.547888752354",
          "3206.9923218336244",
          "3009.717349863754",
          "2978.353719391647",
          "2933.184865293344",
          "2898.990797538183",
          "3293.035442267436",
          "2880.5388086521234",
          "2859.8643348121195",
          "2837.4671019512866",
          "2827.200262629683",
          "2788.2074363111783",
          "2793.9910758460996",
          "3210.1869597330447",
          "3011.2654624829",
          "2967.9674490375423",
          "2929.635267262819",
          "2879.9768329216963",
          "2871.494619639687",
          "2866.4906867697646",
          "2895.3230797918645",
          "2861.6505883102354",
          "2884.6439217888724",
          "2845.7973765408474",
          "2880.742004359451",
          "3136.0029969222255",
          "3008.700261868908",
          "2957.8944124783657",
          "2914.543084928573",
          "2867.8818594704258",
          "2850.7120342673643",
          "2825.8724716466086",
          "2825.4968045871187",
          "2817.2451170019635",
          "2793.032297176367",
          "2782.3962833497867",
          "2820.178532241619",
          "3373.031540365776",
          "3222.954571512846",
          "3160.2823616000014",
          "3131.784469602159",
          "3091.4367782762774",
          "3065.4865210835633",
          "3029.888746781969",
          "3014.5495649775153",
          "3014.9129267605945",
          "2998.0279325479523",
          "2971.2356348558014",
          "3002.273175718279",
          "3975.9709866556846",
          "3823.119627835851",
          "3752.9541476150675",
          "3712.2210160282207",
          "3649.8340773922014",
          "3625.4565563663764",
          "3598.474179932613",
          "3594.0881537908467",
          "3569.0821318395165",
          "3557.926085941629",
          "3521.260929824725",
          "3533.708742489474",
          "3581.6295302864223",
          "3355.5226757317",
          "3308.2742894517455",
          "3285.767623479118",
          "3277.5246562612556",
          "3255.4652699574776",
          "3241.641987858701",
          "3234.8284631327624",
          "3220.1727723918107",
          "3219.0053624739585",
          "3187.18721049676",
          "3223.160550674392",
          "3912.6550559994143",
          "3712.7968323153177",
          "3665.9737402399205",
          "3639.0846907779096",
          "3587.1211866870726",
          "3579.847911948075",
          "3578.7288366436023",
          "3575.4096563249936",
          "3576.31630297748",
          "3572.3087762239275",
          "3547.1637900011483",
          "3575.6060290944547"
         ],
         "yaxis": "y"
        },
        {
         "alignmentgroup": "True",
         "hovertemplate": "RealWageBand=[25600.0, 51200.0)<br>month=%{x}<br>FTE=%{y}<extra></extra>",
         "legendgroup": "[25600.0, 51200.0)",
         "marker": {
          "color": "#FF6692",
          "pattern": {
           "shape": ""
          }
         },
         "name": "[25600.0, 51200.0)",
         "offsetgroup": "[25600.0, 51200.0)",
         "orientation": "v",
         "showlegend": true,
         "textposition": "auto",
         "type": "bar",
         "x": [
          "2013-03-01",
          "2013-04-01",
          "2013-05-01",
          "2013-06-01",
          "2013-07-01",
          "2013-08-01",
          "2013-09-01",
          "2013-10-01",
          "2013-11-01",
          "2013-12-01",
          "2014-01-01",
          "2014-02-01",
          "2014-03-01",
          "2014-04-01",
          "2014-05-01",
          "2014-06-01",
          "2014-07-01",
          "2014-08-01",
          "2014-09-01",
          "2014-10-01",
          "2014-11-01",
          "2014-12-01",
          "2015-01-01",
          "2015-02-01",
          "2015-03-01",
          "2015-04-01",
          "2015-05-01",
          "2015-06-01",
          "2015-07-01",
          "2015-08-01",
          "2015-09-01",
          "2015-10-01",
          "2015-11-01",
          "2015-12-01",
          "2016-01-01",
          "2016-02-01",
          "2016-03-01",
          "2016-04-01",
          "2016-05-01",
          "2016-06-01",
          "2016-07-01",
          "2016-08-01",
          "2016-09-01",
          "2016-10-01",
          "2016-11-01",
          "2016-12-01",
          "2017-01-01",
          "2017-02-01",
          "2017-03-01",
          "2017-04-01",
          "2017-05-01",
          "2017-06-01",
          "2017-07-01",
          "2017-08-01",
          "2017-09-01",
          "2017-10-01",
          "2017-11-01",
          "2017-12-01",
          "2018-01-01",
          "2018-02-01",
          "2018-03-01",
          "2018-04-01",
          "2018-05-01",
          "2018-06-01",
          "2018-07-01",
          "2018-08-01",
          "2018-09-01",
          "2018-10-01",
          "2018-11-01",
          "2018-12-01",
          "2019-01-01",
          "2019-02-01",
          "2019-03-01",
          "2019-04-01",
          "2019-05-01",
          "2019-06-01",
          "2019-07-01",
          "2019-08-01",
          "2019-09-01",
          "2019-10-01",
          "2019-11-01",
          "2019-12-01",
          "2020-01-01",
          "2020-02-01",
          "2020-03-01",
          "2020-04-01",
          "2020-05-01",
          "2020-06-01",
          "2020-07-01",
          "2020-08-01",
          "2020-09-01",
          "2020-10-01",
          "2020-11-01",
          "2020-12-01",
          "2021-01-01",
          "2021-02-01",
          "2021-03-01",
          "2021-04-01",
          "2021-05-01",
          "2021-06-01",
          "2021-07-01",
          "2021-08-01",
          "2021-09-01",
          "2021-10-01",
          "2021-11-01",
          "2021-12-01",
          "2022-01-01",
          "2022-02-01"
         ],
         "xaxis": "x",
         "y": [
          "170138.59213630753",
          "169882.89939842484",
          "169948.10156065313",
          "169792.15668783092",
          "169639.7266333106",
          "170032.60252252565",
          "170007.18191725115",
          "170106.85777788295",
          "170037.25273551233",
          "169452.38699029933",
          "168649.0968847755",
          "169081.77531469357",
          "177530.97406575983",
          "177347.51194436935",
          "177425.41234762856",
          "177426.49391567064",
          "177213.38359694288",
          "177641.25116943475",
          "177795.64182237603",
          "177970.94948328275",
          "177920.34169377753",
          "177087.3642481522",
          "175699.08408586847",
          "176227.9293258296",
          "187329.93105710755",
          "187209.08262725497",
          "187231.37286330765",
          "187235.25023342992",
          "187122.4386405077",
          "187200.0430543872",
          "187300.09959727406",
          "187256.64048043548",
          "187329.76431477204",
          "186257.91189030168",
          "185033.94910332913",
          "185073.47265848107",
          "190031.431151124",
          "189689.48796315538",
          "189281.7903193031",
          "189172.5231777155",
          "189031.87794224516",
          "189320.91941312363",
          "189826.59913990553",
          "189611.1243237169",
          "189797.2029498347",
          "189037.05259960634",
          "187818.59199260097",
          "188325.350195414",
          "197654.86346488682",
          "196904.56433897794",
          "196989.3747066852",
          "196687.4418811012",
          "196240.94059715312",
          "196323.46473987753",
          "196010.92183603515",
          "195815.25734834507",
          "195448.24649894462",
          "194622.1187334662",
          "193264.37872994618",
          "193329.27508915818",
          "203132.04794500425",
          "202628.11833865225",
          "202310.01897413272",
          "202025.1143982969",
          "202004.20686645774",
          "202265.71299469742",
          "202483.04526947998",
          "202255.33616565538",
          "202252.4127901949",
          "201621.51633516827",
          "200659.58800315802",
          "200913.21609055196",
          "214835.6404364889",
          "214554.78128516898",
          "214187.1116214705",
          "213909.87734046564",
          "213881.33380303544",
          "214020.80276984815",
          "213948.20679097855",
          "213636.83442670552",
          "213449.54907271062",
          "212358.10296200364",
          "211048.23573467007",
          "211437.84217707225",
          "203402.88306316678",
          "200987.23847458637",
          "200661.26462706094",
          "200615.7203210862",
          "200585.32142774021",
          "200401.75245115432",
          "200626.64843298978",
          "200363.7239003512",
          "200385.38279605372",
          "199818.1101501659",
          "198639.57277385663",
          "199343.20505415814",
          "210708.83135286169",
          "210411.5010183398",
          "210587.30022017832",
          "210744.7953894791",
          "210537.64062143053",
          "210682.54056879468",
          "210772.32330168062",
          "210613.77677746734",
          "210593.94359449085",
          "209816.81976885087",
          "209457.68373547937",
          "209017.9289586028"
         ],
         "yaxis": "y"
        },
        {
         "alignmentgroup": "True",
         "hovertemplate": "RealWageBand=[3200.0, 6400.0)<br>month=%{x}<br>FTE=%{y}<extra></extra>",
         "legendgroup": "[3200.0, 6400.0)",
         "marker": {
          "color": "#B6E880",
          "pattern": {
           "shape": ""
          }
         },
         "name": "[3200.0, 6400.0)",
         "offsetgroup": "[3200.0, 6400.0)",
         "orientation": "v",
         "showlegend": true,
         "textposition": "auto",
         "type": "bar",
         "x": [
          "2013-03-01",
          "2013-04-01",
          "2013-05-01",
          "2013-06-01",
          "2013-07-01",
          "2013-08-01",
          "2013-09-01",
          "2013-10-01",
          "2013-11-01",
          "2013-12-01",
          "2014-01-01",
          "2014-02-01",
          "2014-03-01",
          "2014-04-01",
          "2014-05-01",
          "2014-06-01",
          "2014-07-01",
          "2014-08-01",
          "2014-09-01",
          "2014-10-01",
          "2014-11-01",
          "2014-12-01",
          "2015-01-01",
          "2015-02-01",
          "2015-03-01",
          "2015-04-01",
          "2015-05-01",
          "2015-06-01",
          "2015-07-01",
          "2015-08-01",
          "2015-09-01",
          "2015-10-01",
          "2015-11-01",
          "2015-12-01",
          "2016-01-01",
          "2016-02-01",
          "2016-03-01",
          "2016-04-01",
          "2016-05-01",
          "2016-06-01",
          "2016-07-01",
          "2016-08-01",
          "2016-09-01",
          "2016-10-01",
          "2016-11-01",
          "2016-12-01",
          "2017-01-01",
          "2017-02-01",
          "2017-03-01",
          "2017-04-01",
          "2017-05-01",
          "2017-06-01",
          "2017-07-01",
          "2017-08-01",
          "2017-09-01",
          "2017-10-01",
          "2017-11-01",
          "2017-12-01",
          "2018-01-01",
          "2018-02-01",
          "2018-03-01",
          "2018-04-01",
          "2018-05-01",
          "2018-06-01",
          "2018-07-01",
          "2018-08-01",
          "2018-09-01",
          "2018-10-01",
          "2018-11-01",
          "2018-12-01",
          "2019-01-01",
          "2019-02-01",
          "2019-03-01",
          "2019-04-01",
          "2019-05-01",
          "2019-06-01",
          "2019-07-01",
          "2019-08-01",
          "2019-09-01",
          "2019-10-01",
          "2019-11-01",
          "2019-12-01",
          "2020-01-01",
          "2020-02-01",
          "2020-03-01",
          "2020-04-01",
          "2020-05-01",
          "2020-06-01",
          "2020-07-01",
          "2020-08-01",
          "2020-09-01",
          "2020-10-01",
          "2020-11-01",
          "2020-12-01",
          "2021-01-01",
          "2021-02-01",
          "2021-03-01",
          "2021-04-01",
          "2021-05-01",
          "2021-06-01",
          "2021-07-01",
          "2021-08-01",
          "2021-09-01",
          "2021-10-01",
          "2021-11-01",
          "2021-12-01",
          "2022-01-01",
          "2022-02-01"
         ],
         "xaxis": "x",
         "y": [
          "273438.9891275259",
          "281730.2613251683",
          "286709.18791162834",
          "288253.2484731753",
          "288605.7446918063",
          "291785.67587114545",
          "295803.56923621835",
          "300562.15717961726",
          "306863.494071915",
          "310598.7897020533",
          "302399.37923200696",
          "285424.7915959806",
          "288722.3824078554",
          "296981.90652255854",
          "301213.98933563667",
          "305007.8407342213",
          "305670.88240720506",
          "309194.8157190629",
          "312823.10379386344",
          "318269.86410055956",
          "324886.191197031",
          "329529.57018552825",
          "322461.27274403244",
          "308291.7331089773",
          "301032.2656696509",
          "311729.8032839544",
          "316743.89721436694",
          "320028.99440543196",
          "319995.6881688823",
          "323846.0023297446",
          "327555.4353108517",
          "333137.0069955196",
          "341382.6140544667",
          "346635.41589965957",
          "338603.7461704017",
          "323014.2136500744",
          "319870.3310627362",
          "327205.6617044814",
          "331948.4112103566",
          "337540.7995059495",
          "332371.83703995333",
          "335785.6193727504",
          "339735.4141180381",
          "344367.1448956362",
          "353119.94651681255",
          "357285.5276061441",
          "347786.87559010304",
          "328609.45961604203",
          "323590.43604800006",
          "330853.5340212796",
          "335007.5082683873",
          "338601.5849283514",
          "337261.0300151772",
          "340570.7806325555",
          "344345.58249429485",
          "349448.1211743398",
          "357326.26591565105",
          "363487.9367196627",
          "352693.7472267159",
          "333859.485787728",
          "335135.5663982167",
          "343478.9601721689",
          "347933.98138150515",
          "350086.218732154",
          "346822.35826705076",
          "349176.79847525095",
          "353018.4723621694",
          "358939.44307536155",
          "369863.34229319805",
          "376644.0799785554",
          "368790.23266310745",
          "347925.4274646474",
          "352721.4191652073",
          "362437.81118675234",
          "368159.9201073873",
          "371512.82856863266",
          "369827.6285770377",
          "373167.3543174691",
          "377074.80141014495",
          "381784.4539997015",
          "389973.9901878607",
          "395513.10352449655",
          "386591.37647973275",
          "358339.5108584589",
          "364135.7493854228",
          "361519.107353833",
          "359008.87441216724",
          "359980.2446446739",
          "358617.3588292475",
          "360469.45177230745",
          "361750.9557184688",
          "366032.68336387264",
          "376066.18416454067",
          "387611.96195168444",
          "380336.4703948837",
          "352309.0655724469",
          "336697.12666654086",
          "342743.6307130332",
          "346793.87034267915",
          "351795.1210229459",
          "352664.059154083",
          "355499.4772865381",
          "359370.8611011603",
          "365650.4806394806",
          "380965.7803095182",
          "387115.89245029277",
          "376448.73437217076",
          "358152.3464737174"
         ],
         "yaxis": "y"
        },
        {
         "alignmentgroup": "True",
         "hovertemplate": "RealWageBand=[400.0, 800.0)<br>month=%{x}<br>FTE=%{y}<extra></extra>",
         "legendgroup": "[400.0, 800.0)",
         "marker": {
          "color": "#FF97FF",
          "pattern": {
           "shape": ""
          }
         },
         "name": "[400.0, 800.0)",
         "offsetgroup": "[400.0, 800.0)",
         "orientation": "v",
         "showlegend": true,
         "textposition": "auto",
         "type": "bar",
         "x": [
          "2013-03-01",
          "2013-04-01",
          "2013-05-01",
          "2013-06-01",
          "2013-07-01",
          "2013-08-01",
          "2013-09-01",
          "2013-10-01",
          "2013-11-01",
          "2013-12-01",
          "2014-01-01",
          "2014-02-01",
          "2014-03-01",
          "2014-04-01",
          "2014-05-01",
          "2014-06-01",
          "2014-07-01",
          "2014-08-01",
          "2014-09-01",
          "2014-10-01",
          "2014-11-01",
          "2014-12-01",
          "2015-01-01",
          "2015-02-01",
          "2015-03-01",
          "2015-04-01",
          "2015-05-01",
          "2015-06-01",
          "2015-07-01",
          "2015-08-01",
          "2015-09-01",
          "2015-10-01",
          "2015-11-01",
          "2015-12-01",
          "2016-01-01",
          "2016-02-01",
          "2016-03-01",
          "2016-04-01",
          "2016-05-01",
          "2016-06-01",
          "2016-07-01",
          "2016-08-01",
          "2016-09-01",
          "2016-10-01",
          "2016-11-01",
          "2016-12-01",
          "2017-01-01",
          "2017-02-01",
          "2017-03-01",
          "2017-04-01",
          "2017-05-01",
          "2017-06-01",
          "2017-07-01",
          "2017-08-01",
          "2017-09-01",
          "2017-10-01",
          "2017-11-01",
          "2017-12-01",
          "2018-01-01",
          "2018-02-01",
          "2018-03-01",
          "2018-04-01",
          "2018-05-01",
          "2018-06-01",
          "2018-07-01",
          "2018-08-01",
          "2018-09-01",
          "2018-10-01",
          "2018-11-01",
          "2018-12-01",
          "2019-01-01",
          "2019-02-01",
          "2019-03-01",
          "2019-04-01",
          "2019-05-01",
          "2019-06-01",
          "2019-07-01",
          "2019-08-01",
          "2019-09-01",
          "2019-10-01",
          "2019-11-01",
          "2019-12-01",
          "2020-01-01",
          "2020-02-01",
          "2020-03-01",
          "2020-04-01",
          "2020-05-01",
          "2020-06-01",
          "2020-07-01",
          "2020-08-01",
          "2020-09-01",
          "2020-10-01",
          "2020-11-01",
          "2020-12-01",
          "2021-01-01",
          "2021-02-01",
          "2021-03-01",
          "2021-04-01",
          "2021-05-01",
          "2021-06-01",
          "2021-07-01",
          "2021-08-01",
          "2021-09-01",
          "2021-10-01",
          "2021-11-01",
          "2021-12-01",
          "2022-01-01",
          "2022-02-01"
         ],
         "xaxis": "x",
         "y": [
          "14289.500646840308",
          "15361.356225520864",
          "16284.840800964093",
          "17233.142759379065",
          "17993.145416141295",
          "18418.987328277675",
          "18567.001841324793",
          "18871.951432210048",
          "18558.966710335473",
          "17968.0424955014",
          "17029.530669920066",
          "15609.199649565193",
          "14955.683165313249",
          "16299.601544397341",
          "17341.83836767624",
          "18402.648345316764",
          "19471.754706807857",
          "20164.929552378366",
          "20553.49693904818",
          "20752.498506170206",
          "20603.39109447113",
          "19761.33357723975",
          "19010.740014046343",
          "17049.280683129524",
          "16150.941770121717",
          "17375.83383837892",
          "18421.638063048224",
          "19405.027941573873",
          "20183.66866285745",
          "21047.071062394214",
          "21709.513950269433",
          "21898.93664980385",
          "21769.958514177713",
          "21288.870999531402",
          "20563.15360429716",
          "18660.339066393874",
          "16268.76339153122",
          "17372.108600332624",
          "18208.248611633528",
          "19140.905959008804",
          "19894.422813256133",
          "19841.277926586197",
          "20119.605937714114",
          "20624.065189495323",
          "20467.939867647834",
          "19831.15476479988",
          "19205.304442893637",
          "17337.823622793236",
          "14883.206282976045",
          "15883.0542322475",
          "16794.12674763124",
          "17707.620802556703",
          "18712.081343565125",
          "19231.853661508827",
          "19398.224088449937",
          "19668.79219640352",
          "19713.324147651736",
          "19259.10103650564",
          "18387.653633698235",
          "16850.322558299395",
          "14811.87232716991",
          "16116.13987158862",
          "17066.81794604947",
          "17785.25820142964",
          "18318.04152591879",
          "18823.74089199063",
          "19109.740451719736",
          "19445.759622590016",
          "19554.269981759862",
          "19185.976127369202",
          "18318.63419909314",
          "17024.573438852825",
          "15767.527714314625",
          "16748.262635046398",
          "17615.72468291171",
          "18559.67857635766",
          "19096.455584071675",
          "19460.091035826976",
          "19901.892811596143",
          "20956.363542147687",
          "20983.76838927682",
          "20672.964973257564",
          "20028.14796922672",
          "17906.70507260637",
          "24592.638295448072",
          "25163.767615705332",
          "25427.468344510256",
          "25779.801145314566",
          "25742.89690033921",
          "25576.219367175097",
          "25123.77765060769",
          "24927.624348608028",
          "24886.40124714723",
          "24087.9664628631",
          "23160.95595650988",
          "21369.79710056763",
          "14888.288563274304",
          "15839.304266747218",
          "16752.954798589686",
          "17683.300037007495",
          "17892.814118625643",
          "18092.381056241793",
          "17387.87427815861",
          "18117.408120315507",
          "18209.966527066448",
          "17831.27623207609",
          "17196.866660829157",
          "15367.623288157281"
         ],
         "yaxis": "y"
        },
        {
         "alignmentgroup": "True",
         "hovertemplate": "RealWageBand=[409600.0, 819200.0)<br>month=%{x}<br>FTE=%{y}<extra></extra>",
         "legendgroup": "[409600.0, 819200.0)",
         "marker": {
          "color": "#FECB52",
          "pattern": {
           "shape": ""
          }
         },
         "name": "[409600.0, 819200.0)",
         "offsetgroup": "[409600.0, 819200.0)",
         "orientation": "v",
         "showlegend": true,
         "textposition": "auto",
         "type": "bar",
         "x": [
          "2013-03-01",
          "2013-04-01",
          "2013-05-01",
          "2013-06-01",
          "2013-07-01",
          "2013-08-01",
          "2013-09-01",
          "2013-10-01",
          "2013-11-01",
          "2013-12-01",
          "2014-01-01",
          "2014-02-01",
          "2014-03-01",
          "2014-04-01",
          "2014-05-01",
          "2014-06-01",
          "2014-07-01",
          "2014-08-01",
          "2014-09-01",
          "2014-10-01",
          "2014-11-01",
          "2014-12-01",
          "2015-01-01",
          "2015-02-01",
          "2015-03-01",
          "2015-04-01",
          "2015-05-01",
          "2015-06-01",
          "2015-07-01",
          "2015-08-01",
          "2015-09-01",
          "2015-10-01",
          "2015-11-01",
          "2015-12-01",
          "2016-01-01",
          "2016-02-01",
          "2016-03-01",
          "2016-04-01",
          "2016-05-01",
          "2016-06-01",
          "2016-07-01",
          "2016-08-01",
          "2016-09-01",
          "2016-10-01",
          "2016-11-01",
          "2016-12-01",
          "2017-01-01",
          "2017-02-01",
          "2017-03-01",
          "2017-04-01",
          "2017-05-01",
          "2017-06-01",
          "2017-07-01",
          "2017-08-01",
          "2017-09-01",
          "2017-10-01",
          "2017-11-01",
          "2017-12-01",
          "2018-01-01",
          "2018-02-01",
          "2018-03-01",
          "2018-04-01",
          "2018-05-01",
          "2018-06-01",
          "2018-07-01",
          "2018-08-01",
          "2018-09-01",
          "2018-10-01",
          "2018-11-01",
          "2018-12-01",
          "2019-01-01",
          "2019-02-01",
          "2019-03-01",
          "2019-04-01",
          "2019-05-01",
          "2019-06-01",
          "2019-07-01",
          "2019-08-01",
          "2019-09-01",
          "2019-10-01",
          "2019-11-01",
          "2019-12-01",
          "2020-01-01",
          "2020-02-01",
          "2020-03-01",
          "2020-04-01",
          "2020-05-01",
          "2020-06-01",
          "2020-07-01",
          "2020-08-01",
          "2020-09-01",
          "2020-10-01",
          "2020-11-01",
          "2020-12-01",
          "2021-01-01",
          "2021-02-01",
          "2021-03-01",
          "2021-04-01",
          "2021-05-01",
          "2021-06-01",
          "2021-07-01",
          "2021-08-01",
          "2021-09-01",
          "2021-10-01",
          "2021-11-01",
          "2021-12-01",
          "2022-01-01",
          "2022-02-01"
         ],
         "xaxis": "x",
         "y": [
          "888.9092127207678",
          "556.9670831449909",
          "544.8809761757351",
          "540.0672125895708",
          "534.300331014445",
          "536.5583955305736",
          "527.90290628333",
          "524.8809761757352",
          "527.8347396165944",
          "531.816460046703",
          "528.7842019821863",
          "540.9822199735936",
          "729.0824513655965",
          "670.9539892714572",
          "660.9077527123177",
          "662.1342615036089",
          "646.4948451273688",
          "643.5871402490548",
          "630.2254739808171",
          "622.5180553849774",
          "617.4123048813874",
          "619.2903704146498",
          "617.4194026727145",
          "625.8800934751812",
          "828.1268702812678",
          "768.1432005795245",
          "748.3825185677252",
          "735.2517129070396",
          "727.1596371377634",
          "944.2972676325685",
          "713.9091054120009",
          "712.7153924267777",
          "709.486804966863",
          "706.0736868325969",
          "685.6543319938872",
          "695.870790521433",
          "820.9897649410111",
          "750.0803951174648",
          "722.7910268958307",
          "705.4717352696869",
          "683.4363134551008",
          "679.4724548569966",
          "674.6057874638062",
          "682.9237880636082",
          "674.0113915219016",
          "673.5731123879237",
          "657.479388924956",
          "671.6634614565496",
          "729.1235778485423",
          "676.7207930064861",
          "667.9914874968919",
          "658.404568360256",
          "639.2791345577876",
          "633.1806951506425",
          "623.1567454266678",
          "622.8432665150721",
          "619.7133084896806",
          "624.9798008069992",
          "617.3332464718344",
          "641.2040230299278",
          "801.544954369162",
          "748.4549189306501",
          "715.7744183818745",
          "714.8081891521366",
          "691.9668311938694",
          "677.2493134759121",
          "672.0504744847163",
          "671.9567299471872",
          "674.6941321423521",
          "672.0291149375299",
          "674.5965340602911",
          "692.3089470867471",
          "933.9003715909013",
          "865.1299265179715",
          "847.7600449448471",
          "830.9943934791105",
          "819.4737484631238",
          "814.9882122817861",
          "810.5208439295757",
          "806.0485578489648",
          "796.3324705101813",
          "796.0518297080328",
          "787.6653369559456",
          "815.937782187345",
          "810.4809249553408",
          "743.3238267308565",
          "732.2499674020148",
          "723.2591602678543",
          "716.7244511946562",
          "701.9310501665929",
          "705.5537085218051",
          "707.7433084782222",
          "710.2588571464717",
          "709.1182772140097",
          "702.5684534883326",
          "716.9863262051159",
          "862.938726987369",
          "804.7874724138668",
          "791.8322728738807",
          "787.0651943225974",
          "782.7077196876774",
          "782.1337792498905",
          "779.265400308915",
          "777.3935014517565",
          "781.6151024005758",
          "784.8150819421081",
          "783.6536385820015",
          "818.0183452940693"
         ],
         "yaxis": "y"
        },
        {
         "alignmentgroup": "True",
         "hovertemplate": "RealWageBand=[51200.0, 102400.0)<br>month=%{x}<br>FTE=%{y}<extra></extra>",
         "legendgroup": "[51200.0, 102400.0)",
         "marker": {
          "color": "#636efa",
          "pattern": {
           "shape": ""
          }
         },
         "name": "[51200.0, 102400.0)",
         "offsetgroup": "[51200.0, 102400.0)",
         "orientation": "v",
         "showlegend": true,
         "textposition": "auto",
         "type": "bar",
         "x": [
          "2013-03-01",
          "2013-04-01",
          "2013-05-01",
          "2013-06-01",
          "2013-07-01",
          "2013-08-01",
          "2013-09-01",
          "2013-10-01",
          "2013-11-01",
          "2013-12-01",
          "2014-01-01",
          "2014-02-01",
          "2014-03-01",
          "2014-04-01",
          "2014-05-01",
          "2014-06-01",
          "2014-07-01",
          "2014-08-01",
          "2014-09-01",
          "2014-10-01",
          "2014-11-01",
          "2014-12-01",
          "2015-01-01",
          "2015-02-01",
          "2015-03-01",
          "2015-04-01",
          "2015-05-01",
          "2015-06-01",
          "2015-07-01",
          "2015-08-01",
          "2015-09-01",
          "2015-10-01",
          "2015-11-01",
          "2015-12-01",
          "2016-01-01",
          "2016-02-01",
          "2016-03-01",
          "2016-04-01",
          "2016-05-01",
          "2016-06-01",
          "2016-07-01",
          "2016-08-01",
          "2016-09-01",
          "2016-10-01",
          "2016-11-01",
          "2016-12-01",
          "2017-01-01",
          "2017-02-01",
          "2017-03-01",
          "2017-04-01",
          "2017-05-01",
          "2017-06-01",
          "2017-07-01",
          "2017-08-01",
          "2017-09-01",
          "2017-10-01",
          "2017-11-01",
          "2017-12-01",
          "2018-01-01",
          "2018-02-01",
          "2018-03-01",
          "2018-04-01",
          "2018-05-01",
          "2018-06-01",
          "2018-07-01",
          "2018-08-01",
          "2018-09-01",
          "2018-10-01",
          "2018-11-01",
          "2018-12-01",
          "2019-01-01",
          "2019-02-01",
          "2019-03-01",
          "2019-04-01",
          "2019-05-01",
          "2019-06-01",
          "2019-07-01",
          "2019-08-01",
          "2019-09-01",
          "2019-10-01",
          "2019-11-01",
          "2019-12-01",
          "2020-01-01",
          "2020-02-01",
          "2020-03-01",
          "2020-04-01",
          "2020-05-01",
          "2020-06-01",
          "2020-07-01",
          "2020-08-01",
          "2020-09-01",
          "2020-10-01",
          "2020-11-01",
          "2020-12-01",
          "2021-01-01",
          "2021-02-01",
          "2021-03-01",
          "2021-04-01",
          "2021-05-01",
          "2021-06-01",
          "2021-07-01",
          "2021-08-01",
          "2021-09-01",
          "2021-10-01",
          "2021-11-01",
          "2021-12-01",
          "2022-01-01",
          "2022-02-01"
         ],
         "xaxis": "x",
         "y": [
          "58682.76475672589",
          "58002.97125817443",
          "57830.74601702965",
          "57705.12191599093",
          "57653.15487002599",
          "57664.305946550274",
          "57667.09463092416",
          "57595.46692374478",
          "57600.02113966817",
          "57445.65723616378",
          "57252.23626461582",
          "57430.835033400734",
          "61810.364180298384",
          "61342.61935321883",
          "61163.358725023616",
          "61020.486153846316",
          "60815.8138563382",
          "60847.550158886464",
          "60858.430759052055",
          "60807.81436544565",
          "60811.074282101756",
          "60587.06465183409",
          "60408.70657373636",
          "60660.085188547964",
          "66894.4160760361",
          "66165.83065819996",
          "65884.48852343232",
          "65755.98291916505",
          "65596.09355119638",
          "65857.58650857609",
          "65153.22498648139",
          "65034.58726196176",
          "65001.08009181952",
          "64625.60897641208",
          "64262.293543214706",
          "64344.52453224337",
          "67440.67507343281",
          "66752.76296035919",
          "66470.87394141662",
          "66403.13830312483",
          "66264.75443241576",
          "66209.36047334436",
          "66395.68288002699",
          "66299.14168524402",
          "66361.70758004709",
          "66107.16851921068",
          "65891.06486886462",
          "66207.31819333065",
          "70464.30331415108",
          "69695.42187282447",
          "69425.3377606794",
          "69194.2894926466",
          "68905.89558773056",
          "68805.69037154237",
          "68612.02106553699",
          "68613.59909057913",
          "68452.18522180986",
          "68110.57804607773",
          "67740.15054101509",
          "67761.88286374739",
          "73264.28800775067",
          "72655.43389630131",
          "72362.10450510983",
          "72160.67973283543",
          "71926.90973317738",
          "71789.50111779288",
          "71908.80098203765",
          "71929.88129100943",
          "71996.76715774245",
          "71770.71187829725",
          "71550.18296775527",
          "71684.52391984376",
          "81327.91670053986",
          "80639.6326786044",
          "80333.65669707752",
          "80171.17683523207",
          "79938.77204055729",
          "79804.33110696723",
          "79721.48271733253",
          "79624.17847605464",
          "79478.48338821631",
          "79061.86303234998",
          "78611.86852976822",
          "78628.89225433154",
          "77055.73247577985",
          "75875.77989616069",
          "75537.24495553096",
          "75338.14546793952",
          "75162.35034589145",
          "74934.57337324569",
          "74810.37454547675",
          "74667.98861561736",
          "74569.66022715684",
          "74402.75008548985",
          "73940.34523599406",
          "74110.19765540259",
          "80641.76406329345",
          "80004.85912961737",
          "79769.15389231604",
          "79685.64371273598",
          "79519.0228620625",
          "79507.60912173474",
          "79419.45923496722",
          "79319.42433815582",
          "79314.93738221603",
          "79064.24221374509",
          "78749.14651813534",
          "78828.0720012893"
         ],
         "yaxis": "y"
        },
        {
         "alignmentgroup": "True",
         "hovertemplate": "RealWageBand=[6400.0, 12800.0)<br>month=%{x}<br>FTE=%{y}<extra></extra>",
         "legendgroup": "[6400.0, 12800.0)",
         "marker": {
          "color": "#EF553B",
          "pattern": {
           "shape": ""
          }
         },
         "name": "[6400.0, 12800.0)",
         "offsetgroup": "[6400.0, 12800.0)",
         "orientation": "v",
         "showlegend": true,
         "textposition": "auto",
         "type": "bar",
         "x": [
          "2013-03-01",
          "2013-04-01",
          "2013-05-01",
          "2013-06-01",
          "2013-07-01",
          "2013-08-01",
          "2013-09-01",
          "2013-10-01",
          "2013-11-01",
          "2013-12-01",
          "2014-01-01",
          "2014-02-01",
          "2014-03-01",
          "2014-04-01",
          "2014-05-01",
          "2014-06-01",
          "2014-07-01",
          "2014-08-01",
          "2014-09-01",
          "2014-10-01",
          "2014-11-01",
          "2014-12-01",
          "2015-01-01",
          "2015-02-01",
          "2015-03-01",
          "2015-04-01",
          "2015-05-01",
          "2015-06-01",
          "2015-07-01",
          "2015-08-01",
          "2015-09-01",
          "2015-10-01",
          "2015-11-01",
          "2015-12-01",
          "2016-01-01",
          "2016-02-01",
          "2016-03-01",
          "2016-04-01",
          "2016-05-01",
          "2016-06-01",
          "2016-07-01",
          "2016-08-01",
          "2016-09-01",
          "2016-10-01",
          "2016-11-01",
          "2016-12-01",
          "2017-01-01",
          "2017-02-01",
          "2017-03-01",
          "2017-04-01",
          "2017-05-01",
          "2017-06-01",
          "2017-07-01",
          "2017-08-01",
          "2017-09-01",
          "2017-10-01",
          "2017-11-01",
          "2017-12-01",
          "2018-01-01",
          "2018-02-01",
          "2018-03-01",
          "2018-04-01",
          "2018-05-01",
          "2018-06-01",
          "2018-07-01",
          "2018-08-01",
          "2018-09-01",
          "2018-10-01",
          "2018-11-01",
          "2018-12-01",
          "2019-01-01",
          "2019-02-01",
          "2019-03-01",
          "2019-04-01",
          "2019-05-01",
          "2019-06-01",
          "2019-07-01",
          "2019-08-01",
          "2019-09-01",
          "2019-10-01",
          "2019-11-01",
          "2019-12-01",
          "2020-01-01",
          "2020-02-01",
          "2020-03-01",
          "2020-04-01",
          "2020-05-01",
          "2020-06-01",
          "2020-07-01",
          "2020-08-01",
          "2020-09-01",
          "2020-10-01",
          "2020-11-01",
          "2020-12-01",
          "2021-01-01",
          "2021-02-01",
          "2021-03-01",
          "2021-04-01",
          "2021-05-01",
          "2021-06-01",
          "2021-07-01",
          "2021-08-01",
          "2021-09-01",
          "2021-10-01",
          "2021-11-01",
          "2021-12-01",
          "2022-01-01",
          "2022-02-01"
         ],
         "xaxis": "x",
         "y": [
          "267362.3327053717",
          "269340.89250563213",
          "270450.1523150668",
          "271248.5230609773",
          "271820.82367979595",
          "272927.70167466137",
          "275130.7687296023",
          "276849.1211647108",
          "279015.3019258347",
          "277613.37036193616",
          "275074.9797806732",
          "269598.68813528854",
          "279238.2729841001",
          "281432.33031566005",
          "281541.8426197282",
          "283193.5975315176",
          "284691.81382901286",
          "286035.6376142086",
          "287114.7320216103",
          "288791.32347534853",
          "290623.4891069257",
          "289265.2568141258",
          "286179.3837219777",
          "279110.3974561505",
          "288634.89324749983",
          "290348.06286342605",
          "291387.71643777116",
          "292746.70869924984",
          "293872.65796983364",
          "295689.4807919116",
          "298300.9062944259",
          "301180.4945152915",
          "303824.73791049595",
          "302073.69338092476",
          "298589.94752579334",
          "291767.5605472821",
          "306710.06910475006",
          "307672.7718858183",
          "308276.98474534025",
          "309700.07964024995",
          "310308.32392230455",
          "311520.5072401664",
          "313374.9709908343",
          "314835.4317611549",
          "316807.1844607559",
          "315097.7537262023",
          "312049.63508704817",
          "305758.69886790344",
          "318031.92876632506",
          "319542.75144343777",
          "320342.1112975598",
          "320249.94250869955",
          "320800.2345907479",
          "321776.9710040244",
          "322520.6899436644",
          "324223.26008764684",
          "326288.7531071012",
          "324328.7325846831",
          "319995.16147229186",
          "313644.3354662065",
          "327819.31461920525",
          "328639.1222549761",
          "328789.09121712024",
          "329547.6985669583",
          "329518.03407837",
          "330870.3984544136",
          "332503.08370438125",
          "334607.9622877935",
          "337064.85720508615",
          "334987.2903230745",
          "330362.1780297008",
          "323687.6822013262",
          "342587.0495639725",
          "343692.0072361694",
          "343751.5225158699",
          "344243.12571967",
          "343652.94112784235",
          "344128.8048152829",
          "345481.2530616439",
          "347311.59806223",
          "349074.10418590857",
          "346024.9013304706",
          "342135.73077757435",
          "334801.2176929623",
          "309613.1871737814",
          "304714.142478649",
          "303489.09487350576",
          "304042.8289286144",
          "304102.89010362857",
          "304859.76661582827",
          "306866.85606180195",
          "309063.94566770404",
          "312144.4882852659",
          "311661.91186325054",
          "309620.86428598576",
          "305275.9888828825",
          "321513.1417129247",
          "322267.296775295",
          "322778.7554553455",
          "323431.4315751279",
          "323169.85158643033",
          "324350.77556200355",
          "326408.9912729955",
          "328703.24084627134",
          "330761.76580601285",
          "329249.9080397716",
          "326719.43009231257",
          "316649.3436672818"
         ],
         "yaxis": "y"
        },
        {
         "alignmentgroup": "True",
         "hovertemplate": "RealWageBand=[800.0, 1600.0)<br>month=%{x}<br>FTE=%{y}<extra></extra>",
         "legendgroup": "[800.0, 1600.0)",
         "marker": {
          "color": "#00cc96",
          "pattern": {
           "shape": ""
          }
         },
         "name": "[800.0, 1600.0)",
         "offsetgroup": "[800.0, 1600.0)",
         "orientation": "v",
         "showlegend": true,
         "textposition": "auto",
         "type": "bar",
         "x": [
          "2013-03-01",
          "2013-04-01",
          "2013-05-01",
          "2013-06-01",
          "2013-07-01",
          "2013-08-01",
          "2013-09-01",
          "2013-10-01",
          "2013-11-01",
          "2013-12-01",
          "2014-01-01",
          "2014-02-01",
          "2014-03-01",
          "2014-04-01",
          "2014-05-01",
          "2014-06-01",
          "2014-07-01",
          "2014-08-01",
          "2014-09-01",
          "2014-10-01",
          "2014-11-01",
          "2014-12-01",
          "2015-01-01",
          "2015-02-01",
          "2015-03-01",
          "2015-04-01",
          "2015-05-01",
          "2015-06-01",
          "2015-07-01",
          "2015-08-01",
          "2015-09-01",
          "2015-10-01",
          "2015-11-01",
          "2015-12-01",
          "2016-01-01",
          "2016-02-01",
          "2016-03-01",
          "2016-04-01",
          "2016-05-01",
          "2016-06-01",
          "2016-07-01",
          "2016-08-01",
          "2016-09-01",
          "2016-10-01",
          "2016-11-01",
          "2016-12-01",
          "2017-01-01",
          "2017-02-01",
          "2017-03-01",
          "2017-04-01",
          "2017-05-01",
          "2017-06-01",
          "2017-07-01",
          "2017-08-01",
          "2017-09-01",
          "2017-10-01",
          "2017-11-01",
          "2017-12-01",
          "2018-01-01",
          "2018-02-01",
          "2018-03-01",
          "2018-04-01",
          "2018-05-01",
          "2018-06-01",
          "2018-07-01",
          "2018-08-01",
          "2018-09-01",
          "2018-10-01",
          "2018-11-01",
          "2018-12-01",
          "2019-01-01",
          "2019-02-01",
          "2019-03-01",
          "2019-04-01",
          "2019-05-01",
          "2019-06-01",
          "2019-07-01",
          "2019-08-01",
          "2019-09-01",
          "2019-10-01",
          "2019-11-01",
          "2019-12-01",
          "2020-01-01",
          "2020-02-01",
          "2020-03-01",
          "2020-04-01",
          "2020-05-01",
          "2020-06-01",
          "2020-07-01",
          "2020-08-01",
          "2020-09-01",
          "2020-10-01",
          "2020-11-01",
          "2020-12-01",
          "2021-01-01",
          "2021-02-01",
          "2021-03-01",
          "2021-04-01",
          "2021-05-01",
          "2021-06-01",
          "2021-07-01",
          "2021-08-01",
          "2021-09-01",
          "2021-10-01",
          "2021-11-01",
          "2021-12-01",
          "2022-01-01",
          "2022-02-01"
         ],
         "xaxis": "x",
         "y": [
          "22934.858601128653",
          "25015.266799497273",
          "26428.321068276357",
          "27172.87322408786",
          "27649.446075114887",
          "28169.375200637012",
          "28426.349995633394",
          "29350.57476124574",
          "29910.90577274634",
          "30119.04767029498",
          "28449.40937631884",
          "25210.622257526426",
          "24197.073014942926",
          "26560.216127403633",
          "28124.8393318099",
          "29253.04558402587",
          "29891.617502813137",
          "30886.599854594864",
          "31551.647163644437",
          "32769.73482211472",
          "34017.13230703144",
          "34041.71845929391",
          "32718.685378447324",
          "28536.64845383614",
          "25890.264656509593",
          "28242.153673073597",
          "29890.328409938473",
          "30516.81468276656",
          "30782.069574694284",
          "31775.4578575645",
          "32581.944059103575",
          "33575.7486895824",
          "34941.25802264906",
          "35634.5822810725",
          "34368.35831485346",
          "29956.477134787623",
          "25231.566067342726",
          "27526.290570343004",
          "28750.225180815632",
          "29233.83729580274",
          "29359.89994630629",
          "29879.979017543974",
          "30404.179059251903",
          "31518.400404463875",
          "32912.769412629306",
          "33831.47230081962",
          "32853.643360830865",
          "28750.478588588652",
          "24639.379592773465",
          "26917.664892180794",
          "28149.28567092504",
          "28344.49029930551",
          "28618.62720683645",
          "28982.039570486446",
          "29423.090948126905",
          "30336.737963023697",
          "31829.736814768068",
          "32442.427721156382",
          "30910.73872431774",
          "27139.729763203544",
          "24683.632271069797",
          "27365.785767847687",
          "28645.08469748584",
          "29190.014607383204",
          "29430.196047793313",
          "30105.31443793427",
          "30292.622851035787",
          "31297.227863251977",
          "32808.139624615265",
          "33899.80542783621",
          "32751.379777520753",
          "29335.06670621968",
          "26057.691125983038",
          "28145.44241263157",
          "29074.03417809485",
          "29561.843255307336",
          "29715.538867682142",
          "30236.311441761587",
          "30712.23293932947",
          "32513.2150485518",
          "33774.020072373656",
          "35046.817165660075",
          "34273.70521278344",
          "29641.033942461792",
          "41531.52845606805",
          "42418.73920196316",
          "42346.46225339011",
          "41851.924294485056",
          "40645.1204266909",
          "39713.68003944675",
          "39108.09247585013",
          "38968.27033469296",
          "40829.10745337431",
          "40909.99652508583",
          "39461.05285307851",
          "35195.352371059445",
          "26041.793056833652",
          "28201.0524006566",
          "29014.21271382461",
          "29426.12148937936",
          "29398.420648110845",
          "29609.394818031447",
          "29631.999617697627",
          "30353.493021498696",
          "31161.08163294396",
          "31457.27450686777",
          "30639.554421013734",
          "27551.12163354859"
         ],
         "yaxis": "y"
        },
        {
         "alignmentgroup": "True",
         "hovertemplate": "RealWageBand=[819200.0, 1638400.0)<br>month=%{x}<br>FTE=%{y}<extra></extra>",
         "legendgroup": "[819200.0, 1638400.0)",
         "marker": {
          "color": "#ab63fa",
          "pattern": {
           "shape": ""
          }
         },
         "name": "[819200.0, 1638400.0)",
         "offsetgroup": "[819200.0, 1638400.0)",
         "orientation": "v",
         "showlegend": true,
         "textposition": "auto",
         "type": "bar",
         "x": [
          "2013-03-01",
          "2013-04-01",
          "2013-05-01",
          "2013-06-01",
          "2013-07-01",
          "2013-08-01",
          "2013-09-01",
          "2013-10-01",
          "2013-11-01",
          "2013-12-01",
          "2014-01-01",
          "2014-02-01",
          "2014-03-01",
          "2014-04-01",
          "2014-05-01",
          "2014-06-01",
          "2014-07-01",
          "2014-08-01",
          "2014-09-01",
          "2014-10-01",
          "2014-11-01",
          "2014-12-01",
          "2015-01-01",
          "2015-02-01",
          "2015-03-01",
          "2015-04-01",
          "2015-05-01",
          "2015-06-01",
          "2015-07-01",
          "2015-08-01",
          "2015-09-01",
          "2015-10-01",
          "2015-11-01",
          "2015-12-01",
          "2016-01-01",
          "2016-02-01",
          "2016-03-01",
          "2016-04-01",
          "2016-05-01",
          "2016-06-01",
          "2016-07-01",
          "2016-08-01",
          "2016-09-01",
          "2016-10-01",
          "2016-11-01",
          "2016-12-01",
          "2017-01-01",
          "2017-02-01",
          "2017-03-01",
          "2017-04-01",
          "2017-05-01",
          "2017-06-01",
          "2017-07-01",
          "2017-08-01",
          "2017-09-01",
          "2017-10-01",
          "2017-11-01",
          "2017-12-01",
          "2018-01-01",
          "2018-02-01",
          "2018-03-01",
          "2018-04-01",
          "2018-05-01",
          "2018-06-01",
          "2018-07-01",
          "2018-08-01",
          "2018-09-01",
          "2018-10-01",
          "2018-11-01",
          "2018-12-01",
          "2019-01-01",
          "2019-02-01",
          "2019-03-01",
          "2019-04-01",
          "2019-05-01",
          "2019-06-01",
          "2019-07-01",
          "2019-08-01",
          "2019-09-01",
          "2019-10-01",
          "2019-11-01",
          "2019-12-01",
          "2020-01-01",
          "2020-02-01",
          "2020-03-01",
          "2020-04-01",
          "2020-05-01",
          "2020-06-01",
          "2020-07-01",
          "2020-08-01",
          "2020-09-01",
          "2020-10-01",
          "2020-11-01",
          "2020-12-01",
          "2021-01-01",
          "2021-02-01",
          "2021-03-01",
          "2021-04-01",
          "2021-05-01",
          "2021-06-01",
          "2021-07-01",
          "2021-08-01",
          "2021-09-01",
          "2021-10-01",
          "2021-11-01",
          "2021-12-01",
          "2022-01-01",
          "2022-02-01"
         ],
         "xaxis": "x",
         "y": [
          "301.7635852897501",
          "124.03915147785932",
          "123.22554898187043",
          "121.47186065501754",
          "120.35680689157653",
          "119.32454882706057",
          "122.50175254691676",
          "120.51809721415725",
          "119.48889632115959",
          "121.40555108461733",
          "118.09874237544753",
          "121.3337654169223",
          "200.14391031380683",
          "189.9666666666667",
          "179.90382982855647",
          "177.9333333333333",
          "170.3501227654999",
          "163.70579408197588",
          "163.12944999595442",
          "154.3476249451042",
          "152.3285896355959",
          "156.02812418924165",
          "158.80256827552424",
          "167.960402376907",
          "202.2288960382143",
          "184.21176777676584",
          "178.5071708885353",
          "175.06200959821285",
          "169.31362250143863",
          "180.2858435087838",
          "169.92756335767234",
          "168.44630122456599",
          "162.19681110541447",
          "158.9632628636225",
          "158.89777889410743",
          "163.8633306394684",
          "233.5829507135582",
          "201.28657615495587",
          "197.0839327124467",
          "188.19534293154618",
          "184.6039450820837",
          "180.31362250143852",
          "180.8910411297534",
          "192.6278770786141",
          "179.0944825711875",
          "177.66762860431746",
          "177.86198182963466",
          "187.69277715746549",
          "200.18538972401927",
          "184.34708588079533",
          "176.1287311968955",
          "169.64695643621602",
          "166.54490250821718",
          "166.76195318999476",
          "166.64686516014672",
          "157.83285253741465",
          "158.11203182674498",
          "156.90515039692426",
          "160.42127942918233",
          "176.36879347540471",
          "173.6700545519011",
          "154.50277882484028",
          "149.77638165792578",
          "146.29525630226254",
          "140.80256827552455",
          "136.83482634004037",
          "135.6225671130863",
          "129.0534190270802",
          "130.558899991909",
          "130.34707203491993",
          "130.1525558073399",
          "151.92591906779307",
          "177.03086500004545",
          "156.7252867129666",
          "151.73352993736782",
          "147.05920694440135",
          "146.5040993531258",
          "144.9381138833354",
          "146.0015083947368",
          "149.4472660233365",
          "144.67224065901252",
          "147.62016905099685",
          "149.13612827272706",
          "157.93125769045946",
          "176.61713848020082",
          "154.95657145768206",
          "151.50388328563895",
          "146.1899047910155",
          "142.7784339302925",
          "136.73416880911319",
          "137.65803963155042",
          "136.34707203491965",
          "131.12470629821706",
          "133.15943337426035",
          "133.48255154674473",
          "151.26021106942676",
          "174.8459967609702",
          "155.00838288293622",
          "149.7152920663169",
          "149.6741891892444",
          "139.92871853600042",
          "140.44550391420518",
          "141.2404139599663",
          "141.45320897912458",
          "142.4343914374567",
          "144.00256391638166",
          "144.87353165831715",
          "158.12440318988806"
         ],
         "yaxis": "y"
        }
       ],
       "layout": {
        "barmode": "relative",
        "legend": {
         "title": {
          "text": "RealWageBand"
         },
         "tracegroupgap": 0
        },
        "margin": {
         "t": 60
        },
        "template": {
         "data": {
          "bar": [
           {
            "error_x": {
             "color": "#2a3f5f"
            },
            "error_y": {
             "color": "#2a3f5f"
            },
            "marker": {
             "line": {
              "color": "#E5ECF6",
              "width": 0.5
             },
             "pattern": {
              "fillmode": "overlay",
              "size": 10,
              "solidity": 0.2
             }
            },
            "type": "bar"
           }
          ],
          "barpolar": [
           {
            "marker": {
             "line": {
              "color": "#E5ECF6",
              "width": 0.5
             },
             "pattern": {
              "fillmode": "overlay",
              "size": 10,
              "solidity": 0.2
             }
            },
            "type": "barpolar"
           }
          ],
          "carpet": [
           {
            "aaxis": {
             "endlinecolor": "#2a3f5f",
             "gridcolor": "white",
             "linecolor": "white",
             "minorgridcolor": "white",
             "startlinecolor": "#2a3f5f"
            },
            "baxis": {
             "endlinecolor": "#2a3f5f",
             "gridcolor": "white",
             "linecolor": "white",
             "minorgridcolor": "white",
             "startlinecolor": "#2a3f5f"
            },
            "type": "carpet"
           }
          ],
          "choropleth": [
           {
            "colorbar": {
             "outlinewidth": 0,
             "ticks": ""
            },
            "type": "choropleth"
           }
          ],
          "contour": [
           {
            "colorbar": {
             "outlinewidth": 0,
             "ticks": ""
            },
            "colorscale": [
             [
              0,
              "#0d0887"
             ],
             [
              0.1111111111111111,
              "#46039f"
             ],
             [
              0.2222222222222222,
              "#7201a8"
             ],
             [
              0.3333333333333333,
              "#9c179e"
             ],
             [
              0.4444444444444444,
              "#bd3786"
             ],
             [
              0.5555555555555556,
              "#d8576b"
             ],
             [
              0.6666666666666666,
              "#ed7953"
             ],
             [
              0.7777777777777778,
              "#fb9f3a"
             ],
             [
              0.8888888888888888,
              "#fdca26"
             ],
             [
              1,
              "#f0f921"
             ]
            ],
            "type": "contour"
           }
          ],
          "contourcarpet": [
           {
            "colorbar": {
             "outlinewidth": 0,
             "ticks": ""
            },
            "type": "contourcarpet"
           }
          ],
          "heatmap": [
           {
            "colorbar": {
             "outlinewidth": 0,
             "ticks": ""
            },
            "colorscale": [
             [
              0,
              "#0d0887"
             ],
             [
              0.1111111111111111,
              "#46039f"
             ],
             [
              0.2222222222222222,
              "#7201a8"
             ],
             [
              0.3333333333333333,
              "#9c179e"
             ],
             [
              0.4444444444444444,
              "#bd3786"
             ],
             [
              0.5555555555555556,
              "#d8576b"
             ],
             [
              0.6666666666666666,
              "#ed7953"
             ],
             [
              0.7777777777777778,
              "#fb9f3a"
             ],
             [
              0.8888888888888888,
              "#fdca26"
             ],
             [
              1,
              "#f0f921"
             ]
            ],
            "type": "heatmap"
           }
          ],
          "heatmapgl": [
           {
            "colorbar": {
             "outlinewidth": 0,
             "ticks": ""
            },
            "colorscale": [
             [
              0,
              "#0d0887"
             ],
             [
              0.1111111111111111,
              "#46039f"
             ],
             [
              0.2222222222222222,
              "#7201a8"
             ],
             [
              0.3333333333333333,
              "#9c179e"
             ],
             [
              0.4444444444444444,
              "#bd3786"
             ],
             [
              0.5555555555555556,
              "#d8576b"
             ],
             [
              0.6666666666666666,
              "#ed7953"
             ],
             [
              0.7777777777777778,
              "#fb9f3a"
             ],
             [
              0.8888888888888888,
              "#fdca26"
             ],
             [
              1,
              "#f0f921"
             ]
            ],
            "type": "heatmapgl"
           }
          ],
          "histogram": [
           {
            "marker": {
             "pattern": {
              "fillmode": "overlay",
              "size": 10,
              "solidity": 0.2
             }
            },
            "type": "histogram"
           }
          ],
          "histogram2d": [
           {
            "colorbar": {
             "outlinewidth": 0,
             "ticks": ""
            },
            "colorscale": [
             [
              0,
              "#0d0887"
             ],
             [
              0.1111111111111111,
              "#46039f"
             ],
             [
              0.2222222222222222,
              "#7201a8"
             ],
             [
              0.3333333333333333,
              "#9c179e"
             ],
             [
              0.4444444444444444,
              "#bd3786"
             ],
             [
              0.5555555555555556,
              "#d8576b"
             ],
             [
              0.6666666666666666,
              "#ed7953"
             ],
             [
              0.7777777777777778,
              "#fb9f3a"
             ],
             [
              0.8888888888888888,
              "#fdca26"
             ],
             [
              1,
              "#f0f921"
             ]
            ],
            "type": "histogram2d"
           }
          ],
          "histogram2dcontour": [
           {
            "colorbar": {
             "outlinewidth": 0,
             "ticks": ""
            },
            "colorscale": [
             [
              0,
              "#0d0887"
             ],
             [
              0.1111111111111111,
              "#46039f"
             ],
             [
              0.2222222222222222,
              "#7201a8"
             ],
             [
              0.3333333333333333,
              "#9c179e"
             ],
             [
              0.4444444444444444,
              "#bd3786"
             ],
             [
              0.5555555555555556,
              "#d8576b"
             ],
             [
              0.6666666666666666,
              "#ed7953"
             ],
             [
              0.7777777777777778,
              "#fb9f3a"
             ],
             [
              0.8888888888888888,
              "#fdca26"
             ],
             [
              1,
              "#f0f921"
             ]
            ],
            "type": "histogram2dcontour"
           }
          ],
          "mesh3d": [
           {
            "colorbar": {
             "outlinewidth": 0,
             "ticks": ""
            },
            "type": "mesh3d"
           }
          ],
          "parcoords": [
           {
            "line": {
             "colorbar": {
              "outlinewidth": 0,
              "ticks": ""
             }
            },
            "type": "parcoords"
           }
          ],
          "pie": [
           {
            "automargin": true,
            "type": "pie"
           }
          ],
          "scatter": [
           {
            "fillpattern": {
             "fillmode": "overlay",
             "size": 10,
             "solidity": 0.2
            },
            "type": "scatter"
           }
          ],
          "scatter3d": [
           {
            "line": {
             "colorbar": {
              "outlinewidth": 0,
              "ticks": ""
             }
            },
            "marker": {
             "colorbar": {
              "outlinewidth": 0,
              "ticks": ""
             }
            },
            "type": "scatter3d"
           }
          ],
          "scattercarpet": [
           {
            "marker": {
             "colorbar": {
              "outlinewidth": 0,
              "ticks": ""
             }
            },
            "type": "scattercarpet"
           }
          ],
          "scattergeo": [
           {
            "marker": {
             "colorbar": {
              "outlinewidth": 0,
              "ticks": ""
             }
            },
            "type": "scattergeo"
           }
          ],
          "scattergl": [
           {
            "marker": {
             "colorbar": {
              "outlinewidth": 0,
              "ticks": ""
             }
            },
            "type": "scattergl"
           }
          ],
          "scattermapbox": [
           {
            "marker": {
             "colorbar": {
              "outlinewidth": 0,
              "ticks": ""
             }
            },
            "type": "scattermapbox"
           }
          ],
          "scatterpolar": [
           {
            "marker": {
             "colorbar": {
              "outlinewidth": 0,
              "ticks": ""
             }
            },
            "type": "scatterpolar"
           }
          ],
          "scatterpolargl": [
           {
            "marker": {
             "colorbar": {
              "outlinewidth": 0,
              "ticks": ""
             }
            },
            "type": "scatterpolargl"
           }
          ],
          "scatterternary": [
           {
            "marker": {
             "colorbar": {
              "outlinewidth": 0,
              "ticks": ""
             }
            },
            "type": "scatterternary"
           }
          ],
          "surface": [
           {
            "colorbar": {
             "outlinewidth": 0,
             "ticks": ""
            },
            "colorscale": [
             [
              0,
              "#0d0887"
             ],
             [
              0.1111111111111111,
              "#46039f"
             ],
             [
              0.2222222222222222,
              "#7201a8"
             ],
             [
              0.3333333333333333,
              "#9c179e"
             ],
             [
              0.4444444444444444,
              "#bd3786"
             ],
             [
              0.5555555555555556,
              "#d8576b"
             ],
             [
              0.6666666666666666,
              "#ed7953"
             ],
             [
              0.7777777777777778,
              "#fb9f3a"
             ],
             [
              0.8888888888888888,
              "#fdca26"
             ],
             [
              1,
              "#f0f921"
             ]
            ],
            "type": "surface"
           }
          ],
          "table": [
           {
            "cells": {
             "fill": {
              "color": "#EBF0F8"
             },
             "line": {
              "color": "white"
             }
            },
            "header": {
             "fill": {
              "color": "#C8D4E3"
             },
             "line": {
              "color": "white"
             }
            },
            "type": "table"
           }
          ]
         },
         "layout": {
          "annotationdefaults": {
           "arrowcolor": "#2a3f5f",
           "arrowhead": 0,
           "arrowwidth": 1
          },
          "autotypenumbers": "strict",
          "coloraxis": {
           "colorbar": {
            "outlinewidth": 0,
            "ticks": ""
           }
          },
          "colorscale": {
           "diverging": [
            [
             0,
             "#8e0152"
            ],
            [
             0.1,
             "#c51b7d"
            ],
            [
             0.2,
             "#de77ae"
            ],
            [
             0.3,
             "#f1b6da"
            ],
            [
             0.4,
             "#fde0ef"
            ],
            [
             0.5,
             "#f7f7f7"
            ],
            [
             0.6,
             "#e6f5d0"
            ],
            [
             0.7,
             "#b8e186"
            ],
            [
             0.8,
             "#7fbc41"
            ],
            [
             0.9,
             "#4d9221"
            ],
            [
             1,
             "#276419"
            ]
           ],
           "sequential": [
            [
             0,
             "#0d0887"
            ],
            [
             0.1111111111111111,
             "#46039f"
            ],
            [
             0.2222222222222222,
             "#7201a8"
            ],
            [
             0.3333333333333333,
             "#9c179e"
            ],
            [
             0.4444444444444444,
             "#bd3786"
            ],
            [
             0.5555555555555556,
             "#d8576b"
            ],
            [
             0.6666666666666666,
             "#ed7953"
            ],
            [
             0.7777777777777778,
             "#fb9f3a"
            ],
            [
             0.8888888888888888,
             "#fdca26"
            ],
            [
             1,
             "#f0f921"
            ]
           ],
           "sequentialminus": [
            [
             0,
             "#0d0887"
            ],
            [
             0.1111111111111111,
             "#46039f"
            ],
            [
             0.2222222222222222,
             "#7201a8"
            ],
            [
             0.3333333333333333,
             "#9c179e"
            ],
            [
             0.4444444444444444,
             "#bd3786"
            ],
            [
             0.5555555555555556,
             "#d8576b"
            ],
            [
             0.6666666666666666,
             "#ed7953"
            ],
            [
             0.7777777777777778,
             "#fb9f3a"
            ],
            [
             0.8888888888888888,
             "#fdca26"
            ],
            [
             1,
             "#f0f921"
            ]
           ]
          },
          "colorway": [
           "#636efa",
           "#EF553B",
           "#00cc96",
           "#ab63fa",
           "#FFA15A",
           "#19d3f3",
           "#FF6692",
           "#B6E880",
           "#FF97FF",
           "#FECB52"
          ],
          "font": {
           "color": "#2a3f5f"
          },
          "geo": {
           "bgcolor": "white",
           "lakecolor": "white",
           "landcolor": "#E5ECF6",
           "showlakes": true,
           "showland": true,
           "subunitcolor": "white"
          },
          "hoverlabel": {
           "align": "left"
          },
          "hovermode": "closest",
          "mapbox": {
           "style": "light"
          },
          "paper_bgcolor": "white",
          "plot_bgcolor": "#E5ECF6",
          "polar": {
           "angularaxis": {
            "gridcolor": "white",
            "linecolor": "white",
            "ticks": ""
           },
           "bgcolor": "#E5ECF6",
           "radialaxis": {
            "gridcolor": "white",
            "linecolor": "white",
            "ticks": ""
           }
          },
          "scene": {
           "xaxis": {
            "backgroundcolor": "#E5ECF6",
            "gridcolor": "white",
            "gridwidth": 2,
            "linecolor": "white",
            "showbackground": true,
            "ticks": "",
            "zerolinecolor": "white"
           },
           "yaxis": {
            "backgroundcolor": "#E5ECF6",
            "gridcolor": "white",
            "gridwidth": 2,
            "linecolor": "white",
            "showbackground": true,
            "ticks": "",
            "zerolinecolor": "white"
           },
           "zaxis": {
            "backgroundcolor": "#E5ECF6",
            "gridcolor": "white",
            "gridwidth": 2,
            "linecolor": "white",
            "showbackground": true,
            "ticks": "",
            "zerolinecolor": "white"
           }
          },
          "shapedefaults": {
           "line": {
            "color": "#2a3f5f"
           }
          },
          "ternary": {
           "aaxis": {
            "gridcolor": "white",
            "linecolor": "white",
            "ticks": ""
           },
           "baxis": {
            "gridcolor": "white",
            "linecolor": "white",
            "ticks": ""
           },
           "bgcolor": "#E5ECF6",
           "caxis": {
            "gridcolor": "white",
            "linecolor": "white",
            "ticks": ""
           }
          },
          "title": {
           "x": 0.05
          },
          "xaxis": {
           "automargin": true,
           "gridcolor": "white",
           "linecolor": "white",
           "ticks": "",
           "title": {
            "standoff": 15
           },
           "zerolinecolor": "white",
           "zerolinewidth": 2
          },
          "yaxis": {
           "automargin": true,
           "gridcolor": "white",
           "linecolor": "white",
           "ticks": "",
           "title": {
            "standoff": 15
           },
           "zerolinecolor": "white",
           "zerolinewidth": 2
          }
         }
        },
        "xaxis": {
         "anchor": "y",
         "domain": [
          0,
          1
         ],
         "title": {
          "text": "month"
         }
        },
        "yaxis": {
         "anchor": "x",
         "domain": [
          0,
          1
         ],
         "title": {
          "text": "FTE"
         }
        }
       }
      }
     },
     "metadata": {},
     "output_type": "display_data"
    }
   ],
   "source": [
    "# px.bar(pd.read_csv('cptData/Municipal_WageBand_Monthly.csv'),x='TaxYear',y='Establishments',color='MultiEstInd')\n",
    "wageBand = pd.read_csv('cptData/Municipal_FTE_WageBand_Monthly.csv').dropna()\n",
    "px.bar(wageBand,x='month',y='FTE',color='RealWageBand')"
   ]
  },
  {
   "cell_type": "code",
   "execution_count": 215,
   "metadata": {},
   "outputs": [
    {
     "data": {
      "text/plain": [
       "TaxYear\n",
       "2014    40053.490104\n",
       "2015    42535.540410\n",
       "2016    44810.482789\n",
       "2017    44622.387091\n",
       "2018    46476.596892\n",
       "2019    47826.666928\n",
       "2020    49172.048278\n",
       "Name: Establishments, dtype: float64"
      ]
     },
     "execution_count": 215,
     "metadata": {},
     "output_type": "execute_result"
    }
   ],
   "source": [
    "firmSize= pd.read_csv('cptData/Municipal_Establishments_FirmSizeSARS.csv')\n",
    "px.line(firmSize,x='TaxYear',y='Establishments',color='FirmSizeSARS')\n",
    "firmSize.groupby('TaxYear')['Establishments'].sum()"
   ]
  },
  {
   "cell_type": "code",
   "execution_count": 218,
   "metadata": {},
   "outputs": [
    {
     "data": {
      "application/vnd.plotly.v1+json": {
       "config": {
        "plotlyServerURL": "https://plot.ly"
       },
       "data": [
        {
         "fillpattern": {
          "shape": ""
         },
         "hovertemplate": "EstablishmentSizeFTE=[0, 1)<br>TaxYear=%{x}<br>Establishments=%{y}<extra></extra>",
         "legendgroup": "[0, 1)",
         "line": {
          "color": "#636efa"
         },
         "marker": {
          "symbol": "circle"
         },
         "mode": "lines",
         "name": "[0, 1)",
         "orientation": "v",
         "showlegend": true,
         "stackgroup": "1",
         "type": "scatter",
         "x": [
          2014,
          2015,
          2016,
          2017,
          2018,
          2019,
          2020,
          2021,
          2022
         ],
         "xaxis": "x",
         "y": [
          7040.607462646321,
          7614.110583024605,
          8400.424395721973,
          7774.054785621531,
          8332.2931258565,
          8368.421749055773,
          8193.994951638308,
          8364.929076679344,
          6746.757590403167
         ],
         "yaxis": "y"
        },
        {
         "fillpattern": {
          "shape": ""
         },
         "hovertemplate": "EstablishmentSizeFTE=[1, 2)<br>TaxYear=%{x}<br>Establishments=%{y}<extra></extra>",
         "legendgroup": "[1, 2)",
         "line": {
          "color": "#EF553B"
         },
         "marker": {
          "symbol": "circle"
         },
         "mode": "lines",
         "name": "[1, 2)",
         "orientation": "v",
         "showlegend": true,
         "stackgroup": "1",
         "type": "scatter",
         "x": [
          2014,
          2015,
          2016,
          2017,
          2018,
          2019,
          2020,
          2021,
          2022
         ],
         "xaxis": "x",
         "y": [
          11559.064733763,
          12680.765217142976,
          12982.482702970132,
          13167.535004528863,
          13904.085497781389,
          15028.740608765258,
          15914.320917919498,
          16085.914018869167,
          15314.302467728168
         ],
         "yaxis": "y"
        },
        {
         "fillpattern": {
          "shape": ""
         },
         "hovertemplate": "EstablishmentSizeFTE=[2, 5)<br>TaxYear=%{x}<br>Establishments=%{y}<extra></extra>",
         "legendgroup": "[2, 5)",
         "line": {
          "color": "#00cc96"
         },
         "marker": {
          "symbol": "circle"
         },
         "mode": "lines",
         "name": "[2, 5)",
         "orientation": "v",
         "showlegend": true,
         "stackgroup": "1",
         "type": "scatter",
         "x": [
          2014,
          2015,
          2016,
          2017,
          2018,
          2019,
          2020,
          2021,
          2022
         ],
         "xaxis": "x",
         "y": [
          13955.249232461503,
          14797.004620354566,
          15225.651411161043,
          15371.324417973285,
          16010.315584405971,
          16525.505277984445,
          18332.19399546193,
          18423.78963815033,
          17952.618114933684
         ],
         "yaxis": "y"
        },
        {
         "fillpattern": {
          "shape": ""
         },
         "hovertemplate": "EstablishmentSizeFTE=[5, 10)<br>TaxYear=%{x}<br>Establishments=%{y}<extra></extra>",
         "legendgroup": "[5, 10)",
         "line": {
          "color": "#ab63fa"
         },
         "marker": {
          "symbol": "circle"
         },
         "mode": "lines",
         "name": "[5, 10)",
         "orientation": "v",
         "showlegend": true,
         "stackgroup": "1",
         "type": "scatter",
         "x": [
          2014,
          2015,
          2016,
          2017,
          2018,
          2019,
          2020,
          2021,
          2022
         ],
         "xaxis": "x",
         "y": [
          8535.609930593953,
          8944.79518457059,
          9046.845250855496,
          8998.396497171916,
          9173.827263477544,
          9608.181700055386,
          10382.71263473747,
          10231.377849695467,
          9883.438099607558
         ],
         "yaxis": "y"
        },
        {
         "fillpattern": {
          "shape": ""
         },
         "hovertemplate": "EstablishmentSizeFTE=[10, 20)<br>TaxYear=%{x}<br>Establishments=%{y}<extra></extra>",
         "legendgroup": "[10, 20)",
         "line": {
          "color": "#FFA15A"
         },
         "marker": {
          "symbol": "circle"
         },
         "mode": "lines",
         "name": "[10, 20)",
         "orientation": "v",
         "showlegend": true,
         "stackgroup": "1",
         "type": "scatter",
         "x": [
          2014,
          2015,
          2016,
          2017,
          2018,
          2019,
          2020,
          2021,
          2022
         ],
         "xaxis": "x",
         "y": [
          5826.361930295838,
          6006.313120405757,
          6027.181878331109,
          6104.325315713552,
          6310.570176716422,
          6455.36434186424,
          6867.412730753921,
          6691.164194874633,
          6442.241629065123
         ],
         "yaxis": "y"
        },
        {
         "fillpattern": {
          "shape": ""
         },
         "hovertemplate": "EstablishmentSizeFTE=[20, 50)<br>TaxYear=%{x}<br>Establishments=%{y}<extra></extra>",
         "legendgroup": "[20, 50)",
         "line": {
          "color": "#19d3f3"
         },
         "marker": {
          "symbol": "circle"
         },
         "mode": "lines",
         "name": "[20, 50)",
         "orientation": "v",
         "showlegend": true,
         "stackgroup": "1",
         "type": "scatter",
         "x": [
          2014,
          2015,
          2016,
          2017,
          2018,
          2019,
          2020,
          2021,
          2022
         ],
         "xaxis": "x",
         "y": [
          4370.676760036992,
          4453.724342055733,
          4672.307509683707,
          4806.314855393028,
          4925.896586677939,
          4973.306692847799,
          5259.465967170204,
          5053.857753448714,
          5103.027634455793
         ],
         "yaxis": "y"
        },
        {
         "fillpattern": {
          "shape": ""
         },
         "hovertemplate": "EstablishmentSizeFTE=[50, 100)<br>TaxYear=%{x}<br>Establishments=%{y}<extra></extra>",
         "legendgroup": "[50, 100)",
         "line": {
          "color": "#FF6692"
         },
         "marker": {
          "symbol": "circle"
         },
         "mode": "lines",
         "name": "[50, 100)",
         "orientation": "v",
         "showlegend": true,
         "stackgroup": "1",
         "type": "scatter",
         "x": [
          2014,
          2015,
          2016,
          2017,
          2018,
          2019,
          2020,
          2021,
          2022
         ],
         "xaxis": "x",
         "y": [
          1555.1357975996432,
          1603.68237467054,
          1694.5430592800658,
          1708.1016801030107,
          1799.3625091306012,
          1872.005555215827,
          1862.728649322201,
          1743.8458190566482,
          1684.936000441841
         ],
         "yaxis": "y"
        },
        {
         "fillpattern": {
          "shape": ""
         },
         "hovertemplate": "EstablishmentSizeFTE=[100, 250)<br>TaxYear=%{x}<br>Establishments=%{y}<extra></extra>",
         "legendgroup": "[100, 250)",
         "line": {
          "color": "#B6E880"
         },
         "marker": {
          "symbol": "circle"
         },
         "mode": "lines",
         "name": "[100, 250)",
         "orientation": "v",
         "showlegend": true,
         "stackgroup": "1",
         "type": "scatter",
         "x": [
          2014,
          2015,
          2016,
          2017,
          2018,
          2019,
          2020,
          2021,
          2022
         ],
         "xaxis": "x",
         "y": [
          922.12560362788,
          961.001093475458,
          974.8283651876494,
          1015.0451662310124,
          1038.289729893863,
          1039.4105512433405,
          1067.4692124824387,
          977.7258751101176,
          994.5067845041456
         ],
         "yaxis": "y"
        },
        {
         "fillpattern": {
          "shape": ""
         },
         "hovertemplate": "EstablishmentSizeFTE=[250, 500)<br>TaxYear=%{x}<br>Establishments=%{y}<extra></extra>",
         "legendgroup": "[250, 500)",
         "line": {
          "color": "#FF97FF"
         },
         "marker": {
          "symbol": "circle"
         },
         "mode": "lines",
         "name": "[250, 500)",
         "orientation": "v",
         "showlegend": true,
         "stackgroup": "1",
         "type": "scatter",
         "x": [
          2014,
          2015,
          2016,
          2017,
          2018,
          2019,
          2020,
          2021,
          2022
         ],
         "xaxis": "x",
         "y": [
          262.37599771620825,
          301.24441143091843,
          294.3812321594542,
          302.3527091443284,
          313.22112285903864,
          294.23412397704215,
          292.3658663392874,
          293.1770172912995,
          284.18122098790724
         ],
         "yaxis": "y"
        },
        {
         "fillpattern": {
          "shape": ""
         },
         "hovertemplate": "EstablishmentSizeFTE=[500, 200000)<br>TaxYear=%{x}<br>Establishments=%{y}<extra></extra>",
         "legendgroup": "[500, 200000)",
         "line": {
          "color": "#FECB52"
         },
         "marker": {
          "symbol": "circle"
         },
         "mode": "lines",
         "name": "[500, 200000)",
         "orientation": "v",
         "showlegend": true,
         "stackgroup": "1",
         "type": "scatter",
         "x": [
          2014,
          2015,
          2016,
          2017,
          2018,
          2019,
          2020,
          2021,
          2022
         ],
         "xaxis": "x",
         "y": [
          218.7427917955109,
          228.6385294132868,
          245.5270600546216,
          248.50679259394715,
          233.59696340478496,
          243.60475976265735,
          260.5191012147479,
          242.58809641564125,
          233.6326319116462
         ],
         "yaxis": "y"
        }
       ],
       "layout": {
        "legend": {
         "title": {
          "text": "EstablishmentSizeFTE"
         },
         "tracegroupgap": 0
        },
        "margin": {
         "t": 60
        },
        "template": {
         "data": {
          "bar": [
           {
            "error_x": {
             "color": "#2a3f5f"
            },
            "error_y": {
             "color": "#2a3f5f"
            },
            "marker": {
             "line": {
              "color": "#E5ECF6",
              "width": 0.5
             },
             "pattern": {
              "fillmode": "overlay",
              "size": 10,
              "solidity": 0.2
             }
            },
            "type": "bar"
           }
          ],
          "barpolar": [
           {
            "marker": {
             "line": {
              "color": "#E5ECF6",
              "width": 0.5
             },
             "pattern": {
              "fillmode": "overlay",
              "size": 10,
              "solidity": 0.2
             }
            },
            "type": "barpolar"
           }
          ],
          "carpet": [
           {
            "aaxis": {
             "endlinecolor": "#2a3f5f",
             "gridcolor": "white",
             "linecolor": "white",
             "minorgridcolor": "white",
             "startlinecolor": "#2a3f5f"
            },
            "baxis": {
             "endlinecolor": "#2a3f5f",
             "gridcolor": "white",
             "linecolor": "white",
             "minorgridcolor": "white",
             "startlinecolor": "#2a3f5f"
            },
            "type": "carpet"
           }
          ],
          "choropleth": [
           {
            "colorbar": {
             "outlinewidth": 0,
             "ticks": ""
            },
            "type": "choropleth"
           }
          ],
          "contour": [
           {
            "colorbar": {
             "outlinewidth": 0,
             "ticks": ""
            },
            "colorscale": [
             [
              0,
              "#0d0887"
             ],
             [
              0.1111111111111111,
              "#46039f"
             ],
             [
              0.2222222222222222,
              "#7201a8"
             ],
             [
              0.3333333333333333,
              "#9c179e"
             ],
             [
              0.4444444444444444,
              "#bd3786"
             ],
             [
              0.5555555555555556,
              "#d8576b"
             ],
             [
              0.6666666666666666,
              "#ed7953"
             ],
             [
              0.7777777777777778,
              "#fb9f3a"
             ],
             [
              0.8888888888888888,
              "#fdca26"
             ],
             [
              1,
              "#f0f921"
             ]
            ],
            "type": "contour"
           }
          ],
          "contourcarpet": [
           {
            "colorbar": {
             "outlinewidth": 0,
             "ticks": ""
            },
            "type": "contourcarpet"
           }
          ],
          "heatmap": [
           {
            "colorbar": {
             "outlinewidth": 0,
             "ticks": ""
            },
            "colorscale": [
             [
              0,
              "#0d0887"
             ],
             [
              0.1111111111111111,
              "#46039f"
             ],
             [
              0.2222222222222222,
              "#7201a8"
             ],
             [
              0.3333333333333333,
              "#9c179e"
             ],
             [
              0.4444444444444444,
              "#bd3786"
             ],
             [
              0.5555555555555556,
              "#d8576b"
             ],
             [
              0.6666666666666666,
              "#ed7953"
             ],
             [
              0.7777777777777778,
              "#fb9f3a"
             ],
             [
              0.8888888888888888,
              "#fdca26"
             ],
             [
              1,
              "#f0f921"
             ]
            ],
            "type": "heatmap"
           }
          ],
          "heatmapgl": [
           {
            "colorbar": {
             "outlinewidth": 0,
             "ticks": ""
            },
            "colorscale": [
             [
              0,
              "#0d0887"
             ],
             [
              0.1111111111111111,
              "#46039f"
             ],
             [
              0.2222222222222222,
              "#7201a8"
             ],
             [
              0.3333333333333333,
              "#9c179e"
             ],
             [
              0.4444444444444444,
              "#bd3786"
             ],
             [
              0.5555555555555556,
              "#d8576b"
             ],
             [
              0.6666666666666666,
              "#ed7953"
             ],
             [
              0.7777777777777778,
              "#fb9f3a"
             ],
             [
              0.8888888888888888,
              "#fdca26"
             ],
             [
              1,
              "#f0f921"
             ]
            ],
            "type": "heatmapgl"
           }
          ],
          "histogram": [
           {
            "marker": {
             "pattern": {
              "fillmode": "overlay",
              "size": 10,
              "solidity": 0.2
             }
            },
            "type": "histogram"
           }
          ],
          "histogram2d": [
           {
            "colorbar": {
             "outlinewidth": 0,
             "ticks": ""
            },
            "colorscale": [
             [
              0,
              "#0d0887"
             ],
             [
              0.1111111111111111,
              "#46039f"
             ],
             [
              0.2222222222222222,
              "#7201a8"
             ],
             [
              0.3333333333333333,
              "#9c179e"
             ],
             [
              0.4444444444444444,
              "#bd3786"
             ],
             [
              0.5555555555555556,
              "#d8576b"
             ],
             [
              0.6666666666666666,
              "#ed7953"
             ],
             [
              0.7777777777777778,
              "#fb9f3a"
             ],
             [
              0.8888888888888888,
              "#fdca26"
             ],
             [
              1,
              "#f0f921"
             ]
            ],
            "type": "histogram2d"
           }
          ],
          "histogram2dcontour": [
           {
            "colorbar": {
             "outlinewidth": 0,
             "ticks": ""
            },
            "colorscale": [
             [
              0,
              "#0d0887"
             ],
             [
              0.1111111111111111,
              "#46039f"
             ],
             [
              0.2222222222222222,
              "#7201a8"
             ],
             [
              0.3333333333333333,
              "#9c179e"
             ],
             [
              0.4444444444444444,
              "#bd3786"
             ],
             [
              0.5555555555555556,
              "#d8576b"
             ],
             [
              0.6666666666666666,
              "#ed7953"
             ],
             [
              0.7777777777777778,
              "#fb9f3a"
             ],
             [
              0.8888888888888888,
              "#fdca26"
             ],
             [
              1,
              "#f0f921"
             ]
            ],
            "type": "histogram2dcontour"
           }
          ],
          "mesh3d": [
           {
            "colorbar": {
             "outlinewidth": 0,
             "ticks": ""
            },
            "type": "mesh3d"
           }
          ],
          "parcoords": [
           {
            "line": {
             "colorbar": {
              "outlinewidth": 0,
              "ticks": ""
             }
            },
            "type": "parcoords"
           }
          ],
          "pie": [
           {
            "automargin": true,
            "type": "pie"
           }
          ],
          "scatter": [
           {
            "fillpattern": {
             "fillmode": "overlay",
             "size": 10,
             "solidity": 0.2
            },
            "type": "scatter"
           }
          ],
          "scatter3d": [
           {
            "line": {
             "colorbar": {
              "outlinewidth": 0,
              "ticks": ""
             }
            },
            "marker": {
             "colorbar": {
              "outlinewidth": 0,
              "ticks": ""
             }
            },
            "type": "scatter3d"
           }
          ],
          "scattercarpet": [
           {
            "marker": {
             "colorbar": {
              "outlinewidth": 0,
              "ticks": ""
             }
            },
            "type": "scattercarpet"
           }
          ],
          "scattergeo": [
           {
            "marker": {
             "colorbar": {
              "outlinewidth": 0,
              "ticks": ""
             }
            },
            "type": "scattergeo"
           }
          ],
          "scattergl": [
           {
            "marker": {
             "colorbar": {
              "outlinewidth": 0,
              "ticks": ""
             }
            },
            "type": "scattergl"
           }
          ],
          "scattermapbox": [
           {
            "marker": {
             "colorbar": {
              "outlinewidth": 0,
              "ticks": ""
             }
            },
            "type": "scattermapbox"
           }
          ],
          "scatterpolar": [
           {
            "marker": {
             "colorbar": {
              "outlinewidth": 0,
              "ticks": ""
             }
            },
            "type": "scatterpolar"
           }
          ],
          "scatterpolargl": [
           {
            "marker": {
             "colorbar": {
              "outlinewidth": 0,
              "ticks": ""
             }
            },
            "type": "scatterpolargl"
           }
          ],
          "scatterternary": [
           {
            "marker": {
             "colorbar": {
              "outlinewidth": 0,
              "ticks": ""
             }
            },
            "type": "scatterternary"
           }
          ],
          "surface": [
           {
            "colorbar": {
             "outlinewidth": 0,
             "ticks": ""
            },
            "colorscale": [
             [
              0,
              "#0d0887"
             ],
             [
              0.1111111111111111,
              "#46039f"
             ],
             [
              0.2222222222222222,
              "#7201a8"
             ],
             [
              0.3333333333333333,
              "#9c179e"
             ],
             [
              0.4444444444444444,
              "#bd3786"
             ],
             [
              0.5555555555555556,
              "#d8576b"
             ],
             [
              0.6666666666666666,
              "#ed7953"
             ],
             [
              0.7777777777777778,
              "#fb9f3a"
             ],
             [
              0.8888888888888888,
              "#fdca26"
             ],
             [
              1,
              "#f0f921"
             ]
            ],
            "type": "surface"
           }
          ],
          "table": [
           {
            "cells": {
             "fill": {
              "color": "#EBF0F8"
             },
             "line": {
              "color": "white"
             }
            },
            "header": {
             "fill": {
              "color": "#C8D4E3"
             },
             "line": {
              "color": "white"
             }
            },
            "type": "table"
           }
          ]
         },
         "layout": {
          "annotationdefaults": {
           "arrowcolor": "#2a3f5f",
           "arrowhead": 0,
           "arrowwidth": 1
          },
          "autotypenumbers": "strict",
          "coloraxis": {
           "colorbar": {
            "outlinewidth": 0,
            "ticks": ""
           }
          },
          "colorscale": {
           "diverging": [
            [
             0,
             "#8e0152"
            ],
            [
             0.1,
             "#c51b7d"
            ],
            [
             0.2,
             "#de77ae"
            ],
            [
             0.3,
             "#f1b6da"
            ],
            [
             0.4,
             "#fde0ef"
            ],
            [
             0.5,
             "#f7f7f7"
            ],
            [
             0.6,
             "#e6f5d0"
            ],
            [
             0.7,
             "#b8e186"
            ],
            [
             0.8,
             "#7fbc41"
            ],
            [
             0.9,
             "#4d9221"
            ],
            [
             1,
             "#276419"
            ]
           ],
           "sequential": [
            [
             0,
             "#0d0887"
            ],
            [
             0.1111111111111111,
             "#46039f"
            ],
            [
             0.2222222222222222,
             "#7201a8"
            ],
            [
             0.3333333333333333,
             "#9c179e"
            ],
            [
             0.4444444444444444,
             "#bd3786"
            ],
            [
             0.5555555555555556,
             "#d8576b"
            ],
            [
             0.6666666666666666,
             "#ed7953"
            ],
            [
             0.7777777777777778,
             "#fb9f3a"
            ],
            [
             0.8888888888888888,
             "#fdca26"
            ],
            [
             1,
             "#f0f921"
            ]
           ],
           "sequentialminus": [
            [
             0,
             "#0d0887"
            ],
            [
             0.1111111111111111,
             "#46039f"
            ],
            [
             0.2222222222222222,
             "#7201a8"
            ],
            [
             0.3333333333333333,
             "#9c179e"
            ],
            [
             0.4444444444444444,
             "#bd3786"
            ],
            [
             0.5555555555555556,
             "#d8576b"
            ],
            [
             0.6666666666666666,
             "#ed7953"
            ],
            [
             0.7777777777777778,
             "#fb9f3a"
            ],
            [
             0.8888888888888888,
             "#fdca26"
            ],
            [
             1,
             "#f0f921"
            ]
           ]
          },
          "colorway": [
           "#636efa",
           "#EF553B",
           "#00cc96",
           "#ab63fa",
           "#FFA15A",
           "#19d3f3",
           "#FF6692",
           "#B6E880",
           "#FF97FF",
           "#FECB52"
          ],
          "font": {
           "color": "#2a3f5f"
          },
          "geo": {
           "bgcolor": "white",
           "lakecolor": "white",
           "landcolor": "#E5ECF6",
           "showlakes": true,
           "showland": true,
           "subunitcolor": "white"
          },
          "hoverlabel": {
           "align": "left"
          },
          "hovermode": "closest",
          "mapbox": {
           "style": "light"
          },
          "paper_bgcolor": "white",
          "plot_bgcolor": "#E5ECF6",
          "polar": {
           "angularaxis": {
            "gridcolor": "white",
            "linecolor": "white",
            "ticks": ""
           },
           "bgcolor": "#E5ECF6",
           "radialaxis": {
            "gridcolor": "white",
            "linecolor": "white",
            "ticks": ""
           }
          },
          "scene": {
           "xaxis": {
            "backgroundcolor": "#E5ECF6",
            "gridcolor": "white",
            "gridwidth": 2,
            "linecolor": "white",
            "showbackground": true,
            "ticks": "",
            "zerolinecolor": "white"
           },
           "yaxis": {
            "backgroundcolor": "#E5ECF6",
            "gridcolor": "white",
            "gridwidth": 2,
            "linecolor": "white",
            "showbackground": true,
            "ticks": "",
            "zerolinecolor": "white"
           },
           "zaxis": {
            "backgroundcolor": "#E5ECF6",
            "gridcolor": "white",
            "gridwidth": 2,
            "linecolor": "white",
            "showbackground": true,
            "ticks": "",
            "zerolinecolor": "white"
           }
          },
          "shapedefaults": {
           "line": {
            "color": "#2a3f5f"
           }
          },
          "ternary": {
           "aaxis": {
            "gridcolor": "white",
            "linecolor": "white",
            "ticks": ""
           },
           "baxis": {
            "gridcolor": "white",
            "linecolor": "white",
            "ticks": ""
           },
           "bgcolor": "#E5ECF6",
           "caxis": {
            "gridcolor": "white",
            "linecolor": "white",
            "ticks": ""
           }
          },
          "title": {
           "x": 0.05
          },
          "xaxis": {
           "automargin": true,
           "gridcolor": "white",
           "linecolor": "white",
           "ticks": "",
           "title": {
            "standoff": 15
           },
           "zerolinecolor": "white",
           "zerolinewidth": 2
          },
          "yaxis": {
           "automargin": true,
           "gridcolor": "white",
           "linecolor": "white",
           "ticks": "",
           "title": {
            "standoff": 15
           },
           "zerolinecolor": "white",
           "zerolinewidth": 2
          }
         }
        },
        "xaxis": {
         "anchor": "y",
         "domain": [
          0,
          1
         ],
         "title": {
          "text": "TaxYear"
         }
        },
        "yaxis": {
         "anchor": "x",
         "domain": [
          0,
          1
         ],
         "title": {
          "text": "Establishments"
         }
        }
       }
      }
     },
     "metadata": {},
     "output_type": "display_data"
    }
   ],
   "source": [
    "firmSize= pd.read_csv('cptData/Municipal_Establishments_EstablishmentSizeFTE.csv')\n",
    "# px.line(firmSize,x='TaxYear',y='Establishments',color='FirmSizeSARS')\n",
    "# firmSize.groupby('TaxYear')['Establishments'].sum()\n",
    "px.area(firmSize,x='TaxYear',y='Establishments',color='EstablishmentSizeFTE')\n",
    "\n"
   ]
  },
  {
   "cell_type": "code",
   "execution_count": null,
   "metadata": {},
   "outputs": [],
   "source": [
    "import os\n",
    "import pandas as pd\n",
    "import plotly.express as px\n",
    "import numpy as np\n",
    "# from functions import pct_map\n",
    "\n",
    "# os.chdir(\"/data/workspace_files/\")\n",
    "df = pd.read_csv(\"cptData/sector_employment_growth.csv\")"
   ]
  },
  {
   "cell_type": "code",
   "execution_count": null,
   "metadata": {},
   "outputs": [],
   "source": [
    "import os\n",
    "import pandas as pd\n",
    "import plotly.express as px\n",
    "import numpy as np\n",
    "# from functions import pct_map\n",
    "\n",
    "# os.chdir(\"/data/workspace_files/\")\n",
    "df = pd.read_csv(\"cptData/sector_employment_growth.csv\")\n",
    "# print(df.head())\n",
    "\n",
    "df  = df[df.taxyear == 2018]\n",
    "\n",
    "\n",
    "c1Cdm = {'Trade, Repairs & Hospitality': '#c4d82d',\n",
    "         'Social Services': '#00afd5',\n",
    "         'Business Services': '#d80f81',\n",
    "         'Manufacturing': '#fdb813',\n",
    "         'Construction': '#38369A',\n",
    "         'Transport, Storage And Communication': '#FFA69E',\n",
    "         'Agriculture, Hunting, Forestry And Fishing': '#1F2041',\n",
    "         'Unclassified': '#B6A39E',\n",
    "         'Electricity, Gas And Water Supply': '#525B76',\n",
    "         'Mining And Quarrying': '#231F20',\n",
    "         'Private Households & Consulates': '#B6A39E'}\n",
    "\n",
    "df['direction'] = \"Growth\"\n",
    "df['direction'][df.cumulative_change < 0] = \"Decline\"\n",
    "\n",
    "df['% Growth'] = (df.cumulative_change / df.FTE) * 100\n",
    "df['CAGR'] = ((((df.cumulative_change / df.FTE)+1) ** 0.2) - 1) * 100\n",
    "\n",
    "df.CAGR[df.CAGR == df.CAGR.max()] = sorted(df.CAGR.unique())[-2]\n",
    "df.CAGR.fillna(df.CAGR.min(),inplace=True)\n",
    "\n",
    "\n",
    "df['abs_change'] = df.cumulative_change.abs()\n",
    "df['color'] = pct_map(df, groupVar='taxyear',rankVar=\"abs_change\")\n",
    "df['color'][df.direction == \"Decline\"] = df['color'] * (-1.0)\n",
    "\n",
    "df = df[df['abs_change'] > 0]\n",
    "# print(df)\n",
    "df.CAGR[df.CAGR > np.abs(df.CAGR.min())] = np.abs(df.CAGR.min())\n",
    "\n",
    "# df.dtypes\n",
    "fig = px.treemap(df, path=['direction','c5'], \n",
    "                 values='abs_change', \n",
    "                 color='CAGR',\n",
    "                title=\"City of Cape Town FTE by Sector 2018: 2D\",\n",
    "                # color_continuous_scale=[\"Red\",\"White\",\"Green\"],\n",
    "# range_color=[df.CAGR.min(),df.CAGR.max()],\n",
    "color_continuous_scale=\"RdYlGn\",\n",
    "hover_name='c5',\n",
    "hover_data={'abs_change':True,\n",
    "            'c1':True,\n",
    "\"FTE\":True,\n",
    "'% Growth':True},\n",
    "# color_discrete_sequence=['White'],\n",
    "\n",
    "        color_continuous_midpoint=0,\n",
    "\n",
    "                height=600, width=1000)\n",
    "fig.update_layout( title_x=0.5)\n",
    "fig.update_yaxes(automargin=True)\n",
    "fig.update_traces(textinfo='label')\n",
    "fig.show()"
   ]
  },
  {
   "cell_type": "code",
   "execution_count": 258,
   "metadata": {},
   "outputs": [],
   "source": [
    "\n",
    "sicCodes = pd.read_excel('keys/sic7codes_wide.xlsx')[[\"sic7_2d_numeric\",\"sic7_2d_description\"]]\n",
    "sicCodes.columns =  [\"SIC7_2d\",\"Description\"]\n",
    "\n",
    "# sicCodes['2d'] = pd.DataFrame(sicCodes.sic7_2d.str.split(\".\",expand=True)).iloc[:,1]\n",
    "sicCodes.set_index('SIC7_2d').to_csv('keys/sic7_2d_codes.csv')\n",
    "\n",
    "\n",
    "sicCodes = pd.read_excel('keys/sic7codes_wide.xlsx')[[\"sic7_5d_numeric\",\"sic7_5d_description\"]]\n",
    "sicCodes.columns =  [\"SIC7_5d\",\"Description\"]\n",
    "\n",
    "# sicCodes['2d'] = pd.DataFrame(sicCodes.sic7_2d.str.split(\".\",expand=True)).iloc[:,1]\n",
    "sicCodes.set_index('SIC7_5d').to_csv('keys/sic7_5d_codes.csv')"
   ]
  },
  {
   "cell_type": "code",
   "execution_count": 262,
   "metadata": {},
   "outputs": [
    {
     "name": "stdout",
     "output_type": "stream",
     "text": [
      "      TaxYear  SIC7_5d          FTE\n",
      "0        2014   1110.0  9136.703121\n",
      "506      2015   1110.0  1947.631981\n",
      "1015     2016   1110.0  2628.521157\n",
      "1526     2017   1110.0  1888.373978\n",
      "2041     2018   1110.0  1979.773384\n",
      "2557     2019   1110.0  2177.468250\n",
      "3073     2020   1110.0  2130.711443\n",
      "3587     2021   1110.0  1624.915412\n",
      "4104     2022   1110.0  1517.783038\n",
      "      TaxYear  SIC7_5d         FTE\n",
      "1        2014   1120.0   57.060274\n",
      "507      2015   1120.0   19.405459\n",
      "1016     2016   1120.0   55.847491\n",
      "1527     2017   1120.0   86.812663\n",
      "2042     2018   1120.0  126.070362\n",
      "2558     2019   1120.0  250.920464\n",
      "3074     2020   1120.0  262.868458\n",
      "3588     2021   1120.0  537.638023\n",
      "4105     2022   1120.0  555.695676\n",
      "      TaxYear  SIC7_5d          FTE\n",
      "2        2014   1130.0  1891.993042\n",
      "508      2015   1130.0  1903.905873\n",
      "1017     2016   1130.0  1542.748230\n",
      "1528     2017   1130.0  1892.005120\n",
      "2043     2018   1130.0  2096.632358\n",
      "2559     2019   1130.0  2367.918157\n",
      "3075     2020   1130.0  2432.209122\n",
      "3589     2021   1130.0  2240.246338\n",
      "4106     2022   1130.0  2046.283240\n",
      "      TaxYear  SIC7_5d        FTE\n",
      "3        2014   1140.0   0.000000\n",
      "509      2015   1140.0   0.000000\n",
      "1018     2016   1140.0   0.000000\n",
      "1529     2017   1140.0  78.629902\n",
      "2044     2018   1140.0  78.301882\n",
      "2560     2019   1140.0  67.539314\n",
      "3076     2020   1140.0  80.998876\n",
      "3590     2021   1140.0  65.165115\n",
      "4107     2022   1140.0  59.051051\n",
      "      TaxYear  SIC7_5d        FTE\n",
      "4        2014   1150.0  20.928767\n",
      "510      2015   1150.0  21.415285\n",
      "1019     2016   1150.0  35.081967\n",
      "1530     2017   1150.0  37.800000\n",
      "2045     2018   1150.0  27.909589\n",
      "2561     2019   1150.0  23.325525\n",
      "3077     2020   1150.0  22.738886\n",
      "3591     2021   1150.0  12.797260\n",
      "4108     2022   1150.0   0.000000\n",
      "      TaxYear  SIC7_5d        FTE\n",
      "5        2014   1160.0   0.000000\n",
      "511      2015   1160.0  19.851316\n",
      "1020     2016   1160.0  86.436502\n",
      "1531     2017   1160.0  77.508858\n",
      "2046     2018   1160.0  33.128767\n",
      "2562     2019   1160.0  44.925555\n",
      "3078     2020   1160.0  42.833333\n",
      "3592     2021   1160.0  27.866968\n",
      "4109     2022   1160.0  45.512403\n",
      "      TaxYear  SIC7_5d        FTE\n",
      "6        2014   1190.0  32.688377\n",
      "512      2015   1190.0  15.867358\n",
      "1021     2016   1190.0  22.524427\n",
      "1532     2017   1190.0  34.008798\n",
      "2047     2018   1190.0  57.220924\n",
      "2563     2019   1190.0  77.821742\n",
      "3079     2020   1190.0  73.949065\n",
      "3593     2021   1190.0  77.595565\n",
      "4110     2022   1190.0  68.559161\n",
      "      TaxYear  SIC7_5d          FTE\n",
      "7        2014   1210.0  1970.115317\n",
      "513      2015   1210.0  3300.445749\n",
      "1022     2016   1210.0  3465.535060\n",
      "1533     2017   1210.0  3581.110094\n",
      "2048     2018   1210.0  3842.803256\n",
      "2564     2019   1210.0  3061.281585\n",
      "3080     2020   1210.0  3082.573847\n",
      "3594     2021   1210.0  2804.645032\n",
      "4111     2022   1210.0  2349.718087\n",
      "      TaxYear  SIC7_5d         FTE\n",
      "8        2014   1220.0  102.927483\n",
      "514      2015   1220.0  138.119359\n",
      "1023     2016   1220.0  166.224288\n",
      "1534     2017   1220.0  170.714867\n",
      "2049     2018   1220.0  204.434431\n",
      "2565     2019   1220.0  451.357120\n",
      "3081     2020   1220.0  157.883961\n",
      "3595     2021   1220.0  189.641228\n",
      "4112     2022   1220.0  129.016340\n",
      "      TaxYear  SIC7_5d          FTE\n",
      "9        2014   1230.0   200.555003\n",
      "515      2015   1230.0    96.281438\n",
      "1024     2016   1230.0   517.724822\n",
      "1535     2017   1230.0   596.982842\n",
      "2050     2018   1230.0   983.460816\n",
      "2566     2019   1230.0  1244.260763\n",
      "3082     2020   1230.0  1056.965868\n",
      "3596     2021   1230.0  1868.875715\n",
      "4113     2022   1230.0  1072.190895\n",
      "      TaxYear  SIC7_5d          FTE\n",
      "10       2014   1240.0   623.605666\n",
      "516      2015   1240.0   462.738404\n",
      "1025     2016   1240.0   161.705532\n",
      "1536     2017   1240.0   185.180779\n",
      "2051     2018   1240.0   171.682480\n",
      "2567     2019   1240.0   187.668063\n",
      "3083     2020   1240.0   212.392310\n",
      "3597     2021   1240.0   812.775408\n",
      "4114     2022   1240.0  1057.232150\n",
      "      TaxYear  SIC7_5d         FTE\n",
      "11       2014   1250.0   87.616299\n",
      "517      2015   1250.0   68.689961\n",
      "1026     2016   1250.0   44.019297\n",
      "1537     2017   1250.0   57.640494\n",
      "2052     2018   1250.0  100.083762\n",
      "2568     2019   1250.0  103.383738\n",
      "3084     2020   1250.0   44.997933\n",
      "3598     2021   1250.0   50.779181\n",
      "4115     2022   1250.0   71.539814\n",
      "      TaxYear  SIC7_5d        FTE\n",
      "12       2014   1260.0  31.712329\n",
      "518      2015   1260.0  45.676712\n",
      "1027     2016   1260.0  43.326034\n",
      "1538     2017   1260.0  48.403523\n",
      "2053     2018   1260.0  50.578033\n",
      "2569     2019   1260.0  58.747443\n",
      "3085     2020   1260.0  55.827180\n",
      "3599     2021   1260.0  51.126150\n",
      "4116     2022   1260.0  44.726027\n",
      "      TaxYear  SIC7_5d        FTE\n",
      "13       2014   1270.0   0.000000\n",
      "519      2015   1270.0  13.429518\n",
      "1028     2016   1270.0   0.000000\n",
      "1539     2017   1270.0  11.364693\n",
      "2054     2018   1270.0  18.703216\n",
      "2570     2019   1270.0  19.557799\n",
      "3086     2020   1270.0  27.915916\n",
      "3600     2021   1270.0  35.153278\n",
      "4117     2022   1270.0  31.230048\n",
      "      TaxYear  SIC7_5d        FTE\n",
      "14       2014   1280.0   0.000000\n",
      "520      2015   1280.0   0.000000\n",
      "1029     2016   1280.0   0.000000\n",
      "1540     2017   1280.0  13.813717\n",
      "2055     2018   1280.0  61.066421\n",
      "2571     2019   1280.0  50.546020\n",
      "3087     2020   1280.0  47.647150\n",
      "3601     2021   1280.0  45.312329\n",
      "4118     2022   1280.0  31.810959\n",
      "      TaxYear  SIC7_5d         FTE\n",
      "15       2014   1290.0  180.077576\n",
      "521      2015   1290.0  101.946377\n",
      "1030     2016   1290.0  208.972041\n",
      "1541     2017   1290.0  216.174204\n",
      "2056     2018   1290.0  278.503913\n",
      "2572     2019   1290.0  145.298569\n",
      "3088     2020   1290.0  147.208075\n",
      "3602     2021   1290.0  265.027964\n",
      "4119     2022   1290.0  263.264010\n",
      "      TaxYear  SIC7_5d         FTE\n",
      "16       2014   1300.0  382.326990\n",
      "522      2015   1300.0  406.759887\n",
      "1031     2016   1300.0  464.112166\n",
      "1542     2017   1300.0  341.270493\n",
      "2057     2018   1300.0  478.686122\n",
      "2573     2019   1300.0  486.638778\n",
      "3089     2020   1300.0  600.583685\n",
      "3603     2021   1300.0  554.794030\n",
      "4120     2022   1300.0  627.975932\n",
      "      TaxYear  SIC7_5d         FTE\n",
      "17       2014   1410.0  133.592727\n",
      "523      2015   1410.0   73.860410\n",
      "1032     2016   1410.0   89.403006\n",
      "1543     2017   1410.0   96.284493\n",
      "2058     2018   1410.0   65.872625\n",
      "2574     2019   1410.0   54.511136\n",
      "3090     2020   1410.0   65.872792\n",
      "3604     2021   1410.0   33.925585\n",
      "4121     2022   1410.0   22.859297\n",
      "      TaxYear  SIC7_5d         FTE\n",
      "18       2014   1420.0   68.553425\n",
      "524      2015   1420.0   87.805644\n",
      "1033     2016   1420.0  133.108988\n",
      "1544     2017   1420.0   74.350653\n",
      "2059     2018   1420.0  104.662456\n",
      "2575     2019   1420.0   87.652923\n",
      "3091     2020   1420.0  109.553728\n",
      "3605     2021   1420.0  125.493066\n",
      "4122     2022   1420.0  139.943546\n",
      "      TaxYear  SIC7_5d        FTE\n",
      "19       2014   1440.0  37.032373\n",
      "526      2015   1440.0  18.198542\n",
      "1035     2016   1440.0  33.909977\n",
      "1546     2017   1440.0  19.174733\n",
      "2061     2018   1440.0  23.180711\n",
      "2577     2019   1440.0  79.787997\n",
      "3093     2020   1440.0  65.229414\n",
      "3607     2021   1440.0  30.417968\n",
      "4124     2022   1440.0  16.410052\n",
      "      TaxYear  SIC7_5d        FTE\n",
      "20       2014   1450.0  35.410650\n",
      "527      2015   1450.0  22.186578\n",
      "1036     2016   1450.0  45.944217\n",
      "1547     2017   1450.0  30.390405\n",
      "2062     2018   1450.0  53.143392\n",
      "2578     2019   1450.0  36.978803\n",
      "3094     2020   1450.0  45.260231\n",
      "3608     2021   1450.0  54.942776\n",
      "4125     2022   1450.0  36.656769\n",
      "      TaxYear  SIC7_5d          FTE\n",
      "21       2014   1460.0  2940.982229\n",
      "528      2015   1460.0  1815.711702\n",
      "1037     2016   1460.0  2198.292251\n",
      "1548     2017   1460.0  1243.645353\n",
      "2063     2018   1460.0  2300.624724\n",
      "2579     2019   1460.0  2484.760980\n",
      "3095     2020   1460.0  2490.689675\n",
      "3609     2021   1460.0  2293.284268\n",
      "4126     2022   1460.0  2297.378252\n",
      "      TaxYear  SIC7_5d         FTE\n",
      "22       2014   1490.0   72.387440\n",
      "529      2015   1490.0   40.214848\n",
      "1038     2016   1490.0   34.402007\n",
      "1549     2017   1490.0   58.174602\n",
      "2064     2018   1490.0   62.064511\n",
      "2580     2019   1490.0   87.131324\n",
      "3096     2020   1490.0   96.690101\n",
      "3610     2021   1490.0   94.297220\n",
      "4127     2022   1490.0  126.319314\n",
      "      TaxYear  SIC7_5d          FTE\n",
      "23       2014   1500.0  1678.649445\n",
      "530      2015   1500.0  1816.791615\n",
      "1039     2016   1500.0  1935.176899\n",
      "1550     2017   1500.0  1978.366391\n",
      "2065     2018   1500.0  1859.506494\n",
      "2581     2019   1500.0  1607.914179\n",
      "3097     2020   1500.0  1915.808178\n",
      "3611     2021   1500.0  1859.005445\n",
      "4128     2022   1500.0  1883.337849\n",
      "      TaxYear  SIC7_5d         FTE\n",
      "24       2014   1610.0  509.830034\n",
      "531      2015   1610.0  399.965432\n",
      "1040     2016   1610.0  366.055877\n",
      "1551     2017   1610.0  351.038204\n",
      "2066     2018   1610.0  458.240498\n",
      "2582     2019   1610.0  471.925840\n",
      "3098     2020   1610.0  532.985023\n",
      "3612     2021   1610.0  550.518531\n",
      "4129     2022   1610.0  502.201518\n",
      "      TaxYear  SIC7_5d          FTE\n",
      "25       2014   1620.0    50.423504\n",
      "532      2015   1620.0    57.656566\n",
      "1041     2016   1620.0    66.332566\n",
      "1552     2017   1620.0   104.849028\n",
      "2067     2018   1620.0   103.274485\n",
      "2583     2019   1620.0   113.255929\n",
      "3099     2020   1620.0   103.601360\n",
      "3613     2021   1620.0   110.904513\n",
      "4130     2022   1620.0  1417.499908\n",
      "      TaxYear  SIC7_5d         FTE\n",
      "26       2014   1630.0  282.512734\n",
      "533      2015   1630.0  313.601534\n",
      "1042     2016   1630.0  332.337096\n",
      "1553     2017   1630.0  312.626282\n",
      "2068     2018   1630.0  299.652502\n",
      "2584     2019   1630.0  298.527410\n",
      "3100     2020   1630.0  258.362891\n",
      "3614     2021   1630.0  346.268724\n",
      "4131     2022   1630.0  676.508823\n",
      "      TaxYear  SIC7_5d         FTE\n",
      "27       2014   1640.0  159.183830\n",
      "534      2015   1640.0  156.189309\n",
      "1043     2016   1640.0  178.152836\n",
      "1554     2017   1640.0  187.640728\n",
      "2069     2018   1640.0  209.577714\n",
      "2585     2019   1640.0  142.651687\n",
      "3101     2020   1640.0  149.862305\n",
      "3615     2021   1640.0  152.223158\n",
      "4132     2022   1640.0  132.187709\n",
      "      TaxYear  SIC7_5d        FTE\n",
      "28       2014   1700.0  48.209525\n",
      "535      2015   1700.0  44.682257\n",
      "1044     2016   1700.0  59.726521\n",
      "1555     2017   1700.0  61.441823\n",
      "2070     2018   1700.0  80.964384\n",
      "2586     2019   1700.0  83.045535\n",
      "3102     2020   1700.0  42.928962\n",
      "3616     2021   1700.0  51.117808\n",
      "4133     2022   1700.0  61.723288\n",
      "      TaxYear  SIC7_5d         FTE\n",
      "29       2014   2100.0  199.178153\n",
      "536      2015   2100.0  194.891714\n",
      "1045     2016   2100.0  205.367119\n",
      "1556     2017   2100.0  196.462961\n",
      "2071     2018   2100.0  320.816607\n",
      "2587     2019   2100.0  264.584471\n",
      "3103     2020   2100.0  233.793278\n",
      "3617     2021   2100.0  195.038356\n",
      "4134     2022   2100.0  228.451553\n",
      "      TaxYear  SIC7_5d         FTE\n",
      "30       2014   2200.0  106.434846\n",
      "537      2015   2200.0  126.969667\n",
      "1046     2016   2200.0  125.675787\n",
      "1557     2017   2200.0  144.039851\n",
      "2072     2018   2200.0  210.717907\n",
      "2588     2019   2200.0  168.216718\n",
      "3104     2020   2200.0  192.254457\n",
      "3618     2021   2200.0  174.024964\n",
      "4135     2022   2200.0  197.566838\n",
      "      TaxYear  SIC7_5d  FTE\n",
      "31       2014   2300.0  0.0\n",
      "1047     2016   2300.0  0.0\n",
      "1558     2017   2300.0  0.0\n",
      "2073     2018   2300.0  0.0\n",
      "2589     2019   2300.0  0.0\n",
      "3619     2021   2300.0  0.0\n",
      "      TaxYear  SIC7_5d         FTE\n",
      "32       2014   2400.0  183.782304\n",
      "538      2015   2400.0  212.120517\n",
      "1048     2016   2400.0  193.100595\n",
      "1559     2017   2400.0  174.870168\n",
      "2074     2018   2400.0  156.631508\n",
      "2590     2019   2400.0  243.511910\n",
      "3105     2020   2400.0  350.254006\n",
      "3620     2021   2400.0  301.863038\n",
      "4136     2022   2400.0  175.840567\n",
      "      TaxYear  SIC7_5d          FTE\n",
      "33       2014   3110.0  5231.106697\n",
      "539      2015   3110.0  6193.747943\n",
      "1049     2016   3110.0  4885.575927\n",
      "1560     2017   3110.0  5165.023888\n",
      "2075     2018   3110.0  5112.825077\n",
      "2591     2019   3110.0  3881.829153\n",
      "3106     2020   3110.0  4232.103618\n",
      "3621     2021   3110.0  5948.645578\n",
      "4137     2022   3110.0  4317.235321\n",
      "      TaxYear  SIC7_5d         FTE\n",
      "34       2014   3120.0   47.739726\n",
      "540      2015   3120.0   48.781284\n",
      "1050     2016   3120.0   40.765027\n",
      "1561     2017   3120.0   68.693151\n",
      "2076     2018   3120.0   76.697865\n",
      "2592     2019   3120.0  816.027397\n",
      "3107     2020   3120.0  861.701339\n",
      "3622     2021   3120.0  919.942466\n",
      "4138     2022   3120.0  868.210959\n",
      "      TaxYear  SIC7_5d         FTE\n",
      "35       2014   3210.0  175.243836\n",
      "541      2015   3210.0  208.975342\n",
      "1051     2016   3210.0  173.628415\n",
      "1562     2017   3210.0  192.095890\n",
      "2077     2018   3210.0   61.323807\n",
      "2593     2019   3210.0   84.222776\n",
      "3108     2020   3210.0   69.704864\n",
      "3623     2021   3210.0   64.069272\n",
      "4139     2022   3210.0   94.122305\n",
      "      TaxYear  SIC7_5d        FTE\n",
      "36       2014   3220.0  33.712068\n",
      "542      2015   3220.0  10.031896\n",
      "1052     2016   3220.0  17.912596\n",
      "1563     2017   3220.0  12.156313\n",
      "2078     2018   3220.0  37.126760\n",
      "2594     2019   3220.0  25.044388\n",
      "3109     2020   3220.0  29.733263\n",
      "3624     2021   3220.0  26.323109\n",
      "4140     2022   3220.0  19.833244\n",
      "      TaxYear  SIC7_5d         FTE\n",
      "37       2014   6100.0  250.884927\n",
      "544      2015   6100.0   98.065753\n",
      "1054     2016   6100.0  102.789617\n",
      "1565     2017   6100.0   66.646575\n",
      "2081     2018   6100.0   50.498630\n",
      "2597     2019   6100.0   39.717808\n",
      "3112     2020   6100.0   53.898907\n",
      "3627     2021   6100.0   22.427397\n",
      "4143     2022   6100.0   52.895388\n",
      "      TaxYear  SIC7_5d         FTE\n",
      "38       2014   6200.0  580.402740\n",
      "545      2015   6200.0  670.758904\n",
      "1055     2016   6200.0  576.724044\n",
      "1566     2017   6200.0  487.293384\n",
      "2082     2018   6200.0  434.552413\n",
      "2598     2019   6200.0  326.358904\n",
      "3113     2020   6200.0  400.588666\n",
      "3628     2021   6200.0  377.234503\n",
      "4144     2022   6200.0  338.536032\n",
      "      TaxYear  SIC7_5d        FTE\n",
      "39       2014   7100.0  44.897115\n",
      "546      2015   7100.0   0.000000\n",
      "1567     2017   7100.0   0.000000\n",
      "2083     2018   7100.0  41.025807\n",
      "2599     2019   7100.0  44.833747\n",
      "3114     2020   7100.0  26.423352\n",
      "3629     2021   7100.0   0.000000\n",
      "4145     2022   7100.0   0.000000\n",
      "      TaxYear  SIC7_5d        FTE\n",
      "40       2014   7294.0   0.000000\n",
      "1057     2016   7294.0   0.000000\n",
      "1570     2017   7294.0   0.000000\n",
      "2086     2018   7294.0   0.000000\n",
      "2603     2019   7294.0  21.478024\n",
      "3117     2020   7294.0   0.000000\n",
      "3632     2021   7294.0   0.000000\n",
      "4148     2022   7294.0   0.000000\n",
      "      TaxYear  SIC7_5d  FTE\n",
      "41       2014   7295.0  0.0\n",
      "548      2015   7295.0  0.0\n",
      "1058     2016   7295.0  0.0\n",
      "1571     2017   7295.0  0.0\n",
      "2087     2018   7295.0  0.0\n",
      "2604     2019   7295.0  0.0\n",
      "3118     2020   7295.0  0.0\n",
      "3633     2021   7295.0  0.0\n",
      "4149     2022   7295.0  0.0\n",
      "      TaxYear  SIC7_5d         FTE\n",
      "42       2014   7299.0   15.020245\n",
      "549      2015   7299.0   11.467991\n",
      "1059     2016   7299.0   16.267070\n",
      "1572     2017   7299.0   75.421416\n",
      "2088     2018   7299.0   37.312329\n",
      "2605     2019   7299.0   28.167257\n",
      "3119     2020   7299.0  301.008248\n",
      "3634     2021   7299.0   72.323288\n",
      "4150     2022   7299.0  100.350430\n",
      "      TaxYear  SIC7_5d        FTE\n",
      "43       2014   8101.0   0.000000\n",
      "550      2015   8101.0   0.000000\n",
      "1060     2016   8101.0  14.974031\n",
      "1573     2017   8101.0  12.053790\n",
      "2089     2018   8101.0  35.562028\n",
      "2606     2019   8101.0  22.867541\n",
      "3120     2020   8101.0  77.591750\n",
      "3635     2021   8101.0  80.249315\n",
      "4151     2022   8101.0  34.161644\n",
      "      TaxYear  SIC7_5d        FTE\n",
      "44       2014   8102.0  22.876712\n",
      "551      2015   8102.0  24.564384\n",
      "1061     2016   8102.0  29.336066\n",
      "1574     2017   8102.0  19.493151\n",
      "2090     2018   8102.0  17.465753\n",
      "2607     2019   8102.0  25.101370\n",
      "3121     2020   8102.0  14.997268\n",
      "3636     2021   8102.0  22.079452\n",
      "4152     2022   8102.0  23.684932\n",
      "      TaxYear  SIC7_5d         FTE\n",
      "45       2014   8109.0  611.834332\n",
      "552      2015   8109.0  635.169712\n",
      "1062     2016   8109.0  718.602140\n",
      "1575     2017   8109.0  640.279398\n",
      "2091     2018   8109.0  558.775066\n",
      "2608     2019   8109.0  589.032789\n",
      "3122     2020   8109.0  612.799631\n",
      "3637     2021   8109.0  559.982325\n",
      "4153     2022   8109.0  468.713317\n",
      "      TaxYear  SIC7_5d        FTE\n",
      "46       2014   8911.0   0.000000\n",
      "553      2015   8911.0  13.054795\n",
      "1063     2016   8911.0   0.000000\n",
      "1576     2017   8911.0  11.726027\n",
      "2092     2018   8911.0  15.690411\n",
      "2609     2019   8911.0  17.846575\n",
      "3123     2020   8911.0  16.836066\n",
      "3638     2021   8911.0  16.501370\n",
      "4154     2022   8911.0  19.490411\n",
      "      TaxYear  SIC7_5d        FTE\n",
      "47       2014   8919.0  27.121453\n",
      "554      2015   8919.0  21.560805\n",
      "1064     2016   8919.0  21.296118\n",
      "1577     2017   8919.0  21.166360\n",
      "2093     2018   8919.0  16.314960\n",
      "2610     2019   8919.0  22.883759\n",
      "3124     2020   8919.0  27.815873\n",
      "3639     2021   8919.0  18.619806\n",
      "4155     2022   8919.0  19.283758\n",
      "      TaxYear  SIC7_5d  FTE\n",
      "48       2014   8920.0  0.0\n",
      "3125     2020   8920.0  0.0\n",
      "4156     2022   8920.0  0.0\n",
      "      TaxYear  SIC7_5d         FTE\n",
      "49       2014   8930.0   58.882192\n",
      "555      2015   8930.0   78.235616\n",
      "1065     2016   8930.0   78.366120\n",
      "1578     2017   8930.0   88.273973\n",
      "2094     2018   8930.0  100.158904\n",
      "2611     2019   8930.0   44.945205\n",
      "3126     2020   8930.0   34.057377\n",
      "3640     2021   8930.0   39.753425\n",
      "4157     2022   8930.0  105.923288\n",
      "      TaxYear  SIC7_5d          FTE\n",
      "50       2014   8991.0  1071.887671\n",
      "556      2015   8991.0  1106.579870\n",
      "1066     2016   8991.0  1070.489071\n",
      "1579     2017   8991.0  1033.338852\n",
      "2095     2018   8991.0   980.016438\n",
      "2612     2019   8991.0   688.410959\n",
      "3127     2020   8991.0   661.814601\n",
      "3641     2021   8991.0   527.002740\n",
      "4158     2022   8991.0   561.183771\n",
      "      TaxYear  SIC7_5d        FTE\n",
      "51       2014   8992.0  20.142466\n",
      "557      2015   8992.0  20.676712\n",
      "1067     2016   8992.0   0.000000\n",
      "1580     2017   8992.0  11.506849\n",
      "2096     2018   8992.0   0.000000\n",
      "2613     2019   8992.0   0.000000\n",
      "3128     2020   8992.0  23.882514\n",
      "3642     2021   8992.0   0.000000\n",
      "      TaxYear  SIC7_5d         FTE\n",
      "52       2014   8999.0  234.765602\n",
      "558      2015   8999.0  317.142927\n",
      "1068     2016   8999.0  282.205571\n",
      "1581     2017   8999.0  249.689096\n",
      "2097     2018   8999.0  186.950486\n",
      "2614     2019   8999.0  193.945698\n",
      "3129     2020   8999.0  225.808224\n",
      "3643     2021   8999.0  247.637274\n",
      "4159     2022   8999.0  257.610697\n",
      "      TaxYear  SIC7_5d         FTE\n",
      "53       2014   9100.0  651.780375\n",
      "559      2015   9100.0  740.968922\n",
      "1069     2016   9100.0  601.383221\n",
      "1582     2017   9100.0  582.756270\n",
      "2098     2018   9100.0  593.832689\n",
      "2615     2019   9100.0  502.076813\n",
      "3130     2020   9100.0  511.607872\n",
      "3644     2021   9100.0  499.996419\n",
      "4160     2022   9100.0  388.136436\n",
      "      TaxYear  SIC7_5d         FTE\n",
      "54       2014   9901.0   53.268044\n",
      "560      2015   9901.0  230.601816\n",
      "1070     2016   9901.0  212.892996\n",
      "1583     2017   9901.0  222.748239\n",
      "2099     2018   9901.0  220.439640\n",
      "2616     2019   9901.0  218.578911\n",
      "3131     2020   9901.0  227.290035\n",
      "3645     2021   9901.0  381.355859\n",
      "4161     2022   9901.0  322.038509\n",
      "      TaxYear  SIC7_5d         FTE\n",
      "55       2014   9909.0  363.957043\n",
      "561      2015   9909.0  304.094980\n",
      "1071     2016   9909.0  275.214692\n",
      "1584     2017   9909.0  233.734619\n",
      "2100     2018   9909.0  242.463518\n",
      "2617     2019   9909.0  303.251593\n",
      "3132     2020   9909.0  342.921961\n",
      "3646     2021   9909.0  307.133144\n",
      "4162     2022   9909.0  360.853960\n",
      "      TaxYear  SIC7_5d          FTE\n",
      "56       2014  10101.0  1346.299906\n",
      "562      2015  10101.0  1231.918145\n",
      "1072     2016  10101.0   857.364257\n",
      "1585     2017  10101.0   403.921623\n",
      "2101     2018  10101.0  1040.958274\n",
      "2618     2019  10101.0   365.455476\n",
      "3133     2020  10101.0   785.589414\n",
      "3647     2021  10101.0   715.328568\n",
      "4163     2022  10101.0   764.095567\n",
      "      TaxYear  SIC7_5d          FTE\n",
      "57       2014  10102.0  1767.017358\n",
      "563      2015  10102.0  1778.350233\n",
      "1073     2016  10102.0  2535.448939\n",
      "1586     2017  10102.0  2564.915321\n",
      "2102     2018  10102.0  2678.402435\n",
      "2619     2019  10102.0  2642.734761\n",
      "3134     2020  10102.0  2790.208426\n",
      "3648     2021  10102.0  2957.382808\n",
      "4164     2022  10102.0  2762.956198\n",
      "      TaxYear  SIC7_5d        FTE\n",
      "58       2014  10103.0   0.000000\n",
      "564      2015  10103.0   0.000000\n",
      "1074     2016  10103.0   0.000000\n",
      "1587     2017  10103.0   0.000000\n",
      "2103     2018  10103.0   0.000000\n",
      "2620     2019  10103.0   0.000000\n",
      "3135     2020  10103.0   0.000000\n",
      "3649     2021  10103.0  31.213699\n",
      "4165     2022  10103.0  27.662716\n",
      "      TaxYear  SIC7_5d         FTE\n",
      "59       2014  10109.0  337.163420\n",
      "565      2015  10109.0  254.891664\n",
      "1075     2016  10109.0  265.895593\n",
      "1588     2017  10109.0  267.715198\n",
      "2104     2018  10109.0  414.709048\n",
      "2621     2019  10109.0  519.480290\n",
      "3136     2020  10109.0  541.712496\n",
      "3650     2021  10109.0  716.119429\n",
      "4166     2022  10109.0  668.590344\n",
      "      TaxYear  SIC7_5d          FTE\n",
      "60       2014  10200.0   874.978082\n",
      "566      2015  10200.0   897.647335\n",
      "1076     2016  10200.0   963.260079\n",
      "1589     2017  10200.0   953.813392\n",
      "2105     2018  10200.0  1035.378562\n",
      "2622     2019  10200.0   735.180284\n",
      "3137     2020  10200.0   895.915132\n",
      "3651     2021  10200.0   785.690076\n",
      "4167     2022  10200.0   833.584271\n",
      "      TaxYear  SIC7_5d          FTE\n",
      "61       2014  10300.0   746.700139\n",
      "567      2015  10300.0  1053.201711\n",
      "1077     2016  10300.0  2285.893907\n",
      "1590     2017  10300.0  2356.953367\n",
      "2106     2018  10300.0  2537.573620\n",
      "2623     2019  10300.0  2703.783162\n",
      "3138     2020  10300.0  3171.307075\n",
      "3652     2021  10300.0  2729.334424\n",
      "4168     2022  10300.0  2663.961674\n",
      "      TaxYear  SIC7_5d        FTE\n",
      "62       2014  10401.0  17.908814\n",
      "568      2015  10401.0   0.000000\n",
      "1078     2016  10401.0  36.290314\n",
      "1591     2017  10401.0  40.751657\n",
      "2107     2018  10401.0   0.000000\n",
      "2624     2019  10401.0  11.227728\n",
      "3139     2020  10401.0  17.211964\n",
      "3653     2021  10401.0  12.675569\n",
      "4169     2022  10401.0   0.000000\n",
      "      TaxYear  SIC7_5d         FTE\n",
      "63       2014  10402.0  123.019392\n",
      "569      2015  10402.0  133.439878\n",
      "1079     2016  10402.0  126.118776\n",
      "1592     2017  10402.0  132.115591\n",
      "2108     2018  10402.0  139.339616\n",
      "2625     2019  10402.0  143.848039\n",
      "3140     2020  10402.0  118.092551\n",
      "3654     2021  10402.0  133.878870\n",
      "4170     2022  10402.0  151.386009\n",
      "      TaxYear  SIC7_5d          FTE\n",
      "64       2014  10501.0  1714.907489\n",
      "570      2015  10501.0  1966.698849\n",
      "1080     2016  10501.0  2000.532585\n",
      "1593     2017  10501.0   986.965674\n",
      "2109     2018  10501.0  1628.056955\n",
      "2626     2019  10501.0  1815.334932\n",
      "3141     2020  10501.0  1931.634565\n",
      "3655     2021  10501.0  2078.966690\n",
      "4171     2022  10501.0  2080.916768\n",
      "      TaxYear  SIC7_5d         FTE\n",
      "65       2014  10502.0  484.773964\n",
      "571      2015  10502.0  420.216903\n",
      "1081     2016  10502.0  247.721113\n",
      "1594     2017  10502.0  194.208554\n",
      "2110     2018  10502.0  149.251451\n",
      "2627     2019  10502.0  189.751590\n",
      "3142     2020  10502.0  178.644446\n",
      "3656     2021  10502.0  182.316802\n",
      "4172     2022  10502.0  187.552182\n",
      "      TaxYear  SIC7_5d         FTE\n",
      "66       2014  10503.0  500.863014\n",
      "572      2015  10503.0  427.400000\n",
      "1082     2016  10503.0  440.914078\n",
      "1595     2017  10503.0  451.391781\n",
      "2111     2018  10503.0  512.972603\n",
      "2628     2019  10503.0  484.195922\n",
      "3143     2020  10503.0  704.537975\n",
      "3657     2021  10503.0  696.381829\n",
      "4173     2022  10503.0  679.043836\n",
      "      TaxYear  SIC7_5d         FTE\n",
      "67       2014  10504.0   89.298630\n",
      "573      2015  10504.0   96.682192\n",
      "1083     2016  10504.0  201.931694\n",
      "1596     2017  10504.0  237.057534\n",
      "2112     2018  10504.0  244.016438\n",
      "2629     2019  10504.0  104.345205\n",
      "3144     2020  10504.0  111.549668\n",
      "3658     2021  10504.0  104.423532\n",
      "4174     2022  10504.0  104.088663\n",
      "      TaxYear  SIC7_5d          FTE\n",
      "68       2014  10611.0   701.054556\n",
      "574      2015  10611.0   561.621072\n",
      "1084     2016  10611.0   706.253355\n",
      "1597     2017  10611.0  1155.559607\n",
      "2113     2018  10611.0  1194.214426\n",
      "2630     2019  10611.0  1180.511617\n",
      "3145     2020  10611.0  1092.287975\n",
      "3659     2021  10611.0  1008.045780\n",
      "4175     2022  10611.0   970.363588\n",
      "      TaxYear  SIC7_5d         FTE\n",
      "69       2014  10612.0  166.186301\n",
      "575      2015  10612.0  174.385059\n",
      "1085     2016  10612.0  197.819672\n",
      "1598     2017  10612.0  215.465753\n",
      "2114     2018  10612.0  170.128767\n",
      "2631     2019  10612.0  174.770855\n",
      "3146     2020  10612.0  214.021858\n",
      "3660     2021  10612.0  196.073973\n",
      "4176     2022  10612.0  220.769863\n",
      "      TaxYear  SIC7_5d         FTE\n",
      "70       2014  10620.0  107.183562\n",
      "576      2015  10620.0  149.926027\n",
      "1086     2016  10620.0  159.576503\n",
      "1599     2017  10620.0  173.230324\n",
      "2115     2018  10620.0  175.548327\n",
      "2632     2019  10620.0  167.518246\n",
      "3147     2020  10620.0  198.648323\n",
      "3661     2021  10620.0  196.731507\n",
      "4177     2022  10620.0  233.698820\n",
      "      TaxYear  SIC7_5d          FTE\n",
      "71       2014  10710.0  3132.703718\n",
      "577      2015  10710.0  3435.376201\n",
      "1087     2016  10710.0  4292.581857\n",
      "1600     2017  10710.0  4534.666278\n",
      "2116     2018  10710.0  4577.180787\n",
      "2633     2019  10710.0  5084.699891\n",
      "3148     2020  10710.0  5562.690836\n",
      "3662     2021  10710.0  5307.852241\n",
      "4178     2022  10710.0  4875.598002\n",
      "      TaxYear  SIC7_5d        FTE\n",
      "72       2014  10720.0  38.323288\n",
      "578      2015  10720.0  53.309589\n",
      "1088     2016  10720.0  97.109290\n",
      "1601     2017  10720.0  71.084932\n",
      "2117     2018  10720.0  65.898630\n",
      "2634     2019  10720.0   0.000000\n",
      "3149     2020  10720.0   0.000000\n",
      "3663     2021  10720.0   0.000000\n",
      "4179     2022  10720.0  35.800000\n",
      "      TaxYear  SIC7_5d          FTE\n",
      "73       2014  10730.0   817.680675\n",
      "579      2015  10730.0   804.978484\n",
      "1089     2016  10730.0   907.954787\n",
      "1602     2017  10730.0   925.177318\n",
      "2118     2018  10730.0   939.642817\n",
      "2635     2019  10730.0   939.774902\n",
      "3150     2020  10730.0   981.382408\n",
      "3664     2021  10730.0  1064.139060\n",
      "4180     2022  10730.0  1049.836523\n",
      "      TaxYear  SIC7_5d         FTE\n",
      "74       2014  10740.0   59.191781\n",
      "580      2015  10740.0   49.564384\n",
      "1090     2016  10740.0   46.549180\n",
      "1603     2017  10740.0   77.632877\n",
      "2119     2018  10740.0  125.531507\n",
      "2636     2019  10740.0  129.421918\n",
      "3151     2020  10740.0  181.909836\n",
      "3665     2021  10740.0  356.178082\n",
      "4181     2022  10740.0  333.991781\n",
      "      TaxYear  SIC7_5d          FTE\n",
      "75       2014  10750.0   412.475334\n",
      "581      2015  10750.0   835.616991\n",
      "1091     2016  10750.0  1177.114656\n",
      "1604     2017  10750.0  1154.927951\n",
      "2120     2018  10750.0  1370.076243\n",
      "2637     2019  10750.0  1462.712530\n",
      "3152     2020  10750.0  1393.630909\n",
      "3666     2021  10750.0  1186.709352\n",
      "4182     2022  10750.0  1082.986410\n",
      "      TaxYear  SIC7_5d         FTE\n",
      "76       2014  10791.0  279.171646\n",
      "582      2015  10791.0  428.063179\n",
      "1092     2016  10791.0  491.009506\n",
      "1605     2017  10791.0  523.290278\n",
      "2121     2018  10791.0  511.161009\n",
      "2638     2019  10791.0  536.148907\n",
      "3153     2020  10791.0  564.989024\n",
      "3667     2021  10791.0  570.662000\n",
      "4183     2022  10791.0  590.770117\n",
      "      TaxYear  SIC7_5d        FTE\n",
      "77       2014  10792.0  32.238356\n",
      "583      2015  10792.0  32.140669\n",
      "1093     2016  10792.0  86.820099\n",
      "1606     2017  10792.0  68.325386\n",
      "2122     2018  10792.0  50.586415\n",
      "2639     2019  10792.0  53.616790\n",
      "3154     2020  10792.0  87.320512\n",
      "3668     2021  10792.0  59.505488\n",
      "4184     2022  10792.0  66.035528\n",
      "      TaxYear  SIC7_5d           FTE\n",
      "78       2014  10799.0   2920.964976\n",
      "584      2015  10799.0  10379.042766\n",
      "1094     2016  10799.0  10186.511723\n",
      "1607     2017  10799.0  10296.239990\n",
      "2123     2018  10799.0   9604.912400\n",
      "2640     2019  10799.0  10619.349942\n",
      "3155     2020  10799.0  11962.671130\n",
      "3669     2021  10799.0  11923.770136\n",
      "4185     2022  10799.0  12617.568569\n",
      "      TaxYear  SIC7_5d         FTE\n",
      "79       2014  10800.0  557.808721\n",
      "585      2015  10800.0  537.221283\n",
      "1095     2016  10800.0  470.716198\n",
      "1608     2017  10800.0  555.349191\n",
      "2124     2018  10800.0  625.005639\n",
      "2641     2019  10800.0  586.625065\n",
      "3156     2020  10800.0  460.220940\n",
      "3670     2021  10800.0  456.068540\n",
      "4186     2022  10800.0  594.477618\n",
      "      TaxYear  SIC7_5d         FTE\n",
      "80       2014  11010.0   76.852507\n",
      "586      2015  11010.0   32.416058\n",
      "1096     2016  11010.0   44.831947\n",
      "1609     2017  11010.0   67.191082\n",
      "2125     2018  11010.0   73.110966\n",
      "2642     2019  11010.0   86.854841\n",
      "3157     2020  11010.0  103.887265\n",
      "3671     2021  11010.0  101.796051\n",
      "4187     2022  11010.0   86.598218\n",
      "      TaxYear  SIC7_5d          FTE\n",
      "81       2014  11020.0   887.084476\n",
      "587      2015  11020.0   979.738083\n",
      "1097     2016  11020.0  1049.882141\n",
      "1610     2017  11020.0   886.688018\n",
      "2126     2018  11020.0   870.067748\n",
      "2643     2019  11020.0   930.842195\n",
      "3158     2020  11020.0   971.037321\n",
      "3672     2021  11020.0   892.170062\n",
      "4188     2022  11020.0  1002.745694\n",
      "      TaxYear  SIC7_5d          FTE\n",
      "82       2014  11031.0  1080.211974\n",
      "588      2015  11031.0  1069.548077\n",
      "1098     2016  11031.0   937.207650\n",
      "1611     2017  11031.0   997.040274\n",
      "2127     2018  11031.0   951.655120\n",
      "2644     2019  11031.0   957.141079\n",
      "3159     2020  11031.0   990.658343\n",
      "3673     2021  11031.0   899.448166\n",
      "4189     2022  11031.0   897.594521\n",
      "      TaxYear  SIC7_5d          FTE\n",
      "83       2014  11040.0  2319.101890\n",
      "590      2015  11040.0  2319.286374\n",
      "1100     2016  11040.0  2332.964736\n",
      "1614     2017  11040.0  2043.186034\n",
      "2130     2018  11040.0  2240.169339\n",
      "2647     2019  11040.0  2432.076419\n",
      "3161     2020  11040.0  2710.613131\n",
      "3676     2021  11040.0  2511.146127\n",
      "4191     2022  11040.0  2278.836782\n",
      "      TaxYear  SIC7_5d         FTE\n",
      "84       2014  12000.0  386.406953\n",
      "591      2015  12000.0  374.582564\n",
      "1101     2016  12000.0  329.639626\n",
      "1615     2017  12000.0  603.441900\n",
      "2131     2018  12000.0  568.700591\n",
      "2648     2019  12000.0  697.189874\n",
      "3162     2020  12000.0  584.823598\n",
      "3677     2021  12000.0  559.471874\n",
      "4192     2022  12000.0  520.972702\n",
      "      TaxYear  SIC7_5d        FTE\n",
      "85       2014  13111.0  15.578082\n",
      "592      2015  13111.0   0.000000\n",
      "1102     2016  13111.0   0.000000\n",
      "1616     2017  13111.0   0.000000\n",
      "2132     2018  13111.0   0.000000\n",
      "2649     2019  13111.0   0.000000\n",
      "3163     2020  13111.0  17.632452\n",
      "3678     2021  13111.0  16.589500\n",
      "4193     2022  13111.0  12.187764\n",
      "      TaxYear  SIC7_5d        FTE\n",
      "86       2014  13112.0  50.000000\n",
      "593      2015  13112.0  60.506849\n",
      "1103     2016  13112.0  53.180328\n",
      "1617     2017  13112.0  50.021918\n",
      "2133     2018  13112.0  46.131507\n",
      "2650     2019  13112.0  47.430137\n",
      "3679     2021  13112.0   0.000000\n",
      "      TaxYear  SIC7_5d         FTE\n",
      "87       2014  13119.0  183.355131\n",
      "594      2015  13119.0  250.288010\n",
      "1104     2016  13119.0  488.835376\n",
      "1618     2017  13119.0   99.151756\n",
      "2134     2018  13119.0   85.869896\n",
      "2651     2019  13119.0   82.341964\n",
      "3164     2020  13119.0   90.679326\n",
      "3680     2021  13119.0   62.464239\n",
      "4194     2022  13119.0   59.466603\n",
      "      TaxYear  SIC7_5d          FTE\n",
      "88       2014  13120.0   858.270831\n",
      "595      2015  13120.0  1194.079951\n",
      "1105     2016  13120.0  1271.111839\n",
      "1619     2017  13120.0  1202.591571\n",
      "2135     2018  13120.0  1225.344966\n",
      "2652     2019  13120.0  1118.211735\n",
      "3165     2020  13120.0  1243.810645\n",
      "3681     2021  13120.0  1079.651777\n",
      "4195     2022  13120.0  1075.246796\n",
      "      TaxYear  SIC7_5d         FTE\n",
      "89       2014  13130.0  641.767599\n",
      "596      2015  13130.0  683.831247\n",
      "1106     2016  13130.0  760.045798\n",
      "1620     2017  13130.0  786.117240\n",
      "2136     2018  13130.0  817.771424\n",
      "2653     2019  13130.0  901.745577\n",
      "3166     2020  13130.0  899.929739\n",
      "3682     2021  13130.0  680.718803\n",
      "4196     2022  13130.0  704.759107\n",
      "      TaxYear  SIC7_5d         FTE\n",
      "90       2014  13910.0  435.156827\n",
      "597      2015  13910.0  392.046862\n",
      "1107     2016  13910.0  245.016982\n",
      "1621     2017  13910.0  478.769021\n",
      "2137     2018  13910.0  428.025006\n",
      "2654     2019  13910.0  631.701414\n",
      "3167     2020  13910.0  705.692699\n",
      "3683     2021  13910.0  856.563592\n",
      "4197     2022  13910.0  571.420115\n",
      "      TaxYear  SIC7_5d         FTE\n",
      "91       2014  13921.0  444.771066\n",
      "598      2015  13921.0  370.271233\n",
      "1108     2016  13921.0  395.027987\n",
      "1622     2017  13921.0  412.331507\n",
      "2138     2018  13921.0  375.451553\n",
      "2655     2019  13921.0  261.178082\n",
      "3168     2020  13921.0  302.849727\n",
      "3684     2021  13921.0  289.336986\n",
      "4198     2022  13921.0  196.071372\n",
      "      TaxYear  SIC7_5d         FTE\n",
      "92       2014  13922.0  407.171546\n",
      "599      2015  13922.0  287.878204\n",
      "1109     2016  13922.0  337.931194\n",
      "1623     2017  13922.0  341.505931\n",
      "2139     2018  13922.0  499.798907\n",
      "2656     2019  13922.0  565.330138\n",
      "3169     2020  13922.0  594.376832\n",
      "3685     2021  13922.0  561.642711\n",
      "4199     2022  13922.0  554.316292\n",
      "      TaxYear  SIC7_5d         FTE\n",
      "93       2014  13930.0  251.314348\n",
      "600      2015  13930.0  218.623460\n",
      "1110     2016  13930.0  236.740773\n",
      "1624     2017  13930.0  126.309181\n",
      "2140     2018  13930.0  303.646821\n",
      "2657     2019  13930.0  265.225897\n",
      "3170     2020  13930.0  300.523648\n",
      "3686     2021  13930.0  269.177913\n",
      "4200     2022  13930.0  213.676712\n",
      "      TaxYear  SIC7_5d         FTE\n",
      "94       2014  13940.0  526.530000\n",
      "601      2015  13940.0  596.560720\n",
      "1111     2016  13940.0  700.842496\n",
      "1625     2017  13940.0  806.383726\n",
      "2141     2018  13940.0  810.377764\n",
      "2658     2019  13940.0  859.576965\n",
      "3171     2020  13940.0  893.706010\n",
      "3687     2021  13940.0  883.910178\n",
      "4201     2022  13940.0  895.048007\n",
      "      TaxYear  SIC7_5d          FTE\n",
      "95       2014  13990.0  3166.077717\n",
      "602      2015  13990.0  3119.480310\n",
      "1112     2016  13990.0  3208.347566\n",
      "1626     2017  13990.0  3029.932114\n",
      "2142     2018  13990.0  2995.535145\n",
      "2659     2019  13990.0  2894.024045\n",
      "3172     2020  13990.0  2925.072784\n",
      "3688     2021  13990.0  2514.876635\n",
      "4202     2022  13990.0  2331.766000\n",
      "      TaxYear  SIC7_5d           FTE\n",
      "96       2014  14100.0  10960.668866\n",
      "603      2015  14100.0  11739.245896\n",
      "1113     2016  14100.0  12254.810330\n",
      "1627     2017  14100.0  11668.941391\n",
      "2143     2018  14100.0  11062.151179\n",
      "2660     2019  14100.0  10143.560035\n",
      "3173     2020  14100.0  10459.241018\n",
      "3689     2021  14100.0   9256.478123\n",
      "4203     2022  14100.0   7327.767138\n",
      "      TaxYear  SIC7_5d        FTE\n",
      "97       2014  14200.0  17.156164\n",
      "604      2015  14200.0  21.550685\n",
      "1114     2016  14200.0  21.639344\n",
      "1628     2017  14200.0  22.364384\n",
      "2144     2018  14200.0  13.709589\n",
      "2661     2019  14200.0  18.989041\n",
      "3174     2020  14200.0  16.505464\n",
      "3690     2021  14200.0   0.000000\n",
      "4204     2022  14200.0   0.000000\n",
      "      TaxYear  SIC7_5d         FTE\n",
      "98       2014  14300.0  773.110700\n",
      "605      2015  14300.0  724.081908\n",
      "1115     2016  14300.0  677.108130\n",
      "1629     2017  14300.0  709.908465\n",
      "2145     2018  14300.0  659.357043\n",
      "2662     2019  14300.0  809.481610\n",
      "3175     2020  14300.0  837.435780\n",
      "3691     2021  14300.0  723.459772\n",
      "4205     2022  14300.0  775.989736\n",
      "      TaxYear  SIC7_5d         FTE\n",
      "99       2014  15110.0   86.434273\n",
      "606      2015  15110.0  116.874792\n",
      "1116     2016  15110.0  180.111072\n",
      "1630     2017  15110.0  152.895179\n",
      "2146     2018  15110.0  144.099810\n",
      "2663     2019  15110.0  139.043064\n",
      "3176     2020  15110.0  155.186127\n",
      "3692     2021  15110.0  148.114997\n",
      "4206     2022  15110.0  133.712672\n",
      "      TaxYear  SIC7_5d         FTE\n",
      "100      2014  15120.0  794.282994\n",
      "607      2015  15120.0  792.257477\n",
      "1117     2016  15120.0  768.209118\n",
      "1631     2017  15120.0  813.457775\n",
      "2147     2018  15120.0  847.135773\n",
      "2664     2019  15120.0  857.048932\n",
      "3177     2020  15120.0  896.805223\n",
      "3693     2021  15120.0  859.957086\n",
      "4207     2022  15120.0  875.730970\n",
      "      TaxYear  SIC7_5d          FTE\n",
      "101      2014  15200.0  2672.831350\n",
      "608      2015  15200.0  2755.126905\n",
      "1118     2016  15200.0  2691.502753\n",
      "1632     2017  15200.0  2648.406684\n",
      "2148     2018  15200.0  2398.954707\n",
      "2665     2019  15200.0  1979.247797\n",
      "3178     2020  15200.0  1677.316365\n",
      "3694     2021  15200.0  1369.912997\n",
      "4208     2022  15200.0  1242.681927\n",
      "      TaxYear  SIC7_5d         FTE\n",
      "102      2014  16100.0  273.108550\n",
      "609      2015  16100.0  299.544731\n",
      "1119     2016  16100.0  332.019347\n",
      "1633     2017  16100.0  352.143730\n",
      "2149     2018  16100.0  358.187499\n",
      "2666     2019  16100.0  444.129478\n",
      "3179     2020  16100.0  485.949004\n",
      "3695     2021  16100.0  405.890682\n",
      "4209     2022  16100.0  376.233145\n",
      "      TaxYear  SIC7_5d         FTE\n",
      "103      2014  16210.0  227.120116\n",
      "610      2015  16210.0  231.260274\n",
      "1120     2016  16210.0  267.209969\n",
      "1634     2017  16210.0  217.459847\n",
      "2150     2018  16210.0  246.629715\n",
      "2667     2019  16210.0  230.538321\n",
      "3180     2020  16210.0  219.190947\n",
      "3696     2021  16210.0  223.973674\n",
      "4210     2022  16210.0  237.074166\n",
      "      TaxYear  SIC7_5d          FTE\n",
      "104      2014  16220.0  1409.403302\n",
      "611      2015  16220.0  2328.928493\n",
      "1121     2016  16220.0  2463.993468\n",
      "1635     2017  16220.0  2519.139591\n",
      "2151     2018  16220.0  2349.607901\n",
      "2668     2019  16220.0  1744.650133\n",
      "3181     2020  16220.0  1687.602526\n",
      "3697     2021  16220.0  1649.098817\n",
      "4211     2022  16220.0  1518.692148\n",
      "      TaxYear  SIC7_5d         FTE\n",
      "105      2014  16230.0  237.257042\n",
      "612      2015  16230.0  229.186921\n",
      "1122     2016  16230.0  230.343280\n",
      "1636     2017  16230.0  312.452846\n",
      "2152     2018  16230.0  263.555484\n",
      "2669     2019  16230.0  249.999944\n",
      "3182     2020  16230.0  283.835835\n",
      "3698     2021  16230.0  251.111508\n",
      "4212     2022  16230.0  210.150043\n",
      "      TaxYear  SIC7_5d          FTE\n",
      "106      2014  16291.0  2589.766486\n",
      "613      2015  16291.0  1885.674067\n",
      "1123     2016  16291.0  2098.615313\n",
      "1637     2017  16291.0  2186.343296\n",
      "2153     2018  16291.0  2217.718833\n",
      "2670     2019  16291.0  2344.986069\n",
      "3183     2020  16291.0  2133.612564\n",
      "3699     2021  16291.0  2098.802502\n",
      "4213     2022  16291.0  2095.425101\n",
      "      TaxYear  SIC7_5d        FTE\n",
      "107      2014  16292.0   0.000000\n",
      "614      2015  16292.0  15.869454\n",
      "1124     2016  16292.0  38.577573\n",
      "1638     2017  16292.0  27.159020\n",
      "2154     2018  16292.0  18.415619\n",
      "2671     2019  16292.0  19.348521\n",
      "3184     2020  16292.0  14.145610\n",
      "3700     2021  16292.0  29.897867\n",
      "4214     2022  16292.0  77.995648\n",
      "      TaxYear  SIC7_5d          FTE\n",
      "108      2014  17010.0   867.235752\n",
      "615      2015  17010.0  1107.690899\n",
      "1125     2016  17010.0   982.449861\n",
      "1639     2017  17010.0  1254.600583\n",
      "2155     2018  17010.0   949.804900\n",
      "2672     2019  17010.0   972.151492\n",
      "3185     2020  17010.0   764.494615\n",
      "3701     2021  17010.0   668.197568\n",
      "4215     2022  17010.0   775.664008\n",
      "      TaxYear  SIC7_5d         FTE\n",
      "109      2014  17021.0  364.921318\n",
      "616      2015  17021.0  741.110601\n",
      "1126     2016  17021.0  793.275979\n",
      "1640     2017  17021.0  588.877683\n",
      "2156     2018  17021.0  800.067840\n",
      "2673     2019  17021.0  767.742974\n",
      "3186     2020  17021.0  690.873166\n",
      "3702     2021  17021.0  787.841503\n",
      "4216     2022  17021.0  727.558807\n",
      "      TaxYear  SIC7_5d         FTE\n",
      "110      2014  17022.0  591.559040\n",
      "617      2015  17022.0  449.998937\n",
      "1127     2016  17022.0  352.149033\n",
      "1641     2017  17022.0  408.522305\n",
      "2157     2018  17022.0  523.122338\n",
      "2674     2019  17022.0  560.890131\n",
      "3187     2020  17022.0  607.913048\n",
      "3703     2021  17022.0  607.673884\n",
      "4217     2022  17022.0  756.127970\n",
      "      TaxYear  SIC7_5d          FTE\n",
      "111      2014  17090.0   757.435485\n",
      "618      2015  17090.0   977.467831\n",
      "1128     2016  17090.0  1332.535074\n",
      "1642     2017  17090.0  1301.003580\n",
      "2158     2018  17090.0  1356.734695\n",
      "2675     2019  17090.0  1242.490787\n",
      "3188     2020  17090.0  1247.363595\n",
      "3704     2021  17090.0  1039.171864\n",
      "4218     2022  17090.0  1017.941311\n",
      "      TaxYear  SIC7_5d          FTE\n",
      "112      2014  18110.0  9247.701022\n",
      "619      2015  18110.0  9407.758699\n",
      "1129     2016  18110.0  8897.959350\n",
      "1643     2017  18110.0  8611.382614\n",
      "2159     2018  18110.0  8524.518675\n",
      "2676     2019  18110.0  8502.655213\n",
      "3189     2020  18110.0  8140.230315\n",
      "3705     2021  18110.0  7346.929168\n",
      "4219     2022  18110.0  6543.732413\n",
      "      TaxYear  SIC7_5d          FTE\n",
      "113      2014  18120.0  2691.227420\n",
      "620      2015  18120.0  1979.519872\n",
      "1130     2016  18120.0  2007.658140\n",
      "1644     2017  18120.0  2143.389838\n",
      "2160     2018  18120.0  2170.498842\n",
      "2677     2019  18120.0  1993.780409\n",
      "3190     2020  18120.0  1838.985761\n",
      "3706     2021  18120.0  1527.062888\n",
      "4220     2022  18120.0  1485.247480\n",
      "      TaxYear  SIC7_5d         FTE\n",
      "114      2014  18200.0  137.475272\n",
      "621      2015  18200.0  127.784871\n",
      "1131     2016  18200.0  202.101093\n",
      "1645     2017  18200.0  217.498630\n",
      "2161     2018  18200.0  291.043428\n",
      "2678     2019  18200.0  463.724826\n",
      "3191     2020  18200.0  385.729465\n",
      "3707     2021  18200.0  268.425998\n",
      "4221     2022  18200.0   85.263470\n",
      "      TaxYear  SIC7_5d          FTE\n",
      "115      2014  19200.0  1418.705465\n",
      "623      2015  19200.0  1421.262454\n",
      "1133     2016  19200.0  1376.155461\n",
      "1647     2017  19200.0  1525.143475\n",
      "2163     2018  19200.0  1573.205894\n",
      "2680     2019  19200.0   495.511512\n",
      "3193     2020  19200.0   438.788430\n",
      "3709     2021  19200.0   266.887671\n",
      "4223     2022  19200.0   259.176852\n",
      "      TaxYear  SIC7_5d         FTE\n",
      "116      2014  20110.0  725.617076\n",
      "624      2015  20110.0  668.108630\n",
      "1134     2016  20110.0  727.955653\n",
      "1648     2017  20110.0  710.771570\n",
      "2164     2018  20110.0  801.342608\n",
      "2681     2019  20110.0  754.192129\n",
      "3194     2020  20110.0  706.279314\n",
      "3710     2021  20110.0  652.176031\n",
      "4224     2022  20110.0  809.618456\n",
      "      TaxYear  SIC7_5d         FTE\n",
      "117      2014  20120.0  159.685135\n",
      "625      2015  20120.0  192.101243\n",
      "1135     2016  20120.0  170.145757\n",
      "1649     2017  20120.0  108.921984\n",
      "2165     2018  20120.0   97.485668\n",
      "2682     2019  20120.0  158.893031\n",
      "3195     2020  20120.0  170.474963\n",
      "3711     2021  20120.0  135.769248\n",
      "4225     2022  20120.0  125.326876\n",
      "      TaxYear  SIC7_5d         FTE\n",
      "118      2014  20130.0  658.870629\n",
      "626      2015  20130.0  834.210937\n",
      "1136     2016  20130.0  696.028027\n",
      "1650     2017  20130.0  674.994918\n",
      "2166     2018  20130.0  653.371070\n",
      "2683     2019  20130.0  577.543107\n",
      "3196     2020  20130.0  546.521571\n",
      "3712     2021  20130.0  523.740641\n",
      "4226     2022  20130.0  547.436306\n",
      "      TaxYear  SIC7_5d         FTE\n",
      "119      2014  20210.0  109.054887\n",
      "627      2015  20210.0  112.512904\n",
      "1137     2016  20210.0  161.827119\n",
      "1651     2017  20210.0  240.487743\n",
      "2167     2018  20210.0  256.636737\n",
      "2684     2019  20210.0  262.384676\n",
      "3197     2020  20210.0  285.163897\n",
      "3713     2021  20210.0  275.685431\n",
      "4227     2022  20210.0  215.839305\n",
      "      TaxYear  SIC7_5d          FTE\n",
      "120      2014  20220.0  1235.853920\n",
      "628      2015  20220.0  1368.006871\n",
      "1138     2016  20220.0  1324.107519\n",
      "1652     2017  20220.0  1373.763803\n",
      "2168     2018  20220.0  1347.547615\n",
      "2685     2019  20220.0  1623.615381\n",
      "3198     2020  20220.0  1432.986292\n",
      "3714     2021  20220.0  1505.311108\n",
      "4228     2022  20220.0  1383.481836\n",
      "      TaxYear  SIC7_5d          FTE\n",
      "121      2014  20230.0  2094.330642\n",
      "629      2015  20230.0  1100.676938\n",
      "1139     2016  20230.0  1015.307787\n",
      "1653     2017  20230.0  1039.068552\n",
      "2169     2018  20230.0  1088.700178\n",
      "2686     2019  20230.0  1074.145539\n",
      "3199     2020  20230.0  1181.527428\n",
      "3715     2021  20230.0  1209.466013\n",
      "4229     2022  20230.0  1062.063353\n",
      "      TaxYear  SIC7_5d          FTE\n",
      "122      2014  20291.0   532.412362\n",
      "630      2015  20291.0   571.646743\n",
      "1140     2016  20291.0   621.462348\n",
      "1654     2017  20291.0   747.013235\n",
      "2170     2018  20291.0   837.352964\n",
      "2687     2019  20291.0  1272.840930\n",
      "3200     2020  20291.0  1400.295671\n",
      "3716     2021  20291.0  1222.171588\n",
      "4230     2022  20291.0  1125.428367\n",
      "      TaxYear  SIC7_5d         FTE\n",
      "123      2014  20292.0  319.664234\n",
      "631      2015  20292.0  321.804999\n",
      "1141     2016  20292.0  369.217094\n",
      "1655     2017  20292.0  363.606158\n",
      "2171     2018  20292.0  466.234120\n",
      "2688     2019  20292.0  328.716654\n",
      "3201     2020  20292.0  324.540393\n",
      "3717     2021  20292.0  321.802166\n",
      "4231     2022  20292.0  343.140644\n",
      "      TaxYear  SIC7_5d         FTE\n",
      "124      2014  20299.0  595.265718\n",
      "632      2015  20299.0  625.121266\n",
      "1142     2016  20299.0  631.346390\n",
      "1656     2017  20299.0  636.041528\n",
      "2172     2018  20299.0  658.149539\n",
      "2689     2019  20299.0  656.019215\n",
      "3202     2020  20299.0  699.785460\n",
      "3718     2021  20299.0  689.382132\n",
      "4232     2022  20299.0  676.369774\n",
      "      TaxYear  SIC7_5d         FTE\n",
      "125      2014  20300.0  129.919521\n",
      "633      2015  20300.0   64.574501\n",
      "1143     2016  20300.0   78.305535\n",
      "1657     2017  20300.0   78.894559\n",
      "2173     2018  20300.0   63.069827\n",
      "2690     2019  20300.0   71.418891\n",
      "3203     2020  20300.0   31.739487\n",
      "3719     2021  20300.0   33.920197\n",
      "4233     2022  20300.0   29.448293\n",
      "      TaxYear  SIC7_5d          FTE\n",
      "126      2014  21000.0  1733.972054\n",
      "634      2015  21000.0  1781.789871\n",
      "1144     2016  21000.0  1687.865130\n",
      "1658     2017  21000.0  1993.313562\n",
      "2174     2018  21000.0  1859.775939\n",
      "2691     2019  21000.0  2091.567663\n",
      "3204     2020  21000.0  2250.523559\n",
      "3720     2021  21000.0  2307.799313\n",
      "4234     2022  21000.0  1800.863837\n",
      "      TaxYear  SIC7_5d         FTE\n",
      "127      2014  22110.0  456.257678\n",
      "635      2015  22110.0  445.674564\n",
      "1145     2016  22110.0  475.895964\n",
      "1659     2017  22110.0  488.811587\n",
      "2175     2018  22110.0  514.634297\n",
      "2692     2019  22110.0  562.751093\n",
      "3205     2020  22110.0  562.379137\n",
      "3721     2021  22110.0  548.270030\n",
      "4235     2022  22110.0  467.641200\n",
      "      TaxYear  SIC7_5d         FTE\n",
      "128      2014  22190.0  357.431390\n",
      "636      2015  22190.0  339.048494\n",
      "1146     2016  22190.0  299.466569\n",
      "1660     2017  22190.0  210.270929\n",
      "2176     2018  22190.0  221.501921\n",
      "2693     2019  22190.0  256.267074\n",
      "3206     2020  22190.0  267.135000\n",
      "3722     2021  22190.0  229.309028\n",
      "4236     2022  22190.0  212.222859\n",
      "      TaxYear  SIC7_5d           FTE\n",
      "129      2014  22200.0  10144.812302\n",
      "637      2015  22200.0   9817.010010\n",
      "1147     2016  22200.0   9152.681521\n",
      "1661     2017  22200.0   9677.789091\n",
      "2177     2018  22200.0  10030.854853\n",
      "2694     2019  22200.0  10476.466954\n",
      "3207     2020  22200.0  10791.286705\n",
      "3723     2021  22200.0  10333.529168\n",
      "4237     2022  22200.0  10190.804943\n",
      "      TaxYear  SIC7_5d          FTE\n",
      "130      2014  23100.0  1208.560682\n",
      "638      2015  23100.0  1216.117017\n",
      "1148     2016  23100.0  1265.752903\n",
      "1662     2017  23100.0  1322.006237\n",
      "2178     2018  23100.0  1319.897576\n",
      "2695     2019  23100.0  1401.386982\n",
      "3208     2020  23100.0  1471.376366\n",
      "3724     2021  23100.0  1347.434844\n",
      "4238     2022  23100.0  1236.329757\n",
      "      TaxYear  SIC7_5d         FTE\n",
      "131      2014  23910.0  172.697349\n",
      "639      2015  23910.0  142.426973\n",
      "1149     2016  23910.0   87.316700\n",
      "1663     2017  23910.0  100.913403\n",
      "2179     2018  23910.0   93.847095\n",
      "2696     2019  23910.0   61.876940\n",
      "3209     2020  23910.0   60.569659\n",
      "3725     2021  23910.0   23.523735\n",
      "4239     2022  23910.0   28.451685\n",
      "      TaxYear  SIC7_5d         FTE\n",
      "132      2014  23920.0  229.552201\n",
      "640      2015  23920.0  127.165245\n",
      "1150     2016  23920.0  421.322312\n",
      "1664     2017  23920.0  490.594366\n",
      "2180     2018  23920.0  354.827194\n",
      "2697     2019  23920.0  309.472030\n",
      "3210     2020  23920.0  323.820908\n",
      "3726     2021  23920.0  334.271906\n",
      "4240     2022  23920.0  452.263478\n",
      "      TaxYear  SIC7_5d         FTE\n",
      "133      2014  23930.0  724.607251\n",
      "641      2015  23930.0  759.206003\n",
      "1151     2016  23930.0  848.459576\n",
      "1665     2017  23930.0  871.217103\n",
      "2181     2018  23930.0  956.853341\n",
      "2698     2019  23930.0  938.752667\n",
      "3211     2020  23930.0  870.724766\n",
      "3727     2021  23930.0  703.738241\n",
      "4241     2022  23930.0  709.436410\n",
      "      TaxYear  SIC7_5d         FTE\n",
      "134      2014  23940.0  476.023847\n",
      "642      2015  23940.0  458.547542\n",
      "1152     2016  23940.0  271.023370\n",
      "1666     2017  23940.0  258.939370\n",
      "2182     2018  23940.0  271.496603\n",
      "2699     2019  23940.0  250.333541\n",
      "3212     2020  23940.0  259.149380\n",
      "3728     2021  23940.0  253.930831\n",
      "4242     2022  23940.0  229.188175\n",
      "      TaxYear  SIC7_5d          FTE\n",
      "135      2014  23950.0  1675.715823\n",
      "643      2015  23950.0  1984.761869\n",
      "1153     2016  23950.0  2200.451480\n",
      "1667     2017  23950.0  1940.768313\n",
      "2183     2018  23950.0  2176.096080\n",
      "2700     2019  23950.0  2344.619278\n",
      "3213     2020  23950.0  2512.748548\n",
      "3729     2021  23950.0  2395.568712\n",
      "4243     2022  23950.0  2137.298062\n",
      "      TaxYear  SIC7_5d         FTE\n",
      "136      2014  23960.0  106.352040\n",
      "644      2015  23960.0  103.123173\n",
      "1154     2016  23960.0  129.135794\n",
      "1668     2017  23960.0  110.689927\n",
      "2184     2018  23960.0  140.698141\n",
      "2701     2019  23960.0   99.695695\n",
      "3214     2020  23960.0   80.415758\n",
      "3730     2021  23960.0   98.573040\n",
      "4244     2022  23960.0   74.398498\n",
      "      TaxYear  SIC7_5d        FTE\n",
      "137      2014  23990.0  75.361644\n",
      "645      2015  23990.0  60.623346\n",
      "1155     2016  23990.0  63.340513\n",
      "1669     2017  23990.0  57.348557\n",
      "2185     2018  23990.0  39.420925\n",
      "2702     2019  23990.0  41.988714\n",
      "3215     2020  23990.0  67.984604\n",
      "3731     2021  23990.0  52.954449\n",
      "4245     2022  23990.0  36.996368\n",
      "      TaxYear  SIC7_5d          FTE\n",
      "138      2014  24101.0  2079.568761\n",
      "646      2015  24101.0  1648.973985\n",
      "1156     2016  24101.0  1743.537996\n",
      "1670     2017  24101.0  1802.733153\n",
      "2186     2018  24101.0  1841.113234\n",
      "2703     2019  24101.0  2587.133159\n",
      "3216     2020  24101.0  2519.772264\n",
      "3732     2021  24101.0  2518.435415\n",
      "4246     2022  24101.0  2268.392514\n",
      "      TaxYear  SIC7_5d         FTE\n",
      "139      2014  24102.0  742.344264\n",
      "647      2015  24102.0  721.539843\n",
      "1157     2016  24102.0  678.503670\n",
      "1671     2017  24102.0  624.288953\n",
      "2187     2018  24102.0  691.499399\n",
      "2704     2019  24102.0  661.193785\n",
      "3217     2020  24102.0  580.607001\n",
      "3733     2021  24102.0  552.381728\n",
      "4247     2022  24102.0  635.214948\n",
      "      TaxYear  SIC7_5d         FTE\n",
      "140      2014  24201.0  175.089997\n",
      "648      2015  24201.0   87.495145\n",
      "1158     2016  24201.0  103.334534\n",
      "1672     2017  24201.0  100.104543\n",
      "2188     2018  24201.0   93.175239\n",
      "2705     2019  24201.0   89.802740\n",
      "3218     2020  24201.0  115.117486\n",
      "3734     2021  24201.0   84.652055\n",
      "4248     2022  24201.0   10.404977\n",
      "      TaxYear  SIC7_5d         FTE\n",
      "141      2014  24202.0  687.452064\n",
      "649      2015  24202.0  811.402697\n",
      "1159     2016  24202.0  923.533669\n",
      "1673     2017  24202.0  971.593993\n",
      "2189     2018  24202.0  985.245661\n",
      "2706     2019  24202.0  990.272769\n",
      "3219     2020  24202.0  927.835919\n",
      "3735     2021  24202.0  789.318012\n",
      "4249     2022  24202.0  804.774554\n",
      "      TaxYear  SIC7_5d         FTE\n",
      "142      2014  24310.0  282.800212\n",
      "650      2015  24310.0  240.443676\n",
      "1160     2016  24310.0  279.074408\n",
      "1674     2017  24310.0  261.195811\n",
      "2190     2018  24310.0  268.947500\n",
      "2707     2019  24310.0  196.835218\n",
      "3220     2020  24310.0  238.546651\n",
      "3736     2021  24310.0  261.256460\n",
      "4250     2022  24310.0  258.499327\n",
      "      TaxYear  SIC7_5d         FTE\n",
      "143      2014  24320.0   78.457601\n",
      "651      2015  24320.0   63.763328\n",
      "1161     2016  24320.0   60.180328\n",
      "1675     2017  24320.0   65.257534\n",
      "2191     2018  24320.0   47.928767\n",
      "2708     2019  24320.0   81.254795\n",
      "3221     2020  24320.0   94.475410\n",
      "3737     2021  24320.0  102.230137\n",
      "4251     2022  24320.0   91.265753\n",
      "      TaxYear  SIC7_5d          FTE\n",
      "144      2014  25111.0  3846.875115\n",
      "652      2015  25111.0  4154.032612\n",
      "1162     2016  25111.0  4383.338409\n",
      "1676     2017  25111.0  4491.116531\n",
      "2192     2018  25111.0  4317.605734\n",
      "2709     2019  25111.0  3684.637390\n",
      "3222     2020  25111.0  3328.645768\n",
      "3738     2021  25111.0  3278.854046\n",
      "4252     2022  25111.0  3140.508805\n",
      "      TaxYear  SIC7_5d          FTE\n",
      "145      2014  25119.0  1695.078674\n",
      "653      2015  25119.0  2088.675556\n",
      "1163     2016  25119.0  2253.331912\n",
      "1677     2017  25119.0  2495.759582\n",
      "2193     2018  25119.0  2475.007234\n",
      "2710     2019  25119.0  2745.819103\n",
      "3223     2020  25119.0  2537.602230\n",
      "3739     2021  25119.0  2184.640660\n",
      "4253     2022  25119.0  2008.620576\n",
      "      TaxYear  SIC7_5d         FTE\n",
      "146      2014  25120.0  333.418012\n",
      "654      2015  25120.0  425.017570\n",
      "1164     2016  25120.0  480.907789\n",
      "1678     2017  25120.0  666.060714\n",
      "2194     2018  25120.0  747.635175\n",
      "2711     2019  25120.0  512.840372\n",
      "3224     2020  25120.0  659.322204\n",
      "3740     2021  25120.0  666.304215\n",
      "4254     2022  25120.0  584.392711\n",
      "      TaxYear  SIC7_5d        FTE\n",
      "147      2014  25130.0  63.608993\n",
      "655      2015  25130.0  70.559433\n",
      "1165     2016  25130.0  58.938916\n",
      "1679     2017  25130.0  69.891991\n",
      "2195     2018  25130.0  57.253508\n",
      "2712     2019  25130.0  72.094534\n",
      "3225     2020  25130.0  28.217814\n",
      "3741     2021  25130.0  31.524069\n",
      "4255     2022  25130.0  34.215753\n",
      "      TaxYear  SIC7_5d        FTE\n",
      "148      2014  25200.0  85.479351\n",
      "656      2015  25200.0  90.775886\n",
      "1166     2016  25200.0  13.535519\n",
      "1680     2017  25200.0   0.000000\n",
      "2196     2018  25200.0   0.000000\n",
      "2713     2019  25200.0  27.322290\n",
      "3226     2020  25200.0  14.452212\n",
      "3742     2021  25200.0  38.068493\n",
      "4256     2022  25200.0  72.536986\n",
      "      TaxYear  SIC7_5d         FTE\n",
      "149      2014  25910.0  168.089846\n",
      "657      2015  25910.0  177.496479\n",
      "1167     2016  25910.0  154.094923\n",
      "1681     2017  25910.0  137.720548\n",
      "2197     2018  25910.0  167.663014\n",
      "2714     2019  25910.0  184.419178\n",
      "3227     2020  25910.0  141.994536\n",
      "3743     2021  25910.0  126.637396\n",
      "4257     2022  25910.0  163.644275\n",
      "      TaxYear  SIC7_5d         FTE\n",
      "150      2014  25921.0  830.881917\n",
      "658      2015  25921.0  857.628746\n",
      "1168     2016  25921.0  846.409847\n",
      "1682     2017  25921.0  873.833089\n",
      "2198     2018  25921.0  908.666777\n",
      "2715     2019  25921.0  860.902945\n",
      "3228     2020  25921.0  913.133770\n",
      "3744     2021  25921.0  796.004792\n",
      "4258     2022  25921.0  753.961966\n",
      "      TaxYear  SIC7_5d          FTE\n",
      "151      2014  25922.0  2008.803375\n",
      "659      2015  25922.0  1883.418858\n",
      "1169     2016  25922.0  1727.341886\n",
      "1683     2017  25922.0  1475.956617\n",
      "2199     2018  25922.0  1459.406946\n",
      "2716     2019  25922.0  1779.570088\n",
      "3229     2020  25922.0  1800.962651\n",
      "3745     2021  25922.0  1332.392637\n",
      "4259     2022  25922.0  1305.786948\n",
      "      TaxYear  SIC7_5d         FTE\n",
      "152      2014  25930.0  126.428860\n",
      "660      2015  25930.0  133.803480\n",
      "1170     2016  25930.0  138.791107\n",
      "1684     2017  25930.0  117.008626\n",
      "2200     2018  25930.0  171.910995\n",
      "2717     2019  25930.0  151.164940\n",
      "3230     2020  25930.0  159.880582\n",
      "3746     2021  25930.0  137.377621\n",
      "4260     2022  25930.0  131.897353\n",
      "      TaxYear  SIC7_5d         FTE\n",
      "153      2014  25991.0  241.072600\n",
      "661      2015  25991.0  446.769159\n",
      "1171     2016  25991.0  293.312337\n",
      "1685     2017  25991.0  279.145392\n",
      "2201     2018  25991.0  306.312954\n",
      "2718     2019  25991.0  258.384867\n",
      "3231     2020  25991.0  306.631997\n",
      "3747     2021  25991.0  370.920695\n",
      "4261     2022  25991.0  423.749532\n",
      "      TaxYear  SIC7_5d          FTE\n",
      "154      2014  25992.0   936.838692\n",
      "662      2015  25992.0   942.135077\n",
      "1172     2016  25992.0  1022.893866\n",
      "1686     2017  25992.0   900.442048\n",
      "2202     2018  25992.0   909.331927\n",
      "2719     2019  25992.0   921.240289\n",
      "3232     2020  25992.0   898.020277\n",
      "3748     2021  25992.0   843.061786\n",
      "4262     2022  25992.0   656.532005\n",
      "      TaxYear  SIC7_5d         FTE\n",
      "155      2014  25993.0   84.449315\n",
      "663      2015  25993.0   81.641096\n",
      "1173     2016  25993.0   86.136793\n",
      "1687     2017  25993.0   96.654962\n",
      "2203     2018  25993.0  143.348254\n",
      "2720     2019  25993.0  147.248747\n",
      "3233     2020  25993.0  126.703266\n",
      "3749     2021  25993.0  112.200387\n",
      "4263     2022  25993.0   82.682498\n",
      "      TaxYear  SIC7_5d         FTE\n",
      "156      2014  25994.0   69.391781\n",
      "664      2015  25994.0  116.796654\n",
      "1174     2016  25994.0  169.838015\n",
      "1688     2017  25994.0  188.994456\n",
      "2204     2018  25994.0  200.118540\n",
      "2721     2019  25994.0  183.329499\n",
      "3234     2020  25994.0  164.759202\n",
      "3750     2021  25994.0  194.869225\n",
      "4264     2022  25994.0  142.852786\n",
      "      TaxYear  SIC7_5d          FTE\n",
      "157      2014  25999.0  3479.638392\n",
      "665      2015  25999.0  3576.511574\n",
      "1175     2016  25999.0  3858.227733\n",
      "1689     2017  25999.0  3698.588512\n",
      "2205     2018  25999.0  3842.765504\n",
      "2722     2019  25999.0  3566.765272\n",
      "3235     2020  25999.0  3845.903081\n",
      "3751     2021  25999.0  3544.761448\n",
      "4265     2022  25999.0  3783.986095\n",
      "      TaxYear  SIC7_5d         FTE\n",
      "158      2014  26100.0  753.625871\n",
      "666      2015  26100.0  713.765860\n",
      "1176     2016  26100.0  858.860233\n",
      "1690     2017  26100.0  947.510179\n",
      "2206     2018  26100.0  783.060317\n",
      "2723     2019  26100.0  833.725117\n",
      "3236     2020  26100.0  849.946994\n",
      "3752     2021  26100.0  677.736023\n",
      "4266     2022  26100.0  682.523446\n",
      "      TaxYear  SIC7_5d         FTE\n",
      "159      2014  26200.0  176.183060\n",
      "667      2015  26200.0  181.619765\n",
      "1177     2016  26200.0  166.937823\n",
      "1691     2017  26200.0  188.818361\n",
      "2207     2018  26200.0  195.375624\n",
      "2724     2019  26200.0  156.538612\n",
      "3237     2020  26200.0  160.286885\n",
      "3753     2021  26200.0  177.980822\n",
      "4267     2022  26200.0  183.313826\n",
      "      TaxYear  SIC7_5d         FTE\n",
      "160      2014  26300.0  685.341536\n",
      "668      2015  26300.0  513.828116\n",
      "1178     2016  26300.0  468.932803\n",
      "1692     2017  26300.0  591.967123\n",
      "2208     2018  26300.0  615.872252\n",
      "2725     2019  26300.0  561.244757\n",
      "3238     2020  26300.0  445.627726\n",
      "3754     2021  26300.0  357.180320\n",
      "4268     2022  26300.0  267.596758\n",
      "      TaxYear  SIC7_5d         FTE\n",
      "161      2014  26400.0   35.046826\n",
      "669      2015  26400.0   75.843631\n",
      "1179     2016  26400.0   84.295932\n",
      "1693     2017  26400.0   97.064874\n",
      "2209     2018  26400.0  112.375367\n",
      "2726     2019  26400.0  113.035798\n",
      "3239     2020  26400.0  524.867013\n",
      "3755     2021  26400.0  462.960869\n",
      "4269     2022  26400.0  588.969088\n",
      "      TaxYear  SIC7_5d         FTE\n",
      "162      2014  26510.0  258.934013\n",
      "670      2015  26510.0  336.420112\n",
      "1180     2016  26510.0  333.123405\n",
      "1694     2017  26510.0  362.348762\n",
      "2210     2018  26510.0  374.577692\n",
      "2727     2019  26510.0  376.288949\n",
      "3240     2020  26510.0  354.721873\n",
      "3756     2021  26510.0  367.256840\n",
      "4270     2022  26510.0  348.265935\n",
      "      TaxYear  SIC7_5d        FTE\n",
      "163      2014  26520.0   0.000000\n",
      "671      2015  26520.0   0.000000\n",
      "1181     2016  26520.0   0.000000\n",
      "1695     2017  26520.0   0.000000\n",
      "2211     2018  26520.0   0.000000\n",
      "2728     2019  26520.0   0.000000\n",
      "3241     2020  26520.0  12.273224\n",
      "3757     2021  26520.0  11.002740\n",
      "4271     2022  26520.0  29.306849\n",
      "      TaxYear  SIC7_5d  FTE\n",
      "164      2014  26600.0  0.0\n",
      "672      2015  26600.0  0.0\n",
      "1182     2016  26600.0  0.0\n",
      "1696     2017  26600.0  0.0\n",
      "2212     2018  26600.0  0.0\n",
      "2729     2019  26600.0  0.0\n",
      "3242     2020  26600.0  0.0\n",
      "3758     2021  26600.0  0.0\n",
      "      TaxYear  SIC7_5d         FTE\n",
      "165      2014  26700.0  106.608219\n",
      "673      2015  26700.0   96.260274\n",
      "1183     2016  26700.0  165.674863\n",
      "1697     2017  26700.0  196.241096\n",
      "2213     2018  26700.0  103.805479\n",
      "2730     2019  26700.0   88.745205\n",
      "3243     2020  26700.0   80.293014\n",
      "3759     2021  26700.0   71.936986\n",
      "4272     2022  26700.0   51.728767\n",
      "      TaxYear  SIC7_5d        FTE\n",
      "166      2014  26800.0   0.000000\n",
      "674      2015  26800.0   0.000000\n",
      "1184     2016  26800.0   0.000000\n",
      "1698     2017  26800.0   0.000000\n",
      "2214     2018  26800.0   0.000000\n",
      "2731     2019  26800.0   0.000000\n",
      "3244     2020  26800.0  11.319672\n",
      "3760     2021  26800.0  30.144333\n",
      "4273     2022  26800.0   0.000000\n",
      "      TaxYear  SIC7_5d          FTE\n",
      "167      2014  27100.0  1346.754693\n",
      "675      2015  27100.0  1068.421566\n",
      "1185     2016  27100.0   876.075002\n",
      "1699     2017  27100.0   887.630252\n",
      "2215     2018  27100.0   900.650363\n",
      "2732     2019  27100.0   699.573418\n",
      "3245     2020  27100.0   625.268833\n",
      "3761     2021  27100.0   494.672905\n",
      "4274     2022  27100.0   584.700635\n",
      "      TaxYear  SIC7_5d        FTE\n",
      "168      2014  27200.0  31.619178\n",
      "676      2015  27200.0  19.293151\n",
      "1186     2016  27200.0  19.508197\n",
      "1700     2017  27200.0  22.084932\n",
      "2216     2018  27200.0  22.668493\n",
      "2733     2019  27200.0  24.728767\n",
      "3246     2020  27200.0  59.133956\n",
      "3762     2021  27200.0  39.578082\n",
      "4275     2022  27200.0  21.369634\n",
      "      TaxYear  SIC7_5d         FTE\n",
      "169      2014  27310.0   43.054795\n",
      "677      2015  27310.0   44.942466\n",
      "1187     2016  27310.0  118.546448\n",
      "1701     2017  27310.0   76.252055\n",
      "2217     2018  27310.0   20.857534\n",
      "2734     2019  27310.0   19.871233\n",
      "3247     2020  27310.0    0.000000\n",
      "3763     2021  27310.0    0.000000\n",
      "4276     2022  27310.0    0.000000\n",
      "      TaxYear  SIC7_5d         FTE\n",
      "170      2014  27320.0  120.127261\n",
      "678      2015  27320.0   56.952870\n",
      "1188     2016  27320.0  139.244852\n",
      "1702     2017  27320.0  176.661271\n",
      "2218     2018  27320.0  187.486066\n",
      "2735     2019  27320.0  211.096602\n",
      "3248     2020  27320.0  201.036538\n",
      "3764     2021  27320.0  182.706983\n",
      "4277     2022  27320.0  183.753168\n",
      "      TaxYear  SIC7_5d         FTE\n",
      "171      2014  27330.0   12.648570\n",
      "679      2015  27330.0  149.084932\n",
      "1189     2016  27330.0  173.177596\n",
      "1703     2017  27330.0  163.331507\n",
      "2219     2018  27330.0  148.416438\n",
      "2736     2019  27330.0  132.967123\n",
      "3249     2020  27330.0  148.131148\n",
      "3765     2021  27330.0  107.087671\n",
      "4278     2022  27330.0  105.194521\n",
      "      TaxYear  SIC7_5d         FTE\n",
      "172      2014  27400.0  517.819074\n",
      "680      2015  27400.0  585.077130\n",
      "1190     2016  27400.0  689.585282\n",
      "1704     2017  27400.0  817.650918\n",
      "2220     2018  27400.0  706.214504\n",
      "2737     2019  27400.0  712.178759\n",
      "3250     2020  27400.0  622.015136\n",
      "3766     2021  27400.0  552.212783\n",
      "4279     2022  27400.0  258.993429\n",
      "      TaxYear  SIC7_5d         FTE\n",
      "173      2014  27500.0  191.653741\n",
      "681      2015  27500.0   89.390338\n",
      "1191     2016  27500.0   67.482309\n",
      "1705     2017  27500.0   78.845638\n",
      "2221     2018  27500.0   99.415723\n",
      "2738     2019  27500.0  104.746196\n",
      "3251     2020  27500.0  110.052130\n",
      "3767     2021  27500.0  105.127261\n",
      "4280     2022  27500.0   56.632544\n",
      "      TaxYear  SIC7_5d         FTE\n",
      "174      2014  27900.0  744.598931\n",
      "682      2015  27900.0  778.708830\n",
      "1192     2016  27900.0  800.814542\n",
      "1706     2017  27900.0  744.879319\n",
      "2222     2018  27900.0  769.465821\n",
      "2739     2019  27900.0  721.903256\n",
      "3252     2020  27900.0  659.433372\n",
      "3768     2021  27900.0  610.300774\n",
      "4281     2022  27900.0  557.670972\n",
      "      TaxYear  SIC7_5d         FTE\n",
      "175      2014  28110.0   17.358861\n",
      "683      2015  28110.0  512.638356\n",
      "1193     2016  28110.0  512.275956\n",
      "1707     2017  28110.0  478.049315\n",
      "2223     2018  28110.0  490.141312\n",
      "2740     2019  28110.0  476.757751\n",
      "3253     2020  28110.0  514.909270\n",
      "3769     2021  28110.0  648.855064\n",
      "4282     2022  28110.0  615.090336\n",
      "      TaxYear  SIC7_5d         FTE\n",
      "176      2014  28120.0  398.575342\n",
      "684      2015  28120.0   86.578082\n",
      "1194     2016  28120.0   76.409836\n",
      "1708     2017  28120.0   76.353425\n",
      "2224     2018  28120.0   77.065753\n",
      "2741     2019  28120.0  100.189041\n",
      "3254     2020  28120.0  154.953453\n",
      "3770     2021  28120.0  123.912654\n",
      "4283     2022  28120.0  115.789041\n",
      "      TaxYear  SIC7_5d         FTE\n",
      "177      2014  28130.0  166.556281\n",
      "685      2015  28130.0  157.101150\n",
      "1195     2016  28130.0  157.640769\n",
      "1709     2017  28130.0  186.762100\n",
      "2225     2018  28130.0  556.833908\n",
      "2742     2019  28130.0  544.462525\n",
      "3255     2020  28130.0  646.423287\n",
      "3771     2021  28130.0  641.659601\n",
      "4284     2022  28130.0  601.447267\n",
      "      TaxYear  SIC7_5d         FTE\n",
      "178      2014  28140.0   81.334822\n",
      "686      2015  28140.0   69.226007\n",
      "1196     2016  28140.0   44.946591\n",
      "1710     2017  28140.0   59.958184\n",
      "2226     2018  28140.0   62.970234\n",
      "2743     2019  28140.0   63.928748\n",
      "3256     2020  28140.0   91.606263\n",
      "3772     2021  28140.0   99.097381\n",
      "4285     2022  28140.0  107.850205\n",
      "      TaxYear  SIC7_5d         FTE\n",
      "179      2014  28150.0   43.534247\n",
      "687      2015  28150.0   71.451070\n",
      "1197     2016  28150.0   88.192246\n",
      "1711     2017  28150.0   88.580102\n",
      "2227     2018  28150.0   86.641248\n",
      "2744     2019  28150.0  100.600292\n",
      "3257     2020  28150.0  101.464892\n",
      "3773     2021  28150.0   86.111175\n",
      "4286     2022  28150.0   89.454795\n",
      "      TaxYear  SIC7_5d         FTE\n",
      "180      2014  28160.0  141.983995\n",
      "688      2015  28160.0  178.712593\n",
      "1198     2016  28160.0  174.263749\n",
      "1712     2017  28160.0  156.837890\n",
      "2228     2018  28160.0  170.089258\n",
      "2745     2019  28160.0  164.560686\n",
      "3258     2020  28160.0  164.835170\n",
      "3774     2021  28160.0  160.339478\n",
      "4287     2022  28160.0  133.295652\n",
      "      TaxYear  SIC7_5d        FTE\n",
      "181      2014  28170.0  56.634332\n",
      "689      2015  28170.0  52.330823\n",
      "1199     2016  28170.0  42.942690\n",
      "1713     2017  28170.0  10.375264\n",
      "2229     2018  28170.0  14.503198\n",
      "2746     2019  28170.0  37.334065\n",
      "3259     2020  28170.0  36.056639\n",
      "3775     2021  28170.0  34.219021\n",
      "4288     2022  28170.0  32.502833\n",
      "      TaxYear  SIC7_5d         FTE\n",
      "182      2014  28190.0  801.838140\n",
      "690      2015  28190.0  717.353197\n",
      "1201     2016  28190.0  755.552356\n",
      "1715     2017  28190.0  799.172345\n",
      "2231     2018  28190.0  655.128014\n",
      "2748     2019  28190.0  754.567688\n",
      "3261     2020  28190.0  681.895774\n",
      "3777     2021  28190.0  620.313441\n",
      "4290     2022  28190.0  642.182588\n",
      "      TaxYear  SIC7_5d         FTE\n",
      "183      2014  28210.0  483.683633\n",
      "691      2015  28210.0  577.452122\n",
      "1202     2016  28210.0  577.071269\n",
      "1716     2017  28210.0  743.290550\n",
      "2232     2018  28210.0  770.079256\n",
      "2749     2019  28210.0  798.223296\n",
      "3262     2020  28210.0  732.779457\n",
      "3778     2021  28210.0  745.237547\n",
      "4291     2022  28210.0  864.491281\n",
      "      TaxYear  SIC7_5d         FTE\n",
      "184      2014  28220.0  113.750035\n",
      "692      2015  28220.0  177.594094\n",
      "1203     2016  28220.0  144.059830\n",
      "1717     2017  28220.0  114.486832\n",
      "2233     2018  28220.0  141.443685\n",
      "2750     2019  28220.0  137.186387\n",
      "3263     2020  28220.0  148.700386\n",
      "3779     2021  28220.0  144.919373\n",
      "4292     2022  28220.0  151.529027\n",
      "      TaxYear  SIC7_5d        FTE\n",
      "185      2014  28230.0   0.000000\n",
      "693      2015  28230.0  26.419178\n",
      "1204     2016  28230.0  23.434426\n",
      "1718     2017  28230.0  40.232877\n",
      "2234     2018  28230.0  36.657534\n",
      "2751     2019  28230.0  36.219631\n",
      "3264     2020  28230.0  38.773224\n",
      "3780     2021  28230.0  38.389041\n",
      "4293     2022  28230.0  37.446575\n",
      "      TaxYear  SIC7_5d         FTE\n",
      "186      2014  28240.0  912.633831\n",
      "694      2015  28240.0  381.562348\n",
      "1205     2016  28240.0  404.601192\n",
      "1719     2017  28240.0  249.532269\n",
      "2235     2018  28240.0  314.215188\n",
      "2752     2019  28240.0  263.346488\n",
      "3265     2020  28240.0  374.518224\n",
      "3781     2021  28240.0  261.649315\n",
      "4294     2022  28240.0  292.018676\n",
      "      TaxYear  SIC7_5d         FTE\n",
      "187      2014  28250.0  368.838532\n",
      "695      2015  28250.0  519.431977\n",
      "1206     2016  28250.0  545.886166\n",
      "1720     2017  28250.0  491.837922\n",
      "2236     2018  28250.0  487.611309\n",
      "2753     2019  28250.0  411.574416\n",
      "3266     2020  28250.0  396.769262\n",
      "3782     2021  28250.0  366.401753\n",
      "4295     2022  28250.0  318.932606\n",
      "      TaxYear  SIC7_5d         FTE\n",
      "188      2014  28260.0  186.495890\n",
      "696      2015  28260.0  207.153425\n",
      "1207     2016  28260.0  189.751366\n",
      "1721     2017  28260.0  191.202740\n",
      "2237     2018  28260.0  203.090411\n",
      "2754     2019  28260.0  171.106849\n",
      "3267     2020  28260.0   72.562842\n",
      "3783     2021  28260.0   18.695890\n",
      "4296     2022  28260.0    0.000000\n",
      "      TaxYear  SIC7_5d         FTE\n",
      "189      2014  28290.0  274.674464\n",
      "697      2015  28290.0  622.854928\n",
      "1208     2016  28290.0  793.010594\n",
      "1722     2017  28290.0  869.622046\n",
      "2238     2018  28290.0  565.820470\n",
      "2755     2019  28290.0  629.372194\n",
      "3268     2020  28290.0  792.135589\n",
      "3784     2021  28290.0  657.045691\n",
      "4297     2022  28290.0  713.774083\n",
      "      TaxYear  SIC7_5d          FTE\n",
      "190      2014  29100.0  1432.101464\n",
      "698      2015  29100.0  1303.081722\n",
      "1209     2016  29100.0  1232.874166\n",
      "1723     2017  29100.0  1174.927302\n",
      "2239     2018  29100.0   955.231060\n",
      "2756     2019  29100.0  1038.786088\n",
      "3269     2020  29100.0  1014.699333\n",
      "3785     2021  29100.0  1037.395038\n",
      "4298     2022  29100.0  1125.242682\n",
      "      TaxYear  SIC7_5d          FTE\n",
      "191      2014  29200.0  1595.367004\n",
      "699      2015  29200.0  1693.201991\n",
      "1210     2016  29200.0  1657.717863\n",
      "1724     2017  29200.0  1840.429403\n",
      "2240     2018  29200.0  1784.302092\n",
      "2757     2019  29200.0  1671.063927\n",
      "3270     2020  29200.0  1678.783031\n",
      "3786     2021  29200.0  1427.560781\n",
      "4299     2022  29200.0  1512.447918\n",
      "      TaxYear  SIC7_5d          FTE\n",
      "192      2014  29300.0  2845.054815\n",
      "700      2015  29300.0  2921.004428\n",
      "1211     2016  29300.0  2703.138489\n",
      "1725     2017  29300.0  2294.422707\n",
      "2241     2018  29300.0  2170.603742\n",
      "2758     2019  29300.0  1937.666414\n",
      "3271     2020  29300.0  2028.827552\n",
      "3787     2021  29300.0  2107.266307\n",
      "4300     2022  29300.0  2344.311061\n",
      "      TaxYear  SIC7_5d          FTE\n",
      "193      2014  30110.0  1403.043334\n",
      "701      2015  30110.0  2005.923288\n",
      "1212     2016  30110.0  1004.341530\n",
      "1726     2017  30110.0   866.953425\n",
      "2242     2018  30110.0   710.391164\n",
      "2759     2019  30110.0   358.371591\n",
      "3272     2020  30110.0   423.116597\n",
      "3788     2021  30110.0   406.638356\n",
      "4301     2022  30110.0   436.459388\n",
      "      TaxYear  SIC7_5d          FTE\n",
      "194      2014  30120.0  1265.078914\n",
      "702      2015  30120.0  1740.284275\n",
      "1213     2016  30120.0  2160.764285\n",
      "1727     2017  30120.0  2100.372795\n",
      "2243     2018  30120.0  2140.362483\n",
      "2760     2019  30120.0  2490.192311\n",
      "3273     2020  30120.0  2620.193880\n",
      "3789     2021  30120.0  2561.939501\n",
      "4302     2022  30120.0  2850.503570\n",
      "      TaxYear  SIC7_5d        FTE\n",
      "195      2014  30200.0   0.000000\n",
      "703      2015  30200.0  10.071233\n",
      "1214     2016  30200.0  15.997268\n",
      "1728     2017  30200.0  24.402740\n",
      "2244     2018  30200.0  21.263014\n",
      "2761     2019  30200.0  21.586301\n",
      "3274     2020  30200.0  18.445355\n",
      "3790     2021  30200.0  14.000000\n",
      "4303     2022  30200.0   0.000000\n",
      "      TaxYear  SIC7_5d        FTE\n",
      "196      2014  30300.0  29.154239\n",
      "704      2015  30300.0  31.854928\n",
      "1215     2016  30300.0  38.497268\n",
      "1729     2017  30300.0  38.578082\n",
      "2245     2018  30300.0  44.964384\n",
      "2762     2019  30300.0  40.098630\n",
      "3275     2020  30300.0  40.731020\n",
      "3791     2021  30300.0  41.035738\n",
      "4304     2022  30300.0  75.464031\n",
      "      TaxYear  SIC7_5d  FTE\n",
      "197      2014  30400.0  0.0\n",
      "2246     2018  30400.0  0.0\n",
      "3276     2020  30400.0  0.0\n",
      "3792     2021  30400.0  0.0\n",
      "      TaxYear  SIC7_5d        FTE\n",
      "198      2014  30910.0   0.000000\n",
      "705      2015  30910.0  11.912329\n",
      "1216     2016  30910.0  11.500000\n",
      "1730     2017  30910.0  21.347945\n",
      "2247     2018  30910.0  18.863014\n",
      "2763     2019  30910.0  11.153425\n",
      "3277     2020  30910.0  12.136612\n",
      "3793     2021  30910.0  12.909589\n",
      "4305     2022  30910.0   0.000000\n",
      "      TaxYear  SIC7_5d         FTE\n",
      "199      2014  30920.0  179.392512\n",
      "706      2015  30920.0   82.753780\n",
      "1217     2016  30920.0   72.803279\n",
      "1731     2017  30920.0   78.574962\n",
      "2248     2018  30920.0  100.821918\n",
      "2764     2019  30920.0   80.106849\n",
      "3278     2020  30920.0   75.939891\n",
      "3794     2021  30920.0   79.493151\n",
      "4306     2022  30920.0   73.520548\n",
      "      TaxYear  SIC7_5d         FTE\n",
      "200      2014  30990.0  579.235490\n",
      "707      2015  30990.0  483.767424\n",
      "1218     2016  30990.0  639.323252\n",
      "1732     2017  30990.0  792.081723\n",
      "2249     2018  30990.0  876.624503\n",
      "2765     2019  30990.0  799.584709\n",
      "3279     2020  30990.0  829.604324\n",
      "3795     2021  30990.0  746.436029\n",
      "4307     2022  30990.0  801.397293\n",
      "      TaxYear  SIC7_5d          FTE\n",
      "201      2014  31000.0  4801.824743\n",
      "708      2015  31000.0  5035.154279\n",
      "1219     2016  31000.0  5231.832116\n",
      "1733     2017  31000.0  5255.266916\n",
      "2250     2018  31000.0  5255.617370\n",
      "2766     2019  31000.0  4865.255908\n",
      "3280     2020  31000.0  4545.870498\n",
      "3796     2021  31000.0  4083.812970\n",
      "4308     2022  31000.0  4087.778727\n",
      "      TaxYear  SIC7_5d         FTE\n",
      "202      2014  32111.0  812.787607\n",
      "709      2015  32111.0  944.902815\n",
      "1220     2016  32111.0  949.703348\n",
      "1734     2017  32111.0  951.875289\n",
      "2251     2018  32111.0  800.174233\n",
      "2767     2019  32111.0  897.334303\n",
      "3281     2020  32111.0  793.139218\n",
      "3797     2021  32111.0  613.514300\n",
      "4309     2022  32111.0  527.556724\n",
      "      TaxYear  SIC7_5d        FTE\n",
      "203      2014  32119.0   0.000000\n",
      "710      2015  32119.0   0.000000\n",
      "1221     2016  32119.0   0.000000\n",
      "1735     2017  32119.0   0.000000\n",
      "2252     2018  32119.0   0.000000\n",
      "2768     2019  32119.0   0.000000\n",
      "3282     2020  32119.0   0.000000\n",
      "3798     2021  32119.0   0.000000\n",
      "4310     2022  32119.0  11.785248\n",
      "      TaxYear  SIC7_5d        FTE\n",
      "204      2014  32120.0  31.702420\n",
      "711      2015  32120.0  29.806953\n",
      "1222     2016  32120.0  50.669875\n",
      "1736     2017  32120.0  41.454795\n",
      "2253     2018  32120.0  69.723288\n",
      "2769     2019  32120.0  20.731507\n",
      "3283     2020  32120.0  23.931694\n",
      "3799     2021  32120.0  25.917808\n",
      "4311     2022  32120.0  40.506849\n",
      "      TaxYear  SIC7_5d        FTE\n",
      "205      2014  32200.0  30.733954\n",
      "712      2015  32200.0  16.894737\n",
      "1223     2016  32200.0  18.222823\n",
      "1737     2017  32200.0  13.341312\n",
      "2254     2018  32200.0  18.443454\n",
      "2770     2019  32200.0  24.056876\n",
      "3284     2020  32200.0  24.450257\n",
      "3800     2021  32200.0  15.647516\n",
      "4312     2022  32200.0  22.195294\n",
      "      TaxYear  SIC7_5d         FTE\n",
      "206      2014  32300.0   99.134582\n",
      "713      2015  32300.0   98.517808\n",
      "1224     2016  32300.0  134.084208\n",
      "1738     2017  32300.0  167.953974\n",
      "2255     2018  32300.0  204.182446\n",
      "2771     2019  32300.0  169.116138\n",
      "3285     2020  32300.0  161.959529\n",
      "3801     2021  32300.0  171.908565\n",
      "4313     2022  32300.0  108.474581\n",
      "      TaxYear  SIC7_5d         FTE\n",
      "207      2014  32400.0   50.394521\n",
      "714      2015  32400.0   57.298630\n",
      "1225     2016  32400.0   83.349038\n",
      "1739     2017  32400.0  135.196758\n",
      "2256     2018  32400.0  122.649315\n",
      "2772     2019  32400.0  114.553425\n",
      "3286     2020  32400.0  132.439891\n",
      "3802     2021  32400.0  126.843836\n",
      "4314     2022  32400.0  176.040194\n",
      "      TaxYear  SIC7_5d         FTE\n",
      "208      2014  32500.0  612.402273\n",
      "715      2015  32500.0  541.401360\n",
      "1226     2016  32500.0  469.764757\n",
      "1740     2017  32500.0  514.918535\n",
      "2257     2018  32500.0  523.247067\n",
      "2773     2019  32500.0  550.826408\n",
      "3287     2020  32500.0  556.319010\n",
      "3803     2021  32500.0  577.586170\n",
      "4315     2022  32500.0  564.096433\n",
      "      TaxYear  SIC7_5d        FTE\n",
      "209      2014  32901.0  18.432752\n",
      "716      2015  32901.0   0.000000\n",
      "1227     2016  32901.0   0.000000\n",
      "1741     2017  32901.0   0.000000\n",
      "2258     2018  32901.0   0.000000\n",
      "2774     2019  32901.0   0.000000\n",
      "3288     2020  32901.0   0.000000\n",
      "3804     2021  32901.0   0.000000\n",
      "4316     2022  32901.0   0.000000\n",
      "      TaxYear  SIC7_5d          FTE\n",
      "210      2014  32909.0  3231.192455\n",
      "717      2015  32909.0  2900.511899\n",
      "1228     2016  32909.0  2845.546225\n",
      "1742     2017  32909.0  3450.726327\n",
      "2259     2018  32909.0  3697.831102\n",
      "2775     2019  32909.0  3353.253941\n",
      "3289     2020  32909.0  3506.830934\n",
      "3805     2021  32909.0  3346.610125\n",
      "4317     2022  32909.0  3480.448599\n",
      "      TaxYear  SIC7_5d         FTE\n",
      "211      2014  33110.0  524.926787\n",
      "718      2015  33110.0  469.000152\n",
      "1229     2016  33110.0  538.428318\n",
      "1743     2017  33110.0  616.700534\n",
      "2260     2018  33110.0  495.960623\n",
      "2776     2019  33110.0  447.591781\n",
      "3290     2020  33110.0  475.284153\n",
      "3806     2021  33110.0  374.397827\n",
      "4318     2022  33110.0  374.430271\n",
      "      TaxYear  SIC7_5d         FTE\n",
      "212      2014  33120.0  885.140952\n",
      "719      2015  33120.0  928.547883\n",
      "1230     2016  33120.0  928.685781\n",
      "1744     2017  33120.0  823.525840\n",
      "2261     2018  33120.0  813.662208\n",
      "2777     2019  33120.0  816.182591\n",
      "3291     2020  33120.0  842.154010\n",
      "3807     2021  33120.0  701.888441\n",
      "4319     2022  33120.0  661.813626\n",
      "      TaxYear  SIC7_5d         FTE\n",
      "213      2014  33130.0  161.639770\n",
      "720      2015  33130.0  143.714210\n",
      "1231     2016  33130.0  135.102749\n",
      "1745     2017  33130.0   96.471688\n",
      "2262     2018  33130.0   87.994395\n",
      "2778     2019  33130.0   66.790796\n",
      "3292     2020  33130.0  112.970204\n",
      "3808     2021  33130.0  105.367984\n",
      "4320     2022  33130.0  100.629545\n",
      "      TaxYear  SIC7_5d         FTE\n",
      "214      2014  33140.0  412.289851\n",
      "721      2015  33140.0  446.168745\n",
      "1232     2016  33140.0  444.350733\n",
      "1746     2017  33140.0  449.671928\n",
      "2263     2018  33140.0  406.978786\n",
      "2779     2019  33140.0  448.012264\n",
      "3293     2020  33140.0  510.846560\n",
      "3809     2021  33140.0  510.960283\n",
      "4321     2022  33140.0  526.279087\n",
      "      TaxYear  SIC7_5d         FTE\n",
      "215      2014  33150.0  473.387732\n",
      "722      2015  33150.0  380.291842\n",
      "1233     2016  33150.0  576.510582\n",
      "1747     2017  33150.0  547.705134\n",
      "2264     2018  33150.0  685.202779\n",
      "2780     2019  33150.0  674.453709\n",
      "3294     2020  33150.0  624.903166\n",
      "3810     2021  33150.0  533.320044\n",
      "4322     2022  33150.0  535.608685\n",
      "      TaxYear  SIC7_5d          FTE\n",
      "216      2014  33190.0  1134.939825\n",
      "723      2015  33190.0  1482.054400\n",
      "1234     2016  33190.0  1506.390248\n",
      "1748     2017  33190.0  1685.266684\n",
      "2265     2018  33190.0  1626.165648\n",
      "2781     2019  33190.0  1854.268330\n",
      "3295     2020  33190.0  1564.214517\n",
      "3811     2021  33190.0  1429.756142\n",
      "4323     2022  33190.0  1389.956550\n",
      "      TaxYear  SIC7_5d         FTE\n",
      "217      2014  33200.0  538.065146\n",
      "724      2015  33200.0  623.974391\n",
      "1235     2016  33200.0  681.727888\n",
      "1749     2017  33200.0  635.661271\n",
      "2266     2018  33200.0  609.524927\n",
      "2782     2019  33200.0  625.431976\n",
      "3296     2020  33200.0  761.710833\n",
      "3812     2021  33200.0  843.110499\n",
      "4324     2022  33200.0  897.331047\n",
      "      TaxYear  SIC7_5d          FTE\n",
      "218      2014  35101.0   899.795909\n",
      "725      2015  35101.0   970.744524\n",
      "1236     2016  35101.0  1328.796963\n",
      "1750     2017  35101.0   888.347810\n",
      "2267     2018  35101.0   899.645744\n",
      "2783     2019  35101.0   926.413017\n",
      "3297     2020  35101.0  1053.002170\n",
      "3813     2021  35101.0  1553.832692\n",
      "4325     2022  35101.0  1665.881547\n",
      "      TaxYear  SIC7_5d         FTE\n",
      "219      2014  35102.0  140.900122\n",
      "726      2015  35102.0  123.017170\n",
      "1237     2016  35102.0   85.245489\n",
      "1751     2017  35102.0  159.029087\n",
      "2268     2018  35102.0  213.956392\n",
      "2784     2019  35102.0  256.593414\n",
      "3298     2020  35102.0  301.629642\n",
      "3814     2021  35102.0  543.716301\n",
      "4326     2022  35102.0  409.596223\n",
      "      TaxYear  SIC7_5d         FTE\n",
      "220      2014  35103.0   10.936986\n",
      "727      2015  35103.0    0.000000\n",
      "1238     2016  35103.0   21.242018\n",
      "1752     2017  35103.0   25.947945\n",
      "2269     2018  35103.0   21.293151\n",
      "2785     2019  35103.0   41.146769\n",
      "3299     2020  35103.0   72.376731\n",
      "3815     2021  35103.0  181.727481\n",
      "4327     2022  35103.0  223.047680\n",
      "      TaxYear  SIC7_5d          FTE\n",
      "221      2014  35200.0   403.711005\n",
      "728      2015  35200.0   303.699926\n",
      "1239     2016  35200.0   269.417888\n",
      "1753     2017  35200.0   275.481625\n",
      "2270     2018  35200.0   248.100261\n",
      "2786     2019  35200.0  1378.914575\n",
      "3300     2020  35200.0  1420.788711\n",
      "3816     2021  35200.0  1525.759034\n",
      "4328     2022  35200.0  1509.989351\n",
      "      TaxYear  SIC7_5d         FTE\n",
      "222      2014  35300.0  446.652302\n",
      "729      2015  35300.0  469.729117\n",
      "1240     2016  35300.0  442.496323\n",
      "1754     2017  35300.0  438.657196\n",
      "2271     2018  35300.0  523.923175\n",
      "2787     2019  35300.0  574.576164\n",
      "3301     2020  35300.0  713.416666\n",
      "3817     2021  35300.0  657.146290\n",
      "4329     2022  35300.0  617.933355\n",
      "      TaxYear  SIC7_5d         FTE\n",
      "223      2014  36000.0  283.952642\n",
      "730      2015  36000.0  371.682558\n",
      "1241     2016  36000.0  450.165652\n",
      "1755     2017  36000.0  464.692012\n",
      "2272     2018  36000.0  554.507404\n",
      "2788     2019  36000.0  663.582657\n",
      "3302     2020  36000.0  641.520225\n",
      "3818     2021  36000.0  665.959332\n",
      "4330     2022  36000.0  629.878255\n",
      "      TaxYear  SIC7_5d         FTE\n",
      "224      2014  37000.0  367.415672\n",
      "731      2015  37000.0  495.402836\n",
      "1242     2016  37000.0  351.993330\n",
      "1756     2017  37000.0  223.443030\n",
      "2273     2018  37000.0  199.351157\n",
      "2789     2019  37000.0  639.945451\n",
      "3303     2020  37000.0  294.277768\n",
      "3819     2021  37000.0  278.371775\n",
      "4331     2022  37000.0  259.270213\n",
      "      TaxYear  SIC7_5d          FTE\n",
      "225      2014  38110.0  1597.047623\n",
      "732      2015  38110.0  1927.435186\n",
      "1243     2016  38110.0  1494.145141\n",
      "1757     2017  38110.0  1434.354558\n",
      "2274     2018  38110.0  2154.059724\n",
      "2790     2019  38110.0  2270.252499\n",
      "3304     2020  38110.0  2314.137223\n",
      "3820     2021  38110.0  1893.837517\n",
      "4332     2022  38110.0  1460.572662\n",
      "      TaxYear  SIC7_5d         FTE\n",
      "226      2014  38120.0  112.048171\n",
      "733      2015  38120.0  123.405211\n",
      "1244     2016  38120.0  113.622951\n",
      "1758     2017  38120.0  100.866952\n",
      "2275     2018  38120.0  101.282192\n",
      "2791     2019  38120.0  104.386301\n",
      "3305     2020  38120.0  117.885246\n",
      "3821     2021  38120.0   98.186301\n",
      "4333     2022  38120.0  106.887671\n",
      "      TaxYear  SIC7_5d          FTE\n",
      "227      2014  38210.0   210.520309\n",
      "734      2015  38210.0   149.052114\n",
      "1245     2016  38210.0   131.047303\n",
      "1759     2017  38210.0   125.111261\n",
      "2276     2018  38210.0   163.145454\n",
      "2792     2019  38210.0    62.759865\n",
      "3306     2020  38210.0   192.889773\n",
      "3822     2021  38210.0   837.819980\n",
      "4334     2022  38210.0  1087.725397\n",
      "      TaxYear  SIC7_5d        FTE\n",
      "228      2014  38220.0  52.257534\n",
      "735      2015  38220.0  36.167123\n",
      "1246     2016  38220.0  39.355191\n",
      "1760     2017  38220.0  33.295890\n",
      "2277     2018  38220.0   0.000000\n",
      "2793     2019  38220.0   0.000000\n",
      "3307     2020  38220.0   0.000000\n",
      "3823     2021  38220.0   0.000000\n",
      "      TaxYear  SIC7_5d         FTE\n",
      "229      2014  38300.0  270.219304\n",
      "736      2015  38300.0  288.933292\n",
      "1247     2016  38300.0  283.356374\n",
      "1761     2017  38300.0  256.021267\n",
      "2278     2018  38300.0  304.994946\n",
      "2794     2019  38300.0  352.933039\n",
      "3308     2020  38300.0  397.583485\n",
      "3824     2021  38300.0  318.480318\n",
      "4335     2022  38300.0  374.059954\n",
      "      TaxYear  SIC7_5d         FTE\n",
      "230      2014  39000.0  198.635415\n",
      "737      2015  39000.0  189.821465\n",
      "1248     2016  39000.0  228.164125\n",
      "1762     2017  39000.0  246.245094\n",
      "2279     2018  39000.0  317.321434\n",
      "2795     2019  39000.0  443.057716\n",
      "3309     2020  39000.0  287.735199\n",
      "3825     2021  39000.0  328.159810\n",
      "4336     2022  39000.0  334.410739\n",
      "      TaxYear  SIC7_5d           FTE\n",
      "231      2014  41000.0  15044.905693\n",
      "738      2015  41000.0  16139.114955\n",
      "1249     2016  41000.0  17013.343316\n",
      "1763     2017  41000.0  19288.727387\n",
      "2280     2018  41000.0  20319.920394\n",
      "2796     2019  41000.0  18878.976729\n",
      "3310     2020  41000.0  15892.033108\n",
      "3826     2021  41000.0  13808.969182\n",
      "4337     2022  41000.0  11620.226735\n",
      "      TaxYear  SIC7_5d          FTE\n",
      "232      2014  42100.0  4904.741964\n",
      "739      2015  42100.0  5536.308792\n",
      "1250     2016  42100.0  6060.652244\n",
      "1764     2017  42100.0  5890.640659\n",
      "2281     2018  42100.0  5993.977757\n",
      "2797     2019  42100.0  4287.617879\n",
      "3311     2020  42100.0  4673.092198\n",
      "3827     2021  42100.0  4443.312098\n",
      "4338     2022  42100.0  4294.475802\n",
      "      TaxYear  SIC7_5d          FTE\n",
      "233      2014  42200.0  1398.092878\n",
      "740      2015  42200.0  1199.253657\n",
      "1251     2016  42200.0   946.607444\n",
      "1765     2017  42200.0  1071.794680\n",
      "2282     2018  42200.0  1472.587139\n",
      "2798     2019  42200.0   911.777791\n",
      "3312     2020  42200.0   920.552441\n",
      "3828     2021  42200.0   994.433242\n",
      "4339     2022  42200.0   908.819702\n",
      "      TaxYear  SIC7_5d          FTE\n",
      "234      2014  42900.0  9780.934621\n",
      "741      2015  42900.0  8130.789170\n",
      "1252     2016  42900.0  8696.771528\n",
      "1766     2017  42900.0  9326.076463\n",
      "2283     2018  42900.0  9053.671540\n",
      "2799     2019  42900.0  7854.626813\n",
      "3313     2020  42900.0  8413.325153\n",
      "3829     2021  42900.0  7831.169778\n",
      "4340     2022  42900.0  7244.981319\n",
      "      TaxYear  SIC7_5d         FTE\n",
      "235      2014  43110.0   94.687671\n",
      "742      2015  43110.0  104.983562\n",
      "1253     2016  43110.0  104.827869\n",
      "1767     2017  43110.0  156.385848\n",
      "2284     2018  43110.0  147.677878\n",
      "2800     2019  43110.0  165.142758\n",
      "3314     2020  43110.0  108.836650\n",
      "3830     2021  43110.0   89.867091\n",
      "4341     2022  43110.0   61.118022\n",
      "      TaxYear  SIC7_5d         FTE\n",
      "236      2014  43120.0  540.637311\n",
      "743      2015  43120.0  509.999283\n",
      "1254     2016  43120.0  607.789634\n",
      "1768     2017  43120.0  734.474202\n",
      "2285     2018  43120.0  731.479537\n",
      "2801     2019  43120.0  692.302318\n",
      "3315     2020  43120.0  460.491328\n",
      "3831     2021  43120.0  355.937024\n",
      "4342     2022  43120.0  366.364635\n",
      "      TaxYear  SIC7_5d          FTE\n",
      "237      2014  43210.0  5327.723519\n",
      "744      2015  43210.0  5608.694095\n",
      "1255     2016  43210.0  5704.511468\n",
      "1769     2017  43210.0  6530.901821\n",
      "2286     2018  43210.0  6113.098243\n",
      "2802     2019  43210.0  5919.843295\n",
      "3316     2020  43210.0  6485.217675\n",
      "3832     2021  43210.0  5524.311423\n",
      "4343     2022  43210.0  5194.511437\n",
      "      TaxYear  SIC7_5d          FTE\n",
      "238      2014  43220.0  2962.705544\n",
      "745      2015  43220.0  3297.202645\n",
      "1256     2016  43220.0  3655.275000\n",
      "1770     2017  43220.0  4243.903750\n",
      "2287     2018  43220.0  4286.370093\n",
      "2803     2019  43220.0  4721.082262\n",
      "3317     2020  43220.0  5129.307409\n",
      "3833     2021  43220.0  4369.852730\n",
      "4344     2022  43220.0  3959.265780\n",
      "      TaxYear  SIC7_5d          FTE\n",
      "239      2014  43290.0  3133.346628\n",
      "746      2015  43290.0  3198.831501\n",
      "1257     2016  43290.0  3060.458927\n",
      "1771     2017  43290.0  3516.042414\n",
      "2288     2018  43290.0  4136.475040\n",
      "2804     2019  43290.0  4060.285443\n",
      "3318     2020  43290.0  3970.734560\n",
      "3834     2021  43290.0  3614.953241\n",
      "4345     2022  43290.0  3460.817206\n",
      "      TaxYear  SIC7_5d          FTE\n",
      "240      2014  43301.0  2102.176532\n",
      "747      2015  43301.0  2114.658722\n",
      "1258     2016  43301.0  2211.086265\n",
      "1772     2017  43301.0  2136.142396\n",
      "2289     2018  43301.0  2187.829687\n",
      "2805     2019  43301.0  2016.757465\n",
      "3319     2020  43301.0  1862.555712\n",
      "3835     2021  43301.0  1713.330334\n",
      "4346     2022  43301.0  1623.177148\n",
      "      TaxYear  SIC7_5d          FTE\n",
      "241      2014  43302.0  1062.061228\n",
      "748      2015  43302.0  1413.057157\n",
      "1259     2016  43302.0  1355.378272\n",
      "1773     2017  43302.0  1328.417160\n",
      "2290     2018  43302.0  1207.262031\n",
      "2806     2019  43302.0  1173.798851\n",
      "3320     2020  43302.0  1137.873155\n",
      "3836     2021  43302.0  1020.972664\n",
      "4347     2022  43302.0   878.943435\n",
      "      TaxYear  SIC7_5d          FTE\n",
      "242      2014  43309.0  2864.583167\n",
      "749      2015  43309.0  3219.966142\n",
      "1260     2016  43309.0  3741.784931\n",
      "1774     2017  43309.0  4052.946736\n",
      "2291     2018  43309.0  4165.212276\n",
      "2807     2019  43309.0  4262.014830\n",
      "3321     2020  43309.0  4045.212235\n",
      "3837     2021  43309.0  3528.793652\n",
      "4348     2022  43309.0  3592.159613\n",
      "      TaxYear  SIC7_5d          FTE\n",
      "243      2014  43901.0  1269.955780\n",
      "750      2015  43901.0  1240.357250\n",
      "1261     2016  43901.0  1587.837585\n",
      "1775     2017  43901.0  1721.709104\n",
      "2292     2018  43901.0  1791.936340\n",
      "2808     2019  43901.0  1916.027673\n",
      "3322     2020  43901.0  1910.506169\n",
      "3838     2021  43901.0  1666.808256\n",
      "4349     2022  43901.0  1241.141462\n",
      "      TaxYear  SIC7_5d          FTE\n",
      "244      2014  43909.0  2613.398650\n",
      "751      2015  43909.0  2781.080049\n",
      "1262     2016  43909.0  2892.506824\n",
      "1776     2017  43909.0  3029.211833\n",
      "2293     2018  43909.0  3486.360939\n",
      "2809     2019  43909.0  3526.382349\n",
      "3323     2020  43909.0  3758.928608\n",
      "3839     2021  43909.0  3872.856285\n",
      "4350     2022  43909.0  3814.947233\n",
      "      TaxYear  SIC7_5d          FTE\n",
      "245      2014  45101.0  1348.952370\n",
      "752      2015  45101.0  1242.255570\n",
      "1263     2016  45101.0  1144.646238\n",
      "1777     2017  45101.0  1155.648325\n",
      "2294     2018  45101.0   970.964588\n",
      "2810     2019  45101.0  1099.311764\n",
      "3324     2020  45101.0  1029.677020\n",
      "3840     2021  45101.0   927.622583\n",
      "4351     2022  45101.0   820.350738\n",
      "      TaxYear  SIC7_5d          FTE\n",
      "246      2014  45102.0  3574.598318\n",
      "753      2015  45102.0  3785.569654\n",
      "1264     2016  45102.0  3767.782692\n",
      "1778     2017  45102.0  4154.361937\n",
      "2295     2018  45102.0  4511.970453\n",
      "2811     2019  45102.0  4941.434495\n",
      "3325     2020  45102.0  4912.681534\n",
      "3841     2021  45102.0  4535.257956\n",
      "4352     2022  45102.0  4077.105376\n",
      "      TaxYear  SIC7_5d          FTE\n",
      "247      2014  45103.0   975.206796\n",
      "754      2015  45103.0  1047.177059\n",
      "1265     2016  45103.0  1133.747730\n",
      "1779     2017  45103.0  1137.058970\n",
      "2296     2018  45103.0  1181.598708\n",
      "2812     2019  45103.0  1260.219243\n",
      "3326     2020  45103.0  1295.273069\n",
      "3842     2021  45103.0  1179.392212\n",
      "4353     2022  45103.0  1045.236662\n",
      "      TaxYear  SIC7_5d          FTE\n",
      "248      2014  45200.0  5636.583981\n",
      "755      2015  45200.0  5980.207972\n",
      "1266     2016  45200.0  5975.595735\n",
      "1780     2017  45200.0  6039.450735\n",
      "2297     2018  45200.0  6117.647368\n",
      "2813     2019  45200.0  5776.966569\n",
      "3327     2020  45200.0  6364.941322\n",
      "3843     2021  45200.0  5973.210042\n",
      "4354     2022  45200.0  5742.587881\n",
      "      TaxYear  SIC7_5d          FTE\n",
      "249      2014  45300.0  2983.905633\n",
      "756      2015  45300.0  2976.895969\n",
      "1267     2016  45300.0  3074.450231\n",
      "1781     2017  45300.0  3173.685846\n",
      "2298     2018  45300.0  3242.585517\n",
      "2814     2019  45300.0  3437.524198\n",
      "3328     2020  45300.0  3468.398251\n",
      "3844     2021  45300.0  3427.974591\n",
      "4355     2022  45300.0  3402.919949\n",
      "      TaxYear  SIC7_5d         FTE\n",
      "250      2014  45400.0  573.015618\n",
      "757      2015  45400.0  589.106971\n",
      "1268     2016  45400.0  345.647271\n",
      "1782     2017  45400.0  350.696303\n",
      "2299     2018  45400.0  314.788054\n",
      "2815     2019  45400.0  317.257381\n",
      "3329     2020  45400.0  390.715026\n",
      "3845     2021  45400.0  427.190865\n",
      "4356     2022  45400.0  411.791009\n",
      "      TaxYear  SIC7_5d          FTE\n",
      "251      2014  45500.0  7938.431160\n",
      "758      2015  45500.0  8259.652319\n",
      "1269     2016  45500.0  8344.341706\n",
      "1783     2017  45500.0  8577.584075\n",
      "2300     2018  45500.0  7563.334262\n",
      "2816     2019  45500.0  7711.082547\n",
      "3330     2020  45500.0  8425.566110\n",
      "3846     2021  45500.0  7986.265382\n",
      "4357     2022  45500.0  7789.079401\n",
      "      TaxYear  SIC7_5d          FTE\n",
      "252      2014  46100.0  1262.795418\n",
      "759      2015  46100.0  1176.017398\n",
      "1270     2016  46100.0  1248.491406\n",
      "1784     2017  46100.0  1226.882520\n",
      "2301     2018  46100.0   496.062424\n",
      "2817     2019  46100.0   467.251898\n",
      "3331     2020  46100.0   524.392521\n",
      "3847     2021  46100.0   518.686482\n",
      "4358     2022  46100.0   458.394997\n",
      "      TaxYear  SIC7_5d         FTE\n",
      "253      2014  46200.0  182.174939\n",
      "760      2015  46200.0  144.959505\n",
      "1271     2016  46200.0  189.265567\n",
      "1785     2017  46200.0  230.277692\n",
      "2302     2018  46200.0  234.760798\n",
      "2818     2019  46200.0  246.346645\n",
      "3332     2020  46200.0  232.571337\n",
      "3848     2021  46200.0  227.263211\n",
      "4359     2022  46200.0  306.738248\n",
      "      TaxYear  SIC7_5d           FTE\n",
      "254      2014  46301.0   8527.165097\n",
      "761      2015  46301.0   8063.917330\n",
      "1272     2016  46301.0   7596.478321\n",
      "1786     2017  46301.0   8756.826505\n",
      "2303     2018  46301.0   9190.636852\n",
      "2819     2019  46301.0   9731.027341\n",
      "3333     2020  46301.0  10123.475624\n",
      "3849     2021  46301.0   9506.230406\n",
      "4360     2022  46301.0   9104.942923\n",
      "      TaxYear  SIC7_5d          FTE\n",
      "255      2014  46302.0  1492.186818\n",
      "762      2015  46302.0  1630.087326\n",
      "1273     2016  46302.0  1715.191752\n",
      "1787     2017  46302.0  2144.636177\n",
      "2304     2018  46302.0  1874.247229\n",
      "2820     2019  46302.0  1959.026180\n",
      "3334     2020  46302.0  1936.748762\n",
      "3850     2021  46302.0  1654.744346\n",
      "4361     2022  46302.0  1412.609207\n",
      "      TaxYear  SIC7_5d         FTE\n",
      "256      2014  46303.0  196.989805\n",
      "763      2015  46303.0  192.812212\n",
      "1274     2016  46303.0  171.611151\n",
      "1788     2017  46303.0  198.150195\n",
      "2305     2018  46303.0  195.242511\n",
      "2821     2019  46303.0  186.324394\n",
      "3335     2020  46303.0  191.545589\n",
      "3851     2021  46303.0  181.710271\n",
      "4362     2022  46303.0  161.166753\n",
      "      TaxYear  SIC7_5d           FTE\n",
      "257      2014  46410.0  20322.733651\n",
      "764      2015  46410.0   4463.660853\n",
      "1275     2016  46410.0   4555.652327\n",
      "1789     2017  46410.0   5724.749123\n",
      "2306     2018  46410.0  16109.711951\n",
      "2822     2019  46410.0  16096.850301\n",
      "3336     2020  46410.0  25862.499892\n",
      "3852     2021  46410.0  25243.741034\n",
      "4363     2022  46410.0  25577.918087\n",
      "      TaxYear  SIC7_5d          FTE\n",
      "258      2014  46491.0  1801.724334\n",
      "765      2015  46491.0  1674.856837\n",
      "1276     2016  46491.0  2055.992896\n",
      "1790     2017  46491.0  2237.737963\n",
      "2307     2018  46491.0  1720.036126\n",
      "2823     2019  46491.0  1655.712309\n",
      "3337     2020  46491.0  1798.504892\n",
      "3853     2021  46491.0  1579.143405\n",
      "4364     2022  46491.0  1519.597730\n",
      "      TaxYear  SIC7_5d          FTE\n",
      "259      2014  46492.0  1343.264898\n",
      "766      2015  46492.0  1381.290228\n",
      "1277     2016  46492.0  1422.186529\n",
      "1791     2017  46492.0  1412.830731\n",
      "2308     2018  46492.0  1319.694793\n",
      "2824     2019  46492.0  1236.764104\n",
      "3338     2020  46492.0  1178.385271\n",
      "3854     2021  46492.0  1034.081564\n",
      "4365     2022  46492.0   941.241293\n",
      "      TaxYear  SIC7_5d          FTE\n",
      "260      2014  46493.0  3429.104547\n",
      "767      2015  46493.0  4211.142289\n",
      "1278     2016  46493.0  4298.105497\n",
      "1792     2017  46493.0  4492.749285\n",
      "2309     2018  46493.0  4451.921788\n",
      "2825     2019  46493.0  4801.612531\n",
      "3339     2020  46493.0  5932.941767\n",
      "3855     2021  46493.0  5480.532441\n",
      "4366     2022  46493.0  5715.508136\n",
      "      TaxYear  SIC7_5d          FTE\n",
      "261      2014  46499.0  1603.323654\n",
      "768      2015  46499.0  1611.247162\n",
      "1279     2016  46499.0  1487.526764\n",
      "1793     2017  46499.0  1576.631140\n",
      "2310     2018  46499.0  1612.242427\n",
      "2826     2019  46499.0  1613.486632\n",
      "3340     2020  46499.0  1707.995457\n",
      "3856     2021  46499.0  1570.628796\n",
      "4367     2022  46499.0  1264.069287\n",
      "      TaxYear  SIC7_5d          FTE\n",
      "262      2014  46510.0  1068.608439\n",
      "769      2015  46510.0  1031.516129\n",
      "1280     2016  46510.0   937.495683\n",
      "1794     2017  46510.0   945.428374\n",
      "2311     2018  46510.0   951.431474\n",
      "2827     2019  46510.0  1043.696812\n",
      "3341     2020  46510.0  1101.373035\n",
      "3857     2021  46510.0  1020.767127\n",
      "4368     2022  46510.0  1018.909336\n",
      "      TaxYear  SIC7_5d          FTE\n",
      "263      2014  46520.0  1166.727692\n",
      "770      2015  46520.0  1044.121725\n",
      "1281     2016  46520.0  1056.987316\n",
      "1795     2017  46520.0  1206.584468\n",
      "2312     2018  46520.0  1170.658002\n",
      "2828     2019  46520.0  1069.367300\n",
      "3342     2020  46520.0  1021.447665\n",
      "3858     2021  46520.0   929.360513\n",
      "4369     2022  46520.0   847.245759\n",
      "      TaxYear  SIC7_5d          FTE\n",
      "264      2014  46530.0   275.050930\n",
      "771      2015  46530.0   311.545751\n",
      "1282     2016  46530.0   291.459168\n",
      "1796     2017  46530.0   287.291445\n",
      "2313     2018  46530.0   350.079569\n",
      "2829     2019  46530.0   379.906548\n",
      "3343     2020  46530.0   676.821578\n",
      "3859     2021  46530.0   679.648861\n",
      "4370     2022  46530.0  1126.926545\n",
      "      TaxYear  SIC7_5d          FTE\n",
      "265      2014  46590.0  1670.131410\n",
      "772      2015  46590.0  2289.640040\n",
      "1283     2016  46590.0  2403.562929\n",
      "1797     2017  46590.0  2422.978728\n",
      "2314     2018  46590.0  2382.027514\n",
      "2830     2019  46590.0  2192.970562\n",
      "3344     2020  46590.0  2305.678580\n",
      "3860     2021  46590.0  2167.441529\n",
      "4371     2022  46590.0  2268.550796\n",
      "      TaxYear  SIC7_5d          FTE\n",
      "266      2014  46610.0   649.978748\n",
      "773      2015  46610.0   720.350637\n",
      "1284     2016  46610.0   843.722576\n",
      "1798     2017  46610.0  1084.477461\n",
      "2315     2018  46610.0  1262.388028\n",
      "2831     2019  46610.0  1342.280835\n",
      "3345     2020  46610.0  1505.497034\n",
      "3861     2021  46610.0  1297.461705\n",
      "4372     2022  46610.0  1263.661164\n",
      "      TaxYear  SIC7_5d        FTE\n",
      "267      2014  46621.0   0.000000\n",
      "774      2015  46621.0   0.000000\n",
      "1285     2016  46621.0   0.000000\n",
      "1799     2017  46621.0   0.000000\n",
      "2316     2018  46621.0   0.000000\n",
      "2832     2019  46621.0   0.000000\n",
      "3346     2020  46621.0   0.000000\n",
      "3862     2021  46621.0   0.000000\n",
      "4373     2022  46621.0  17.829152\n",
      "      TaxYear  SIC7_5d         FTE\n",
      "268      2014  46629.0  670.432260\n",
      "775      2015  46629.0  500.083079\n",
      "1286     2016  46629.0  559.126932\n",
      "1800     2017  46629.0  627.221454\n",
      "2317     2018  46629.0  640.881062\n",
      "2833     2019  46629.0  602.797505\n",
      "3347     2020  46629.0  633.878599\n",
      "3863     2021  46629.0  579.394093\n",
      "4374     2022  46629.0  574.229639\n",
      "      TaxYear  SIC7_5d          FTE\n",
      "269      2014  46630.0  2689.509989\n",
      "776      2015  46630.0  3433.508565\n",
      "1287     2016  46630.0  3573.213604\n",
      "1801     2017  46630.0  3585.046040\n",
      "2318     2018  46630.0  3947.957993\n",
      "2834     2019  46630.0  4291.856982\n",
      "3348     2020  46630.0  4215.124151\n",
      "3864     2021  46630.0  3936.396700\n",
      "4375     2022  46630.0  4088.458575\n",
      "      TaxYear  SIC7_5d         FTE\n",
      "270      2014  46691.0  967.488811\n",
      "777      2015  46691.0  115.566950\n",
      "1288     2016  46691.0  111.750558\n",
      "1802     2017  46691.0  118.726873\n",
      "2319     2018  46691.0  121.613195\n",
      "2835     2019  46691.0   83.998391\n",
      "3349     2020  46691.0   85.539541\n",
      "3865     2021  46691.0   94.231176\n",
      "4376     2022  46691.0  120.401071\n",
      "      TaxYear  SIC7_5d        FTE\n",
      "271      2014  46692.0  14.290411\n",
      "778      2015  46692.0  18.150685\n",
      "1289     2016  46692.0  17.008197\n",
      "1803     2017  46692.0  15.991781\n",
      "2320     2018  46692.0  35.343371\n",
      "2836     2019  46692.0  39.556164\n",
      "3350     2020  46692.0  56.986339\n",
      "3866     2021  46692.0  37.824658\n",
      "4377     2022  46692.0  18.876712\n",
      "      TaxYear  SIC7_5d          FTE\n",
      "272      2014  46699.0  1561.337851\n",
      "779      2015  46699.0  2438.323991\n",
      "1290     2016  46699.0  2365.747350\n",
      "1804     2017  46699.0  2851.823054\n",
      "2321     2018  46699.0  3033.661171\n",
      "2837     2019  46699.0  3205.745521\n",
      "3351     2020  46699.0  3388.110947\n",
      "3867     2021  46699.0  3520.391400\n",
      "4378     2022  46699.0  3607.248686\n",
      "      TaxYear  SIC7_5d          FTE\n",
      "273      2014  46900.0  4191.857899\n",
      "780      2015  46900.0  4185.137026\n",
      "1291     2016  46900.0  4648.931708\n",
      "1805     2017  46900.0  4647.134986\n",
      "2322     2018  46900.0  4847.776407\n",
      "2838     2019  46900.0  5054.819002\n",
      "3352     2020  46900.0  4953.239282\n",
      "3868     2021  46900.0  4473.002317\n",
      "4379     2022  46900.0  4149.497322\n",
      "      TaxYear  SIC7_5d            FTE\n",
      "274      2014  47110.0   99044.905771\n",
      "781      2015  47110.0  109714.385128\n",
      "1292     2016  47110.0  115094.330679\n",
      "1806     2017  47110.0  117569.439195\n",
      "2323     2018  47110.0  121625.229747\n",
      "2839     2019  47110.0  125401.161695\n",
      "3353     2020  47110.0  125083.711502\n",
      "3869     2021  47110.0  123549.065299\n",
      "4380     2022  47110.0  128890.534521\n",
      "      TaxYear  SIC7_5d           FTE\n",
      "275      2014  47190.0  38398.127586\n",
      "782      2015  47190.0  40041.788585\n",
      "1293     2016  47190.0  43733.000815\n",
      "1807     2017  47190.0  46866.138505\n",
      "2324     2018  47190.0  47361.423965\n",
      "2840     2019  47190.0  47393.033636\n",
      "3354     2020  47190.0  49635.438019\n",
      "3870     2021  47190.0  47010.738395\n",
      "4381     2022  47190.0  48011.272633\n",
      "      TaxYear  SIC7_5d          FTE\n",
      "276      2014  47211.0  3939.976923\n",
      "783      2015  47211.0  4228.097578\n",
      "1294     2016  47211.0  4640.311239\n",
      "1808     2017  47211.0  6910.174086\n",
      "2325     2018  47211.0  6874.880872\n",
      "2841     2019  47211.0  3750.437934\n",
      "3355     2020  47211.0  4097.251826\n",
      "3871     2021  47211.0  3864.928915\n",
      "4382     2022  47211.0  3802.560418\n",
      "      TaxYear  SIC7_5d          FTE\n",
      "277      2014  47212.0  2676.175302\n",
      "784      2015  47212.0  2863.986057\n",
      "1295     2016  47212.0  3307.323605\n",
      "1809     2017  47212.0  3399.658797\n",
      "2326     2018  47212.0  3500.432982\n",
      "2842     2019  47212.0  3896.208446\n",
      "3356     2020  47212.0  4056.454860\n",
      "3872     2021  47212.0  4086.917488\n",
      "4383     2022  47212.0  4397.814499\n",
      "      TaxYear  SIC7_5d          FTE\n",
      "278      2014  47213.0   783.331774\n",
      "785      2015  47213.0   970.238104\n",
      "1296     2016  47213.0  1084.700602\n",
      "1810     2017  47213.0  1224.708788\n",
      "2327     2018  47213.0  1195.262686\n",
      "2843     2019  47213.0  1288.857422\n",
      "3357     2020  47213.0  1116.329524\n",
      "3873     2021  47213.0   911.208344\n",
      "4384     2022  47213.0   972.963023\n",
      "      TaxYear  SIC7_5d          FTE\n",
      "279      2014  47219.0  4150.319925\n",
      "786      2015  47219.0  4468.489628\n",
      "1297     2016  47219.0  5281.014015\n",
      "1811     2017  47219.0  5525.489013\n",
      "2328     2018  47219.0  5337.933989\n",
      "2844     2019  47219.0  5298.710889\n",
      "3358     2020  47219.0  5429.789359\n",
      "3874     2021  47219.0  5408.450821\n",
      "4385     2022  47219.0  5679.198428\n",
      "      TaxYear  SIC7_5d          FTE\n",
      "280      2014  47220.0  2864.590133\n",
      "787      2015  47220.0  2647.393359\n",
      "1298     2016  47220.0  2528.470728\n",
      "1812     2017  47220.0  2080.742618\n",
      "2329     2018  47220.0  1738.153192\n",
      "2845     2019  47220.0  1731.923033\n",
      "3359     2020  47220.0  1776.790779\n",
      "3875     2021  47220.0  1489.944037\n",
      "4386     2022  47220.0  1453.675090\n",
      "      TaxYear  SIC7_5d         FTE\n",
      "281      2014  47230.0   83.223931\n",
      "788      2015  47230.0   87.625236\n",
      "1299     2016  47230.0   85.114557\n",
      "1813     2017  47230.0  130.971044\n",
      "2330     2018  47230.0  108.640553\n",
      "2846     2019  47230.0  114.319894\n",
      "3360     2020  47230.0  168.270121\n",
      "3876     2021  47230.0  174.288222\n",
      "4387     2022  47230.0  170.219388\n",
      "      TaxYear  SIC7_5d          FTE\n",
      "282      2014  47310.0  2120.721088\n",
      "789      2015  47310.0  2153.183518\n",
      "1300     2016  47310.0  1821.673310\n",
      "1814     2017  47310.0  1725.321841\n",
      "2331     2018  47310.0  1765.372775\n",
      "2847     2019  47310.0  2034.458832\n",
      "3361     2020  47310.0  2002.043532\n",
      "3877     2021  47310.0  1814.814031\n",
      "4388     2022  47310.0  1679.863534\n",
      "      TaxYear  SIC7_5d         FTE\n",
      "283      2014  47320.0  382.495025\n",
      "790      2015  47320.0  464.337297\n",
      "1301     2016  47320.0  609.410632\n",
      "1815     2017  47320.0  560.055745\n",
      "2332     2018  47320.0  520.582880\n",
      "2848     2019  47320.0  557.189928\n",
      "3362     2020  47320.0  513.252864\n",
      "3878     2021  47320.0  477.217286\n",
      "4389     2022  47320.0  459.396104\n",
      "      TaxYear  SIC7_5d          FTE\n",
      "284      2014  47410.0   934.093204\n",
      "791      2015  47410.0   844.660361\n",
      "1302     2016  47410.0   951.389257\n",
      "1816     2017  47410.0   938.168858\n",
      "2333     2018  47410.0   978.389648\n",
      "2849     2019  47410.0  1049.274195\n",
      "3363     2020  47410.0  1059.435367\n",
      "3879     2021  47410.0  1008.754178\n",
      "4390     2022  47410.0   994.401805\n",
      "      TaxYear  SIC7_5d          FTE\n",
      "285      2014  47420.0  3540.862400\n",
      "792      2015  47420.0  3715.858268\n",
      "1303     2016  47420.0  3881.764250\n",
      "1817     2017  47420.0  4248.399246\n",
      "2334     2018  47420.0  4096.521757\n",
      "2850     2019  47420.0  4518.126469\n",
      "3364     2020  47420.0  5018.815616\n",
      "3880     2021  47420.0  4725.504208\n",
      "4391     2022  47420.0  4598.141168\n",
      "      TaxYear  SIC7_5d         FTE\n",
      "286      2014  47430.0  623.429942\n",
      "793      2015  47430.0  652.359156\n",
      "1304     2016  47430.0  713.494401\n",
      "1818     2017  47430.0  769.131274\n",
      "2335     2018  47430.0  824.193239\n",
      "2851     2019  47430.0  874.481716\n",
      "3365     2020  47430.0  737.191975\n",
      "3881     2021  47430.0  730.166856\n",
      "4392     2022  47430.0  646.108551\n",
      "      TaxYear  SIC7_5d           FTE\n",
      "287      2014  47490.0  13095.869575\n",
      "794      2015  47490.0  13478.646715\n",
      "1305     2016  47490.0  13384.800408\n",
      "1819     2017  47490.0  12775.510894\n",
      "2336     2018  47490.0  12332.344023\n",
      "2852     2019  47490.0  12495.952348\n",
      "3366     2020  47490.0  13027.796776\n",
      "3882     2021  47490.0   4744.409412\n",
      "4393     2022  47490.0   4823.853559\n",
      "      TaxYear  SIC7_5d          FTE\n",
      "288      2014  47510.0  1514.277751\n",
      "795      2015  47510.0  1468.111764\n",
      "1306     2016  47510.0  1443.457241\n",
      "1820     2017  47510.0  1417.712956\n",
      "2337     2018  47510.0  1461.573545\n",
      "2853     2019  47510.0  1500.401049\n",
      "3367     2020  47510.0  1565.223748\n",
      "3883     2021  47510.0  1551.796476\n",
      "4394     2022  47510.0  1384.030490\n",
      "      TaxYear  SIC7_5d         FTE\n",
      "289      2014  47520.0  129.661032\n",
      "796      2015  47520.0  128.186365\n",
      "1307     2016  47520.0   99.599134\n",
      "1821     2017  47520.0   87.198984\n",
      "2338     2018  47520.0   79.028619\n",
      "2854     2019  47520.0   55.751674\n",
      "3368     2020  47520.0   58.121970\n",
      "3884     2021  47520.0   25.505054\n",
      "4395     2022  47520.0   19.375053\n",
      "      TaxYear  SIC7_5d          FTE\n",
      "290      2014  47530.0  2259.314286\n",
      "797      2015  47530.0  2373.275123\n",
      "1308     2016  47530.0  2438.703437\n",
      "1822     2017  47530.0  2524.369744\n",
      "2339     2018  47530.0  2456.458909\n",
      "2855     2019  47530.0  2476.437912\n",
      "3369     2020  47530.0  2639.775440\n",
      "3885     2021  47530.0  2490.806821\n",
      "4396     2022  47530.0  2615.888230\n",
      "      TaxYear  SIC7_5d         FTE\n",
      "291      2014  47540.0  376.353196\n",
      "798      2015  47540.0  435.019616\n",
      "1309     2016  47540.0  338.705859\n",
      "1823     2017  47540.0  587.223865\n",
      "2340     2018  47540.0  625.247640\n",
      "2856     2019  47540.0  673.926657\n",
      "3370     2020  47540.0  695.432417\n",
      "3886     2021  47540.0  656.174493\n",
      "4397     2022  47540.0  730.753962\n",
      "      TaxYear  SIC7_5d           FTE\n",
      "292      2014  47610.0  26101.345644\n",
      "799      2015  47610.0  27748.062474\n",
      "1310     2016  47610.0  47609.259109\n",
      "1824     2017  47610.0  50963.626616\n",
      "2341     2018  47610.0  38492.737617\n",
      "2857     2019  47610.0  41526.068698\n",
      "3371     2020  47610.0  29705.338974\n",
      "3887     2021  47610.0  29162.787686\n",
      "4398     2022  47610.0  26954.779749\n",
      "      TaxYear  SIC7_5d           FTE\n",
      "293      2014  47620.0  16707.341271\n",
      "800      2015  47620.0  16776.877915\n",
      "1311     2016  47620.0  18335.699516\n",
      "1825     2017  47620.0  19724.318889\n",
      "2342     2018  47620.0  20319.769195\n",
      "2858     2019  47620.0  20666.221285\n",
      "3372     2020  47620.0  21802.102666\n",
      "3888     2021  47620.0  21683.646148\n",
      "4399     2022  47620.0  22317.366417\n",
      "      TaxYear  SIC7_5d         FTE\n",
      "294      2014  47631.0  822.628899\n",
      "801      2015  47631.0  873.585933\n",
      "1312     2016  47631.0  893.976288\n",
      "1826     2017  47631.0  855.836512\n",
      "2343     2018  47631.0  808.258324\n",
      "2859     2019  47631.0  714.559617\n",
      "3373     2020  47631.0  695.552697\n",
      "3889     2021  47631.0  611.201650\n",
      "4400     2022  47631.0  480.568334\n",
      "      TaxYear  SIC7_5d         FTE\n",
      "295      2014  47632.0  216.669419\n",
      "802      2015  47632.0  254.951611\n",
      "1313     2016  47632.0  276.469033\n",
      "1827     2017  47632.0   41.940021\n",
      "2344     2018  47632.0  272.181645\n",
      "2860     2019  47632.0  260.088163\n",
      "3374     2020  47632.0  262.522986\n",
      "3890     2021  47632.0  182.745865\n",
      "4401     2022  47632.0  157.240869\n",
      "      TaxYear  SIC7_5d          FTE\n",
      "296      2014  47639.0  3775.406455\n",
      "803      2015  47639.0  3986.043781\n",
      "1314     2016  47639.0  4074.986470\n",
      "1828     2017  47639.0  4600.038393\n",
      "2345     2018  47639.0  4827.280169\n",
      "2861     2019  47639.0  5099.974678\n",
      "3375     2020  47639.0  5608.014947\n",
      "3891     2021  47639.0  5197.107689\n",
      "4402     2022  47639.0  5705.500959\n",
      "      TaxYear  SIC7_5d          FTE\n",
      "297      2014  47640.0   666.814644\n",
      "804      2015  47640.0   782.509893\n",
      "1315     2016  47640.0   739.355998\n",
      "1829     2017  47640.0   753.025665\n",
      "2346     2018  47640.0   801.032614\n",
      "2862     2019  47640.0   867.382473\n",
      "3376     2020  47640.0   958.809008\n",
      "3892     2021  47640.0   979.838010\n",
      "4403     2022  47640.0  1255.517651\n",
      "      TaxYear  SIC7_5d         FTE\n",
      "298      2014  47710.0  292.845837\n",
      "805      2015  47710.0  237.574977\n",
      "1316     2016  47710.0  227.188053\n",
      "1830     2017  47710.0  295.301359\n",
      "2347     2018  47710.0  315.874734\n",
      "2863     2019  47710.0  383.739838\n",
      "3377     2020  47710.0  278.738250\n",
      "3893     2021  47710.0  230.141921\n",
      "4404     2022  47710.0  257.080655\n",
      "      TaxYear  SIC7_5d         FTE\n",
      "299      2014  47720.0   75.246574\n",
      "806      2015  47720.0   56.596397\n",
      "1317     2016  47720.0   45.428777\n",
      "1831     2017  47720.0   36.321441\n",
      "2348     2018  47720.0   54.231957\n",
      "2864     2019  47720.0   69.243451\n",
      "3378     2020  47720.0  116.631582\n",
      "3894     2021  47720.0  103.546594\n",
      "4405     2022  47720.0   74.956737\n",
      "      TaxYear  SIC7_5d         FTE\n",
      "300      2014  47790.0   58.570154\n",
      "807      2015  47790.0   51.593137\n",
      "1318     2016  47790.0  112.097244\n",
      "1832     2017  47790.0  141.644252\n",
      "2349     2018  47790.0   60.478716\n",
      "2865     2019  47790.0  187.596255\n",
      "3379     2020  47790.0  215.684058\n",
      "3895     2021  47790.0   74.467133\n",
      "4406     2022  47790.0   72.456091\n",
      "      TaxYear  SIC7_5d          FTE\n",
      "301      2014  47810.0   348.885735\n",
      "808      2015  47810.0   427.580531\n",
      "1319     2016  47810.0   948.770411\n",
      "1833     2017  47810.0   990.557173\n",
      "2350     2018  47810.0  1115.535143\n",
      "2866     2019  47810.0  1618.446673\n",
      "3380     2020  47810.0  1878.022847\n",
      "3896     2021  47810.0  1948.296517\n",
      "4407     2022  47810.0  2311.349622\n",
      "      TaxYear  SIC7_5d          FTE\n",
      "302      2014  47890.0  1433.739671\n",
      "809      2015  47890.0  1696.021033\n",
      "1320     2016  47890.0  1955.910011\n",
      "1834     2017  47890.0  1985.254449\n",
      "2351     2018  47890.0  2105.102970\n",
      "2867     2019  47890.0  2281.782026\n",
      "3381     2020  47890.0  2424.603878\n",
      "3897     2021  47890.0  2488.950568\n",
      "4408     2022  47890.0  2546.219043\n",
      "      TaxYear  SIC7_5d        FTE\n",
      "303      2014  49110.0  37.860490\n",
      "810      2015  49110.0  30.946794\n",
      "1321     2016  49110.0  33.378848\n",
      "1835     2017  49110.0  60.000000\n",
      "2352     2018  49110.0  53.597260\n",
      "2868     2019  49110.0  16.161142\n",
      "3382     2020  49110.0  27.952863\n",
      "3898     2021  49110.0  12.421416\n",
      "4409     2022  49110.0  25.624155\n",
      "      TaxYear  SIC7_5d         FTE\n",
      "304      2014  49120.0  179.420193\n",
      "811      2015  49120.0   82.338331\n",
      "1322     2016  49120.0   40.574846\n",
      "1836     2017  49120.0  155.488853\n",
      "2353     2018  49120.0  152.676881\n",
      "2869     2019  49120.0  137.039552\n",
      "3383     2020  49120.0  158.362753\n",
      "3899     2021  49120.0  131.374895\n",
      "4410     2022  49120.0  124.355956\n",
      "      TaxYear  SIC7_5d         FTE\n",
      "305      2014  49210.0  328.947618\n",
      "812      2015  49210.0  209.746311\n",
      "1323     2016  49210.0  220.360301\n",
      "1837     2017  49210.0  284.546595\n",
      "2354     2018  49210.0  376.576700\n",
      "2870     2019  49210.0  391.163541\n",
      "3384     2020  49210.0  472.845289\n",
      "3900     2021  49210.0  651.421889\n",
      "4411     2022  49210.0  537.452154\n",
      "      TaxYear  SIC7_5d         FTE\n",
      "306      2014  49221.0  380.813627\n",
      "813      2015  49221.0  320.102055\n",
      "1324     2016  49221.0  192.839189\n",
      "1838     2017  49221.0  179.866243\n",
      "2355     2018  49221.0  253.688431\n",
      "2871     2019  49221.0  244.626386\n",
      "3385     2020  49221.0  291.584153\n",
      "3901     2021  49221.0  333.855179\n",
      "4412     2022  49221.0  320.768777\n",
      "      TaxYear  SIC7_5d         FTE\n",
      "307      2014  49222.0  252.474606\n",
      "814      2015  49222.0  278.523653\n",
      "1325     2016  49222.0  409.790317\n",
      "1839     2017  49222.0  385.931341\n",
      "2356     2018  49222.0  482.147566\n",
      "2872     2019  49222.0  651.095724\n",
      "3386     2020  49222.0  668.955010\n",
      "3902     2021  49222.0  725.358160\n",
      "4413     2022  49222.0  554.993960\n",
      "      TaxYear  SIC7_5d          FTE\n",
      "308      2014  49223.0  4844.641996\n",
      "815      2015  49223.0  4920.382875\n",
      "1326     2016  49223.0  5048.902757\n",
      "1840     2017  49223.0  4969.039836\n",
      "2357     2018  49223.0  4892.102572\n",
      "2873     2019  49223.0  4881.198935\n",
      "3387     2020  49223.0  4380.200362\n",
      "3903     2021  49223.0  4267.740468\n",
      "4414     2022  49223.0  4750.813579\n",
      "      TaxYear  SIC7_5d         FTE\n",
      "309      2014  49229.0  347.328327\n",
      "816      2015  49229.0  405.328409\n",
      "1327     2016  49229.0  456.932037\n",
      "1841     2017  49229.0  447.555639\n",
      "2358     2018  49229.0  458.744937\n",
      "2874     2019  49229.0  503.900087\n",
      "3388     2020  49229.0  388.911009\n",
      "3904     2021  49229.0  253.948002\n",
      "4415     2022  49229.0  204.433291\n",
      "      TaxYear  SIC7_5d           FTE\n",
      "310      2014  49230.0  11478.420895\n",
      "817      2015  49230.0  11917.140019\n",
      "1328     2016  49230.0  14120.767339\n",
      "1842     2017  49230.0  12210.065462\n",
      "2359     2018  49230.0  13539.943392\n",
      "2875     2019  49230.0  13811.984092\n",
      "3389     2020  49230.0  14106.169856\n",
      "3905     2021  49230.0  13246.044859\n",
      "4416     2022  49230.0  13451.602020\n",
      "      TaxYear  SIC7_5d         FTE\n",
      "311      2014  49300.0  103.194348\n",
      "818      2015  49300.0    0.000000\n",
      "1329     2016  49300.0   11.121880\n",
      "1843     2017  49300.0   11.538911\n",
      "2360     2018  49300.0   15.527147\n",
      "2876     2019  49300.0   16.815448\n",
      "3390     2020  49300.0   15.587542\n",
      "3906     2021  49300.0   24.093151\n",
      "4417     2022  49300.0   44.453214\n",
      "      TaxYear  SIC7_5d         FTE\n",
      "312      2014  50110.0  243.771449\n",
      "819      2015  50110.0  259.977994\n",
      "1330     2016  50110.0  278.163934\n",
      "1844     2017  50110.0  153.254292\n",
      "2361     2018  50110.0  176.613699\n",
      "2877     2019  50110.0  200.671233\n",
      "3391     2020  50110.0  271.423497\n",
      "3907     2021  50110.0  296.745797\n",
      "4418     2022  50110.0  289.274107\n",
      "      TaxYear  SIC7_5d         FTE\n",
      "313      2014  50120.0  612.955198\n",
      "820      2015  50120.0  586.364384\n",
      "1331     2016  50120.0  569.193989\n",
      "1845     2017  50120.0  573.463014\n",
      "2362     2018  50120.0  710.797394\n",
      "2878     2019  50120.0  700.323753\n",
      "3392     2020  50120.0  687.036635\n",
      "3908     2021  50120.0  692.689931\n",
      "4419     2022  50120.0  639.324669\n",
      "      TaxYear  SIC7_5d        FTE\n",
      "314      2014  50210.0   0.000000\n",
      "821      2015  50210.0  23.317808\n",
      "1332     2016  50210.0  26.442623\n",
      "1846     2017  50210.0  38.613699\n",
      "2363     2018  50210.0  21.462660\n",
      "2879     2019  50210.0  24.825270\n",
      "3393     2020  50210.0  20.314010\n",
      "3909     2021  50210.0  17.969863\n",
      "4420     2022  50210.0  18.076712\n",
      "      TaxYear  SIC7_5d         FTE\n",
      "315      2014  50220.0  268.536986\n",
      "822      2015  50220.0  206.016438\n",
      "1333     2016  50220.0   12.045106\n",
      "1847     2017  50220.0    0.000000\n",
      "2364     2018  50220.0    0.000000\n",
      "2880     2019  50220.0   10.172603\n",
      "3394     2020  50220.0    0.000000\n",
      "3910     2021  50220.0   12.000000\n",
      "4421     2022  50220.0    0.000000\n",
      "      TaxYear  SIC7_5d          FTE\n",
      "316      2014  51100.0  1576.379895\n",
      "823      2015  51100.0  1832.314615\n",
      "1334     2016  51100.0  1584.547335\n",
      "1848     2017  51100.0  1467.531929\n",
      "2365     2018  51100.0  1462.097189\n",
      "2881     2019  51100.0  1498.101915\n",
      "3395     2020  51100.0  1509.430189\n",
      "3911     2021  51100.0  1597.497841\n",
      "4422     2022  51100.0  1403.718894\n",
      "      TaxYear  SIC7_5d         FTE\n",
      "317      2014  51200.0  318.555054\n",
      "824      2015  51200.0  289.980870\n",
      "1335     2016  51200.0  330.816045\n",
      "1849     2017  51200.0  434.056281\n",
      "2366     2018  51200.0  334.590189\n",
      "2882     2019  51200.0  252.654053\n",
      "3396     2020  51200.0  406.884896\n",
      "3912     2021  51200.0  285.556730\n",
      "4423     2022  51200.0  293.978232\n",
      "      TaxYear  SIC7_5d          FTE\n",
      "318      2014  52100.0  2789.291238\n",
      "825      2015  52100.0  3260.750787\n",
      "1336     2016  52100.0  3221.488913\n",
      "1850     2017  52100.0  3312.700101\n",
      "2367     2018  52100.0  3868.408400\n",
      "2883     2019  52100.0  4340.594835\n",
      "3397     2020  52100.0  4978.289174\n",
      "3913     2021  52100.0  4401.110909\n",
      "4424     2022  52100.0  3916.757528\n",
      "      TaxYear  SIC7_5d         FTE\n",
      "319      2014  52211.0  973.624155\n",
      "826      2015  52211.0  798.326027\n",
      "1337     2016  52211.0  606.254098\n",
      "1851     2017  52211.0  463.509589\n",
      "2368     2018  52211.0  440.172101\n",
      "2884     2019  52211.0  376.917808\n",
      "3398     2020  52211.0  371.308743\n",
      "3914     2021  52211.0  215.139726\n",
      "4425     2022  52211.0  105.887671\n",
      "      TaxYear  SIC7_5d        FTE\n",
      "320      2014  52212.0  66.254795\n",
      "827      2015  52212.0  69.167123\n",
      "1338     2016  52212.0   0.000000\n",
      "1852     2017  52212.0   0.000000\n",
      "2369     2018  52212.0   0.000000\n",
      "2885     2019  52212.0   0.000000\n",
      "3399     2020  52212.0   0.000000\n",
      "3915     2021  52212.0   0.000000\n",
      "4426     2022  52212.0   0.000000\n",
      "      TaxYear  SIC7_5d          FTE\n",
      "321      2014  52219.0  1921.926972\n",
      "828      2015  52219.0  1839.755799\n",
      "1339     2016  52219.0  1377.157227\n",
      "1853     2017  52219.0  1014.545461\n",
      "2370     2018  52219.0  1045.770695\n",
      "2886     2019  52219.0   940.735800\n",
      "3400     2020  52219.0   968.497191\n",
      "3916     2021  52219.0   638.710960\n",
      "4427     2022  52219.0   591.481565\n",
      "      TaxYear  SIC7_5d         FTE\n",
      "322      2014  52220.0  861.584935\n",
      "829      2015  52220.0  898.973449\n",
      "1340     2016  52220.0  870.070647\n",
      "1854     2017  52220.0  922.219178\n",
      "2371     2018  52220.0  862.369863\n",
      "2887     2019  52220.0  820.273973\n",
      "3401     2020  52220.0  936.295060\n",
      "3917     2021  52220.0  918.229083\n",
      "4428     2022  52220.0  964.966119\n",
      "      TaxYear  SIC7_5d          FTE\n",
      "323      2014  52230.0   959.362032\n",
      "830      2015  52230.0   850.462396\n",
      "1341     2016  52230.0   986.860958\n",
      "1855     2017  52230.0  1218.400767\n",
      "2372     2018  52230.0  1322.160650\n",
      "2888     2019  52230.0  1418.063245\n",
      "3402     2020  52230.0  1448.492401\n",
      "3918     2021  52230.0  1181.527178\n",
      "4429     2022  52230.0  1010.448414\n",
      "      TaxYear  SIC7_5d          FTE\n",
      "324      2014  52240.0  1316.472708\n",
      "831      2015  52240.0  1141.229271\n",
      "1342     2016  52240.0  1160.255115\n",
      "1856     2017  52240.0  1165.688461\n",
      "2373     2018  52240.0  1260.031848\n",
      "2889     2019  52240.0  1597.873232\n",
      "3403     2020  52240.0  1120.370495\n",
      "3919     2021  52240.0   925.928488\n",
      "4430     2022  52240.0  1325.687074\n",
      "      TaxYear  SIC7_5d          FTE\n",
      "325      2014  52290.0  5473.762407\n",
      "832      2015  52290.0  6252.210807\n",
      "1343     2016  52290.0  6954.655297\n",
      "1857     2017  52290.0  6585.382608\n",
      "2374     2018  52290.0  5965.630920\n",
      "2890     2019  52290.0  5408.645015\n",
      "3404     2020  52290.0  6046.035205\n",
      "3920     2021  52290.0  5571.336838\n",
      "4431     2022  52290.0  5409.359290\n",
      "      TaxYear  SIC7_5d         FTE\n",
      "326      2014  53100.0   84.972429\n",
      "833      2015  53100.0   81.203356\n",
      "1344     2016  53100.0   72.753108\n",
      "1858     2017  53100.0   72.516705\n",
      "2375     2018  53100.0   74.799310\n",
      "2891     2019  53100.0   90.148515\n",
      "3405     2020  53100.0   96.937916\n",
      "3921     2021  53100.0  107.034463\n",
      "4432     2022  53100.0   93.668493\n",
      "      TaxYear  SIC7_5d          FTE\n",
      "327      2014  53200.0  3886.108467\n",
      "834      2015  53200.0  4057.400481\n",
      "1345     2016  53200.0  4000.222880\n",
      "1859     2017  53200.0  3804.224053\n",
      "2376     2018  53200.0  3666.632426\n",
      "2892     2019  53200.0  3816.028560\n",
      "3406     2020  53200.0  3731.559171\n",
      "3922     2021  53200.0  4710.238974\n",
      "4433     2022  53200.0  5307.358287\n",
      "      TaxYear  SIC7_5d           FTE\n",
      "328      2014  55101.0   9202.225233\n",
      "835      2015  55101.0   9649.992852\n",
      "1346     2016  55101.0   9717.479574\n",
      "1860     2017  55101.0  10691.864290\n",
      "2377     2018  55101.0  11547.889902\n",
      "2893     2019  55101.0  11701.356334\n",
      "3407     2020  55101.0  12352.624004\n",
      "3923     2021  55101.0  10075.383042\n",
      "4434     2022  55101.0   7206.782267\n",
      "      TaxYear  SIC7_5d          FTE\n",
      "329      2014  55102.0  1372.909113\n",
      "836      2015  55102.0  1353.925751\n",
      "1347     2016  55102.0  1436.416399\n",
      "1861     2017  55102.0  1518.514503\n",
      "2378     2018  55102.0  1579.178629\n",
      "2894     2019  55102.0  1571.291578\n",
      "3408     2020  55102.0  1712.498708\n",
      "3924     2021  55102.0  1360.824540\n",
      "4435     2022  55102.0   961.720243\n",
      "      TaxYear  SIC7_5d         FTE\n",
      "330      2014  55103.0   31.438356\n",
      "837      2015  55103.0   46.879970\n",
      "1348     2016  55103.0   50.465268\n",
      "1862     2017  55103.0   59.300573\n",
      "2379     2018  55103.0   82.604640\n",
      "2895     2019  55103.0   72.123603\n",
      "3409     2020  55103.0  160.720173\n",
      "3925     2021  55103.0  116.002424\n",
      "4436     2022  55103.0  134.604459\n",
      "      TaxYear  SIC7_5d          FTE\n",
      "331      2014  55109.0   717.937644\n",
      "838      2015  55109.0   708.805433\n",
      "1349     2016  55109.0   761.084012\n",
      "1863     2017  55109.0   751.620083\n",
      "2380     2018  55109.0   828.116381\n",
      "2896     2019  55109.0   966.483431\n",
      "3410     2020  55109.0  1054.231142\n",
      "3926     2021  55109.0  1047.830656\n",
      "4437     2022  55109.0   697.179436\n",
      "      TaxYear  SIC7_5d          FTE\n",
      "332      2014  55200.0    68.967123\n",
      "839      2015  55200.0    81.791781\n",
      "1350     2016  55200.0    82.971833\n",
      "1864     2017  55200.0    93.435106\n",
      "2381     2018  55200.0   102.989041\n",
      "2897     2019  55200.0  1063.169514\n",
      "3411     2020  55200.0  1066.447918\n",
      "3927     2021  55200.0  1030.512955\n",
      "4438     2022  55200.0   982.643014\n",
      "      TaxYear  SIC7_5d          FTE\n",
      "333      2014  55900.0   887.856953\n",
      "840      2015  55900.0  1044.546695\n",
      "1351     2016  55900.0  1106.095148\n",
      "1865     2017  55900.0  1107.594135\n",
      "2382     2018  55900.0  1280.551271\n",
      "2898     2019  55900.0  1482.993628\n",
      "3412     2020  55900.0  1487.742990\n",
      "3928     2021  55900.0  1301.505114\n",
      "4439     2022  55900.0  1257.211105\n",
      "      TaxYear  SIC7_5d           FTE\n",
      "334      2014  56101.0   9382.914904\n",
      "841      2015  56101.0  11620.326178\n",
      "1352     2016  56101.0  12872.307714\n",
      "1866     2017  56101.0  11740.312551\n",
      "2383     2018  56101.0  10635.526969\n",
      "2899     2019  56101.0  13051.210071\n",
      "3413     2020  56101.0  13918.915559\n",
      "3929     2021  56101.0  10673.057132\n",
      "4440     2022  56101.0   9989.092785\n",
      "      TaxYear  SIC7_5d           FTE\n",
      "335      2014  56109.0  13777.861897\n",
      "842      2015  56109.0  15702.194403\n",
      "1353     2016  56109.0  17105.990894\n",
      "1867     2017  56109.0  17089.719951\n",
      "2384     2018  56109.0  17673.315631\n",
      "2900     2019  56109.0  18242.443507\n",
      "3414     2020  56109.0  19014.734833\n",
      "3930     2021  56109.0  16369.724370\n",
      "4441     2022  56109.0  14785.092150\n",
      "      TaxYear  SIC7_5d          FTE\n",
      "336      2014  56210.0   851.903741\n",
      "843      2015  56210.0   989.180118\n",
      "1354     2016  56210.0  1341.025139\n",
      "1868     2017  56210.0  1417.896916\n",
      "2385     2018  56210.0  1656.268586\n",
      "2901     2019  56210.0  1667.017968\n",
      "3415     2020  56210.0  1778.210274\n",
      "3931     2021  56210.0  1218.191293\n",
      "4442     2022  56210.0   741.422855\n",
      "      TaxYear  SIC7_5d           FTE\n",
      "337      2014  56290.0   8387.269082\n",
      "844      2015  56290.0   9801.729836\n",
      "1355     2016  56290.0  10634.721379\n",
      "1869     2017  56290.0  11341.372562\n",
      "2386     2018  56290.0   9450.172762\n",
      "2902     2019  56290.0  12415.943493\n",
      "3416     2020  56290.0  11355.890989\n",
      "3932     2021  56290.0  14770.699992\n",
      "4443     2022  56290.0  15496.776023\n",
      "      TaxYear  SIC7_5d          FTE\n",
      "338      2014  56300.0  1690.133657\n",
      "845      2015  56300.0  1377.840054\n",
      "1356     2016  56300.0  1515.268001\n",
      "1870     2017  56300.0  1541.886435\n",
      "2387     2018  56300.0  1331.104873\n",
      "2903     2019  56300.0  1499.121107\n",
      "3417     2020  56300.0  1655.326290\n",
      "3933     2021  56300.0  1639.648780\n",
      "4444     2022  56300.0  1571.027393\n",
      "      TaxYear  SIC7_5d          FTE\n",
      "339      2014  58110.0  3198.502728\n",
      "846      2015  58110.0  2259.394703\n",
      "1357     2016  58110.0  3030.946857\n",
      "1871     2017  58110.0  2737.616087\n",
      "2388     2018  58110.0  2406.735822\n",
      "2904     2019  58110.0  2101.515068\n",
      "3418     2020  58110.0  1967.112368\n",
      "3934     2021  58110.0  1579.120777\n",
      "4445     2022  58110.0  1443.342012\n",
      "      TaxYear  SIC7_5d         FTE\n",
      "340      2014  58120.0  153.635616\n",
      "847      2015  58120.0  117.090411\n",
      "1358     2016  58120.0  113.539725\n",
      "1872     2017  58120.0  117.650680\n",
      "2389     2018  58120.0  135.320548\n",
      "2905     2019  58120.0   78.569863\n",
      "3419     2020  58120.0   49.101093\n",
      "3935     2021  58120.0   38.432877\n",
      "4446     2022  58120.0   26.578082\n",
      "      TaxYear  SIC7_5d          FTE\n",
      "341      2014  58130.0  2704.059889\n",
      "848      2015  58130.0  2510.616912\n",
      "1359     2016  58130.0  2899.607614\n",
      "1873     2017  58130.0  3092.657827\n",
      "2390     2018  58130.0  2832.103158\n",
      "2906     2019  58130.0  2553.953581\n",
      "3420     2020  58130.0  2528.030339\n",
      "3936     2021  58130.0  2086.448167\n",
      "4447     2022  58130.0  1761.958588\n",
      "      TaxYear  SIC7_5d          FTE\n",
      "342      2014  58190.0  4616.492955\n",
      "849      2015  58190.0  3667.601698\n",
      "1360     2016  58190.0  3305.112008\n",
      "1874     2017  58190.0  2043.893141\n",
      "2391     2018  58190.0  1704.854549\n",
      "2907     2019  58190.0  1725.288660\n",
      "3421     2020  58190.0  1656.801426\n",
      "3937     2021  58190.0  1289.926986\n",
      "4448     2022  58190.0  1062.339915\n",
      "      TaxYear  SIC7_5d         FTE\n",
      "343      2014  58200.0  686.868092\n",
      "850      2015  58200.0  747.376173\n",
      "1361     2016  58200.0  559.925664\n",
      "1875     2017  58200.0  729.133448\n",
      "2392     2018  58200.0  665.933663\n",
      "2908     2019  58200.0  724.933915\n",
      "3422     2020  58200.0  747.779738\n",
      "3938     2021  58200.0  541.916274\n",
      "4449     2022  58200.0  614.635162\n",
      "      TaxYear  SIC7_5d           FTE\n",
      "344      2014  59110.0   8016.039332\n",
      "851      2015  59110.0  10947.202294\n",
      "1362     2016  59110.0  11362.971756\n",
      "1876     2017  59110.0  11442.696053\n",
      "2393     2018  59110.0  13502.569627\n",
      "2909     2019  59110.0  13996.786731\n",
      "3423     2020  59110.0  16663.491108\n",
      "3939     2021  59110.0  12396.352389\n",
      "4450     2022  59110.0  11366.245508\n",
      "      TaxYear  SIC7_5d          FTE\n",
      "345      2014  59120.0   774.392426\n",
      "852      2015  59120.0  1295.785531\n",
      "1363     2016  59120.0  1476.502176\n",
      "1877     2017  59120.0  1403.224270\n",
      "2394     2018  59120.0   825.175512\n",
      "2910     2019  59120.0   938.692961\n",
      "3424     2020  59120.0  1204.234344\n",
      "3940     2021  59120.0   865.682728\n",
      "4451     2022  59120.0   681.569546\n",
      "      TaxYear  SIC7_5d         FTE\n",
      "346      2014  59130.0  123.473523\n",
      "853      2015  59130.0   58.242796\n",
      "1364     2016  59130.0   66.060207\n",
      "1878     2017  59130.0  107.993936\n",
      "2395     2018  59130.0  314.696798\n",
      "2911     2019  59130.0  326.644549\n",
      "3425     2020  59130.0  337.838693\n",
      "3941     2021  59130.0  431.040902\n",
      "4452     2022  59130.0  301.495073\n",
      "      TaxYear  SIC7_5d         FTE\n",
      "347      2014  59140.0  117.363623\n",
      "854      2015  59140.0   85.505706\n",
      "1365     2016  59140.0  230.914149\n",
      "1879     2017  59140.0  190.481322\n",
      "2396     2018  59140.0  185.547945\n",
      "2912     2019  59140.0  162.854795\n",
      "3426     2020  59140.0  108.928887\n",
      "3942     2021  59140.0  101.648968\n",
      "4453     2022  59140.0  100.905231\n",
      "      TaxYear  SIC7_5d         FTE\n",
      "348      2014  59200.0  101.515836\n",
      "855      2015  59200.0  120.703577\n",
      "1366     2016  59200.0  155.259563\n",
      "1880     2017  59200.0  149.095890\n",
      "2397     2018  59200.0  147.474059\n",
      "2913     2019  59200.0  132.298128\n",
      "3427     2020  59200.0  167.682728\n",
      "3943     2021  59200.0  103.630137\n",
      "4454     2022  59200.0  100.789041\n",
      "      TaxYear  SIC7_5d         FTE\n",
      "349      2014  60100.0  636.588978\n",
      "856      2015  60100.0  707.175114\n",
      "1367     2016  60100.0  727.924035\n",
      "1881     2017  60100.0  698.408925\n",
      "2398     2018  60100.0  677.616458\n",
      "2914     2019  60100.0  680.866851\n",
      "3428     2020  60100.0  665.683575\n",
      "3944     2021  60100.0  554.673384\n",
      "4455     2022  60100.0  549.311690\n",
      "      TaxYear  SIC7_5d          FTE\n",
      "350      2014  60200.0  3014.204742\n",
      "857      2015  60200.0  1003.962442\n",
      "1368     2016  60200.0   999.589698\n",
      "1882     2017  60200.0  1383.590012\n",
      "2399     2018  60200.0  1173.172691\n",
      "2915     2019  60200.0  1381.695471\n",
      "3429     2020  60200.0  1029.978606\n",
      "3945     2021  60200.0   835.376711\n",
      "4456     2022  60200.0   844.081406\n",
      "      TaxYear  SIC7_5d          FTE\n",
      "351      2014  61100.0   727.836762\n",
      "858      2015  61100.0   674.264436\n",
      "1369     2016  61100.0   846.540125\n",
      "1883     2017  61100.0   886.492990\n",
      "2400     2018  61100.0  1157.200736\n",
      "2916     2019  61100.0  1238.659252\n",
      "3430     2020  61100.0  1344.777499\n",
      "3946     2021  61100.0  1284.531847\n",
      "4457     2022  61100.0  1283.690908\n",
      "      TaxYear  SIC7_5d          FTE\n",
      "352      2014  61200.0  1202.558952\n",
      "859      2015  61200.0  1164.195556\n",
      "1370     2016  61200.0  1214.978644\n",
      "1884     2017  61200.0  1155.499542\n",
      "2401     2018  61200.0  1120.627492\n",
      "2917     2019  61200.0  1319.322184\n",
      "3431     2020  61200.0  1518.563169\n",
      "3947     2021  61200.0  1374.166681\n",
      "4458     2022  61200.0  1435.802567\n",
      "      TaxYear  SIC7_5d          FTE\n",
      "353      2014  61300.0   102.175549\n",
      "860      2015  61300.0  1625.895462\n",
      "1371     2016  61300.0   744.759121\n",
      "1885     2017  61300.0   558.227397\n",
      "2402     2018  61300.0   319.414866\n",
      "2918     2019  61300.0    90.289805\n",
      "3432     2020  61300.0    96.584990\n",
      "3948     2021  61300.0    56.120981\n",
      "4459     2022  61300.0    60.817005\n",
      "      TaxYear  SIC7_5d          FTE\n",
      "354      2014  61900.0  5358.574895\n",
      "861      2015  61900.0  4951.152420\n",
      "1372     2016  61900.0  4422.264002\n",
      "1886     2017  61900.0  4263.436861\n",
      "2403     2018  61900.0  4310.904477\n",
      "2919     2019  61900.0  4696.484822\n",
      "3433     2020  61900.0  5511.359428\n",
      "3949     2021  61900.0  5422.870759\n",
      "4460     2022  61900.0  5347.562907\n",
      "      TaxYear  SIC7_5d          FTE\n",
      "355      2014  62010.0  9089.798682\n",
      "862      2015  62010.0  3758.816300\n",
      "1373     2016  62010.0  4157.969905\n",
      "1887     2017  62010.0  4192.466836\n",
      "2404     2018  62010.0  4445.976644\n",
      "2920     2019  62010.0  4646.752901\n",
      "3434     2020  62010.0  5081.081522\n",
      "3950     2021  62010.0  5477.284698\n",
      "4461     2022  62010.0  5953.618565\n",
      "      TaxYear  SIC7_5d          FTE\n",
      "356      2014  62020.0  1491.060693\n",
      "863      2015  62020.0  1789.651300\n",
      "1374     2016  62020.0  1700.121028\n",
      "1888     2017  62020.0  1845.657844\n",
      "2405     2018  62020.0  1973.059156\n",
      "2921     2019  62020.0  2272.691812\n",
      "3435     2020  62020.0  2589.279285\n",
      "3951     2021  62020.0  2466.012579\n",
      "4462     2022  62020.0  2720.926921\n",
      "      TaxYear  SIC7_5d          FTE\n",
      "357      2014  62090.0  4838.189843\n",
      "864      2015  62090.0  5338.084215\n",
      "1375     2016  62090.0  6010.704404\n",
      "1889     2017  62090.0  6405.348644\n",
      "2406     2018  62090.0  6829.391794\n",
      "2922     2019  62090.0  8005.688935\n",
      "3436     2020  62090.0  8990.167033\n",
      "3952     2021  62090.0  9578.175082\n",
      "4463     2022  62090.0  9869.565156\n",
      "      TaxYear  SIC7_5d          FTE\n",
      "358      2014  63110.0   829.373965\n",
      "865      2015  63110.0  1104.481248\n",
      "1376     2016  63110.0  1231.003387\n",
      "1890     2017  63110.0  1700.400863\n",
      "2407     2018  63110.0  1774.085177\n",
      "2923     2019  63110.0  1692.833977\n",
      "3437     2020  63110.0  1849.020338\n",
      "3953     2021  63110.0  2144.207037\n",
      "4464     2022  63110.0  2069.441244\n",
      "      TaxYear  SIC7_5d         FTE\n",
      "359      2014  63120.0  315.069569\n",
      "866      2015  63120.0  367.017604\n",
      "1377     2016  63120.0  420.173477\n",
      "1891     2017  63120.0  529.272503\n",
      "2408     2018  63120.0  623.799360\n",
      "2924     2019  63120.0  636.680079\n",
      "3438     2020  63120.0  749.679601\n",
      "3954     2021  63120.0  688.422230\n",
      "4465     2022  63120.0  707.759318\n",
      "      TaxYear  SIC7_5d         FTE\n",
      "360      2014  63910.0  393.245539\n",
      "867      2015  63910.0  127.944074\n",
      "1378     2016  63910.0  128.153533\n",
      "1892     2017  63910.0  136.783562\n",
      "2409     2018  63910.0  129.002740\n",
      "2925     2019  63910.0  184.927763\n",
      "3439     2020  63910.0  151.732240\n",
      "3955     2021  63910.0  230.690411\n",
      "4466     2022  63910.0  282.460274\n",
      "      TaxYear  SIC7_5d          FTE\n",
      "361      2014  63990.0  1244.450133\n",
      "868      2015  63990.0  1357.207077\n",
      "1379     2016  63990.0  1467.256785\n",
      "1893     2017  63990.0  1356.657361\n",
      "2410     2018  63990.0  1240.541445\n",
      "2926     2019  63990.0  1392.064460\n",
      "3440     2020  63990.0  1469.378681\n",
      "3956     2021  63990.0  1406.527650\n",
      "4467     2022  63990.0  1547.831137\n",
      "      TaxYear  SIC7_5d          FTE\n",
      "362      2014  64110.0  4657.820323\n",
      "869      2015  64110.0  2762.912986\n",
      "1380     2016  64110.0   491.194352\n",
      "1894     2017  64110.0   238.213502\n",
      "2411     2018  64110.0   225.370388\n",
      "2927     2019  64110.0   328.002838\n",
      "3441     2020  64110.0   245.933607\n",
      "3957     2021  64110.0   252.981637\n",
      "4468     2022  64110.0   208.539952\n",
      "      TaxYear  SIC7_5d          FTE\n",
      "363      2014  64190.0  5333.142451\n",
      "870      2015  64190.0  7093.557824\n",
      "1381     2016  64190.0  6337.041666\n",
      "1895     2017  64190.0  6988.081745\n",
      "2412     2018  64190.0  7119.472053\n",
      "2928     2019  64190.0  6166.996085\n",
      "3442     2020  64190.0  6743.069451\n",
      "3958     2021  64190.0  6108.115764\n",
      "4469     2022  64190.0  5596.433793\n",
      "      TaxYear  SIC7_5d          FTE\n",
      "364      2014  64200.0  1602.296579\n",
      "871      2015  64200.0   814.846875\n",
      "1382     2016  64200.0  4432.917467\n",
      "1896     2017  64200.0  5440.525685\n",
      "2413     2018  64200.0  1641.874896\n",
      "2929     2019  64200.0  2050.259099\n",
      "3443     2020  64200.0  2162.252785\n",
      "3959     2021  64200.0  1561.396988\n",
      "4470     2022  64200.0  2328.598393\n",
      "      TaxYear  SIC7_5d          FTE\n",
      "365      2014  64300.0  3799.641939\n",
      "872      2015  64300.0  5701.388015\n",
      "1383     2016  64300.0  5008.683214\n",
      "1897     2017  64300.0  4316.423226\n",
      "2414     2018  64300.0  1689.475139\n",
      "2930     2019  64300.0  1708.466477\n",
      "3444     2020  64300.0  1688.940941\n",
      "3960     2021  64300.0  1650.534591\n",
      "4471     2022  64300.0  1601.295027\n",
      "      TaxYear  SIC7_5d          FTE\n",
      "366      2014  64910.0   204.004055\n",
      "873      2015  64910.0   245.670010\n",
      "1384     2016  64910.0   459.797183\n",
      "1898     2017  64910.0   415.898646\n",
      "2415     2018  64910.0   551.371626\n",
      "2931     2019  64910.0   552.953968\n",
      "3445     2020  64910.0   873.849060\n",
      "3961     2021  64910.0  1449.450436\n",
      "4472     2022  64910.0  1616.225616\n",
      "      TaxYear  SIC7_5d           FTE\n",
      "367      2014  64920.0   2033.984000\n",
      "874      2015  64920.0  19193.409649\n",
      "1385     2016  64920.0   2419.080893\n",
      "1899     2017  64920.0   2777.269281\n",
      "2416     2018  64920.0   8279.817215\n",
      "2932     2019  64920.0  12227.591121\n",
      "3446     2020  64920.0  14993.302922\n",
      "3962     2021  64920.0  23429.055754\n",
      "4473     2022  64920.0  26688.506804\n",
      "      TaxYear  SIC7_5d           FTE\n",
      "368      2014  64990.0   9960.598627\n",
      "875      2015  64990.0  11259.142203\n",
      "1386     2016  64990.0  15437.144535\n",
      "1900     2017  64990.0  16995.477865\n",
      "2417     2018  64990.0  15767.779963\n",
      "2933     2019  64990.0  13456.806574\n",
      "3447     2020  64990.0  14251.806016\n",
      "3963     2021  64990.0  12521.703306\n",
      "4474     2022  64990.0  14453.268807\n",
      "      TaxYear  SIC7_5d           FTE\n",
      "369      2014  65110.0  22273.003456\n",
      "876      2015  65110.0  24243.942746\n",
      "1387     2016  65110.0  24561.889559\n",
      "1901     2017  65110.0  25253.981009\n",
      "2418     2018  65110.0  24589.470101\n",
      "2934     2019  65110.0  24355.216354\n",
      "3448     2020  65110.0  20954.844777\n",
      "3964     2021  65110.0  22067.271971\n",
      "4475     2022  65110.0  17243.283468\n",
      "      TaxYear  SIC7_5d          FTE\n",
      "370      2014  65121.0  2856.722049\n",
      "877      2015  65121.0  3308.279612\n",
      "1388     2016  65121.0   536.007669\n",
      "1902     2017  65121.0   312.236167\n",
      "2419     2018  65121.0   530.665705\n",
      "2935     2019  65121.0   562.274308\n",
      "3449     2020  65121.0   599.263297\n",
      "3965     2021  65121.0   497.248156\n",
      "4476     2022  65121.0   478.859132\n",
      "      TaxYear  SIC7_5d        FTE\n",
      "371      2014  65122.0   0.000000\n",
      "878      2015  65122.0   0.000000\n",
      "1389     2016  65122.0   0.000000\n",
      "1903     2017  65122.0   0.000000\n",
      "2420     2018  65122.0   0.000000\n",
      "2936     2019  65122.0   0.000000\n",
      "3450     2020  65122.0   0.000000\n",
      "3966     2021  65122.0  22.938524\n",
      "4477     2022  65122.0  22.246575\n",
      "      TaxYear  SIC7_5d         FTE\n",
      "372      2014  65123.0   63.462391\n",
      "879      2015  65123.0   75.016438\n",
      "1390     2016  65123.0   83.235426\n",
      "1904     2017  65123.0   76.374927\n",
      "2421     2018  65123.0  106.368494\n",
      "2937     2019  65123.0   68.513469\n",
      "3451     2020  65123.0   70.688525\n",
      "3967     2021  65123.0   68.813699\n",
      "4478     2022  65123.0   59.586301\n",
      "      TaxYear  SIC7_5d          FTE\n",
      "373      2014  65129.0  4147.891999\n",
      "880      2015  65129.0  4249.593588\n",
      "1391     2016  65129.0  4555.146709\n",
      "1905     2017  65129.0  4517.958178\n",
      "2422     2018  65129.0  4605.906906\n",
      "2938     2019  65129.0  4831.268662\n",
      "3452     2020  65129.0  5023.738150\n",
      "3968     2021  65129.0  5011.624392\n",
      "4479     2022  65129.0  5859.083072\n",
      "      TaxYear  SIC7_5d         FTE\n",
      "374      2014  65200.0  127.849315\n",
      "881      2015  65200.0  135.235616\n",
      "1392     2016  65200.0  142.172131\n",
      "1906     2017  65200.0  136.504110\n",
      "2423     2018  65200.0  144.860274\n",
      "2939     2019  65200.0  132.027397\n",
      "3453     2020  65200.0  141.806011\n",
      "3969     2021  65200.0  146.109429\n",
      "4480     2022  65200.0  162.951529\n",
      "      TaxYear  SIC7_5d         FTE\n",
      "375      2014  65300.0  124.963107\n",
      "882      2015  65300.0  199.940458\n",
      "1393     2016  65300.0  218.159274\n",
      "1907     2017  65300.0  218.708576\n",
      "2424     2018  65300.0  231.620641\n",
      "2940     2019  65300.0  235.151497\n",
      "3454     2020  65300.0  139.574530\n",
      "3970     2021  65300.0  200.806211\n",
      "4481     2022  65300.0  283.072625\n",
      "      TaxYear  SIC7_5d          FTE\n",
      "376      2014  66110.0   381.446016\n",
      "883      2015  66110.0   509.941197\n",
      "1394     2016  66110.0   522.263272\n",
      "1908     2017  66110.0   450.187388\n",
      "2425     2018  66110.0   594.299669\n",
      "2941     2019  66110.0   706.398628\n",
      "3455     2020  66110.0  3680.338139\n",
      "3971     2021  66110.0  2808.913446\n",
      "4482     2022  66110.0  3784.079571\n",
      "      TaxYear  SIC7_5d          FTE\n",
      "377      2014  66120.0  1598.241066\n",
      "884      2015  66120.0   562.562147\n",
      "1395     2016  66120.0   381.749595\n",
      "1909     2017  66120.0   431.763566\n",
      "2426     2018  66120.0   421.975138\n",
      "2942     2019  66120.0   509.128054\n",
      "3456     2020  66120.0   554.775960\n",
      "3972     2021  66120.0   470.511863\n",
      "4483     2022  66120.0   242.809553\n",
      "      TaxYear  SIC7_5d          FTE\n",
      "378      2014  66190.0  3821.367689\n",
      "885      2015  66190.0  3995.418237\n",
      "1396     2016  66190.0  4387.362066\n",
      "1910     2017  66190.0  4692.141590\n",
      "2427     2018  66190.0  5136.497563\n",
      "2943     2019  66190.0  5352.737274\n",
      "3457     2020  66190.0  5992.215423\n",
      "3973     2021  66190.0  6443.054378\n",
      "4484     2022  66190.0  6533.691964\n",
      "      TaxYear  SIC7_5d         FTE\n",
      "379      2014  66210.0   77.974338\n",
      "886      2015  66210.0   87.848415\n",
      "1397     2016  66210.0  124.038555\n",
      "1911     2017  66210.0  149.873904\n",
      "2428     2018  66210.0  175.584327\n",
      "2944     2019  66210.0  121.815474\n",
      "3458     2020  66210.0  125.312828\n",
      "3974     2021  66210.0  153.260360\n",
      "4485     2022  66210.0  155.800641\n",
      "      TaxYear  SIC7_5d          FTE\n",
      "380      2014  66220.0  3808.556023\n",
      "887      2015  66220.0  4605.545283\n",
      "1398     2016  66220.0  5480.322081\n",
      "1912     2017  66220.0  6320.101081\n",
      "2429     2018  66220.0  5290.953687\n",
      "2945     2019  66220.0  5698.869050\n",
      "3459     2020  66220.0  5981.221504\n",
      "3975     2021  66220.0  4896.272782\n",
      "4486     2022  66220.0  4362.539434\n",
      "      TaxYear  SIC7_5d         FTE\n",
      "381      2014  66290.0  385.192457\n",
      "888      2015  66290.0  532.282285\n",
      "1399     2016  66290.0  342.799830\n",
      "1913     2017  66290.0  448.499257\n",
      "2430     2018  66290.0  536.823690\n",
      "2946     2019  66290.0  449.414026\n",
      "3460     2020  66290.0  509.299220\n",
      "3976     2021  66290.0  551.705994\n",
      "4487     2022  66290.0  632.902845\n",
      "      TaxYear  SIC7_5d          FTE\n",
      "382      2014  66300.0  2209.770679\n",
      "889      2015  66300.0  2194.856879\n",
      "1400     2016  66300.0  2422.499258\n",
      "1914     2017  66300.0  2654.387993\n",
      "2431     2018  66300.0  3764.604149\n",
      "2947     2019  66300.0  4088.738256\n",
      "3461     2020  66300.0  4809.799161\n",
      "3977     2021  66300.0  3566.983962\n",
      "4488     2022  66300.0  3426.560461\n",
      "      TaxYear  SIC7_5d          FTE\n",
      "383      2014  68100.0  4728.328826\n",
      "890      2015  68100.0  5122.461146\n",
      "1401     2016  68100.0  5120.434460\n",
      "1915     2017  68100.0  5238.619288\n",
      "2432     2018  68100.0  5582.240922\n",
      "2948     2019  68100.0  5957.628337\n",
      "3462     2020  68100.0  6351.722739\n",
      "3978     2021  68100.0  6662.691139\n",
      "4489     2022  68100.0  7049.477678\n",
      "      TaxYear  SIC7_5d          FTE\n",
      "384      2014  68200.0  4311.324531\n",
      "891      2015  68200.0  4558.525742\n",
      "1402     2016  68200.0  5210.110638\n",
      "1916     2017  68200.0  5846.023693\n",
      "2433     2018  68200.0  6408.393510\n",
      "2949     2019  68200.0  6658.506266\n",
      "3463     2020  68200.0  6996.309810\n",
      "3979     2021  68200.0  7018.357283\n",
      "4490     2022  68200.0  7108.408061\n",
      "      TaxYear  SIC7_5d          FTE\n",
      "385      2014  69100.0  6799.699124\n",
      "892      2015  69100.0  7181.181450\n",
      "1403     2016  69100.0  7521.803190\n",
      "1917     2017  69100.0  7902.667880\n",
      "2434     2018  69100.0  8123.275854\n",
      "2950     2019  69100.0  8120.377680\n",
      "3464     2020  69100.0  8442.458888\n",
      "3980     2021  69100.0  8486.670787\n",
      "4491     2022  69100.0  8292.277110\n",
      "      TaxYear  SIC7_5d          FTE\n",
      "386      2014  69201.0  3731.965069\n",
      "893      2015  69201.0  3498.267257\n",
      "1404     2016  69201.0  3476.531352\n",
      "1918     2017  69201.0  3255.781018\n",
      "2435     2018  69201.0  3308.243740\n",
      "2951     2019  69201.0  3448.730664\n",
      "3465     2020  69201.0  4141.506872\n",
      "3981     2021  69201.0  4427.407804\n",
      "4492     2022  69201.0  5527.394685\n",
      "      TaxYear  SIC7_5d          FTE\n",
      "387      2014  69202.0  2112.709357\n",
      "894      2015  69202.0  1995.248636\n",
      "1405     2016  69202.0  1973.050767\n",
      "1919     2017  69202.0  2012.166969\n",
      "2436     2018  69202.0  1988.816046\n",
      "2952     2019  69202.0  2132.983287\n",
      "3466     2020  69202.0  2049.473927\n",
      "3982     2021  69202.0  1956.007798\n",
      "4493     2022  69202.0  1928.145379\n",
      "      TaxYear  SIC7_5d          FTE\n",
      "388      2014  69209.0  2032.983233\n",
      "895      2015  69209.0  2349.205560\n",
      "1406     2016  69209.0  3250.343186\n",
      "1920     2017  69209.0  3245.439144\n",
      "2437     2018  69209.0  3291.187912\n",
      "2953     2019  69209.0  3399.552922\n",
      "3467     2020  69209.0  3615.234422\n",
      "3983     2021  69209.0  3478.532254\n",
      "4494     2022  69209.0  3390.023261\n",
      "      TaxYear  SIC7_5d          FTE\n",
      "389      2014  70100.0  3177.159397\n",
      "896      2015  70100.0  3062.425663\n",
      "1407     2016  70100.0  4274.795262\n",
      "1921     2017  70100.0  5719.256393\n",
      "2438     2018  70100.0  5064.342182\n",
      "2954     2019  70100.0  4611.261108\n",
      "3468     2020  70100.0  4726.618088\n",
      "3984     2021  70100.0  4544.829466\n",
      "4495     2022  70100.0  3669.678253\n",
      "      TaxYear  SIC7_5d          FTE\n",
      "390      2014  70200.0  2697.368193\n",
      "897      2015  70200.0  3255.579414\n",
      "1408     2016  70200.0  3640.626938\n",
      "1922     2017  70200.0  3602.713038\n",
      "2439     2018  70200.0  3403.915935\n",
      "2955     2019  70200.0  3432.195297\n",
      "3469     2020  70200.0  3702.455540\n",
      "3985     2021  70200.0  3923.566993\n",
      "4496     2022  70200.0  4147.159846\n",
      "      TaxYear  SIC7_5d          FTE\n",
      "391      2014  71101.0  4009.049540\n",
      "898      2015  71101.0  4344.561963\n",
      "1409     2016  71101.0  4512.039307\n",
      "1923     2017  71101.0  4595.290007\n",
      "2440     2018  71101.0  4686.926397\n",
      "2956     2019  71101.0  4631.354681\n",
      "3470     2020  71101.0  4965.592468\n",
      "3986     2021  71101.0  4165.421645\n",
      "4497     2022  71101.0  4269.158826\n",
      "      TaxYear  SIC7_5d          FTE\n",
      "392      2014  71102.0  1526.711800\n",
      "899      2015  71102.0  1730.964558\n",
      "1410     2016  71102.0  1809.585426\n",
      "1924     2017  71102.0  1937.571505\n",
      "2441     2018  71102.0  2172.765941\n",
      "2957     2019  71102.0  2367.155764\n",
      "3471     2020  71102.0  2290.918602\n",
      "3987     2021  71102.0  2128.926070\n",
      "4498     2022  71102.0  2106.719009\n",
      "      TaxYear  SIC7_5d         FTE\n",
      "393      2014  71103.0  318.920981\n",
      "900      2015  71103.0  364.777426\n",
      "1411     2016  71103.0  392.259143\n",
      "1925     2017  71103.0  444.363455\n",
      "2442     2018  71103.0  457.216096\n",
      "2958     2019  71103.0  541.599683\n",
      "3472     2020  71103.0  495.260113\n",
      "3988     2021  71103.0  495.826840\n",
      "4499     2022  71103.0  384.684412\n",
      "      TaxYear  SIC7_5d         FTE\n",
      "394      2014  71104.0  196.729205\n",
      "901      2015  71104.0  178.533170\n",
      "1412     2016  71104.0  187.707904\n",
      "1926     2017  71104.0  214.203651\n",
      "2443     2018  71104.0  198.565902\n",
      "2959     2019  71104.0  237.605368\n",
      "3473     2020  71104.0  204.845853\n",
      "3989     2021  71104.0  175.804681\n",
      "4500     2022  71104.0  152.657140\n",
      "      TaxYear  SIC7_5d         FTE\n",
      "395      2014  71105.0   63.952122\n",
      "902      2015  71105.0   76.605358\n",
      "1413     2016  71105.0   61.412861\n",
      "1927     2017  71105.0   70.114686\n",
      "2444     2018  71105.0   68.935420\n",
      "2960     2019  71105.0   66.223520\n",
      "3474     2020  71105.0  172.850370\n",
      "3990     2021  71105.0  165.081782\n",
      "4501     2022  71105.0  112.539154\n",
      "      TaxYear  SIC7_5d        FTE\n",
      "396      2014  71106.0  45.671233\n",
      "903      2015  71106.0  45.189041\n",
      "1414     2016  71106.0  39.942623\n",
      "1928     2017  71106.0  41.630137\n",
      "2445     2018  71106.0  47.303105\n",
      "2961     2019  71106.0  39.836182\n",
      "3475     2020  71106.0  37.760679\n",
      "3991     2021  71106.0  36.627433\n",
      "4502     2022  71106.0  86.688040\n",
      "      TaxYear  SIC7_5d         FTE\n",
      "397      2014  71109.0  401.468238\n",
      "904      2015  71109.0  441.572615\n",
      "1415     2016  71109.0  470.316794\n",
      "1929     2017  71109.0  654.821682\n",
      "2446     2018  71109.0  791.579189\n",
      "2962     2019  71109.0  524.716624\n",
      "3476     2020  71109.0  627.791907\n",
      "3992     2021  71109.0  542.448633\n",
      "4503     2022  71109.0  543.400134\n",
      "      TaxYear  SIC7_5d         FTE\n",
      "398      2014  71200.0  514.899811\n",
      "905      2015  71200.0  596.617573\n",
      "1416     2016  71200.0  712.610435\n",
      "1930     2017  71200.0  809.999883\n",
      "2447     2018  71200.0  820.256054\n",
      "2963     2019  71200.0  893.444055\n",
      "3477     2020  71200.0  830.139528\n",
      "3993     2021  71200.0  915.850895\n",
      "4504     2022  71200.0  867.953877\n",
      "      TaxYear  SIC7_5d         FTE\n",
      "399      2014  72100.0  972.742571\n",
      "906      2015  72100.0  638.598800\n",
      "1417     2016  72100.0  675.618837\n",
      "1931     2017  72100.0  649.484456\n",
      "2448     2018  72100.0  661.729521\n",
      "2964     2019  72100.0  583.248875\n",
      "3478     2020  72100.0  581.855815\n",
      "3994     2021  72100.0  761.016043\n",
      "4505     2022  72100.0  804.370153\n",
      "      TaxYear  SIC7_5d          FTE\n",
      "400      2014  72200.0  2115.786036\n",
      "907      2015  72200.0  2242.051654\n",
      "1418     2016  72200.0  1922.046189\n",
      "1932     2017  72200.0  1944.425595\n",
      "2449     2018  72200.0  2200.618632\n",
      "2965     2019  72200.0  2271.410986\n",
      "3479     2020  72200.0  2217.584224\n",
      "3995     2021  72200.0  2044.398992\n",
      "4506     2022  72200.0  2284.117505\n",
      "      TaxYear  SIC7_5d          FTE\n",
      "401      2014  73100.0  7162.074310\n",
      "908      2015  73100.0  8662.501481\n",
      "1419     2016  73100.0  9028.597575\n",
      "1933     2017  73100.0  8780.954556\n",
      "2450     2018  73100.0  8425.766269\n",
      "2966     2019  73100.0  9200.395466\n",
      "3480     2020  73100.0  9838.668742\n",
      "3996     2021  73100.0  9189.279472\n",
      "4507     2022  73100.0  8938.379406\n",
      "      TaxYear  SIC7_5d          FTE\n",
      "402      2014  73200.0  1587.886005\n",
      "909      2015  73200.0  1702.647749\n",
      "1420     2016  73200.0  1493.235788\n",
      "1934     2017  73200.0  1940.317355\n",
      "2451     2018  73200.0  2740.363396\n",
      "2967     2019  73200.0  2612.813244\n",
      "3481     2020  73200.0  2591.413289\n",
      "3997     2021  73200.0  2354.414494\n",
      "4508     2022  73200.0  2298.012394\n",
      "      TaxYear  SIC7_5d          FTE\n",
      "403      2014  74100.0   895.384650\n",
      "910      2015  74100.0  1126.323835\n",
      "1421     2016  74100.0  1406.352267\n",
      "1935     2017  74100.0  1239.869672\n",
      "2452     2018  74100.0  1327.912957\n",
      "2968     2019  74100.0  1184.837132\n",
      "3482     2020  74100.0  1402.367278\n",
      "3998     2021  74100.0  1363.333331\n",
      "4509     2022  74100.0  1300.783754\n",
      "      TaxYear  SIC7_5d          FTE\n",
      "404      2014  74200.0   934.892485\n",
      "911      2015  74200.0  1525.033330\n",
      "1422     2016  74200.0  1637.089486\n",
      "1936     2017  74200.0  1940.699777\n",
      "2453     2018  74200.0  1995.318203\n",
      "2969     2019  74200.0  1897.279350\n",
      "3483     2020  74200.0  2085.484619\n",
      "3999     2021  74200.0  1448.348321\n",
      "4510     2022  74200.0  1571.581046\n",
      "      TaxYear  SIC7_5d          FTE\n",
      "405      2014  74900.0  1878.679001\n",
      "912      2015  74900.0  1961.489314\n",
      "1423     2016  74900.0  2066.534286\n",
      "1937     2017  74900.0  2156.815473\n",
      "2454     2018  74900.0  2451.423463\n",
      "2970     2019  74900.0  2704.563256\n",
      "3484     2020  74900.0  3168.235555\n",
      "4000     2021  74900.0  3337.138440\n",
      "4511     2022  74900.0  3552.388819\n",
      "      TaxYear  SIC7_5d          FTE\n",
      "406      2014  75000.0   941.485427\n",
      "913      2015  75000.0  1020.307682\n",
      "1424     2016  75000.0  1089.309321\n",
      "1938     2017  75000.0  1129.920171\n",
      "2455     2018  75000.0  1287.564114\n",
      "2971     2019  75000.0  1322.789167\n",
      "3485     2020  75000.0  1394.971238\n",
      "4001     2021  75000.0  1352.722670\n",
      "4512     2022  75000.0  1334.789830\n",
      "      TaxYear  SIC7_5d         FTE\n",
      "407      2014  77100.0  723.972685\n",
      "914      2015  77100.0  831.011188\n",
      "1425     2016  77100.0  889.740691\n",
      "1939     2017  77100.0  940.865692\n",
      "2456     2018  77100.0  982.959764\n",
      "2972     2019  77100.0  981.410204\n",
      "3486     2020  77100.0  957.551750\n",
      "4002     2021  77100.0  766.443080\n",
      "4513     2022  77100.0  556.824367\n",
      "      TaxYear  SIC7_5d        FTE\n",
      "408      2014  77210.0  14.238356\n",
      "915      2015  77210.0  12.470803\n",
      "1426     2016  77210.0  11.087432\n",
      "1940     2017  77210.0  16.358904\n",
      "2457     2018  77210.0  42.893151\n",
      "2973     2019  77210.0  46.558904\n",
      "3487     2020  77210.0  65.846995\n",
      "4003     2021  77210.0  39.035616\n",
      "4514     2022  77210.0  47.159829\n",
      "      TaxYear  SIC7_5d        FTE\n",
      "409      2014  77220.0  86.917126\n",
      "916      2015  77220.0  85.351201\n",
      "1427     2016  77220.0  79.309402\n",
      "1941     2017  77220.0  67.178502\n",
      "2458     2018  77220.0  30.839492\n",
      "2974     2019  77220.0  20.638356\n",
      "3488     2020  77220.0  22.811659\n",
      "4004     2021  77220.0  16.881498\n",
      "4515     2022  77220.0  16.072787\n",
      "      TaxYear  SIC7_5d         FTE\n",
      "410      2014  77290.0  146.639629\n",
      "917      2015  77290.0  126.240821\n",
      "1428     2016  77290.0  135.863625\n",
      "1942     2017  77290.0  170.736980\n",
      "2459     2018  77290.0  144.867103\n",
      "2975     2019  77290.0  224.627315\n",
      "3489     2020  77290.0  222.454965\n",
      "4005     2021  77290.0  202.641779\n",
      "4516     2022  77290.0  126.430924\n",
      "      TaxYear  SIC7_5d        FTE\n",
      "411      2014  77301.0  50.508585\n",
      "918      2015  77301.0  44.467489\n",
      "1429     2016  77301.0  60.474031\n",
      "1943     2017  77301.0  66.280377\n",
      "2460     2018  77301.0  76.324019\n",
      "2976     2019  77301.0  48.707251\n",
      "3490     2020  77301.0  31.622009\n",
      "4006     2021  77301.0  36.420487\n",
      "4517     2022  77301.0  44.281631\n",
      "      TaxYear  SIC7_5d  FTE\n",
      "412      2014  77303.0  0.0\n",
      "920      2015  77303.0  0.0\n",
      "1431     2016  77303.0  0.0\n",
      "1945     2017  77303.0  0.0\n",
      "2462     2018  77303.0  0.0\n",
      "2978     2019  77303.0  0.0\n",
      "3492     2020  77303.0  0.0\n",
      "4008     2021  77303.0  0.0\n",
      "4519     2022  77303.0  0.0\n",
      "      TaxYear  SIC7_5d        FTE\n",
      "413      2014  77304.0  36.834356\n",
      "921      2015  77304.0  41.071726\n",
      "1432     2016  77304.0  28.970491\n",
      "1946     2017  77304.0  36.571014\n",
      "2463     2018  77304.0  28.836119\n",
      "2979     2019  77304.0  32.179843\n",
      "3493     2020  77304.0  43.064961\n",
      "4009     2021  77304.0  25.054772\n",
      "4520     2022  77304.0  26.119285\n",
      "      TaxYear  SIC7_5d         FTE\n",
      "414      2014  77305.0  652.494605\n",
      "922      2015  77305.0  818.128426\n",
      "1433     2016  77305.0  830.427923\n",
      "1947     2017  77305.0  611.985495\n",
      "2464     2018  77305.0  678.849988\n",
      "2980     2019  77305.0  667.257395\n",
      "3494     2020  77305.0  777.510998\n",
      "4010     2021  77305.0  653.628499\n",
      "4521     2022  77305.0  576.772323\n",
      "      TaxYear  SIC7_5d         FTE\n",
      "415      2014  77306.0  414.764527\n",
      "923      2015  77306.0  486.106727\n",
      "1434     2016  77306.0  540.453066\n",
      "1948     2017  77306.0  675.439252\n",
      "2465     2018  77306.0  647.318424\n",
      "2981     2019  77306.0  611.762130\n",
      "3495     2020  77306.0  599.913047\n",
      "4011     2021  77306.0  423.430137\n",
      "4522     2022  77306.0  400.219178\n",
      "      TaxYear  SIC7_5d         FTE\n",
      "416      2014  77309.0  566.445520\n",
      "924      2015  77309.0  480.903019\n",
      "1435     2016  77309.0  532.051403\n",
      "1949     2017  77309.0  591.653487\n",
      "2466     2018  77309.0  609.393094\n",
      "2982     2019  77309.0  654.935966\n",
      "3496     2020  77309.0  598.493360\n",
      "4012     2021  77309.0  442.985206\n",
      "4523     2022  77309.0  364.022641\n",
      "      TaxYear  SIC7_5d         FTE\n",
      "417      2014  77400.0  155.531954\n",
      "925      2015  77400.0  169.818972\n",
      "1436     2016  77400.0  152.634407\n",
      "1950     2017  77400.0  187.637853\n",
      "2467     2018  77400.0  141.273338\n",
      "2983     2019  77400.0  180.217596\n",
      "3497     2020  77400.0  194.681117\n",
      "4013     2021  77400.0  158.633124\n",
      "4524     2022  77400.0  173.755334\n",
      "      TaxYear  SIC7_5d          FTE\n",
      "418      2014  78100.0  9133.492455\n",
      "926      2015  78100.0  8796.134184\n",
      "1437     2016  78100.0  8964.853242\n",
      "1951     2017  78100.0  7719.274524\n",
      "2468     2018  78100.0  7323.911974\n",
      "2984     2019  78100.0  7091.814194\n",
      "3498     2020  78100.0  7002.576680\n",
      "4014     2021  78100.0  6717.373727\n",
      "4525     2022  78100.0  6098.667997\n",
      "      TaxYear  SIC7_5d           FTE\n",
      "419      2014  78200.0   5594.619956\n",
      "927      2015  78200.0   8756.496095\n",
      "1438     2016  78200.0  10392.204851\n",
      "1952     2017  78200.0   8412.015106\n",
      "2469     2018  78200.0  10601.008035\n",
      "2985     2019  78200.0  10911.231920\n",
      "3499     2020  78200.0   9136.884128\n",
      "4015     2021  78200.0  10411.908822\n",
      "4526     2022  78200.0  11095.426300\n",
      "      TaxYear  SIC7_5d          FTE\n",
      "420      2014  78300.0  3771.229579\n",
      "928      2015  78300.0  4340.716121\n",
      "1439     2016  78300.0  3090.792520\n",
      "1953     2017  78300.0  2565.452175\n",
      "2470     2018  78300.0  2355.020841\n",
      "2986     2019  78300.0  2454.958285\n",
      "3500     2020  78300.0  2096.424904\n",
      "4016     2021  78300.0  2133.781786\n",
      "4527     2022  78300.0  2767.412773\n",
      "      TaxYear  SIC7_5d          FTE\n",
      "421      2014  79110.0  1889.848200\n",
      "929      2015  79110.0  2383.630123\n",
      "1440     2016  79110.0  2507.460571\n",
      "1954     2017  79110.0  2511.446763\n",
      "2471     2018  79110.0  2725.249415\n",
      "2987     2019  79110.0  3068.592713\n",
      "3501     2020  79110.0  3164.865199\n",
      "4017     2021  79110.0  2252.455773\n",
      "4528     2022  79110.0  1672.569102\n",
      "      TaxYear  SIC7_5d          FTE\n",
      "422      2014  79120.0  2342.325351\n",
      "930      2015  79120.0  2835.221839\n",
      "1441     2016  79120.0  2954.845561\n",
      "1955     2017  79120.0  3231.678718\n",
      "2472     2018  79120.0  3537.191775\n",
      "2988     2019  79120.0  3504.332387\n",
      "3502     2020  79120.0  3353.547919\n",
      "4018     2021  79120.0  2112.475096\n",
      "4529     2022  79120.0  1946.701987\n",
      "      TaxYear  SIC7_5d         FTE\n",
      "423      2014  79900.0  659.109304\n",
      "931      2015  79900.0  574.719477\n",
      "1442     2016  79900.0  651.142251\n",
      "1956     2017  79900.0  642.345076\n",
      "2473     2018  79900.0  614.795351\n",
      "2989     2019  79900.0  621.120633\n",
      "3503     2020  79900.0  653.713675\n",
      "4019     2021  79900.0  463.609698\n",
      "4530     2022  79900.0  382.965544\n",
      "      TaxYear  SIC7_5d           FTE\n",
      "424      2014  80100.0  26323.375819\n",
      "932      2015  80100.0  22781.667541\n",
      "1443     2016  80100.0  27087.083902\n",
      "1957     2017  80100.0  24869.499702\n",
      "2474     2018  80100.0  23533.549405\n",
      "2990     2019  80100.0  22867.453601\n",
      "3504     2020  80100.0  27696.981543\n",
      "4020     2021  80100.0  31207.701263\n",
      "4531     2022  80100.0  26706.782913\n",
      "      TaxYear  SIC7_5d          FTE\n",
      "425      2014  80200.0  2282.239424\n",
      "933      2015  80200.0  6211.348442\n",
      "1444     2016  80200.0  4736.507621\n",
      "1958     2017  80200.0  5567.013370\n",
      "2475     2018  80200.0  6824.084386\n",
      "2991     2019  80200.0  7883.854579\n",
      "3505     2020  80200.0  8283.098247\n",
      "4021     2021  80200.0  7741.851895\n",
      "4532     2022  80200.0  8086.075971\n",
      "      TaxYear  SIC7_5d         FTE\n",
      "426      2014  80300.0   86.998331\n",
      "934      2015  80300.0  139.481463\n",
      "1445     2016  80300.0  134.457970\n",
      "1959     2017  80300.0  108.964721\n",
      "2476     2018  80300.0  150.241740\n",
      "2992     2019  80300.0   55.434473\n",
      "3506     2020  80300.0   60.339089\n",
      "4022     2021  80300.0   65.003464\n",
      "4533     2022  80300.0  140.269626\n",
      "      TaxYear  SIC7_5d          FTE\n",
      "427      2014  81100.0  7697.017580\n",
      "935      2015  81100.0  8563.232577\n",
      "1446     2016  81100.0  9272.800324\n",
      "1960     2017  81100.0  7968.334387\n",
      "2477     2018  81100.0  7201.757540\n",
      "2993     2019  81100.0  6204.469004\n",
      "3507     2020  81100.0  6288.232622\n",
      "4023     2021  81100.0  5533.824689\n",
      "4534     2022  81100.0  5591.078368\n",
      "      TaxYear  SIC7_5d          FTE\n",
      "428      2014  81210.0  4960.607445\n",
      "936      2015  81210.0  6352.624666\n",
      "1447     2016  81210.0  6816.215878\n",
      "1961     2017  81210.0  7041.891590\n",
      "2478     2018  81210.0  7503.061821\n",
      "2994     2019  81210.0  7676.191656\n",
      "3508     2020  81210.0  8215.770056\n",
      "4024     2021  81210.0  7786.948537\n",
      "4535     2022  81210.0  7864.354584\n",
      "      TaxYear  SIC7_5d          FTE\n",
      "429      2014  81290.0  1980.893576\n",
      "937      2015  81290.0  2951.845950\n",
      "1448     2016  81290.0  3292.104891\n",
      "1962     2017  81290.0  3839.952274\n",
      "2479     2018  81290.0  3363.688015\n",
      "2995     2019  81290.0  3088.065997\n",
      "3509     2020  81290.0  4078.404048\n",
      "4025     2021  81290.0  4848.750093\n",
      "4536     2022  81290.0  3796.147156\n",
      "      TaxYear  SIC7_5d          FTE\n",
      "430      2014  81300.0  2830.941374\n",
      "938      2015  81300.0  2761.051453\n",
      "1449     2016  81300.0  3169.136971\n",
      "1963     2017  81300.0  2402.919412\n",
      "2480     2018  81300.0  2156.810750\n",
      "2996     2019  81300.0  2483.002373\n",
      "3510     2020  81300.0  2707.257267\n",
      "4026     2021  81300.0  3168.857956\n",
      "4537     2022  81300.0  2511.936550\n",
      "      TaxYear  SIC7_5d          FTE\n",
      "431      2014  82110.0  1636.063915\n",
      "939      2015  82110.0  1553.860928\n",
      "1450     2016  82110.0  1677.478179\n",
      "1964     2017  82110.0  1814.658692\n",
      "2481     2018  82110.0  3989.366557\n",
      "2997     2019  82110.0  2040.382180\n",
      "3511     2020  82110.0  2289.785642\n",
      "4027     2021  82110.0  2205.825569\n",
      "4538     2022  82110.0  2150.441688\n",
      "      TaxYear  SIC7_5d         FTE\n",
      "432      2014  82190.0  371.168719\n",
      "940      2015  82190.0  324.433055\n",
      "1451     2016  82190.0  370.915653\n",
      "1965     2017  82190.0  349.482385\n",
      "2482     2018  82190.0  295.905993\n",
      "2998     2019  82190.0  296.410199\n",
      "3512     2020  82190.0  377.062091\n",
      "4028     2021  82190.0  416.549983\n",
      "4539     2022  82190.0  422.289435\n",
      "      TaxYear  SIC7_5d           FTE\n",
      "433      2014  82200.0   5637.475989\n",
      "941      2015  82200.0   6990.453854\n",
      "1452     2016  82200.0   8711.974419\n",
      "1966     2017  82200.0  11285.593748\n",
      "2483     2018  82200.0  11713.348889\n",
      "2999     2019  82200.0  11712.444719\n",
      "3513     2020  82200.0  12786.087545\n",
      "4029     2021  82200.0  13846.930693\n",
      "4540     2022  82200.0  17085.322032\n",
      "      TaxYear  SIC7_5d         FTE\n",
      "434      2014  82300.0  551.935534\n",
      "942      2015  82300.0  463.302036\n",
      "1453     2016  82300.0  454.289588\n",
      "1967     2017  82300.0  504.605853\n",
      "2484     2018  82300.0  548.298510\n",
      "3000     2019  82300.0  511.272635\n",
      "3514     2020  82300.0  444.280732\n",
      "4030     2021  82300.0  458.907772\n",
      "4541     2022  82300.0  274.296093\n",
      "      TaxYear  SIC7_5d          FTE\n",
      "435      2014  82910.0  1568.102520\n",
      "943      2015  82910.0  1534.764324\n",
      "1454     2016  82910.0  1567.716139\n",
      "1968     2017  82910.0  1546.445363\n",
      "2485     2018  82910.0  1507.367060\n",
      "3001     2019  82910.0  1481.356350\n",
      "3515     2020  82910.0  1391.573297\n",
      "4031     2021  82910.0  1380.356649\n",
      "4542     2022  82910.0  1322.297821\n",
      "      TaxYear  SIC7_5d          FTE\n",
      "436      2014  82920.0  2139.152031\n",
      "944      2015  82920.0  2439.696586\n",
      "1455     2016  82920.0  2498.913514\n",
      "1969     2017  82920.0  2541.325827\n",
      "2486     2018  82920.0  2557.697075\n",
      "3002     2019  82920.0  2272.386588\n",
      "3516     2020  82920.0  2009.968622\n",
      "4032     2021  82920.0  2064.723347\n",
      "4543     2022  82920.0  1867.825056\n",
      "      TaxYear  SIC7_5d           FTE\n",
      "437      2014  82990.0   5829.117673\n",
      "945      2015  82990.0   5983.969839\n",
      "1456     2016  82990.0   6803.093400\n",
      "1970     2017  82990.0  10231.436833\n",
      "2487     2018  82990.0  11576.990685\n",
      "3003     2019  82990.0  12407.105728\n",
      "3517     2020  82990.0  12188.119450\n",
      "4033     2021  82990.0  12834.956848\n",
      "4544     2022  82990.0  13778.629783\n",
      "      TaxYear  SIC7_5d           FTE\n",
      "438      2014  84111.0  10425.539728\n",
      "946      2015  84111.0  10897.474654\n",
      "1457     2016  84111.0  10606.571468\n",
      "1971     2017  84111.0  10721.239068\n",
      "2488     2018  84111.0   9563.786723\n",
      "3004     2019  84111.0   9225.196206\n",
      "3518     2020  84111.0   9087.270954\n",
      "4034     2021  84111.0   8517.442242\n",
      "4545     2022  84111.0   8393.673362\n",
      "      TaxYear  SIC7_5d           FTE\n",
      "439      2014  84112.0  74587.592321\n",
      "947      2015  84112.0  74656.576375\n",
      "1458     2016  84112.0  73993.500076\n",
      "1972     2017  84112.0  74594.265546\n",
      "2489     2018  84112.0  74778.714567\n",
      "3005     2019  84112.0  75509.585444\n",
      "3519     2020  84112.0  77048.541653\n",
      "4035     2021  84112.0  77714.568167\n",
      "4546     2022  84112.0  79008.095132\n",
      "      TaxYear  SIC7_5d           FTE\n",
      "440      2014  84113.0  32461.666122\n",
      "948      2015  84113.0  32388.478964\n",
      "1459     2016  84113.0  32374.712765\n",
      "1973     2017  84113.0  34127.181604\n",
      "2490     2018  84113.0  34136.508579\n",
      "3006     2019  84113.0  34809.898525\n",
      "3520     2020  84113.0  37629.633880\n",
      "4036     2021  84113.0  37595.920548\n",
      "4547     2022  84113.0  39345.394521\n",
      "      TaxYear  SIC7_5d          FTE\n",
      "441      2014  84121.0   888.393316\n",
      "949      2015  84121.0   938.662884\n",
      "1460     2016  84121.0  1600.272095\n",
      "1974     2017  84121.0   773.566150\n",
      "2491     2018  84121.0  1959.281694\n",
      "3007     2019  84121.0  1715.271250\n",
      "3521     2020  84121.0  1375.804633\n",
      "4037     2021  84121.0  1463.157760\n",
      "4548     2022  84121.0  1429.208672\n",
      "      TaxYear  SIC7_5d         FTE\n",
      "442      2014  84122.0    0.000000\n",
      "950      2015  84122.0  207.934805\n",
      "1461     2016  84122.0  341.336066\n",
      "1975     2017  84122.0  788.104110\n",
      "2492     2018  84122.0  151.898630\n",
      "3008     2019  84122.0  112.843836\n",
      "3522     2020  84122.0   11.734973\n",
      "4038     2021  84122.0   49.709589\n",
      "4549     2022  84122.0   69.356164\n",
      "      TaxYear  SIC7_5d         FTE\n",
      "443      2014  84123.0  606.210959\n",
      "951      2015  84123.0   55.353425\n",
      "1462     2016  84123.0  413.580816\n",
      "1976     2017  84123.0   10.380822\n",
      "2493     2018  84123.0   95.302156\n",
      "3009     2019  84123.0   14.460274\n",
      "3523     2020  84123.0    0.000000\n",
      "4039     2021  84123.0  149.306983\n",
      "4550     2022  84123.0  214.128901\n",
      "      TaxYear  SIC7_5d         FTE\n",
      "444      2014  84131.0  218.290411\n",
      "952      2015  84131.0  219.284932\n",
      "1463     2016  84131.0  255.382514\n",
      "1977     2017  84131.0  306.986301\n",
      "2494     2018  84131.0  417.372603\n",
      "3010     2019  84131.0  440.189855\n",
      "3524     2020  84131.0  331.599942\n",
      "4040     2021  84131.0  896.419178\n",
      "4551     2022  84131.0  961.668493\n",
      "      TaxYear  SIC7_5d         FTE\n",
      "445      2014  84133.0  192.608219\n",
      "953      2015  84133.0  174.197260\n",
      "1465     2016  84133.0  176.606557\n",
      "1979     2017  84133.0  191.580822\n",
      "2496     2018  84133.0  199.854795\n",
      "3012     2019  84133.0  197.731507\n",
      "3526     2020  84133.0  195.734973\n",
      "4042     2021  84133.0  185.605479\n",
      "4553     2022  84133.0  180.838356\n",
      "      TaxYear  SIC7_5d         FTE\n",
      "446      2014  84210.0   85.650399\n",
      "954      2015  84210.0  100.355252\n",
      "1466     2016  84210.0   79.393217\n",
      "1980     2017  84210.0  114.385799\n",
      "2497     2018  84210.0  136.955662\n",
      "3013     2019  84210.0  127.722786\n",
      "3527     2020  84210.0   37.333333\n",
      "4043     2021  84210.0   12.087671\n",
      "4554     2022  84210.0   13.504110\n",
      "      TaxYear  SIC7_5d        FTE\n",
      "447      2014  84220.0  11.208242\n",
      "955      2015  84220.0   0.000000\n",
      "1467     2016  84220.0  26.929253\n",
      "1981     2017  84220.0   0.000000\n",
      "2498     2018  84220.0  10.288427\n",
      "3014     2019  84220.0   0.000000\n",
      "3528     2020  84220.0   0.000000\n",
      "4044     2021  84220.0  12.057748\n",
      "4555     2022  84220.0   0.000000\n",
      "      TaxYear  SIC7_5d           FTE\n",
      "448      2014  84231.0  16718.603048\n",
      "956      2015  84231.0  16350.847639\n",
      "1468     2016  84231.0  16449.249724\n",
      "1982     2017  84231.0  17028.897443\n",
      "2499     2018  84231.0  17135.798029\n",
      "3015     2019  84231.0  16896.528727\n",
      "3529     2020  84231.0  17287.477171\n",
      "4045     2021  84231.0  16839.883286\n",
      "4556     2022  84231.0  16242.255698\n",
      "      TaxYear  SIC7_5d        FTE\n",
      "449      2014  84233.0  18.452055\n",
      "958      2015  84233.0   0.000000\n",
      "1469     2016  84233.0   0.000000\n",
      "1984     2017  84233.0   0.000000\n",
      "2500     2018  84233.0   0.000000\n",
      "3016     2019  84233.0  12.079452\n",
      "3530     2020  84233.0  16.560109\n",
      "4047     2021  84233.0  14.556164\n",
      "4557     2022  84233.0  29.786301\n",
      "      TaxYear  SIC7_5d          FTE\n",
      "450      2014  84300.0   677.854166\n",
      "959      2015  84300.0   705.804414\n",
      "1470     2016  84300.0   618.728474\n",
      "1985     2017  84300.0   677.710992\n",
      "2501     2018  84300.0   655.667257\n",
      "3017     2019  84300.0   674.588195\n",
      "3531     2020  84300.0  1140.226867\n",
      "4048     2021  84300.0   967.684998\n",
      "4558     2022  84300.0   917.012588\n",
      "      TaxYear  SIC7_5d          FTE\n",
      "451      2014  85101.0  3417.430354\n",
      "960      2015  85101.0  4114.379191\n",
      "1471     2016  85101.0  4453.410899\n",
      "1986     2017  85101.0  4415.174667\n",
      "2502     2018  85101.0  4888.724525\n",
      "3018     2019  85101.0  4980.648386\n",
      "3532     2020  85101.0  5217.196507\n",
      "4049     2021  85101.0  5056.207180\n",
      "4559     2022  85101.0  4898.620540\n",
      "      TaxYear  SIC7_5d          FTE\n",
      "452      2014  85102.0  5891.200742\n",
      "961      2015  85102.0  5911.481633\n",
      "1472     2016  85102.0  6398.013313\n",
      "1987     2017  85102.0  7082.804122\n",
      "2503     2018  85102.0  7435.610821\n",
      "3019     2019  85102.0  8044.823277\n",
      "3533     2020  85102.0  8554.857506\n",
      "4050     2021  85102.0  8900.341080\n",
      "4560     2022  85102.0  9949.158941\n",
      "      TaxYear  SIC7_5d          FTE\n",
      "453      2014  85210.0  4584.714327\n",
      "962      2015  85210.0  4817.659110\n",
      "1473     2016  85210.0  4994.494705\n",
      "1988     2017  85210.0  5244.743501\n",
      "2504     2018  85210.0  5528.217659\n",
      "3020     2019  85210.0  5788.785232\n",
      "3534     2020  85210.0  6084.277820\n",
      "4051     2021  85210.0  5848.297549\n",
      "4561     2022  85210.0  6357.225456\n",
      "      TaxYear  SIC7_5d          FTE\n",
      "454      2014  85220.0   833.525105\n",
      "963      2015  85220.0  1013.314036\n",
      "1474     2016  85220.0  1124.326295\n",
      "1989     2017  85220.0  1044.156167\n",
      "2505     2018  85220.0  1184.192874\n",
      "3021     2019  85220.0  1496.218668\n",
      "3535     2020  85220.0  1912.087826\n",
      "4052     2021  85220.0  1365.629732\n",
      "4562     2022  85220.0  2080.482534\n",
      "      TaxYear  SIC7_5d           FTE\n",
      "455      2014  85300.0  20235.623296\n",
      "964      2015  85300.0  21100.912681\n",
      "1475     2016  85300.0  21386.221151\n",
      "1990     2017  85300.0  22550.685485\n",
      "2506     2018  85300.0  24786.344110\n",
      "3022     2019  85300.0  24698.586030\n",
      "3536     2020  85300.0  25190.274980\n",
      "4053     2021  85300.0  23363.584782\n",
      "4563     2022  85300.0  24923.147240\n",
      "      TaxYear  SIC7_5d          FTE\n",
      "456      2014  85410.0   591.302598\n",
      "965      2015  85410.0   861.251722\n",
      "1476     2016  85410.0   734.851850\n",
      "1991     2017  85410.0   952.140496\n",
      "2507     2018  85410.0   946.823904\n",
      "3023     2019  85410.0   982.539441\n",
      "3537     2020  85410.0  1113.527020\n",
      "4054     2021  85410.0   911.408407\n",
      "4564     2022  85410.0   966.253629\n",
      "      TaxYear  SIC7_5d         FTE\n",
      "457      2014  85420.0  364.096704\n",
      "966      2015  85420.0  415.928265\n",
      "1477     2016  85420.0  397.458325\n",
      "1992     2017  85420.0  315.921448\n",
      "2508     2018  85420.0  368.462008\n",
      "3024     2019  85420.0  331.038356\n",
      "3538     2020  85420.0  436.463412\n",
      "4055     2021  85420.0  387.188482\n",
      "4565     2022  85420.0  283.676300\n",
      "      TaxYear  SIC7_5d          FTE\n",
      "458      2014  85490.0  4039.326609\n",
      "967      2015  85490.0  4177.030439\n",
      "1478     2016  85490.0  4531.659199\n",
      "1993     2017  85490.0  5630.291770\n",
      "2509     2018  85490.0  5122.867477\n",
      "3025     2019  85490.0  5038.598100\n",
      "3539     2020  85490.0  6142.965755\n",
      "4056     2021  85490.0  5159.117970\n",
      "4566     2022  85490.0  6466.047859\n",
      "      TaxYear  SIC7_5d          FTE\n",
      "459      2014  85500.0  3299.432035\n",
      "968      2015  85500.0  3780.913559\n",
      "1479     2016  85500.0  3948.975072\n",
      "1994     2017  85500.0  5003.092308\n",
      "2510     2018  85500.0  5404.784118\n",
      "3026     2019  85500.0  5753.440021\n",
      "3540     2020  85500.0  6356.735706\n",
      "4057     2021  85500.0  5871.491371\n",
      "4567     2022  85500.0  5849.682482\n",
      "      TaxYear  SIC7_5d           FTE\n",
      "460      2014  86100.0  13959.135738\n",
      "969      2015  86100.0  14949.030754\n",
      "1480     2016  86100.0  15342.837274\n",
      "1995     2017  86100.0  16355.906369\n",
      "2511     2018  86100.0  17049.651223\n",
      "3027     2019  86100.0  17505.985237\n",
      "3541     2020  86100.0  18064.592684\n",
      "4058     2021  86100.0  17770.915405\n",
      "4568     2022  86100.0  18004.889135\n",
      "      TaxYear  SIC7_5d          FTE\n",
      "461      2014  86201.0  5856.666122\n",
      "970      2015  86201.0  6558.648176\n",
      "1481     2016  86201.0  6704.175126\n",
      "1996     2017  86201.0  7034.898007\n",
      "2512     2018  86201.0  7228.619568\n",
      "3028     2019  86201.0  7422.025394\n",
      "3542     2020  86201.0  7701.841168\n",
      "4059     2021  86201.0  7850.630705\n",
      "4569     2022  86201.0  8311.577216\n",
      "      TaxYear  SIC7_5d          FTE\n",
      "462      2014  86202.0  1178.767780\n",
      "971      2015  86202.0  1294.952606\n",
      "1482     2016  86202.0  1280.989870\n",
      "1997     2017  86202.0  1301.628971\n",
      "2513     2018  86202.0  1378.695163\n",
      "3029     2019  86202.0  1360.576654\n",
      "3543     2020  86202.0  1421.869379\n",
      "4060     2021  86202.0  1434.353316\n",
      "4570     2022  86202.0  1452.623693\n",
      "      TaxYear  SIC7_5d          FTE\n",
      "463      2014  86209.0  3112.090017\n",
      "972      2015  86209.0  3893.482097\n",
      "1483     2016  86209.0  4415.137469\n",
      "1998     2017  86209.0  4265.314743\n",
      "2514     2018  86209.0  5091.898660\n",
      "3030     2019  86209.0  5128.013699\n",
      "3544     2020  86209.0  6298.583935\n",
      "4061     2021  86209.0  6518.718326\n",
      "4571     2022  86209.0  6329.866202\n",
      "      TaxYear  SIC7_5d           FTE\n",
      "464      2014  86900.0   8014.924910\n",
      "973      2015  86900.0   8753.387291\n",
      "1484     2016  86900.0   8863.988628\n",
      "1999     2017  86900.0   9393.838835\n",
      "2515     2018  86900.0   9460.865348\n",
      "3031     2019  86900.0  11186.830196\n",
      "3545     2020  86900.0  11698.038668\n",
      "4062     2021  86900.0  13003.247064\n",
      "4572     2022  86900.0  13410.070530\n",
      "      TaxYear  SIC7_5d          FTE\n",
      "465      2014  87100.0  2409.761683\n",
      "974      2015  87100.0  2320.440696\n",
      "1485     2016  87100.0  2575.661129\n",
      "2000     2017  87100.0  2785.803967\n",
      "2516     2018  87100.0  3337.831761\n",
      "3032     2019  87100.0  3468.014238\n",
      "3546     2020  87100.0  3357.032825\n",
      "4063     2021  87100.0  3276.398215\n",
      "4573     2022  87100.0  3041.485019\n",
      "      TaxYear  SIC7_5d         FTE\n",
      "466      2014  87200.0  905.467695\n",
      "975      2015  87200.0  869.748427\n",
      "1486     2016  87200.0  926.290182\n",
      "2001     2017  87200.0  897.234543\n",
      "2517     2018  87200.0  865.775057\n",
      "3033     2019  87200.0  904.366524\n",
      "3547     2020  87200.0  823.751625\n",
      "4064     2021  87200.0  779.722628\n",
      "4574     2022  87200.0  829.273540\n",
      "      TaxYear  SIC7_5d          FTE\n",
      "467      2014  87300.0  3057.970379\n",
      "976      2015  87300.0  3498.610834\n",
      "1487     2016  87300.0  3475.066239\n",
      "2002     2017  87300.0  3658.869239\n",
      "2518     2018  87300.0  3824.092578\n",
      "3034     2019  87300.0  3607.968160\n",
      "3548     2020  87300.0  3818.215833\n",
      "4065     2021  87300.0  3599.451782\n",
      "4575     2022  87300.0  3389.560774\n",
      "      TaxYear  SIC7_5d          FTE\n",
      "468      2014  87900.0  1674.432746\n",
      "977      2015  87900.0  1624.480159\n",
      "1488     2016  87900.0  1312.926996\n",
      "2003     2017  87900.0  1363.688218\n",
      "2519     2018  87900.0  1602.240090\n",
      "3035     2019  87900.0  1622.673428\n",
      "3549     2020  87900.0  1570.133089\n",
      "4066     2021  87900.0  1591.589981\n",
      "4576     2022  87900.0  1803.754258\n",
      "      TaxYear  SIC7_5d          FTE\n",
      "469      2014  88100.0  1159.456016\n",
      "978      2015  88100.0   754.936123\n",
      "1489     2016  88100.0  1039.520113\n",
      "2004     2017  88100.0  1186.180179\n",
      "2520     2018  88100.0  1142.358668\n",
      "3036     2019  88100.0  1120.249292\n",
      "3550     2020  88100.0  1289.116746\n",
      "4067     2021  88100.0  1262.638094\n",
      "4577     2022  88100.0  1201.745522\n",
      "      TaxYear  SIC7_5d          FTE\n",
      "470      2014  88900.0  4123.369115\n",
      "979      2015  88900.0  4999.858676\n",
      "1490     2016  88900.0  4863.588410\n",
      "2005     2017  88900.0  4416.852496\n",
      "2521     2018  88900.0  4722.074738\n",
      "3037     2019  88900.0  4964.976635\n",
      "3551     2020  88900.0  4822.275569\n",
      "4068     2021  88900.0  4255.586659\n",
      "4578     2022  88900.0  4870.327130\n",
      "      TaxYear  SIC7_5d          FTE\n",
      "471      2014  90000.0  2301.938618\n",
      "980      2015  90000.0  2704.619054\n",
      "1491     2016  90000.0  2678.712011\n",
      "2006     2017  90000.0  3024.030320\n",
      "2522     2018  90000.0  2879.429462\n",
      "3038     2019  90000.0  2789.613032\n",
      "3552     2020  90000.0  5003.067790\n",
      "4069     2021  90000.0  3177.163725\n",
      "4579     2022  90000.0  3067.918990\n",
      "      TaxYear  SIC7_5d         FTE\n",
      "472      2014  91010.0  126.679084\n",
      "981      2015  91010.0  162.128399\n",
      "1492     2016  91010.0  124.704280\n",
      "2007     2017  91010.0  168.139726\n",
      "2523     2018  91010.0   73.409279\n",
      "3039     2019  91010.0   88.649449\n",
      "3553     2020  91010.0  111.669450\n",
      "4070     2021  91010.0  109.049449\n",
      "4580     2022  91010.0   75.309589\n",
      "      TaxYear  SIC7_5d         FTE\n",
      "473      2014  91020.0  614.208219\n",
      "982      2015  91020.0  626.356970\n",
      "1493     2016  91020.0  597.815719\n",
      "2008     2017  91020.0  588.811238\n",
      "2524     2018  91020.0  654.572603\n",
      "3040     2019  91020.0  684.531507\n",
      "3554     2020  91020.0  709.670980\n",
      "4071     2021  91020.0  695.887671\n",
      "4581     2022  91020.0  639.810765\n",
      "      TaxYear  SIC7_5d          FTE\n",
      "474      2014  91030.0   667.568940\n",
      "983      2015  91030.0  2183.852516\n",
      "1494     2016  91030.0  2174.874635\n",
      "2009     2017  91030.0  2074.083731\n",
      "2525     2018  91030.0  1966.896975\n",
      "3041     2019  91030.0  1008.471901\n",
      "3555     2020  91030.0  1279.066691\n",
      "4072     2021  91030.0  1445.098957\n",
      "4582     2022  91030.0  1502.414632\n",
      "      TaxYear  SIC7_5d          FTE\n",
      "475      2014  92000.0  1824.428306\n",
      "984      2015  92000.0  2056.527709\n",
      "1495     2016  92000.0  2709.845858\n",
      "2010     2017  92000.0  2867.906152\n",
      "2526     2018  92000.0  2668.800769\n",
      "3042     2019  92000.0  2855.995971\n",
      "3556     2020  92000.0  3229.070504\n",
      "4073     2021  92000.0  2887.077914\n",
      "4583     2022  92000.0  2488.073673\n",
      "      TaxYear  SIC7_5d          FTE\n",
      "476      2014  93110.0  1147.299643\n",
      "985      2015  93110.0  6151.259716\n",
      "1496     2016  93110.0  6361.090775\n",
      "2011     2017  93110.0  6565.716946\n",
      "2527     2018  93110.0  6812.506030\n",
      "3043     2019  93110.0  6728.122108\n",
      "3557     2020  93110.0  6410.875173\n",
      "4074     2021  93110.0  5615.763126\n",
      "4584     2022  93110.0  5420.228209\n",
      "      TaxYear  SIC7_5d          FTE\n",
      "477      2014  93120.0  1738.446615\n",
      "986      2015  93120.0  2091.292119\n",
      "1497     2016  93120.0  2026.139178\n",
      "2012     2017  93120.0  2074.534014\n",
      "2528     2018  93120.0  2247.269485\n",
      "3044     2019  93120.0  2195.361235\n",
      "3558     2020  93120.0  3145.677698\n",
      "4075     2021  93120.0  2690.544700\n",
      "4585     2022  93120.0  2667.617348\n",
      "      TaxYear  SIC7_5d          FTE\n",
      "478      2014  93190.0  1030.663376\n",
      "987      2015  93190.0  1022.386302\n",
      "1498     2016  93190.0  1272.613815\n",
      "2013     2017  93190.0  1881.724288\n",
      "2529     2018  93190.0  1856.315967\n",
      "3045     2019  93190.0  1714.163329\n",
      "3559     2020  93190.0  1898.366824\n",
      "4076     2021  93190.0  1263.359762\n",
      "4586     2022  93190.0  1564.627969\n",
      "      TaxYear  SIC7_5d         FTE\n",
      "479      2014  93210.0  181.438658\n",
      "988      2015  93210.0  407.189570\n",
      "1499     2016  93210.0  375.093266\n",
      "2014     2017  93210.0  454.190096\n",
      "2530     2018  93210.0  449.769694\n",
      "3046     2019  93210.0  218.613544\n",
      "3560     2020  93210.0  127.760946\n",
      "4077     2021  93210.0  228.640441\n",
      "4587     2022  93210.0  310.405123\n",
      "      TaxYear  SIC7_5d          FTE\n",
      "480      2014  93290.0   844.147644\n",
      "989      2015  93290.0   890.972194\n",
      "1500     2016  93290.0  1066.490679\n",
      "2015     2017  93290.0  1127.005214\n",
      "2531     2018  93290.0  1152.765762\n",
      "3047     2019  93290.0  1206.772264\n",
      "3561     2020  93290.0  1261.459392\n",
      "4078     2021  93290.0  1033.215317\n",
      "4588     2022  93290.0  1024.213805\n",
      "      TaxYear  SIC7_5d          FTE\n",
      "481      2014  94110.0  2298.787848\n",
      "990      2015  94110.0  3583.913540\n",
      "1501     2016  94110.0  3006.817635\n",
      "2016     2017  94110.0  1937.518574\n",
      "2532     2018  94110.0  2312.470495\n",
      "3048     2019  94110.0  2935.912123\n",
      "3562     2020  94110.0  2291.566656\n",
      "4079     2021  94110.0  1740.190978\n",
      "4589     2022  94110.0  1922.360273\n",
      "      TaxYear  SIC7_5d          FTE\n",
      "482      2014  94120.0   350.798358\n",
      "991      2015  94120.0   325.728901\n",
      "1502     2016  94120.0   439.329720\n",
      "2017     2017  94120.0   448.834519\n",
      "2533     2018  94120.0   514.706063\n",
      "3049     2019  94120.0   546.369676\n",
      "3563     2020  94120.0   880.405532\n",
      "4080     2021  94120.0  1399.987895\n",
      "4590     2022  94120.0  1478.183526\n",
      "      TaxYear  SIC7_5d         FTE\n",
      "483      2014  94200.0  464.614929\n",
      "992      2015  94200.0  601.369997\n",
      "1503     2016  94200.0  517.116039\n",
      "2018     2017  94200.0  578.317282\n",
      "2534     2018  94200.0  578.589274\n",
      "3050     2019  94200.0  598.116101\n",
      "3564     2020  94200.0  686.632612\n",
      "4081     2021  94200.0  523.198039\n",
      "4591     2022  94200.0  610.145480\n",
      "      TaxYear  SIC7_5d          FTE\n",
      "484      2014  94910.0  4123.004941\n",
      "993      2015  94910.0  4660.939651\n",
      "1504     2016  94910.0  4626.163217\n",
      "2019     2017  94910.0  4657.524449\n",
      "2535     2018  94910.0  4863.779135\n",
      "3051     2019  94910.0  4905.776642\n",
      "3565     2020  94910.0  4748.488742\n",
      "4082     2021  94910.0  4680.482023\n",
      "4592     2022  94910.0  4517.648193\n",
      "      TaxYear  SIC7_5d          FTE\n",
      "485      2014  94920.0  1251.901370\n",
      "994      2015  94920.0  1403.632877\n",
      "1505     2016  94920.0  1202.431694\n",
      "2020     2017  94920.0  1262.973725\n",
      "2536     2018  94920.0  1323.490411\n",
      "3052     2019  94920.0  1707.023514\n",
      "3566     2020  94920.0  1379.948478\n",
      "4083     2021  94920.0  1131.604305\n",
      "4593     2022  94920.0  1191.243048\n",
      "      TaxYear  SIC7_5d          FTE\n",
      "486      2014  94990.0  1753.288594\n",
      "995      2015  94990.0  1746.588417\n",
      "1506     2016  94990.0  1476.307254\n",
      "2021     2017  94990.0  1416.939071\n",
      "2537     2018  94990.0  1529.383891\n",
      "3053     2019  94990.0  1616.707128\n",
      "3567     2020  94990.0  2120.368336\n",
      "4084     2021  94990.0  1724.731623\n",
      "4594     2022  94990.0  1878.511184\n",
      "      TaxYear  SIC7_5d         FTE\n",
      "487      2014  95110.0  169.578076\n",
      "996      2015  95110.0  183.250471\n",
      "1507     2016  95110.0  170.950439\n",
      "2022     2017  95110.0  179.752290\n",
      "2538     2018  95110.0  275.166068\n",
      "3054     2019  95110.0  307.303261\n",
      "3568     2020  95110.0  367.957135\n",
      "4085     2021  95110.0  390.622329\n",
      "4595     2022  95110.0  274.847580\n",
      "      TaxYear  SIC7_5d         FTE\n",
      "488      2014  95120.0  272.719976\n",
      "997      2015  95120.0  342.598851\n",
      "1508     2016  95120.0  328.244445\n",
      "2023     2017  95120.0  332.730720\n",
      "2539     2018  95120.0  462.949966\n",
      "3055     2019  95120.0  211.456171\n",
      "3569     2020  95120.0  181.045410\n",
      "4086     2021  95120.0  166.881691\n",
      "4596     2022  95120.0  148.053545\n",
      "      TaxYear  SIC7_5d         FTE\n",
      "489      2014  95210.0  113.635616\n",
      "998      2015  95210.0  101.175342\n",
      "1509     2016  95210.0  115.773472\n",
      "2024     2017  95210.0  153.046830\n",
      "2540     2018  95210.0  107.330455\n",
      "3056     2019  95210.0   78.885230\n",
      "3570     2020  95210.0  112.900362\n",
      "4087     2021  95210.0   92.789389\n",
      "4597     2022  95210.0  125.942945\n",
      "      TaxYear  SIC7_5d         FTE\n",
      "490      2014  95220.0  151.012624\n",
      "999      2015  95220.0  155.783112\n",
      "1510     2016  95220.0  178.025041\n",
      "2025     2017  95220.0  217.069188\n",
      "2541     2018  95220.0  219.981423\n",
      "3057     2019  95220.0  238.332829\n",
      "3571     2020  95220.0  280.247654\n",
      "4088     2021  95220.0  208.485793\n",
      "4598     2022  95220.0  191.372959\n",
      "      TaxYear  SIC7_5d        FTE\n",
      "491      2014  95230.0  60.424153\n",
      "1000     2015  95230.0  80.624904\n",
      "1511     2016  95230.0  96.315034\n",
      "2026     2017  95230.0  79.832236\n",
      "2542     2018  95230.0  74.124956\n",
      "3058     2019  95230.0  75.954499\n",
      "3572     2020  95230.0  70.618989\n",
      "4089     2021  95230.0  70.742749\n",
      "4599     2022  95230.0  59.569046\n",
      "      TaxYear  SIC7_5d         FTE\n",
      "492      2014  95240.0  188.808823\n",
      "1001     2015  95240.0  109.829855\n",
      "1512     2016  95240.0  159.346054\n",
      "2027     2017  95240.0  181.715940\n",
      "2543     2018  95240.0  207.853844\n",
      "3059     2019  95240.0  183.189524\n",
      "3573     2020  95240.0  213.042076\n",
      "4090     2021  95240.0  185.706373\n",
      "4600     2022  95240.0  189.336493\n",
      "      TaxYear  SIC7_5d         FTE\n",
      "493      2014  95290.0  158.981571\n",
      "1002     2015  95290.0  100.148635\n",
      "1513     2016  95290.0  105.169290\n",
      "2028     2017  95290.0  115.978418\n",
      "2544     2018  95290.0  133.398466\n",
      "3060     2019  95290.0  151.769154\n",
      "3574     2020  95290.0  145.159834\n",
      "4091     2021  95290.0  139.196157\n",
      "4601     2022  95290.0  129.069802\n",
      "      TaxYear  SIC7_5d          FTE\n",
      "494      2014  96010.0  1554.956994\n",
      "1003     2015  96010.0  1368.142401\n",
      "1514     2016  96010.0  1721.087722\n",
      "2029     2017  96010.0  1702.647639\n",
      "2545     2018  96010.0  1672.853321\n",
      "3061     2019  96010.0  1997.553182\n",
      "3575     2020  96010.0  1894.691343\n",
      "4092     2021  96010.0  1655.030986\n",
      "4602     2022  96010.0  1429.896154\n",
      "      TaxYear  SIC7_5d          FTE\n",
      "495      2014  96021.0  1620.293287\n",
      "1004     2015  96021.0  1832.854632\n",
      "1515     2016  96021.0  1857.058050\n",
      "2030     2017  96021.0  1963.798849\n",
      "2546     2018  96021.0  1939.377810\n",
      "3062     2019  96021.0  1975.024320\n",
      "3576     2020  96021.0  2262.440675\n",
      "4093     2021  96021.0  1702.193077\n",
      "4603     2022  96021.0  1531.494826\n",
      "      TaxYear  SIC7_5d          FTE\n",
      "496      2014  96022.0  1020.422366\n",
      "1005     2015  96022.0  1178.522199\n",
      "1516     2016  96022.0  1238.882644\n",
      "2031     2017  96022.0  1535.648598\n",
      "2547     2018  96022.0  1626.355224\n",
      "3063     2019  96022.0  1716.628390\n",
      "3577     2020  96022.0  1953.263757\n",
      "4094     2021  96022.0  1957.890856\n",
      "4604     2022  96022.0  1673.506719\n",
      "      TaxYear  SIC7_5d         FTE\n",
      "497      2014  96030.0  573.732129\n",
      "1006     2015  96030.0  683.552579\n",
      "1517     2016  96030.0  500.872867\n",
      "2032     2017  96030.0  836.004994\n",
      "2548     2018  96030.0  628.795865\n",
      "3064     2019  96030.0  489.380767\n",
      "3578     2020  96030.0  460.513889\n",
      "4095     2021  96030.0  431.844448\n",
      "4605     2022  96030.0  384.478589\n",
      "      TaxYear  SIC7_5d           FTE\n",
      "498      2014  96090.0  21439.403943\n",
      "1007     2015  96090.0  26390.992354\n",
      "1518     2016  96090.0  27187.766751\n",
      "2033     2017  96090.0  25912.199674\n",
      "2549     2018  96090.0  26613.390517\n",
      "3065     2019  96090.0  27512.088845\n",
      "3579     2020  96090.0  28444.027439\n",
      "4096     2021  96090.0  29548.068786\n",
      "4606     2022  96090.0  31337.060533\n",
      "      TaxYear  SIC7_5d         FTE\n",
      "499      2014  97000.0  500.657663\n",
      "1008     2015  97000.0  351.106537\n",
      "1519     2016  97000.0  409.391628\n",
      "2034     2017  97000.0  398.798201\n",
      "2550     2018  97000.0  434.696869\n",
      "3066     2019  97000.0  655.161352\n",
      "3580     2020  97000.0  698.800236\n",
      "4097     2021  97000.0  618.221290\n",
      "4607     2022  97000.0  611.555650\n",
      "      TaxYear  SIC7_5d        FTE\n",
      "500      2014  98100.0  15.359176\n",
      "1009     2015  98100.0  12.899205\n",
      "1520     2016  98100.0   0.000000\n",
      "2035     2017  98100.0  10.761644\n",
      "2551     2018  98100.0  16.356164\n",
      "3067     2019  98100.0  21.619178\n",
      "3581     2020  98100.0  16.151860\n",
      "4098     2021  98100.0  27.303373\n",
      "4608     2022  98100.0  63.375432\n",
      "      TaxYear  SIC7_5d         FTE\n",
      "501      2014  98200.0  313.460714\n",
      "1010     2015  98200.0  209.991587\n",
      "1521     2016  98200.0  177.752851\n",
      "2036     2017  98200.0  123.892620\n",
      "2552     2018  98200.0  144.582434\n",
      "3068     2019  98200.0  179.309861\n",
      "3582     2020  98200.0  176.106557\n",
      "4099     2021  98200.0  310.543038\n",
      "4609     2022  98200.0  353.258212\n",
      "      TaxYear  SIC7_5d          FTE\n",
      "502      2014  99011.0   398.999895\n",
      "1011     2015  99011.0  1081.693179\n",
      "1522     2016  99011.0  1040.642769\n",
      "2037     2017  99011.0  1557.578700\n",
      "2553     2018  99011.0  1751.971459\n",
      "3069     2019  99011.0  3285.200979\n",
      "3583     2020  99011.0  4150.972407\n",
      "4100     2021  99011.0  2769.785443\n",
      "4610     2022  99011.0  1490.966051\n",
      "      TaxYear  SIC7_5d        FTE\n",
      "503      2014  99012.0  23.509589\n",
      "1012     2015  99012.0  22.136986\n",
      "1523     2016  99012.0  25.226776\n",
      "2038     2017  99012.0  26.750685\n",
      "2554     2018  99012.0  26.145205\n",
      "3070     2019  99012.0  27.175342\n",
      "3584     2020  99012.0  16.081967\n",
      "4101     2021  99012.0  14.419580\n",
      "4611     2022  99012.0  14.290601\n",
      "      TaxYear  SIC7_5d         FTE\n",
      "504      2014  99013.0  456.548166\n",
      "1013     2015  99013.0  347.226212\n",
      "1524     2016  99013.0  463.809041\n",
      "2039     2017  99013.0  419.092036\n",
      "2555     2018  99013.0  384.724971\n",
      "3071     2019  99013.0  431.072391\n",
      "3585     2020  99013.0  486.051710\n",
      "4102     2021  99013.0  571.795975\n",
      "4612     2022  99013.0  453.912855\n",
      "      TaxYear  SIC7_5d          FTE\n",
      "505      2014  99014.0  4710.330204\n",
      "1014     2015  99014.0  3808.466864\n",
      "1525     2016  99014.0  2618.220708\n",
      "2040     2017  99014.0  3782.177764\n",
      "2556     2018  99014.0  3580.469752\n",
      "3072     2019  99014.0  3514.898630\n",
      "3586     2020  99014.0  2848.896455\n",
      "4103     2021  99014.0  2204.504986\n",
      "4613     2022  99014.0  1611.857789\n",
      "      TaxYear  SIC7_5d  FTE\n",
      "525      2015   1430.0  0.0\n",
      "1034     2016   1430.0  0.0\n",
      "1545     2017   1430.0  0.0\n",
      "2060     2018   1430.0  0.0\n",
      "2576     2019   1430.0  0.0\n",
      "3092     2020   1430.0  0.0\n",
      "3606     2021   1430.0  0.0\n",
      "4123     2022   1430.0  0.0\n",
      "      TaxYear  SIC7_5d        FTE\n",
      "543      2015   5100.0   0.000000\n",
      "1053     2016   5100.0  23.704918\n",
      "1564     2017   5100.0   0.000000\n",
      "2079     2018   5100.0   0.000000\n",
      "2595     2019   5100.0  38.471233\n",
      "3110     2020   5100.0   0.000000\n",
      "3625     2021   5100.0  22.684932\n",
      "4141     2022   5100.0  21.774502\n",
      "     TaxYear  SIC7_5d  FTE\n",
      "547     2015   7210.0  0.0\n",
      "      TaxYear  SIC7_5d  FTE\n",
      "589      2015  11032.0  0.0\n",
      "1099     2016  11032.0  0.0\n",
      "1612     2017  11032.0  0.0\n",
      "2128     2018  11032.0  0.0\n",
      "2645     2019  11032.0  0.0\n",
      "3160     2020  11032.0  0.0\n",
      "3674     2021  11032.0  0.0\n",
      "      TaxYear  SIC7_5d  FTE\n",
      "622      2015  19100.0  0.0\n",
      "1132     2016  19100.0  0.0\n",
      "1646     2017  19100.0  0.0\n",
      "2162     2018  19100.0  0.0\n",
      "2679     2019  19100.0  0.0\n",
      "3192     2020  19100.0  0.0\n",
      "3708     2021  19100.0  0.0\n",
      "4222     2022  19100.0  0.0\n",
      "      TaxYear  SIC7_5d   FTE\n",
      "919      2015  77302.0   0.0\n",
      "1430     2016  77302.0   0.0\n",
      "1944     2017  77302.0   0.0\n",
      "2461     2018  77302.0   0.0\n",
      "2977     2019  77302.0   0.0\n",
      "3491     2020  77302.0   0.0\n",
      "4007     2021  77302.0  20.0\n",
      "4518     2022  77302.0   0.0\n",
      "      TaxYear  SIC7_5d  FTE\n",
      "957      2015  84232.0  0.0\n",
      "1983     2017  84232.0  0.0\n",
      "4046     2021  84232.0  0.0\n",
      "      TaxYear  SIC7_5d  FTE\n",
      "1056     2016   7292.0  0.0\n",
      "1568     2017   7292.0  0.0\n",
      "2601     2019   7292.0  0.0\n",
      "3116     2020   7292.0  0.0\n",
      "3631     2021   7292.0  0.0\n",
      "4147     2022   7292.0  0.0\n",
      "      TaxYear  SIC7_5d        FTE\n",
      "1200     2016  28180.0  12.745902\n",
      "1714     2017  28180.0  12.419178\n",
      "2230     2018  28180.0   0.000000\n",
      "2747     2019  28180.0   0.000000\n",
      "3260     2020  28180.0   0.000000\n",
      "3776     2021  28180.0   0.000000\n",
      "4289     2022  28180.0   0.000000\n",
      "      TaxYear  SIC7_5d        FTE\n",
      "1464     2016  84132.0  63.571038\n",
      "1978     2017  84132.0  66.378082\n",
      "2495     2018  84132.0  87.265753\n",
      "3011     2019  84132.0  78.046575\n",
      "3525     2020  84132.0  64.224044\n",
      "4041     2021  84132.0  68.214491\n",
      "4552     2022  84132.0  91.393284\n",
      "      TaxYear  SIC7_5d        FTE\n",
      "1569     2017   7293.0   0.000000\n",
      "2085     2018   7293.0  17.901370\n",
      "2602     2019   7293.0  16.676712\n",
      "      TaxYear  SIC7_5d        FTE\n",
      "1613     2017  11033.0   0.000000\n",
      "2129     2018  11033.0  22.493151\n",
      "2646     2019  11033.0  20.643836\n",
      "3675     2021  11033.0  18.389041\n",
      "4190     2022  11033.0  25.150685\n",
      "      TaxYear  SIC7_5d  FTE\n",
      "2080     2018   5200.0  0.0\n",
      "2596     2019   5200.0  0.0\n",
      "3111     2020   5200.0  0.0\n",
      "3626     2021   5200.0  0.0\n",
      "4142     2022   5200.0  0.0\n",
      "      TaxYear  SIC7_5d  FTE\n",
      "2084     2018   7291.0  0.0\n",
      "2600     2019   7291.0  0.0\n",
      "3115     2020   7291.0  0.0\n",
      "3630     2021   7291.0  0.0\n",
      "4146     2022   7291.0  0.0\n"
     ]
    }
   ],
   "source": [
    "sector = pd.read_csv('cptData/Municipal_FTE_Industry5d.csv')\n",
    "sector.FTE = sector.FTE.str.replace('<10','0').astype('float')\n",
    "for sic in sector.SIC7_5d.unique():\n",
    "    df = sector.loc[sector.SIC7_5d == sic,[\"TaxYear\",'SIC7_5d','FTE']].sort_values('TaxYear')\n",
    "    print(df)"
   ]
  },
  {
   "cell_type": "code",
   "execution_count": null,
   "metadata": {},
   "outputs": [],
   "source": [
    "\n",
    "gender = \"F\"\n",
    "youth = True\n",
    "for gender in ['F','M','Unknown']:\n",
    "    for youth in [True,False]:\n",
    "        selection = np.logical_and(youthDf.Sex == gender, youthDf.Youth == youth)\n",
    "        youthDf['FTE change y-o-y'][selection] = youthDf[selection].sort_values('month')['FTE'].diff(12)\n",
    "        youthDf['FTE % change y-o-y'][selection] = youthDf[selection].sort_values('month')['FTE'].pct_change(12)"
   ]
  },
  {
   "cell_type": "code",
   "execution_count": 277,
   "metadata": {},
   "outputs": [
    {
     "data": {
      "text/html": [
       "<div>\n",
       "<style scoped>\n",
       "    .dataframe tbody tr th:only-of-type {\n",
       "        vertical-align: middle;\n",
       "    }\n",
       "\n",
       "    .dataframe tbody tr th {\n",
       "        vertical-align: top;\n",
       "    }\n",
       "\n",
       "    .dataframe thead th {\n",
       "        text-align: right;\n",
       "    }\n",
       "</style>\n",
       "<table border=\"1\" class=\"dataframe\">\n",
       "  <thead>\n",
       "    <tr style=\"text-align: right;\">\n",
       "      <th></th>\n",
       "      <th>TaxYear</th>\n",
       "      <th>SIC7_1d</th>\n",
       "      <th>SIC7_2d</th>\n",
       "      <th>FTE</th>\n",
       "    </tr>\n",
       "  </thead>\n",
       "  <tbody>\n",
       "    <tr>\n",
       "      <th>0</th>\n",
       "      <td>2014</td>\n",
       "      <td>1.0</td>\n",
       "      <td>1.0</td>\n",
       "      <td>400560.521698</td>\n",
       "    </tr>\n",
       "    <tr>\n",
       "      <th>1</th>\n",
       "      <td>2014</td>\n",
       "      <td>1.0</td>\n",
       "      <td>2.0</td>\n",
       "      <td>37896.270394</td>\n",
       "    </tr>\n",
       "    <tr>\n",
       "      <th>2</th>\n",
       "      <td>2014</td>\n",
       "      <td>1.0</td>\n",
       "      <td>3.0</td>\n",
       "      <td>16862.547065</td>\n",
       "    </tr>\n",
       "    <tr>\n",
       "      <th>3</th>\n",
       "      <td>2014</td>\n",
       "      <td>2.0</td>\n",
       "      <td>5.0</td>\n",
       "      <td>46390.905030</td>\n",
       "    </tr>\n",
       "    <tr>\n",
       "      <th>4</th>\n",
       "      <td>2014</td>\n",
       "      <td>2.0</td>\n",
       "      <td>6.0</td>\n",
       "      <td>2687.423299</td>\n",
       "    </tr>\n",
       "    <tr>\n",
       "      <th>...</th>\n",
       "      <td>...</td>\n",
       "      <td>...</td>\n",
       "      <td>...</td>\n",
       "      <td>...</td>\n",
       "    </tr>\n",
       "    <tr>\n",
       "      <th>787</th>\n",
       "      <td>2022</td>\n",
       "      <td>19.0</td>\n",
       "      <td>95.0</td>\n",
       "      <td>7036.260451</td>\n",
       "    </tr>\n",
       "    <tr>\n",
       "      <th>788</th>\n",
       "      <td>2022</td>\n",
       "      <td>19.0</td>\n",
       "      <td>96.0</td>\n",
       "      <td>238649.916444</td>\n",
       "    </tr>\n",
       "    <tr>\n",
       "      <th>789</th>\n",
       "      <td>2022</td>\n",
       "      <td>20.0</td>\n",
       "      <td>97.0</td>\n",
       "      <td>3024.316014</td>\n",
       "    </tr>\n",
       "    <tr>\n",
       "      <th>790</th>\n",
       "      <td>2022</td>\n",
       "      <td>20.0</td>\n",
       "      <td>98.0</td>\n",
       "      <td>2100.751101</td>\n",
       "    </tr>\n",
       "    <tr>\n",
       "      <th>791</th>\n",
       "      <td>2022</td>\n",
       "      <td>21.0</td>\n",
       "      <td>99.0</td>\n",
       "      <td>11823.453067</td>\n",
       "    </tr>\n",
       "  </tbody>\n",
       "</table>\n",
       "<p>792 rows × 4 columns</p>\n",
       "</div>"
      ],
      "text/plain": [
       "     TaxYear  SIC7_1d  SIC7_2d            FTE\n",
       "0       2014      1.0      1.0  400560.521698\n",
       "1       2014      1.0      2.0   37896.270394\n",
       "2       2014      1.0      3.0   16862.547065\n",
       "3       2014      2.0      5.0   46390.905030\n",
       "4       2014      2.0      6.0    2687.423299\n",
       "..       ...      ...      ...            ...\n",
       "787     2022     19.0     95.0    7036.260451\n",
       "788     2022     19.0     96.0  238649.916444\n",
       "789     2022     20.0     97.0    3024.316014\n",
       "790     2022     20.0     98.0    2100.751101\n",
       "791     2022     21.0     99.0   11823.453067\n",
       "\n",
       "[792 rows x 4 columns]"
      ]
     },
     "execution_count": 277,
     "metadata": {},
     "output_type": "execute_result"
    }
   ],
   "source": [
    "\n",
    "def filterClean(path, var ='FTE', municipality='CPT', time='TaxYear', groupbyList=None):\n",
    "    df = pd.read_csv(path)\n",
    "    df[var] = df[var].str.replace('<10','0').astype('float')\n",
    "    if groupbyList == None:\n",
    "        groupby = [time]\n",
    "        if municipality == 'South Africa':\n",
    "            print('ALL SA')\n",
    "        else:\n",
    "            df = df[df.CAT_B == municipality]\n",
    "    else: \n",
    "        groupby = [time] + groupbyList\n",
    "\n",
    "    df = df.groupby(groupby)[var].sum().reset_index()\n",
    "    return df\n",
    "\n",
    "\n",
    "path = 'Data/Municipal_FTE_Industry5d.csv'\n",
    "\n",
    "filterClean(path,municipality='South Africa',groupbyList=[\"SIC7_1d\",\"SIC7_2d\"])"
   ]
  },
  {
   "cell_type": "code",
   "execution_count": 284,
   "metadata": {},
   "outputs": [
    {
     "name": "stdout",
     "output_type": "stream",
     "text": [
      "     CAT_B     Youth Sex       month           FTE\n",
      "1944   CPT  [15, 25)   F  2013-03-01  54330.345000\n",
      "1945   CPT  [15, 25)   F  2013-04-01  57305.659621\n",
      "1946   CPT  [15, 25)   F  2013-05-01  59318.833388\n",
      "1947   CPT  [15, 25)   F  2013-06-01  60719.090636\n",
      "1948   CPT  [15, 25)   F  2013-07-01  62019.545248\n"
     ]
    },
    {
     "name": "stderr",
     "output_type": "stream",
     "text": [
      "/var/folders/5v/zvlf303n2jvbs88z9hvt205w0000gn/T/ipykernel_1247/748901845.py:14: SettingWithCopyWarning:\n",
      "\n",
      "\n",
      "A value is trying to be set on a copy of a slice from a DataFrame\n",
      "\n",
      "See the caveats in the documentation: https://pandas.pydata.org/pandas-docs/stable/user_guide/indexing.html#returning-a-view-versus-a-copy\n",
      "\n"
     ]
    },
    {
     "data": {
      "text/html": [
       "<div>\n",
       "<style scoped>\n",
       "    .dataframe tbody tr th:only-of-type {\n",
       "        vertical-align: middle;\n",
       "    }\n",
       "\n",
       "    .dataframe tbody tr th {\n",
       "        vertical-align: top;\n",
       "    }\n",
       "\n",
       "    .dataframe thead th {\n",
       "        text-align: right;\n",
       "    }\n",
       "</style>\n",
       "<table border=\"1\" class=\"dataframe\">\n",
       "  <thead>\n",
       "    <tr style=\"text-align: right;\">\n",
       "      <th></th>\n",
       "      <th>month</th>\n",
       "      <th>Youth</th>\n",
       "      <th>Sex</th>\n",
       "      <th>FTE</th>\n",
       "      <th>FTE change y-o-y</th>\n",
       "      <th>FTE % change y-o-y</th>\n",
       "      <th>Age</th>\n",
       "    </tr>\n",
       "  </thead>\n",
       "  <tbody>\n",
       "    <tr>\n",
       "      <th>0</th>\n",
       "      <td>2013-03-01</td>\n",
       "      <td>False</td>\n",
       "      <td>F</td>\n",
       "      <td>308096.610359</td>\n",
       "      <td>None</td>\n",
       "      <td>None</td>\n",
       "      <td>Over 35 Y.O.</td>\n",
       "    </tr>\n",
       "    <tr>\n",
       "      <th>1</th>\n",
       "      <td>2013-03-01</td>\n",
       "      <td>False</td>\n",
       "      <td>M</td>\n",
       "      <td>298627.957320</td>\n",
       "      <td>None</td>\n",
       "      <td>None</td>\n",
       "      <td>Over 35 Y.O.</td>\n",
       "    </tr>\n",
       "    <tr>\n",
       "      <th>2</th>\n",
       "      <td>2013-03-01</td>\n",
       "      <td>False</td>\n",
       "      <td>Unknown</td>\n",
       "      <td>11931.115633</td>\n",
       "      <td>None</td>\n",
       "      <td>None</td>\n",
       "      <td>Over 35 Y.O.</td>\n",
       "    </tr>\n",
       "    <tr>\n",
       "      <th>3</th>\n",
       "      <td>2013-03-01</td>\n",
       "      <td>True</td>\n",
       "      <td>F</td>\n",
       "      <td>259735.689921</td>\n",
       "      <td>None</td>\n",
       "      <td>None</td>\n",
       "      <td>Under 35 Y.O.</td>\n",
       "    </tr>\n",
       "    <tr>\n",
       "      <th>4</th>\n",
       "      <td>2013-03-01</td>\n",
       "      <td>True</td>\n",
       "      <td>M</td>\n",
       "      <td>233364.825910</td>\n",
       "      <td>None</td>\n",
       "      <td>None</td>\n",
       "      <td>Under 35 Y.O.</td>\n",
       "    </tr>\n",
       "    <tr>\n",
       "      <th>...</th>\n",
       "      <td>...</td>\n",
       "      <td>...</td>\n",
       "      <td>...</td>\n",
       "      <td>...</td>\n",
       "      <td>...</td>\n",
       "      <td>...</td>\n",
       "      <td>...</td>\n",
       "    </tr>\n",
       "    <tr>\n",
       "      <th>643</th>\n",
       "      <td>2022-02-01</td>\n",
       "      <td>False</td>\n",
       "      <td>M</td>\n",
       "      <td>334914.877186</td>\n",
       "      <td>None</td>\n",
       "      <td>None</td>\n",
       "      <td>Over 35 Y.O.</td>\n",
       "    </tr>\n",
       "    <tr>\n",
       "      <th>644</th>\n",
       "      <td>2022-02-01</td>\n",
       "      <td>False</td>\n",
       "      <td>Unknown</td>\n",
       "      <td>25536.275986</td>\n",
       "      <td>None</td>\n",
       "      <td>None</td>\n",
       "      <td>Over 35 Y.O.</td>\n",
       "    </tr>\n",
       "    <tr>\n",
       "      <th>645</th>\n",
       "      <td>2022-02-01</td>\n",
       "      <td>True</td>\n",
       "      <td>F</td>\n",
       "      <td>323609.077666</td>\n",
       "      <td>None</td>\n",
       "      <td>None</td>\n",
       "      <td>Under 35 Y.O.</td>\n",
       "    </tr>\n",
       "    <tr>\n",
       "      <th>646</th>\n",
       "      <td>2022-02-01</td>\n",
       "      <td>True</td>\n",
       "      <td>M</td>\n",
       "      <td>266148.456005</td>\n",
       "      <td>None</td>\n",
       "      <td>None</td>\n",
       "      <td>Under 35 Y.O.</td>\n",
       "    </tr>\n",
       "    <tr>\n",
       "      <th>647</th>\n",
       "      <td>2022-02-01</td>\n",
       "      <td>True</td>\n",
       "      <td>Unknown</td>\n",
       "      <td>24233.654928</td>\n",
       "      <td>None</td>\n",
       "      <td>None</td>\n",
       "      <td>Under 35 Y.O.</td>\n",
       "    </tr>\n",
       "  </tbody>\n",
       "</table>\n",
       "<p>648 rows × 7 columns</p>\n",
       "</div>"
      ],
      "text/plain": [
       "          month  Youth      Sex            FTE FTE change y-o-y  \\\n",
       "0    2013-03-01  False        F  308096.610359             None   \n",
       "1    2013-03-01  False        M  298627.957320             None   \n",
       "2    2013-03-01  False  Unknown   11931.115633             None   \n",
       "3    2013-03-01   True        F  259735.689921             None   \n",
       "4    2013-03-01   True        M  233364.825910             None   \n",
       "..          ...    ...      ...            ...              ...   \n",
       "643  2022-02-01  False        M  334914.877186             None   \n",
       "644  2022-02-01  False  Unknown   25536.275986             None   \n",
       "645  2022-02-01   True        F  323609.077666             None   \n",
       "646  2022-02-01   True        M  266148.456005             None   \n",
       "647  2022-02-01   True  Unknown   24233.654928             None   \n",
       "\n",
       "    FTE % change y-o-y            Age  \n",
       "0                 None   Over 35 Y.O.  \n",
       "1                 None   Over 35 Y.O.  \n",
       "2                 None   Over 35 Y.O.  \n",
       "3                 None  Under 35 Y.O.  \n",
       "4                 None  Under 35 Y.O.  \n",
       "..                 ...            ...  \n",
       "643               None   Over 35 Y.O.  \n",
       "644               None   Over 35 Y.O.  \n",
       "645               None  Under 35 Y.O.  \n",
       "646               None  Under 35 Y.O.  \n",
       "647               None  Under 35 Y.O.  \n",
       "\n",
       "[648 rows x 7 columns]"
      ]
     },
     "execution_count": 284,
     "metadata": {},
     "output_type": "execute_result"
    }
   ],
   "source": [
    "# pd.read_csv('Data/Municipal_FTE_Youth_Sex_Monthly.csv')\n",
    "\n",
    "def load_youth_data(municipality='CPT',path='Data/Municipal_FTE_Youth_Sex_Monthly.csv'):\n",
    "    youthDf = filterClean(path, var ='FTE', municipality=municipality, time='month', groupbyList=['Youth','Sex'])\n",
    "\n",
    "    # youthDf.Youth.unique()\n",
    "\n",
    "    keep = [x  in ['[15, 25)', '[15.0, 25.0)', '[25, 35)', '[25.0, 35.0)'] for x in youthDf.Youth]\n",
    "    youthDf['Youth'] = keep\n",
    "    youthDf = youthDf.groupby(['month','Youth','Sex'])['FTE'].sum().reset_index()\n",
    "    youthDf['FTE change y-o-y'] = None\n",
    "    youthDf['FTE % change y-o-y'] = None\n",
    "    youthDf['Age'] = 'Over 35 Y.O.'\n",
    "    youthDf.Age[youthDf.Youth] =  \"Under 35 Y.O.\"\n",
    "\n",
    "    return youthDf\n",
    "\n",
    "def filterClean(path, var ='FTE', municipality='CPT', time='TaxYear', groupbyList=None):\n",
    "    df = pd.read_csv(path)\n",
    "    df[var] = df[var].str.replace('<10','0').astype('float')\n",
    "\n",
    "    if municipality == 'South Africa':\n",
    "        print('ALL SA')\n",
    "    else:\n",
    "        df = df[df.CAT_B == municipality]\n",
    "\n",
    "    if groupbyList == None:\n",
    "        groupby = [time]\n",
    "\n",
    "    else: \n",
    "        groupby = [time] + groupbyList\n",
    "\n",
    "    print(df.head())\n",
    "    df = df.groupby(groupby)[var].sum().reset_index()\n",
    "    return df\n",
    "\n",
    "youthDf = load_youth_data()\n",
    "youthDf"
   ]
  },
  {
   "cell_type": "code",
   "execution_count": 296,
   "metadata": {},
   "outputs": [
    {
     "data": {
      "text/html": [
       "<div>\n",
       "<style scoped>\n",
       "    .dataframe tbody tr th:only-of-type {\n",
       "        vertical-align: middle;\n",
       "    }\n",
       "\n",
       "    .dataframe tbody tr th {\n",
       "        vertical-align: top;\n",
       "    }\n",
       "\n",
       "    .dataframe thead th {\n",
       "        text-align: right;\n",
       "    }\n",
       "</style>\n",
       "<table border=\"1\" class=\"dataframe\">\n",
       "  <thead>\n",
       "    <tr style=\"text-align: right;\">\n",
       "      <th></th>\n",
       "      <th>SIC7_1d</th>\n",
       "      <th>Sector</th>\n",
       "    </tr>\n",
       "  </thead>\n",
       "  <tbody>\n",
       "    <tr>\n",
       "      <th>0</th>\n",
       "      <td>1</td>\n",
       "      <td>Agriculture</td>\n",
       "    </tr>\n",
       "    <tr>\n",
       "      <th>1</th>\n",
       "      <td>2</td>\n",
       "      <td>Mining</td>\n",
       "    </tr>\n",
       "    <tr>\n",
       "      <th>2</th>\n",
       "      <td>3</td>\n",
       "      <td>Manufacturing</td>\n",
       "    </tr>\n",
       "    <tr>\n",
       "      <th>3</th>\n",
       "      <td>4</td>\n",
       "      <td>Electricity</td>\n",
       "    </tr>\n",
       "    <tr>\n",
       "      <th>4</th>\n",
       "      <td>5</td>\n",
       "      <td>Water supply</td>\n",
       "    </tr>\n",
       "    <tr>\n",
       "      <th>5</th>\n",
       "      <td>6</td>\n",
       "      <td>Construction</td>\n",
       "    </tr>\n",
       "    <tr>\n",
       "      <th>6</th>\n",
       "      <td>7</td>\n",
       "      <td>Retail &amp; Repairs</td>\n",
       "    </tr>\n",
       "    <tr>\n",
       "      <th>7</th>\n",
       "      <td>8</td>\n",
       "      <td>Transportation</td>\n",
       "    </tr>\n",
       "    <tr>\n",
       "      <th>8</th>\n",
       "      <td>9</td>\n",
       "      <td>Accommodation</td>\n",
       "    </tr>\n",
       "    <tr>\n",
       "      <th>9</th>\n",
       "      <td>10</td>\n",
       "      <td>IT</td>\n",
       "    </tr>\n",
       "    <tr>\n",
       "      <th>10</th>\n",
       "      <td>11</td>\n",
       "      <td>Financial</td>\n",
       "    </tr>\n",
       "    <tr>\n",
       "      <th>11</th>\n",
       "      <td>12</td>\n",
       "      <td>Real estate</td>\n",
       "    </tr>\n",
       "    <tr>\n",
       "      <th>12</th>\n",
       "      <td>13</td>\n",
       "      <td>Scientific</td>\n",
       "    </tr>\n",
       "    <tr>\n",
       "      <th>13</th>\n",
       "      <td>14</td>\n",
       "      <td>Administration</td>\n",
       "    </tr>\n",
       "    <tr>\n",
       "      <th>14</th>\n",
       "      <td>15</td>\n",
       "      <td>Public administration</td>\n",
       "    </tr>\n",
       "    <tr>\n",
       "      <th>15</th>\n",
       "      <td>16</td>\n",
       "      <td>Education</td>\n",
       "    </tr>\n",
       "    <tr>\n",
       "      <th>16</th>\n",
       "      <td>17</td>\n",
       "      <td>Health</td>\n",
       "    </tr>\n",
       "    <tr>\n",
       "      <th>17</th>\n",
       "      <td>18</td>\n",
       "      <td>Arts</td>\n",
       "    </tr>\n",
       "    <tr>\n",
       "      <th>18</th>\n",
       "      <td>19</td>\n",
       "      <td>Other services</td>\n",
       "    </tr>\n",
       "    <tr>\n",
       "      <th>19</th>\n",
       "      <td>20</td>\n",
       "      <td>Households</td>\n",
       "    </tr>\n",
       "    <tr>\n",
       "      <th>20</th>\n",
       "      <td>21</td>\n",
       "      <td>Organizations</td>\n",
       "    </tr>\n",
       "  </tbody>\n",
       "</table>\n",
       "</div>"
      ],
      "text/plain": [
       "    SIC7_1d                 Sector\n",
       "0         1            Agriculture\n",
       "1         2                 Mining\n",
       "2         3          Manufacturing\n",
       "3         4            Electricity\n",
       "4         5           Water supply\n",
       "5         6           Construction\n",
       "6         7       Retail & Repairs\n",
       "7         8         Transportation\n",
       "8         9          Accommodation\n",
       "9        10                     IT\n",
       "10       11              Financial\n",
       "11       12            Real estate\n",
       "12       13             Scientific\n",
       "13       14         Administration\n",
       "14       15  Public administration\n",
       "15       16              Education\n",
       "16       17                 Health\n",
       "17       18                   Arts\n",
       "18       19         Other services\n",
       "19       20             Households\n",
       "20       21          Organizations"
      ]
     },
     "execution_count": 296,
     "metadata": {},
     "output_type": "execute_result"
    }
   ],
   "source": [
    "key1 = pd.read_csv('keys/key1d.csv')\n",
    "key1.columns = ['SIC7_1d','Sector']\n",
    "key5 = pd.read_csv('keys/sic7_5d_codes.csv')\n",
    "key5.columns = ['SIC7_5d','Industry']\n",
    "key1\n",
    "\n"
   ]
  },
  {
   "cell_type": "code",
   "execution_count": 315,
   "metadata": {},
   "outputs": [
    {
     "name": "stderr",
     "output_type": "stream",
     "text": [
      "/var/folders/5v/zvlf303n2jvbs88z9hvt205w0000gn/T/ipykernel_1247/1688507578.py:7: FutureWarning:\n",
      "\n",
      "The default value of regex will change from True to False in a future version. In addition, single character regular expressions will *not* be treated as literal strings when regex=True.\n",
      "\n",
      "/var/folders/5v/zvlf303n2jvbs88z9hvt205w0000gn/T/ipykernel_1247/1688507578.py:7: FutureWarning:\n",
      "\n",
      "In a future version, `df.iloc[:, i] = newvals` will attempt to set the values inplace instead of always setting a new array. To retain the old behavior, use either `df[df.columns[i]] = newvals` or, if columns are non-unique, `df.isetitem(i, newvals)`\n",
      "\n",
      "/var/folders/5v/zvlf303n2jvbs88z9hvt205w0000gn/T/ipykernel_1247/1688507578.py:8: FutureWarning:\n",
      "\n",
      "The default value of regex will change from True to False in a future version. In addition, single character regular expressions will *not* be treated as literal strings when regex=True.\n",
      "\n",
      "/var/folders/5v/zvlf303n2jvbs88z9hvt205w0000gn/T/ipykernel_1247/1688507578.py:8: FutureWarning:\n",
      "\n",
      "In a future version, `df.iloc[:, i] = newvals` will attempt to set the values inplace instead of always setting a new array. To retain the old behavior, use either `df[df.columns[i]] = newvals` or, if columns are non-unique, `df.isetitem(i, newvals)`\n",
      "\n"
     ]
    },
    {
     "data": {
      "text/plain": [
       "array(['[0.0, 400.0)', '[400.0, 800.0)', '[800.0, 1600.0)',\n",
       "       '[1600.0, 3200.0)', '[3200.0, 6400.0)', '[6400.0, 12800.0)',\n",
       "       '[12800.0, 25600.0)', '[25600.0, 51200.0)', '[51200.0, 102400.0)',\n",
       "       '[102400.0, 204800.0)', '[204800.0, 409600.0)',\n",
       "       '[409600.0, 819200.0)', '[819200.0, 1638400.0)',\n",
       "       '[1638400.0, 10000000.0)', nan], dtype=object)"
      ]
     },
     "execution_count": 315,
     "metadata": {},
     "output_type": "execute_result"
    }
   ],
   "source": [
    "df = pd.read_csv('Data/Municipal_FTE_WageBand_Monthly.csv')\n",
    "# .RealWageBand.unique()\n",
    "\n",
    "def band_midpoint(df,band=\"RealWageBand\"):\n",
    "\n",
    "    dff = df[band].str.split(', ', expand=True)\n",
    "    dff.iloc[:,0] = dff.iloc[:,0].str.replace(\"[\",\"\").astype('float')\n",
    "    dff.iloc[:, 1] = dff.iloc[:, 1].str.replace(\")\", \"\").astype('float')\n",
    "    return dff.mean(axis=1)\n",
    "df['midpoint'] = band_midpoint(df,band=\"RealWageBand\")\n",
    "df.sort_values('midpoint').RealWageBand.unique()"
   ]
  },
  {
   "cell_type": "code",
   "execution_count": 308,
   "metadata": {},
   "outputs": [
    {
     "data": {
      "application/vnd.plotly.v1+json": {
       "config": {
        "plotlyServerURL": "https://plot.ly"
       },
       "data": [
        {
         "alignmentgroup": "True",
         "hovertemplate": "RealWageBand=[0.0, 400.0)<br>TaxYear=%{x}<br>FTE=%{y}<extra></extra>",
         "legendgroup": "[0.0, 400.0)",
         "marker": {
          "color": "#B0E0E6",
          "pattern": {
           "shape": ""
          }
         },
         "name": "[0.0, 400.0)",
         "offsetgroup": "[0.0, 400.0)",
         "orientation": "v",
         "showlegend": true,
         "textposition": "auto",
         "type": "bar",
         "x": [
          2014,
          2015,
          2016,
          2017,
          2018,
          2019,
          2020,
          2021,
          2022
         ],
         "xaxis": "x",
         "y": [
          6794.927658962478,
          8979.685657394119,
          10728.40131934246,
          12517.375063002133,
          12050.580601164584,
          12902.482463992123,
          12818.131853355624,
          14868.078472257479,
          10985.403034632587
         ],
         "yaxis": "y"
        },
        {
         "alignmentgroup": "True",
         "hovertemplate": "RealWageBand=[102400.0, 204800.0)<br>TaxYear=%{x}<br>FTE=%{y}<extra></extra>",
         "legendgroup": "[102400.0, 204800.0)",
         "marker": {
          "color": "#0000CD",
          "pattern": {
           "shape": ""
          }
         },
         "name": "[102400.0, 204800.0)",
         "offsetgroup": "[102400.0, 204800.0)",
         "orientation": "v",
         "showlegend": true,
         "textposition": "auto",
         "type": "bar",
         "x": [
          2014,
          2015,
          2016,
          2017,
          2018,
          2019,
          2020,
          2021,
          2022
         ],
         "xaxis": "x",
         "y": [
          13572.694443425788,
          14837.445005812622,
          16388.622269487434,
          15868.943677685704,
          16752.376179249346,
          17875.323093875057,
          20722.451130019617,
          19384.358264552477,
          20522.530497774802
         ],
         "yaxis": "y"
        },
        {
         "alignmentgroup": "True",
         "hovertemplate": "RealWageBand=[12800.0, 25600.0)<br>TaxYear=%{x}<br>FTE=%{y}<extra></extra>",
         "legendgroup": "[12800.0, 25600.0)",
         "marker": {
          "color": "#4682B4",
          "pattern": {
           "shape": ""
          }
         },
         "name": "[12800.0, 25600.0)",
         "offsetgroup": "[12800.0, 25600.0)",
         "orientation": "v",
         "showlegend": true,
         "textposition": "auto",
         "type": "bar",
         "x": [
          2014,
          2015,
          2016,
          2017,
          2018,
          2019,
          2020,
          2021,
          2022
         ],
         "xaxis": "x",
         "y": [
          223956.754947733,
          230412.64323884153,
          235858.62747326263,
          242311.82805313397,
          246637.5542788792,
          246223.7059176003,
          253836.29806132405,
          228431.48973502778,
          242995.71312729138
         ],
         "yaxis": "y"
        },
        {
         "alignmentgroup": "True",
         "hovertemplate": "RealWageBand=[1600.0, 3200.0)<br>TaxYear=%{x}<br>FTE=%{y}<extra></extra>",
         "legendgroup": "[1600.0, 3200.0)",
         "marker": {
          "color": "#1E90FF",
          "pattern": {
           "shape": ""
          }
         },
         "name": "[1600.0, 3200.0)",
         "offsetgroup": "[1600.0, 3200.0)",
         "orientation": "v",
         "showlegend": true,
         "textposition": "auto",
         "type": "bar",
         "x": [
          2014,
          2015,
          2016,
          2017,
          2018,
          2019,
          2020,
          2021,
          2022
         ],
         "xaxis": "x",
         "y": [
          91923.69675530473,
          103292.4076182302,
          100235.5083888881,
          99565.43141049547,
          97811.34760003489,
          88850.58064091843,
          76284.24793186973,
          98788.1539541439,
          74156.67055858477
         ],
         "yaxis": "y"
        },
        {
         "alignmentgroup": "True",
         "hovertemplate": "RealWageBand=[1638400.0, 10000000.0)<br>TaxYear=%{x}<br>FTE=%{y}<extra></extra>",
         "legendgroup": "[1638400.0, 10000000.0)",
         "marker": {
          "color": "#000000",
          "pattern": {
           "shape": ""
          }
         },
         "name": "[1638400.0, 10000000.0)",
         "offsetgroup": "[1638400.0, 10000000.0)",
         "orientation": "v",
         "showlegend": true,
         "textposition": "auto",
         "type": "bar",
         "x": [
          2014,
          2015,
          2016,
          2017,
          2018,
          2019,
          2020,
          2021,
          2022
         ],
         "xaxis": "x",
         "y": [
          73.21290178993593,
          64.86776666159219,
          70.9049458320692,
          51.55153187041696,
          36.50975125520167,
          30.458128164490358,
          27.769021000194225,
          26.194234332368097,
          38.96872300098454
         ],
         "yaxis": "y"
        },
        {
         "alignmentgroup": "True",
         "hovertemplate": "RealWageBand=[204800.0, 409600.0)<br>TaxYear=%{x}<br>FTE=%{y}<extra></extra>",
         "legendgroup": "[204800.0, 409600.0)",
         "marker": {
          "color": "#000080",
          "pattern": {
           "shape": ""
          }
         },
         "name": "[204800.0, 409600.0)",
         "offsetgroup": "[204800.0, 409600.0)",
         "orientation": "v",
         "showlegend": true,
         "textposition": "auto",
         "type": "bar",
         "x": [
          2014,
          2015,
          2016,
          2017,
          2018,
          2019,
          2020,
          2021,
          2022
         ],
         "xaxis": "x",
         "y": [
          2318.71413842329,
          2683.168202786075,
          2943.4015265864864,
          2925.888037506556,
          2883.7582035669843,
          3090.2614539856168,
          3660.0182548264097,
          3283.0767272509497,
          3627.3415132499613
         ],
         "yaxis": "y"
        },
        {
         "alignmentgroup": "True",
         "hovertemplate": "RealWageBand=[25600.0, 51200.0)<br>TaxYear=%{x}<br>FTE=%{y}<extra></extra>",
         "legendgroup": "[25600.0, 51200.0)",
         "marker": {
          "color": "#6A5ACD",
          "pattern": {
           "shape": ""
          }
         },
         "name": "[25600.0, 51200.0)",
         "offsetgroup": "[25600.0, 51200.0)",
         "orientation": "v",
         "showlegend": true,
         "textposition": "auto",
         "type": "bar",
         "x": [
          2014,
          2015,
          2016,
          2017,
          2018,
          2019,
          2020,
          2021,
          2022
         ],
         "xaxis": "x",
         "y": [
          169733.87049495854,
          177278.63751045932,
          186802.61614767386,
          189248.76882844427,
          195788.97886870537,
          202051.86854861432,
          213444.20702785993,
          200493.4545820669,
          210336.22272426137
         ],
         "yaxis": "y"
        },
        {
         "alignmentgroup": "True",
         "hovertemplate": "RealWageBand=[3200.0, 6400.0)<br>TaxYear=%{x}<br>FTE=%{y}<extra></extra>",
         "legendgroup": "[3200.0, 6400.0)",
         "marker": {
          "color": "#00BFFF",
          "pattern": {
           "shape": ""
          }
         },
         "name": "[3200.0, 6400.0)",
         "offsetgroup": "[3200.0, 6400.0)",
         "orientation": "v",
         "showlegend": true,
         "textposition": "auto",
         "type": "bar",
         "x": [
          2014,
          2015,
          2016,
          2017,
          2018,
          2019,
          2020,
          2021,
          2022
         ],
         "xaxis": "x",
         "y": [
          292735.64107691817,
          310274.2078859771,
          325322.7658562231,
          338030.15801291825,
          342317.0437958243,
          354032.9809403031,
          373996.0428873939,
          365771.8839613149,
          359510.9215450205
         ],
         "yaxis": "y"
        },
        {
         "alignmentgroup": "True",
         "hovertemplate": "RealWageBand=[400.0, 800.0)<br>TaxYear=%{x}<br>FTE=%{y}<extra></extra>",
         "legendgroup": "[400.0, 800.0)",
         "marker": {
          "color": "#7B68EE",
          "pattern": {
           "shape": ""
          }
         },
         "name": "[400.0, 800.0)",
         "offsetgroup": "[400.0, 800.0)",
         "orientation": "v",
         "showlegend": true,
         "textposition": "auto",
         "type": "bar",
         "x": [
          2014,
          2015,
          2016,
          2017,
          2018,
          2019,
          2020,
          2021,
          2022
         ],
         "xaxis": "x",
         "y": [
          17192.34953087706,
          18707.87975726912,
          19877.438703363703,
          19037.112941713352,
          18049.0876485767,
          17969.16831048887,
          18979.83076510483,
          24673.850982241656,
          17117.365702428277
         ],
         "yaxis": "y"
        },
        {
         "alignmentgroup": "True",
         "hovertemplate": "RealWageBand=[409600.0, 819200.0)<br>TaxYear=%{x}<br>FTE=%{y}<extra></extra>",
         "legendgroup": "[409600.0, 819200.0)",
         "marker": {
          "color": "#191970",
          "pattern": {
           "shape": ""
          }
         },
         "name": "[409600.0, 819200.0)",
         "offsetgroup": "[409600.0, 819200.0)",
         "orientation": "v",
         "showlegend": true,
         "textposition": "auto",
         "type": "bar",
         "x": [
          2014,
          2015,
          2016,
          2017,
          2018,
          2019,
          2020,
          2021,
          2022
         ],
         "xaxis": "x",
         "y": [
          565.8211166337667,
          645.6567782524639,
          748.3843674648455,
          699.9241028418006,
          646.2198426783887,
          700.6672239645618,
          827.1422291588519,
          723.432309955142,
          794.5650002619944
         ],
         "yaxis": "y"
        },
        {
         "alignmentgroup": "True",
         "hovertemplate": "RealWageBand=[51200.0, 102400.0)<br>TaxYear=%{x}<br>FTE=%{y}<extra></extra>",
         "legendgroup": "[51200.0, 102400.0)",
         "marker": {
          "color": "#00008B",
          "pattern": {
           "shape": ""
          }
         },
         "name": "[51200.0, 102400.0)",
         "offsetgroup": "[51200.0, 102400.0)",
         "orientation": "v",
         "showlegend": true,
         "textposition": "auto",
         "type": "bar",
         "x": [
          2014,
          2015,
          2016,
          2017,
          2018,
          2019,
          2020,
          2021,
          2022
         ],
         "xaxis": "x",
         "y": [
          57712.805319831175,
          60929.10013584744,
          65385.47016057573,
          66401.035260087,
          68821.86971461475,
          72085.52900643995,
          79782.35335530051,
          75040.09555114301,
          79489.35411812276
         ],
         "yaxis": "y"
        },
        {
         "alignmentgroup": "True",
         "hovertemplate": "RealWageBand=[6400.0, 12800.0)<br>TaxYear=%{x}<br>FTE=%{y}<extra></extra>",
         "legendgroup": "[6400.0, 12800.0)",
         "marker": {
          "color": "#87CEEB",
          "pattern": {
           "shape": ""
          }
         },
         "name": "[6400.0, 12800.0)",
         "offsetgroup": "[6400.0, 12800.0)",
         "orientation": "v",
         "showlegend": true,
         "textposition": "auto",
         "type": "bar",
         "x": [
          2014,
          2015,
          2016,
          2017,
          2018,
          2019,
          2020,
          2021,
          2022
         ],
         "xaxis": "x",
         "y": [
          273057.20763451833,
          284805.6577009827,
          295716.30363070447,
          311042.886714593,
          321026.18053984246,
          330743.78162432724,
          343938.0300906654,
          307138.4620258763,
          324721.3818841491
         ],
         "yaxis": "y"
        },
        {
         "alignmentgroup": "True",
         "hovertemplate": "RealWageBand=[800.0, 1600.0)<br>TaxYear=%{x}<br>FTE=%{y}<extra></extra>",
         "legendgroup": "[800.0, 1600.0)",
         "marker": {
          "color": "#4169E1",
          "pattern": {
           "shape": ""
          }
         },
         "name": "[800.0, 1600.0)",
         "offsetgroup": "[800.0, 1600.0)",
         "orientation": "v",
         "showlegend": true,
         "textposition": "auto",
         "type": "bar",
         "x": [
          2014,
          2015,
          2016,
          2017,
          2018,
          2019,
          2020,
          2021,
          2022
         ],
         "xaxis": "x",
         "y": [
          27418.606335104683,
          30224.727976589285,
          31520.830746850537,
          30031.52456231002,
          28991.282882017098,
          29989.782491809045,
          30737.248221247697,
          40281.000566306735,
          29386.23972255158
         ],
         "yaxis": "y"
        },
        {
         "alignmentgroup": "True",
         "hovertemplate": "RealWageBand=[819200.0, 1638400.0)<br>TaxYear=%{x}<br>FTE=%{y}<extra></extra>",
         "legendgroup": "[819200.0, 1638400.0)",
         "marker": {
          "color": "#4B0082",
          "pattern": {
           "shape": ""
          }
         },
         "name": "[819200.0, 1638400.0)",
         "offsetgroup": "[819200.0, 1638400.0)",
         "orientation": "v",
         "showlegend": true,
         "textposition": "auto",
         "type": "bar",
         "x": [
          2014,
          2015,
          2016,
          2017,
          2018,
          2019,
          2020,
          2021,
          2022
         ],
         "xaxis": "x",
         "y": [
          136.4051357871271,
          169.54896893668806,
          172.70467294312598,
          190.12444147456802,
          169.9427463695629,
          142.39192879287089,
          151.56412314619072,
          144.28072794683348,
          148.41483261418003
         ],
         "yaxis": "y"
        }
       ],
       "layout": {
        "barmode": "relative",
        "legend": {
         "title": {
          "text": "RealWageBand"
         },
         "tracegroupgap": 0
        },
        "margin": {
         "t": 60
        },
        "template": {
         "data": {
          "bar": [
           {
            "error_x": {
             "color": "#2a3f5f"
            },
            "error_y": {
             "color": "#2a3f5f"
            },
            "marker": {
             "line": {
              "color": "#E5ECF6",
              "width": 0.5
             },
             "pattern": {
              "fillmode": "overlay",
              "size": 10,
              "solidity": 0.2
             }
            },
            "type": "bar"
           }
          ],
          "barpolar": [
           {
            "marker": {
             "line": {
              "color": "#E5ECF6",
              "width": 0.5
             },
             "pattern": {
              "fillmode": "overlay",
              "size": 10,
              "solidity": 0.2
             }
            },
            "type": "barpolar"
           }
          ],
          "carpet": [
           {
            "aaxis": {
             "endlinecolor": "#2a3f5f",
             "gridcolor": "white",
             "linecolor": "white",
             "minorgridcolor": "white",
             "startlinecolor": "#2a3f5f"
            },
            "baxis": {
             "endlinecolor": "#2a3f5f",
             "gridcolor": "white",
             "linecolor": "white",
             "minorgridcolor": "white",
             "startlinecolor": "#2a3f5f"
            },
            "type": "carpet"
           }
          ],
          "choropleth": [
           {
            "colorbar": {
             "outlinewidth": 0,
             "ticks": ""
            },
            "type": "choropleth"
           }
          ],
          "contour": [
           {
            "colorbar": {
             "outlinewidth": 0,
             "ticks": ""
            },
            "colorscale": [
             [
              0,
              "#0d0887"
             ],
             [
              0.1111111111111111,
              "#46039f"
             ],
             [
              0.2222222222222222,
              "#7201a8"
             ],
             [
              0.3333333333333333,
              "#9c179e"
             ],
             [
              0.4444444444444444,
              "#bd3786"
             ],
             [
              0.5555555555555556,
              "#d8576b"
             ],
             [
              0.6666666666666666,
              "#ed7953"
             ],
             [
              0.7777777777777778,
              "#fb9f3a"
             ],
             [
              0.8888888888888888,
              "#fdca26"
             ],
             [
              1,
              "#f0f921"
             ]
            ],
            "type": "contour"
           }
          ],
          "contourcarpet": [
           {
            "colorbar": {
             "outlinewidth": 0,
             "ticks": ""
            },
            "type": "contourcarpet"
           }
          ],
          "heatmap": [
           {
            "colorbar": {
             "outlinewidth": 0,
             "ticks": ""
            },
            "colorscale": [
             [
              0,
              "#0d0887"
             ],
             [
              0.1111111111111111,
              "#46039f"
             ],
             [
              0.2222222222222222,
              "#7201a8"
             ],
             [
              0.3333333333333333,
              "#9c179e"
             ],
             [
              0.4444444444444444,
              "#bd3786"
             ],
             [
              0.5555555555555556,
              "#d8576b"
             ],
             [
              0.6666666666666666,
              "#ed7953"
             ],
             [
              0.7777777777777778,
              "#fb9f3a"
             ],
             [
              0.8888888888888888,
              "#fdca26"
             ],
             [
              1,
              "#f0f921"
             ]
            ],
            "type": "heatmap"
           }
          ],
          "heatmapgl": [
           {
            "colorbar": {
             "outlinewidth": 0,
             "ticks": ""
            },
            "colorscale": [
             [
              0,
              "#0d0887"
             ],
             [
              0.1111111111111111,
              "#46039f"
             ],
             [
              0.2222222222222222,
              "#7201a8"
             ],
             [
              0.3333333333333333,
              "#9c179e"
             ],
             [
              0.4444444444444444,
              "#bd3786"
             ],
             [
              0.5555555555555556,
              "#d8576b"
             ],
             [
              0.6666666666666666,
              "#ed7953"
             ],
             [
              0.7777777777777778,
              "#fb9f3a"
             ],
             [
              0.8888888888888888,
              "#fdca26"
             ],
             [
              1,
              "#f0f921"
             ]
            ],
            "type": "heatmapgl"
           }
          ],
          "histogram": [
           {
            "marker": {
             "pattern": {
              "fillmode": "overlay",
              "size": 10,
              "solidity": 0.2
             }
            },
            "type": "histogram"
           }
          ],
          "histogram2d": [
           {
            "colorbar": {
             "outlinewidth": 0,
             "ticks": ""
            },
            "colorscale": [
             [
              0,
              "#0d0887"
             ],
             [
              0.1111111111111111,
              "#46039f"
             ],
             [
              0.2222222222222222,
              "#7201a8"
             ],
             [
              0.3333333333333333,
              "#9c179e"
             ],
             [
              0.4444444444444444,
              "#bd3786"
             ],
             [
              0.5555555555555556,
              "#d8576b"
             ],
             [
              0.6666666666666666,
              "#ed7953"
             ],
             [
              0.7777777777777778,
              "#fb9f3a"
             ],
             [
              0.8888888888888888,
              "#fdca26"
             ],
             [
              1,
              "#f0f921"
             ]
            ],
            "type": "histogram2d"
           }
          ],
          "histogram2dcontour": [
           {
            "colorbar": {
             "outlinewidth": 0,
             "ticks": ""
            },
            "colorscale": [
             [
              0,
              "#0d0887"
             ],
             [
              0.1111111111111111,
              "#46039f"
             ],
             [
              0.2222222222222222,
              "#7201a8"
             ],
             [
              0.3333333333333333,
              "#9c179e"
             ],
             [
              0.4444444444444444,
              "#bd3786"
             ],
             [
              0.5555555555555556,
              "#d8576b"
             ],
             [
              0.6666666666666666,
              "#ed7953"
             ],
             [
              0.7777777777777778,
              "#fb9f3a"
             ],
             [
              0.8888888888888888,
              "#fdca26"
             ],
             [
              1,
              "#f0f921"
             ]
            ],
            "type": "histogram2dcontour"
           }
          ],
          "mesh3d": [
           {
            "colorbar": {
             "outlinewidth": 0,
             "ticks": ""
            },
            "type": "mesh3d"
           }
          ],
          "parcoords": [
           {
            "line": {
             "colorbar": {
              "outlinewidth": 0,
              "ticks": ""
             }
            },
            "type": "parcoords"
           }
          ],
          "pie": [
           {
            "automargin": true,
            "type": "pie"
           }
          ],
          "scatter": [
           {
            "fillpattern": {
             "fillmode": "overlay",
             "size": 10,
             "solidity": 0.2
            },
            "type": "scatter"
           }
          ],
          "scatter3d": [
           {
            "line": {
             "colorbar": {
              "outlinewidth": 0,
              "ticks": ""
             }
            },
            "marker": {
             "colorbar": {
              "outlinewidth": 0,
              "ticks": ""
             }
            },
            "type": "scatter3d"
           }
          ],
          "scattercarpet": [
           {
            "marker": {
             "colorbar": {
              "outlinewidth": 0,
              "ticks": ""
             }
            },
            "type": "scattercarpet"
           }
          ],
          "scattergeo": [
           {
            "marker": {
             "colorbar": {
              "outlinewidth": 0,
              "ticks": ""
             }
            },
            "type": "scattergeo"
           }
          ],
          "scattergl": [
           {
            "marker": {
             "colorbar": {
              "outlinewidth": 0,
              "ticks": ""
             }
            },
            "type": "scattergl"
           }
          ],
          "scattermapbox": [
           {
            "marker": {
             "colorbar": {
              "outlinewidth": 0,
              "ticks": ""
             }
            },
            "type": "scattermapbox"
           }
          ],
          "scatterpolar": [
           {
            "marker": {
             "colorbar": {
              "outlinewidth": 0,
              "ticks": ""
             }
            },
            "type": "scatterpolar"
           }
          ],
          "scatterpolargl": [
           {
            "marker": {
             "colorbar": {
              "outlinewidth": 0,
              "ticks": ""
             }
            },
            "type": "scatterpolargl"
           }
          ],
          "scatterternary": [
           {
            "marker": {
             "colorbar": {
              "outlinewidth": 0,
              "ticks": ""
             }
            },
            "type": "scatterternary"
           }
          ],
          "surface": [
           {
            "colorbar": {
             "outlinewidth": 0,
             "ticks": ""
            },
            "colorscale": [
             [
              0,
              "#0d0887"
             ],
             [
              0.1111111111111111,
              "#46039f"
             ],
             [
              0.2222222222222222,
              "#7201a8"
             ],
             [
              0.3333333333333333,
              "#9c179e"
             ],
             [
              0.4444444444444444,
              "#bd3786"
             ],
             [
              0.5555555555555556,
              "#d8576b"
             ],
             [
              0.6666666666666666,
              "#ed7953"
             ],
             [
              0.7777777777777778,
              "#fb9f3a"
             ],
             [
              0.8888888888888888,
              "#fdca26"
             ],
             [
              1,
              "#f0f921"
             ]
            ],
            "type": "surface"
           }
          ],
          "table": [
           {
            "cells": {
             "fill": {
              "color": "#EBF0F8"
             },
             "line": {
              "color": "white"
             }
            },
            "header": {
             "fill": {
              "color": "#C8D4E3"
             },
             "line": {
              "color": "white"
             }
            },
            "type": "table"
           }
          ]
         },
         "layout": {
          "annotationdefaults": {
           "arrowcolor": "#2a3f5f",
           "arrowhead": 0,
           "arrowwidth": 1
          },
          "autotypenumbers": "strict",
          "coloraxis": {
           "colorbar": {
            "outlinewidth": 0,
            "ticks": ""
           }
          },
          "colorscale": {
           "diverging": [
            [
             0,
             "#8e0152"
            ],
            [
             0.1,
             "#c51b7d"
            ],
            [
             0.2,
             "#de77ae"
            ],
            [
             0.3,
             "#f1b6da"
            ],
            [
             0.4,
             "#fde0ef"
            ],
            [
             0.5,
             "#f7f7f7"
            ],
            [
             0.6,
             "#e6f5d0"
            ],
            [
             0.7,
             "#b8e186"
            ],
            [
             0.8,
             "#7fbc41"
            ],
            [
             0.9,
             "#4d9221"
            ],
            [
             1,
             "#276419"
            ]
           ],
           "sequential": [
            [
             0,
             "#0d0887"
            ],
            [
             0.1111111111111111,
             "#46039f"
            ],
            [
             0.2222222222222222,
             "#7201a8"
            ],
            [
             0.3333333333333333,
             "#9c179e"
            ],
            [
             0.4444444444444444,
             "#bd3786"
            ],
            [
             0.5555555555555556,
             "#d8576b"
            ],
            [
             0.6666666666666666,
             "#ed7953"
            ],
            [
             0.7777777777777778,
             "#fb9f3a"
            ],
            [
             0.8888888888888888,
             "#fdca26"
            ],
            [
             1,
             "#f0f921"
            ]
           ],
           "sequentialminus": [
            [
             0,
             "#0d0887"
            ],
            [
             0.1111111111111111,
             "#46039f"
            ],
            [
             0.2222222222222222,
             "#7201a8"
            ],
            [
             0.3333333333333333,
             "#9c179e"
            ],
            [
             0.4444444444444444,
             "#bd3786"
            ],
            [
             0.5555555555555556,
             "#d8576b"
            ],
            [
             0.6666666666666666,
             "#ed7953"
            ],
            [
             0.7777777777777778,
             "#fb9f3a"
            ],
            [
             0.8888888888888888,
             "#fdca26"
            ],
            [
             1,
             "#f0f921"
            ]
           ]
          },
          "colorway": [
           "#636efa",
           "#EF553B",
           "#00cc96",
           "#ab63fa",
           "#FFA15A",
           "#19d3f3",
           "#FF6692",
           "#B6E880",
           "#FF97FF",
           "#FECB52"
          ],
          "font": {
           "color": "#2a3f5f"
          },
          "geo": {
           "bgcolor": "white",
           "lakecolor": "white",
           "landcolor": "#E5ECF6",
           "showlakes": true,
           "showland": true,
           "subunitcolor": "white"
          },
          "hoverlabel": {
           "align": "left"
          },
          "hovermode": "closest",
          "mapbox": {
           "style": "light"
          },
          "paper_bgcolor": "white",
          "plot_bgcolor": "#E5ECF6",
          "polar": {
           "angularaxis": {
            "gridcolor": "white",
            "linecolor": "white",
            "ticks": ""
           },
           "bgcolor": "#E5ECF6",
           "radialaxis": {
            "gridcolor": "white",
            "linecolor": "white",
            "ticks": ""
           }
          },
          "scene": {
           "xaxis": {
            "backgroundcolor": "#E5ECF6",
            "gridcolor": "white",
            "gridwidth": 2,
            "linecolor": "white",
            "showbackground": true,
            "ticks": "",
            "zerolinecolor": "white"
           },
           "yaxis": {
            "backgroundcolor": "#E5ECF6",
            "gridcolor": "white",
            "gridwidth": 2,
            "linecolor": "white",
            "showbackground": true,
            "ticks": "",
            "zerolinecolor": "white"
           },
           "zaxis": {
            "backgroundcolor": "#E5ECF6",
            "gridcolor": "white",
            "gridwidth": 2,
            "linecolor": "white",
            "showbackground": true,
            "ticks": "",
            "zerolinecolor": "white"
           }
          },
          "shapedefaults": {
           "line": {
            "color": "#2a3f5f"
           }
          },
          "ternary": {
           "aaxis": {
            "gridcolor": "white",
            "linecolor": "white",
            "ticks": ""
           },
           "baxis": {
            "gridcolor": "white",
            "linecolor": "white",
            "ticks": ""
           },
           "bgcolor": "#E5ECF6",
           "caxis": {
            "gridcolor": "white",
            "linecolor": "white",
            "ticks": ""
           }
          },
          "title": {
           "x": 0.05
          },
          "xaxis": {
           "automargin": true,
           "gridcolor": "white",
           "linecolor": "white",
           "ticks": "",
           "title": {
            "standoff": 15
           },
           "zerolinecolor": "white",
           "zerolinewidth": 2
          },
          "yaxis": {
           "automargin": true,
           "gridcolor": "white",
           "linecolor": "white",
           "ticks": "",
           "title": {
            "standoff": 15
           },
           "zerolinecolor": "white",
           "zerolinewidth": 2
          }
         }
        },
        "xaxis": {
         "anchor": "y",
         "domain": [
          0,
          1
         ],
         "title": {
          "text": "TaxYear"
         }
        },
        "yaxis": {
         "anchor": "x",
         "domain": [
          0,
          1
         ],
         "title": {
          "text": "FTE"
         }
        }
       }
      }
     },
     "metadata": {},
     "output_type": "display_data"
    }
   ],
   "source": [
    "from collections import OrderedDict\n",
    "blue_shades = OrderedDict({\n",
    "    '[0.0, 400.0)': \"#B0E0E6\",        # Powder Blue\n",
    "    '[400.0, 800.0)': \"#7B68EE\",      # Medium Slate Blue\n",
    "    '[800.0, 1600.0)': \"#4169E1\",     # Royal Blue\n",
    "    '[1600.0, 3200.0)': \"#1E90FF\",    # Dodger Blue\n",
    "    '[3200.0, 6400.0)': \"#00BFFF\",    # Deep Sky Blue\n",
    "    '[6400.0, 12800.0)': \"#87CEEB\",   # Sky Blue\n",
    "    '[12800.0, 25600.0)': \"#4682B4\",  # Steel Blue\n",
    "    '[25600.0, 51200.0)': \"#6A5ACD\",  # Slate Blue\n",
    "    '[51200.0, 102400.0)': \"#00008B\", # Dark Blue\n",
    "    '[102400.0, 204800.0)': \"#0000CD\",# Medium Blue\n",
    "    '[204800.0, 409600.0)': \"#000080\",# Navy Blue\n",
    "    '[409600.0, 819200.0)': \"#191970\",# Midnight Blue\n",
    "    '[819200.0, 1638400.0)': \"#4B0082\",# Indigo\n",
    "    '[1638400.0, 10000000.0)': \"#000000\" # Black\n",
    "})\n",
    "df.FTE = df.FTE.replace('<10','0').astype('float')\n",
    "df = df[df.CAT_B == 'CPT']\n",
    "\n",
    "\n",
    "\n",
    "px.bar(df, x=\"TaxYear\", y=\"FTE\", color=\"RealWageBand\", color_discrete_map=blue_shades)"
   ]
  },
  {
   "cell_type": "code",
   "execution_count": 310,
   "metadata": {},
   "outputs": [
    {
     "data": {
      "application/vnd.plotly.v1+json": {
       "config": {
        "plotlyServerURL": "https://plot.ly"
       },
       "data": [
        {
         "alignmentgroup": "True",
         "hovertemplate": "RealWageBand=[0.0, 400.0)<br>TaxYear=%{x}<br>FTE=%{y}<extra></extra>",
         "legendgroup": "[0.0, 400.0)",
         "marker": {
          "color": "#B0E0E6",
          "pattern": {
           "shape": ""
          }
         },
         "name": "[0.0, 400.0)",
         "offsetgroup": "[0.0, 400.0)",
         "orientation": "v",
         "showlegend": true,
         "textposition": "auto",
         "type": "bar",
         "x": [
          2014,
          2015,
          2016,
          2017,
          2018,
          2019,
          2020,
          2021,
          2022
         ],
         "xaxis": "x",
         "y": [
          6794.927658962478,
          8979.685657394119,
          10728.40131934246,
          12517.375063002133,
          12050.580601164584,
          12902.482463992123,
          12818.131853355624,
          14868.078472257479,
          10985.403034632587
         ],
         "yaxis": "y"
        },
        {
         "alignmentgroup": "True",
         "hovertemplate": "RealWageBand=[102400.0, 204800.0)<br>TaxYear=%{x}<br>FTE=%{y}<extra></extra>",
         "legendgroup": "[102400.0, 204800.0)",
         "marker": {
          "color": "#0000CD",
          "pattern": {
           "shape": ""
          }
         },
         "name": "[102400.0, 204800.0)",
         "offsetgroup": "[102400.0, 204800.0)",
         "orientation": "v",
         "showlegend": true,
         "textposition": "auto",
         "type": "bar",
         "x": [
          2014,
          2015,
          2016,
          2017,
          2018,
          2019,
          2020,
          2021,
          2022
         ],
         "xaxis": "x",
         "y": [
          13572.694443425788,
          14837.445005812622,
          16388.622269487434,
          15868.943677685704,
          16752.376179249346,
          17875.323093875057,
          20722.451130019617,
          19384.358264552477,
          20522.530497774802
         ],
         "yaxis": "y"
        },
        {
         "alignmentgroup": "True",
         "hovertemplate": "RealWageBand=[12800.0, 25600.0)<br>TaxYear=%{x}<br>FTE=%{y}<extra></extra>",
         "legendgroup": "[12800.0, 25600.0)",
         "marker": {
          "color": "#4682B4",
          "pattern": {
           "shape": ""
          }
         },
         "name": "[12800.0, 25600.0)",
         "offsetgroup": "[12800.0, 25600.0)",
         "orientation": "v",
         "showlegend": true,
         "textposition": "auto",
         "type": "bar",
         "x": [
          2014,
          2015,
          2016,
          2017,
          2018,
          2019,
          2020,
          2021,
          2022
         ],
         "xaxis": "x",
         "y": [
          223956.754947733,
          230412.64323884153,
          235858.62747326263,
          242311.82805313397,
          246637.5542788792,
          246223.7059176003,
          253836.29806132405,
          228431.48973502778,
          242995.71312729138
         ],
         "yaxis": "y"
        },
        {
         "alignmentgroup": "True",
         "hovertemplate": "RealWageBand=[1600.0, 3200.0)<br>TaxYear=%{x}<br>FTE=%{y}<extra></extra>",
         "legendgroup": "[1600.0, 3200.0)",
         "marker": {
          "color": "#1E90FF",
          "pattern": {
           "shape": ""
          }
         },
         "name": "[1600.0, 3200.0)",
         "offsetgroup": "[1600.0, 3200.0)",
         "orientation": "v",
         "showlegend": true,
         "textposition": "auto",
         "type": "bar",
         "x": [
          2014,
          2015,
          2016,
          2017,
          2018,
          2019,
          2020,
          2021,
          2022
         ],
         "xaxis": "x",
         "y": [
          91923.69675530473,
          103292.4076182302,
          100235.5083888881,
          99565.43141049547,
          97811.34760003489,
          88850.58064091843,
          76284.24793186973,
          98788.1539541439,
          74156.67055858477
         ],
         "yaxis": "y"
        },
        {
         "alignmentgroup": "True",
         "hovertemplate": "RealWageBand=[1638400.0, 10000000.0)<br>TaxYear=%{x}<br>FTE=%{y}<extra></extra>",
         "legendgroup": "[1638400.0, 10000000.0)",
         "marker": {
          "color": "#000000",
          "pattern": {
           "shape": ""
          }
         },
         "name": "[1638400.0, 10000000.0)",
         "offsetgroup": "[1638400.0, 10000000.0)",
         "orientation": "v",
         "showlegend": true,
         "textposition": "auto",
         "type": "bar",
         "x": [
          2014,
          2015,
          2016,
          2017,
          2018,
          2019,
          2020,
          2021,
          2022
         ],
         "xaxis": "x",
         "y": [
          73.21290178993593,
          64.86776666159219,
          70.9049458320692,
          51.55153187041696,
          36.50975125520167,
          30.458128164490358,
          27.769021000194225,
          26.194234332368097,
          38.96872300098454
         ],
         "yaxis": "y"
        },
        {
         "alignmentgroup": "True",
         "hovertemplate": "RealWageBand=[204800.0, 409600.0)<br>TaxYear=%{x}<br>FTE=%{y}<extra></extra>",
         "legendgroup": "[204800.0, 409600.0)",
         "marker": {
          "color": "#000080",
          "pattern": {
           "shape": ""
          }
         },
         "name": "[204800.0, 409600.0)",
         "offsetgroup": "[204800.0, 409600.0)",
         "orientation": "v",
         "showlegend": true,
         "textposition": "auto",
         "type": "bar",
         "x": [
          2014,
          2015,
          2016,
          2017,
          2018,
          2019,
          2020,
          2021,
          2022
         ],
         "xaxis": "x",
         "y": [
          2318.71413842329,
          2683.168202786075,
          2943.4015265864864,
          2925.888037506556,
          2883.7582035669843,
          3090.2614539856168,
          3660.0182548264097,
          3283.0767272509497,
          3627.3415132499613
         ],
         "yaxis": "y"
        },
        {
         "alignmentgroup": "True",
         "hovertemplate": "RealWageBand=[25600.0, 51200.0)<br>TaxYear=%{x}<br>FTE=%{y}<extra></extra>",
         "legendgroup": "[25600.0, 51200.0)",
         "marker": {
          "color": "#6A5ACD",
          "pattern": {
           "shape": ""
          }
         },
         "name": "[25600.0, 51200.0)",
         "offsetgroup": "[25600.0, 51200.0)",
         "orientation": "v",
         "showlegend": true,
         "textposition": "auto",
         "type": "bar",
         "x": [
          2014,
          2015,
          2016,
          2017,
          2018,
          2019,
          2020,
          2021,
          2022
         ],
         "xaxis": "x",
         "y": [
          169733.87049495854,
          177278.63751045932,
          186802.61614767386,
          189248.76882844427,
          195788.97886870537,
          202051.86854861432,
          213444.20702785993,
          200493.4545820669,
          210336.22272426137
         ],
         "yaxis": "y"
        },
        {
         "alignmentgroup": "True",
         "hovertemplate": "RealWageBand=[3200.0, 6400.0)<br>TaxYear=%{x}<br>FTE=%{y}<extra></extra>",
         "legendgroup": "[3200.0, 6400.0)",
         "marker": {
          "color": "#00BFFF",
          "pattern": {
           "shape": ""
          }
         },
         "name": "[3200.0, 6400.0)",
         "offsetgroup": "[3200.0, 6400.0)",
         "orientation": "v",
         "showlegend": true,
         "textposition": "auto",
         "type": "bar",
         "x": [
          2014,
          2015,
          2016,
          2017,
          2018,
          2019,
          2020,
          2021,
          2022
         ],
         "xaxis": "x",
         "y": [
          292735.64107691817,
          310274.2078859771,
          325322.7658562231,
          338030.15801291825,
          342317.0437958243,
          354032.9809403031,
          373996.0428873939,
          365771.8839613149,
          359510.9215450205
         ],
         "yaxis": "y"
        },
        {
         "alignmentgroup": "True",
         "hovertemplate": "RealWageBand=[400.0, 800.0)<br>TaxYear=%{x}<br>FTE=%{y}<extra></extra>",
         "legendgroup": "[400.0, 800.0)",
         "marker": {
          "color": "#7B68EE",
          "pattern": {
           "shape": ""
          }
         },
         "name": "[400.0, 800.0)",
         "offsetgroup": "[400.0, 800.0)",
         "orientation": "v",
         "showlegend": true,
         "textposition": "auto",
         "type": "bar",
         "x": [
          2014,
          2015,
          2016,
          2017,
          2018,
          2019,
          2020,
          2021,
          2022
         ],
         "xaxis": "x",
         "y": [
          17192.34953087706,
          18707.87975726912,
          19877.438703363703,
          19037.112941713352,
          18049.0876485767,
          17969.16831048887,
          18979.83076510483,
          24673.850982241656,
          17117.365702428277
         ],
         "yaxis": "y"
        },
        {
         "alignmentgroup": "True",
         "hovertemplate": "RealWageBand=[409600.0, 819200.0)<br>TaxYear=%{x}<br>FTE=%{y}<extra></extra>",
         "legendgroup": "[409600.0, 819200.0)",
         "marker": {
          "color": "#191970",
          "pattern": {
           "shape": ""
          }
         },
         "name": "[409600.0, 819200.0)",
         "offsetgroup": "[409600.0, 819200.0)",
         "orientation": "v",
         "showlegend": true,
         "textposition": "auto",
         "type": "bar",
         "x": [
          2014,
          2015,
          2016,
          2017,
          2018,
          2019,
          2020,
          2021,
          2022
         ],
         "xaxis": "x",
         "y": [
          565.8211166337667,
          645.6567782524639,
          748.3843674648455,
          699.9241028418006,
          646.2198426783887,
          700.6672239645618,
          827.1422291588519,
          723.432309955142,
          794.5650002619944
         ],
         "yaxis": "y"
        },
        {
         "alignmentgroup": "True",
         "hovertemplate": "RealWageBand=[51200.0, 102400.0)<br>TaxYear=%{x}<br>FTE=%{y}<extra></extra>",
         "legendgroup": "[51200.0, 102400.0)",
         "marker": {
          "color": "#00008B",
          "pattern": {
           "shape": ""
          }
         },
         "name": "[51200.0, 102400.0)",
         "offsetgroup": "[51200.0, 102400.0)",
         "orientation": "v",
         "showlegend": true,
         "textposition": "auto",
         "type": "bar",
         "x": [
          2014,
          2015,
          2016,
          2017,
          2018,
          2019,
          2020,
          2021,
          2022
         ],
         "xaxis": "x",
         "y": [
          57712.805319831175,
          60929.10013584744,
          65385.47016057573,
          66401.035260087,
          68821.86971461475,
          72085.52900643995,
          79782.35335530051,
          75040.09555114301,
          79489.35411812276
         ],
         "yaxis": "y"
        },
        {
         "alignmentgroup": "True",
         "hovertemplate": "RealWageBand=[6400.0, 12800.0)<br>TaxYear=%{x}<br>FTE=%{y}<extra></extra>",
         "legendgroup": "[6400.0, 12800.0)",
         "marker": {
          "color": "#87CEEB",
          "pattern": {
           "shape": ""
          }
         },
         "name": "[6400.0, 12800.0)",
         "offsetgroup": "[6400.0, 12800.0)",
         "orientation": "v",
         "showlegend": true,
         "textposition": "auto",
         "type": "bar",
         "x": [
          2014,
          2015,
          2016,
          2017,
          2018,
          2019,
          2020,
          2021,
          2022
         ],
         "xaxis": "x",
         "y": [
          273057.20763451833,
          284805.6577009827,
          295716.30363070447,
          311042.886714593,
          321026.18053984246,
          330743.78162432724,
          343938.0300906654,
          307138.4620258763,
          324721.3818841491
         ],
         "yaxis": "y"
        },
        {
         "alignmentgroup": "True",
         "hovertemplate": "RealWageBand=[800.0, 1600.0)<br>TaxYear=%{x}<br>FTE=%{y}<extra></extra>",
         "legendgroup": "[800.0, 1600.0)",
         "marker": {
          "color": "#4169E1",
          "pattern": {
           "shape": ""
          }
         },
         "name": "[800.0, 1600.0)",
         "offsetgroup": "[800.0, 1600.0)",
         "orientation": "v",
         "showlegend": true,
         "textposition": "auto",
         "type": "bar",
         "x": [
          2014,
          2015,
          2016,
          2017,
          2018,
          2019,
          2020,
          2021,
          2022
         ],
         "xaxis": "x",
         "y": [
          27418.606335104683,
          30224.727976589285,
          31520.830746850537,
          30031.52456231002,
          28991.282882017098,
          29989.782491809045,
          30737.248221247697,
          40281.000566306735,
          29386.23972255158
         ],
         "yaxis": "y"
        },
        {
         "alignmentgroup": "True",
         "hovertemplate": "RealWageBand=[819200.0, 1638400.0)<br>TaxYear=%{x}<br>FTE=%{y}<extra></extra>",
         "legendgroup": "[819200.0, 1638400.0)",
         "marker": {
          "color": "#4B0082",
          "pattern": {
           "shape": ""
          }
         },
         "name": "[819200.0, 1638400.0)",
         "offsetgroup": "[819200.0, 1638400.0)",
         "orientation": "v",
         "showlegend": true,
         "textposition": "auto",
         "type": "bar",
         "x": [
          2014,
          2015,
          2016,
          2017,
          2018,
          2019,
          2020,
          2021,
          2022
         ],
         "xaxis": "x",
         "y": [
          136.4051357871271,
          169.54896893668806,
          172.70467294312598,
          190.12444147456802,
          169.9427463695629,
          142.39192879287089,
          151.56412314619072,
          144.28072794683348,
          148.41483261418003
         ],
         "yaxis": "y"
        }
       ],
       "layout": {
        "barmode": "relative",
        "legend": {
         "title": {
          "text": "RealWageBand"
         },
         "tracegroupgap": 0
        },
        "margin": {
         "t": 60
        },
        "template": {
         "data": {
          "bar": [
           {
            "error_x": {
             "color": "#2a3f5f"
            },
            "error_y": {
             "color": "#2a3f5f"
            },
            "marker": {
             "line": {
              "color": "#E5ECF6",
              "width": 0.5
             },
             "pattern": {
              "fillmode": "overlay",
              "size": 10,
              "solidity": 0.2
             }
            },
            "type": "bar"
           }
          ],
          "barpolar": [
           {
            "marker": {
             "line": {
              "color": "#E5ECF6",
              "width": 0.5
             },
             "pattern": {
              "fillmode": "overlay",
              "size": 10,
              "solidity": 0.2
             }
            },
            "type": "barpolar"
           }
          ],
          "carpet": [
           {
            "aaxis": {
             "endlinecolor": "#2a3f5f",
             "gridcolor": "white",
             "linecolor": "white",
             "minorgridcolor": "white",
             "startlinecolor": "#2a3f5f"
            },
            "baxis": {
             "endlinecolor": "#2a3f5f",
             "gridcolor": "white",
             "linecolor": "white",
             "minorgridcolor": "white",
             "startlinecolor": "#2a3f5f"
            },
            "type": "carpet"
           }
          ],
          "choropleth": [
           {
            "colorbar": {
             "outlinewidth": 0,
             "ticks": ""
            },
            "type": "choropleth"
           }
          ],
          "contour": [
           {
            "colorbar": {
             "outlinewidth": 0,
             "ticks": ""
            },
            "colorscale": [
             [
              0,
              "#0d0887"
             ],
             [
              0.1111111111111111,
              "#46039f"
             ],
             [
              0.2222222222222222,
              "#7201a8"
             ],
             [
              0.3333333333333333,
              "#9c179e"
             ],
             [
              0.4444444444444444,
              "#bd3786"
             ],
             [
              0.5555555555555556,
              "#d8576b"
             ],
             [
              0.6666666666666666,
              "#ed7953"
             ],
             [
              0.7777777777777778,
              "#fb9f3a"
             ],
             [
              0.8888888888888888,
              "#fdca26"
             ],
             [
              1,
              "#f0f921"
             ]
            ],
            "type": "contour"
           }
          ],
          "contourcarpet": [
           {
            "colorbar": {
             "outlinewidth": 0,
             "ticks": ""
            },
            "type": "contourcarpet"
           }
          ],
          "heatmap": [
           {
            "colorbar": {
             "outlinewidth": 0,
             "ticks": ""
            },
            "colorscale": [
             [
              0,
              "#0d0887"
             ],
             [
              0.1111111111111111,
              "#46039f"
             ],
             [
              0.2222222222222222,
              "#7201a8"
             ],
             [
              0.3333333333333333,
              "#9c179e"
             ],
             [
              0.4444444444444444,
              "#bd3786"
             ],
             [
              0.5555555555555556,
              "#d8576b"
             ],
             [
              0.6666666666666666,
              "#ed7953"
             ],
             [
              0.7777777777777778,
              "#fb9f3a"
             ],
             [
              0.8888888888888888,
              "#fdca26"
             ],
             [
              1,
              "#f0f921"
             ]
            ],
            "type": "heatmap"
           }
          ],
          "heatmapgl": [
           {
            "colorbar": {
             "outlinewidth": 0,
             "ticks": ""
            },
            "colorscale": [
             [
              0,
              "#0d0887"
             ],
             [
              0.1111111111111111,
              "#46039f"
             ],
             [
              0.2222222222222222,
              "#7201a8"
             ],
             [
              0.3333333333333333,
              "#9c179e"
             ],
             [
              0.4444444444444444,
              "#bd3786"
             ],
             [
              0.5555555555555556,
              "#d8576b"
             ],
             [
              0.6666666666666666,
              "#ed7953"
             ],
             [
              0.7777777777777778,
              "#fb9f3a"
             ],
             [
              0.8888888888888888,
              "#fdca26"
             ],
             [
              1,
              "#f0f921"
             ]
            ],
            "type": "heatmapgl"
           }
          ],
          "histogram": [
           {
            "marker": {
             "pattern": {
              "fillmode": "overlay",
              "size": 10,
              "solidity": 0.2
             }
            },
            "type": "histogram"
           }
          ],
          "histogram2d": [
           {
            "colorbar": {
             "outlinewidth": 0,
             "ticks": ""
            },
            "colorscale": [
             [
              0,
              "#0d0887"
             ],
             [
              0.1111111111111111,
              "#46039f"
             ],
             [
              0.2222222222222222,
              "#7201a8"
             ],
             [
              0.3333333333333333,
              "#9c179e"
             ],
             [
              0.4444444444444444,
              "#bd3786"
             ],
             [
              0.5555555555555556,
              "#d8576b"
             ],
             [
              0.6666666666666666,
              "#ed7953"
             ],
             [
              0.7777777777777778,
              "#fb9f3a"
             ],
             [
              0.8888888888888888,
              "#fdca26"
             ],
             [
              1,
              "#f0f921"
             ]
            ],
            "type": "histogram2d"
           }
          ],
          "histogram2dcontour": [
           {
            "colorbar": {
             "outlinewidth": 0,
             "ticks": ""
            },
            "colorscale": [
             [
              0,
              "#0d0887"
             ],
             [
              0.1111111111111111,
              "#46039f"
             ],
             [
              0.2222222222222222,
              "#7201a8"
             ],
             [
              0.3333333333333333,
              "#9c179e"
             ],
             [
              0.4444444444444444,
              "#bd3786"
             ],
             [
              0.5555555555555556,
              "#d8576b"
             ],
             [
              0.6666666666666666,
              "#ed7953"
             ],
             [
              0.7777777777777778,
              "#fb9f3a"
             ],
             [
              0.8888888888888888,
              "#fdca26"
             ],
             [
              1,
              "#f0f921"
             ]
            ],
            "type": "histogram2dcontour"
           }
          ],
          "mesh3d": [
           {
            "colorbar": {
             "outlinewidth": 0,
             "ticks": ""
            },
            "type": "mesh3d"
           }
          ],
          "parcoords": [
           {
            "line": {
             "colorbar": {
              "outlinewidth": 0,
              "ticks": ""
             }
            },
            "type": "parcoords"
           }
          ],
          "pie": [
           {
            "automargin": true,
            "type": "pie"
           }
          ],
          "scatter": [
           {
            "fillpattern": {
             "fillmode": "overlay",
             "size": 10,
             "solidity": 0.2
            },
            "type": "scatter"
           }
          ],
          "scatter3d": [
           {
            "line": {
             "colorbar": {
              "outlinewidth": 0,
              "ticks": ""
             }
            },
            "marker": {
             "colorbar": {
              "outlinewidth": 0,
              "ticks": ""
             }
            },
            "type": "scatter3d"
           }
          ],
          "scattercarpet": [
           {
            "marker": {
             "colorbar": {
              "outlinewidth": 0,
              "ticks": ""
             }
            },
            "type": "scattercarpet"
           }
          ],
          "scattergeo": [
           {
            "marker": {
             "colorbar": {
              "outlinewidth": 0,
              "ticks": ""
             }
            },
            "type": "scattergeo"
           }
          ],
          "scattergl": [
           {
            "marker": {
             "colorbar": {
              "outlinewidth": 0,
              "ticks": ""
             }
            },
            "type": "scattergl"
           }
          ],
          "scattermapbox": [
           {
            "marker": {
             "colorbar": {
              "outlinewidth": 0,
              "ticks": ""
             }
            },
            "type": "scattermapbox"
           }
          ],
          "scatterpolar": [
           {
            "marker": {
             "colorbar": {
              "outlinewidth": 0,
              "ticks": ""
             }
            },
            "type": "scatterpolar"
           }
          ],
          "scatterpolargl": [
           {
            "marker": {
             "colorbar": {
              "outlinewidth": 0,
              "ticks": ""
             }
            },
            "type": "scatterpolargl"
           }
          ],
          "scatterternary": [
           {
            "marker": {
             "colorbar": {
              "outlinewidth": 0,
              "ticks": ""
             }
            },
            "type": "scatterternary"
           }
          ],
          "surface": [
           {
            "colorbar": {
             "outlinewidth": 0,
             "ticks": ""
            },
            "colorscale": [
             [
              0,
              "#0d0887"
             ],
             [
              0.1111111111111111,
              "#46039f"
             ],
             [
              0.2222222222222222,
              "#7201a8"
             ],
             [
              0.3333333333333333,
              "#9c179e"
             ],
             [
              0.4444444444444444,
              "#bd3786"
             ],
             [
              0.5555555555555556,
              "#d8576b"
             ],
             [
              0.6666666666666666,
              "#ed7953"
             ],
             [
              0.7777777777777778,
              "#fb9f3a"
             ],
             [
              0.8888888888888888,
              "#fdca26"
             ],
             [
              1,
              "#f0f921"
             ]
            ],
            "type": "surface"
           }
          ],
          "table": [
           {
            "cells": {
             "fill": {
              "color": "#EBF0F8"
             },
             "line": {
              "color": "white"
             }
            },
            "header": {
             "fill": {
              "color": "#C8D4E3"
             },
             "line": {
              "color": "white"
             }
            },
            "type": "table"
           }
          ]
         },
         "layout": {
          "annotationdefaults": {
           "arrowcolor": "#2a3f5f",
           "arrowhead": 0,
           "arrowwidth": 1
          },
          "autotypenumbers": "strict",
          "coloraxis": {
           "colorbar": {
            "outlinewidth": 0,
            "ticks": ""
           }
          },
          "colorscale": {
           "diverging": [
            [
             0,
             "#8e0152"
            ],
            [
             0.1,
             "#c51b7d"
            ],
            [
             0.2,
             "#de77ae"
            ],
            [
             0.3,
             "#f1b6da"
            ],
            [
             0.4,
             "#fde0ef"
            ],
            [
             0.5,
             "#f7f7f7"
            ],
            [
             0.6,
             "#e6f5d0"
            ],
            [
             0.7,
             "#b8e186"
            ],
            [
             0.8,
             "#7fbc41"
            ],
            [
             0.9,
             "#4d9221"
            ],
            [
             1,
             "#276419"
            ]
           ],
           "sequential": [
            [
             0,
             "#0d0887"
            ],
            [
             0.1111111111111111,
             "#46039f"
            ],
            [
             0.2222222222222222,
             "#7201a8"
            ],
            [
             0.3333333333333333,
             "#9c179e"
            ],
            [
             0.4444444444444444,
             "#bd3786"
            ],
            [
             0.5555555555555556,
             "#d8576b"
            ],
            [
             0.6666666666666666,
             "#ed7953"
            ],
            [
             0.7777777777777778,
             "#fb9f3a"
            ],
            [
             0.8888888888888888,
             "#fdca26"
            ],
            [
             1,
             "#f0f921"
            ]
           ],
           "sequentialminus": [
            [
             0,
             "#0d0887"
            ],
            [
             0.1111111111111111,
             "#46039f"
            ],
            [
             0.2222222222222222,
             "#7201a8"
            ],
            [
             0.3333333333333333,
             "#9c179e"
            ],
            [
             0.4444444444444444,
             "#bd3786"
            ],
            [
             0.5555555555555556,
             "#d8576b"
            ],
            [
             0.6666666666666666,
             "#ed7953"
            ],
            [
             0.7777777777777778,
             "#fb9f3a"
            ],
            [
             0.8888888888888888,
             "#fdca26"
            ],
            [
             1,
             "#f0f921"
            ]
           ]
          },
          "colorway": [
           "#636efa",
           "#EF553B",
           "#00cc96",
           "#ab63fa",
           "#FFA15A",
           "#19d3f3",
           "#FF6692",
           "#B6E880",
           "#FF97FF",
           "#FECB52"
          ],
          "font": {
           "color": "#2a3f5f"
          },
          "geo": {
           "bgcolor": "white",
           "lakecolor": "white",
           "landcolor": "#E5ECF6",
           "showlakes": true,
           "showland": true,
           "subunitcolor": "white"
          },
          "hoverlabel": {
           "align": "left"
          },
          "hovermode": "closest",
          "mapbox": {
           "style": "light"
          },
          "paper_bgcolor": "white",
          "plot_bgcolor": "#E5ECF6",
          "polar": {
           "angularaxis": {
            "gridcolor": "white",
            "linecolor": "white",
            "ticks": ""
           },
           "bgcolor": "#E5ECF6",
           "radialaxis": {
            "gridcolor": "white",
            "linecolor": "white",
            "ticks": ""
           }
          },
          "scene": {
           "xaxis": {
            "backgroundcolor": "#E5ECF6",
            "gridcolor": "white",
            "gridwidth": 2,
            "linecolor": "white",
            "showbackground": true,
            "ticks": "",
            "zerolinecolor": "white"
           },
           "yaxis": {
            "backgroundcolor": "#E5ECF6",
            "gridcolor": "white",
            "gridwidth": 2,
            "linecolor": "white",
            "showbackground": true,
            "ticks": "",
            "zerolinecolor": "white"
           },
           "zaxis": {
            "backgroundcolor": "#E5ECF6",
            "gridcolor": "white",
            "gridwidth": 2,
            "linecolor": "white",
            "showbackground": true,
            "ticks": "",
            "zerolinecolor": "white"
           }
          },
          "shapedefaults": {
           "line": {
            "color": "#2a3f5f"
           }
          },
          "ternary": {
           "aaxis": {
            "gridcolor": "white",
            "linecolor": "white",
            "ticks": ""
           },
           "baxis": {
            "gridcolor": "white",
            "linecolor": "white",
            "ticks": ""
           },
           "bgcolor": "#E5ECF6",
           "caxis": {
            "gridcolor": "white",
            "linecolor": "white",
            "ticks": ""
           }
          },
          "title": {
           "x": 0.05
          },
          "xaxis": {
           "automargin": true,
           "gridcolor": "white",
           "linecolor": "white",
           "ticks": "",
           "title": {
            "standoff": 15
           },
           "zerolinecolor": "white",
           "zerolinewidth": 2
          },
          "yaxis": {
           "automargin": true,
           "gridcolor": "white",
           "linecolor": "white",
           "ticks": "",
           "title": {
            "standoff": 15
           },
           "zerolinecolor": "white",
           "zerolinewidth": 2
          }
         }
        },
        "xaxis": {
         "anchor": "y",
         "domain": [
          0,
          1
         ],
         "title": {
          "text": "TaxYear"
         }
        },
        "yaxis": {
         "anchor": "x",
         "domain": [
          0,
          1
         ],
         "title": {
          "text": "FTE"
         }
        }
       }
      }
     },
     "metadata": {},
     "output_type": "display_data"
    }
   ],
   "source": [
    "import plotly.express as px\n",
    "from collections import OrderedDict\n",
    "df = pd.read_csv('Data/Municipal_FTE_WageBand_Monthly.csv')\n",
    "# Define the color dictionary\n",
    "blue_shades = OrderedDict({\n",
    "    '[0.0, 400.0)': \"#B0E0E6\",        # Powder Blue\n",
    "    '[400.0, 800.0)': \"#7B68EE\",      # Medium Slate Blue\n",
    "    '[800.0, 1600.0)': \"#4169E1\",     # Royal Blue\n",
    "    '[1600.0, 3200.0)': \"#1E90FF\",    # Dodger Blue\n",
    "    '[3200.0, 6400.0)': \"#00BFFF\",    # Deep Sky Blue\n",
    "    '[6400.0, 12800.0)': \"#87CEEB\",   # Sky Blue\n",
    "    '[12800.0, 25600.0)': \"#4682B4\",  # Steel Blue\n",
    "    '[25600.0, 51200.0)': \"#6A5ACD\",  # Slate Blue\n",
    "    '[51200.0, 102400.0)': \"#00008B\", # Dark Blue\n",
    "    '[102400.0, 204800.0)': \"#0000CD\",# Medium Blue\n",
    "    '[204800.0, 409600.0)': \"#000080\",# Navy Blue\n",
    "    '[409600.0, 819200.0)': \"#191970\",# Midnight Blue\n",
    "    '[819200.0, 1638400.0)': \"#4B0082\",# Indigo\n",
    "    '[1638400.0, 10000000.0)': \"#000000\" # Black\n",
    "})\n",
    "\n",
    "# Filter the data\n",
    "df.FTE = df.FTE.replace('<10','0').astype('float')\n",
    "df = df[df.CAT_B == 'CPT']\n",
    "\n",
    "# Create the bar chart\n",
    "fig = px.bar(df, x=\"TaxYear\", y=\"FTE\", color=\"RealWageBand\", color_discrete_map=blue_shades)\n",
    "\n",
    "# Show the plot\n",
    "fig.show()\n"
   ]
  },
  {
   "cell_type": "code",
   "execution_count": 336,
   "metadata": {},
   "outputs": [
    {
     "data": {
      "application/vnd.plotly.v1+json": {
       "config": {
        "plotlyServerURL": "https://plot.ly"
       },
       "data": [
        {
         "alignmentgroup": "True",
         "hovertemplate": "RealWageBand=[0.0, 400.0)<br>month=%{x}<br>FTE=%{y}<extra></extra>",
         "legendgroup": "[0.0, 400.0)",
         "marker": {
          "color": "#FFA07A",
          "pattern": {
           "shape": ""
          }
         },
         "name": "[0.0, 400.0)",
         "offsetgroup": "[0.0, 400.0)",
         "orientation": "v",
         "showlegend": true,
         "textposition": "auto",
         "type": "bar",
         "x": [
          "2019-03-01",
          "2019-04-01",
          "2019-05-01",
          "2019-06-01",
          "2019-07-01",
          "2019-08-01",
          "2019-09-01",
          "2019-10-01",
          "2019-11-01",
          "2019-12-01",
          "2020-01-01",
          "2020-02-01",
          "2020-03-01",
          "2020-04-01",
          "2020-05-01",
          "2020-06-01",
          "2020-07-01",
          "2020-08-01",
          "2020-09-01",
          "2020-10-01",
          "2020-11-01",
          "2020-12-01",
          "2021-01-01",
          "2021-02-01",
          "2021-03-01",
          "2021-04-01",
          "2021-05-01",
          "2021-06-01",
          "2021-07-01",
          "2021-08-01",
          "2021-09-01",
          "2021-10-01",
          "2021-11-01",
          "2021-12-01",
          "2022-01-01",
          "2022-02-01"
         ],
         "xaxis": "x",
         "y": [
          -779.1788276557782,
          507.2544799003572,
          457.05725495947445,
          552.9772607571867,
          267.41145951011276,
          197.62664074880922,
          56.12957221798388,
          -57.19876485804343,
          -161.0925942715985,
          -130.01532366465835,
          -284.28072666354274,
          -709.325367216703,
          2397.0418871552847,
          280.94391175022974,
          136.93364573472172,
          188.05334300881805,
          187.29425075239124,
          76.83411401158082,
          -35.77319760518367,
          -165.7504781247735,
          -210.04192184452768,
          -279.293872760114,
          -431.66676477861256,
          -815.1625896521873,
          -3534.1350883995183,
          441.5980639298432,
          394.30494467871904,
          381.4112579896264,
          226.67793841404273,
          162.4481055489614,
          -27.16395887996987,
          -74.75862989915913,
          -116.59290267280267,
          -191.44705862000956,
          -303.88057771025524,
          -525.7495522578392
         ],
         "yaxis": "y"
        },
        {
         "alignmentgroup": "True",
         "hovertemplate": "RealWageBand=[400.0, 800.0)<br>month=%{x}<br>FTE=%{y}<extra></extra>",
         "legendgroup": "[400.0, 800.0)",
         "marker": {
          "color": "#FA8072",
          "pattern": {
           "shape": ""
          }
         },
         "name": "[400.0, 800.0)",
         "offsetgroup": "[400.0, 800.0)",
         "orientation": "v",
         "showlegend": true,
         "textposition": "auto",
         "type": "bar",
         "x": [
          "2019-03-01",
          "2019-04-01",
          "2019-05-01",
          "2019-06-01",
          "2019-07-01",
          "2019-08-01",
          "2019-09-01",
          "2019-10-01",
          "2019-11-01",
          "2019-12-01",
          "2020-01-01",
          "2020-02-01",
          "2020-03-01",
          "2020-04-01",
          "2020-05-01",
          "2020-06-01",
          "2020-07-01",
          "2020-08-01",
          "2020-09-01",
          "2020-10-01",
          "2020-11-01",
          "2020-12-01",
          "2021-01-01",
          "2021-02-01",
          "2021-03-01",
          "2021-04-01",
          "2021-05-01",
          "2021-06-01",
          "2021-07-01",
          "2021-08-01",
          "2021-09-01",
          "2021-10-01",
          "2021-11-01",
          "2021-12-01",
          "2022-01-01",
          "2022-02-01"
         ],
         "xaxis": "x",
         "y": [
          -1257.0457245382004,
          980.734920731773,
          867.4620478653123,
          943.9538934459488,
          536.7770077140158,
          363.6354517553009,
          441.80177576916685,
          1054.470730551544,
          27.404847129131667,
          -310.80341601925466,
          -644.8170040308432,
          -2121.4428966203486,
          6685.933222841701,
          571.1293202572597,
          263.70072880492444,
          352.33280080430995,
          -36.90424497535787,
          -166.67753316411108,
          -452.4417165674058,
          -196.1533019996641,
          -41.2231014607969,
          -798.4347842841307,
          -927.010506353221,
          -1791.158855942249,
          -6481.508537293326,
          951.0157034729145,
          913.6505318424679,
          930.345238417809,
          209.51408161814834,
          199.56693761614952,
          -704.5067780831814,
          729.5338421568958,
          92.55840675094078,
          -378.6902949903597,
          -634.4095712469316,
          -1829.2433726718755
         ],
         "yaxis": "y"
        },
        {
         "alignmentgroup": "True",
         "hovertemplate": "RealWageBand=[800.0, 1600.0)<br>month=%{x}<br>FTE=%{y}<extra></extra>",
         "legendgroup": "[800.0, 1600.0)",
         "marker": {
          "color": "#E9967A",
          "pattern": {
           "shape": ""
          }
         },
         "name": "[800.0, 1600.0)",
         "offsetgroup": "[800.0, 1600.0)",
         "orientation": "v",
         "showlegend": true,
         "textposition": "auto",
         "type": "bar",
         "x": [
          "2019-03-01",
          "2019-04-01",
          "2019-05-01",
          "2019-06-01",
          "2019-07-01",
          "2019-08-01",
          "2019-09-01",
          "2019-10-01",
          "2019-11-01",
          "2019-12-01",
          "2020-01-01",
          "2020-02-01",
          "2020-03-01",
          "2020-04-01",
          "2020-05-01",
          "2020-06-01",
          "2020-07-01",
          "2020-08-01",
          "2020-09-01",
          "2020-10-01",
          "2020-11-01",
          "2020-12-01",
          "2021-01-01",
          "2021-02-01",
          "2021-03-01",
          "2021-04-01",
          "2021-05-01",
          "2021-06-01",
          "2021-07-01",
          "2021-08-01",
          "2021-09-01",
          "2021-10-01",
          "2021-11-01",
          "2021-12-01",
          "2022-01-01",
          "2022-02-01"
         ],
         "xaxis": "x",
         "y": [
          -3277.375580236643,
          2087.751286648534,
          928.5917654632794,
          487.80907721248514,
          153.69561237480593,
          520.7725740794449,
          475.9214975678842,
          1800.9821092223283,
          1260.8050238218566,
          1272.797093286419,
          -773.1119528766358,
          -4632.671270321647,
          11890.49451360626,
          887.2107458951068,
          -72.27694857304596,
          -494.53795890505717,
          -1206.8038677941586,
          -931.4403872441471,
          -605.5875635966222,
          -139.82214115716488,
          1860.8371186813456,
          80.88907171152096,
          -1448.9436720073209,
          -4265.700482019063,
          -9153.559314225793,
          2159.2593438229487,
          813.1603131680095,
          411.908775554748,
          -27.700841268513614,
          210.97416992060244,
          22.604799666180043,
          721.4934038010688,
          807.5886114452624,
          296.1928739238101,
          -817.7200858540346,
          -3088.4327874651426
         ],
         "yaxis": "y"
        },
        {
         "alignmentgroup": "True",
         "hovertemplate": "RealWageBand=[1600.0, 3200.0)<br>month=%{x}<br>FTE=%{y}<extra></extra>",
         "legendgroup": "[1600.0, 3200.0)",
         "marker": {
          "color": "#F08080",
          "pattern": {
           "shape": ""
          }
         },
         "name": "[1600.0, 3200.0)",
         "offsetgroup": "[1600.0, 3200.0)",
         "orientation": "v",
         "showlegend": true,
         "textposition": "auto",
         "type": "bar",
         "x": [
          "2019-03-01",
          "2019-04-01",
          "2019-05-01",
          "2019-06-01",
          "2019-07-01",
          "2019-08-01",
          "2019-09-01",
          "2019-10-01",
          "2019-11-01",
          "2019-12-01",
          "2020-01-01",
          "2020-02-01",
          "2020-03-01",
          "2020-04-01",
          "2020-05-01",
          "2020-06-01",
          "2020-07-01",
          "2020-08-01",
          "2020-09-01",
          "2020-10-01",
          "2020-11-01",
          "2020-12-01",
          "2021-01-01",
          "2021-02-01",
          "2021-03-01",
          "2021-04-01",
          "2021-05-01",
          "2021-06-01",
          "2021-07-01",
          "2021-08-01",
          "2021-09-01",
          "2021-10-01",
          "2021-11-01",
          "2021-12-01",
          "2022-01-01",
          "2022-02-01"
         ],
         "xaxis": "x",
         "y": [
          -16926.33151132379,
          4683.729031046634,
          1000.262851189138,
          1733.1425530728156,
          -1840.9527219848387,
          966.4447960612742,
          1326.0910190091963,
          1787.355256492694,
          3737.2994178431836,
          3119.9680284445058,
          -836.5350139941729,
          -8596.745628023142,
          26027.07808994595,
          376.57419197345735,
          -1925.0936489004525,
          -1354.2651614789938,
          -2614.04084447067,
          -872.7997942943475,
          238.6523225846031,
          2912.4814510049764,
          4233.782124322912,
          2858.9514348962257,
          -2006.7784247564268,
          -10847.333028297115,
          -26209.744106476806,
          2954.5567007312493,
          1271.508957074926,
          2021.2859987741394,
          -1133.7378564024257,
          1477.7247286037455,
          1272.7867813510675,
          2303.3713859651907,
          4021.365127533383,
          2358.9966846016905,
          -279.19659996795235,
          -6489.8415047296
         ],
         "yaxis": "y"
        },
        {
         "alignmentgroup": "True",
         "hovertemplate": "RealWageBand=[3200.0, 6400.0)<br>month=%{x}<br>FTE=%{y}<extra></extra>",
         "legendgroup": "[3200.0, 6400.0)",
         "marker": {
          "color": "#CD5C5C",
          "pattern": {
           "shape": ""
          }
         },
         "name": "[3200.0, 6400.0)",
         "offsetgroup": "[3200.0, 6400.0)",
         "orientation": "v",
         "showlegend": true,
         "textposition": "auto",
         "type": "bar",
         "x": [
          "2019-03-01",
          "2019-04-01",
          "2019-05-01",
          "2019-06-01",
          "2019-07-01",
          "2019-08-01",
          "2019-09-01",
          "2019-10-01",
          "2019-11-01",
          "2019-12-01",
          "2020-01-01",
          "2020-02-01",
          "2020-03-01",
          "2020-04-01",
          "2020-05-01",
          "2020-06-01",
          "2020-07-01",
          "2020-08-01",
          "2020-09-01",
          "2020-10-01",
          "2020-11-01",
          "2020-12-01",
          "2021-01-01",
          "2021-02-01",
          "2021-03-01",
          "2021-04-01",
          "2021-05-01",
          "2021-06-01",
          "2021-07-01",
          "2021-08-01",
          "2021-09-01",
          "2021-10-01",
          "2021-11-01",
          "2021-12-01",
          "2022-01-01",
          "2022-02-01"
         ],
         "xaxis": "x",
         "y": [
          4795.991700559913,
          9716.392021545034,
          5722.108920634957,
          3352.908461245359,
          -1685.1999915949418,
          3339.7257404314005,
          3907.4470926758368,
          4709.652589556528,
          8189.536188159196,
          5539.11333663587,
          -8921.7270447638,
          -28251.86562127387,
          5796.23852696392,
          -2616.642031589814,
          -2510.232941665745,
          971.3702325066552,
          -1362.8858154264162,
          1852.092943059979,
          1281.5039461613633,
          4281.727645403822,
          10033.50080066803,
          11545.777787143772,
          -7275.491556800727,
          -28027.4048224368,
          -15611.938905906049,
          6046.504046492337,
          4050.2396296459483,
          5001.250680266763,
          868.9381311371108,
          2835.418132455088,
          3871.3838146221824,
          6279.619538320287,
          15315.299670037639,
          6150.112140774552,
          -10667.158078122011,
          -18296.387898453337
         ],
         "yaxis": "y"
        },
        {
         "alignmentgroup": "True",
         "hovertemplate": "RealWageBand=[6400.0, 12800.0)<br>month=%{x}<br>FTE=%{y}<extra></extra>",
         "legendgroup": "[6400.0, 12800.0)",
         "marker": {
          "color": "#9ACD32",
          "pattern": {
           "shape": ""
          }
         },
         "name": "[6400.0, 12800.0)",
         "offsetgroup": "[6400.0, 12800.0)",
         "orientation": "v",
         "showlegend": true,
         "textposition": "auto",
         "type": "bar",
         "x": [
          "2019-03-01",
          "2019-04-01",
          "2019-05-01",
          "2019-06-01",
          "2019-07-01",
          "2019-08-01",
          "2019-09-01",
          "2019-10-01",
          "2019-11-01",
          "2019-12-01",
          "2020-01-01",
          "2020-02-01",
          "2020-03-01",
          "2020-04-01",
          "2020-05-01",
          "2020-06-01",
          "2020-07-01",
          "2020-08-01",
          "2020-09-01",
          "2020-10-01",
          "2020-11-01",
          "2020-12-01",
          "2021-01-01",
          "2021-02-01",
          "2021-03-01",
          "2021-04-01",
          "2021-05-01",
          "2021-06-01",
          "2021-07-01",
          "2021-08-01",
          "2021-09-01",
          "2021-10-01",
          "2021-11-01",
          "2021-12-01",
          "2022-01-01",
          "2022-02-01"
         ],
         "xaxis": "x",
         "y": [
          18899.367362646328,
          1104.957672196906,
          59.51527970045572,
          491.60320380009944,
          -590.1845918276231,
          475.86368744057836,
          1352.4482463609893,
          1830.345000586065,
          1762.5061236785841,
          -3049.202855437994,
          -3889.1705528962193,
          -7334.51308461203,
          -25188.03051918093,
          -4899.044695132412,
          -1225.0476051432197,
          553.7340551086236,
          60.06117501418339,
          756.8765121996985,
          2007.0894459736883,
          2197.089605902089,
          3080.5426175618777,
          -482.57642201537965,
          -2041.047577264777,
          -4344.875403103244,
          16237.152830042178,
          754.1550623702933,
          511.4586800505058,
          652.6761197823798,
          -261.57998869754374,
          1180.9239755732124,
          2058.2157109919353,
          2294.2495732758543,
          2058.5249597415095,
          -1511.8577662412426,
          -2530.4779474590323,
          -10070.086425030779
         ],
         "yaxis": "y"
        },
        {
         "alignmentgroup": "True",
         "hovertemplate": "RealWageBand=[12800.0, 25600.0)<br>month=%{x}<br>FTE=%{y}<extra></extra>",
         "legendgroup": "[12800.0, 25600.0)",
         "marker": {
          "color": "#7CFC00",
          "pattern": {
           "shape": ""
          }
         },
         "name": "[12800.0, 25600.0)",
         "offsetgroup": "[12800.0, 25600.0)",
         "orientation": "v",
         "showlegend": true,
         "textposition": "auto",
         "type": "bar",
         "x": [
          "2019-03-01",
          "2019-04-01",
          "2019-05-01",
          "2019-06-01",
          "2019-07-01",
          "2019-08-01",
          "2019-09-01",
          "2019-10-01",
          "2019-11-01",
          "2019-12-01",
          "2020-01-01",
          "2020-02-01",
          "2020-03-01",
          "2020-04-01",
          "2020-05-01",
          "2020-06-01",
          "2020-07-01",
          "2020-08-01",
          "2020-09-01",
          "2020-10-01",
          "2020-11-01",
          "2020-12-01",
          "2021-01-01",
          "2021-02-01",
          "2021-03-01",
          "2021-04-01",
          "2021-05-01",
          "2021-06-01",
          "2021-07-01",
          "2021-08-01",
          "2021-09-01",
          "2021-10-01",
          "2021-11-01",
          "2021-12-01",
          "2022-01-01",
          "2022-02-01"
         ],
         "xaxis": "x",
         "y": [
          7987.286887738534,
          8.719037882081466,
          -779.1004210429383,
          124.2319456031255,
          383.8604268611525,
          48.469869326101616,
          347.06317191247945,
          218.41830789897358,
          218.0401085295016,
          -1723.1702472116158,
          -801.0242469241493,
          -384.4251923627744,
          -20417.13147406961,
          -2936.706444789277,
          -1091.8950666940073,
          -107.62083850344061,
          -366.873244093993,
          -47.66109567062813,
          574.067815965187,
          472.2231853688427,
          763.8253420793626,
          -341.8460835989972,
          113.09950602360186,
          1515.1916219833365,
          11489.717486470036,
          -134.88185792800505,
          251.76371925289277,
          495.1557215270295,
          506.9664460812928,
          351.7651807819493,
          374.85738140917965,
          506.29735247281496,
          709.3098940941854,
          -936.3331632610643,
          593.450023107056,
          -1708.6747525356477
         ],
         "yaxis": "y"
        },
        {
         "alignmentgroup": "True",
         "hovertemplate": "RealWageBand=[25600.0, 51200.0)<br>month=%{x}<br>FTE=%{y}<extra></extra>",
         "legendgroup": "[25600.0, 51200.0)",
         "marker": {
          "color": "#32CD32",
          "pattern": {
           "shape": ""
          }
         },
         "name": "[25600.0, 51200.0)",
         "offsetgroup": "[25600.0, 51200.0)",
         "orientation": "v",
         "showlegend": true,
         "textposition": "auto",
         "type": "bar",
         "x": [
          "2019-03-01",
          "2019-04-01",
          "2019-05-01",
          "2019-06-01",
          "2019-07-01",
          "2019-08-01",
          "2019-09-01",
          "2019-10-01",
          "2019-11-01",
          "2019-12-01",
          "2020-01-01",
          "2020-02-01",
          "2020-03-01",
          "2020-04-01",
          "2020-05-01",
          "2020-06-01",
          "2020-07-01",
          "2020-08-01",
          "2020-09-01",
          "2020-10-01",
          "2020-11-01",
          "2020-12-01",
          "2021-01-01",
          "2021-02-01",
          "2021-03-01",
          "2021-04-01",
          "2021-05-01",
          "2021-06-01",
          "2021-07-01",
          "2021-08-01",
          "2021-09-01",
          "2021-10-01",
          "2021-11-01",
          "2021-12-01",
          "2022-01-01",
          "2022-02-01"
         ],
         "xaxis": "x",
         "y": [
          13922.424345936946,
          -280.8591513199208,
          -367.6696636984707,
          -277.2342810048722,
          -28.543537430203287,
          139.46896681271028,
          -72.59597886959091,
          -311.3723642730329,
          -187.2853539948992,
          -1091.44611070698,
          -1309.8672273335687,
          389.60644240217516,
          -8034.959113905468,
          -2415.6445885804133,
          -325.9738475254271,
          -45.544305974734016,
          -30.398893345991382,
          -183.56897658589878,
          224.89598183546332,
          -262.9245326385717,
          21.658895702508744,
          -567.2726458878024,
          -1178.5373763092794,
          703.6322803015064,
          11365.626298703544,
          -297.3303345218883,
          175.79920183852664,
          157.4951693007897,
          -207.1547680485819,
          144.8999473641452,
          89.7827328859421,
          -158.54652421327773,
          -19.833182976493845,
          -777.1238256399811,
          -359.13603337149834,
          -439.7547768765653
         ],
         "yaxis": "y"
        },
        {
         "alignmentgroup": "True",
         "hovertemplate": "RealWageBand=[51200.0, 102400.0)<br>month=%{x}<br>FTE=%{y}<extra></extra>",
         "legendgroup": "[51200.0, 102400.0)",
         "marker": {
          "color": "#228B22",
          "pattern": {
           "shape": ""
          }
         },
         "name": "[51200.0, 102400.0)",
         "offsetgroup": "[51200.0, 102400.0)",
         "orientation": "v",
         "showlegend": true,
         "textposition": "auto",
         "type": "bar",
         "x": [
          "2019-03-01",
          "2019-04-01",
          "2019-05-01",
          "2019-06-01",
          "2019-07-01",
          "2019-08-01",
          "2019-09-01",
          "2019-10-01",
          "2019-11-01",
          "2019-12-01",
          "2020-01-01",
          "2020-02-01",
          "2020-03-01",
          "2020-04-01",
          "2020-05-01",
          "2020-06-01",
          "2020-07-01",
          "2020-08-01",
          "2020-09-01",
          "2020-10-01",
          "2020-11-01",
          "2020-12-01",
          "2021-01-01",
          "2021-02-01",
          "2021-03-01",
          "2021-04-01",
          "2021-05-01",
          "2021-06-01",
          "2021-07-01",
          "2021-08-01",
          "2021-09-01",
          "2021-10-01",
          "2021-11-01",
          "2021-12-01",
          "2022-01-01",
          "2022-02-01"
         ],
         "xaxis": "x",
         "y": [
          9643.3927806961,
          -688.2840219354694,
          -305.97598152687715,
          -162.47986184545152,
          -232.40479467477417,
          -134.44093359005637,
          -82.84838963470247,
          -97.30424127788865,
          -145.6950878383359,
          -416.62035586632555,
          -449.99450258175784,
          17.023724563317955,
          -1573.1597785516933,
          -1179.9525796191592,
          -338.53494062973186,
          -199.099487591433,
          -175.79512204807543,
          -227.77697264576273,
          -124.19882776893792,
          -142.38592985938885,
          -98.32838846051891,
          -166.91014166698733,
          -462.40484949579695,
          169.85241940853302,
          6531.566407890859,
          -636.90493367608,
          -235.70523730132845,
          -83.51017958005832,
          -166.6208506734838,
          -11.413740327756386,
          -88.14988676752546,
          -100.03489681139763,
          -4.486955939792097,
          -250.69516847093473,
          -315.0956956097507,
          78.92548315395834
         ],
         "yaxis": "y"
        },
        {
         "alignmentgroup": "True",
         "hovertemplate": "RealWageBand=[102400.0, 204800.0)<br>month=%{x}<br>FTE=%{y}<extra></extra>",
         "legendgroup": "[102400.0, 204800.0)",
         "marker": {
          "color": "#008000",
          "pattern": {
           "shape": ""
          }
         },
         "name": "[102400.0, 204800.0)",
         "offsetgroup": "[102400.0, 204800.0)",
         "orientation": "v",
         "showlegend": true,
         "textposition": "auto",
         "type": "bar",
         "x": [
          "2019-03-01",
          "2019-04-01",
          "2019-05-01",
          "2019-06-01",
          "2019-07-01",
          "2019-08-01",
          "2019-09-01",
          "2019-10-01",
          "2019-11-01",
          "2019-12-01",
          "2020-01-01",
          "2020-02-01",
          "2020-03-01",
          "2020-04-01",
          "2020-05-01",
          "2020-06-01",
          "2020-07-01",
          "2020-08-01",
          "2020-09-01",
          "2020-10-01",
          "2020-11-01",
          "2020-12-01",
          "2021-01-01",
          "2021-02-01",
          "2021-03-01",
          "2021-04-01",
          "2021-05-01",
          "2021-06-01",
          "2021-07-01",
          "2021-08-01",
          "2021-09-01",
          "2021-10-01",
          "2021-11-01",
          "2021-12-01",
          "2022-01-01",
          "2022-02-01"
         ],
         "xaxis": "x",
         "y": [
          4069.3938156941695,
          -368.5537767568676,
          -252.5774322014695,
          -134.63256976658886,
          -187.0230004914556,
          -67.02065032599057,
          -75.4430230397229,
          -52.51449112051705,
          -33.6215522354687,
          -60.56854856884456,
          -135.47917509344552,
          -8.738269196903275,
          -27.318631214053312,
          -544.4186737609525,
          -141.21320269681746,
          -75.31618517920288,
          -70.53167225345533,
          -75.98981997253213,
          -35.64109839876255,
          -85.47709919987028,
          -15.834095267400699,
          -43.14332778878088,
          -154.72248570196462,
          23.602123794495128,
          2236.9542039656626,
          -401.7633945476482,
          -178.62192335943473,
          -68.47246939622346,
          -109.3238633690853,
          -62.343092935010645,
          -5.555325843950413,
          -62.73329585276588,
          -19.360935507931572,
          -45.91752953512332,
          -95.22170271845607,
          39.236582747180364
         ],
         "yaxis": "y"
        },
        {
         "alignmentgroup": "True",
         "hovertemplate": "RealWageBand=[204800.0, 409600.0)<br>month=%{x}<br>FTE=%{y}<extra></extra>",
         "legendgroup": "[204800.0, 409600.0)",
         "marker": {
          "color": "#0000CD",
          "pattern": {
           "shape": ""
          }
         },
         "name": "[204800.0, 409600.0)",
         "offsetgroup": "[204800.0, 409600.0)",
         "orientation": "v",
         "showlegend": true,
         "textposition": "auto",
         "type": "bar",
         "x": [
          "2019-03-01",
          "2019-04-01",
          "2019-05-01",
          "2019-06-01",
          "2019-07-01",
          "2019-08-01",
          "2019-09-01",
          "2019-10-01",
          "2019-11-01",
          "2019-12-01",
          "2020-01-01",
          "2020-02-01",
          "2020-03-01",
          "2020-04-01",
          "2020-05-01",
          "2020-06-01",
          "2020-07-01",
          "2020-08-01",
          "2020-09-01",
          "2020-10-01",
          "2020-11-01",
          "2020-12-01",
          "2021-01-01",
          "2021-02-01",
          "2021-03-01",
          "2021-04-01",
          "2021-05-01",
          "2021-06-01",
          "2021-07-01",
          "2021-08-01",
          "2021-09-01",
          "2021-10-01",
          "2021-11-01",
          "2021-12-01",
          "2022-01-01",
          "2022-02-01"
         ],
         "xaxis": "x",
         "y": [
          973.6978109374054,
          -152.85135881983342,
          -70.16548022078359,
          -40.733131586846866,
          -62.386938636019295,
          -24.37752102582499,
          -26.98237643376342,
          -4.386026141766251,
          -25.00602195133024,
          -11.156045897887452,
          -36.6651561169042,
          12.447812664749108,
          47.92078779694839,
          -226.1068545547223,
          -47.2483862799545,
          -22.506665972627616,
          -8.242967217862315,
          -22.059386303777956,
          -13.823282098776417,
          -6.813524725938805,
          -14.65569074095174,
          -1.1674099178521828,
          -31.81815197719834,
          35.97334017763205,
          689.4945053250221,
          -199.85822368409663,
          -46.8230920753972,
          -26.889049462010917,
          -51.96350409083698,
          -7.27327473899777,
          -1.119075304472517,
          -3.3191803186086872,
          0.9066466524864154,
          -4.007526753552611,
          -25.144986222779153,
          28.442239093306398
         ],
         "yaxis": "y"
        },
        {
         "alignmentgroup": "True",
         "hovertemplate": "RealWageBand=[409600.0, 819200.0)<br>month=%{x}<br>FTE=%{y}<extra></extra>",
         "legendgroup": "[409600.0, 819200.0)",
         "marker": {
          "color": "#000080",
          "pattern": {
           "shape": ""
          }
         },
         "name": "[409600.0, 819200.0)",
         "offsetgroup": "[409600.0, 819200.0)",
         "orientation": "v",
         "showlegend": true,
         "textposition": "auto",
         "type": "bar",
         "x": [
          "2019-03-01",
          "2019-04-01",
          "2019-05-01",
          "2019-06-01",
          "2019-07-01",
          "2019-08-01",
          "2019-09-01",
          "2019-10-01",
          "2019-11-01",
          "2019-12-01",
          "2020-01-01",
          "2020-02-01",
          "2020-03-01",
          "2020-04-01",
          "2020-05-01",
          "2020-06-01",
          "2020-07-01",
          "2020-08-01",
          "2020-09-01",
          "2020-10-01",
          "2020-11-01",
          "2020-12-01",
          "2021-01-01",
          "2021-02-01",
          "2021-03-01",
          "2021-04-01",
          "2021-05-01",
          "2021-06-01",
          "2021-07-01",
          "2021-08-01",
          "2021-09-01",
          "2021-10-01",
          "2021-11-01",
          "2021-12-01",
          "2022-01-01",
          "2022-02-01"
         ],
         "xaxis": "x",
         "y": [
          241.59142450415413,
          -68.77044507292976,
          -17.369881573124417,
          -16.765651465736596,
          -11.520645015986702,
          -4.485536181337693,
          -4.467368352210428,
          -4.472286080610843,
          -9.716087338783495,
          -0.2806408021485822,
          -8.386492752087179,
          28.272445231399388,
          -5.456857232004154,
          -67.15709822448434,
          -11.07385932884165,
          -8.990807134160491,
          -6.534709073198087,
          -14.793401028063386,
          3.622658355212252,
          2.189599956417055,
          2.515548668249494,
          -1.1405799324619466,
          -6.549823725677129,
          14.417872716783336,
          145.9524007822531,
          -58.15125457350223,
          -12.955199539986097,
          -4.767078551283248,
          -4.357474634920095,
          -0.5739404377868595,
          -2.8683789409755036,
          -1.8718988571584987,
          4.221600948819287,
          3.1999795415323433,
          -1.1614433601066594,
          34.3647067120678
         ],
         "yaxis": "y"
        },
        {
         "alignmentgroup": "True",
         "hovertemplate": "RealWageBand=[819200.0, 1638400.0)<br>month=%{x}<br>FTE=%{y}<extra></extra>",
         "legendgroup": "[819200.0, 1638400.0)",
         "marker": {
          "color": "#191970",
          "pattern": {
           "shape": ""
          }
         },
         "name": "[819200.0, 1638400.0)",
         "offsetgroup": "[819200.0, 1638400.0)",
         "orientation": "v",
         "showlegend": true,
         "textposition": "auto",
         "type": "bar",
         "x": [
          "2019-03-01",
          "2019-04-01",
          "2019-05-01",
          "2019-06-01",
          "2019-07-01",
          "2019-08-01",
          "2019-09-01",
          "2019-10-01",
          "2019-11-01",
          "2019-12-01",
          "2020-01-01",
          "2020-02-01",
          "2020-03-01",
          "2020-04-01",
          "2020-05-01",
          "2020-06-01",
          "2020-07-01",
          "2020-08-01",
          "2020-09-01",
          "2020-10-01",
          "2020-11-01",
          "2020-12-01",
          "2021-01-01",
          "2021-02-01",
          "2021-03-01",
          "2021-04-01",
          "2021-05-01",
          "2021-06-01",
          "2021-07-01",
          "2021-08-01",
          "2021-09-01",
          "2021-10-01",
          "2021-11-01",
          "2021-12-01",
          "2022-01-01",
          "2022-02-01"
         ],
         "xaxis": "x",
         "y": [
          25.104945932252377,
          -20.305578287078845,
          -4.9917567755987875,
          -4.6743229929664665,
          -0.5551075912755437,
          -1.5659854697904052,
          1.063394511401384,
          3.445757628599722,
          -4.775025364323994,
          2.947928391984334,
          1.5159592217302134,
          8.795129417732397,
          18.68588078974136,
          -21.660567022518762,
          -3.4526881720431106,
          -5.313978494623456,
          -3.411470860723,
          -6.044265121179308,
          0.9238708224372374,
          -1.3109675966307748,
          -5.222365736702585,
          2.034727076043282,
          0.323118172484385,
          17.77765952268203,
          23.585785691543435,
          -19.837613878033977,
          -5.293090816619326,
          -0.04110287707248972,
          -9.745470653243984,
          0.5167853782047587,
          0.794910045761128,
          0.21279501915827836,
          0.981182458332114,
          1.5681724789249643,
          0.8709677419354875,
          13.250871531570908
         ],
         "yaxis": "y"
        },
        {
         "alignmentgroup": "True",
         "hovertemplate": "RealWageBand=[1638400.0, 10000000.0)<br>month=%{x}<br>FTE=%{y}<extra></extra>",
         "legendgroup": "[1638400.0, 10000000.0)",
         "marker": {
          "color": "#000000",
          "pattern": {
           "shape": ""
          }
         },
         "name": "[1638400.0, 10000000.0)",
         "offsetgroup": "[1638400.0, 10000000.0)",
         "orientation": "v",
         "showlegend": true,
         "textposition": "auto",
         "type": "bar",
         "x": [
          "2019-03-01",
          "2019-04-01",
          "2019-05-01",
          "2019-06-01",
          "2019-07-01",
          "2019-08-01",
          "2019-09-01",
          "2019-10-01",
          "2019-11-01",
          "2019-12-01",
          "2020-01-01",
          "2020-02-01",
          "2020-03-01",
          "2020-04-01",
          "2020-05-01",
          "2020-06-01",
          "2020-07-01",
          "2020-08-01",
          "2020-09-01",
          "2020-10-01",
          "2020-11-01",
          "2020-12-01",
          "2021-01-01",
          "2021-02-01",
          "2021-03-01",
          "2021-04-01",
          "2021-05-01",
          "2021-06-01",
          "2021-07-01",
          "2021-08-01",
          "2021-09-01",
          "2021-10-01",
          "2021-11-01",
          "2021-12-01",
          "2022-01-01",
          "2022-02-01"
         ],
         "xaxis": "x",
         "y": [
          -4.8493444330309075,
          -20.10529034053762,
          -1.5039282820900048,
          -3.7900325581791563,
          -0.2722579192113841,
          1.1935483870967722,
          -1.925592269677999,
          -0.8205062481857901,
          -1.2085252833549305,
          4.147339581516913,
          2.7427680906695535,
          26.840488074190876,
          -14.70903940694835,
          -15.156357846630765,
          -0.016279260272693108,
          -0.8503874063939669,
          0.5967741935483879,
          1.0645161290322598,
          -1.077953669596937,
          1.3360181857259725,
          -1.9210755594267148,
          0.6630110432976863,
          -0.2858435087838238,
          23.01157557406591,
          5.010805502066475,
          -11.299382693081157,
          -1.7605099190679283,
          1.227176585734611,
          -1.5161290322580996,
          -0.5161290322580641,
          -3.7036563498927535,
          0.5687958442382808,
          1.2644080445157542,
          0.09625891275164378,
          0.6104054054107451,
          18.59131024595009
         ],
         "yaxis": "y"
        }
       ],
       "layout": {
        "barmode": "relative",
        "legend": {
         "title": {
          "text": "RealWageBand"
         },
         "tracegroupgap": 0
        },
        "margin": {
         "t": 60
        },
        "template": {
         "data": {
          "bar": [
           {
            "error_x": {
             "color": "#2a3f5f"
            },
            "error_y": {
             "color": "#2a3f5f"
            },
            "marker": {
             "line": {
              "color": "#E5ECF6",
              "width": 0.5
             },
             "pattern": {
              "fillmode": "overlay",
              "size": 10,
              "solidity": 0.2
             }
            },
            "type": "bar"
           }
          ],
          "barpolar": [
           {
            "marker": {
             "line": {
              "color": "#E5ECF6",
              "width": 0.5
             },
             "pattern": {
              "fillmode": "overlay",
              "size": 10,
              "solidity": 0.2
             }
            },
            "type": "barpolar"
           }
          ],
          "carpet": [
           {
            "aaxis": {
             "endlinecolor": "#2a3f5f",
             "gridcolor": "white",
             "linecolor": "white",
             "minorgridcolor": "white",
             "startlinecolor": "#2a3f5f"
            },
            "baxis": {
             "endlinecolor": "#2a3f5f",
             "gridcolor": "white",
             "linecolor": "white",
             "minorgridcolor": "white",
             "startlinecolor": "#2a3f5f"
            },
            "type": "carpet"
           }
          ],
          "choropleth": [
           {
            "colorbar": {
             "outlinewidth": 0,
             "ticks": ""
            },
            "type": "choropleth"
           }
          ],
          "contour": [
           {
            "colorbar": {
             "outlinewidth": 0,
             "ticks": ""
            },
            "colorscale": [
             [
              0,
              "#0d0887"
             ],
             [
              0.1111111111111111,
              "#46039f"
             ],
             [
              0.2222222222222222,
              "#7201a8"
             ],
             [
              0.3333333333333333,
              "#9c179e"
             ],
             [
              0.4444444444444444,
              "#bd3786"
             ],
             [
              0.5555555555555556,
              "#d8576b"
             ],
             [
              0.6666666666666666,
              "#ed7953"
             ],
             [
              0.7777777777777778,
              "#fb9f3a"
             ],
             [
              0.8888888888888888,
              "#fdca26"
             ],
             [
              1,
              "#f0f921"
             ]
            ],
            "type": "contour"
           }
          ],
          "contourcarpet": [
           {
            "colorbar": {
             "outlinewidth": 0,
             "ticks": ""
            },
            "type": "contourcarpet"
           }
          ],
          "heatmap": [
           {
            "colorbar": {
             "outlinewidth": 0,
             "ticks": ""
            },
            "colorscale": [
             [
              0,
              "#0d0887"
             ],
             [
              0.1111111111111111,
              "#46039f"
             ],
             [
              0.2222222222222222,
              "#7201a8"
             ],
             [
              0.3333333333333333,
              "#9c179e"
             ],
             [
              0.4444444444444444,
              "#bd3786"
             ],
             [
              0.5555555555555556,
              "#d8576b"
             ],
             [
              0.6666666666666666,
              "#ed7953"
             ],
             [
              0.7777777777777778,
              "#fb9f3a"
             ],
             [
              0.8888888888888888,
              "#fdca26"
             ],
             [
              1,
              "#f0f921"
             ]
            ],
            "type": "heatmap"
           }
          ],
          "heatmapgl": [
           {
            "colorbar": {
             "outlinewidth": 0,
             "ticks": ""
            },
            "colorscale": [
             [
              0,
              "#0d0887"
             ],
             [
              0.1111111111111111,
              "#46039f"
             ],
             [
              0.2222222222222222,
              "#7201a8"
             ],
             [
              0.3333333333333333,
              "#9c179e"
             ],
             [
              0.4444444444444444,
              "#bd3786"
             ],
             [
              0.5555555555555556,
              "#d8576b"
             ],
             [
              0.6666666666666666,
              "#ed7953"
             ],
             [
              0.7777777777777778,
              "#fb9f3a"
             ],
             [
              0.8888888888888888,
              "#fdca26"
             ],
             [
              1,
              "#f0f921"
             ]
            ],
            "type": "heatmapgl"
           }
          ],
          "histogram": [
           {
            "marker": {
             "pattern": {
              "fillmode": "overlay",
              "size": 10,
              "solidity": 0.2
             }
            },
            "type": "histogram"
           }
          ],
          "histogram2d": [
           {
            "colorbar": {
             "outlinewidth": 0,
             "ticks": ""
            },
            "colorscale": [
             [
              0,
              "#0d0887"
             ],
             [
              0.1111111111111111,
              "#46039f"
             ],
             [
              0.2222222222222222,
              "#7201a8"
             ],
             [
              0.3333333333333333,
              "#9c179e"
             ],
             [
              0.4444444444444444,
              "#bd3786"
             ],
             [
              0.5555555555555556,
              "#d8576b"
             ],
             [
              0.6666666666666666,
              "#ed7953"
             ],
             [
              0.7777777777777778,
              "#fb9f3a"
             ],
             [
              0.8888888888888888,
              "#fdca26"
             ],
             [
              1,
              "#f0f921"
             ]
            ],
            "type": "histogram2d"
           }
          ],
          "histogram2dcontour": [
           {
            "colorbar": {
             "outlinewidth": 0,
             "ticks": ""
            },
            "colorscale": [
             [
              0,
              "#0d0887"
             ],
             [
              0.1111111111111111,
              "#46039f"
             ],
             [
              0.2222222222222222,
              "#7201a8"
             ],
             [
              0.3333333333333333,
              "#9c179e"
             ],
             [
              0.4444444444444444,
              "#bd3786"
             ],
             [
              0.5555555555555556,
              "#d8576b"
             ],
             [
              0.6666666666666666,
              "#ed7953"
             ],
             [
              0.7777777777777778,
              "#fb9f3a"
             ],
             [
              0.8888888888888888,
              "#fdca26"
             ],
             [
              1,
              "#f0f921"
             ]
            ],
            "type": "histogram2dcontour"
           }
          ],
          "mesh3d": [
           {
            "colorbar": {
             "outlinewidth": 0,
             "ticks": ""
            },
            "type": "mesh3d"
           }
          ],
          "parcoords": [
           {
            "line": {
             "colorbar": {
              "outlinewidth": 0,
              "ticks": ""
             }
            },
            "type": "parcoords"
           }
          ],
          "pie": [
           {
            "automargin": true,
            "type": "pie"
           }
          ],
          "scatter": [
           {
            "fillpattern": {
             "fillmode": "overlay",
             "size": 10,
             "solidity": 0.2
            },
            "type": "scatter"
           }
          ],
          "scatter3d": [
           {
            "line": {
             "colorbar": {
              "outlinewidth": 0,
              "ticks": ""
             }
            },
            "marker": {
             "colorbar": {
              "outlinewidth": 0,
              "ticks": ""
             }
            },
            "type": "scatter3d"
           }
          ],
          "scattercarpet": [
           {
            "marker": {
             "colorbar": {
              "outlinewidth": 0,
              "ticks": ""
             }
            },
            "type": "scattercarpet"
           }
          ],
          "scattergeo": [
           {
            "marker": {
             "colorbar": {
              "outlinewidth": 0,
              "ticks": ""
             }
            },
            "type": "scattergeo"
           }
          ],
          "scattergl": [
           {
            "marker": {
             "colorbar": {
              "outlinewidth": 0,
              "ticks": ""
             }
            },
            "type": "scattergl"
           }
          ],
          "scattermapbox": [
           {
            "marker": {
             "colorbar": {
              "outlinewidth": 0,
              "ticks": ""
             }
            },
            "type": "scattermapbox"
           }
          ],
          "scatterpolar": [
           {
            "marker": {
             "colorbar": {
              "outlinewidth": 0,
              "ticks": ""
             }
            },
            "type": "scatterpolar"
           }
          ],
          "scatterpolargl": [
           {
            "marker": {
             "colorbar": {
              "outlinewidth": 0,
              "ticks": ""
             }
            },
            "type": "scatterpolargl"
           }
          ],
          "scatterternary": [
           {
            "marker": {
             "colorbar": {
              "outlinewidth": 0,
              "ticks": ""
             }
            },
            "type": "scatterternary"
           }
          ],
          "surface": [
           {
            "colorbar": {
             "outlinewidth": 0,
             "ticks": ""
            },
            "colorscale": [
             [
              0,
              "#0d0887"
             ],
             [
              0.1111111111111111,
              "#46039f"
             ],
             [
              0.2222222222222222,
              "#7201a8"
             ],
             [
              0.3333333333333333,
              "#9c179e"
             ],
             [
              0.4444444444444444,
              "#bd3786"
             ],
             [
              0.5555555555555556,
              "#d8576b"
             ],
             [
              0.6666666666666666,
              "#ed7953"
             ],
             [
              0.7777777777777778,
              "#fb9f3a"
             ],
             [
              0.8888888888888888,
              "#fdca26"
             ],
             [
              1,
              "#f0f921"
             ]
            ],
            "type": "surface"
           }
          ],
          "table": [
           {
            "cells": {
             "fill": {
              "color": "#EBF0F8"
             },
             "line": {
              "color": "white"
             }
            },
            "header": {
             "fill": {
              "color": "#C8D4E3"
             },
             "line": {
              "color": "white"
             }
            },
            "type": "table"
           }
          ]
         },
         "layout": {
          "annotationdefaults": {
           "arrowcolor": "#2a3f5f",
           "arrowhead": 0,
           "arrowwidth": 1
          },
          "autotypenumbers": "strict",
          "coloraxis": {
           "colorbar": {
            "outlinewidth": 0,
            "ticks": ""
           }
          },
          "colorscale": {
           "diverging": [
            [
             0,
             "#8e0152"
            ],
            [
             0.1,
             "#c51b7d"
            ],
            [
             0.2,
             "#de77ae"
            ],
            [
             0.3,
             "#f1b6da"
            ],
            [
             0.4,
             "#fde0ef"
            ],
            [
             0.5,
             "#f7f7f7"
            ],
            [
             0.6,
             "#e6f5d0"
            ],
            [
             0.7,
             "#b8e186"
            ],
            [
             0.8,
             "#7fbc41"
            ],
            [
             0.9,
             "#4d9221"
            ],
            [
             1,
             "#276419"
            ]
           ],
           "sequential": [
            [
             0,
             "#0d0887"
            ],
            [
             0.1111111111111111,
             "#46039f"
            ],
            [
             0.2222222222222222,
             "#7201a8"
            ],
            [
             0.3333333333333333,
             "#9c179e"
            ],
            [
             0.4444444444444444,
             "#bd3786"
            ],
            [
             0.5555555555555556,
             "#d8576b"
            ],
            [
             0.6666666666666666,
             "#ed7953"
            ],
            [
             0.7777777777777778,
             "#fb9f3a"
            ],
            [
             0.8888888888888888,
             "#fdca26"
            ],
            [
             1,
             "#f0f921"
            ]
           ],
           "sequentialminus": [
            [
             0,
             "#0d0887"
            ],
            [
             0.1111111111111111,
             "#46039f"
            ],
            [
             0.2222222222222222,
             "#7201a8"
            ],
            [
             0.3333333333333333,
             "#9c179e"
            ],
            [
             0.4444444444444444,
             "#bd3786"
            ],
            [
             0.5555555555555556,
             "#d8576b"
            ],
            [
             0.6666666666666666,
             "#ed7953"
            ],
            [
             0.7777777777777778,
             "#fb9f3a"
            ],
            [
             0.8888888888888888,
             "#fdca26"
            ],
            [
             1,
             "#f0f921"
            ]
           ]
          },
          "colorway": [
           "#636efa",
           "#EF553B",
           "#00cc96",
           "#ab63fa",
           "#FFA15A",
           "#19d3f3",
           "#FF6692",
           "#B6E880",
           "#FF97FF",
           "#FECB52"
          ],
          "font": {
           "color": "#2a3f5f"
          },
          "geo": {
           "bgcolor": "white",
           "lakecolor": "white",
           "landcolor": "#E5ECF6",
           "showlakes": true,
           "showland": true,
           "subunitcolor": "white"
          },
          "hoverlabel": {
           "align": "left"
          },
          "hovermode": "closest",
          "mapbox": {
           "style": "light"
          },
          "paper_bgcolor": "white",
          "plot_bgcolor": "#E5ECF6",
          "polar": {
           "angularaxis": {
            "gridcolor": "white",
            "linecolor": "white",
            "ticks": ""
           },
           "bgcolor": "#E5ECF6",
           "radialaxis": {
            "gridcolor": "white",
            "linecolor": "white",
            "ticks": ""
           }
          },
          "scene": {
           "xaxis": {
            "backgroundcolor": "#E5ECF6",
            "gridcolor": "white",
            "gridwidth": 2,
            "linecolor": "white",
            "showbackground": true,
            "ticks": "",
            "zerolinecolor": "white"
           },
           "yaxis": {
            "backgroundcolor": "#E5ECF6",
            "gridcolor": "white",
            "gridwidth": 2,
            "linecolor": "white",
            "showbackground": true,
            "ticks": "",
            "zerolinecolor": "white"
           },
           "zaxis": {
            "backgroundcolor": "#E5ECF6",
            "gridcolor": "white",
            "gridwidth": 2,
            "linecolor": "white",
            "showbackground": true,
            "ticks": "",
            "zerolinecolor": "white"
           }
          },
          "shapedefaults": {
           "line": {
            "color": "#2a3f5f"
           }
          },
          "ternary": {
           "aaxis": {
            "gridcolor": "white",
            "linecolor": "white",
            "ticks": ""
           },
           "baxis": {
            "gridcolor": "white",
            "linecolor": "white",
            "ticks": ""
           },
           "bgcolor": "#E5ECF6",
           "caxis": {
            "gridcolor": "white",
            "linecolor": "white",
            "ticks": ""
           }
          },
          "title": {
           "x": 0.05
          },
          "xaxis": {
           "automargin": true,
           "gridcolor": "white",
           "linecolor": "white",
           "ticks": "",
           "title": {
            "standoff": 15
           },
           "zerolinecolor": "white",
           "zerolinewidth": 2
          },
          "yaxis": {
           "automargin": true,
           "gridcolor": "white",
           "linecolor": "white",
           "ticks": "",
           "title": {
            "standoff": 15
           },
           "zerolinecolor": "white",
           "zerolinewidth": 2
          }
         }
        },
        "xaxis": {
         "anchor": "y",
         "domain": [
          0,
          1
         ],
         "title": {
          "text": "month"
         }
        },
        "yaxis": {
         "anchor": "x",
         "domain": [
          0,
          1
         ],
         "title": {
          "text": "FTE"
         }
        }
       }
      }
     },
     "metadata": {},
     "output_type": "display_data"
    }
   ],
   "source": [
    "from collections import OrderedDict\n",
    "import pandas as pd\n",
    "import plotly.express as px\n",
    "# Assuming you have a DataFrame called df with columns TaxYear, FTE, CAT_B, and RealWageBand\n",
    "df = pd.read_csv('Data/Municipal_FTE_WageBand_Monthly.csv')\n",
    "df.FTE = df.FTE.replace('<10', '0').astype('float')\n",
    "df = df[df.CAT_B == 'CPT']\n",
    "figDf = df.pivot(index='month', columns='RealWageBand', values='FTE').sort_index().diff().stack().reset_index().rename(columns={0: 'FTE change y-o-y'}).dropna()\n",
    "\n",
    "color_shades = OrderedDict({\n",
    "    '[0.0, 400.0)': \"#FFA07A\",       # Light Salmon\n",
    "    '[400.0, 800.0)': \"#FA8072\",     # Salmon\n",
    "    '[800.0, 1600.0)': \"#E9967A\",    # Dark Salmon\n",
    "    '[1600.0, 3200.0)': \"#F08080\",   # Light Coral\n",
    "    '[3200.0, 6400.0)': \"#CD5C5C\",   # Indian Red\n",
    "    '[6400.0, 12800.0)': \"#9ACD32\",  # Yellow Green\n",
    "    '[12800.0, 25600.0)': \"#7CFC00\", # Lawn Green\n",
    "    '[25600.0, 51200.0)': \"#32CD32\", # Lime Green\n",
    "    '[51200.0, 102400.0)': \"#228B22\",# Forest Green\n",
    "    '[102400.0, 204800.0)': \"#008000\",# Green\n",
    "    '[204800.0, 409600.0)': \"#0000CD\",# Medium Blue\n",
    "    '[409600.0, 819200.0)': \"#000080\",# Navy Blue\n",
    "    '[819200.0, 1638400.0)': \"#191970\",# Midnight Blue\n",
    "    '[1638400.0, 10000000.0)': \"#000000\" # Black\n",
    "})\n",
    "\n",
    "\n",
    "fig = px.bar(figDf.sort_values(['month','RealWageBand'])[-14*3*12:],\n",
    "             x=\"month\",\n",
    "             y='FTE change y-o-y',\n",
    "             color=\"RealWageBand\",\n",
    "             color_discrete_map=color_shades,\n",
    "             category_orders={\"RealWageBand\": list(color_shades.keys())}  # Specify the order of categories in the legend\n",
    "             )\n",
    "\n",
    "fig.show()\n",
    "\n"
   ]
  },
  {
   "cell_type": "code",
   "execution_count": 340,
   "metadata": {},
   "outputs": [
    {
     "ename": "KeyError",
     "evalue": "'month'",
     "output_type": "error",
     "traceback": [
      "\u001b[0;31m---------------------------------------------------------------------------\u001b[0m",
      "\u001b[0;31mKeyError\u001b[0m                                  Traceback (most recent call last)",
      "File \u001b[0;32m~/opt/anaconda3/envs/py3912/lib/python3.9/site-packages/pandas/core/indexes/base.py:3803\u001b[0m, in \u001b[0;36mIndex.get_loc\u001b[0;34m(self, key, method, tolerance)\u001b[0m\n\u001b[1;32m   3802\u001b[0m \u001b[39mtry\u001b[39;00m:\n\u001b[0;32m-> 3803\u001b[0m     \u001b[39mreturn\u001b[39;00m \u001b[39mself\u001b[39;49m\u001b[39m.\u001b[39;49m_engine\u001b[39m.\u001b[39;49mget_loc(casted_key)\n\u001b[1;32m   3804\u001b[0m \u001b[39mexcept\u001b[39;00m \u001b[39mKeyError\u001b[39;00m \u001b[39mas\u001b[39;00m err:\n",
      "File \u001b[0;32m~/opt/anaconda3/envs/py3912/lib/python3.9/site-packages/pandas/_libs/index.pyx:138\u001b[0m, in \u001b[0;36mpandas._libs.index.IndexEngine.get_loc\u001b[0;34m()\u001b[0m\n",
      "File \u001b[0;32m~/opt/anaconda3/envs/py3912/lib/python3.9/site-packages/pandas/_libs/index.pyx:165\u001b[0m, in \u001b[0;36mpandas._libs.index.IndexEngine.get_loc\u001b[0;34m()\u001b[0m\n",
      "File \u001b[0;32mpandas/_libs/hashtable_class_helper.pxi:5745\u001b[0m, in \u001b[0;36mpandas._libs.hashtable.PyObjectHashTable.get_item\u001b[0;34m()\u001b[0m\n",
      "File \u001b[0;32mpandas/_libs/hashtable_class_helper.pxi:5753\u001b[0m, in \u001b[0;36mpandas._libs.hashtable.PyObjectHashTable.get_item\u001b[0;34m()\u001b[0m\n",
      "\u001b[0;31mKeyError\u001b[0m: 'month'",
      "\nThe above exception was the direct cause of the following exception:\n",
      "\u001b[0;31mKeyError\u001b[0m                                  Traceback (most recent call last)",
      "\u001b[1;32m/Users/kris/Desktop/Spatial_Tax_Panel_v3/postCovid.ipynb Cell 37\u001b[0m in \u001b[0;36m3\n\u001b[1;32m     <a href='vscode-notebook-cell:/Users/kris/Desktop/Spatial_Tax_Panel_v3/postCovid.ipynb#X63sZmlsZQ%3D%3D?line=33'>34</a>\u001b[0m fig\u001b[39m.\u001b[39mupdate_layout(title_x\u001b[39m=\u001b[39m\u001b[39m0.5\u001b[39m)\n\u001b[1;32m     <a href='vscode-notebook-cell:/Users/kris/Desktop/Spatial_Tax_Panel_v3/postCovid.ipynb#X63sZmlsZQ%3D%3D?line=34'>35</a>\u001b[0m y0 \u001b[39m=\u001b[39m figDf[figDf[\u001b[39m'\u001b[39m\u001b[39mFTE change y-o-y\u001b[39m\u001b[39m'\u001b[39m] \u001b[39m<\u001b[39m \u001b[39m0\u001b[39m]\n\u001b[0;32m---> <a href='vscode-notebook-cell:/Users/kris/Desktop/Spatial_Tax_Panel_v3/postCovid.ipynb#X63sZmlsZQ%3D%3D?line=35'>36</a>\u001b[0m y0 \u001b[39m=\u001b[39m y0\u001b[39m.\u001b[39mgroupby(figDf[\u001b[39m'\u001b[39;49m\u001b[39mmonth\u001b[39;49m\u001b[39m'\u001b[39;49m])[\u001b[39m'\u001b[39m\u001b[39mFTE change y-o-y\u001b[39m\u001b[39m'\u001b[39m]\u001b[39m.\u001b[39msum()\u001b[39m.\u001b[39mmin() \u001b[39m-\u001b[39m \u001b[39m200\u001b[39m\n\u001b[1;32m     <a href='vscode-notebook-cell:/Users/kris/Desktop/Spatial_Tax_Panel_v3/postCovid.ipynb#X63sZmlsZQ%3D%3D?line=36'>37</a>\u001b[0m fig\u001b[39m.\u001b[39madd_shape(\n\u001b[1;32m     <a href='vscode-notebook-cell:/Users/kris/Desktop/Spatial_Tax_Panel_v3/postCovid.ipynb#X63sZmlsZQ%3D%3D?line=37'>38</a>\u001b[0m     \u001b[39mtype\u001b[39m\u001b[39m=\u001b[39m\u001b[39m'\u001b[39m\u001b[39mrect\u001b[39m\u001b[39m'\u001b[39m,\n\u001b[1;32m     <a href='vscode-notebook-cell:/Users/kris/Desktop/Spatial_Tax_Panel_v3/postCovid.ipynb#X63sZmlsZQ%3D%3D?line=38'>39</a>\u001b[0m     x0\u001b[39m=\u001b[39mfigDf[\u001b[39m'\u001b[39m\u001b[39mmonth\u001b[39m\u001b[39m'\u001b[39m]\u001b[39m.\u001b[39mmin(), x1\u001b[39m=\u001b[39mfigDf[\u001b[39m'\u001b[39m\u001b[39mmonth\u001b[39m\u001b[39m'\u001b[39m]\u001b[39m.\u001b[39mmax(),\n\u001b[0;32m   (...)\u001b[0m\n\u001b[1;32m     <a href='vscode-notebook-cell:/Users/kris/Desktop/Spatial_Tax_Panel_v3/postCovid.ipynb#X63sZmlsZQ%3D%3D?line=43'>44</a>\u001b[0m     layer\u001b[39m=\u001b[39m\u001b[39m'\u001b[39m\u001b[39mbelow\u001b[39m\u001b[39m'\u001b[39m  \u001b[39m# Set the layer to 'below' to place the shape behind the traces\u001b[39;00m\n\u001b[1;32m     <a href='vscode-notebook-cell:/Users/kris/Desktop/Spatial_Tax_Panel_v3/postCovid.ipynb#X63sZmlsZQ%3D%3D?line=44'>45</a>\u001b[0m )\n\u001b[1;32m     <a href='vscode-notebook-cell:/Users/kris/Desktop/Spatial_Tax_Panel_v3/postCovid.ipynb#X63sZmlsZQ%3D%3D?line=46'>47</a>\u001b[0m fig\u001b[39m.\u001b[39mshow()\n",
      "File \u001b[0;32m~/opt/anaconda3/envs/py3912/lib/python3.9/site-packages/pandas/core/frame.py:3804\u001b[0m, in \u001b[0;36mDataFrame.__getitem__\u001b[0;34m(self, key)\u001b[0m\n\u001b[1;32m   3802\u001b[0m \u001b[39mif\u001b[39;00m \u001b[39mself\u001b[39m\u001b[39m.\u001b[39mcolumns\u001b[39m.\u001b[39mnlevels \u001b[39m>\u001b[39m \u001b[39m1\u001b[39m:\n\u001b[1;32m   3803\u001b[0m     \u001b[39mreturn\u001b[39;00m \u001b[39mself\u001b[39m\u001b[39m.\u001b[39m_getitem_multilevel(key)\n\u001b[0;32m-> 3804\u001b[0m indexer \u001b[39m=\u001b[39m \u001b[39mself\u001b[39;49m\u001b[39m.\u001b[39;49mcolumns\u001b[39m.\u001b[39;49mget_loc(key)\n\u001b[1;32m   3805\u001b[0m \u001b[39mif\u001b[39;00m is_integer(indexer):\n\u001b[1;32m   3806\u001b[0m     indexer \u001b[39m=\u001b[39m [indexer]\n",
      "File \u001b[0;32m~/opt/anaconda3/envs/py3912/lib/python3.9/site-packages/pandas/core/indexes/base.py:3805\u001b[0m, in \u001b[0;36mIndex.get_loc\u001b[0;34m(self, key, method, tolerance)\u001b[0m\n\u001b[1;32m   3803\u001b[0m     \u001b[39mreturn\u001b[39;00m \u001b[39mself\u001b[39m\u001b[39m.\u001b[39m_engine\u001b[39m.\u001b[39mget_loc(casted_key)\n\u001b[1;32m   3804\u001b[0m \u001b[39mexcept\u001b[39;00m \u001b[39mKeyError\u001b[39;00m \u001b[39mas\u001b[39;00m err:\n\u001b[0;32m-> 3805\u001b[0m     \u001b[39mraise\u001b[39;00m \u001b[39mKeyError\u001b[39;00m(key) \u001b[39mfrom\u001b[39;00m \u001b[39merr\u001b[39;00m\n\u001b[1;32m   3806\u001b[0m \u001b[39mexcept\u001b[39;00m \u001b[39mTypeError\u001b[39;00m:\n\u001b[1;32m   3807\u001b[0m     \u001b[39m# If we have a listlike key, _check_indexing_error will raise\u001b[39;00m\n\u001b[1;32m   3808\u001b[0m     \u001b[39m#  InvalidIndexError. Otherwise we fall through and re-raise\u001b[39;00m\n\u001b[1;32m   3809\u001b[0m     \u001b[39m#  the TypeError.\u001b[39;00m\n\u001b[1;32m   3810\u001b[0m     \u001b[39mself\u001b[39m\u001b[39m.\u001b[39m_check_indexing_error(key)\n",
      "\u001b[0;31mKeyError\u001b[0m: 'month'"
     ]
    }
   ],
   "source": [
    "df = pd.read_csv('Data/Municipal_FTE_WageBand.csv')\n",
    "df.FTE = df.FTE.replace('<10', '0').astype('float')\n",
    "df = df[df.CAT_B == 'CPT']\n",
    "figDf = df.pivot(index='TaxYear', columns='RealWageBand', values='FTE').sort_index().diff().stack().reset_index().rename(columns={0: 'FTE change y-o-y'}).dropna()\n",
    "\n",
    "color_shades = OrderedDict({\n",
    "    '[0.0, 400.0)': \"#FFA07A\",       # Light Salmon\n",
    "    '[400.0, 800.0)': \"#FA8072\",     # Salmon\n",
    "    '[800.0, 1600.0)': \"#E9967A\",    # Dark Salmon\n",
    "    '[1600.0, 3200.0)': \"#F08080\",   # Light Coral\n",
    "    '[3200.0, 6400.0)': \"#CD5C5C\",   # Indian Red\n",
    "    '[6400.0, 12800.0)': \"#9ACD32\",  # Yellow Green\n",
    "    '[12800.0, 25600.0)': \"#7CFC00\", # Lawn Green\n",
    "    '[25600.0, 51200.0)': \"#32CD32\", # Lime Green\n",
    "    '[51200.0, 102400.0)': \"#228B22\",# Forest Green\n",
    "    '[102400.0, 204800.0)': \"#008000\",# Green\n",
    "    '[204800.0, 409600.0)': \"#0000CD\",# Medium Blue\n",
    "    '[409600.0, 819200.0)': \"#000080\",# Navy Blue\n",
    "    '[819200.0, 1638400.0)': \"#191970\",# Midnight Blue\n",
    "    '[1638400.0, 10000000.0)': \"#000000\" # Black\n",
    "})\n",
    "\n",
    "\n",
    "fig = px.bar(figDf.sort_values(['TaxYear','RealWageBand'])[-14*3*12:],\n",
    "             x=\"TaxYear\",\n",
    "             y='FTE change y-o-y',\n",
    "             color=\"RealWageBand\",\n",
    "             color_discrete_map=color_shades,\n",
    "             title = 'FTE by Wage Band',\n",
    "             category_orders={\"RealWageBand\": list(color_shades.keys())}  # Specify the order of categories in the legend\n",
    "             \n",
    "             )\n",
    "\n",
    "fig.update_layout(title_x=0.5)\n",
    "y0 = figDf[figDf['FTE change y-o-y'] < 0]\n",
    "y0 = y0.groupby(figDf['month'])['FTE change y-o-y'].sum().min() - 200\n",
    "fig.add_shape(\n",
    "    type='rect',\n",
    "    x0=figDf['month'].min(), x1=figDf['month'].max(),\n",
    "    y0=y0, y1=0,\n",
    "    fillcolor='tomato',\n",
    "    opacity=0.2,\n",
    "    line=dict(color='tomato'),\n",
    "    layer='below'  # Set the layer to 'below' to place the shape behind the traces\n",
    ")\n",
    "\n",
    "fig.show()\n",
    "\n"
   ]
  },
  {
   "cell_type": "code",
   "execution_count": 334,
   "metadata": {},
   "outputs": [],
   "source": [
    "fig = px.area(df.dropna().sort_values(['month','RealWageBand'])[-14*3*12:],\n",
    "             x=\"month\",\n",
    "             y=\"FTE\",\n",
    "             color=\"RealWageBand\",\n",
    "             color_discrete_map=color_shades,\n",
    "             category_orders={\"RealWageBand\": list(color_shades.keys())}  # Specify the order of categories in the legend\n",
    "             )"
   ]
  },
  {
   "cell_type": "code",
   "execution_count": 335,
   "metadata": {},
   "outputs": [
    {
     "data": {
      "application/vnd.plotly.v1+json": {
       "config": {
        "plotlyServerURL": "https://plot.ly"
       },
       "data": [
        {
         "fillpattern": {
          "shape": ""
         },
         "hovertemplate": "RealWageBand=[0.0, 400.0)<br>month=%{x}<br>FTE=%{y}<extra></extra>",
         "legendgroup": "[0.0, 400.0)",
         "line": {
          "color": "#FFA07A"
         },
         "marker": {
          "symbol": "circle"
         },
         "mode": "lines",
         "name": "[0.0, 400.0)",
         "orientation": "v",
         "showlegend": true,
         "stackgroup": "1",
         "type": "scatter",
         "x": [
          "2019-03-01",
          "2019-04-01",
          "2019-05-01",
          "2019-06-01",
          "2019-07-01",
          "2019-08-01",
          "2019-09-01",
          "2019-10-01",
          "2019-11-01",
          "2019-12-01",
          "2020-01-01",
          "2020-02-01",
          "2020-03-01",
          "2020-04-01",
          "2020-05-01",
          "2020-06-01",
          "2020-07-01",
          "2020-08-01",
          "2020-09-01",
          "2020-10-01",
          "2020-11-01",
          "2020-12-01",
          "2021-01-01",
          "2021-02-01",
          "2021-03-01",
          "2021-04-01",
          "2021-05-01",
          "2021-06-01",
          "2021-07-01",
          "2021-08-01",
          "2021-09-01",
          "2021-10-01",
          "2021-11-01",
          "2021-12-01",
          "2022-01-01",
          "2022-02-01"
         ],
         "xaxis": "x",
         "y": [
          11449.930088731295,
          11957.184568631652,
          12414.241823591126,
          12967.219084348313,
          13234.630543858426,
          13432.257184607235,
          13488.386756825219,
          13431.187991967176,
          13270.095397695577,
          13140.080074030919,
          12855.799347367376,
          12146.473980150673,
          14543.515867305958,
          14824.459779056187,
          14961.39342479091,
          15149.446767799727,
          15336.741018552118,
          15413.5751325637,
          15377.801934958516,
          15212.051456833742,
          15002.009534989214,
          14722.7156622291,
          14291.048897450488,
          13475.8863077983,
          9941.751219398782,
          10383.349283328625,
          10777.654228007344,
          11159.06548599697,
          11385.743424411014,
          11548.191529959975,
          11521.027571080005,
          11446.268941180846,
          11329.676038508043,
          11138.228979888034,
          10834.348402177779,
          10308.59884991994
         ],
         "yaxis": "y"
        },
        {
         "fillpattern": {
          "shape": ""
         },
         "hovertemplate": "RealWageBand=[400.0, 800.0)<br>month=%{x}<br>FTE=%{y}<extra></extra>",
         "legendgroup": "[400.0, 800.0)",
         "line": {
          "color": "#FA8072"
         },
         "marker": {
          "symbol": "circle"
         },
         "mode": "lines",
         "name": "[400.0, 800.0)",
         "orientation": "v",
         "showlegend": true,
         "stackgroup": "1",
         "type": "scatter",
         "x": [
          "2019-03-01",
          "2019-04-01",
          "2019-05-01",
          "2019-06-01",
          "2019-07-01",
          "2019-08-01",
          "2019-09-01",
          "2019-10-01",
          "2019-11-01",
          "2019-12-01",
          "2020-01-01",
          "2020-02-01",
          "2020-03-01",
          "2020-04-01",
          "2020-05-01",
          "2020-06-01",
          "2020-07-01",
          "2020-08-01",
          "2020-09-01",
          "2020-10-01",
          "2020-11-01",
          "2020-12-01",
          "2021-01-01",
          "2021-02-01",
          "2021-03-01",
          "2021-04-01",
          "2021-05-01",
          "2021-06-01",
          "2021-07-01",
          "2021-08-01",
          "2021-09-01",
          "2021-10-01",
          "2021-11-01",
          "2021-12-01",
          "2022-01-01",
          "2022-02-01"
         ],
         "xaxis": "x",
         "y": [
          15767.527714314625,
          16748.262635046398,
          17615.72468291171,
          18559.67857635766,
          19096.455584071675,
          19460.091035826976,
          19901.892811596143,
          20956.363542147687,
          20983.76838927682,
          20672.964973257564,
          20028.14796922672,
          17906.70507260637,
          24592.638295448072,
          25163.767615705332,
          25427.468344510256,
          25779.801145314566,
          25742.89690033921,
          25576.219367175097,
          25123.77765060769,
          24927.624348608028,
          24886.40124714723,
          24087.9664628631,
          23160.95595650988,
          21369.79710056763,
          14888.288563274304,
          15839.304266747218,
          16752.954798589686,
          17683.300037007495,
          17892.814118625643,
          18092.381056241793,
          17387.87427815861,
          18117.408120315507,
          18209.966527066448,
          17831.27623207609,
          17196.866660829157,
          15367.623288157281
         ],
         "yaxis": "y"
        },
        {
         "fillpattern": {
          "shape": ""
         },
         "hovertemplate": "RealWageBand=[800.0, 1600.0)<br>month=%{x}<br>FTE=%{y}<extra></extra>",
         "legendgroup": "[800.0, 1600.0)",
         "line": {
          "color": "#E9967A"
         },
         "marker": {
          "symbol": "circle"
         },
         "mode": "lines",
         "name": "[800.0, 1600.0)",
         "orientation": "v",
         "showlegend": true,
         "stackgroup": "1",
         "type": "scatter",
         "x": [
          "2019-03-01",
          "2019-04-01",
          "2019-05-01",
          "2019-06-01",
          "2019-07-01",
          "2019-08-01",
          "2019-09-01",
          "2019-10-01",
          "2019-11-01",
          "2019-12-01",
          "2020-01-01",
          "2020-02-01",
          "2020-03-01",
          "2020-04-01",
          "2020-05-01",
          "2020-06-01",
          "2020-07-01",
          "2020-08-01",
          "2020-09-01",
          "2020-10-01",
          "2020-11-01",
          "2020-12-01",
          "2021-01-01",
          "2021-02-01",
          "2021-03-01",
          "2021-04-01",
          "2021-05-01",
          "2021-06-01",
          "2021-07-01",
          "2021-08-01",
          "2021-09-01",
          "2021-10-01",
          "2021-11-01",
          "2021-12-01",
          "2022-01-01",
          "2022-02-01"
         ],
         "xaxis": "x",
         "y": [
          26057.691125983038,
          28145.44241263157,
          29074.03417809485,
          29561.843255307336,
          29715.538867682142,
          30236.311441761587,
          30712.23293932947,
          32513.2150485518,
          33774.020072373656,
          35046.817165660075,
          34273.70521278344,
          29641.033942461792,
          41531.52845606805,
          42418.73920196316,
          42346.46225339011,
          41851.924294485056,
          40645.1204266909,
          39713.68003944675,
          39108.09247585013,
          38968.27033469296,
          40829.10745337431,
          40909.99652508583,
          39461.05285307851,
          35195.352371059445,
          26041.793056833652,
          28201.0524006566,
          29014.21271382461,
          29426.12148937936,
          29398.420648110845,
          29609.394818031447,
          29631.999617697627,
          30353.493021498696,
          31161.08163294396,
          31457.27450686777,
          30639.554421013734,
          27551.12163354859
         ],
         "yaxis": "y"
        },
        {
         "fillpattern": {
          "shape": ""
         },
         "hovertemplate": "RealWageBand=[1600.0, 3200.0)<br>month=%{x}<br>FTE=%{y}<extra></extra>",
         "legendgroup": "[1600.0, 3200.0)",
         "line": {
          "color": "#F08080"
         },
         "marker": {
          "symbol": "circle"
         },
         "mode": "lines",
         "name": "[1600.0, 3200.0)",
         "orientation": "v",
         "showlegend": true,
         "stackgroup": "1",
         "type": "scatter",
         "x": [
          "2019-03-01",
          "2019-04-01",
          "2019-05-01",
          "2019-06-01",
          "2019-07-01",
          "2019-08-01",
          "2019-09-01",
          "2019-10-01",
          "2019-11-01",
          "2019-12-01",
          "2020-01-01",
          "2020-02-01",
          "2020-03-01",
          "2020-04-01",
          "2020-05-01",
          "2020-06-01",
          "2020-07-01",
          "2020-08-01",
          "2020-09-01",
          "2020-10-01",
          "2020-11-01",
          "2020-12-01",
          "2021-01-01",
          "2021-02-01",
          "2021-03-01",
          "2021-04-01",
          "2021-05-01",
          "2021-06-01",
          "2021-07-01",
          "2021-08-01",
          "2021-09-01",
          "2021-10-01",
          "2021-11-01",
          "2021-12-01",
          "2022-01-01",
          "2022-02-01"
         ],
         "xaxis": "x",
         "y": [
          67936.35205073982,
          72620.08108178645,
          73620.3439329756,
          75353.48648604841,
          73512.53376406357,
          74478.97856012484,
          75805.06957913404,
          77592.42483562673,
          81329.72425346992,
          84449.69228191442,
          83613.15726792025,
          75016.41163989711,
          101043.48972984306,
          101420.06392181652,
          99494.97027291606,
          98140.70511143707,
          95526.6642669664,
          94653.86447267205,
          94892.51679525666,
          97804.99824626163,
          102038.78037058454,
          104897.73180548077,
          102890.95338072434,
          92043.62035242723,
          65833.87624595042,
          68788.43294668167,
          70059.9419037566,
          72081.22790253074,
          70947.49004612831,
          72425.21477473206,
          73698.00155608312,
          76001.37294204831,
          80022.7380695817,
          82381.73475418339,
          82102.53815421544,
          75612.69664948584
         ],
         "yaxis": "y"
        },
        {
         "fillpattern": {
          "shape": ""
         },
         "hovertemplate": "RealWageBand=[3200.0, 6400.0)<br>month=%{x}<br>FTE=%{y}<extra></extra>",
         "legendgroup": "[3200.0, 6400.0)",
         "line": {
          "color": "#CD5C5C"
         },
         "marker": {
          "symbol": "circle"
         },
         "mode": "lines",
         "name": "[3200.0, 6400.0)",
         "orientation": "v",
         "showlegend": true,
         "stackgroup": "1",
         "type": "scatter",
         "x": [
          "2019-03-01",
          "2019-04-01",
          "2019-05-01",
          "2019-06-01",
          "2019-07-01",
          "2019-08-01",
          "2019-09-01",
          "2019-10-01",
          "2019-11-01",
          "2019-12-01",
          "2020-01-01",
          "2020-02-01",
          "2020-03-01",
          "2020-04-01",
          "2020-05-01",
          "2020-06-01",
          "2020-07-01",
          "2020-08-01",
          "2020-09-01",
          "2020-10-01",
          "2020-11-01",
          "2020-12-01",
          "2021-01-01",
          "2021-02-01",
          "2021-03-01",
          "2021-04-01",
          "2021-05-01",
          "2021-06-01",
          "2021-07-01",
          "2021-08-01",
          "2021-09-01",
          "2021-10-01",
          "2021-11-01",
          "2021-12-01",
          "2022-01-01",
          "2022-02-01"
         ],
         "xaxis": "x",
         "y": [
          352721.4191652073,
          362437.81118675234,
          368159.9201073873,
          371512.82856863266,
          369827.6285770377,
          373167.3543174691,
          377074.80141014495,
          381784.4539997015,
          389973.9901878607,
          395513.10352449655,
          386591.37647973275,
          358339.5108584589,
          364135.7493854228,
          361519.107353833,
          359008.87441216724,
          359980.2446446739,
          358617.3588292475,
          360469.45177230745,
          361750.9557184688,
          366032.68336387264,
          376066.18416454067,
          387611.96195168444,
          380336.4703948837,
          352309.0655724469,
          336697.12666654086,
          342743.6307130332,
          346793.87034267915,
          351795.1210229459,
          352664.059154083,
          355499.4772865381,
          359370.8611011603,
          365650.4806394806,
          380965.7803095182,
          387115.89245029277,
          376448.73437217076,
          358152.3464737174
         ],
         "yaxis": "y"
        },
        {
         "fillpattern": {
          "shape": ""
         },
         "hovertemplate": "RealWageBand=[6400.0, 12800.0)<br>month=%{x}<br>FTE=%{y}<extra></extra>",
         "legendgroup": "[6400.0, 12800.0)",
         "line": {
          "color": "#9ACD32"
         },
         "marker": {
          "symbol": "circle"
         },
         "mode": "lines",
         "name": "[6400.0, 12800.0)",
         "orientation": "v",
         "showlegend": true,
         "stackgroup": "1",
         "type": "scatter",
         "x": [
          "2019-03-01",
          "2019-04-01",
          "2019-05-01",
          "2019-06-01",
          "2019-07-01",
          "2019-08-01",
          "2019-09-01",
          "2019-10-01",
          "2019-11-01",
          "2019-12-01",
          "2020-01-01",
          "2020-02-01",
          "2020-03-01",
          "2020-04-01",
          "2020-05-01",
          "2020-06-01",
          "2020-07-01",
          "2020-08-01",
          "2020-09-01",
          "2020-10-01",
          "2020-11-01",
          "2020-12-01",
          "2021-01-01",
          "2021-02-01",
          "2021-03-01",
          "2021-04-01",
          "2021-05-01",
          "2021-06-01",
          "2021-07-01",
          "2021-08-01",
          "2021-09-01",
          "2021-10-01",
          "2021-11-01",
          "2021-12-01",
          "2022-01-01",
          "2022-02-01"
         ],
         "xaxis": "x",
         "y": [
          342587.0495639725,
          343692.0072361694,
          343751.5225158699,
          344243.12571967,
          343652.94112784235,
          344128.8048152829,
          345481.2530616439,
          347311.59806223,
          349074.10418590857,
          346024.9013304706,
          342135.73077757435,
          334801.2176929623,
          309613.1871737814,
          304714.142478649,
          303489.09487350576,
          304042.8289286144,
          304102.89010362857,
          304859.76661582827,
          306866.85606180195,
          309063.94566770404,
          312144.4882852659,
          311661.91186325054,
          309620.86428598576,
          305275.9888828825,
          321513.1417129247,
          322267.296775295,
          322778.7554553455,
          323431.4315751279,
          323169.85158643033,
          324350.77556200355,
          326408.9912729955,
          328703.24084627134,
          330761.76580601285,
          329249.9080397716,
          326719.43009231257,
          316649.3436672818
         ],
         "yaxis": "y"
        },
        {
         "fillpattern": {
          "shape": ""
         },
         "hovertemplate": "RealWageBand=[12800.0, 25600.0)<br>month=%{x}<br>FTE=%{y}<extra></extra>",
         "legendgroup": "[12800.0, 25600.0)",
         "line": {
          "color": "#7CFC00"
         },
         "marker": {
          "symbol": "circle"
         },
         "mode": "lines",
         "name": "[12800.0, 25600.0)",
         "orientation": "v",
         "showlegend": true,
         "stackgroup": "1",
         "type": "scatter",
         "x": [
          "2019-03-01",
          "2019-04-01",
          "2019-05-01",
          "2019-06-01",
          "2019-07-01",
          "2019-08-01",
          "2019-09-01",
          "2019-10-01",
          "2019-11-01",
          "2019-12-01",
          "2020-01-01",
          "2020-02-01",
          "2020-03-01",
          "2020-04-01",
          "2020-05-01",
          "2020-06-01",
          "2020-07-01",
          "2020-08-01",
          "2020-09-01",
          "2020-10-01",
          "2020-11-01",
          "2020-12-01",
          "2021-01-01",
          "2021-02-01",
          "2021-03-01",
          "2021-04-01",
          "2021-05-01",
          "2021-06-01",
          "2021-07-01",
          "2021-08-01",
          "2021-09-01",
          "2021-10-01",
          "2021-11-01",
          "2021-12-01",
          "2022-01-01",
          "2022-02-01"
         ],
         "xaxis": "x",
         "y": [
          254355.28580990658,
          254364.00484778866,
          253584.90442674572,
          253709.13637234885,
          254092.99679921,
          254141.4666685361,
          254488.52984044858,
          254706.94814834755,
          254924.98825687706,
          253201.81800966544,
          252400.7937627413,
          252016.36857037852,
          231599.2370963089,
          228662.53065151963,
          227570.63558482562,
          227463.01474632218,
          227096.1415022282,
          227048.48040655756,
          227622.54822252275,
          228094.7714078916,
          228858.59674997095,
          228516.75066637195,
          228629.85017239556,
          230145.0417943789,
          241634.75928084893,
          241499.87742292092,
          241751.64114217382,
          242246.79686370085,
          242753.76330978214,
          243105.5284905641,
          243480.38587197327,
          243986.68322444608,
          244695.99311854027,
          243759.6599552792,
          244353.10997838626,
          242644.4352258506
         ],
         "yaxis": "y"
        },
        {
         "fillpattern": {
          "shape": ""
         },
         "hovertemplate": "RealWageBand=[25600.0, 51200.0)<br>month=%{x}<br>FTE=%{y}<extra></extra>",
         "legendgroup": "[25600.0, 51200.0)",
         "line": {
          "color": "#32CD32"
         },
         "marker": {
          "symbol": "circle"
         },
         "mode": "lines",
         "name": "[25600.0, 51200.0)",
         "orientation": "v",
         "showlegend": true,
         "stackgroup": "1",
         "type": "scatter",
         "x": [
          "2019-03-01",
          "2019-04-01",
          "2019-05-01",
          "2019-06-01",
          "2019-07-01",
          "2019-08-01",
          "2019-09-01",
          "2019-10-01",
          "2019-11-01",
          "2019-12-01",
          "2020-01-01",
          "2020-02-01",
          "2020-03-01",
          "2020-04-01",
          "2020-05-01",
          "2020-06-01",
          "2020-07-01",
          "2020-08-01",
          "2020-09-01",
          "2020-10-01",
          "2020-11-01",
          "2020-12-01",
          "2021-01-01",
          "2021-02-01",
          "2021-03-01",
          "2021-04-01",
          "2021-05-01",
          "2021-06-01",
          "2021-07-01",
          "2021-08-01",
          "2021-09-01",
          "2021-10-01",
          "2021-11-01",
          "2021-12-01",
          "2022-01-01",
          "2022-02-01"
         ],
         "xaxis": "x",
         "y": [
          214835.6404364889,
          214554.78128516898,
          214187.1116214705,
          213909.87734046564,
          213881.33380303544,
          214020.80276984815,
          213948.20679097855,
          213636.83442670552,
          213449.54907271062,
          212358.10296200364,
          211048.23573467007,
          211437.84217707225,
          203402.88306316678,
          200987.23847458637,
          200661.26462706094,
          200615.7203210862,
          200585.32142774021,
          200401.75245115432,
          200626.64843298978,
          200363.7239003512,
          200385.38279605372,
          199818.1101501659,
          198639.57277385663,
          199343.20505415814,
          210708.83135286169,
          210411.5010183398,
          210587.30022017832,
          210744.7953894791,
          210537.64062143053,
          210682.54056879468,
          210772.32330168062,
          210613.77677746734,
          210593.94359449085,
          209816.81976885087,
          209457.68373547937,
          209017.9289586028
         ],
         "yaxis": "y"
        },
        {
         "fillpattern": {
          "shape": ""
         },
         "hovertemplate": "RealWageBand=[51200.0, 102400.0)<br>month=%{x}<br>FTE=%{y}<extra></extra>",
         "legendgroup": "[51200.0, 102400.0)",
         "line": {
          "color": "#228B22"
         },
         "marker": {
          "symbol": "circle"
         },
         "mode": "lines",
         "name": "[51200.0, 102400.0)",
         "orientation": "v",
         "showlegend": true,
         "stackgroup": "1",
         "type": "scatter",
         "x": [
          "2019-03-01",
          "2019-04-01",
          "2019-05-01",
          "2019-06-01",
          "2019-07-01",
          "2019-08-01",
          "2019-09-01",
          "2019-10-01",
          "2019-11-01",
          "2019-12-01",
          "2020-01-01",
          "2020-02-01",
          "2020-03-01",
          "2020-04-01",
          "2020-05-01",
          "2020-06-01",
          "2020-07-01",
          "2020-08-01",
          "2020-09-01",
          "2020-10-01",
          "2020-11-01",
          "2020-12-01",
          "2021-01-01",
          "2021-02-01",
          "2021-03-01",
          "2021-04-01",
          "2021-05-01",
          "2021-06-01",
          "2021-07-01",
          "2021-08-01",
          "2021-09-01",
          "2021-10-01",
          "2021-11-01",
          "2021-12-01",
          "2022-01-01",
          "2022-02-01"
         ],
         "xaxis": "x",
         "y": [
          81327.91670053986,
          80639.6326786044,
          80333.65669707752,
          80171.17683523207,
          79938.77204055729,
          79804.33110696723,
          79721.48271733253,
          79624.17847605464,
          79478.48338821631,
          79061.86303234998,
          78611.86852976822,
          78628.89225433154,
          77055.73247577985,
          75875.77989616069,
          75537.24495553096,
          75338.14546793952,
          75162.35034589145,
          74934.57337324569,
          74810.37454547675,
          74667.98861561736,
          74569.66022715684,
          74402.75008548985,
          73940.34523599406,
          74110.19765540259,
          80641.76406329345,
          80004.85912961737,
          79769.15389231604,
          79685.64371273598,
          79519.0228620625,
          79507.60912173474,
          79419.45923496722,
          79319.42433815582,
          79314.93738221603,
          79064.24221374509,
          78749.14651813534,
          78828.0720012893
         ],
         "yaxis": "y"
        },
        {
         "fillpattern": {
          "shape": ""
         },
         "hovertemplate": "RealWageBand=[102400.0, 204800.0)<br>month=%{x}<br>FTE=%{y}<extra></extra>",
         "legendgroup": "[102400.0, 204800.0)",
         "line": {
          "color": "#008000"
         },
         "marker": {
          "symbol": "circle"
         },
         "mode": "lines",
         "name": "[102400.0, 204800.0)",
         "orientation": "v",
         "showlegend": true,
         "stackgroup": "1",
         "type": "scatter",
         "x": [
          "2019-03-01",
          "2019-04-01",
          "2019-05-01",
          "2019-06-01",
          "2019-07-01",
          "2019-08-01",
          "2019-09-01",
          "2019-10-01",
          "2019-11-01",
          "2019-12-01",
          "2020-01-01",
          "2020-02-01",
          "2020-03-01",
          "2020-04-01",
          "2020-05-01",
          "2020-06-01",
          "2020-07-01",
          "2020-08-01",
          "2020-09-01",
          "2020-10-01",
          "2020-11-01",
          "2020-12-01",
          "2021-01-01",
          "2021-02-01",
          "2021-03-01",
          "2021-04-01",
          "2021-05-01",
          "2021-06-01",
          "2021-07-01",
          "2021-08-01",
          "2021-09-01",
          "2021-10-01",
          "2021-11-01",
          "2021-12-01",
          "2022-01-01",
          "2022-02-01"
         ],
         "xaxis": "x",
         "y": [
          21643.14759364404,
          21274.593816887173,
          21022.016384685703,
          20887.383814919114,
          20700.36081442766,
          20633.340164101668,
          20557.897141061945,
          20505.382649941428,
          20471.76109770596,
          20411.192549137115,
          20275.71337404367,
          20266.975104846766,
          20239.656473632713,
          19695.23779987176,
          19554.024597174943,
          19478.70841199574,
          19408.176739742285,
          19332.186919769752,
          19296.54582137099,
          19211.06872217112,
          19195.23462690372,
          19152.091299114938,
          18997.368813412973,
          19020.97093720747,
          21257.92514117313,
          20856.161746625483,
          20677.53982326605,
          20609.067353869825,
          20499.74349050074,
          20437.40039756573,
          20431.84507172178,
          20369.111775869012,
          20349.75084036108,
          20303.833310825958,
          20208.6116081075,
          20247.848190854682
         ],
         "yaxis": "y"
        },
        {
         "fillpattern": {
          "shape": ""
         },
         "hovertemplate": "RealWageBand=[204800.0, 409600.0)<br>month=%{x}<br>FTE=%{y}<extra></extra>",
         "legendgroup": "[204800.0, 409600.0)",
         "line": {
          "color": "#0000CD"
         },
         "marker": {
          "symbol": "circle"
         },
         "mode": "lines",
         "name": "[204800.0, 409600.0)",
         "orientation": "v",
         "showlegend": true,
         "stackgroup": "1",
         "type": "scatter",
         "x": [
          "2019-03-01",
          "2019-04-01",
          "2019-05-01",
          "2019-06-01",
          "2019-07-01",
          "2019-08-01",
          "2019-09-01",
          "2019-10-01",
          "2019-11-01",
          "2019-12-01",
          "2020-01-01",
          "2020-02-01",
          "2020-03-01",
          "2020-04-01",
          "2020-05-01",
          "2020-06-01",
          "2020-07-01",
          "2020-08-01",
          "2020-09-01",
          "2020-10-01",
          "2020-11-01",
          "2020-12-01",
          "2021-01-01",
          "2021-02-01",
          "2021-03-01",
          "2021-04-01",
          "2021-05-01",
          "2021-06-01",
          "2021-07-01",
          "2021-08-01",
          "2021-09-01",
          "2021-10-01",
          "2021-11-01",
          "2021-12-01",
          "2022-01-01",
          "2022-02-01"
         ],
         "xaxis": "x",
         "y": [
          3975.9709866556846,
          3823.119627835851,
          3752.9541476150675,
          3712.2210160282207,
          3649.8340773922014,
          3625.4565563663764,
          3598.474179932613,
          3594.0881537908467,
          3569.0821318395165,
          3557.926085941629,
          3521.260929824725,
          3533.708742489474,
          3581.6295302864223,
          3355.5226757317,
          3308.2742894517455,
          3285.767623479118,
          3277.5246562612556,
          3255.4652699574776,
          3241.641987858701,
          3234.8284631327624,
          3220.1727723918107,
          3219.0053624739585,
          3187.18721049676,
          3223.160550674392,
          3912.6550559994143,
          3712.7968323153177,
          3665.9737402399205,
          3639.0846907779096,
          3587.1211866870726,
          3579.847911948075,
          3578.7288366436023,
          3575.4096563249936,
          3576.31630297748,
          3572.3087762239275,
          3547.1637900011483,
          3575.6060290944547
         ],
         "yaxis": "y"
        },
        {
         "fillpattern": {
          "shape": ""
         },
         "hovertemplate": "RealWageBand=[409600.0, 819200.0)<br>month=%{x}<br>FTE=%{y}<extra></extra>",
         "legendgroup": "[409600.0, 819200.0)",
         "line": {
          "color": "#000080"
         },
         "marker": {
          "symbol": "circle"
         },
         "mode": "lines",
         "name": "[409600.0, 819200.0)",
         "orientation": "v",
         "showlegend": true,
         "stackgroup": "1",
         "type": "scatter",
         "x": [
          "2019-03-01",
          "2019-04-01",
          "2019-05-01",
          "2019-06-01",
          "2019-07-01",
          "2019-08-01",
          "2019-09-01",
          "2019-10-01",
          "2019-11-01",
          "2019-12-01",
          "2020-01-01",
          "2020-02-01",
          "2020-03-01",
          "2020-04-01",
          "2020-05-01",
          "2020-06-01",
          "2020-07-01",
          "2020-08-01",
          "2020-09-01",
          "2020-10-01",
          "2020-11-01",
          "2020-12-01",
          "2021-01-01",
          "2021-02-01",
          "2021-03-01",
          "2021-04-01",
          "2021-05-01",
          "2021-06-01",
          "2021-07-01",
          "2021-08-01",
          "2021-09-01",
          "2021-10-01",
          "2021-11-01",
          "2021-12-01",
          "2022-01-01",
          "2022-02-01"
         ],
         "xaxis": "x",
         "y": [
          933.9003715909013,
          865.1299265179715,
          847.7600449448471,
          830.9943934791105,
          819.4737484631238,
          814.9882122817861,
          810.5208439295757,
          806.0485578489648,
          796.3324705101813,
          796.0518297080328,
          787.6653369559456,
          815.937782187345,
          810.4809249553408,
          743.3238267308565,
          732.2499674020148,
          723.2591602678543,
          716.7244511946562,
          701.9310501665929,
          705.5537085218051,
          707.7433084782222,
          710.2588571464717,
          709.1182772140097,
          702.5684534883326,
          716.9863262051159,
          862.938726987369,
          804.7874724138668,
          791.8322728738807,
          787.0651943225974,
          782.7077196876774,
          782.1337792498905,
          779.265400308915,
          777.3935014517565,
          781.6151024005758,
          784.8150819421081,
          783.6536385820015,
          818.0183452940693
         ],
         "yaxis": "y"
        },
        {
         "fillpattern": {
          "shape": ""
         },
         "hovertemplate": "RealWageBand=[819200.0, 1638400.0)<br>month=%{x}<br>FTE=%{y}<extra></extra>",
         "legendgroup": "[819200.0, 1638400.0)",
         "line": {
          "color": "#191970"
         },
         "marker": {
          "symbol": "circle"
         },
         "mode": "lines",
         "name": "[819200.0, 1638400.0)",
         "orientation": "v",
         "showlegend": true,
         "stackgroup": "1",
         "type": "scatter",
         "x": [
          "2019-03-01",
          "2019-04-01",
          "2019-05-01",
          "2019-06-01",
          "2019-07-01",
          "2019-08-01",
          "2019-09-01",
          "2019-10-01",
          "2019-11-01",
          "2019-12-01",
          "2020-01-01",
          "2020-02-01",
          "2020-03-01",
          "2020-04-01",
          "2020-05-01",
          "2020-06-01",
          "2020-07-01",
          "2020-08-01",
          "2020-09-01",
          "2020-10-01",
          "2020-11-01",
          "2020-12-01",
          "2021-01-01",
          "2021-02-01",
          "2021-03-01",
          "2021-04-01",
          "2021-05-01",
          "2021-06-01",
          "2021-07-01",
          "2021-08-01",
          "2021-09-01",
          "2021-10-01",
          "2021-11-01",
          "2021-12-01",
          "2022-01-01",
          "2022-02-01"
         ],
         "xaxis": "x",
         "y": [
          177.03086500004545,
          156.7252867129666,
          151.73352993736782,
          147.05920694440135,
          146.5040993531258,
          144.9381138833354,
          146.0015083947368,
          149.4472660233365,
          144.67224065901252,
          147.62016905099685,
          149.13612827272706,
          157.93125769045946,
          176.61713848020082,
          154.95657145768206,
          151.50388328563895,
          146.1899047910155,
          142.7784339302925,
          136.73416880911319,
          137.65803963155042,
          136.34707203491965,
          131.12470629821706,
          133.15943337426035,
          133.48255154674473,
          151.26021106942676,
          174.8459967609702,
          155.00838288293622,
          149.7152920663169,
          149.6741891892444,
          139.92871853600042,
          140.44550391420518,
          141.2404139599663,
          141.45320897912458,
          142.4343914374567,
          144.00256391638166,
          144.87353165831715,
          158.12440318988806
         ],
         "yaxis": "y"
        },
        {
         "fillpattern": {
          "shape": ""
         },
         "hovertemplate": "RealWageBand=[1638400.0, 10000000.0)<br>month=%{x}<br>FTE=%{y}<extra></extra>",
         "legendgroup": "[1638400.0, 10000000.0)",
         "line": {
          "color": "#000000"
         },
         "marker": {
          "symbol": "circle"
         },
         "mode": "lines",
         "name": "[1638400.0, 10000000.0)",
         "orientation": "v",
         "showlegend": true,
         "stackgroup": "1",
         "type": "scatter",
         "x": [
          "2019-03-01",
          "2019-04-01",
          "2019-05-01",
          "2019-06-01",
          "2019-07-01",
          "2019-08-01",
          "2019-09-01",
          "2019-10-01",
          "2019-11-01",
          "2019-12-01",
          "2020-01-01",
          "2020-02-01",
          "2020-03-01",
          "2020-04-01",
          "2020-05-01",
          "2020-06-01",
          "2020-07-01",
          "2020-08-01",
          "2020-09-01",
          "2020-10-01",
          "2020-11-01",
          "2020-12-01",
          "2021-01-01",
          "2021-02-01",
          "2021-03-01",
          "2021-04-01",
          "2021-05-01",
          "2021-06-01",
          "2021-07-01",
          "2021-08-01",
          "2021-09-01",
          "2021-10-01",
          "2021-11-01",
          "2021-12-01",
          "2022-01-01",
          "2022-02-01"
         ],
         "xaxis": "x",
         "y": [
          47.83924667635939,
          27.733956335821766,
          26.23002805373176,
          22.439995495552605,
          22.16773757634122,
          23.361285963437993,
          21.435693693759994,
          20.615187445574204,
          19.406662162219273,
          23.554001743736187,
          26.29676983440574,
          53.13725790859662,
          38.42821850164827,
          23.271860655017502,
          23.25558139474481,
          22.40519398835084,
          23.00196818189923,
          24.06648431093149,
          22.988530641334552,
          24.324548827060525,
          22.40347326763381,
          23.066484310931497,
          22.780640802147673,
          45.79221637621358,
          50.803021878280056,
          39.5036391851989,
          37.74312926613097,
          38.97030585186558,
          37.45417681960748,
          36.93804778734942,
          33.234391437456665,
          33.803187281694946,
          35.0675953262107,
          35.163854238962344,
          35.77425964437309,
          54.36556989032318
         ],
         "yaxis": "y"
        }
       ],
       "layout": {
        "legend": {
         "title": {
          "text": "RealWageBand"
         },
         "tracegroupgap": 0
        },
        "margin": {
         "t": 60
        },
        "template": {
         "data": {
          "bar": [
           {
            "error_x": {
             "color": "#2a3f5f"
            },
            "error_y": {
             "color": "#2a3f5f"
            },
            "marker": {
             "line": {
              "color": "#E5ECF6",
              "width": 0.5
             },
             "pattern": {
              "fillmode": "overlay",
              "size": 10,
              "solidity": 0.2
             }
            },
            "type": "bar"
           }
          ],
          "barpolar": [
           {
            "marker": {
             "line": {
              "color": "#E5ECF6",
              "width": 0.5
             },
             "pattern": {
              "fillmode": "overlay",
              "size": 10,
              "solidity": 0.2
             }
            },
            "type": "barpolar"
           }
          ],
          "carpet": [
           {
            "aaxis": {
             "endlinecolor": "#2a3f5f",
             "gridcolor": "white",
             "linecolor": "white",
             "minorgridcolor": "white",
             "startlinecolor": "#2a3f5f"
            },
            "baxis": {
             "endlinecolor": "#2a3f5f",
             "gridcolor": "white",
             "linecolor": "white",
             "minorgridcolor": "white",
             "startlinecolor": "#2a3f5f"
            },
            "type": "carpet"
           }
          ],
          "choropleth": [
           {
            "colorbar": {
             "outlinewidth": 0,
             "ticks": ""
            },
            "type": "choropleth"
           }
          ],
          "contour": [
           {
            "colorbar": {
             "outlinewidth": 0,
             "ticks": ""
            },
            "colorscale": [
             [
              0,
              "#0d0887"
             ],
             [
              0.1111111111111111,
              "#46039f"
             ],
             [
              0.2222222222222222,
              "#7201a8"
             ],
             [
              0.3333333333333333,
              "#9c179e"
             ],
             [
              0.4444444444444444,
              "#bd3786"
             ],
             [
              0.5555555555555556,
              "#d8576b"
             ],
             [
              0.6666666666666666,
              "#ed7953"
             ],
             [
              0.7777777777777778,
              "#fb9f3a"
             ],
             [
              0.8888888888888888,
              "#fdca26"
             ],
             [
              1,
              "#f0f921"
             ]
            ],
            "type": "contour"
           }
          ],
          "contourcarpet": [
           {
            "colorbar": {
             "outlinewidth": 0,
             "ticks": ""
            },
            "type": "contourcarpet"
           }
          ],
          "heatmap": [
           {
            "colorbar": {
             "outlinewidth": 0,
             "ticks": ""
            },
            "colorscale": [
             [
              0,
              "#0d0887"
             ],
             [
              0.1111111111111111,
              "#46039f"
             ],
             [
              0.2222222222222222,
              "#7201a8"
             ],
             [
              0.3333333333333333,
              "#9c179e"
             ],
             [
              0.4444444444444444,
              "#bd3786"
             ],
             [
              0.5555555555555556,
              "#d8576b"
             ],
             [
              0.6666666666666666,
              "#ed7953"
             ],
             [
              0.7777777777777778,
              "#fb9f3a"
             ],
             [
              0.8888888888888888,
              "#fdca26"
             ],
             [
              1,
              "#f0f921"
             ]
            ],
            "type": "heatmap"
           }
          ],
          "heatmapgl": [
           {
            "colorbar": {
             "outlinewidth": 0,
             "ticks": ""
            },
            "colorscale": [
             [
              0,
              "#0d0887"
             ],
             [
              0.1111111111111111,
              "#46039f"
             ],
             [
              0.2222222222222222,
              "#7201a8"
             ],
             [
              0.3333333333333333,
              "#9c179e"
             ],
             [
              0.4444444444444444,
              "#bd3786"
             ],
             [
              0.5555555555555556,
              "#d8576b"
             ],
             [
              0.6666666666666666,
              "#ed7953"
             ],
             [
              0.7777777777777778,
              "#fb9f3a"
             ],
             [
              0.8888888888888888,
              "#fdca26"
             ],
             [
              1,
              "#f0f921"
             ]
            ],
            "type": "heatmapgl"
           }
          ],
          "histogram": [
           {
            "marker": {
             "pattern": {
              "fillmode": "overlay",
              "size": 10,
              "solidity": 0.2
             }
            },
            "type": "histogram"
           }
          ],
          "histogram2d": [
           {
            "colorbar": {
             "outlinewidth": 0,
             "ticks": ""
            },
            "colorscale": [
             [
              0,
              "#0d0887"
             ],
             [
              0.1111111111111111,
              "#46039f"
             ],
             [
              0.2222222222222222,
              "#7201a8"
             ],
             [
              0.3333333333333333,
              "#9c179e"
             ],
             [
              0.4444444444444444,
              "#bd3786"
             ],
             [
              0.5555555555555556,
              "#d8576b"
             ],
             [
              0.6666666666666666,
              "#ed7953"
             ],
             [
              0.7777777777777778,
              "#fb9f3a"
             ],
             [
              0.8888888888888888,
              "#fdca26"
             ],
             [
              1,
              "#f0f921"
             ]
            ],
            "type": "histogram2d"
           }
          ],
          "histogram2dcontour": [
           {
            "colorbar": {
             "outlinewidth": 0,
             "ticks": ""
            },
            "colorscale": [
             [
              0,
              "#0d0887"
             ],
             [
              0.1111111111111111,
              "#46039f"
             ],
             [
              0.2222222222222222,
              "#7201a8"
             ],
             [
              0.3333333333333333,
              "#9c179e"
             ],
             [
              0.4444444444444444,
              "#bd3786"
             ],
             [
              0.5555555555555556,
              "#d8576b"
             ],
             [
              0.6666666666666666,
              "#ed7953"
             ],
             [
              0.7777777777777778,
              "#fb9f3a"
             ],
             [
              0.8888888888888888,
              "#fdca26"
             ],
             [
              1,
              "#f0f921"
             ]
            ],
            "type": "histogram2dcontour"
           }
          ],
          "mesh3d": [
           {
            "colorbar": {
             "outlinewidth": 0,
             "ticks": ""
            },
            "type": "mesh3d"
           }
          ],
          "parcoords": [
           {
            "line": {
             "colorbar": {
              "outlinewidth": 0,
              "ticks": ""
             }
            },
            "type": "parcoords"
           }
          ],
          "pie": [
           {
            "automargin": true,
            "type": "pie"
           }
          ],
          "scatter": [
           {
            "fillpattern": {
             "fillmode": "overlay",
             "size": 10,
             "solidity": 0.2
            },
            "type": "scatter"
           }
          ],
          "scatter3d": [
           {
            "line": {
             "colorbar": {
              "outlinewidth": 0,
              "ticks": ""
             }
            },
            "marker": {
             "colorbar": {
              "outlinewidth": 0,
              "ticks": ""
             }
            },
            "type": "scatter3d"
           }
          ],
          "scattercarpet": [
           {
            "marker": {
             "colorbar": {
              "outlinewidth": 0,
              "ticks": ""
             }
            },
            "type": "scattercarpet"
           }
          ],
          "scattergeo": [
           {
            "marker": {
             "colorbar": {
              "outlinewidth": 0,
              "ticks": ""
             }
            },
            "type": "scattergeo"
           }
          ],
          "scattergl": [
           {
            "marker": {
             "colorbar": {
              "outlinewidth": 0,
              "ticks": ""
             }
            },
            "type": "scattergl"
           }
          ],
          "scattermapbox": [
           {
            "marker": {
             "colorbar": {
              "outlinewidth": 0,
              "ticks": ""
             }
            },
            "type": "scattermapbox"
           }
          ],
          "scatterpolar": [
           {
            "marker": {
             "colorbar": {
              "outlinewidth": 0,
              "ticks": ""
             }
            },
            "type": "scatterpolar"
           }
          ],
          "scatterpolargl": [
           {
            "marker": {
             "colorbar": {
              "outlinewidth": 0,
              "ticks": ""
             }
            },
            "type": "scatterpolargl"
           }
          ],
          "scatterternary": [
           {
            "marker": {
             "colorbar": {
              "outlinewidth": 0,
              "ticks": ""
             }
            },
            "type": "scatterternary"
           }
          ],
          "surface": [
           {
            "colorbar": {
             "outlinewidth": 0,
             "ticks": ""
            },
            "colorscale": [
             [
              0,
              "#0d0887"
             ],
             [
              0.1111111111111111,
              "#46039f"
             ],
             [
              0.2222222222222222,
              "#7201a8"
             ],
             [
              0.3333333333333333,
              "#9c179e"
             ],
             [
              0.4444444444444444,
              "#bd3786"
             ],
             [
              0.5555555555555556,
              "#d8576b"
             ],
             [
              0.6666666666666666,
              "#ed7953"
             ],
             [
              0.7777777777777778,
              "#fb9f3a"
             ],
             [
              0.8888888888888888,
              "#fdca26"
             ],
             [
              1,
              "#f0f921"
             ]
            ],
            "type": "surface"
           }
          ],
          "table": [
           {
            "cells": {
             "fill": {
              "color": "#EBF0F8"
             },
             "line": {
              "color": "white"
             }
            },
            "header": {
             "fill": {
              "color": "#C8D4E3"
             },
             "line": {
              "color": "white"
             }
            },
            "type": "table"
           }
          ]
         },
         "layout": {
          "annotationdefaults": {
           "arrowcolor": "#2a3f5f",
           "arrowhead": 0,
           "arrowwidth": 1
          },
          "autotypenumbers": "strict",
          "coloraxis": {
           "colorbar": {
            "outlinewidth": 0,
            "ticks": ""
           }
          },
          "colorscale": {
           "diverging": [
            [
             0,
             "#8e0152"
            ],
            [
             0.1,
             "#c51b7d"
            ],
            [
             0.2,
             "#de77ae"
            ],
            [
             0.3,
             "#f1b6da"
            ],
            [
             0.4,
             "#fde0ef"
            ],
            [
             0.5,
             "#f7f7f7"
            ],
            [
             0.6,
             "#e6f5d0"
            ],
            [
             0.7,
             "#b8e186"
            ],
            [
             0.8,
             "#7fbc41"
            ],
            [
             0.9,
             "#4d9221"
            ],
            [
             1,
             "#276419"
            ]
           ],
           "sequential": [
            [
             0,
             "#0d0887"
            ],
            [
             0.1111111111111111,
             "#46039f"
            ],
            [
             0.2222222222222222,
             "#7201a8"
            ],
            [
             0.3333333333333333,
             "#9c179e"
            ],
            [
             0.4444444444444444,
             "#bd3786"
            ],
            [
             0.5555555555555556,
             "#d8576b"
            ],
            [
             0.6666666666666666,
             "#ed7953"
            ],
            [
             0.7777777777777778,
             "#fb9f3a"
            ],
            [
             0.8888888888888888,
             "#fdca26"
            ],
            [
             1,
             "#f0f921"
            ]
           ],
           "sequentialminus": [
            [
             0,
             "#0d0887"
            ],
            [
             0.1111111111111111,
             "#46039f"
            ],
            [
             0.2222222222222222,
             "#7201a8"
            ],
            [
             0.3333333333333333,
             "#9c179e"
            ],
            [
             0.4444444444444444,
             "#bd3786"
            ],
            [
             0.5555555555555556,
             "#d8576b"
            ],
            [
             0.6666666666666666,
             "#ed7953"
            ],
            [
             0.7777777777777778,
             "#fb9f3a"
            ],
            [
             0.8888888888888888,
             "#fdca26"
            ],
            [
             1,
             "#f0f921"
            ]
           ]
          },
          "colorway": [
           "#636efa",
           "#EF553B",
           "#00cc96",
           "#ab63fa",
           "#FFA15A",
           "#19d3f3",
           "#FF6692",
           "#B6E880",
           "#FF97FF",
           "#FECB52"
          ],
          "font": {
           "color": "#2a3f5f"
          },
          "geo": {
           "bgcolor": "white",
           "lakecolor": "white",
           "landcolor": "#E5ECF6",
           "showlakes": true,
           "showland": true,
           "subunitcolor": "white"
          },
          "hoverlabel": {
           "align": "left"
          },
          "hovermode": "closest",
          "mapbox": {
           "style": "light"
          },
          "paper_bgcolor": "white",
          "plot_bgcolor": "#E5ECF6",
          "polar": {
           "angularaxis": {
            "gridcolor": "white",
            "linecolor": "white",
            "ticks": ""
           },
           "bgcolor": "#E5ECF6",
           "radialaxis": {
            "gridcolor": "white",
            "linecolor": "white",
            "ticks": ""
           }
          },
          "scene": {
           "xaxis": {
            "backgroundcolor": "#E5ECF6",
            "gridcolor": "white",
            "gridwidth": 2,
            "linecolor": "white",
            "showbackground": true,
            "ticks": "",
            "zerolinecolor": "white"
           },
           "yaxis": {
            "backgroundcolor": "#E5ECF6",
            "gridcolor": "white",
            "gridwidth": 2,
            "linecolor": "white",
            "showbackground": true,
            "ticks": "",
            "zerolinecolor": "white"
           },
           "zaxis": {
            "backgroundcolor": "#E5ECF6",
            "gridcolor": "white",
            "gridwidth": 2,
            "linecolor": "white",
            "showbackground": true,
            "ticks": "",
            "zerolinecolor": "white"
           }
          },
          "shapedefaults": {
           "line": {
            "color": "#2a3f5f"
           }
          },
          "ternary": {
           "aaxis": {
            "gridcolor": "white",
            "linecolor": "white",
            "ticks": ""
           },
           "baxis": {
            "gridcolor": "white",
            "linecolor": "white",
            "ticks": ""
           },
           "bgcolor": "#E5ECF6",
           "caxis": {
            "gridcolor": "white",
            "linecolor": "white",
            "ticks": ""
           }
          },
          "title": {
           "x": 0.05
          },
          "xaxis": {
           "automargin": true,
           "gridcolor": "white",
           "linecolor": "white",
           "ticks": "",
           "title": {
            "standoff": 15
           },
           "zerolinecolor": "white",
           "zerolinewidth": 2
          },
          "yaxis": {
           "automargin": true,
           "gridcolor": "white",
           "linecolor": "white",
           "ticks": "",
           "title": {
            "standoff": 15
           },
           "zerolinecolor": "white",
           "zerolinewidth": 2
          }
         }
        },
        "xaxis": {
         "anchor": "y",
         "domain": [
          0,
          1
         ],
         "title": {
          "text": "month"
         }
        },
        "yaxis": {
         "anchor": "x",
         "domain": [
          0,
          1
         ],
         "title": {
          "text": "FTE"
         }
        }
       }
      }
     },
     "metadata": {},
     "output_type": "display_data"
    },
    {
     "data": {
      "text/html": [
       "<div>\n",
       "<style scoped>\n",
       "    .dataframe tbody tr th:only-of-type {\n",
       "        vertical-align: middle;\n",
       "    }\n",
       "\n",
       "    .dataframe tbody tr th {\n",
       "        vertical-align: top;\n",
       "    }\n",
       "\n",
       "    .dataframe thead th {\n",
       "        text-align: right;\n",
       "    }\n",
       "</style>\n",
       "<table border=\"1\" class=\"dataframe\">\n",
       "  <thead>\n",
       "    <tr style=\"text-align: right;\">\n",
       "      <th></th>\n",
       "      <th>CAT_B</th>\n",
       "      <th>RealWageBand</th>\n",
       "      <th>month</th>\n",
       "      <th>FTE</th>\n",
       "      <th>midpoint</th>\n",
       "    </tr>\n",
       "  </thead>\n",
       "  <tbody>\n",
       "    <tr>\n",
       "      <th>1620</th>\n",
       "      <td>CPT</td>\n",
       "      <td>[0.0, 400.0)</td>\n",
       "      <td>2013-03-01</td>\n",
       "      <td>6152.875582</td>\n",
       "      <td>200.0</td>\n",
       "    </tr>\n",
       "    <tr>\n",
       "      <th>1621</th>\n",
       "      <td>CPT</td>\n",
       "      <td>[0.0, 400.0)</td>\n",
       "      <td>2013-04-01</td>\n",
       "      <td>6525.175078</td>\n",
       "      <td>200.0</td>\n",
       "    </tr>\n",
       "    <tr>\n",
       "      <th>1622</th>\n",
       "      <td>CPT</td>\n",
       "      <td>[0.0, 400.0)</td>\n",
       "      <td>2013-05-01</td>\n",
       "      <td>6773.783981</td>\n",
       "      <td>200.0</td>\n",
       "    </tr>\n",
       "    <tr>\n",
       "      <th>1623</th>\n",
       "      <td>CPT</td>\n",
       "      <td>[0.0, 400.0)</td>\n",
       "      <td>2013-06-01</td>\n",
       "      <td>6964.191836</td>\n",
       "      <td>200.0</td>\n",
       "    </tr>\n",
       "    <tr>\n",
       "      <th>1624</th>\n",
       "      <td>CPT</td>\n",
       "      <td>[0.0, 400.0)</td>\n",
       "      <td>2013-07-01</td>\n",
       "      <td>7023.895909</td>\n",
       "      <td>200.0</td>\n",
       "    </tr>\n",
       "    <tr>\n",
       "      <th>...</th>\n",
       "      <td>...</td>\n",
       "      <td>...</td>\n",
       "      <td>...</td>\n",
       "      <td>...</td>\n",
       "      <td>...</td>\n",
       "    </tr>\n",
       "    <tr>\n",
       "      <th>3235</th>\n",
       "      <td>CPT</td>\n",
       "      <td>NaN</td>\n",
       "      <td>2021-10-01</td>\n",
       "      <td>0.000000</td>\n",
       "      <td>NaN</td>\n",
       "    </tr>\n",
       "    <tr>\n",
       "      <th>3236</th>\n",
       "      <td>CPT</td>\n",
       "      <td>NaN</td>\n",
       "      <td>2021-11-01</td>\n",
       "      <td>0.000000</td>\n",
       "      <td>NaN</td>\n",
       "    </tr>\n",
       "    <tr>\n",
       "      <th>3237</th>\n",
       "      <td>CPT</td>\n",
       "      <td>NaN</td>\n",
       "      <td>2021-12-01</td>\n",
       "      <td>0.000000</td>\n",
       "      <td>NaN</td>\n",
       "    </tr>\n",
       "    <tr>\n",
       "      <th>3238</th>\n",
       "      <td>CPT</td>\n",
       "      <td>NaN</td>\n",
       "      <td>2022-01-01</td>\n",
       "      <td>0.000000</td>\n",
       "      <td>NaN</td>\n",
       "    </tr>\n",
       "    <tr>\n",
       "      <th>3239</th>\n",
       "      <td>CPT</td>\n",
       "      <td>NaN</td>\n",
       "      <td>2022-02-01</td>\n",
       "      <td>0.000000</td>\n",
       "      <td>NaN</td>\n",
       "    </tr>\n",
       "  </tbody>\n",
       "</table>\n",
       "<p>1620 rows × 5 columns</p>\n",
       "</div>"
      ],
      "text/plain": [
       "     CAT_B  RealWageBand       month          FTE  midpoint\n",
       "1620   CPT  [0.0, 400.0)  2013-03-01  6152.875582     200.0\n",
       "1621   CPT  [0.0, 400.0)  2013-04-01  6525.175078     200.0\n",
       "1622   CPT  [0.0, 400.0)  2013-05-01  6773.783981     200.0\n",
       "1623   CPT  [0.0, 400.0)  2013-06-01  6964.191836     200.0\n",
       "1624   CPT  [0.0, 400.0)  2013-07-01  7023.895909     200.0\n",
       "...    ...           ...         ...          ...       ...\n",
       "3235   CPT           NaN  2021-10-01     0.000000       NaN\n",
       "3236   CPT           NaN  2021-11-01     0.000000       NaN\n",
       "3237   CPT           NaN  2021-12-01     0.000000       NaN\n",
       "3238   CPT           NaN  2022-01-01     0.000000       NaN\n",
       "3239   CPT           NaN  2022-02-01     0.000000       NaN\n",
       "\n",
       "[1620 rows x 5 columns]"
      ]
     },
     "execution_count": 335,
     "metadata": {},
     "output_type": "execute_result"
    }
   ],
   "source": [
    "fig.show()\n",
    "df"
   ]
  },
  {
   "cell_type": "code",
   "execution_count": 326,
   "metadata": {},
   "outputs": [
    {
     "data": {
      "text/plain": [
       "14"
      ]
     },
     "execution_count": 326,
     "metadata": {},
     "output_type": "execute_result"
    }
   ],
   "source": [
    "len(figDf.RealWageBand.unique())"
   ]
  },
  {
   "cell_type": "code",
   "execution_count": 328,
   "metadata": {},
   "outputs": [
    {
     "data": {
      "text/html": [
       "<div>\n",
       "<style scoped>\n",
       "    .dataframe tbody tr th:only-of-type {\n",
       "        vertical-align: middle;\n",
       "    }\n",
       "\n",
       "    .dataframe tbody tr th {\n",
       "        vertical-align: top;\n",
       "    }\n",
       "\n",
       "    .dataframe thead th {\n",
       "        text-align: right;\n",
       "    }\n",
       "</style>\n",
       "<table border=\"1\" class=\"dataframe\">\n",
       "  <thead>\n",
       "    <tr style=\"text-align: right;\">\n",
       "      <th></th>\n",
       "      <th>month</th>\n",
       "      <th>RealWageBand</th>\n",
       "      <th>FTE</th>\n",
       "    </tr>\n",
       "  </thead>\n",
       "  <tbody>\n",
       "    <tr>\n",
       "      <th>1066</th>\n",
       "      <td>2019-03-01</td>\n",
       "      <td>[0.0, 400.0)</td>\n",
       "      <td>-779.178828</td>\n",
       "    </tr>\n",
       "    <tr>\n",
       "      <th>1067</th>\n",
       "      <td>2019-03-01</td>\n",
       "      <td>[102400.0, 204800.0)</td>\n",
       "      <td>4069.393816</td>\n",
       "    </tr>\n",
       "    <tr>\n",
       "      <th>1068</th>\n",
       "      <td>2019-03-01</td>\n",
       "      <td>[12800.0, 25600.0)</td>\n",
       "      <td>7987.286888</td>\n",
       "    </tr>\n",
       "    <tr>\n",
       "      <th>1069</th>\n",
       "      <td>2019-03-01</td>\n",
       "      <td>[1600.0, 3200.0)</td>\n",
       "      <td>-16926.331511</td>\n",
       "    </tr>\n",
       "    <tr>\n",
       "      <th>1070</th>\n",
       "      <td>2019-03-01</td>\n",
       "      <td>[1638400.0, 10000000.0)</td>\n",
       "      <td>-4.849344</td>\n",
       "    </tr>\n",
       "    <tr>\n",
       "      <th>...</th>\n",
       "      <td>...</td>\n",
       "      <td>...</td>\n",
       "      <td>...</td>\n",
       "    </tr>\n",
       "    <tr>\n",
       "      <th>1600</th>\n",
       "      <td>2022-02-01</td>\n",
       "      <td>[409600.0, 819200.0)</td>\n",
       "      <td>34.364707</td>\n",
       "    </tr>\n",
       "    <tr>\n",
       "      <th>1601</th>\n",
       "      <td>2022-02-01</td>\n",
       "      <td>[51200.0, 102400.0)</td>\n",
       "      <td>78.925483</td>\n",
       "    </tr>\n",
       "    <tr>\n",
       "      <th>1602</th>\n",
       "      <td>2022-02-01</td>\n",
       "      <td>[6400.0, 12800.0)</td>\n",
       "      <td>-10070.086425</td>\n",
       "    </tr>\n",
       "    <tr>\n",
       "      <th>1603</th>\n",
       "      <td>2022-02-01</td>\n",
       "      <td>[800.0, 1600.0)</td>\n",
       "      <td>-3088.432787</td>\n",
       "    </tr>\n",
       "    <tr>\n",
       "      <th>1604</th>\n",
       "      <td>2022-02-01</td>\n",
       "      <td>[819200.0, 1638400.0)</td>\n",
       "      <td>13.250872</td>\n",
       "    </tr>\n",
       "  </tbody>\n",
       "</table>\n",
       "<p>504 rows × 3 columns</p>\n",
       "</div>"
      ],
      "text/plain": [
       "           month             RealWageBand           FTE\n",
       "1066  2019-03-01             [0.0, 400.0)   -779.178828\n",
       "1067  2019-03-01     [102400.0, 204800.0)   4069.393816\n",
       "1068  2019-03-01       [12800.0, 25600.0)   7987.286888\n",
       "1069  2019-03-01         [1600.0, 3200.0) -16926.331511\n",
       "1070  2019-03-01  [1638400.0, 10000000.0)     -4.849344\n",
       "...          ...                      ...           ...\n",
       "1600  2022-02-01     [409600.0, 819200.0)     34.364707\n",
       "1601  2022-02-01      [51200.0, 102400.0)     78.925483\n",
       "1602  2022-02-01        [6400.0, 12800.0) -10070.086425\n",
       "1603  2022-02-01          [800.0, 1600.0)  -3088.432787\n",
       "1604  2022-02-01    [819200.0, 1638400.0)     13.250872\n",
       "\n",
       "[504 rows x 3 columns]"
      ]
     },
     "execution_count": 328,
     "metadata": {},
     "output_type": "execute_result"
    }
   ],
   "source": [
    "figDf.sort_values(['month','RealWageBand'])[-14*3*12:]"
   ]
  },
  {
   "cell_type": "code",
   "execution_count": null,
   "metadata": {},
   "outputs": [],
   "source": []
  }
 ],
 "metadata": {
  "kernelspec": {
   "display_name": "py3912",
   "language": "python",
   "name": "python3"
  },
  "language_info": {
   "codemirror_mode": {
    "name": "ipython",
    "version": 3
   },
   "file_extension": ".py",
   "mimetype": "text/x-python",
   "name": "python",
   "nbconvert_exporter": "python",
   "pygments_lexer": "ipython3",
   "version": "3.9.12"
  },
  "orig_nbformat": 4
 },
 "nbformat": 4,
 "nbformat_minor": 2
}
